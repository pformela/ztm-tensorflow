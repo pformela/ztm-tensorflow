{
  "nbformat": 4,
  "nbformat_minor": 0,
  "metadata": {
    "colab": {
      "provenance": []
    },
    "kernelspec": {
      "name": "python3",
      "display_name": "Python 3"
    },
    "language_info": {
      "name": "python"
    },
    "accelerator": "GPU",
    "gpuClass": "standard"
  },
  "cells": [
    {
      "cell_type": "markdown",
      "source": [
        "# Introduction to Convolutional Neural Networks and computer Vision with TensorFlow\n",
        "\n",
        "Computer vision is the practice of writing algorithms which can discover patterns in visual data. Such as the camera of a self-driving car recognizing the car in front."
      ],
      "metadata": {
        "id": "nepBJxR5mL6I"
      }
    },
    {
      "cell_type": "markdown",
      "source": [
        "## Get the data\n",
        "\n",
        "The image we're working with are from the Food101 dataset (101 classes of food): https://www.kaggle.com/datasets/dansbecker/food-101\n",
        "\n",
        "However, we've modified it to only use two classes (pizza & steak)."
      ],
      "metadata": {
        "id": "AAL76E_ZqKzq"
      }
    },
    {
      "cell_type": "code",
      "source": [
        "import zipfile\n",
        "\n",
        "!wget https://storage.googleapis.com/ztm_tf_course/food_vision/pizza_steak.zip\n",
        "\n",
        "# Unzip the downloaded file\n",
        "zip_ref = zipfile.ZipFile(\"pizza_steak.zip\")\n",
        "zip_ref.extractall()\n",
        "zip_ref.close()"
      ],
      "metadata": {
        "colab": {
          "base_uri": "https://localhost:8080/"
        },
        "id": "WtZ1e0H4qWNj",
        "outputId": "d2cfce1e-779b-468d-a09a-352727e49011"
      },
      "execution_count": 1,
      "outputs": [
        {
          "output_type": "stream",
          "name": "stdout",
          "text": [
            "--2023-03-28 15:27:45--  https://storage.googleapis.com/ztm_tf_course/food_vision/pizza_steak.zip\n",
            "Resolving storage.googleapis.com (storage.googleapis.com)... 173.194.202.128, 74.125.20.128, 108.177.98.128, ...\n",
            "Connecting to storage.googleapis.com (storage.googleapis.com)|173.194.202.128|:443... connected.\n",
            "HTTP request sent, awaiting response... 200 OK\n",
            "Length: 109540975 (104M) [application/zip]\n",
            "Saving to: ‘pizza_steak.zip’\n",
            "\n",
            "pizza_steak.zip     100%[===================>] 104.47M   184MB/s    in 0.6s    \n",
            "\n",
            "2023-03-28 15:27:46 (184 MB/s) - ‘pizza_steak.zip’ saved [109540975/109540975]\n",
            "\n"
          ]
        }
      ]
    },
    {
      "cell_type": "markdown",
      "source": [
        "## Inspect the data (become one with it)\n",
        "\n",
        "A very crucial step at the beginning of any machine learning project is becoming one with the data.\n",
        "\n",
        "And for a computer vision project... this usually means visualizing many samples of data."
      ],
      "metadata": {
        "id": "mss22RSorQ3F"
      }
    },
    {
      "cell_type": "code",
      "source": [
        "!ls pizza_steak/train"
      ],
      "metadata": {
        "colab": {
          "base_uri": "https://localhost:8080/"
        },
        "id": "LrQJJi4zsDDo",
        "outputId": "8f7378ad-3254-4657-dd3b-a0b51bca72c8"
      },
      "execution_count": 2,
      "outputs": [
        {
          "output_type": "stream",
          "name": "stdout",
          "text": [
            "pizza  steak\n"
          ]
        }
      ]
    },
    {
      "cell_type": "code",
      "source": [
        "import os\n",
        "\n",
        "# Waltk through pizza_steak dir and list number of files\n",
        "\n",
        "for dirpath, dirnames, filenames in os.walk(\"pizza_steak\"):\n",
        "  print(f\"There are {len(dirnames)} directories and {len(filenames)} images in the {dirpath}\")"
      ],
      "metadata": {
        "colab": {
          "base_uri": "https://localhost:8080/"
        },
        "id": "YwX0DBc6sNm6",
        "outputId": "9c1cd3de-04cc-4283-ce97-28d67c7b4f41"
      },
      "execution_count": 3,
      "outputs": [
        {
          "output_type": "stream",
          "name": "stdout",
          "text": [
            "There are 2 directories and 0 images in the pizza_steak\n",
            "There are 2 directories and 0 images in the pizza_steak/train\n",
            "There are 0 directories and 750 images in the pizza_steak/train/steak\n",
            "There are 0 directories and 750 images in the pizza_steak/train/pizza\n",
            "There are 2 directories and 0 images in the pizza_steak/test\n",
            "There are 0 directories and 250 images in the pizza_steak/test/steak\n",
            "There are 0 directories and 250 images in the pizza_steak/test/pizza\n"
          ]
        }
      ]
    },
    {
      "cell_type": "code",
      "source": [
        "# Another way to find out how many images are in a file\n",
        "num_steak_images_train = len(os.listdir(\"pizza_steak/train/steak\"))\n",
        "num_steak_images_train"
      ],
      "metadata": {
        "colab": {
          "base_uri": "https://localhost:8080/"
        },
        "id": "IL49X5VasiUX",
        "outputId": "251aa05c-5705-4ed8-bb74-2a941463d5df"
      },
      "execution_count": 4,
      "outputs": [
        {
          "output_type": "execute_result",
          "data": {
            "text/plain": [
              "750"
            ]
          },
          "metadata": {},
          "execution_count": 4
        }
      ]
    },
    {
      "cell_type": "markdown",
      "source": [
        "To visualize our images, first let's get the class names programatically."
      ],
      "metadata": {
        "id": "XkwzoCAFtGoT"
      }
    },
    {
      "cell_type": "code",
      "source": [
        "# Get the classnames programatically\n",
        "import pathlib\n",
        "import numpy as np\n",
        "\n",
        "data_dir = pathlib.Path(\"pizza_steak/train\")\n",
        "class_names = np.array(sorted([item.name for item in data_dir.glob(\"*\")])) # Created a list of class_names in subdirectory\n",
        "print(class_names)"
      ],
      "metadata": {
        "colab": {
          "base_uri": "https://localhost:8080/"
        },
        "id": "mc_RxfOntPJR",
        "outputId": "8450b9de-e86f-4d9d-9749-f8b7cae78f2c"
      },
      "execution_count": 5,
      "outputs": [
        {
          "output_type": "stream",
          "name": "stdout",
          "text": [
            "['pizza' 'steak']\n"
          ]
        }
      ]
    },
    {
      "cell_type": "code",
      "source": [
        "# Let's visualize our images\n",
        "import matplotlib.pyplot as plt\n",
        "import matplotlib.image as mpimg\n",
        "import random\n",
        "\n",
        "def view_random_image(target_dir, target_class):\n",
        "  # Setup the target directory (we'll view images)\n",
        "  target_folder = target_dir + target_class\n",
        "  \n",
        "  # Get a random image path\n",
        "  random_image = random.sample(os.listdir(target_folder), 1)\n",
        "  print(random_image)\n",
        "\n",
        "  # Read in the image and plot it using matplotlib\n",
        "  img = mpimg.imread(target_folder + \"/\" + random_image[0])\n",
        "  plt.imshow(img)\n",
        "  plt.title(target_class)\n",
        "  plt.axis(\"off\")\n",
        "\n",
        "  print(f\"Image shape: {img.shape}\") # show the shape of the image\n",
        "   \n",
        "  return img"
      ],
      "metadata": {
        "id": "uNC0VfPNtglM"
      },
      "execution_count": 6,
      "outputs": []
    },
    {
      "cell_type": "code",
      "source": [
        "# View a random image from the training dataset\n",
        "img = view_random_image(target_dir=\"pizza_steak/train/\",\n",
        "                        target_class=\"pizza\")"
      ],
      "metadata": {
        "colab": {
          "base_uri": "https://localhost:8080/",
          "height": 299
        },
        "id": "CN61GPPHuRe3",
        "outputId": "0eb8773f-ff29-49eb-8140-3734171251c5"
      },
      "execution_count": 7,
      "outputs": [
        {
          "output_type": "stream",
          "name": "stdout",
          "text": [
            "['3550805.jpg']\n",
            "Image shape: (512, 512, 3)\n"
          ]
        },
        {
          "output_type": "display_data",
          "data": {
            "text/plain": [
              "<Figure size 432x288 with 1 Axes>"
            ],
            "image/png": "[encoded data removed]"
          },
          "metadata": {
            "needs_background": "light"
          }
        }
      ]
    },
    {
      "cell_type": "code",
      "source": [
        "import tensorflow as tf\n",
        "tf.constant(img)"
      ],
      "metadata": {
        "colab": {
          "base_uri": "https://localhost:8080/"
        },
        "id": "k-ZD2Q9PukgZ",
        "outputId": "93f4a193-bc66-4042-d346-92e2601600b0"
      },
      "execution_count": 8,
      "outputs": [
        {
          "output_type": "execute_result",
          "data": {
            "text/plain": [
              "<tf.Tensor: shape=(512, 512, 3), dtype=uint8, numpy=\n",
              "array([[[ 36,  29,  23],\n",
              "        [ 32,  25,  19],\n",
              "        [ 31,  24,  18],\n",
              "        ...,\n",
              "        [ 30,  15,  18],\n",
              "        [ 32,  17,  20],\n",
              "        [ 36,  21,  24]],\n",
              "\n",
              "       [[ 34,  27,  21],\n",
              "        [ 33,  26,  20],\n",
              "        [ 33,  26,  20],\n",
              "        ...,\n",
              "        [ 31,  17,  17],\n",
              "        [ 31,  16,  19],\n",
              "        [ 33,  18,  21]],\n",
              "\n",
              "       [[ 33,  26,  20],\n",
              "        [ 33,  26,  20],\n",
              "        [ 34,  27,  21],\n",
              "        ...,\n",
              "        [ 34,  20,  20],\n",
              "        [ 32,  17,  20],\n",
              "        [ 32,  17,  20]],\n",
              "\n",
              "       ...,\n",
              "\n",
              "       [[176, 143, 126],\n",
              "        [174, 141, 122],\n",
              "        [175, 142, 123],\n",
              "        ...,\n",
              "        [225, 194, 176],\n",
              "        [226, 195, 177],\n",
              "        [228, 197, 179]],\n",
              "\n",
              "       [[183, 150, 133],\n",
              "        [179, 146, 129],\n",
              "        [177, 144, 127],\n",
              "        ...,\n",
              "        [227, 196, 178],\n",
              "        [227, 196, 178],\n",
              "        [228, 197, 179]],\n",
              "\n",
              "       [[192, 159, 142],\n",
              "        [186, 153, 136],\n",
              "        [180, 147, 130],\n",
              "        ...,\n",
              "        [230, 199, 181],\n",
              "        [230, 199, 181],\n",
              "        [231, 200, 182]]], dtype=uint8)>"
            ]
          },
          "metadata": {},
          "execution_count": 8
        }
      ]
    },
    {
      "cell_type": "code",
      "source": [
        "# View the image shape\n",
        "img.shape # returns width, height, colour channels"
      ],
      "metadata": {
        "colab": {
          "base_uri": "https://localhost:8080/"
        },
        "id": "E7HykkirvCKl",
        "outputId": "c2c510c7-a27f-416e-f363-6d3d6b794c79"
      },
      "execution_count": 9,
      "outputs": [
        {
          "output_type": "execute_result",
          "data": {
            "text/plain": [
              "(512, 512, 3)"
            ]
          },
          "metadata": {},
          "execution_count": 9
        }
      ]
    },
    {
      "cell_type": "code",
      "source": [
        "# Get all the pixel values between 0 & 1\n",
        "img / 255."
      ],
      "metadata": {
        "colab": {
          "base_uri": "https://localhost:8080/"
        },
        "id": "o2I6d4EjvYKE",
        "outputId": "b1a587c2-ece8-40fd-91b5-7edb2f03ed31"
      },
      "execution_count": 10,
      "outputs": [
        {
          "output_type": "execute_result",
          "data": {
            "text/plain": [
              "array([[[0.14117647, 0.11372549, 0.09019608],\n",
              "        [0.1254902 , 0.09803922, 0.0745098 ],\n",
              "        [0.12156863, 0.09411765, 0.07058824],\n",
              "        ...,\n",
              "        [0.11764706, 0.05882353, 0.07058824],\n",
              "        [0.1254902 , 0.06666667, 0.07843137],\n",
              "        [0.14117647, 0.08235294, 0.09411765]],\n",
              "\n",
              "       [[0.13333333, 0.10588235, 0.08235294],\n",
              "        [0.12941176, 0.10196078, 0.07843137],\n",
              "        [0.12941176, 0.10196078, 0.07843137],\n",
              "        ...,\n",
              "        [0.12156863, 0.06666667, 0.06666667],\n",
              "        [0.12156863, 0.0627451 , 0.0745098 ],\n",
              "        [0.12941176, 0.07058824, 0.08235294]],\n",
              "\n",
              "       [[0.12941176, 0.10196078, 0.07843137],\n",
              "        [0.12941176, 0.10196078, 0.07843137],\n",
              "        [0.13333333, 0.10588235, 0.08235294],\n",
              "        ...,\n",
              "        [0.13333333, 0.07843137, 0.07843137],\n",
              "        [0.1254902 , 0.06666667, 0.07843137],\n",
              "        [0.1254902 , 0.06666667, 0.07843137]],\n",
              "\n",
              "       ...,\n",
              "\n",
              "       [[0.69019608, 0.56078431, 0.49411765],\n",
              "        [0.68235294, 0.55294118, 0.47843137],\n",
              "        [0.68627451, 0.55686275, 0.48235294],\n",
              "        ...,\n",
              "        [0.88235294, 0.76078431, 0.69019608],\n",
              "        [0.88627451, 0.76470588, 0.69411765],\n",
              "        [0.89411765, 0.77254902, 0.70196078]],\n",
              "\n",
              "       [[0.71764706, 0.58823529, 0.52156863],\n",
              "        [0.70196078, 0.57254902, 0.50588235],\n",
              "        [0.69411765, 0.56470588, 0.49803922],\n",
              "        ...,\n",
              "        [0.89019608, 0.76862745, 0.69803922],\n",
              "        [0.89019608, 0.76862745, 0.69803922],\n",
              "        [0.89411765, 0.77254902, 0.70196078]],\n",
              "\n",
              "       [[0.75294118, 0.62352941, 0.55686275],\n",
              "        [0.72941176, 0.6       , 0.53333333],\n",
              "        [0.70588235, 0.57647059, 0.50980392],\n",
              "        ...,\n",
              "        [0.90196078, 0.78039216, 0.70980392],\n",
              "        [0.90196078, 0.78039216, 0.70980392],\n",
              "        [0.90588235, 0.78431373, 0.71372549]]])"
            ]
          },
          "metadata": {},
          "execution_count": 10
        }
      ]
    },
    {
      "cell_type": "markdown",
      "source": [
        "## An end-to-end example\n",
        "\n",
        "Let's build a convolutional neural network to find patterns in our images, more specifically we need a way to:\n",
        "\n",
        "* Load our images\n",
        "* Preprocess our images\n",
        "* Build a CNN to find patterns in our images\n",
        "* Compile our CNN\n",
        "* Fit the CNN to our training data"
      ],
      "metadata": {
        "id": "xSuk8YxVvycm"
      }
    },
    {
      "cell_type": "code",
      "source": [
        "import tensorflow as tf\n",
        "from tensorflow.keras.preprocessing.image import ImageDataGenerator\n",
        "\n",
        "# Set the seed\n",
        "tf.random.set_seed(42)\n",
        "\n",
        "# Preprocess daat (get all the pixel values between 0 & 1 - normalization/scaling)\n",
        "train_datagen = ImageDataGenerator(rescale=1./255)\n",
        "valid_datagen = ImageDataGenerator(rescale=1./255)\n",
        "\n",
        "# Setup paths to our data directories\n",
        "train_dir = \"/content/pizza_steak/train\"\n",
        "test_dir = \"/content/pizza_steak/test\"\n",
        "\n",
        "# Import data fro directories and turn it into batches\n",
        "train_data = train_datagen.flow_from_directory(directory=train_dir,\n",
        "                                               batch_size=32,\n",
        "                                               target_size=(224, 224),\n",
        "                                               class_mode=\"binary\",\n",
        "                                               seed=42)\n",
        "\n",
        "valid_data = valid_datagen.flow_from_directory(directory=test_dir,\n",
        "                                               batch_size=32,\n",
        "                                               target_size=(224, 224),\n",
        "                                               class_mode=\"binary\",\n",
        "                                               seed=42)\n",
        "\n",
        "# Build a CNN model (same as the Tiny VGG on the CNN explainer website)\n",
        "model_1 = tf.keras.models.Sequential([\n",
        "    tf.keras.layers.Conv2D(filters=10,\n",
        "                           kernel_size=3,\n",
        "                           activation=\"relu\",\n",
        "                           input_shape=(224, 224, 3)),\n",
        "    tf.keras.layers.Conv2D(10, 3, activation=\"relu\"), # same as the one above\n",
        "    tf.keras.layers.MaxPool2D(pool_size=2,\n",
        "                              padding=\"valid\"),\n",
        "    tf.keras.layers.Conv2D(10, 3, activation=\"relu\"),\n",
        "    tf.keras.layers.Conv2D(10, 3, activation=\"relu\"),\n",
        "    tf.keras.layers.MaxPool2D(pool_size=2,\n",
        "                              padding=\"valid\"),\n",
        "    tf.keras.layers.Flatten(),\n",
        "    tf.keras.layers.Dense(1, activation=\"sigmoid\")\n",
        "])\n",
        "\n",
        "# Compile our CNN\n",
        "model_1.compile(loss=tf.keras.losses.BinaryCrossentropy(),\n",
        "                optimizer=tf.keras.optimizers.Adam(),\n",
        "                metrics=[\"accuracy\"])\n",
        "\n",
        "# Fit the model\n",
        "history_1 = model_1.fit(train_data,\n",
        "                        epochs=5,\n",
        "                        steps_per_epoch=len(train_data),\n",
        "                        validation_data=valid_data,\n",
        "                        validation_steps=len(valid_data))"
      ],
      "metadata": {
        "colab": {
          "base_uri": "https://localhost:8080/"
        },
        "id": "31X8HAWSwecK",
        "outputId": "09304f85-ba06-4fe6-a0ed-62963e9a03af"
      },
      "execution_count": 11,
      "outputs": [
        {
          "output_type": "stream",
          "name": "stdout",
          "text": [
            "Found 1500 images belonging to 2 classes.\n",
            "Found 500 images belonging to 2 classes.\n",
            "Epoch 1/5\n",
            "47/47 [==============================] - 24s 248ms/step - loss: 0.5743 - accuracy: 0.6880 - val_loss: 0.3965 - val_accuracy: 0.8320\n",
            "Epoch 2/5\n",
            "47/47 [==============================] - 10s 202ms/step - loss: 0.4423 - accuracy: 0.8127 - val_loss: 0.3667 - val_accuracy: 0.8500\n",
            "Epoch 3/5\n",
            "47/47 [==============================] - 11s 232ms/step - loss: 0.4034 - accuracy: 0.8280 - val_loss: 0.3365 - val_accuracy: 0.8660\n",
            "Epoch 4/5\n",
            "47/47 [==============================] - 12s 254ms/step - loss: 0.4170 - accuracy: 0.8193 - val_loss: 0.3279 - val_accuracy: 0.8700\n",
            "Epoch 5/5\n",
            "47/47 [==============================] - 11s 232ms/step - loss: 0.3669 - accuracy: 0.8440 - val_loss: 0.3017 - val_accuracy: 0.8800\n"
          ]
        }
      ]
    },
    {
      "cell_type": "code",
      "source": [
        "# Epoch 1/5\n",
        "# 47/47 [==============================] - 147s 3s/step - loss: 0.5660 - accuracy: 0.7047 - val_loss: 0.4572 - val_accuracy: 0.8060\n"
      ],
      "metadata": {
        "id": "LoWmjzGV1Fwl"
      },
      "execution_count": 37,
      "outputs": []
    },
    {
      "cell_type": "code",
      "source": [
        "model_1.summary()"
      ],
      "metadata": {
        "colab": {
          "base_uri": "https://localhost:8080/"
        },
        "id": "AJbpBk5LzR3a",
        "outputId": "24728724-0946-4afb-f163-59d9643f2adb"
      },
      "execution_count": 35,
      "outputs": [
        {
          "output_type": "stream",
          "name": "stdout",
          "text": [
            "Model: \"sequential_4\"\n",
            "_________________________________________________________________\n",
            " Layer (type)                Output Shape              Param #   \n",
            "=================================================================\n",
            " conv2d_16 (Conv2D)          (None, 222, 222, 10)      280       \n",
            "                                                                 \n",
            " conv2d_17 (Conv2D)          (None, 220, 220, 10)      910       \n",
            "                                                                 \n",
            " max_pooling2d_8 (MaxPooling  (None, 110, 110, 10)     0         \n",
            " 2D)                                                             \n",
            "                                                                 \n",
            " conv2d_18 (Conv2D)          (None, 108, 108, 10)      910       \n",
            "                                                                 \n",
            " conv2d_19 (Conv2D)          (None, 106, 106, 10)      910       \n",
            "                                                                 \n",
            " max_pooling2d_9 (MaxPooling  (None, 53, 53, 10)       0         \n",
            " 2D)                                                             \n",
            "                                                                 \n",
            " flatten (Flatten)           (None, 28090)             0         \n",
            "                                                                 \n",
            " dense_4 (Dense)             (None, 1)                 28091     \n",
            "                                                                 \n",
            "=================================================================\n",
            "Total params: 31,101\n",
            "Trainable params: 31,101\n",
            "Non-trainable params: 0\n",
            "_________________________________________________________________\n"
          ]
        }
      ]
    },
    {
      "cell_type": "markdown",
      "source": [
        "## Using the same model as before\n",
        "\n",
        "Let's replicate the model we've built in a previous section to see if it works with our image data"
      ],
      "metadata": {
        "id": "cpERh8h_z1Mm"
      }
    },
    {
      "cell_type": "code",
      "source": [
        "# Set random seed\n",
        "tf.random.set_seed(42)\n",
        "\n",
        "# Create a model\n",
        "model_2 = tf.keras.Sequential([\n",
        "    tf.keras.layers.Flatten(input_shape=(224, 224, 3)),\n",
        "    tf.keras.layers.Dense(4, activation=\"relu\"),\n",
        "    tf.keras.layers.Dense(4, activation=\"relu\"),\n",
        "    tf.keras.layers.Dense(1, activation=\"sigmoid\"),\n",
        "])\n",
        "\n",
        "# Compile the model\n",
        "model_2.compile(loss=tf.keras.losses.BinaryCrossentropy(),\n",
        "                optimizer=tf.keras.optimizers.Adam(),\n",
        "                metrics=[\"accuracy\"])\n",
        "\n",
        "# Fit the model\n",
        "history = model_2.fit(train_data,\n",
        "                      epochs=5,\n",
        "                      steps_per_epoch=len(train_data),\n",
        "                      validation_data=valid_data,\n",
        "                      validation_steps=len(valid_data))"
      ],
      "metadata": {
        "colab": {
          "base_uri": "https://localhost:8080/"
        },
        "id": "XAJRJRKl2-84",
        "outputId": "93848c50-fbb1-46b6-f563-6de77d0fb230"
      },
      "execution_count": 12,
      "outputs": [
        {
          "output_type": "stream",
          "name": "stdout",
          "text": [
            "Epoch 1/5\n",
            "47/47 [==============================] - 12s 218ms/step - loss: 0.6932 - accuracy: 0.4973 - val_loss: 0.6931 - val_accuracy: 0.5000\n",
            "Epoch 2/5\n",
            "47/47 [==============================] - 10s 218ms/step - loss: 0.6932 - accuracy: 0.5000 - val_loss: 0.6931 - val_accuracy: 0.5000\n",
            "Epoch 3/5\n",
            "47/47 [==============================] - 9s 195ms/step - loss: 0.6932 - accuracy: 0.5000 - val_loss: 0.6931 - val_accuracy: 0.5000\n",
            "Epoch 4/5\n",
            "47/47 [==============================] - 10s 221ms/step - loss: 0.6932 - accuracy: 0.5000 - val_loss: 0.6931 - val_accuracy: 0.5000\n",
            "Epoch 5/5\n",
            "47/47 [==============================] - 12s 249ms/step - loss: 0.6932 - accuracy: 0.4693 - val_loss: 0.6931 - val_accuracy: 0.5020\n"
          ]
        }
      ]
    },
    {
      "cell_type": "code",
      "source": [
        "# Get a summary of model_2\n",
        "model_2.summary()"
      ],
      "metadata": {
        "colab": {
          "base_uri": "https://localhost:8080/"
        },
        "id": "4KH-ipM432aJ",
        "outputId": "9930caf4-3aa7-4702-85ef-244935f0b4db"
      },
      "execution_count": 13,
      "outputs": [
        {
          "output_type": "stream",
          "name": "stdout",
          "text": [
            "Model: \"sequential_1\"\n",
            "_________________________________________________________________\n",
            " Layer (type)                Output Shape              Param #   \n",
            "=================================================================\n",
            " flatten_1 (Flatten)         (None, 150528)            0         \n",
            "                                                                 \n",
            " dense_1 (Dense)             (None, 4)                 602116    \n",
            "                                                                 \n",
            " dense_2 (Dense)             (None, 4)                 20        \n",
            "                                                                 \n",
            " dense_3 (Dense)             (None, 1)                 5         \n",
            "                                                                 \n",
            "=================================================================\n",
            "Total params: 602,141\n",
            "Trainable params: 602,141\n",
            "Non-trainable params: 0\n",
            "_________________________________________________________________\n"
          ]
        }
      ]
    },
    {
      "cell_type": "markdown",
      "source": [
        "Despite having 20x more parameters than our CNN (model_1), our model performs terribly, let's try improving it"
      ],
      "metadata": {
        "id": "eERXketA4W4p"
      }
    },
    {
      "cell_type": "code",
      "source": [
        "# Set the random seed\n",
        "tf.random.set_seed(42)\n",
        "\n",
        "# Create the model \n",
        "model_3 = tf.keras.Sequential([\n",
        "    tf.keras.layers.Flatten(input_shape=(224, 224, 3)),\n",
        "    tf.keras.layers.Dense(100, activation=\"relu\"),\n",
        "    tf.keras.layers.Dense(100, activation=\"relu\"),\n",
        "    tf.keras.layers.Dense(100, activation=\"relu\"),\n",
        "    tf.keras.layers.Dense(1, activation=\"sigmoid\"),\n",
        "])\n",
        "\n",
        "# Compile the model\n",
        "model_3.compile(loss=tf.keras.losses.BinaryCrossentropy(),\n",
        "                optimizer=tf.keras.optimizers.Adam(),\n",
        "                metrics=[\"accuracy\"])\n",
        "\n",
        "# Fit the model\n",
        "history_3 = model_3.fit(train_data,\n",
        "                        epochs=5,\n",
        "                        steps_per_epoch=len(train_data),\n",
        "                        validation_data=valid_data,\n",
        "                        validation_steps=len(valid_data))"
      ],
      "metadata": {
        "colab": {
          "base_uri": "https://localhost:8080/"
        },
        "id": "bNjBx7Lq4tQy",
        "outputId": "da676129-fc58-46eb-a3cf-01740d78c6e0"
      },
      "execution_count": 17,
      "outputs": [
        {
          "output_type": "stream",
          "name": "stdout",
          "text": [
            "Epoch 1/5\n",
            "47/47 [==============================] - 12s 219ms/step - loss: 2.5253 - accuracy: 0.6373 - val_loss: 0.6312 - val_accuracy: 0.7100\n",
            "Epoch 2/5\n",
            "47/47 [==============================] - 12s 255ms/step - loss: 0.8219 - accuracy: 0.6887 - val_loss: 1.4178 - val_accuracy: 0.6180\n",
            "Epoch 3/5\n",
            "47/47 [==============================] - 9s 196ms/step - loss: 0.6746 - accuracy: 0.7333 - val_loss: 0.8548 - val_accuracy: 0.6500\n",
            "Epoch 4/5\n",
            "47/47 [==============================] - 9s 194ms/step - loss: 0.6901 - accuracy: 0.7260 - val_loss: 0.4700 - val_accuracy: 0.7620\n",
            "Epoch 5/5\n",
            "47/47 [==============================] - 13s 282ms/step - loss: 0.4781 - accuracy: 0.7800 - val_loss: 0.4971 - val_accuracy: 0.7640\n"
          ]
        }
      ]
    },
    {
      "cell_type": "code",
      "source": [
        "# Get a summary of model_3\n",
        "model_3.summary() # this one is really bad in comparison with first model"
      ],
      "metadata": {
        "colab": {
          "base_uri": "https://localhost:8080/"
        },
        "id": "M_kn4xf25L-X",
        "outputId": "d18b9811-106a-4cd4-aaa8-d2a485a8f783"
      },
      "execution_count": 18,
      "outputs": [
        {
          "output_type": "stream",
          "name": "stdout",
          "text": [
            "Model: \"sequential_5\"\n",
            "_________________________________________________________________\n",
            " Layer (type)                Output Shape              Param #   \n",
            "=================================================================\n",
            " flatten_5 (Flatten)         (None, 150528)            0         \n",
            "                                                                 \n",
            " dense_16 (Dense)            (None, 100)               15052900  \n",
            "                                                                 \n",
            " dense_17 (Dense)            (None, 100)               10100     \n",
            "                                                                 \n",
            " dense_18 (Dense)            (None, 100)               10100     \n",
            "                                                                 \n",
            " dense_19 (Dense)            (None, 1)                 101       \n",
            "                                                                 \n",
            "=================================================================\n",
            "Total params: 15,073,201\n",
            "Trainable params: 15,073,201\n",
            "Non-trainable params: 0\n",
            "_________________________________________________________________\n"
          ]
        }
      ]
    },
    {
      "cell_type": "code",
      "source": [],
      "metadata": {
        "id": "9cDXAKUM5tLI"
      },
      "execution_count": null,
      "outputs": []
    }
  ]
}