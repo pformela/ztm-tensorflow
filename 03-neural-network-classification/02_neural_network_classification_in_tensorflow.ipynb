{
  "nbformat": 4,
  "nbformat_minor": 0,
  "metadata": {
    "colab": {
      "provenance": []
    },
    "kernelspec": {
      "name": "python3",
      "display_name": "Python 3"
    },
    "language_info": {
      "name": "python"
    }
  },
  "cells": [
    {
      "cell_type": "markdown",
      "source": [
        "# Introduction to neural network classification with \n",
        "\n",
        "In this notebook we're going to learn how to write neural networks for classification problems\n",
        "\n",
        "A classification is where you try to classify something as one thing or another.\n",
        "\n",
        "A few types of classification problems:\n",
        "* Binary classification\n",
        "* Multiclass classification\n",
        "* Multilabel classification"
      ],
      "metadata": {
        "id": "jrWEI6d0Aiej"
      }
    },
    {
      "cell_type": "markdown",
      "source": [
        "## Creating data to view and fit"
      ],
      "metadata": {
        "id": "gF4-pmavm5Tp"
      }
    },
    {
      "cell_type": "code",
      "source": [
        "from sklearn.datasets import make_circles\n",
        "\n",
        "# Make 1000 examples\n",
        "n_samples = 1000\n",
        "\n",
        "# Create circles\n",
        "X, y = make_circles(n_samples,\n",
        "                    noise = 0.03,\n",
        "                    random_state=42)"
      ],
      "metadata": {
        "id": "WGhNR-NqnAvf"
      },
      "execution_count": 1,
      "outputs": []
    },
    {
      "cell_type": "code",
      "source": [
        "# Check out the features\n",
        "X"
      ],
      "metadata": {
        "colab": {
          "base_uri": "https://localhost:8080/"
        },
        "id": "bGdLA6YunXA5",
        "outputId": "8146fc62-f307-4451-d8fa-ff8d45eda5ba"
      },
      "execution_count": 2,
      "outputs": [
        {
          "output_type": "execute_result",
          "data": {
            "text/plain": [
              "array([[ 0.75424625,  0.23148074],\n",
              "       [-0.75615888,  0.15325888],\n",
              "       [-0.81539193,  0.17328203],\n",
              "       ...,\n",
              "       [-0.13690036, -0.81001183],\n",
              "       [ 0.67036156, -0.76750154],\n",
              "       [ 0.28105665,  0.96382443]])"
            ]
          },
          "metadata": {},
          "execution_count": 2
        }
      ]
    },
    {
      "cell_type": "code",
      "source": [
        "# Check the labels\n",
        "y"
      ],
      "metadata": {
        "colab": {
          "base_uri": "https://localhost:8080/"
        },
        "id": "6GaRVBuOnaAI",
        "outputId": "170f48c9-94c2-4a0e-a11f-e864ac49da15"
      },
      "execution_count": 3,
      "outputs": [
        {
          "output_type": "execute_result",
          "data": {
            "text/plain": [
              "array([1, 1, 1, 1, 0, 1, 1, 1, 1, 0, 1, 0, 1, 1, 1, 1, 0, 1, 1, 0, 1, 0,\n",
              "       0, 1, 0, 0, 0, 1, 1, 1, 0, 0, 1, 0, 0, 0, 1, 1, 1, 0, 0, 0, 0, 1,\n",
              "       0, 0, 1, 1, 0, 1, 1, 1, 0, 1, 0, 0, 1, 0, 0, 1, 0, 0, 1, 0, 1, 1,\n",
              "       1, 1, 0, 1, 0, 0, 1, 1, 0, 0, 1, 0, 1, 0, 1, 0, 0, 0, 0, 1, 1, 1,\n",
              "       1, 0, 0, 0, 1, 0, 1, 0, 1, 0, 0, 1, 1, 0, 1, 0, 1, 1, 1, 1, 0, 1,\n",
              "       1, 1, 1, 1, 0, 0, 0, 1, 1, 0, 1, 0, 1, 0, 0, 1, 1, 0, 1, 1, 1, 1,\n",
              "       0, 1, 1, 0, 0, 0, 0, 0, 0, 0, 1, 0, 1, 1, 1, 0, 1, 0, 1, 0, 1, 0,\n",
              "       1, 0, 0, 1, 0, 1, 1, 1, 1, 1, 1, 1, 0, 1, 0, 0, 0, 0, 0, 1, 0, 0,\n",
              "       0, 0, 1, 1, 0, 1, 0, 1, 1, 0, 0, 0, 1, 1, 1, 1, 1, 0, 0, 0, 0, 0,\n",
              "       1, 0, 0, 1, 1, 1, 1, 1, 0, 1, 0, 1, 0, 0, 1, 1, 1, 0, 1, 0, 1, 1,\n",
              "       0, 1, 1, 0, 1, 0, 1, 0, 1, 1, 0, 1, 0, 1, 0, 0, 0, 1, 0, 0, 0, 0,\n",
              "       1, 1, 0, 0, 0, 0, 0, 0, 0, 1, 1, 1, 0, 0, 1, 1, 1, 0, 1, 0, 0, 0,\n",
              "       0, 1, 1, 0, 1, 0, 0, 0, 1, 0, 1, 0, 0, 1, 0, 1, 1, 1, 0, 0, 0, 1,\n",
              "       0, 0, 0, 1, 1, 1, 1, 0, 0, 0, 1, 0, 0, 0, 1, 0, 0, 0, 1, 1, 0, 1,\n",
              "       1, 1, 1, 1, 1, 1, 0, 0, 0, 0, 1, 0, 0, 0, 0, 1, 1, 1, 0, 0, 1, 0,\n",
              "       1, 0, 1, 1, 0, 0, 1, 1, 1, 1, 0, 0, 0, 0, 0, 0, 1, 1, 0, 1, 0, 0,\n",
              "       1, 0, 0, 0, 0, 0, 0, 0, 0, 1, 0, 0, 0, 0, 1, 0, 0, 1, 0, 1, 0, 0,\n",
              "       0, 1, 0, 0, 1, 1, 0, 0, 1, 0, 0, 1, 1, 0, 1, 1, 0, 0, 1, 0, 1, 0,\n",
              "       0, 0, 1, 1, 0, 0, 1, 1, 1, 1, 1, 0, 0, 1, 1, 1, 1, 0, 1, 1, 1, 1,\n",
              "       1, 0, 0, 1, 0, 1, 0, 0, 0, 0, 1, 0, 0, 0, 0, 0, 0, 0, 0, 0, 1, 1,\n",
              "       0, 1, 1, 1, 1, 1, 1, 0, 1, 1, 1, 1, 0, 0, 0, 1, 1, 1, 0, 0, 0, 0,\n",
              "       1, 1, 0, 0, 0, 0, 1, 0, 0, 0, 1, 0, 0, 1, 1, 1, 1, 1, 1, 0, 0, 0,\n",
              "       1, 0, 0, 0, 0, 0, 1, 1, 1, 0, 0, 0, 0, 0, 1, 1, 1, 0, 0, 1, 1, 1,\n",
              "       1, 0, 1, 1, 0, 1, 0, 0, 0, 1, 0, 0, 1, 0, 0, 1, 1, 0, 0, 1, 1, 0,\n",
              "       1, 0, 1, 0, 1, 0, 1, 0, 0, 0, 1, 0, 0, 0, 0, 0, 0, 1, 1, 1, 1, 0,\n",
              "       0, 0, 1, 0, 1, 1, 0, 0, 0, 0, 0, 1, 1, 1, 0, 0, 1, 0, 0, 1, 0, 0,\n",
              "       1, 0, 0, 1, 0, 0, 0, 1, 0, 0, 1, 1, 1, 0, 1, 1, 0, 0, 0, 1, 1, 1,\n",
              "       1, 0, 0, 1, 1, 1, 0, 0, 0, 0, 1, 1, 0, 0, 1, 1, 0, 0, 1, 1, 1, 1,\n",
              "       1, 1, 1, 0, 1, 0, 1, 0, 0, 1, 0, 1, 1, 1, 1, 0, 0, 1, 1, 0, 0, 1,\n",
              "       0, 1, 0, 0, 0, 1, 0, 0, 1, 1, 1, 1, 0, 1, 1, 1, 1, 1, 1, 1, 0, 1,\n",
              "       0, 1, 1, 1, 0, 0, 1, 0, 0, 0, 1, 1, 1, 1, 0, 0, 0, 0, 1, 0, 1, 1,\n",
              "       1, 0, 1, 0, 0, 1, 0, 0, 1, 1, 1, 1, 1, 0, 1, 0, 0, 0, 1, 1, 1, 1,\n",
              "       1, 0, 0, 0, 1, 1, 1, 1, 0, 0, 0, 0, 0, 1, 1, 0, 1, 0, 1, 0, 0, 0,\n",
              "       0, 0, 0, 0, 0, 0, 1, 1, 1, 1, 1, 0, 1, 0, 1, 1, 1, 1, 0, 1, 1, 1,\n",
              "       1, 1, 1, 1, 1, 0, 1, 1, 0, 1, 0, 0, 0, 1, 0, 1, 1, 1, 0, 1, 1, 0,\n",
              "       1, 1, 0, 1, 0, 1, 1, 0, 0, 1, 1, 1, 0, 0, 0, 0, 1, 1, 0, 0, 1, 1,\n",
              "       1, 1, 1, 1, 1, 1, 1, 1, 1, 1, 1, 1, 0, 0, 1, 0, 1, 0, 1, 0, 1, 1,\n",
              "       1, 1, 1, 1, 0, 1, 0, 1, 1, 1, 0, 1, 1, 0, 0, 1, 0, 1, 1, 0, 0, 1,\n",
              "       1, 1, 1, 1, 1, 1, 1, 0, 1, 1, 1, 0, 1, 0, 0, 1, 1, 0, 0, 0, 1, 0,\n",
              "       0, 1, 0, 0, 0, 1, 0, 1, 0, 0, 0, 0, 1, 0, 1, 1, 1, 1, 0, 1, 0, 0,\n",
              "       0, 0, 0, 0, 1, 0, 1, 0, 1, 0, 1, 1, 1, 0, 1, 0, 1, 0, 0, 1, 1, 1,\n",
              "       0, 0, 0, 1, 1, 0, 1, 0, 1, 1, 0, 1, 0, 0, 1, 1, 1, 0, 0, 0, 1, 1,\n",
              "       0, 0, 0, 0, 0, 1, 1, 0, 1, 0, 0, 0, 1, 0, 0, 0, 1, 1, 1, 1, 0, 1,\n",
              "       1, 1, 0, 1, 1, 1, 1, 0, 1, 1, 0, 1, 1, 0, 0, 1, 1, 1, 0, 0, 0, 0,\n",
              "       0, 0, 1, 0, 0, 1, 0, 0, 0, 1, 0, 1, 0, 1, 1, 0, 0, 0, 0, 0, 0, 0,\n",
              "       0, 1, 0, 1, 0, 0, 0, 1, 0, 0])"
            ]
          },
          "metadata": {},
          "execution_count": 3
        }
      ]
    },
    {
      "cell_type": "markdown",
      "source": [
        "Our data is a little hard to understand right now... let's visualize it!"
      ],
      "metadata": {
        "id": "hwTVydmSnb86"
      }
    },
    {
      "cell_type": "code",
      "source": [
        "import pandas as pd\n",
        "circles = pd.DataFrame({\"X0\": X[:, 0], \"X1\": X[:, 1], \"label\": y})\n",
        "circles"
      ],
      "metadata": {
        "colab": {
          "base_uri": "https://localhost:8080/",
          "height": 423
        },
        "id": "PLD_J0Bdnxrp",
        "outputId": "0a2fc057-eb7c-45f4-9430-3a11c8f0e773"
      },
      "execution_count": 4,
      "outputs": [
        {
          "output_type": "execute_result",
          "data": {
            "text/plain": [
              "           X0        X1  label\n",
              "0    0.754246  0.231481      1\n",
              "1   -0.756159  0.153259      1\n",
              "2   -0.815392  0.173282      1\n",
              "3   -0.393731  0.692883      1\n",
              "4    0.442208 -0.896723      0\n",
              "..        ...       ...    ...\n",
              "995  0.244054  0.944125      0\n",
              "996 -0.978655 -0.272373      0\n",
              "997 -0.136900 -0.810012      1\n",
              "998  0.670362 -0.767502      0\n",
              "999  0.281057  0.963824      0\n",
              "\n",
              "[1000 rows x 3 columns]"
            ],
            "text/html": [
              "\n",
              "  <div id=\"df-2db81eef-c7ab-4c37-af69-7ebe6de4ca9b\">\n",
              "    <div class=\"colab-df-container\">\n",
              "      <div>\n",
              "<style scoped>\n",
              "    .dataframe tbody tr th:only-of-type {\n",
              "        vertical-align: middle;\n",
              "    }\n",
              "\n",
              "    .dataframe tbody tr th {\n",
              "        vertical-align: top;\n",
              "    }\n",
              "\n",
              "    .dataframe thead th {\n",
              "        text-align: right;\n",
              "    }\n",
              "</style>\n",
              "<table border=\"1\" class=\"dataframe\">\n",
              "  <thead>\n",
              "    <tr style=\"text-align: right;\">\n",
              "      <th></th>\n",
              "      <th>X0</th>\n",
              "      <th>X1</th>\n",
              "      <th>label</th>\n",
              "    </tr>\n",
              "  </thead>\n",
              "  <tbody>\n",
              "    <tr>\n",
              "      <th>0</th>\n",
              "      <td>0.754246</td>\n",
              "      <td>0.231481</td>\n",
              "      <td>1</td>\n",
              "    </tr>\n",
              "    <tr>\n",
              "      <th>1</th>\n",
              "      <td>-0.756159</td>\n",
              "      <td>0.153259</td>\n",
              "      <td>1</td>\n",
              "    </tr>\n",
              "    <tr>\n",
              "      <th>2</th>\n",
              "      <td>-0.815392</td>\n",
              "      <td>0.173282</td>\n",
              "      <td>1</td>\n",
              "    </tr>\n",
              "    <tr>\n",
              "      <th>3</th>\n",
              "      <td>-0.393731</td>\n",
              "      <td>0.692883</td>\n",
              "      <td>1</td>\n",
              "    </tr>\n",
              "    <tr>\n",
              "      <th>4</th>\n",
              "      <td>0.442208</td>\n",
              "      <td>-0.896723</td>\n",
              "      <td>0</td>\n",
              "    </tr>\n",
              "    <tr>\n",
              "      <th>...</th>\n",
              "      <td>...</td>\n",
              "      <td>...</td>\n",
              "      <td>...</td>\n",
              "    </tr>\n",
              "    <tr>\n",
              "      <th>995</th>\n",
              "      <td>0.244054</td>\n",
              "      <td>0.944125</td>\n",
              "      <td>0</td>\n",
              "    </tr>\n",
              "    <tr>\n",
              "      <th>996</th>\n",
              "      <td>-0.978655</td>\n",
              "      <td>-0.272373</td>\n",
              "      <td>0</td>\n",
              "    </tr>\n",
              "    <tr>\n",
              "      <th>997</th>\n",
              "      <td>-0.136900</td>\n",
              "      <td>-0.810012</td>\n",
              "      <td>1</td>\n",
              "    </tr>\n",
              "    <tr>\n",
              "      <th>998</th>\n",
              "      <td>0.670362</td>\n",
              "      <td>-0.767502</td>\n",
              "      <td>0</td>\n",
              "    </tr>\n",
              "    <tr>\n",
              "      <th>999</th>\n",
              "      <td>0.281057</td>\n",
              "      <td>0.963824</td>\n",
              "      <td>0</td>\n",
              "    </tr>\n",
              "  </tbody>\n",
              "</table>\n",
              "<p>1000 rows × 3 columns</p>\n",
              "</div>\n",
              "      <button class=\"colab-df-convert\" onclick=\"convertToInteractive('df-2db81eef-c7ab-4c37-af69-7ebe6de4ca9b')\"\n",
              "              title=\"Convert this dataframe to an interactive table.\"\n",
              "              style=\"display:none;\">\n",
              "        \n",
              "  <svg xmlns=\"http://www.w3.org/2000/svg\" height=\"24px\"viewBox=\"0 0 24 24\"\n",
              "       width=\"24px\">\n",
              "    <path d=\"M0 0h24v24H0V0z\" fill=\"none\"/>\n",
              "    <path d=\"M18.56 5.44l.94 2.06.94-2.06 2.06-.94-2.06-.94-.94-2.06-.94 2.06-2.06.94zm-11 1L8.5 8.5l.94-2.06 2.06-.94-2.06-.94L8.5 2.5l-.94 2.06-2.06.94zm10 10l.94 2.06.94-2.06 2.06-.94-2.06-.94-.94-2.06-.94 2.06-2.06.94z\"/><path d=\"M17.41 7.96l-1.37-1.37c-.4-.4-.92-.59-1.43-.59-.52 0-1.04.2-1.43.59L10.3 9.45l-7.72 7.72c-.78.78-.78 2.05 0 2.83L4 21.41c.39.39.9.59 1.41.59.51 0 1.02-.2 1.41-.59l7.78-7.78 2.81-2.81c.8-.78.8-2.07 0-2.86zM5.41 20L4 18.59l7.72-7.72 1.47 1.35L5.41 20z\"/>\n",
              "  </svg>\n",
              "      </button>\n",
              "      \n",
              "  <style>\n",
              "    .colab-df-container {\n",
              "      display:flex;\n",
              "      flex-wrap:wrap;\n",
              "      gap: 12px;\n",
              "    }\n",
              "\n",
              "    .colab-df-convert {\n",
              "      background-color: #E8F0FE;\n",
              "      border: none;\n",
              "      border-radius: 50%;\n",
              "      cursor: pointer;\n",
              "      display: none;\n",
              "      fill: #1967D2;\n",
              "      height: 32px;\n",
              "      padding: 0 0 0 0;\n",
              "      width: 32px;\n",
              "    }\n",
              "\n",
              "    .colab-df-convert:hover {\n",
              "      background-color: #E2EBFA;\n",
              "      box-shadow: 0px 1px 2px rgba(60, 64, 67, 0.3), 0px 1px 3px 1px rgba(60, 64, 67, 0.15);\n",
              "      fill: #174EA6;\n",
              "    }\n",
              "\n",
              "    [theme=dark] .colab-df-convert {\n",
              "      background-color: #3B4455;\n",
              "      fill: #D2E3FC;\n",
              "    }\n",
              "\n",
              "    [theme=dark] .colab-df-convert:hover {\n",
              "      background-color: #434B5C;\n",
              "      box-shadow: 0px 1px 3px 1px rgba(0, 0, 0, 0.15);\n",
              "      filter: drop-shadow(0px 1px 2px rgba(0, 0, 0, 0.3));\n",
              "      fill: #FFFFFF;\n",
              "    }\n",
              "  </style>\n",
              "\n",
              "      <script>\n",
              "        const buttonEl =\n",
              "          document.querySelector('#df-2db81eef-c7ab-4c37-af69-7ebe6de4ca9b button.colab-df-convert');\n",
              "        buttonEl.style.display =\n",
              "          google.colab.kernel.accessAllowed ? 'block' : 'none';\n",
              "\n",
              "        async function convertToInteractive(key) {\n",
              "          const element = document.querySelector('#df-2db81eef-c7ab-4c37-af69-7ebe6de4ca9b');\n",
              "          const dataTable =\n",
              "            await google.colab.kernel.invokeFunction('convertToInteractive',\n",
              "                                                     [key], {});\n",
              "          if (!dataTable) return;\n",
              "\n",
              "          const docLinkHtml = 'Like what you see? Visit the ' +\n",
              "            '<a target=\"_blank\" href=https://colab.research.google.com/notebooks/data_table.ipynb>data table notebook</a>'\n",
              "            + ' to learn more about interactive tables.';\n",
              "          element.innerHTML = '';\n",
              "          dataTable['output_type'] = 'display_data';\n",
              "          await google.colab.output.renderOutput(dataTable, element);\n",
              "          const docLink = document.createElement('div');\n",
              "          docLink.innerHTML = docLinkHtml;\n",
              "          element.appendChild(docLink);\n",
              "        }\n",
              "      </script>\n",
              "    </div>\n",
              "  </div>\n",
              "  "
            ]
          },
          "metadata": {},
          "execution_count": 4
        }
      ]
    },
    {
      "cell_type": "code",
      "source": [
        "# Visualize with the plot\n",
        "import matplotlib.pyplot as plt\n",
        "\n",
        "plt.scatter(X[:, 0], X[:, 1], c=y, cmap=plt.cm.RdYlBu);"
      ],
      "metadata": {
        "colab": {
          "base_uri": "https://localhost:8080/",
          "height": 265
        },
        "id": "q2iCJsJQn96_",
        "outputId": "72f8aee6-6499-434c-910a-a7ef73fc0846"
      },
      "execution_count": 5,
      "outputs": [
        {
          "output_type": "display_data",
          "data": {
            "text/plain": [
              "<Figure size 432x288 with 1 Axes>"
            ],
            "image/png": "[encoded data removed]"
          },
          "metadata": {
            "needs_background": "light"
          }
        }
      ]
    },
    {
      "cell_type": "markdown",
      "source": [
        "## Input and output shapes"
      ],
      "metadata": {
        "id": "EQcQhGHOoPUp"
      }
    },
    {
      "cell_type": "code",
      "source": [
        "# Check the shapes of our features and labels\n",
        "X.shape, y.shape"
      ],
      "metadata": {
        "colab": {
          "base_uri": "https://localhost:8080/"
        },
        "id": "Xd1zKh10o8Uc",
        "outputId": "b78cbcb7-c93c-4871-8e7c-13ea1febf987"
      },
      "execution_count": 6,
      "outputs": [
        {
          "output_type": "execute_result",
          "data": {
            "text/plain": [
              "((1000, 2), (1000,))"
            ]
          },
          "metadata": {},
          "execution_count": 6
        }
      ]
    },
    {
      "cell_type": "code",
      "source": [
        "# How many samples we're working with\n",
        "len(X), len(y)"
      ],
      "metadata": {
        "colab": {
          "base_uri": "https://localhost:8080/"
        },
        "id": "gnAMZuIio_85",
        "outputId": "4737d094-43b9-41f1-e08f-be8ac1eef457"
      },
      "execution_count": 7,
      "outputs": [
        {
          "output_type": "execute_result",
          "data": {
            "text/plain": [
              "(1000, 1000)"
            ]
          },
          "metadata": {},
          "execution_count": 7
        }
      ]
    },
    {
      "cell_type": "code",
      "source": [
        "# View the first examples of features and labels\n",
        "X[0], y[0]"
      ],
      "metadata": {
        "colab": {
          "base_uri": "https://localhost:8080/"
        },
        "id": "qUsMI8CdpDqT",
        "outputId": "b8c5227e-0c7e-4f3c-c65f-a368ef190de7"
      },
      "execution_count": 8,
      "outputs": [
        {
          "output_type": "execute_result",
          "data": {
            "text/plain": [
              "(array([0.75424625, 0.23148074]), 1)"
            ]
          },
          "metadata": {},
          "execution_count": 8
        }
      ]
    },
    {
      "cell_type": "markdown",
      "source": [
        "## Steps in modelling\n",
        "\n",
        "The steps in modelling with TensorFlow are typically:\n",
        "\n",
        "1. Create or import a model\n",
        "2. Compile the model\n",
        "3. Fit the model\n",
        "4. Evaluate the model\n",
        "5. Tweak\n",
        "6. Evaluate.."
      ],
      "metadata": {
        "id": "E2iK1x3-pHDs"
      }
    },
    {
      "cell_type": "code",
      "source": [
        "import tensorflow as tf"
      ],
      "metadata": {
        "id": "nKgTIuGYqCgY"
      },
      "execution_count": 9,
      "outputs": []
    },
    {
      "cell_type": "code",
      "source": [
        "X_train, X_test, y_train, y_test = X[:800], X[800:], y[:800], y[800:]"
      ],
      "metadata": {
        "id": "seNDGue7qu4i"
      },
      "execution_count": 10,
      "outputs": []
    },
    {
      "cell_type": "code",
      "source": [
        "# Set random seed\n",
        "tf.random.set_seed(42)\n",
        "\n",
        "# Create the model\n",
        "model = tf.keras.Sequential([\n",
        "    tf.keras.layers.Dense(5, activation=\"relu\"),\n",
        "    tf.keras.layers.Dense(7, activation=\"relu\"),\n",
        "    tf.keras.layers.Dense(1, activation=\"sigmoid\"),\n",
        "])\n",
        "\n",
        "# Compile the model\n",
        "model.compile(loss=tf.keras.losses.BinaryCrossentropy(),\n",
        "              optimizer=tf.keras.optimizers.Adam(),\n",
        "              metrics=[\"accuracy\"])\n",
        "\n",
        "# Fit the model\n",
        "history = model.fit(X_train, \n",
        "                    y_train, \n",
        "                    epochs=200)"
      ],
      "metadata": {
        "id": "jLd-epLfpPsr",
        "colab": {
          "base_uri": "https://localhost:8080/"
        },
        "outputId": "0002ef99-a262-4a3e-894b-de6874c17b19"
      },
      "execution_count": 11,
      "outputs": [
        {
          "output_type": "stream",
          "name": "stdout",
          "text": [
            "Epoch 1/200\n",
            "25/25 [==============================] - 3s 9ms/step - loss: 0.7287 - accuracy: 0.4988\n",
            "Epoch 2/200\n",
            "25/25 [==============================] - 1s 21ms/step - loss: 0.7180 - accuracy: 0.4900\n",
            "Epoch 3/200\n",
            "25/25 [==============================] - 0s 6ms/step - loss: 0.7125 - accuracy: 0.4812\n",
            "Epoch 4/200\n",
            "25/25 [==============================] - 0s 8ms/step - loss: 0.7090 - accuracy: 0.4812\n",
            "Epoch 5/200\n",
            "25/25 [==============================] - 0s 7ms/step - loss: 0.7069 - accuracy: 0.4762\n",
            "Epoch 6/200\n",
            "25/25 [==============================] - 0s 10ms/step - loss: 0.7055 - accuracy: 0.3862\n",
            "Epoch 7/200\n",
            "25/25 [==============================] - 0s 6ms/step - loss: 0.7038 - accuracy: 0.3450\n",
            "Epoch 8/200\n",
            "25/25 [==============================] - 0s 10ms/step - loss: 0.7029 - accuracy: 0.3787\n",
            "Epoch 9/200\n",
            "25/25 [==============================] - 0s 13ms/step - loss: 0.7018 - accuracy: 0.3862\n",
            "Epoch 10/200\n",
            "25/25 [==============================] - 0s 8ms/step - loss: 0.7008 - accuracy: 0.3825\n",
            "Epoch 11/200\n",
            "25/25 [==============================] - 0s 13ms/step - loss: 0.6999 - accuracy: 0.3750\n",
            "Epoch 12/200\n",
            "25/25 [==============================] - 0s 7ms/step - loss: 0.6991 - accuracy: 0.3837\n",
            "Epoch 13/200\n",
            "25/25 [==============================] - 0s 5ms/step - loss: 0.6980 - accuracy: 0.3887\n",
            "Epoch 14/200\n",
            "25/25 [==============================] - 0s 13ms/step - loss: 0.6971 - accuracy: 0.3913\n",
            "Epoch 15/200\n",
            "25/25 [==============================] - 0s 12ms/step - loss: 0.6964 - accuracy: 0.4338\n",
            "Epoch 16/200\n",
            "25/25 [==============================] - 0s 7ms/step - loss: 0.6954 - accuracy: 0.4638\n",
            "Epoch 17/200\n",
            "25/25 [==============================] - 0s 4ms/step - loss: 0.6945 - accuracy: 0.4600\n",
            "Epoch 18/200\n",
            "25/25 [==============================] - 0s 9ms/step - loss: 0.6934 - accuracy: 0.5050\n",
            "Epoch 19/200\n",
            "25/25 [==============================] - 0s 14ms/step - loss: 0.6919 - accuracy: 0.5038\n",
            "Epoch 20/200\n",
            "25/25 [==============================] - 0s 8ms/step - loss: 0.6904 - accuracy: 0.5050\n",
            "Epoch 21/200\n",
            "25/25 [==============================] - 0s 9ms/step - loss: 0.6891 - accuracy: 0.5075\n",
            "Epoch 22/200\n",
            "25/25 [==============================] - 0s 19ms/step - loss: 0.6876 - accuracy: 0.5213\n",
            "Epoch 23/200\n",
            "25/25 [==============================] - 0s 11ms/step - loss: 0.6853 - accuracy: 0.5725\n",
            "Epoch 24/200\n",
            "25/25 [==============================] - 0s 8ms/step - loss: 0.6840 - accuracy: 0.6175\n",
            "Epoch 25/200\n",
            "25/25 [==============================] - 0s 11ms/step - loss: 0.6827 - accuracy: 0.6438\n",
            "Epoch 26/200\n",
            "25/25 [==============================] - 0s 12ms/step - loss: 0.6814 - accuracy: 0.6488\n",
            "Epoch 27/200\n",
            "25/25 [==============================] - 0s 10ms/step - loss: 0.6803 - accuracy: 0.6300\n",
            "Epoch 28/200\n",
            "25/25 [==============================] - 0s 12ms/step - loss: 0.6789 - accuracy: 0.6275\n",
            "Epoch 29/200\n",
            "25/25 [==============================] - 0s 12ms/step - loss: 0.6776 - accuracy: 0.6375\n",
            "Epoch 30/200\n",
            "25/25 [==============================] - 0s 20ms/step - loss: 0.6761 - accuracy: 0.6488\n",
            "Epoch 31/200\n",
            "25/25 [==============================] - 0s 11ms/step - loss: 0.6747 - accuracy: 0.6475\n",
            "Epoch 32/200\n",
            "25/25 [==============================] - 0s 15ms/step - loss: 0.6731 - accuracy: 0.6500\n",
            "Epoch 33/200\n",
            "25/25 [==============================] - 0s 8ms/step - loss: 0.6713 - accuracy: 0.6562\n",
            "Epoch 34/200\n",
            "25/25 [==============================] - 0s 12ms/step - loss: 0.6694 - accuracy: 0.6812\n",
            "Epoch 35/200\n",
            "25/25 [==============================] - 0s 19ms/step - loss: 0.6677 - accuracy: 0.7287\n",
            "Epoch 36/200\n",
            "25/25 [==============================] - 0s 9ms/step - loss: 0.6655 - accuracy: 0.6975\n",
            "Epoch 37/200\n",
            "25/25 [==============================] - 0s 11ms/step - loss: 0.6633 - accuracy: 0.6888\n",
            "Epoch 38/200\n",
            "25/25 [==============================] - 1s 22ms/step - loss: 0.6614 - accuracy: 0.6913\n",
            "Epoch 39/200\n",
            "25/25 [==============================] - 0s 6ms/step - loss: 0.6586 - accuracy: 0.7375\n",
            "Epoch 40/200\n",
            "25/25 [==============================] - 0s 5ms/step - loss: 0.6562 - accuracy: 0.7862\n",
            "Epoch 41/200\n",
            "25/25 [==============================] - 0s 5ms/step - loss: 0.6534 - accuracy: 0.7925\n",
            "Epoch 42/200\n",
            "25/25 [==============================] - 0s 8ms/step - loss: 0.6502 - accuracy: 0.7563\n",
            "Epoch 43/200\n",
            "25/25 [==============================] - 0s 12ms/step - loss: 0.6472 - accuracy: 0.8000\n",
            "Epoch 44/200\n",
            "25/25 [==============================] - 0s 5ms/step - loss: 0.6437 - accuracy: 0.8163\n",
            "Epoch 45/200\n",
            "25/25 [==============================] - 0s 6ms/step - loss: 0.6402 - accuracy: 0.8125\n",
            "Epoch 46/200\n",
            "25/25 [==============================] - 0s 4ms/step - loss: 0.6364 - accuracy: 0.8250\n",
            "Epoch 47/200\n",
            "25/25 [==============================] - 0s 3ms/step - loss: 0.6326 - accuracy: 0.8637\n",
            "Epoch 48/200\n",
            "25/25 [==============================] - 0s 8ms/step - loss: 0.6288 - accuracy: 0.8238\n",
            "Epoch 49/200\n",
            "25/25 [==============================] - 0s 15ms/step - loss: 0.6239 - accuracy: 0.8487\n",
            "Epoch 50/200\n",
            "25/25 [==============================] - 0s 7ms/step - loss: 0.6187 - accuracy: 0.8325\n",
            "Epoch 51/200\n",
            "25/25 [==============================] - 0s 8ms/step - loss: 0.6137 - accuracy: 0.8425\n",
            "Epoch 52/200\n",
            "25/25 [==============================] - 0s 11ms/step - loss: 0.6087 - accuracy: 0.8838\n",
            "Epoch 53/200\n",
            "25/25 [==============================] - 0s 12ms/step - loss: 0.6034 - accuracy: 0.8737\n",
            "Epoch 54/200\n",
            "25/25 [==============================] - 0s 4ms/step - loss: 0.5993 - accuracy: 0.8788\n",
            "Epoch 55/200\n",
            "25/25 [==============================] - 0s 3ms/step - loss: 0.5938 - accuracy: 0.8487\n",
            "Epoch 56/200\n",
            "25/25 [==============================] - 0s 3ms/step - loss: 0.5878 - accuracy: 0.8800\n",
            "Epoch 57/200\n",
            "25/25 [==============================] - 0s 3ms/step - loss: 0.5824 - accuracy: 0.8875\n",
            "Epoch 58/200\n",
            "25/25 [==============================] - 0s 3ms/step - loss: 0.5766 - accuracy: 0.8775\n",
            "Epoch 59/200\n",
            "25/25 [==============================] - 0s 3ms/step - loss: 0.5710 - accuracy: 0.8925\n",
            "Epoch 60/200\n",
            "25/25 [==============================] - 0s 3ms/step - loss: 0.5659 - accuracy: 0.9038\n",
            "Epoch 61/200\n",
            "25/25 [==============================] - 0s 3ms/step - loss: 0.5596 - accuracy: 0.8963\n",
            "Epoch 62/200\n",
            "25/25 [==============================] - 0s 3ms/step - loss: 0.5536 - accuracy: 0.9025\n",
            "Epoch 63/200\n",
            "25/25 [==============================] - 0s 3ms/step - loss: 0.5475 - accuracy: 0.9237\n",
            "Epoch 64/200\n",
            "25/25 [==============================] - 0s 3ms/step - loss: 0.5413 - accuracy: 0.9162\n",
            "Epoch 65/200\n",
            "25/25 [==============================] - 0s 3ms/step - loss: 0.5346 - accuracy: 0.9275\n",
            "Epoch 66/200\n",
            "25/25 [==============================] - 0s 4ms/step - loss: 0.5266 - accuracy: 0.9375\n",
            "Epoch 67/200\n",
            "25/25 [==============================] - 0s 8ms/step - loss: 0.5199 - accuracy: 0.9413\n",
            "Epoch 68/200\n",
            "25/25 [==============================] - 0s 4ms/step - loss: 0.5127 - accuracy: 0.9400\n",
            "Epoch 69/200\n",
            "25/25 [==============================] - 0s 4ms/step - loss: 0.5064 - accuracy: 0.9450\n",
            "Epoch 70/200\n",
            "25/25 [==============================] - 0s 6ms/step - loss: 0.4995 - accuracy: 0.9425\n",
            "Epoch 71/200\n",
            "25/25 [==============================] - 0s 3ms/step - loss: 0.4922 - accuracy: 0.9550\n",
            "Epoch 72/200\n",
            "25/25 [==============================] - 0s 5ms/step - loss: 0.4839 - accuracy: 0.9550\n",
            "Epoch 73/200\n",
            "25/25 [==============================] - 0s 3ms/step - loss: 0.4772 - accuracy: 0.9450\n",
            "Epoch 74/200\n",
            "25/25 [==============================] - 0s 3ms/step - loss: 0.4693 - accuracy: 0.9550\n",
            "Epoch 75/200\n",
            "25/25 [==============================] - 0s 4ms/step - loss: 0.4631 - accuracy: 0.9625\n",
            "Epoch 76/200\n",
            "25/25 [==============================] - 0s 4ms/step - loss: 0.4555 - accuracy: 0.9525\n",
            "Epoch 77/200\n",
            "25/25 [==============================] - 0s 4ms/step - loss: 0.4462 - accuracy: 0.9675\n",
            "Epoch 78/200\n",
            "25/25 [==============================] - 0s 3ms/step - loss: 0.4371 - accuracy: 0.9700\n",
            "Epoch 79/200\n",
            "25/25 [==============================] - 0s 3ms/step - loss: 0.4266 - accuracy: 0.9688\n",
            "Epoch 80/200\n",
            "25/25 [==============================] - 0s 3ms/step - loss: 0.4178 - accuracy: 0.9725\n",
            "Epoch 81/200\n",
            "25/25 [==============================] - 0s 3ms/step - loss: 0.4089 - accuracy: 0.9837\n",
            "Epoch 82/200\n",
            "25/25 [==============================] - 0s 4ms/step - loss: 0.4010 - accuracy: 0.9812\n",
            "Epoch 83/200\n",
            "25/25 [==============================] - 0s 6ms/step - loss: 0.3933 - accuracy: 0.9837\n",
            "Epoch 84/200\n",
            "25/25 [==============================] - 0s 4ms/step - loss: 0.3851 - accuracy: 0.9825\n",
            "Epoch 85/200\n",
            "25/25 [==============================] - 0s 3ms/step - loss: 0.3780 - accuracy: 0.9850\n",
            "Epoch 86/200\n",
            "25/25 [==============================] - 0s 3ms/step - loss: 0.3705 - accuracy: 0.9787\n",
            "Epoch 87/200\n",
            "25/25 [==============================] - 0s 3ms/step - loss: 0.3631 - accuracy: 0.9875\n",
            "Epoch 88/200\n",
            "25/25 [==============================] - 0s 4ms/step - loss: 0.3568 - accuracy: 0.9875\n",
            "Epoch 89/200\n",
            "25/25 [==============================] - 0s 3ms/step - loss: 0.3491 - accuracy: 0.9862\n",
            "Epoch 90/200\n",
            "25/25 [==============================] - 0s 3ms/step - loss: 0.3415 - accuracy: 0.9850\n",
            "Epoch 91/200\n",
            "25/25 [==============================] - 0s 3ms/step - loss: 0.3348 - accuracy: 0.9875\n",
            "Epoch 92/200\n",
            "25/25 [==============================] - 0s 4ms/step - loss: 0.3277 - accuracy: 0.9887\n",
            "Epoch 93/200\n",
            "25/25 [==============================] - 0s 4ms/step - loss: 0.3217 - accuracy: 0.9875\n",
            "Epoch 94/200\n",
            "25/25 [==============================] - 0s 4ms/step - loss: 0.3150 - accuracy: 0.9875\n",
            "Epoch 95/200\n",
            "25/25 [==============================] - 0s 4ms/step - loss: 0.3087 - accuracy: 0.9887\n",
            "Epoch 96/200\n",
            "25/25 [==============================] - 0s 8ms/step - loss: 0.3020 - accuracy: 0.9900\n",
            "Epoch 97/200\n",
            "25/25 [==============================] - 0s 5ms/step - loss: 0.2971 - accuracy: 0.9887\n",
            "Epoch 98/200\n",
            "25/25 [==============================] - 0s 3ms/step - loss: 0.2905 - accuracy: 0.9887\n",
            "Epoch 99/200\n",
            "25/25 [==============================] - 0s 8ms/step - loss: 0.2849 - accuracy: 0.9900\n",
            "Epoch 100/200\n",
            "25/25 [==============================] - 0s 5ms/step - loss: 0.2797 - accuracy: 0.9887\n",
            "Epoch 101/200\n",
            "25/25 [==============================] - 0s 4ms/step - loss: 0.2737 - accuracy: 0.9887\n",
            "Epoch 102/200\n",
            "25/25 [==============================] - 0s 3ms/step - loss: 0.2695 - accuracy: 0.9912\n",
            "Epoch 103/200\n",
            "25/25 [==============================] - 0s 4ms/step - loss: 0.2630 - accuracy: 0.9912\n",
            "Epoch 104/200\n",
            "25/25 [==============================] - 0s 3ms/step - loss: 0.2580 - accuracy: 0.9937\n",
            "Epoch 105/200\n",
            "25/25 [==============================] - 0s 4ms/step - loss: 0.2529 - accuracy: 0.9925\n",
            "Epoch 106/200\n",
            "25/25 [==============================] - 0s 3ms/step - loss: 0.2477 - accuracy: 0.9912\n",
            "Epoch 107/200\n",
            "25/25 [==============================] - 0s 4ms/step - loss: 0.2434 - accuracy: 0.9912\n",
            "Epoch 108/200\n",
            "25/25 [==============================] - 0s 4ms/step - loss: 0.2390 - accuracy: 0.9912\n",
            "Epoch 109/200\n",
            "25/25 [==============================] - 0s 8ms/step - loss: 0.2344 - accuracy: 0.9912\n",
            "Epoch 110/200\n",
            "25/25 [==============================] - 0s 11ms/step - loss: 0.2288 - accuracy: 0.9912\n",
            "Epoch 111/200\n",
            "25/25 [==============================] - 0s 8ms/step - loss: 0.2244 - accuracy: 0.9925\n",
            "Epoch 112/200\n",
            "25/25 [==============================] - 0s 17ms/step - loss: 0.2185 - accuracy: 0.9912\n",
            "Epoch 113/200\n",
            "25/25 [==============================] - 0s 18ms/step - loss: 0.2118 - accuracy: 0.9937\n",
            "Epoch 114/200\n",
            "25/25 [==============================] - 0s 15ms/step - loss: 0.2068 - accuracy: 0.9925\n",
            "Epoch 115/200\n",
            "25/25 [==============================] - 0s 13ms/step - loss: 0.2018 - accuracy: 0.9950\n",
            "Epoch 116/200\n",
            "25/25 [==============================] - 0s 8ms/step - loss: 0.1976 - accuracy: 0.9925\n",
            "Epoch 117/200\n",
            "25/25 [==============================] - 0s 9ms/step - loss: 0.1942 - accuracy: 0.9925\n",
            "Epoch 118/200\n",
            "25/25 [==============================] - 0s 8ms/step - loss: 0.1902 - accuracy: 0.9937\n",
            "Epoch 119/200\n",
            "25/25 [==============================] - 0s 7ms/step - loss: 0.1862 - accuracy: 0.9925\n",
            "Epoch 120/200\n",
            "25/25 [==============================] - 0s 6ms/step - loss: 0.1833 - accuracy: 0.9937\n",
            "Epoch 121/200\n",
            "25/25 [==============================] - 0s 3ms/step - loss: 0.1794 - accuracy: 0.9925\n",
            "Epoch 122/200\n",
            "25/25 [==============================] - 0s 4ms/step - loss: 0.1760 - accuracy: 0.9937\n",
            "Epoch 123/200\n",
            "25/25 [==============================] - 0s 4ms/step - loss: 0.1733 - accuracy: 0.9912\n",
            "Epoch 124/200\n",
            "25/25 [==============================] - 0s 4ms/step - loss: 0.1697 - accuracy: 0.9925\n",
            "Epoch 125/200\n",
            "25/25 [==============================] - 0s 3ms/step - loss: 0.1666 - accuracy: 0.9937\n",
            "Epoch 126/200\n",
            "25/25 [==============================] - 0s 3ms/step - loss: 0.1635 - accuracy: 0.9925\n",
            "Epoch 127/200\n",
            "25/25 [==============================] - 0s 3ms/step - loss: 0.1603 - accuracy: 0.9937\n",
            "Epoch 128/200\n",
            "25/25 [==============================] - 0s 3ms/step - loss: 0.1584 - accuracy: 0.9937\n",
            "Epoch 129/200\n",
            "25/25 [==============================] - 0s 9ms/step - loss: 0.1554 - accuracy: 0.9937\n",
            "Epoch 130/200\n",
            "25/25 [==============================] - 0s 5ms/step - loss: 0.1526 - accuracy: 0.9912\n",
            "Epoch 131/200\n",
            "25/25 [==============================] - 0s 6ms/step - loss: 0.1496 - accuracy: 0.9925\n",
            "Epoch 132/200\n",
            "25/25 [==============================] - 0s 5ms/step - loss: 0.1471 - accuracy: 0.9937\n",
            "Epoch 133/200\n",
            "25/25 [==============================] - 0s 6ms/step - loss: 0.1448 - accuracy: 0.9937\n",
            "Epoch 134/200\n",
            "25/25 [==============================] - 0s 4ms/step - loss: 0.1422 - accuracy: 0.9925\n",
            "Epoch 135/200\n",
            "25/25 [==============================] - 0s 4ms/step - loss: 0.1400 - accuracy: 0.9937\n",
            "Epoch 136/200\n",
            "25/25 [==============================] - 0s 4ms/step - loss: 0.1375 - accuracy: 0.9937\n",
            "Epoch 137/200\n",
            "25/25 [==============================] - 0s 4ms/step - loss: 0.1355 - accuracy: 0.9925\n",
            "Epoch 138/200\n",
            "25/25 [==============================] - 0s 6ms/step - loss: 0.1335 - accuracy: 0.9950\n",
            "Epoch 139/200\n",
            "25/25 [==============================] - 0s 5ms/step - loss: 0.1313 - accuracy: 0.9912\n",
            "Epoch 140/200\n",
            "25/25 [==============================] - 0s 6ms/step - loss: 0.1294 - accuracy: 0.9912\n",
            "Epoch 141/200\n",
            "25/25 [==============================] - 0s 5ms/step - loss: 0.1271 - accuracy: 0.9937\n",
            "Epoch 142/200\n",
            "25/25 [==============================] - 0s 5ms/step - loss: 0.1251 - accuracy: 0.9925\n",
            "Epoch 143/200\n",
            "25/25 [==============================] - 0s 6ms/step - loss: 0.1233 - accuracy: 0.9937\n",
            "Epoch 144/200\n",
            "25/25 [==============================] - 0s 3ms/step - loss: 0.1212 - accuracy: 0.9937\n",
            "Epoch 145/200\n",
            "25/25 [==============================] - 0s 4ms/step - loss: 0.1193 - accuracy: 0.9912\n",
            "Epoch 146/200\n",
            "25/25 [==============================] - 0s 5ms/step - loss: 0.1177 - accuracy: 0.9925\n",
            "Epoch 147/200\n",
            "25/25 [==============================] - 0s 6ms/step - loss: 0.1158 - accuracy: 0.9937\n",
            "Epoch 148/200\n",
            "25/25 [==============================] - 0s 7ms/step - loss: 0.1146 - accuracy: 0.9925\n",
            "Epoch 149/200\n",
            "25/25 [==============================] - 0s 6ms/step - loss: 0.1127 - accuracy: 0.9937\n",
            "Epoch 150/200\n",
            "25/25 [==============================] - 0s 4ms/step - loss: 0.1107 - accuracy: 0.9925\n",
            "Epoch 151/200\n",
            "25/25 [==============================] - 0s 3ms/step - loss: 0.1093 - accuracy: 0.9925\n",
            "Epoch 152/200\n",
            "25/25 [==============================] - 0s 5ms/step - loss: 0.1081 - accuracy: 0.9937\n",
            "Epoch 153/200\n",
            "25/25 [==============================] - 0s 4ms/step - loss: 0.1056 - accuracy: 0.9950\n",
            "Epoch 154/200\n",
            "25/25 [==============================] - 0s 4ms/step - loss: 0.1042 - accuracy: 0.9937\n",
            "Epoch 155/200\n",
            "25/25 [==============================] - 0s 6ms/step - loss: 0.1028 - accuracy: 0.9925\n",
            "Epoch 156/200\n",
            "25/25 [==============================] - 0s 9ms/step - loss: 0.1010 - accuracy: 0.9950\n",
            "Epoch 157/200\n",
            "25/25 [==============================] - 0s 4ms/step - loss: 0.0993 - accuracy: 0.9962\n",
            "Epoch 158/200\n",
            "25/25 [==============================] - 0s 5ms/step - loss: 0.0981 - accuracy: 0.9962\n",
            "Epoch 159/200\n",
            "25/25 [==============================] - 0s 3ms/step - loss: 0.0964 - accuracy: 0.9962\n",
            "Epoch 160/200\n",
            "25/25 [==============================] - 0s 4ms/step - loss: 0.0950 - accuracy: 0.9962\n",
            "Epoch 161/200\n",
            "25/25 [==============================] - 0s 5ms/step - loss: 0.0934 - accuracy: 0.9962\n",
            "Epoch 162/200\n",
            "25/25 [==============================] - 0s 4ms/step - loss: 0.0921 - accuracy: 0.9962\n",
            "Epoch 163/200\n",
            "25/25 [==============================] - 0s 3ms/step - loss: 0.0908 - accuracy: 0.9975\n",
            "Epoch 164/200\n",
            "25/25 [==============================] - 0s 3ms/step - loss: 0.0898 - accuracy: 0.9962\n",
            "Epoch 165/200\n",
            "25/25 [==============================] - 0s 3ms/step - loss: 0.0882 - accuracy: 0.9962\n",
            "Epoch 166/200\n",
            "25/25 [==============================] - 0s 3ms/step - loss: 0.0869 - accuracy: 0.9975\n",
            "Epoch 167/200\n",
            "25/25 [==============================] - 0s 4ms/step - loss: 0.0855 - accuracy: 0.9962\n",
            "Epoch 168/200\n",
            "25/25 [==============================] - 0s 5ms/step - loss: 0.0846 - accuracy: 0.9975\n",
            "Epoch 169/200\n",
            "25/25 [==============================] - 0s 4ms/step - loss: 0.0830 - accuracy: 0.9962\n",
            "Epoch 170/200\n",
            "25/25 [==============================] - 0s 4ms/step - loss: 0.0815 - accuracy: 0.9962\n",
            "Epoch 171/200\n",
            "25/25 [==============================] - 0s 3ms/step - loss: 0.0809 - accuracy: 0.9962\n",
            "Epoch 172/200\n",
            "25/25 [==============================] - 0s 3ms/step - loss: 0.0798 - accuracy: 0.9962\n",
            "Epoch 173/200\n",
            "25/25 [==============================] - 0s 4ms/step - loss: 0.0786 - accuracy: 0.9975\n",
            "Epoch 174/200\n",
            "25/25 [==============================] - 0s 3ms/step - loss: 0.0772 - accuracy: 0.9962\n",
            "Epoch 175/200\n",
            "25/25 [==============================] - 0s 3ms/step - loss: 0.0767 - accuracy: 0.9962\n",
            "Epoch 176/200\n",
            "25/25 [==============================] - 0s 4ms/step - loss: 0.0753 - accuracy: 0.9987\n",
            "Epoch 177/200\n",
            "25/25 [==============================] - 0s 6ms/step - loss: 0.0745 - accuracy: 0.9975\n",
            "Epoch 178/200\n",
            "25/25 [==============================] - 0s 7ms/step - loss: 0.0734 - accuracy: 0.9975\n",
            "Epoch 179/200\n",
            "25/25 [==============================] - 0s 4ms/step - loss: 0.0724 - accuracy: 0.9962\n",
            "Epoch 180/200\n",
            "25/25 [==============================] - 0s 4ms/step - loss: 0.0715 - accuracy: 0.9975\n",
            "Epoch 181/200\n",
            "25/25 [==============================] - 0s 4ms/step - loss: 0.0709 - accuracy: 0.9962\n",
            "Epoch 182/200\n",
            "25/25 [==============================] - 0s 2ms/step - loss: 0.0698 - accuracy: 0.9975\n",
            "Epoch 183/200\n",
            "25/25 [==============================] - 0s 2ms/step - loss: 0.0690 - accuracy: 0.9962\n",
            "Epoch 184/200\n",
            "25/25 [==============================] - 0s 2ms/step - loss: 0.0682 - accuracy: 0.9962\n",
            "Epoch 185/200\n",
            "25/25 [==============================] - 0s 2ms/step - loss: 0.0675 - accuracy: 0.9975\n",
            "Epoch 186/200\n",
            "25/25 [==============================] - 0s 2ms/step - loss: 0.0663 - accuracy: 0.9962\n",
            "Epoch 187/200\n",
            "25/25 [==============================] - 0s 2ms/step - loss: 0.0658 - accuracy: 0.9975\n",
            "Epoch 188/200\n",
            "25/25 [==============================] - 0s 2ms/step - loss: 0.0650 - accuracy: 0.9975\n",
            "Epoch 189/200\n",
            "25/25 [==============================] - 0s 2ms/step - loss: 0.0641 - accuracy: 0.9962\n",
            "Epoch 190/200\n",
            "25/25 [==============================] - 0s 2ms/step - loss: 0.0633 - accuracy: 0.9962\n",
            "Epoch 191/200\n",
            "25/25 [==============================] - 0s 2ms/step - loss: 0.0629 - accuracy: 0.9975\n",
            "Epoch 192/200\n",
            "25/25 [==============================] - 0s 2ms/step - loss: 0.0618 - accuracy: 0.9962\n",
            "Epoch 193/200\n",
            "25/25 [==============================] - 0s 3ms/step - loss: 0.0611 - accuracy: 0.9962\n",
            "Epoch 194/200\n",
            "25/25 [==============================] - 0s 2ms/step - loss: 0.0603 - accuracy: 0.9975\n",
            "Epoch 195/200\n",
            "25/25 [==============================] - 0s 2ms/step - loss: 0.0597 - accuracy: 0.9987\n",
            "Epoch 196/200\n",
            "25/25 [==============================] - 0s 2ms/step - loss: 0.0590 - accuracy: 0.9962\n",
            "Epoch 197/200\n",
            "25/25 [==============================] - 0s 3ms/step - loss: 0.0588 - accuracy: 0.9987\n",
            "Epoch 198/200\n",
            "25/25 [==============================] - 0s 2ms/step - loss: 0.0580 - accuracy: 0.9962\n",
            "Epoch 199/200\n",
            "25/25 [==============================] - 0s 3ms/step - loss: 0.0573 - accuracy: 0.9987\n",
            "Epoch 200/200\n",
            "25/25 [==============================] - 0s 2ms/step - loss: 0.0568 - accuracy: 0.9975\n"
          ]
        }
      ]
    },
    {
      "cell_type": "code",
      "source": [
        "model.evaluate(X_test, y_test)"
      ],
      "metadata": {
        "colab": {
          "base_uri": "https://localhost:8080/"
        },
        "id": "yZgXDH4Bq92A",
        "outputId": "4222638a-b39b-4bdf-ed1b-3b275c14572a"
      },
      "execution_count": 12,
      "outputs": [
        {
          "output_type": "stream",
          "name": "stdout",
          "text": [
            "7/7 [==============================] - 0s 3ms/step - loss: 0.0573 - accuracy: 1.0000\n"
          ]
        },
        {
          "output_type": "execute_result",
          "data": {
            "text/plain": [
              "[0.05733496695756912, 1.0]"
            ]
          },
          "metadata": {},
          "execution_count": 12
        }
      ]
    },
    {
      "cell_type": "markdown",
      "source": [
        "## Improving our model\n",
        "\n",
        "Let's look into our bag of tricks to see how we can improve our model.\n",
        "\n",
        "1. Create a model - we might want to add mroe layres or increase the number of hidden units within a layer\n",
        "2. Compiling a model - here we might choose a different optimization function such as Adam instead of SGD\n",
        "3. Fitting a model - perhaps we might fit our model for more epochs"
      ],
      "metadata": {
        "id": "cza4mQU-tAkq"
      }
    },
    {
      "cell_type": "code",
      "source": [
        "# Set random seed\n",
        "tf.random.set_seed(42)\n",
        "\n",
        "# Create the model\n",
        "model_2 = tf.keras.Sequential([\n",
        "    tf.keras.layers.Dense(100, activation=\"relu\"),\n",
        "    tf.keras.layers.Dense(10, activation=\"relu\"),\n",
        "    tf.keras.layers.Dense(1, activation=\"sigmoid\")\n",
        "])\n",
        "\n",
        "# Compile the model\n",
        "model_2.compile(loss=tf.keras.losses.BinaryCrossentropy(),\n",
        "                optimizer=tf.keras.optimizers.Adam(),\n",
        "                metrics=[\"accuracy\"])\n",
        "\n",
        "# Fit the model\n",
        "model_2.fit(tf.constant(X, dtype=tf.float32), \n",
        "            tf.constant(y, dtype=tf.float32),\n",
        "            epochs=100)"
      ],
      "metadata": {
        "colab": {
          "base_uri": "https://localhost:8080/"
        },
        "id": "BoCsyAcTus8v",
        "outputId": "bbf818fd-5ccb-4624-aaf3-c94dc93cfb3b"
      },
      "execution_count": 13,
      "outputs": [
        {
          "output_type": "stream",
          "name": "stdout",
          "text": [
            "Epoch 1/100\n",
            "32/32 [==============================] - 1s 4ms/step - loss: 0.7045 - accuracy: 0.4830\n",
            "Epoch 2/100\n",
            "32/32 [==============================] - 0s 3ms/step - loss: 0.6922 - accuracy: 0.4830\n",
            "Epoch 3/100\n",
            "32/32 [==============================] - 0s 3ms/step - loss: 0.6889 - accuracy: 0.5000\n",
            "Epoch 4/100\n",
            "32/32 [==============================] - 0s 3ms/step - loss: 0.6862 - accuracy: 0.5000\n",
            "Epoch 5/100\n",
            "32/32 [==============================] - 0s 4ms/step - loss: 0.6830 - accuracy: 0.5000\n",
            "Epoch 6/100\n",
            "32/32 [==============================] - 0s 3ms/step - loss: 0.6799 - accuracy: 0.5000\n",
            "Epoch 7/100\n",
            "32/32 [==============================] - 0s 3ms/step - loss: 0.6759 - accuracy: 0.5040\n",
            "Epoch 8/100\n",
            "32/32 [==============================] - 0s 3ms/step - loss: 0.6719 - accuracy: 0.5040\n",
            "Epoch 9/100\n",
            "32/32 [==============================] - 0s 3ms/step - loss: 0.6664 - accuracy: 0.5350\n",
            "Epoch 10/100\n",
            "32/32 [==============================] - 0s 5ms/step - loss: 0.6596 - accuracy: 0.5530\n",
            "Epoch 11/100\n",
            "32/32 [==============================] - 0s 3ms/step - loss: 0.6465 - accuracy: 0.8310\n",
            "Epoch 12/100\n",
            "32/32 [==============================] - 0s 3ms/step - loss: 0.6268 - accuracy: 0.8570\n",
            "Epoch 13/100\n",
            "32/32 [==============================] - 0s 3ms/step - loss: 0.6055 - accuracy: 0.8950\n",
            "Epoch 14/100\n",
            "32/32 [==============================] - 0s 4ms/step - loss: 0.5822 - accuracy: 0.9710\n",
            "Epoch 15/100\n",
            "32/32 [==============================] - 0s 3ms/step - loss: 0.5541 - accuracy: 0.9530\n",
            "Epoch 16/100\n",
            "32/32 [==============================] - 0s 3ms/step - loss: 0.5230 - accuracy: 0.9890\n",
            "Epoch 17/100\n",
            "32/32 [==============================] - 0s 3ms/step - loss: 0.4940 - accuracy: 0.9800\n",
            "Epoch 18/100\n",
            "32/32 [==============================] - 0s 3ms/step - loss: 0.4591 - accuracy: 0.9850\n",
            "Epoch 19/100\n",
            "32/32 [==============================] - 0s 3ms/step - loss: 0.4247 - accuracy: 0.9840\n",
            "Epoch 20/100\n",
            "32/32 [==============================] - 0s 4ms/step - loss: 0.3893 - accuracy: 0.9980\n",
            "Epoch 21/100\n",
            "32/32 [==============================] - 0s 4ms/step - loss: 0.3532 - accuracy: 0.9940\n",
            "Epoch 22/100\n",
            "32/32 [==============================] - 0s 4ms/step - loss: 0.3209 - accuracy: 0.9970\n",
            "Epoch 23/100\n",
            "32/32 [==============================] - 0s 4ms/step - loss: 0.2891 - accuracy: 0.9990\n",
            "Epoch 24/100\n",
            "32/32 [==============================] - 0s 3ms/step - loss: 0.2624 - accuracy: 0.9990\n",
            "Epoch 25/100\n",
            "32/32 [==============================] - 0s 3ms/step - loss: 0.2380 - accuracy: 0.9980\n",
            "Epoch 26/100\n",
            "32/32 [==============================] - 0s 4ms/step - loss: 0.2148 - accuracy: 0.9990\n",
            "Epoch 27/100\n",
            "32/32 [==============================] - 0s 2ms/step - loss: 0.1913 - accuracy: 0.9990\n",
            "Epoch 28/100\n",
            "32/32 [==============================] - 0s 3ms/step - loss: 0.1742 - accuracy: 0.9990\n",
            "Epoch 29/100\n",
            "32/32 [==============================] - 0s 2ms/step - loss: 0.1576 - accuracy: 0.9980\n",
            "Epoch 30/100\n",
            "32/32 [==============================] - 0s 2ms/step - loss: 0.1467 - accuracy: 0.9970\n",
            "Epoch 31/100\n",
            "32/32 [==============================] - 0s 2ms/step - loss: 0.1305 - accuracy: 1.0000\n",
            "Epoch 32/100\n",
            "32/32 [==============================] - 0s 3ms/step - loss: 0.1203 - accuracy: 1.0000\n",
            "Epoch 33/100\n",
            "32/32 [==============================] - 0s 2ms/step - loss: 0.1083 - accuracy: 1.0000\n",
            "Epoch 34/100\n",
            "32/32 [==============================] - 0s 3ms/step - loss: 0.1039 - accuracy: 0.9990\n",
            "Epoch 35/100\n",
            "32/32 [==============================] - 0s 2ms/step - loss: 0.0951 - accuracy: 1.0000\n",
            "Epoch 36/100\n",
            "32/32 [==============================] - 0s 2ms/step - loss: 0.0867 - accuracy: 1.0000\n",
            "Epoch 37/100\n",
            "32/32 [==============================] - 0s 2ms/step - loss: 0.0791 - accuracy: 1.0000\n",
            "Epoch 38/100\n",
            "32/32 [==============================] - 0s 2ms/step - loss: 0.0747 - accuracy: 1.0000\n",
            "Epoch 39/100\n",
            "32/32 [==============================] - 0s 3ms/step - loss: 0.0703 - accuracy: 1.0000\n",
            "Epoch 40/100\n",
            "32/32 [==============================] - 0s 2ms/step - loss: 0.0643 - accuracy: 1.0000\n",
            "Epoch 41/100\n",
            "32/32 [==============================] - 0s 2ms/step - loss: 0.0619 - accuracy: 1.0000\n",
            "Epoch 42/100\n",
            "32/32 [==============================] - 0s 2ms/step - loss: 0.0579 - accuracy: 1.0000\n",
            "Epoch 43/100\n",
            "32/32 [==============================] - 0s 3ms/step - loss: 0.0551 - accuracy: 1.0000\n",
            "Epoch 44/100\n",
            "32/32 [==============================] - 0s 3ms/step - loss: 0.0504 - accuracy: 1.0000\n",
            "Epoch 45/100\n",
            "32/32 [==============================] - 0s 2ms/step - loss: 0.0483 - accuracy: 1.0000\n",
            "Epoch 46/100\n",
            "32/32 [==============================] - 0s 3ms/step - loss: 0.0450 - accuracy: 1.0000\n",
            "Epoch 47/100\n",
            "32/32 [==============================] - 0s 2ms/step - loss: 0.0428 - accuracy: 1.0000\n",
            "Epoch 48/100\n",
            "32/32 [==============================] - 0s 2ms/step - loss: 0.0418 - accuracy: 1.0000\n",
            "Epoch 49/100\n",
            "32/32 [==============================] - 0s 3ms/step - loss: 0.0389 - accuracy: 1.0000\n",
            "Epoch 50/100\n",
            "32/32 [==============================] - 0s 2ms/step - loss: 0.0370 - accuracy: 1.0000\n",
            "Epoch 51/100\n",
            "32/32 [==============================] - 0s 2ms/step - loss: 0.0352 - accuracy: 1.0000\n",
            "Epoch 52/100\n",
            "32/32 [==============================] - 0s 2ms/step - loss: 0.0332 - accuracy: 1.0000\n",
            "Epoch 53/100\n",
            "32/32 [==============================] - 0s 2ms/step - loss: 0.0325 - accuracy: 1.0000\n",
            "Epoch 54/100\n",
            "32/32 [==============================] - 0s 3ms/step - loss: 0.0307 - accuracy: 1.0000\n",
            "Epoch 55/100\n",
            "32/32 [==============================] - 0s 2ms/step - loss: 0.0295 - accuracy: 1.0000\n",
            "Epoch 56/100\n",
            "32/32 [==============================] - 0s 2ms/step - loss: 0.0279 - accuracy: 1.0000\n",
            "Epoch 57/100\n",
            "32/32 [==============================] - 0s 2ms/step - loss: 0.0266 - accuracy: 1.0000\n",
            "Epoch 58/100\n",
            "32/32 [==============================] - 0s 3ms/step - loss: 0.0273 - accuracy: 1.0000\n",
            "Epoch 59/100\n",
            "32/32 [==============================] - 0s 3ms/step - loss: 0.0249 - accuracy: 1.0000\n",
            "Epoch 60/100\n",
            "32/32 [==============================] - 0s 3ms/step - loss: 0.0237 - accuracy: 1.0000\n",
            "Epoch 61/100\n",
            "32/32 [==============================] - 0s 2ms/step - loss: 0.0240 - accuracy: 1.0000\n",
            "Epoch 62/100\n",
            "32/32 [==============================] - 0s 2ms/step - loss: 0.0223 - accuracy: 1.0000\n",
            "Epoch 63/100\n",
            "32/32 [==============================] - 0s 2ms/step - loss: 0.0216 - accuracy: 1.0000\n",
            "Epoch 64/100\n",
            "32/32 [==============================] - 0s 2ms/step - loss: 0.0204 - accuracy: 1.0000\n",
            "Epoch 65/100\n",
            "32/32 [==============================] - 0s 2ms/step - loss: 0.0198 - accuracy: 1.0000\n",
            "Epoch 66/100\n",
            "32/32 [==============================] - 0s 2ms/step - loss: 0.0192 - accuracy: 1.0000\n",
            "Epoch 67/100\n",
            "32/32 [==============================] - 0s 2ms/step - loss: 0.0186 - accuracy: 1.0000\n",
            "Epoch 68/100\n",
            "32/32 [==============================] - 0s 2ms/step - loss: 0.0177 - accuracy: 1.0000\n",
            "Epoch 69/100\n",
            "32/32 [==============================] - 0s 2ms/step - loss: 0.0171 - accuracy: 1.0000\n",
            "Epoch 70/100\n",
            "32/32 [==============================] - 0s 3ms/step - loss: 0.0168 - accuracy: 1.0000\n",
            "Epoch 71/100\n",
            "32/32 [==============================] - 0s 2ms/step - loss: 0.0165 - accuracy: 1.0000\n",
            "Epoch 72/100\n",
            "32/32 [==============================] - 0s 2ms/step - loss: 0.0158 - accuracy: 1.0000\n",
            "Epoch 73/100\n",
            "32/32 [==============================] - 0s 2ms/step - loss: 0.0157 - accuracy: 1.0000\n",
            "Epoch 74/100\n",
            "32/32 [==============================] - 0s 2ms/step - loss: 0.0145 - accuracy: 1.0000\n",
            "Epoch 75/100\n",
            "32/32 [==============================] - 0s 2ms/step - loss: 0.0153 - accuracy: 1.0000\n",
            "Epoch 76/100\n",
            "32/32 [==============================] - 0s 2ms/step - loss: 0.0140 - accuracy: 1.0000\n",
            "Epoch 77/100\n",
            "32/32 [==============================] - 0s 2ms/step - loss: 0.0133 - accuracy: 1.0000\n",
            "Epoch 78/100\n",
            "32/32 [==============================] - 0s 2ms/step - loss: 0.0135 - accuracy: 1.0000\n",
            "Epoch 79/100\n",
            "32/32 [==============================] - 0s 2ms/step - loss: 0.0128 - accuracy: 1.0000\n",
            "Epoch 80/100\n",
            "32/32 [==============================] - 0s 2ms/step - loss: 0.0125 - accuracy: 1.0000\n",
            "Epoch 81/100\n",
            "32/32 [==============================] - 0s 2ms/step - loss: 0.0120 - accuracy: 1.0000\n",
            "Epoch 82/100\n",
            "32/32 [==============================] - 0s 3ms/step - loss: 0.0116 - accuracy: 1.0000\n",
            "Epoch 83/100\n",
            "32/32 [==============================] - 0s 2ms/step - loss: 0.0119 - accuracy: 1.0000\n",
            "Epoch 84/100\n",
            "32/32 [==============================] - 0s 2ms/step - loss: 0.0113 - accuracy: 1.0000\n",
            "Epoch 85/100\n",
            "32/32 [==============================] - 0s 2ms/step - loss: 0.0109 - accuracy: 1.0000\n",
            "Epoch 86/100\n",
            "32/32 [==============================] - 0s 2ms/step - loss: 0.0105 - accuracy: 1.0000\n",
            "Epoch 87/100\n",
            "32/32 [==============================] - 0s 2ms/step - loss: 0.0104 - accuracy: 1.0000\n",
            "Epoch 88/100\n",
            "32/32 [==============================] - 0s 2ms/step - loss: 0.0100 - accuracy: 1.0000\n",
            "Epoch 89/100\n",
            "32/32 [==============================] - 0s 2ms/step - loss: 0.0097 - accuracy: 1.0000\n",
            "Epoch 90/100\n",
            "32/32 [==============================] - 0s 2ms/step - loss: 0.0097 - accuracy: 1.0000\n",
            "Epoch 91/100\n",
            "32/32 [==============================] - 0s 2ms/step - loss: 0.0094 - accuracy: 1.0000\n",
            "Epoch 92/100\n",
            "32/32 [==============================] - 0s 3ms/step - loss: 0.0094 - accuracy: 1.0000\n",
            "Epoch 93/100\n",
            "32/32 [==============================] - 0s 3ms/step - loss: 0.0089 - accuracy: 1.0000\n",
            "Epoch 94/100\n",
            "32/32 [==============================] - 0s 2ms/step - loss: 0.0085 - accuracy: 1.0000\n",
            "Epoch 95/100\n",
            "32/32 [==============================] - 0s 3ms/step - loss: 0.0088 - accuracy: 1.0000\n",
            "Epoch 96/100\n",
            "32/32 [==============================] - 0s 2ms/step - loss: 0.0082 - accuracy: 1.0000\n",
            "Epoch 97/100\n",
            "32/32 [==============================] - 0s 2ms/step - loss: 0.0084 - accuracy: 1.0000\n",
            "Epoch 98/100\n",
            "32/32 [==============================] - 0s 3ms/step - loss: 0.0079 - accuracy: 1.0000\n",
            "Epoch 99/100\n",
            "32/32 [==============================] - 0s 2ms/step - loss: 0.0079 - accuracy: 1.0000\n",
            "Epoch 100/100\n",
            "32/32 [==============================] - 0s 2ms/step - loss: 0.0076 - accuracy: 1.0000\n"
          ]
        },
        {
          "output_type": "execute_result",
          "data": {
            "text/plain": [
              "<keras.callbacks.History at 0x7f450a1e87c0>"
            ]
          },
          "metadata": {},
          "execution_count": 13
        }
      ]
    },
    {
      "cell_type": "markdown",
      "source": [
        "To visualize our model's predictions, let's create a function `plot_decision_boundary()` this function will:\n",
        "\n",
        "* Take in a trained model, features and labels\n",
        "* Create a meshgrid of the different X values\n",
        "* Make predictions across the meshgrid\n",
        "* Plot the predictions as well as a line between zones (where each unique class falls)"
      ],
      "metadata": {
        "id": "7iFkHFEkv0yP"
      }
    },
    {
      "cell_type": "code",
      "source": [
        "import numpy as np\n",
        "def plot_decision_boundary(model, X, y):\n",
        "  \"\"\"\n",
        "  Plots the decision boundary created by a model predicting on X.\n",
        "  \"\"\"\n",
        "\n",
        "  # define the axis boundaries of the plot and create a meshgrid\n",
        "  x_min, x_max = X[:, 0].min() - 0.1, X[:, 0].max() + 0.1\n",
        "  y_min, y_max = X[:, 1].min() - 0.1, X[:, 1].max() + 0.1\n",
        "\n",
        "  xx, yy = np.meshgrid(np.linspace(x_min, x_max, 100),\n",
        "                       np.linspace(y_min, y_max, 100))\n",
        "  \n",
        "  # Create X value (we're going to make predictions on these\n",
        "  x_in = np.c_[xx.ravel(), yy.ravel()] # stack 2D arrays together\n",
        "\n",
        "  # Make predictions\n",
        "  y_pred = model.predict(x_in)\n",
        "\n",
        "  # Check for multiclass\n",
        "  if len(y_pred[0]) > 1:\n",
        "    print(\"doing multi-class classification\")\n",
        "    # We have to reshape our prediction to get them ready for plotting\n",
        "    y_pred = np.argmax(y_pred, axis=1).reshape(xx.shape)\n",
        "  else:\n",
        "    print(\"doing binary classification\")\n",
        "    y_pred = np.round(y_pred).reshape(xx.shape)\n",
        "\n",
        "  # Plot the decision boundary\n",
        "  plt.contourf(xx, yy, y_pred, cmap=plt.cm.RdYlBu, alpha=0.7)\n",
        "  plt.scatter(X[:, 0], X[:, 1], c=y, s=40, cmap=plt.cm.RdYlBu)\n",
        "  plt.xlim(xx.min(), xx.max())\n",
        "  plt.ylim(yy.min(), yy.max())"
      ],
      "metadata": {
        "id": "Ty-9LQz3wsEG"
      },
      "execution_count": 14,
      "outputs": []
    },
    {
      "cell_type": "code",
      "source": [
        "# Check out the predictions our model is making\n",
        "plot_decision_boundary(model_2, X, y)"
      ],
      "metadata": {
        "colab": {
          "base_uri": "https://localhost:8080/",
          "height": 300
        },
        "id": "0uXJIqFiyUVc",
        "outputId": "d4f8465d-c9e9-45da-e1f9-a0e71cf5ebf9"
      },
      "execution_count": 15,
      "outputs": [
        {
          "output_type": "stream",
          "name": "stdout",
          "text": [
            "313/313 [==============================] - 0s 1ms/step\n",
            "doing binary classification\n"
          ]
        },
        {
          "output_type": "display_data",
          "data": {
            "text/plain": [
              "<Figure size 432x288 with 1 Axes>"
            ],
            "image/png": "[encoded data removed]"
          },
          "metadata": {
            "needs_background": "light"
          }
        }
      ]
    },
    {
      "cell_type": "markdown",
      "source": [
        "## The missing piece - non linearity"
      ],
      "metadata": {
        "id": "Omb18o38ycoS"
      }
    },
    {
      "cell_type": "code",
      "source": [
        "# Set random seed\n",
        "tf.random.set_seed(42)\n",
        "\n",
        "# Create the model\n",
        "model_4 = tf.keras.Sequential([\n",
        "    tf.keras.layers.Dense(1, activation=\"linear\")\n",
        "])\n",
        "\n",
        "# Compile the model\n",
        "model_4.compile(loss=\"binary_crossentropy\",\n",
        "                optimizer=tf.keras.optimizers.Adam(),\n",
        "                metrics=[\"accuracy\"])\n",
        "\n",
        "# Fit the model\n",
        "history = model_4.fit(X, y, epochs=100)"
      ],
      "metadata": {
        "colab": {
          "base_uri": "https://localhost:8080/"
        },
        "id": "fSLQAcXYCLXq",
        "outputId": "e81591cf-624c-4d47-b659-9d5d6b7a4312"
      },
      "execution_count": 16,
      "outputs": [
        {
          "output_type": "stream",
          "name": "stdout",
          "text": [
            "Epoch 1/100\n",
            "32/32 [==============================] - 1s 2ms/step - loss: 6.1368 - accuracy: 0.4890\n",
            "Epoch 2/100\n",
            "32/32 [==============================] - 0s 2ms/step - loss: 6.1187 - accuracy: 0.4890\n",
            "Epoch 3/100\n",
            "32/32 [==============================] - 0s 2ms/step - loss: 6.1156 - accuracy: 0.4870\n",
            "Epoch 4/100\n",
            "32/32 [==============================] - 0s 2ms/step - loss: 6.1114 - accuracy: 0.4890\n",
            "Epoch 5/100\n",
            "32/32 [==============================] - 0s 2ms/step - loss: 6.1105 - accuracy: 0.4880\n",
            "Epoch 6/100\n",
            "32/32 [==============================] - 0s 2ms/step - loss: 6.1095 - accuracy: 0.4880\n",
            "Epoch 7/100\n",
            "32/32 [==============================] - 0s 2ms/step - loss: 6.1090 - accuracy: 0.4870\n",
            "Epoch 8/100\n",
            "32/32 [==============================] - 0s 2ms/step - loss: 6.1084 - accuracy: 0.4870\n",
            "Epoch 9/100\n",
            "32/32 [==============================] - 0s 2ms/step - loss: 6.0997 - accuracy: 0.4880\n",
            "Epoch 10/100\n",
            "32/32 [==============================] - 0s 2ms/step - loss: 6.0900 - accuracy: 0.4890\n",
            "Epoch 11/100\n",
            "32/32 [==============================] - 0s 2ms/step - loss: 6.0692 - accuracy: 0.4870\n",
            "Epoch 12/100\n",
            "32/32 [==============================] - 0s 2ms/step - loss: 6.0543 - accuracy: 0.4840\n",
            "Epoch 13/100\n",
            "32/32 [==============================] - 0s 2ms/step - loss: 6.0508 - accuracy: 0.4840\n",
            "Epoch 14/100\n",
            "32/32 [==============================] - 0s 3ms/step - loss: 6.0505 - accuracy: 0.4850\n",
            "Epoch 15/100\n",
            "32/32 [==============================] - 0s 3ms/step - loss: 6.0500 - accuracy: 0.4850\n",
            "Epoch 16/100\n",
            "32/32 [==============================] - 0s 3ms/step - loss: 6.0496 - accuracy: 0.4850\n",
            "Epoch 17/100\n",
            "32/32 [==============================] - 0s 3ms/step - loss: 6.0492 - accuracy: 0.4850\n",
            "Epoch 18/100\n",
            "32/32 [==============================] - 0s 3ms/step - loss: 6.0487 - accuracy: 0.4850\n",
            "Epoch 19/100\n",
            "32/32 [==============================] - 0s 3ms/step - loss: 6.0484 - accuracy: 0.4850\n",
            "Epoch 20/100\n",
            "32/32 [==============================] - 0s 3ms/step - loss: 6.0478 - accuracy: 0.4850\n",
            "Epoch 21/100\n",
            "32/32 [==============================] - 0s 3ms/step - loss: 6.0474 - accuracy: 0.4850\n",
            "Epoch 22/100\n",
            "32/32 [==============================] - 0s 3ms/step - loss: 6.0470 - accuracy: 0.4850\n",
            "Epoch 23/100\n",
            "32/32 [==============================] - 0s 3ms/step - loss: 6.0467 - accuracy: 0.4850\n",
            "Epoch 24/100\n",
            "32/32 [==============================] - 0s 3ms/step - loss: 6.0462 - accuracy: 0.4850\n",
            "Epoch 25/100\n",
            "32/32 [==============================] - 0s 3ms/step - loss: 6.0457 - accuracy: 0.4850\n",
            "Epoch 26/100\n",
            "32/32 [==============================] - 0s 3ms/step - loss: 6.0454 - accuracy: 0.4850\n",
            "Epoch 27/100\n",
            "32/32 [==============================] - 0s 3ms/step - loss: 6.0489 - accuracy: 0.4850\n",
            "Epoch 28/100\n",
            "32/32 [==============================] - 0s 3ms/step - loss: 6.0436 - accuracy: 0.4850\n",
            "Epoch 29/100\n",
            "32/32 [==============================] - 0s 3ms/step - loss: 6.0433 - accuracy: 0.4850\n",
            "Epoch 30/100\n",
            "32/32 [==============================] - 0s 3ms/step - loss: 6.0429 - accuracy: 0.4850\n",
            "Epoch 31/100\n",
            "32/32 [==============================] - 0s 3ms/step - loss: 6.0424 - accuracy: 0.4850\n",
            "Epoch 32/100\n",
            "32/32 [==============================] - 0s 3ms/step - loss: 6.0421 - accuracy: 0.4850\n",
            "Epoch 33/100\n",
            "32/32 [==============================] - 0s 3ms/step - loss: 6.0418 - accuracy: 0.4850\n",
            "Epoch 34/100\n",
            "32/32 [==============================] - 0s 3ms/step - loss: 6.0415 - accuracy: 0.4850\n",
            "Epoch 35/100\n",
            "32/32 [==============================] - 0s 3ms/step - loss: 6.0411 - accuracy: 0.4860\n",
            "Epoch 36/100\n",
            "32/32 [==============================] - 0s 3ms/step - loss: 6.0408 - accuracy: 0.4850\n",
            "Epoch 37/100\n",
            "32/32 [==============================] - 0s 3ms/step - loss: 6.0341 - accuracy: 0.4850\n",
            "Epoch 38/100\n",
            "32/32 [==============================] - 0s 3ms/step - loss: 6.0120 - accuracy: 0.4840\n",
            "Epoch 39/100\n",
            "32/32 [==============================] - 0s 3ms/step - loss: 5.9901 - accuracy: 0.4850\n",
            "Epoch 40/100\n",
            "32/32 [==============================] - 0s 3ms/step - loss: 5.9552 - accuracy: 0.4860\n",
            "Epoch 41/100\n",
            "32/32 [==============================] - 0s 3ms/step - loss: 5.9537 - accuracy: 0.4870\n",
            "Epoch 42/100\n",
            "32/32 [==============================] - 0s 2ms/step - loss: 5.9534 - accuracy: 0.4870\n",
            "Epoch 43/100\n",
            "32/32 [==============================] - 0s 3ms/step - loss: 5.9531 - accuracy: 0.4870\n",
            "Epoch 44/100\n",
            "32/32 [==============================] - 0s 3ms/step - loss: 5.9529 - accuracy: 0.4870\n",
            "Epoch 45/100\n",
            "32/32 [==============================] - 0s 3ms/step - loss: 5.9527 - accuracy: 0.4870\n",
            "Epoch 46/100\n",
            "32/32 [==============================] - 0s 3ms/step - loss: 5.9525 - accuracy: 0.4870\n",
            "Epoch 47/100\n",
            "32/32 [==============================] - 0s 2ms/step - loss: 5.9522 - accuracy: 0.4870\n",
            "Epoch 48/100\n",
            "32/32 [==============================] - 0s 2ms/step - loss: 5.9520 - accuracy: 0.4870\n",
            "Epoch 49/100\n",
            "32/32 [==============================] - 0s 2ms/step - loss: 5.9518 - accuracy: 0.4870\n",
            "Epoch 50/100\n",
            "32/32 [==============================] - 0s 2ms/step - loss: 5.9516 - accuracy: 0.4870\n",
            "Epoch 51/100\n",
            "32/32 [==============================] - 0s 2ms/step - loss: 5.9515 - accuracy: 0.4870\n",
            "Epoch 52/100\n",
            "32/32 [==============================] - 0s 2ms/step - loss: 5.9513 - accuracy: 0.4870\n",
            "Epoch 53/100\n",
            "32/32 [==============================] - 0s 2ms/step - loss: 5.9380 - accuracy: 0.4860\n",
            "Epoch 54/100\n",
            "32/32 [==============================] - 0s 2ms/step - loss: 5.9089 - accuracy: 0.4870\n",
            "Epoch 55/100\n",
            "32/32 [==============================] - 0s 2ms/step - loss: 5.8948 - accuracy: 0.4860\n",
            "Epoch 56/100\n",
            "32/32 [==============================] - 0s 2ms/step - loss: 5.8883 - accuracy: 0.4850\n",
            "Epoch 57/100\n",
            "32/32 [==============================] - 0s 2ms/step - loss: 5.8771 - accuracy: 0.4820\n",
            "Epoch 58/100\n",
            "32/32 [==============================] - 0s 2ms/step - loss: 5.8670 - accuracy: 0.4810\n",
            "Epoch 59/100\n",
            "32/32 [==============================] - 0s 2ms/step - loss: 5.8666 - accuracy: 0.4810\n",
            "Epoch 60/100\n",
            "32/32 [==============================] - 0s 2ms/step - loss: 5.8664 - accuracy: 0.4810\n",
            "Epoch 61/100\n",
            "32/32 [==============================] - 0s 2ms/step - loss: 5.8661 - accuracy: 0.4810\n",
            "Epoch 62/100\n",
            "32/32 [==============================] - 0s 2ms/step - loss: 5.8659 - accuracy: 0.4810\n",
            "Epoch 63/100\n",
            "32/32 [==============================] - 0s 2ms/step - loss: 5.8657 - accuracy: 0.4810\n",
            "Epoch 64/100\n",
            "32/32 [==============================] - 0s 2ms/step - loss: 5.8656 - accuracy: 0.4810\n",
            "Epoch 65/100\n",
            "32/32 [==============================] - 0s 2ms/step - loss: 5.8654 - accuracy: 0.4810\n",
            "Epoch 66/100\n",
            "32/32 [==============================] - 0s 2ms/step - loss: 5.8652 - accuracy: 0.4810\n",
            "Epoch 67/100\n",
            "32/32 [==============================] - 0s 2ms/step - loss: 5.8651 - accuracy: 0.4810\n",
            "Epoch 68/100\n",
            "32/32 [==============================] - 0s 2ms/step - loss: 5.8649 - accuracy: 0.4810\n",
            "Epoch 69/100\n",
            "32/32 [==============================] - 0s 2ms/step - loss: 5.8647 - accuracy: 0.4810\n",
            "Epoch 70/100\n",
            "32/32 [==============================] - 0s 2ms/step - loss: 5.8646 - accuracy: 0.4810\n",
            "Epoch 71/100\n",
            "32/32 [==============================] - 0s 2ms/step - loss: 5.8644 - accuracy: 0.4810\n",
            "Epoch 72/100\n",
            "32/32 [==============================] - 0s 2ms/step - loss: 5.8643 - accuracy: 0.4810\n",
            "Epoch 73/100\n",
            "32/32 [==============================] - 0s 2ms/step - loss: 5.8641 - accuracy: 0.4810\n",
            "Epoch 74/100\n",
            "32/32 [==============================] - 0s 2ms/step - loss: 5.8640 - accuracy: 0.4810\n",
            "Epoch 75/100\n",
            "32/32 [==============================] - 0s 2ms/step - loss: 5.8638 - accuracy: 0.4810\n",
            "Epoch 76/100\n",
            "32/32 [==============================] - 0s 2ms/step - loss: 5.8637 - accuracy: 0.4810\n",
            "Epoch 77/100\n",
            "32/32 [==============================] - 0s 2ms/step - loss: 5.8635 - accuracy: 0.4800\n",
            "Epoch 78/100\n",
            "32/32 [==============================] - 0s 2ms/step - loss: 5.8634 - accuracy: 0.4800\n",
            "Epoch 79/100\n",
            "32/32 [==============================] - 0s 2ms/step - loss: 5.8632 - accuracy: 0.4800\n",
            "Epoch 80/100\n",
            "32/32 [==============================] - 0s 2ms/step - loss: 5.8631 - accuracy: 0.4800\n",
            "Epoch 81/100\n",
            "32/32 [==============================] - 0s 2ms/step - loss: 5.8629 - accuracy: 0.4800\n",
            "Epoch 82/100\n",
            "32/32 [==============================] - 0s 2ms/step - loss: 5.8628 - accuracy: 0.4800\n",
            "Epoch 83/100\n",
            "32/32 [==============================] - 0s 2ms/step - loss: 5.8626 - accuracy: 0.4800\n",
            "Epoch 84/100\n",
            "32/32 [==============================] - 0s 2ms/step - loss: 5.8625 - accuracy: 0.4800\n",
            "Epoch 85/100\n",
            "32/32 [==============================] - 0s 2ms/step - loss: 5.8623 - accuracy: 0.4800\n",
            "Epoch 86/100\n",
            "32/32 [==============================] - 0s 2ms/step - loss: 5.8621 - accuracy: 0.4800\n",
            "Epoch 87/100\n",
            "32/32 [==============================] - 0s 2ms/step - loss: 5.8620 - accuracy: 0.4800\n",
            "Epoch 88/100\n",
            "32/32 [==============================] - 0s 2ms/step - loss: 5.8619 - accuracy: 0.4800\n",
            "Epoch 89/100\n",
            "32/32 [==============================] - 0s 3ms/step - loss: 5.8542 - accuracy: 0.4800\n",
            "Epoch 90/100\n",
            "32/32 [==============================] - 0s 2ms/step - loss: 5.8346 - accuracy: 0.4820\n",
            "Epoch 91/100\n",
            "32/32 [==============================] - 0s 2ms/step - loss: 5.8090 - accuracy: 0.4800\n",
            "Epoch 92/100\n",
            "32/32 [==============================] - 0s 2ms/step - loss: 5.8082 - accuracy: 0.4800\n",
            "Epoch 93/100\n",
            "32/32 [==============================] - 0s 2ms/step - loss: 5.8077 - accuracy: 0.4800\n",
            "Epoch 94/100\n",
            "32/32 [==============================] - 0s 2ms/step - loss: 5.8072 - accuracy: 0.4790\n",
            "Epoch 95/100\n",
            "32/32 [==============================] - 0s 2ms/step - loss: 5.8068 - accuracy: 0.4790\n",
            "Epoch 96/100\n",
            "32/32 [==============================] - 0s 2ms/step - loss: 5.7986 - accuracy: 0.4790\n",
            "Epoch 97/100\n",
            "32/32 [==============================] - 0s 2ms/step - loss: 5.7868 - accuracy: 0.4790\n",
            "Epoch 98/100\n",
            "32/32 [==============================] - 0s 2ms/step - loss: 5.7853 - accuracy: 0.4790\n",
            "Epoch 99/100\n",
            "32/32 [==============================] - 0s 2ms/step - loss: 5.7841 - accuracy: 0.4790\n",
            "Epoch 100/100\n",
            "32/32 [==============================] - 0s 2ms/step - loss: 5.7836 - accuracy: 0.4790\n"
          ]
        }
      ]
    },
    {
      "cell_type": "code",
      "source": [
        "# Check out data\n",
        "plt.scatter(X[:, 0], X[:, 1], c=y, cmap=plt.cm.RdYlBu);"
      ],
      "metadata": {
        "colab": {
          "base_uri": "https://localhost:8080/",
          "height": 265
        },
        "id": "gck27e30DQNS",
        "outputId": "8219bca9-fe8a-44a0-8121-e279a7c52f51"
      },
      "execution_count": 17,
      "outputs": [
        {
          "output_type": "display_data",
          "data": {
            "text/plain": [
              "<Figure size 432x288 with 1 Axes>"
            ],
            "image/png": "[encoded data removed]"
          },
          "metadata": {
            "needs_background": "light"
          }
        }
      ]
    },
    {
      "cell_type": "code",
      "source": [
        "# Check the decision boundary for our model\n",
        "plot_decision_boundary(model=model_4,\n",
        "                       X=X,\n",
        "                       y=y)"
      ],
      "metadata": {
        "colab": {
          "base_uri": "https://localhost:8080/",
          "height": 300
        },
        "id": "z7aKlrY2DeXg",
        "outputId": "a847f958-941e-4045-d599-3ad21762bba4"
      },
      "execution_count": 18,
      "outputs": [
        {
          "output_type": "stream",
          "name": "stdout",
          "text": [
            "313/313 [==============================] - 0s 1ms/step\n",
            "doing binary classification\n"
          ]
        },
        {
          "output_type": "display_data",
          "data": {
            "text/plain": [
              "<Figure size 432x288 with 1 Axes>"
            ],
            "image/png": "[encoded data removed]"
          },
          "metadata": {
            "needs_background": "light"
          }
        }
      ]
    },
    {
      "cell_type": "markdown",
      "source": [
        "Let's build our first neural network with a non linear activation function"
      ],
      "metadata": {
        "id": "3Ucpy_FODoZF"
      }
    },
    {
      "cell_type": "code",
      "source": [
        "# Set random seed\n",
        "tf.random.set_seed(42)\n",
        "\n",
        "# 1. Create a model with a non-linear activation\n",
        "model_5 = tf.keras.Sequential([\n",
        "    tf.keras.layers.Dense(1, activation=tf.keras.activations.relu)\n",
        "])\n",
        "\n",
        "# Compile the model\n",
        "model_5.compile(loss=\"binary_crossentropy\",\n",
        "                optimizer=tf.keras.optimizers.Adam(),\n",
        "                metrics=[\"accuracy\"])\n",
        "\n",
        "# Fit the model\n",
        "model_5.fit(tf.constant(X, dtype=tf.float32),\n",
        "            tf.constant(y, dtype=tf.float32),\n",
        "            epochs=100)"
      ],
      "metadata": {
        "colab": {
          "base_uri": "https://localhost:8080/"
        },
        "id": "3D0_yPurEaNN",
        "outputId": "8781e63f-b3e0-4701-e99b-244a2746b59a"
      },
      "execution_count": 19,
      "outputs": [
        {
          "output_type": "stream",
          "name": "stdout",
          "text": [
            "Epoch 1/100\n",
            "32/32 [==============================] - 1s 2ms/step - loss: 5.9674 - accuracy: 0.4820\n",
            "Epoch 2/100\n",
            "32/32 [==============================] - 0s 2ms/step - loss: 5.9633 - accuracy: 0.4830\n",
            "Epoch 3/100\n",
            "32/32 [==============================] - 0s 2ms/step - loss: 5.9599 - accuracy: 0.4830\n",
            "Epoch 4/100\n",
            "32/32 [==============================] - 0s 3ms/step - loss: 5.9576 - accuracy: 0.4840\n",
            "Epoch 5/100\n",
            "32/32 [==============================] - 0s 2ms/step - loss: 5.9250 - accuracy: 0.4820\n",
            "Epoch 6/100\n",
            "32/32 [==============================] - 0s 2ms/step - loss: 5.8789 - accuracy: 0.4810\n",
            "Epoch 7/100\n",
            "32/32 [==============================] - 0s 2ms/step - loss: 5.8531 - accuracy: 0.4820\n",
            "Epoch 8/100\n",
            "32/32 [==============================] - 0s 2ms/step - loss: 5.8218 - accuracy: 0.4810\n",
            "Epoch 9/100\n",
            "32/32 [==============================] - 0s 2ms/step - loss: 5.8221 - accuracy: 0.4830\n",
            "Epoch 10/100\n",
            "32/32 [==============================] - 0s 2ms/step - loss: 5.7846 - accuracy: 0.4790\n",
            "Epoch 11/100\n",
            "32/32 [==============================] - 0s 2ms/step - loss: 5.7371 - accuracy: 0.4790\n",
            "Epoch 12/100\n",
            "32/32 [==============================] - 0s 2ms/step - loss: 5.7400 - accuracy: 0.4770\n",
            "Epoch 13/100\n",
            "32/32 [==============================] - 0s 2ms/step - loss: 5.7323 - accuracy: 0.4770\n",
            "Epoch 14/100\n",
            "32/32 [==============================] - 0s 2ms/step - loss: 5.6882 - accuracy: 0.4770\n",
            "Epoch 15/100\n",
            "32/32 [==============================] - 0s 2ms/step - loss: 5.6505 - accuracy: 0.4720\n",
            "Epoch 16/100\n",
            "32/32 [==============================] - 0s 2ms/step - loss: 5.6254 - accuracy: 0.4720\n",
            "Epoch 17/100\n",
            "32/32 [==============================] - 0s 2ms/step - loss: 5.5573 - accuracy: 0.4730\n",
            "Epoch 18/100\n",
            "32/32 [==============================] - 0s 3ms/step - loss: 5.5220 - accuracy: 0.4740\n",
            "Epoch 19/100\n",
            "32/32 [==============================] - 0s 2ms/step - loss: 5.5240 - accuracy: 0.4760\n",
            "Epoch 20/100\n",
            "32/32 [==============================] - 0s 2ms/step - loss: 5.5207 - accuracy: 0.4760\n",
            "Epoch 21/100\n",
            "32/32 [==============================] - 0s 2ms/step - loss: 5.5192 - accuracy: 0.4760\n",
            "Epoch 22/100\n",
            "32/32 [==============================] - 0s 2ms/step - loss: 5.5178 - accuracy: 0.4760\n",
            "Epoch 23/100\n",
            "32/32 [==============================] - 0s 2ms/step - loss: 5.5167 - accuracy: 0.4750\n",
            "Epoch 24/100\n",
            "32/32 [==============================] - 0s 2ms/step - loss: 5.5075 - accuracy: 0.4760\n",
            "Epoch 25/100\n",
            "32/32 [==============================] - 0s 2ms/step - loss: 5.5045 - accuracy: 0.4760\n",
            "Epoch 26/100\n",
            "32/32 [==============================] - 0s 2ms/step - loss: 5.4937 - accuracy: 0.4770\n",
            "Epoch 27/100\n",
            "32/32 [==============================] - 0s 2ms/step - loss: 5.4912 - accuracy: 0.4760\n",
            "Epoch 28/100\n",
            "32/32 [==============================] - 0s 2ms/step - loss: 5.4811 - accuracy: 0.4760\n",
            "Epoch 29/100\n",
            "32/32 [==============================] - 0s 3ms/step - loss: 5.4781 - accuracy: 0.4750\n",
            "Epoch 30/100\n",
            "32/32 [==============================] - 0s 3ms/step - loss: 5.4760 - accuracy: 0.4750\n",
            "Epoch 31/100\n",
            "32/32 [==============================] - 0s 4ms/step - loss: 5.4748 - accuracy: 0.4750\n",
            "Epoch 32/100\n",
            "32/32 [==============================] - 0s 3ms/step - loss: 5.4734 - accuracy: 0.4750\n",
            "Epoch 33/100\n",
            "32/32 [==============================] - 0s 3ms/step - loss: 5.4722 - accuracy: 0.4750\n",
            "Epoch 34/100\n",
            "32/32 [==============================] - 0s 3ms/step - loss: 5.4668 - accuracy: 0.4750\n",
            "Epoch 35/100\n",
            "32/32 [==============================] - 0s 3ms/step - loss: 5.2464 - accuracy: 0.4780\n",
            "Epoch 36/100\n",
            "32/32 [==============================] - 0s 2ms/step - loss: 5.2048 - accuracy: 0.4750\n",
            "Epoch 37/100\n",
            "32/32 [==============================] - 0s 2ms/step - loss: 5.2031 - accuracy: 0.4750\n",
            "Epoch 38/100\n",
            "32/32 [==============================] - 0s 3ms/step - loss: 5.2018 - accuracy: 0.4750\n",
            "Epoch 39/100\n",
            "32/32 [==============================] - 0s 2ms/step - loss: 5.2010 - accuracy: 0.4750\n",
            "Epoch 40/100\n",
            "32/32 [==============================] - 0s 3ms/step - loss: 5.2002 - accuracy: 0.4740\n",
            "Epoch 41/100\n",
            "32/32 [==============================] - 0s 3ms/step - loss: 5.1915 - accuracy: 0.4750\n",
            "Epoch 42/100\n",
            "32/32 [==============================] - 0s 3ms/step - loss: 5.1698 - accuracy: 0.4750\n",
            "Epoch 43/100\n",
            "32/32 [==============================] - 0s 3ms/step - loss: 5.1580 - accuracy: 0.4750\n",
            "Epoch 44/100\n",
            "32/32 [==============================] - 0s 2ms/step - loss: 5.1475 - accuracy: 0.4750\n",
            "Epoch 45/100\n",
            "32/32 [==============================] - 0s 3ms/step - loss: 5.1356 - accuracy: 0.4750\n",
            "Epoch 46/100\n",
            "32/32 [==============================] - 0s 3ms/step - loss: 5.1249 - accuracy: 0.4760\n",
            "Epoch 47/100\n",
            "32/32 [==============================] - 0s 3ms/step - loss: 5.1032 - accuracy: 0.4760\n",
            "Epoch 48/100\n",
            "32/32 [==============================] - 0s 3ms/step - loss: 5.0943 - accuracy: 0.4750\n",
            "Epoch 49/100\n",
            "32/32 [==============================] - 0s 3ms/step - loss: 5.0911 - accuracy: 0.4750\n",
            "Epoch 50/100\n",
            "32/32 [==============================] - 0s 3ms/step - loss: 5.0732 - accuracy: 0.4750\n",
            "Epoch 51/100\n",
            "32/32 [==============================] - 0s 3ms/step - loss: 5.0678 - accuracy: 0.4750\n",
            "Epoch 52/100\n",
            "32/32 [==============================] - 0s 3ms/step - loss: 5.0483 - accuracy: 0.4750\n",
            "Epoch 53/100\n",
            "32/32 [==============================] - 0s 3ms/step - loss: 5.0002 - accuracy: 0.4750\n",
            "Epoch 54/100\n",
            "32/32 [==============================] - 0s 3ms/step - loss: 4.9907 - accuracy: 0.4750\n",
            "Epoch 55/100\n",
            "32/32 [==============================] - 0s 3ms/step - loss: 4.9797 - accuracy: 0.4740\n",
            "Epoch 56/100\n",
            "32/32 [==============================] - 0s 3ms/step - loss: 4.9671 - accuracy: 0.4740\n",
            "Epoch 57/100\n",
            "32/32 [==============================] - 0s 3ms/step - loss: 4.9401 - accuracy: 0.4740\n",
            "Epoch 58/100\n",
            "32/32 [==============================] - 0s 3ms/step - loss: 4.9285 - accuracy: 0.4740\n",
            "Epoch 59/100\n",
            "32/32 [==============================] - 0s 3ms/step - loss: 4.9148 - accuracy: 0.4730\n",
            "Epoch 60/100\n",
            "32/32 [==============================] - 0s 2ms/step - loss: 4.8994 - accuracy: 0.4740\n",
            "Epoch 61/100\n",
            "32/32 [==============================] - 0s 2ms/step - loss: 4.8582 - accuracy: 0.4720\n",
            "Epoch 62/100\n",
            "32/32 [==============================] - 0s 2ms/step - loss: 4.8175 - accuracy: 0.4720\n",
            "Epoch 63/100\n",
            "32/32 [==============================] - 0s 2ms/step - loss: 4.8009 - accuracy: 0.4730\n",
            "Epoch 64/100\n",
            "32/32 [==============================] - 0s 2ms/step - loss: 4.7965 - accuracy: 0.4730\n",
            "Epoch 65/100\n",
            "32/32 [==============================] - 0s 2ms/step - loss: 4.7842 - accuracy: 0.4730\n",
            "Epoch 66/100\n",
            "32/32 [==============================] - 0s 2ms/step - loss: 4.7805 - accuracy: 0.4740\n",
            "Epoch 67/100\n",
            "32/32 [==============================] - 0s 2ms/step - loss: 4.7704 - accuracy: 0.4750\n",
            "Epoch 68/100\n",
            "32/32 [==============================] - 0s 2ms/step - loss: 4.7430 - accuracy: 0.4790\n",
            "Epoch 69/100\n",
            "32/32 [==============================] - 0s 2ms/step - loss: 4.7391 - accuracy: 0.4790\n",
            "Epoch 70/100\n",
            "32/32 [==============================] - 0s 2ms/step - loss: 4.7195 - accuracy: 0.4790\n",
            "Epoch 71/100\n",
            "32/32 [==============================] - 0s 2ms/step - loss: 4.7030 - accuracy: 0.4790\n",
            "Epoch 72/100\n",
            "32/32 [==============================] - 0s 2ms/step - loss: 4.6991 - accuracy: 0.4780\n",
            "Epoch 73/100\n",
            "32/32 [==============================] - 0s 2ms/step - loss: 4.6969 - accuracy: 0.4770\n",
            "Epoch 74/100\n",
            "32/32 [==============================] - 0s 2ms/step - loss: 4.6951 - accuracy: 0.4770\n",
            "Epoch 75/100\n",
            "32/32 [==============================] - 0s 2ms/step - loss: 4.6936 - accuracy: 0.4760\n",
            "Epoch 76/100\n",
            "32/32 [==============================] - 0s 2ms/step - loss: 4.6923 - accuracy: 0.4760\n",
            "Epoch 77/100\n",
            "32/32 [==============================] - 0s 2ms/step - loss: 4.6911 - accuracy: 0.4760\n",
            "Epoch 78/100\n",
            "32/32 [==============================] - 0s 2ms/step - loss: 4.6902 - accuracy: 0.4760\n",
            "Epoch 79/100\n",
            "32/32 [==============================] - 0s 2ms/step - loss: 4.6893 - accuracy: 0.4760\n",
            "Epoch 80/100\n",
            "32/32 [==============================] - 0s 2ms/step - loss: 4.6885 - accuracy: 0.4760\n",
            "Epoch 81/100\n",
            "32/32 [==============================] - 0s 2ms/step - loss: 4.6878 - accuracy: 0.4760\n",
            "Epoch 82/100\n",
            "32/32 [==============================] - 0s 2ms/step - loss: 4.6871 - accuracy: 0.4760\n",
            "Epoch 83/100\n",
            "32/32 [==============================] - 0s 2ms/step - loss: 4.6864 - accuracy: 0.4760\n",
            "Epoch 84/100\n",
            "32/32 [==============================] - 0s 2ms/step - loss: 4.6857 - accuracy: 0.4760\n",
            "Epoch 85/100\n",
            "32/32 [==============================] - 0s 2ms/step - loss: 4.6851 - accuracy: 0.4760\n",
            "Epoch 86/100\n",
            "32/32 [==============================] - 0s 2ms/step - loss: 4.6844 - accuracy: 0.4760\n",
            "Epoch 87/100\n",
            "32/32 [==============================] - 0s 2ms/step - loss: 4.6837 - accuracy: 0.4780\n",
            "Epoch 88/100\n",
            "32/32 [==============================] - 0s 2ms/step - loss: 4.6830 - accuracy: 0.4780\n",
            "Epoch 89/100\n",
            "32/32 [==============================] - 0s 2ms/step - loss: 4.6824 - accuracy: 0.4780\n",
            "Epoch 90/100\n",
            "32/32 [==============================] - 0s 2ms/step - loss: 4.6818 - accuracy: 0.4770\n",
            "Epoch 91/100\n",
            "32/32 [==============================] - 0s 3ms/step - loss: 4.6812 - accuracy: 0.4770\n",
            "Epoch 92/100\n",
            "32/32 [==============================] - 0s 2ms/step - loss: 4.6805 - accuracy: 0.4760\n",
            "Epoch 93/100\n",
            "32/32 [==============================] - 0s 2ms/step - loss: 4.6799 - accuracy: 0.4760\n",
            "Epoch 94/100\n",
            "32/32 [==============================] - 0s 2ms/step - loss: 4.6793 - accuracy: 0.4750\n",
            "Epoch 95/100\n",
            "32/32 [==============================] - 0s 2ms/step - loss: 4.6700 - accuracy: 0.4730\n",
            "Epoch 96/100\n",
            "32/32 [==============================] - 0s 2ms/step - loss: 4.6431 - accuracy: 0.4730\n",
            "Epoch 97/100\n",
            "32/32 [==============================] - 0s 2ms/step - loss: 4.6404 - accuracy: 0.4720\n",
            "Epoch 98/100\n",
            "32/32 [==============================] - 0s 2ms/step - loss: 4.6392 - accuracy: 0.4720\n",
            "Epoch 99/100\n",
            "32/32 [==============================] - 0s 2ms/step - loss: 4.6382 - accuracy: 0.4720\n",
            "Epoch 100/100\n",
            "32/32 [==============================] - 0s 2ms/step - loss: 4.6376 - accuracy: 0.4720\n"
          ]
        },
        {
          "output_type": "execute_result",
          "data": {
            "text/plain": [
              "<keras.callbacks.History at 0x7f4509d40970>"
            ]
          },
          "metadata": {},
          "execution_count": 19
        }
      ]
    },
    {
      "cell_type": "code",
      "source": [
        "#  Time to replicate the multi-layer neural network from tensorflow playground in code\n",
        "\n",
        "# Set random seed\n",
        "tf.random.set_seed(42)\n",
        "\n",
        "# Create the model\n",
        "model_6 = tf.keras.Sequential([\n",
        "    tf.keras.layers.Dense(4, activation=\"relu\"),\n",
        "    tf.keras.layers.Dense(4, activation=\"relu\"),\n",
        "    tf.keras.layers.Dense(1, activation=\"relu\")\n",
        "])\n",
        "\n",
        "# Compile the model\n",
        "model_6.compile(loss=\"binary_crossentropy\",\n",
        "                optimizer=tf.keras.optimizers.Adam(),\n",
        "                metrics=[\"accuracy\"])\n",
        "\n",
        "# Fit the model\n",
        "history = model_6.fit(tf.constant(X, dtype=tf.float32),\n",
        "                      tf.constant(y, dtype=tf.float32),\n",
        "                      epochs=100)"
      ],
      "metadata": {
        "colab": {
          "base_uri": "https://localhost:8080/"
        },
        "id": "5wynUoEKE2Fv",
        "outputId": "9cc4fa77-cbde-4787-be57-c3962f9c9964"
      },
      "execution_count": 20,
      "outputs": [
        {
          "output_type": "stream",
          "name": "stdout",
          "text": [
            "Epoch 1/100\n",
            "32/32 [==============================] - 1s 3ms/step - loss: 5.3632 - accuracy: 0.5000\n",
            "Epoch 2/100\n",
            "32/32 [==============================] - 0s 2ms/step - loss: 3.4465 - accuracy: 0.5000\n",
            "Epoch 3/100\n",
            "32/32 [==============================] - 0s 3ms/step - loss: 2.0765 - accuracy: 0.5000\n",
            "Epoch 4/100\n",
            "32/32 [==============================] - 0s 2ms/step - loss: 1.3010 - accuracy: 0.5000\n",
            "Epoch 5/100\n",
            "32/32 [==============================] - 0s 2ms/step - loss: 1.2039 - accuracy: 0.5000\n",
            "Epoch 6/100\n",
            "32/32 [==============================] - 0s 2ms/step - loss: 1.1351 - accuracy: 0.5000\n",
            "Epoch 7/100\n",
            "32/32 [==============================] - 0s 2ms/step - loss: 1.0783 - accuracy: 0.5000\n",
            "Epoch 8/100\n",
            "32/32 [==============================] - 0s 3ms/step - loss: 1.0296 - accuracy: 0.5000\n",
            "Epoch 9/100\n",
            "32/32 [==============================] - 0s 2ms/step - loss: 0.9887 - accuracy: 0.5000\n",
            "Epoch 10/100\n",
            "32/32 [==============================] - 0s 2ms/step - loss: 0.9525 - accuracy: 0.5000\n",
            "Epoch 11/100\n",
            "32/32 [==============================] - 0s 2ms/step - loss: 0.9220 - accuracy: 0.5000\n",
            "Epoch 12/100\n",
            "32/32 [==============================] - 0s 2ms/step - loss: 0.8964 - accuracy: 0.5000\n",
            "Epoch 13/100\n",
            "32/32 [==============================] - 0s 2ms/step - loss: 0.8745 - accuracy: 0.4800\n",
            "Epoch 14/100\n",
            "32/32 [==============================] - 0s 2ms/step - loss: 0.8569 - accuracy: 0.4290\n",
            "Epoch 15/100\n",
            "32/32 [==============================] - 0s 2ms/step - loss: 0.8421 - accuracy: 0.4180\n",
            "Epoch 16/100\n",
            "32/32 [==============================] - 0s 2ms/step - loss: 0.8306 - accuracy: 0.4480\n",
            "Epoch 17/100\n",
            "32/32 [==============================] - 0s 2ms/step - loss: 0.8206 - accuracy: 0.4570\n",
            "Epoch 18/100\n",
            "32/32 [==============================] - 0s 3ms/step - loss: 0.8119 - accuracy: 0.4590\n",
            "Epoch 19/100\n",
            "32/32 [==============================] - 0s 2ms/step - loss: 0.8045 - accuracy: 0.4640\n",
            "Epoch 20/100\n",
            "32/32 [==============================] - 0s 2ms/step - loss: 0.7969 - accuracy: 0.4660\n",
            "Epoch 21/100\n",
            "32/32 [==============================] - 0s 2ms/step - loss: 0.7903 - accuracy: 0.4670\n",
            "Epoch 22/100\n",
            "32/32 [==============================] - 0s 2ms/step - loss: 0.7832 - accuracy: 0.4680\n",
            "Epoch 23/100\n",
            "32/32 [==============================] - 0s 2ms/step - loss: 0.7765 - accuracy: 0.4680\n",
            "Epoch 24/100\n",
            "32/32 [==============================] - 0s 2ms/step - loss: 0.7697 - accuracy: 0.4650\n",
            "Epoch 25/100\n",
            "32/32 [==============================] - 0s 2ms/step - loss: 0.7597 - accuracy: 0.4760\n",
            "Epoch 26/100\n",
            "32/32 [==============================] - 0s 2ms/step - loss: 0.7499 - accuracy: 0.4800\n",
            "Epoch 27/100\n",
            "32/32 [==============================] - 0s 3ms/step - loss: 0.7439 - accuracy: 0.4780\n",
            "Epoch 28/100\n",
            "32/32 [==============================] - 0s 2ms/step - loss: 0.7382 - accuracy: 0.4760\n",
            "Epoch 29/100\n",
            "32/32 [==============================] - 0s 2ms/step - loss: 0.7339 - accuracy: 0.4780\n",
            "Epoch 30/100\n",
            "32/32 [==============================] - 0s 2ms/step - loss: 0.7298 - accuracy: 0.4770\n",
            "Epoch 31/100\n",
            "32/32 [==============================] - 0s 2ms/step - loss: 0.7263 - accuracy: 0.4770\n",
            "Epoch 32/100\n",
            "32/32 [==============================] - 0s 2ms/step - loss: 0.7230 - accuracy: 0.4760\n",
            "Epoch 33/100\n",
            "32/32 [==============================] - 0s 2ms/step - loss: 0.7203 - accuracy: 0.4780\n",
            "Epoch 34/100\n",
            "32/32 [==============================] - 0s 2ms/step - loss: 0.7180 - accuracy: 0.4750\n",
            "Epoch 35/100\n",
            "32/32 [==============================] - 0s 2ms/step - loss: 0.7157 - accuracy: 0.4790\n",
            "Epoch 36/100\n",
            "32/32 [==============================] - 0s 2ms/step - loss: 0.7136 - accuracy: 0.4780\n",
            "Epoch 37/100\n",
            "32/32 [==============================] - 0s 2ms/step - loss: 0.7118 - accuracy: 0.4810\n",
            "Epoch 38/100\n",
            "32/32 [==============================] - 0s 2ms/step - loss: 0.7103 - accuracy: 0.4810\n",
            "Epoch 39/100\n",
            "32/32 [==============================] - 0s 2ms/step - loss: 0.7089 - accuracy: 0.4790\n",
            "Epoch 40/100\n",
            "32/32 [==============================] - 0s 3ms/step - loss: 0.7076 - accuracy: 0.4810\n",
            "Epoch 41/100\n",
            "32/32 [==============================] - 0s 2ms/step - loss: 0.7065 - accuracy: 0.4850\n",
            "Epoch 42/100\n",
            "32/32 [==============================] - 0s 2ms/step - loss: 0.7054 - accuracy: 0.4780\n",
            "Epoch 43/100\n",
            "32/32 [==============================] - 0s 2ms/step - loss: 0.7042 - accuracy: 0.4840\n",
            "Epoch 44/100\n",
            "32/32 [==============================] - 0s 2ms/step - loss: 0.7037 - accuracy: 0.4800\n",
            "Epoch 45/100\n",
            "32/32 [==============================] - 0s 2ms/step - loss: 0.7026 - accuracy: 0.4790\n",
            "Epoch 46/100\n",
            "32/32 [==============================] - 0s 2ms/step - loss: 0.7018 - accuracy: 0.4780\n",
            "Epoch 47/100\n",
            "32/32 [==============================] - 0s 2ms/step - loss: 0.7015 - accuracy: 0.4830\n",
            "Epoch 48/100\n",
            "32/32 [==============================] - 0s 2ms/step - loss: 0.7006 - accuracy: 0.4820\n",
            "Epoch 49/100\n",
            "32/32 [==============================] - 0s 2ms/step - loss: 0.7001 - accuracy: 0.4810\n",
            "Epoch 50/100\n",
            "32/32 [==============================] - 0s 2ms/step - loss: 0.6995 - accuracy: 0.4740\n",
            "Epoch 51/100\n",
            "32/32 [==============================] - 0s 2ms/step - loss: 0.6990 - accuracy: 0.4820\n",
            "Epoch 52/100\n",
            "32/32 [==============================] - 0s 2ms/step - loss: 0.6987 - accuracy: 0.4910\n",
            "Epoch 53/100\n",
            "32/32 [==============================] - 0s 2ms/step - loss: 0.6981 - accuracy: 0.4800\n",
            "Epoch 54/100\n",
            "32/32 [==============================] - 0s 2ms/step - loss: 0.6977 - accuracy: 0.4780\n",
            "Epoch 55/100\n",
            "32/32 [==============================] - 0s 2ms/step - loss: 0.6975 - accuracy: 0.4850\n",
            "Epoch 56/100\n",
            "32/32 [==============================] - 0s 2ms/step - loss: 0.6970 - accuracy: 0.4750\n",
            "Epoch 57/100\n",
            "32/32 [==============================] - 0s 2ms/step - loss: 0.6966 - accuracy: 0.4700\n",
            "Epoch 58/100\n",
            "32/32 [==============================] - 0s 2ms/step - loss: 0.6964 - accuracy: 0.4640\n",
            "Epoch 59/100\n",
            "32/32 [==============================] - 0s 2ms/step - loss: 0.6965 - accuracy: 0.4770\n",
            "Epoch 60/100\n",
            "32/32 [==============================] - 0s 2ms/step - loss: 0.6957 - accuracy: 0.4770\n",
            "Epoch 61/100\n",
            "32/32 [==============================] - 0s 2ms/step - loss: 0.6954 - accuracy: 0.4780\n",
            "Epoch 62/100\n",
            "32/32 [==============================] - 0s 2ms/step - loss: 0.6951 - accuracy: 0.4640\n",
            "Epoch 63/100\n",
            "32/32 [==============================] - 0s 2ms/step - loss: 0.6946 - accuracy: 0.4750\n",
            "Epoch 64/100\n",
            "32/32 [==============================] - 0s 2ms/step - loss: 0.6943 - accuracy: 0.4800\n",
            "Epoch 65/100\n",
            "32/32 [==============================] - 0s 3ms/step - loss: 0.6941 - accuracy: 0.4780\n",
            "Epoch 66/100\n",
            "32/32 [==============================] - 0s 2ms/step - loss: 0.6938 - accuracy: 0.4950\n",
            "Epoch 67/100\n",
            "32/32 [==============================] - 0s 2ms/step - loss: 0.6934 - accuracy: 0.4890\n",
            "Epoch 68/100\n",
            "32/32 [==============================] - 0s 2ms/step - loss: 0.6931 - accuracy: 0.4930\n",
            "Epoch 69/100\n",
            "32/32 [==============================] - 0s 2ms/step - loss: 0.6927 - accuracy: 0.5040\n",
            "Epoch 70/100\n",
            "32/32 [==============================] - 0s 3ms/step - loss: 0.6925 - accuracy: 0.5030\n",
            "Epoch 71/100\n",
            "32/32 [==============================] - 0s 3ms/step - loss: 0.6921 - accuracy: 0.5060\n",
            "Epoch 72/100\n",
            "32/32 [==============================] - 0s 3ms/step - loss: 0.6919 - accuracy: 0.5120\n",
            "Epoch 73/100\n",
            "32/32 [==============================] - 0s 4ms/step - loss: 0.6915 - accuracy: 0.5160\n",
            "Epoch 74/100\n",
            "32/32 [==============================] - 0s 4ms/step - loss: 0.6912 - accuracy: 0.5130\n",
            "Epoch 75/100\n",
            "32/32 [==============================] - 0s 3ms/step - loss: 0.6910 - accuracy: 0.5190\n",
            "Epoch 76/100\n",
            "32/32 [==============================] - 0s 4ms/step - loss: 0.6908 - accuracy: 0.5110\n",
            "Epoch 77/100\n",
            "32/32 [==============================] - 0s 3ms/step - loss: 0.6905 - accuracy: 0.5260\n",
            "Epoch 78/100\n",
            "32/32 [==============================] - 0s 3ms/step - loss: 0.6899 - accuracy: 0.5180\n",
            "Epoch 79/100\n",
            "32/32 [==============================] - 0s 3ms/step - loss: 0.6896 - accuracy: 0.5290\n",
            "Epoch 80/100\n",
            "32/32 [==============================] - 0s 3ms/step - loss: 0.6891 - accuracy: 0.5630\n",
            "Epoch 81/100\n",
            "32/32 [==============================] - 0s 3ms/step - loss: 0.6890 - accuracy: 0.5920\n",
            "Epoch 82/100\n",
            "32/32 [==============================] - 0s 3ms/step - loss: 0.6886 - accuracy: 0.5310\n",
            "Epoch 83/100\n",
            "32/32 [==============================] - 0s 3ms/step - loss: 0.6883 - accuracy: 0.5240\n",
            "Epoch 84/100\n",
            "32/32 [==============================] - 0s 3ms/step - loss: 0.6875 - accuracy: 0.5710\n",
            "Epoch 85/100\n",
            "32/32 [==============================] - 0s 3ms/step - loss: 0.6872 - accuracy: 0.5830\n",
            "Epoch 86/100\n",
            "32/32 [==============================] - 0s 3ms/step - loss: 0.6871 - accuracy: 0.5950\n",
            "Epoch 87/100\n",
            "32/32 [==============================] - 0s 3ms/step - loss: 0.6864 - accuracy: 0.5650\n",
            "Epoch 88/100\n",
            "32/32 [==============================] - 0s 3ms/step - loss: 0.6860 - accuracy: 0.5460\n",
            "Epoch 89/100\n",
            "32/32 [==============================] - 0s 3ms/step - loss: 0.6858 - accuracy: 0.5410\n",
            "Epoch 90/100\n",
            "32/32 [==============================] - 0s 3ms/step - loss: 0.6858 - accuracy: 0.5320\n",
            "Epoch 91/100\n",
            "32/32 [==============================] - 0s 3ms/step - loss: 0.6847 - accuracy: 0.5440\n",
            "Epoch 92/100\n",
            "32/32 [==============================] - 0s 3ms/step - loss: 0.6846 - accuracy: 0.6060\n",
            "Epoch 93/100\n",
            "32/32 [==============================] - 0s 3ms/step - loss: 0.6845 - accuracy: 0.5500\n",
            "Epoch 94/100\n",
            "32/32 [==============================] - 0s 3ms/step - loss: 0.6834 - accuracy: 0.5690\n",
            "Epoch 95/100\n",
            "32/32 [==============================] - 0s 3ms/step - loss: 0.6830 - accuracy: 0.5640\n",
            "Epoch 96/100\n",
            "32/32 [==============================] - 0s 3ms/step - loss: 0.6825 - accuracy: 0.5830\n",
            "Epoch 97/100\n",
            "32/32 [==============================] - 0s 3ms/step - loss: 0.6820 - accuracy: 0.5740\n",
            "Epoch 98/100\n",
            "32/32 [==============================] - 0s 3ms/step - loss: 0.6813 - accuracy: 0.5750\n",
            "Epoch 99/100\n",
            "32/32 [==============================] - 0s 2ms/step - loss: 0.6811 - accuracy: 0.6430\n",
            "Epoch 100/100\n",
            "32/32 [==============================] - 0s 2ms/step - loss: 0.6804 - accuracy: 0.6380\n"
          ]
        }
      ]
    },
    {
      "cell_type": "code",
      "source": [
        "plot_decision_boundary(model_6, X, y)"
      ],
      "metadata": {
        "colab": {
          "base_uri": "https://localhost:8080/",
          "height": 300
        },
        "id": "hzSynT-_Fw51",
        "outputId": "30f3fbcf-2806-42b3-cf58-b39ac77c6272"
      },
      "execution_count": 21,
      "outputs": [
        {
          "output_type": "stream",
          "name": "stdout",
          "text": [
            "313/313 [==============================] - 0s 1ms/step\n",
            "doing binary classification\n"
          ]
        },
        {
          "output_type": "display_data",
          "data": {
            "text/plain": [
              "<Figure size 432x288 with 1 Axes>"
            ],
            "image/png": "[encoded data removed]"
          },
          "metadata": {
            "needs_background": "light"
          }
        }
      ]
    },
    {
      "cell_type": "code",
      "source": [
        "# Set random seed\n",
        "tf.random.set_seed(42)\n",
        "\n",
        "# Create the model\n",
        "model_7 = tf.keras.Sequential([\n",
        "    tf.keras.layers.Dense(5, activation=\"relu\"),\n",
        "    tf.keras.layers.Dense(9, activation=\"relu\"),\n",
        "    tf.keras.layers.Dense(7, activation=\"relu\"),\n",
        "    tf.keras.layers.Dense(5, activation=\"relu\"),\n",
        "    tf.keras.layers.Dense(1, activation=\"sigmoid\"),\n",
        "])\n",
        "\n",
        "# Create callback\n",
        "callback = tf.keras.callbacks.EarlyStopping(monitor=\"accuracy\", patience=10)\n",
        "\n",
        "# Compile the model\n",
        "model_7.compile(loss=\"binary_crossentropy\",\n",
        "                optimizer=tf.keras.optimizers.Adam(),\n",
        "                metrics=[\"accuracy\"])\n",
        "\n",
        "# Fit the model\n",
        "history = model_7.fit(tf.constant(X, dtype=tf.float32),\n",
        "                      tf.constant(y, dtype=tf.float32),\n",
        "                      callbacks=[callback],\n",
        "                      epochs=100)"
      ],
      "metadata": {
        "colab": {
          "base_uri": "https://localhost:8080/"
        },
        "id": "7I8TVIRrGRNF",
        "outputId": "0c3957f8-2c91-4a53-b2f5-4171843c566c"
      },
      "execution_count": 22,
      "outputs": [
        {
          "output_type": "stream",
          "name": "stdout",
          "text": [
            "Epoch 1/100\n",
            "32/32 [==============================] - 1s 2ms/step - loss: 0.6998 - accuracy: 0.5080\n",
            "Epoch 2/100\n",
            "32/32 [==============================] - 0s 3ms/step - loss: 0.6945 - accuracy: 0.4850\n",
            "Epoch 3/100\n",
            "32/32 [==============================] - 0s 2ms/step - loss: 0.6917 - accuracy: 0.4960\n",
            "Epoch 4/100\n",
            "32/32 [==============================] - 0s 3ms/step - loss: 0.6904 - accuracy: 0.4930\n",
            "Epoch 5/100\n",
            "32/32 [==============================] - 0s 2ms/step - loss: 0.6887 - accuracy: 0.5170\n",
            "Epoch 6/100\n",
            "32/32 [==============================] - 0s 2ms/step - loss: 0.6867 - accuracy: 0.5580\n",
            "Epoch 7/100\n",
            "32/32 [==============================] - 0s 3ms/step - loss: 0.6848 - accuracy: 0.5240\n",
            "Epoch 8/100\n",
            "32/32 [==============================] - 0s 3ms/step - loss: 0.6828 - accuracy: 0.5230\n",
            "Epoch 9/100\n",
            "32/32 [==============================] - 0s 2ms/step - loss: 0.6804 - accuracy: 0.5250\n",
            "Epoch 10/100\n",
            "32/32 [==============================] - 0s 2ms/step - loss: 0.6776 - accuracy: 0.5280\n",
            "Epoch 11/100\n",
            "32/32 [==============================] - 0s 2ms/step - loss: 0.6745 - accuracy: 0.5290\n",
            "Epoch 12/100\n",
            "32/32 [==============================] - 0s 2ms/step - loss: 0.6708 - accuracy: 0.5250\n",
            "Epoch 13/100\n",
            "32/32 [==============================] - 0s 2ms/step - loss: 0.6662 - accuracy: 0.5340\n",
            "Epoch 14/100\n",
            "32/32 [==============================] - 0s 2ms/step - loss: 0.6615 - accuracy: 0.5440\n",
            "Epoch 15/100\n",
            "32/32 [==============================] - 0s 2ms/step - loss: 0.6551 - accuracy: 0.5990\n",
            "Epoch 16/100\n",
            "32/32 [==============================] - 0s 3ms/step - loss: 0.6480 - accuracy: 0.6810\n",
            "Epoch 17/100\n",
            "32/32 [==============================] - 0s 3ms/step - loss: 0.6416 - accuracy: 0.6450\n",
            "Epoch 18/100\n",
            "32/32 [==============================] - 0s 2ms/step - loss: 0.6285 - accuracy: 0.6190\n",
            "Epoch 19/100\n",
            "32/32 [==============================] - 0s 2ms/step - loss: 0.6128 - accuracy: 0.7140\n",
            "Epoch 20/100\n",
            "32/32 [==============================] - 0s 3ms/step - loss: 0.5917 - accuracy: 0.7330\n",
            "Epoch 21/100\n",
            "32/32 [==============================] - 0s 2ms/step - loss: 0.5704 - accuracy: 0.7650\n",
            "Epoch 22/100\n",
            "32/32 [==============================] - 0s 2ms/step - loss: 0.5413 - accuracy: 0.7700\n",
            "Epoch 23/100\n",
            "32/32 [==============================] - 0s 3ms/step - loss: 0.5085 - accuracy: 0.8390\n",
            "Epoch 24/100\n",
            "32/32 [==============================] - 0s 2ms/step - loss: 0.4751 - accuracy: 0.8310\n",
            "Epoch 25/100\n",
            "32/32 [==============================] - 0s 2ms/step - loss: 0.4460 - accuracy: 0.8550\n",
            "Epoch 26/100\n",
            "32/32 [==============================] - 0s 2ms/step - loss: 0.4159 - accuracy: 0.8650\n",
            "Epoch 27/100\n",
            "32/32 [==============================] - 0s 2ms/step - loss: 0.3892 - accuracy: 0.8870\n",
            "Epoch 28/100\n",
            "32/32 [==============================] - 0s 2ms/step - loss: 0.3718 - accuracy: 0.8840\n",
            "Epoch 29/100\n",
            "32/32 [==============================] - 0s 3ms/step - loss: 0.3545 - accuracy: 0.8860\n",
            "Epoch 30/100\n",
            "32/32 [==============================] - 0s 2ms/step - loss: 0.3424 - accuracy: 0.8880\n",
            "Epoch 31/100\n",
            "32/32 [==============================] - 0s 2ms/step - loss: 0.3256 - accuracy: 0.8980\n",
            "Epoch 32/100\n",
            "32/32 [==============================] - 0s 2ms/step - loss: 0.3135 - accuracy: 0.8990\n",
            "Epoch 33/100\n",
            "32/32 [==============================] - 0s 2ms/step - loss: 0.2985 - accuracy: 0.9050\n",
            "Epoch 34/100\n",
            "32/32 [==============================] - 0s 2ms/step - loss: 0.2912 - accuracy: 0.9060\n",
            "Epoch 35/100\n",
            "32/32 [==============================] - 0s 2ms/step - loss: 0.2687 - accuracy: 0.9170\n",
            "Epoch 36/100\n",
            "32/32 [==============================] - 0s 2ms/step - loss: 0.2274 - accuracy: 0.9380\n",
            "Epoch 37/100\n",
            "32/32 [==============================] - 0s 3ms/step - loss: 0.1747 - accuracy: 0.9650\n",
            "Epoch 38/100\n",
            "32/32 [==============================] - 0s 2ms/step - loss: 0.1422 - accuracy: 0.9840\n",
            "Epoch 39/100\n",
            "32/32 [==============================] - 0s 2ms/step - loss: 0.1165 - accuracy: 0.9910\n",
            "Epoch 40/100\n",
            "32/32 [==============================] - 0s 2ms/step - loss: 0.0971 - accuracy: 0.9970\n",
            "Epoch 41/100\n",
            "32/32 [==============================] - 0s 3ms/step - loss: 0.0832 - accuracy: 0.9930\n",
            "Epoch 42/100\n",
            "32/32 [==============================] - 0s 2ms/step - loss: 0.0728 - accuracy: 0.9960\n",
            "Epoch 43/100\n",
            "32/32 [==============================] - 0s 2ms/step - loss: 0.0644 - accuracy: 0.9990\n",
            "Epoch 44/100\n",
            "32/32 [==============================] - 0s 2ms/step - loss: 0.0553 - accuracy: 1.0000\n",
            "Epoch 45/100\n",
            "32/32 [==============================] - 0s 2ms/step - loss: 0.0523 - accuracy: 0.9980\n",
            "Epoch 46/100\n",
            "32/32 [==============================] - 0s 2ms/step - loss: 0.0465 - accuracy: 0.9970\n",
            "Epoch 47/100\n",
            "32/32 [==============================] - 0s 2ms/step - loss: 0.0409 - accuracy: 0.9980\n",
            "Epoch 48/100\n",
            "32/32 [==============================] - 0s 2ms/step - loss: 0.0379 - accuracy: 0.9970\n",
            "Epoch 49/100\n",
            "32/32 [==============================] - 0s 2ms/step - loss: 0.0339 - accuracy: 1.0000\n",
            "Epoch 50/100\n",
            "32/32 [==============================] - 0s 2ms/step - loss: 0.0318 - accuracy: 1.0000\n",
            "Epoch 51/100\n",
            "32/32 [==============================] - 0s 2ms/step - loss: 0.0303 - accuracy: 1.0000\n",
            "Epoch 52/100\n",
            "32/32 [==============================] - 0s 2ms/step - loss: 0.0294 - accuracy: 0.9980\n",
            "Epoch 53/100\n",
            "32/32 [==============================] - 0s 2ms/step - loss: 0.0294 - accuracy: 0.9980\n",
            "Epoch 54/100\n",
            "32/32 [==============================] - 0s 3ms/step - loss: 0.0256 - accuracy: 1.0000\n"
          ]
        }
      ]
    },
    {
      "cell_type": "code",
      "source": [
        "plot_decision_boundary(model_7, X, y)"
      ],
      "metadata": {
        "colab": {
          "base_uri": "https://localhost:8080/",
          "height": 300
        },
        "id": "dyH7gttFG7dH",
        "outputId": "be2a7dc3-8153-46f8-e156-618f72c4324c"
      },
      "execution_count": 23,
      "outputs": [
        {
          "output_type": "stream",
          "name": "stdout",
          "text": [
            "313/313 [==============================] - 0s 1ms/step\n",
            "doing binary classification\n"
          ]
        },
        {
          "output_type": "display_data",
          "data": {
            "text/plain": [
              "<Figure size 432x288 with 1 Axes>"
            ],
            "image/png": "[encoded data removed]"
          },
          "metadata": {
            "needs_background": "light"
          }
        }
      ]
    },
    {
      "cell_type": "code",
      "source": [
        "# Evaluate our model\n",
        "model_7.evaluate(X, y)"
      ],
      "metadata": {
        "colab": {
          "base_uri": "https://localhost:8080/"
        },
        "id": "b3oNZkFrG_K9",
        "outputId": "376e52b3-aebd-444d-ab3d-dc6ac0271d31"
      },
      "execution_count": 24,
      "outputs": [
        {
          "output_type": "stream",
          "name": "stdout",
          "text": [
            "32/32 [==============================] - 0s 2ms/step - loss: 0.0221 - accuracy: 1.0000\n"
          ]
        },
        {
          "output_type": "execute_result",
          "data": {
            "text/plain": [
              "[0.022111164405941963, 1.0]"
            ]
          },
          "metadata": {},
          "execution_count": 24
        }
      ]
    },
    {
      "cell_type": "markdown",
      "source": [
        "Now we've discussed the concept of linear and non-linear functions, let's see them in action"
      ],
      "metadata": {
        "id": "RYq4JCIFHmlB"
      }
    },
    {
      "cell_type": "code",
      "source": [
        "# Create a toy tensor (simnilar to the data we pass into our models)\n",
        "A = tf.cast(tf.range(-10, 10), tf.float32)\n",
        "A"
      ],
      "metadata": {
        "colab": {
          "base_uri": "https://localhost:8080/"
        },
        "id": "6AHLESgJIu12",
        "outputId": "3695dbc9-8bb1-4252-b9f5-70361b9198ed"
      },
      "execution_count": 25,
      "outputs": [
        {
          "output_type": "execute_result",
          "data": {
            "text/plain": [
              "<tf.Tensor: shape=(20,), dtype=float32, numpy=\n",
              "array([-10.,  -9.,  -8.,  -7.,  -6.,  -5.,  -4.,  -3.,  -2.,  -1.,   0.,\n",
              "         1.,   2.,   3.,   4.,   5.,   6.,   7.,   8.,   9.],\n",
              "      dtype=float32)>"
            ]
          },
          "metadata": {},
          "execution_count": 25
        }
      ]
    },
    {
      "cell_type": "code",
      "source": [
        "# Visualize our toy tensor\n",
        "plt.plot(A);"
      ],
      "metadata": {
        "colab": {
          "base_uri": "https://localhost:8080/",
          "height": 265
        },
        "id": "nrfHJmJxI1VA",
        "outputId": "310ecf61-6025-4e6b-d701-a35b31dfeb37"
      },
      "execution_count": 26,
      "outputs": [
        {
          "output_type": "display_data",
          "data": {
            "text/plain": [
              "<Figure size 432x288 with 1 Axes>"
            ],
            "image/png": "[encoded data removed]"
          },
          "metadata": {
            "needs_background": "light"
          }
        }
      ]
    },
    {
      "cell_type": "code",
      "source": [
        "# Let's start by replicating sigmoid - sigmoid(x) = 1 / (1 + exp(-x))\n",
        "def sigmoid(x):\n",
        "  return 1 / (1 + tf.exp(-x))"
      ],
      "metadata": {
        "id": "Vrg1Ugk4I4Jg"
      },
      "execution_count": 27,
      "outputs": []
    },
    {
      "cell_type": "code",
      "source": [
        "sigmoid(A)"
      ],
      "metadata": {
        "colab": {
          "base_uri": "https://localhost:8080/"
        },
        "id": "4KU18AOaJVUH",
        "outputId": "5d0266aa-17d2-4f58-f297-baff6b7de88e"
      },
      "execution_count": 28,
      "outputs": [
        {
          "output_type": "execute_result",
          "data": {
            "text/plain": [
              "<tf.Tensor: shape=(20,), dtype=float32, numpy=\n",
              "array([4.5397872e-05, 1.2339458e-04, 3.3535014e-04, 9.1105117e-04,\n",
              "       2.4726233e-03, 6.6928510e-03, 1.7986210e-02, 4.7425874e-02,\n",
              "       1.1920292e-01, 2.6894143e-01, 5.0000000e-01, 7.3105860e-01,\n",
              "       8.8079703e-01, 9.5257413e-01, 9.8201376e-01, 9.9330717e-01,\n",
              "       9.9752742e-01, 9.9908900e-01, 9.9966466e-01, 9.9987662e-01],\n",
              "      dtype=float32)>"
            ]
          },
          "metadata": {},
          "execution_count": 28
        }
      ]
    },
    {
      "cell_type": "code",
      "source": [
        "# Plot our toy tensor transformed by sigmoid\n",
        "plt.plot(sigmoid(A))"
      ],
      "metadata": {
        "colab": {
          "base_uri": "https://localhost:8080/",
          "height": 282
        },
        "id": "nuwuO4NNJWZN",
        "outputId": "16182375-ea2d-437f-eb9a-ae4f1b0ad5dc"
      },
      "execution_count": 29,
      "outputs": [
        {
          "output_type": "execute_result",
          "data": {
            "text/plain": [
              "[<matplotlib.lines.Line2D at 0x7f4508ca0250>]"
            ]
          },
          "metadata": {},
          "execution_count": 29
        },
        {
          "output_type": "display_data",
          "data": {
            "text/plain": [
              "<Figure size 432x288 with 1 Axes>"
            ],
            "image/png": "[encoded data removed]"
          },
          "metadata": {
            "needs_background": "light"
          }
        }
      ]
    },
    {
      "cell_type": "code",
      "source": [
        "# Replicate relu activation function\n",
        "def relu(x):\n",
        "  return tf.maximum(0, x)"
      ],
      "metadata": {
        "id": "javB8E5dLEmX"
      },
      "execution_count": 30,
      "outputs": []
    },
    {
      "cell_type": "code",
      "source": [
        "relu(A)"
      ],
      "metadata": {
        "colab": {
          "base_uri": "https://localhost:8080/"
        },
        "id": "hRSt-8K5LZUT",
        "outputId": "a018a730-8014-4923-f47a-b63240797332"
      },
      "execution_count": 31,
      "outputs": [
        {
          "output_type": "execute_result",
          "data": {
            "text/plain": [
              "<tf.Tensor: shape=(20,), dtype=float32, numpy=\n",
              "array([0., 0., 0., 0., 0., 0., 0., 0., 0., 0., 0., 1., 2., 3., 4., 5., 6.,\n",
              "       7., 8., 9.], dtype=float32)>"
            ]
          },
          "metadata": {},
          "execution_count": 31
        }
      ]
    },
    {
      "cell_type": "code",
      "source": [
        "# Lets plot A passed through relu function\n",
        "plt.plot(relu(A));"
      ],
      "metadata": {
        "colab": {
          "base_uri": "https://localhost:8080/",
          "height": 265
        },
        "id": "ovIizq6PLa7s",
        "outputId": "71958caa-6bf0-46fd-c7a0-7becc18109fc"
      },
      "execution_count": 32,
      "outputs": [
        {
          "output_type": "display_data",
          "data": {
            "text/plain": [
              "<Figure size 432x288 with 1 Axes>"
            ],
            "image/png": "[encoded data removed]"
          },
          "metadata": {
            "needs_background": "light"
          }
        }
      ]
    },
    {
      "cell_type": "code",
      "source": [
        "# Let's try the linear activation function\n",
        "tf.keras.activations.linear(A)"
      ],
      "metadata": {
        "colab": {
          "base_uri": "https://localhost:8080/"
        },
        "id": "AGTNZwQXLvDh",
        "outputId": "02fca456-f62c-44d0-83a3-0cf9deff9a98"
      },
      "execution_count": 33,
      "outputs": [
        {
          "output_type": "execute_result",
          "data": {
            "text/plain": [
              "<tf.Tensor: shape=(20,), dtype=float32, numpy=\n",
              "array([-10.,  -9.,  -8.,  -7.,  -6.,  -5.,  -4.,  -3.,  -2.,  -1.,   0.,\n",
              "         1.,   2.,   3.,   4.,   5.,   6.,   7.,   8.,   9.],\n",
              "      dtype=float32)>"
            ]
          },
          "metadata": {},
          "execution_count": 33
        }
      ]
    },
    {
      "cell_type": "code",
      "source": [
        "plt.plot(tf.keras.activations.linear(A));"
      ],
      "metadata": {
        "colab": {
          "base_uri": "https://localhost:8080/",
          "height": 265
        },
        "id": "ZwRyPw8TMOev",
        "outputId": "d1dbe513-2922-4edb-dbae-0e622b317dfc"
      },
      "execution_count": 34,
      "outputs": [
        {
          "output_type": "display_data",
          "data": {
            "text/plain": [
              "<Figure size 432x288 with 1 Axes>"
            ],
            "image/png": "[encoded data removed]"
          },
          "metadata": {
            "needs_background": "light"
          }
        }
      ]
    },
    {
      "cell_type": "code",
      "source": [
        "A == tf.keras.activations.linear(A)"
      ],
      "metadata": {
        "colab": {
          "base_uri": "https://localhost:8080/"
        },
        "id": "P2yklQqWMRba",
        "outputId": "fa51ee46-3fb8-4133-f5dc-3fd6ffed9b51"
      },
      "execution_count": 35,
      "outputs": [
        {
          "output_type": "execute_result",
          "data": {
            "text/plain": [
              "<tf.Tensor: shape=(20,), dtype=bool, numpy=\n",
              "array([ True,  True,  True,  True,  True,  True,  True,  True,  True,\n",
              "        True,  True,  True,  True,  True,  True,  True,  True,  True,\n",
              "        True,  True])>"
            ]
          },
          "metadata": {},
          "execution_count": 35
        }
      ]
    },
    {
      "cell_type": "markdown",
      "source": [
        "## Evaluating and improving our classification problem\n",
        "\n",
        "So far we've been training and testing on teh same dataset\n",
        "\n",
        "However, in machine learning this is basically a sin\n",
        "\n",
        "So let's create a training and test set"
      ],
      "metadata": {
        "id": "yQJKL-5MMUyc"
      }
    },
    {
      "cell_type": "code",
      "source": [
        "# Split into train and test sets\n",
        "X_train, y_train = X[:800], y[:800]\n",
        "X_test, y_test = X[800:], y[800:]\n",
        "\n",
        "X_train.shape, X_test.shape, y_train.shape, y_test.shape"
      ],
      "metadata": {
        "colab": {
          "base_uri": "https://localhost:8080/"
        },
        "id": "WWQuWVwANeLk",
        "outputId": "2c76fb48-d1da-4b32-98cf-c0db83baa712"
      },
      "execution_count": 36,
      "outputs": [
        {
          "output_type": "execute_result",
          "data": {
            "text/plain": [
              "((800, 2), (200, 2), (800,), (200,))"
            ]
          },
          "metadata": {},
          "execution_count": 36
        }
      ]
    },
    {
      "cell_type": "code",
      "source": [
        "# Let's recreate a model to fit on the training data and evaluate on the test set\n",
        "\n",
        "# Set random seed\n",
        "tf.random.set_seed(42)\n",
        "\n",
        "# Create the model\n",
        "model_8 = tf.keras.Sequential([\n",
        "    tf.keras.layers.Dense(5, activation=\"relu\"),\n",
        "    tf.keras.layers.Dense(9, activation=\"relu\"),\n",
        "    tf.keras.layers.Dense(7, activation=\"relu\"),\n",
        "    tf.keras.layers.Dense(5, activation=\"relu\"),\n",
        "    tf.keras.layers.Dense(1, activation=\"sigmoid\"),\n",
        "])\n",
        "\n",
        "# Create callback\n",
        "callback = tf.keras.callbacks.EarlyStopping(monitor=\"loss\", patience=10)\n",
        "\n",
        "# Compile the model\n",
        "model_8.compile(loss=\"binary_crossentropy\",\n",
        "                optimizer=tf.keras.optimizers.Adam(),\n",
        "                metrics=[\"accuracy\"])\n",
        "\n",
        "# Fit the model\n",
        "history = model_8.fit(tf.constant(X_train, dtype=tf.float32),\n",
        "                      tf.constant(y_train, dtype=tf.float32),\n",
        "                      callbacks=[callback],\n",
        "                      epochs=100)"
      ],
      "metadata": {
        "colab": {
          "base_uri": "https://localhost:8080/"
        },
        "id": "bpiXHWNgOG8m",
        "outputId": "5ecbc844-7453-4008-a125-88c29381dad9"
      },
      "execution_count": 37,
      "outputs": [
        {
          "output_type": "stream",
          "name": "stdout",
          "text": [
            "Epoch 1/100\n",
            "25/25 [==============================] - 2s 3ms/step - loss: 0.6910 - accuracy: 0.5113\n",
            "Epoch 2/100\n",
            "25/25 [==============================] - 0s 3ms/step - loss: 0.6903 - accuracy: 0.5200\n",
            "Epoch 3/100\n",
            "25/25 [==============================] - 0s 4ms/step - loss: 0.6894 - accuracy: 0.5213\n",
            "Epoch 4/100\n",
            "25/25 [==============================] - 0s 4ms/step - loss: 0.6887 - accuracy: 0.5225\n",
            "Epoch 5/100\n",
            "25/25 [==============================] - 0s 3ms/step - loss: 0.6878 - accuracy: 0.5263\n",
            "Epoch 6/100\n",
            "25/25 [==============================] - 0s 3ms/step - loss: 0.6870 - accuracy: 0.5213\n",
            "Epoch 7/100\n",
            "25/25 [==============================] - 0s 4ms/step - loss: 0.6859 - accuracy: 0.5263\n",
            "Epoch 8/100\n",
            "25/25 [==============================] - 0s 3ms/step - loss: 0.6852 - accuracy: 0.5312\n",
            "Epoch 9/100\n",
            "25/25 [==============================] - 0s 4ms/step - loss: 0.6842 - accuracy: 0.5275\n",
            "Epoch 10/100\n",
            "25/25 [==============================] - 0s 3ms/step - loss: 0.6832 - accuracy: 0.5312\n",
            "Epoch 11/100\n",
            "25/25 [==============================] - 0s 3ms/step - loss: 0.6825 - accuracy: 0.5300\n",
            "Epoch 12/100\n",
            "25/25 [==============================] - 0s 3ms/step - loss: 0.6814 - accuracy: 0.5400\n",
            "Epoch 13/100\n",
            "25/25 [==============================] - 0s 2ms/step - loss: 0.6802 - accuracy: 0.5375\n",
            "Epoch 14/100\n",
            "25/25 [==============================] - 0s 2ms/step - loss: 0.6789 - accuracy: 0.5362\n",
            "Epoch 15/100\n",
            "25/25 [==============================] - 0s 2ms/step - loss: 0.6777 - accuracy: 0.5425\n",
            "Epoch 16/100\n",
            "25/25 [==============================] - 0s 2ms/step - loss: 0.6759 - accuracy: 0.5412\n",
            "Epoch 17/100\n",
            "25/25 [==============================] - 0s 2ms/step - loss: 0.6745 - accuracy: 0.5450\n",
            "Epoch 18/100\n",
            "25/25 [==============================] - 0s 2ms/step - loss: 0.6724 - accuracy: 0.5425\n",
            "Epoch 19/100\n",
            "25/25 [==============================] - 0s 2ms/step - loss: 0.6711 - accuracy: 0.5487\n",
            "Epoch 20/100\n",
            "25/25 [==============================] - 0s 2ms/step - loss: 0.6686 - accuracy: 0.5450\n",
            "Epoch 21/100\n",
            "25/25 [==============================] - 0s 2ms/step - loss: 0.6660 - accuracy: 0.5475\n",
            "Epoch 22/100\n",
            "25/25 [==============================] - 0s 2ms/step - loss: 0.6632 - accuracy: 0.5500\n",
            "Epoch 23/100\n",
            "25/25 [==============================] - 0s 2ms/step - loss: 0.6602 - accuracy: 0.5550\n",
            "Epoch 24/100\n",
            "25/25 [==============================] - 0s 2ms/step - loss: 0.6565 - accuracy: 0.5675\n",
            "Epoch 25/100\n",
            "25/25 [==============================] - 0s 2ms/step - loss: 0.6521 - accuracy: 0.5600\n",
            "Epoch 26/100\n",
            "25/25 [==============================] - 0s 2ms/step - loss: 0.6468 - accuracy: 0.5738\n",
            "Epoch 27/100\n",
            "25/25 [==============================] - 0s 2ms/step - loss: 0.6414 - accuracy: 0.6125\n",
            "Epoch 28/100\n",
            "25/25 [==============================] - 0s 2ms/step - loss: 0.6328 - accuracy: 0.6450\n",
            "Epoch 29/100\n",
            "25/25 [==============================] - 0s 2ms/step - loss: 0.6235 - accuracy: 0.6675\n",
            "Epoch 30/100\n",
            "25/25 [==============================] - 0s 2ms/step - loss: 0.6110 - accuracy: 0.7575\n",
            "Epoch 31/100\n",
            "25/25 [==============================] - 0s 2ms/step - loss: 0.5913 - accuracy: 0.7987\n",
            "Epoch 32/100\n",
            "25/25 [==============================] - 0s 2ms/step - loss: 0.5662 - accuracy: 0.8200\n",
            "Epoch 33/100\n",
            "25/25 [==============================] - 0s 3ms/step - loss: 0.5354 - accuracy: 0.8600\n",
            "Epoch 34/100\n",
            "25/25 [==============================] - 0s 2ms/step - loss: 0.5005 - accuracy: 0.9112\n",
            "Epoch 35/100\n",
            "25/25 [==============================] - 0s 2ms/step - loss: 0.4596 - accuracy: 0.9287\n",
            "Epoch 36/100\n",
            "25/25 [==============================] - 0s 2ms/step - loss: 0.4234 - accuracy: 0.9237\n",
            "Epoch 37/100\n",
            "25/25 [==============================] - 0s 2ms/step - loss: 0.3826 - accuracy: 0.9375\n",
            "Epoch 38/100\n",
            "25/25 [==============================] - 0s 2ms/step - loss: 0.3455 - accuracy: 0.9375\n",
            "Epoch 39/100\n",
            "25/25 [==============================] - 0s 2ms/step - loss: 0.3103 - accuracy: 0.9375\n",
            "Epoch 40/100\n",
            "25/25 [==============================] - 0s 2ms/step - loss: 0.2667 - accuracy: 0.9638\n",
            "Epoch 41/100\n",
            "25/25 [==============================] - 0s 3ms/step - loss: 0.2292 - accuracy: 0.9775\n",
            "Epoch 42/100\n",
            "25/25 [==============================] - 0s 2ms/step - loss: 0.1993 - accuracy: 0.9875\n",
            "Epoch 43/100\n",
            "25/25 [==============================] - 0s 2ms/step - loss: 0.1715 - accuracy: 0.9900\n",
            "Epoch 44/100\n",
            "25/25 [==============================] - 0s 2ms/step - loss: 0.1500 - accuracy: 0.9925\n",
            "Epoch 45/100\n",
            "25/25 [==============================] - 0s 3ms/step - loss: 0.1305 - accuracy: 0.9887\n",
            "Epoch 46/100\n",
            "25/25 [==============================] - 0s 2ms/step - loss: 0.1135 - accuracy: 0.9937\n",
            "Epoch 47/100\n",
            "25/25 [==============================] - 0s 2ms/step - loss: 0.0998 - accuracy: 0.9950\n",
            "Epoch 48/100\n",
            "25/25 [==============================] - 0s 2ms/step - loss: 0.0913 - accuracy: 0.9925\n",
            "Epoch 49/100\n",
            "25/25 [==============================] - 0s 3ms/step - loss: 0.0800 - accuracy: 0.9950\n",
            "Epoch 50/100\n",
            "25/25 [==============================] - 0s 2ms/step - loss: 0.0725 - accuracy: 0.9987\n",
            "Epoch 51/100\n",
            "25/25 [==============================] - 0s 2ms/step - loss: 0.0672 - accuracy: 0.9975\n",
            "Epoch 52/100\n",
            "25/25 [==============================] - 0s 2ms/step - loss: 0.0648 - accuracy: 0.9962\n",
            "Epoch 53/100\n",
            "25/25 [==============================] - 0s 2ms/step - loss: 0.0577 - accuracy: 0.9975\n",
            "Epoch 54/100\n",
            "25/25 [==============================] - 0s 2ms/step - loss: 0.0545 - accuracy: 0.9962\n",
            "Epoch 55/100\n",
            "25/25 [==============================] - 0s 2ms/step - loss: 0.0506 - accuracy: 0.9987\n",
            "Epoch 56/100\n",
            "25/25 [==============================] - 0s 2ms/step - loss: 0.0469 - accuracy: 0.9962\n",
            "Epoch 57/100\n",
            "25/25 [==============================] - 0s 2ms/step - loss: 0.0449 - accuracy: 0.9975\n",
            "Epoch 58/100\n",
            "25/25 [==============================] - 0s 2ms/step - loss: 0.0420 - accuracy: 0.9987\n",
            "Epoch 59/100\n",
            "25/25 [==============================] - 0s 2ms/step - loss: 0.0406 - accuracy: 0.9950\n",
            "Epoch 60/100\n",
            "25/25 [==============================] - 0s 2ms/step - loss: 0.0382 - accuracy: 0.9962\n",
            "Epoch 61/100\n",
            "25/25 [==============================] - 0s 2ms/step - loss: 0.0367 - accuracy: 0.9975\n",
            "Epoch 62/100\n",
            "25/25 [==============================] - 0s 2ms/step - loss: 0.0346 - accuracy: 0.9975\n",
            "Epoch 63/100\n",
            "25/25 [==============================] - 0s 2ms/step - loss: 0.0317 - accuracy: 0.9987\n",
            "Epoch 64/100\n",
            "25/25 [==============================] - 0s 2ms/step - loss: 0.0346 - accuracy: 0.9962\n",
            "Epoch 65/100\n",
            "25/25 [==============================] - 0s 3ms/step - loss: 0.0331 - accuracy: 0.9962\n",
            "Epoch 66/100\n",
            "25/25 [==============================] - 0s 3ms/step - loss: 0.0285 - accuracy: 0.9975\n",
            "Epoch 67/100\n",
            "25/25 [==============================] - 0s 2ms/step - loss: 0.0278 - accuracy: 0.9987\n",
            "Epoch 68/100\n",
            "25/25 [==============================] - 0s 2ms/step - loss: 0.0264 - accuracy: 1.0000\n",
            "Epoch 69/100\n",
            "25/25 [==============================] - 0s 2ms/step - loss: 0.0250 - accuracy: 0.9987\n",
            "Epoch 70/100\n",
            "25/25 [==============================] - 0s 2ms/step - loss: 0.0246 - accuracy: 0.9987\n",
            "Epoch 71/100\n",
            "25/25 [==============================] - 0s 3ms/step - loss: 0.0247 - accuracy: 0.9987\n",
            "Epoch 72/100\n",
            "25/25 [==============================] - 0s 2ms/step - loss: 0.0219 - accuracy: 1.0000\n",
            "Epoch 73/100\n",
            "25/25 [==============================] - 0s 2ms/step - loss: 0.0217 - accuracy: 1.0000\n",
            "Epoch 74/100\n",
            "25/25 [==============================] - 0s 2ms/step - loss: 0.0207 - accuracy: 0.9987\n",
            "Epoch 75/100\n",
            "25/25 [==============================] - 0s 3ms/step - loss: 0.0199 - accuracy: 1.0000\n",
            "Epoch 76/100\n",
            "25/25 [==============================] - 0s 2ms/step - loss: 0.0198 - accuracy: 0.9987\n",
            "Epoch 77/100\n",
            "25/25 [==============================] - 0s 2ms/step - loss: 0.0195 - accuracy: 1.0000\n",
            "Epoch 78/100\n",
            "25/25 [==============================] - 0s 2ms/step - loss: 0.0182 - accuracy: 0.9987\n",
            "Epoch 79/100\n",
            "25/25 [==============================] - 0s 2ms/step - loss: 0.0178 - accuracy: 1.0000\n",
            "Epoch 80/100\n",
            "25/25 [==============================] - 0s 2ms/step - loss: 0.0173 - accuracy: 1.0000\n",
            "Epoch 81/100\n",
            "25/25 [==============================] - 0s 3ms/step - loss: 0.0164 - accuracy: 1.0000\n",
            "Epoch 82/100\n",
            "25/25 [==============================] - 0s 2ms/step - loss: 0.0169 - accuracy: 1.0000\n",
            "Epoch 83/100\n",
            "25/25 [==============================] - 0s 2ms/step - loss: 0.0167 - accuracy: 0.9987\n",
            "Epoch 84/100\n",
            "25/25 [==============================] - 0s 2ms/step - loss: 0.0161 - accuracy: 1.0000\n",
            "Epoch 85/100\n",
            "25/25 [==============================] - 0s 2ms/step - loss: 0.0156 - accuracy: 0.9987\n",
            "Epoch 86/100\n",
            "25/25 [==============================] - 0s 2ms/step - loss: 0.0145 - accuracy: 1.0000\n",
            "Epoch 87/100\n",
            "25/25 [==============================] - 0s 2ms/step - loss: 0.0134 - accuracy: 1.0000\n",
            "Epoch 88/100\n",
            "25/25 [==============================] - 0s 2ms/step - loss: 0.0143 - accuracy: 1.0000\n",
            "Epoch 89/100\n",
            "25/25 [==============================] - 0s 3ms/step - loss: 0.0133 - accuracy: 1.0000\n",
            "Epoch 90/100\n",
            "25/25 [==============================] - 0s 2ms/step - loss: 0.0140 - accuracy: 0.9987\n",
            "Epoch 91/100\n",
            "25/25 [==============================] - 0s 2ms/step - loss: 0.0128 - accuracy: 1.0000\n",
            "Epoch 92/100\n",
            "25/25 [==============================] - 0s 2ms/step - loss: 0.0118 - accuracy: 1.0000\n",
            "Epoch 93/100\n",
            "25/25 [==============================] - 0s 2ms/step - loss: 0.0121 - accuracy: 0.9987\n",
            "Epoch 94/100\n",
            "25/25 [==============================] - 0s 2ms/step - loss: 0.0114 - accuracy: 1.0000\n",
            "Epoch 95/100\n",
            "25/25 [==============================] - 0s 2ms/step - loss: 0.0109 - accuracy: 1.0000\n",
            "Epoch 96/100\n",
            "25/25 [==============================] - 0s 2ms/step - loss: 0.0110 - accuracy: 1.0000\n",
            "Epoch 97/100\n",
            "25/25 [==============================] - 0s 3ms/step - loss: 0.0107 - accuracy: 1.0000\n",
            "Epoch 98/100\n",
            "25/25 [==============================] - 0s 2ms/step - loss: 0.0106 - accuracy: 1.0000\n",
            "Epoch 99/100\n",
            "25/25 [==============================] - 0s 2ms/step - loss: 0.0117 - accuracy: 1.0000\n",
            "Epoch 100/100\n",
            "25/25 [==============================] - 0s 2ms/step - loss: 0.0116 - accuracy: 1.0000\n"
          ]
        }
      ]
    },
    {
      "cell_type": "code",
      "source": [
        "# Evaluate on training data\n",
        "model_8.evaluate(X_train, y_train)"
      ],
      "metadata": {
        "colab": {
          "base_uri": "https://localhost:8080/"
        },
        "id": "wJbQXpamO0RF",
        "outputId": "926c23e3-ddc7-4876-e29c-fd0442c04474"
      },
      "execution_count": 38,
      "outputs": [
        {
          "output_type": "stream",
          "name": "stdout",
          "text": [
            "25/25 [==============================] - 0s 2ms/step - loss: 0.0091 - accuracy: 1.0000\n"
          ]
        },
        {
          "output_type": "execute_result",
          "data": {
            "text/plain": [
              "[0.009143197908997536, 1.0]"
            ]
          },
          "metadata": {},
          "execution_count": 38
        }
      ]
    },
    {
      "cell_type": "code",
      "source": [
        "# Evaluate on test data\n",
        "model_8.evaluate(X_test, y_test)"
      ],
      "metadata": {
        "colab": {
          "base_uri": "https://localhost:8080/"
        },
        "id": "rvAe89BwO6xx",
        "outputId": "968bacbb-bda2-4803-b211-64c85106131d"
      },
      "execution_count": 39,
      "outputs": [
        {
          "output_type": "stream",
          "name": "stdout",
          "text": [
            "7/7 [==============================] - 0s 2ms/step - loss: 0.0233 - accuracy: 0.9900\n"
          ]
        },
        {
          "output_type": "execute_result",
          "data": {
            "text/plain": [
              "[0.023280464112758636, 0.9900000095367432]"
            ]
          },
          "metadata": {},
          "execution_count": 39
        }
      ]
    },
    {
      "cell_type": "code",
      "source": [
        "# Plot the decision boundaries for training set\n",
        "plot_decision_boundary(model_8, \n",
        "                       X_train,\n",
        "                       y_train)"
      ],
      "metadata": {
        "colab": {
          "base_uri": "https://localhost:8080/",
          "height": 300
        },
        "id": "tFsGA0U-O_Nk",
        "outputId": "ceadd129-ee44-44f1-b7db-0d523ca1ef97"
      },
      "execution_count": 40,
      "outputs": [
        {
          "output_type": "stream",
          "name": "stdout",
          "text": [
            "313/313 [==============================] - 1s 1ms/step\n",
            "doing binary classification\n"
          ]
        },
        {
          "output_type": "display_data",
          "data": {
            "text/plain": [
              "<Figure size 432x288 with 1 Axes>"
            ],
            "image/png": "[encoded data removed]"
          },
          "metadata": {
            "needs_background": "light"
          }
        }
      ]
    },
    {
      "cell_type": "code",
      "source": [
        "# Plot the decision boundaries for test set\n",
        "plot_decision_boundary(model_8, \n",
        "                       X_test,\n",
        "                       y_test)"
      ],
      "metadata": {
        "colab": {
          "base_uri": "https://localhost:8080/",
          "height": 300
        },
        "id": "PMNjsBXRPanu",
        "outputId": "b56b9593-f036-43e8-d0fa-acd7406aef37"
      },
      "execution_count": 41,
      "outputs": [
        {
          "output_type": "stream",
          "name": "stdout",
          "text": [
            "313/313 [==============================] - 0s 1ms/step\n",
            "doing binary classification\n"
          ]
        },
        {
          "output_type": "display_data",
          "data": {
            "text/plain": [
              "<Figure size 432x288 with 1 Axes>"
            ],
            "image/png": "[encoded data removed]"
          },
          "metadata": {
            "needs_background": "light"
          }
        }
      ]
    },
    {
      "cell_type": "code",
      "source": [
        "pd.DataFrame(history.history).plot()\n",
        "plt.xlabel(\"epochs\")\n",
        "plt.ylabel(\"loss\")\n",
        "plt.title(\"Loss vs epochs\")\n",
        "plt.legend();"
      ],
      "metadata": {
        "colab": {
          "base_uri": "https://localhost:8080/",
          "height": 295
        },
        "id": "_8fFpMVxPjeH",
        "outputId": "ceea7b29-af49-47a4-cb7c-fbb15488113c"
      },
      "execution_count": 42,
      "outputs": [
        {
          "output_type": "display_data",
          "data": {
            "text/plain": [
              "<Figure size 432x288 with 1 Axes>"
            ],
            "image/png": "[encoded data removed]"
          },
          "metadata": {
            "needs_background": "light"
          }
        }
      ]
    },
    {
      "cell_type": "markdown",
      "source": [
        "## Finding the best learning rate\n",
        "\n",
        "To find the ideal learning rate (the learning rate where the loss decreases the most during training) we're going to use the following steps:\n",
        "* A learning rate **callback** - you can think of a callback as an extra piece of functionality you can add to your model *while* its training\n",
        "* Another model (we could use the same one as above, but we're practicing building models here.\n",
        "* A modified loss curves plot"
      ],
      "metadata": {
        "id": "RR3yYWHQRdb7"
      }
    },
    {
      "cell_type": "code",
      "source": [
        "# Set random seed\n",
        "tf.random.set_seed(42)\n",
        "\n",
        "# Create a model (same as model_8)\n",
        "model_9 = tf.keras.Sequential([\n",
        "    tf.keras.layers.Dense(5, activation=\"relu\"),\n",
        "    tf.keras.layers.Dense(9, activation=\"relu\"),\n",
        "    tf.keras.layers.Dense(7, activation=\"relu\"),\n",
        "    tf.keras.layers.Dense(5, activation=\"relu\"),\n",
        "    tf.keras.layers.Dense(1, activation=\"sigmoid\")\n",
        "])\n",
        "\n",
        "# Compile the model\n",
        "model_9.compile(loss=\"binary_crossentropy\",\n",
        "                optimizer=tf.keras.optimizers.Adam(),\n",
        "                metrics=[\"accuracy\"])\n",
        "\n",
        "# Create a learning rate callback\n",
        "lr_scheduler = tf.keras.callbacks.LearningRateScheduler(lambda epoch: 1e-4 * 10 ** (epoch / 20))\n",
        "early_stopping = tf.keras.callbacks.EarlyStopping(monitor=\"loss\", patience=10)\n",
        "\n",
        "# Fit the model\n",
        "history = model_9.fit(tf.constant(X_train, dtype=tf.float32),\n",
        "                      tf.constant(y_train, dtype=tf.float32),\n",
        "                      epochs=100,\n",
        "                      callbacks=[lr_scheduler])"
      ],
      "metadata": {
        "colab": {
          "base_uri": "https://localhost:8080/"
        },
        "id": "haeVj5r8TiBB",
        "outputId": "c7972849-5b07-409e-d83a-de48869e4231"
      },
      "execution_count": 43,
      "outputs": [
        {
          "output_type": "stream",
          "name": "stdout",
          "text": [
            "Epoch 1/100\n",
            "25/25 [==============================] - 1s 2ms/step - loss: 0.6988 - accuracy: 0.5013 - lr: 1.0000e-04\n",
            "Epoch 2/100\n",
            "25/25 [==============================] - 0s 2ms/step - loss: 0.6984 - accuracy: 0.5013 - lr: 1.1220e-04\n",
            "Epoch 3/100\n",
            "25/25 [==============================] - 0s 2ms/step - loss: 0.6980 - accuracy: 0.4875 - lr: 1.2589e-04\n",
            "Epoch 4/100\n",
            "25/25 [==============================] - 0s 2ms/step - loss: 0.6976 - accuracy: 0.4988 - lr: 1.4125e-04\n",
            "Epoch 5/100\n",
            "25/25 [==============================] - 0s 2ms/step - loss: 0.6973 - accuracy: 0.5000 - lr: 1.5849e-04\n",
            "Epoch 6/100\n",
            "25/25 [==============================] - 0s 3ms/step - loss: 0.6970 - accuracy: 0.4975 - lr: 1.7783e-04\n",
            "Epoch 7/100\n",
            "25/25 [==============================] - 0s 3ms/step - loss: 0.6965 - accuracy: 0.4975 - lr: 1.9953e-04\n",
            "Epoch 8/100\n",
            "25/25 [==============================] - 0s 4ms/step - loss: 0.6962 - accuracy: 0.4913 - lr: 2.2387e-04\n",
            "Epoch 9/100\n",
            "25/25 [==============================] - 0s 3ms/step - loss: 0.6958 - accuracy: 0.4875 - lr: 2.5119e-04\n",
            "Epoch 10/100\n",
            "25/25 [==============================] - 0s 3ms/step - loss: 0.6954 - accuracy: 0.4875 - lr: 2.8184e-04\n",
            "Epoch 11/100\n",
            "25/25 [==============================] - 0s 3ms/step - loss: 0.6951 - accuracy: 0.4700 - lr: 3.1623e-04\n",
            "Epoch 12/100\n",
            "25/25 [==============================] - 0s 4ms/step - loss: 0.6948 - accuracy: 0.4675 - lr: 3.5481e-04\n",
            "Epoch 13/100\n",
            "25/25 [==============================] - 0s 4ms/step - loss: 0.6944 - accuracy: 0.4725 - lr: 3.9811e-04\n",
            "Epoch 14/100\n",
            "25/25 [==============================] - 0s 3ms/step - loss: 0.6938 - accuracy: 0.4787 - lr: 4.4668e-04\n",
            "Epoch 15/100\n",
            "25/25 [==============================] - 0s 3ms/step - loss: 0.6935 - accuracy: 0.4538 - lr: 5.0119e-04\n",
            "Epoch 16/100\n",
            "25/25 [==============================] - 0s 3ms/step - loss: 0.6931 - accuracy: 0.4400 - lr: 5.6234e-04\n",
            "Epoch 17/100\n",
            "25/25 [==============================] - 0s 3ms/step - loss: 0.6928 - accuracy: 0.4663 - lr: 6.3096e-04\n",
            "Epoch 18/100\n",
            "25/25 [==============================] - 0s 3ms/step - loss: 0.6923 - accuracy: 0.4075 - lr: 7.0795e-04\n",
            "Epoch 19/100\n",
            "25/25 [==============================] - 0s 3ms/step - loss: 0.6919 - accuracy: 0.4800 - lr: 7.9433e-04\n",
            "Epoch 20/100\n",
            "25/25 [==============================] - 0s 3ms/step - loss: 0.6913 - accuracy: 0.5063 - lr: 8.9125e-04\n",
            "Epoch 21/100\n",
            "25/25 [==============================] - 0s 3ms/step - loss: 0.6906 - accuracy: 0.5000 - lr: 0.0010\n",
            "Epoch 22/100\n",
            "25/25 [==============================] - 0s 3ms/step - loss: 0.6899 - accuracy: 0.5263 - lr: 0.0011\n",
            "Epoch 23/100\n",
            "25/25 [==============================] - 0s 4ms/step - loss: 0.6892 - accuracy: 0.5387 - lr: 0.0013\n",
            "Epoch 24/100\n",
            "25/25 [==============================] - 0s 4ms/step - loss: 0.6878 - accuracy: 0.5863 - lr: 0.0014\n",
            "Epoch 25/100\n",
            "25/25 [==============================] - 0s 3ms/step - loss: 0.6863 - accuracy: 0.5800 - lr: 0.0016\n",
            "Epoch 26/100\n",
            "25/25 [==============================] - 0s 3ms/step - loss: 0.6843 - accuracy: 0.5562 - lr: 0.0018\n",
            "Epoch 27/100\n",
            "25/25 [==============================] - 0s 3ms/step - loss: 0.6809 - accuracy: 0.5400 - lr: 0.0020\n",
            "Epoch 28/100\n",
            "25/25 [==============================] - 0s 3ms/step - loss: 0.6726 - accuracy: 0.6112 - lr: 0.0022\n",
            "Epoch 29/100\n",
            "25/25 [==============================] - 0s 4ms/step - loss: 0.6580 - accuracy: 0.6137 - lr: 0.0025\n",
            "Epoch 30/100\n",
            "25/25 [==============================] - 0s 3ms/step - loss: 0.6282 - accuracy: 0.6650 - lr: 0.0028\n",
            "Epoch 31/100\n",
            "25/25 [==============================] - 0s 3ms/step - loss: 0.5605 - accuracy: 0.7688 - lr: 0.0032\n",
            "Epoch 32/100\n",
            "25/25 [==============================] - 0s 3ms/step - loss: 0.4027 - accuracy: 0.9100 - lr: 0.0035\n",
            "Epoch 33/100\n",
            "25/25 [==============================] - 0s 3ms/step - loss: 0.1898 - accuracy: 0.9937 - lr: 0.0040\n",
            "Epoch 34/100\n",
            "25/25 [==============================] - 0s 3ms/step - loss: 0.0813 - accuracy: 0.9900 - lr: 0.0045\n",
            "Epoch 35/100\n",
            "25/25 [==============================] - 0s 3ms/step - loss: 0.0471 - accuracy: 0.9912 - lr: 0.0050\n",
            "Epoch 36/100\n",
            "25/25 [==============================] - 0s 3ms/step - loss: 0.0287 - accuracy: 0.9962 - lr: 0.0056\n",
            "Epoch 37/100\n",
            "25/25 [==============================] - 0s 3ms/step - loss: 0.0191 - accuracy: 0.9975 - lr: 0.0063\n",
            "Epoch 38/100\n",
            "25/25 [==============================] - 0s 3ms/step - loss: 0.0117 - accuracy: 1.0000 - lr: 0.0071\n",
            "Epoch 39/100\n",
            "25/25 [==============================] - 0s 3ms/step - loss: 0.0540 - accuracy: 0.9787 - lr: 0.0079\n",
            "Epoch 40/100\n",
            "25/25 [==============================] - 0s 3ms/step - loss: 0.1195 - accuracy: 0.9525 - lr: 0.0089\n",
            "Epoch 41/100\n",
            "25/25 [==============================] - 0s 2ms/step - loss: 0.0248 - accuracy: 0.9925 - lr: 0.0100\n",
            "Epoch 42/100\n",
            "25/25 [==============================] - 0s 2ms/step - loss: 0.0202 - accuracy: 0.9912 - lr: 0.0112\n",
            "Epoch 43/100\n",
            "25/25 [==============================] - 0s 2ms/step - loss: 0.0375 - accuracy: 0.9875 - lr: 0.0126\n",
            "Epoch 44/100\n",
            "25/25 [==============================] - 0s 2ms/step - loss: 0.0122 - accuracy: 0.9975 - lr: 0.0141\n",
            "Epoch 45/100\n",
            "25/25 [==============================] - 0s 2ms/step - loss: 0.0748 - accuracy: 0.9737 - lr: 0.0158\n",
            "Epoch 46/100\n",
            "25/25 [==============================] - 0s 2ms/step - loss: 0.0665 - accuracy: 0.9737 - lr: 0.0178\n",
            "Epoch 47/100\n",
            "25/25 [==============================] - 0s 2ms/step - loss: 0.5362 - accuracy: 0.8462 - lr: 0.0200\n",
            "Epoch 48/100\n",
            "25/25 [==============================] - 0s 2ms/step - loss: 0.1430 - accuracy: 0.9850 - lr: 0.0224\n",
            "Epoch 49/100\n",
            "25/25 [==============================] - 0s 3ms/step - loss: 0.0277 - accuracy: 0.9875 - lr: 0.0251\n",
            "Epoch 50/100\n",
            "25/25 [==============================] - 0s 2ms/step - loss: 0.0385 - accuracy: 0.9887 - lr: 0.0282\n",
            "Epoch 51/100\n",
            "25/25 [==============================] - 0s 3ms/step - loss: 0.3377 - accuracy: 0.8875 - lr: 0.0316\n",
            "Epoch 52/100\n",
            "25/25 [==============================] - 0s 2ms/step - loss: 0.0736 - accuracy: 0.9850 - lr: 0.0355\n",
            "Epoch 53/100\n",
            "25/25 [==============================] - 0s 2ms/step - loss: 0.0243 - accuracy: 0.9937 - lr: 0.0398\n",
            "Epoch 54/100\n",
            "25/25 [==============================] - 0s 2ms/step - loss: 0.2845 - accuracy: 0.9162 - lr: 0.0447\n",
            "Epoch 55/100\n",
            "25/25 [==============================] - 0s 3ms/step - loss: 0.2173 - accuracy: 0.9187 - lr: 0.0501\n",
            "Epoch 56/100\n",
            "25/25 [==============================] - 0s 5ms/step - loss: 0.0664 - accuracy: 0.9787 - lr: 0.0562\n",
            "Epoch 57/100\n",
            "25/25 [==============================] - 0s 3ms/step - loss: 0.1021 - accuracy: 0.9638 - lr: 0.0631\n",
            "Epoch 58/100\n",
            "25/25 [==============================] - 0s 4ms/step - loss: 0.0565 - accuracy: 0.9787 - lr: 0.0708\n",
            "Epoch 59/100\n",
            "25/25 [==============================] - 0s 4ms/step - loss: 0.2139 - accuracy: 0.9450 - lr: 0.0794\n",
            "Epoch 60/100\n",
            "25/25 [==============================] - 0s 4ms/step - loss: 0.2497 - accuracy: 0.9150 - lr: 0.0891\n",
            "Epoch 61/100\n",
            "25/25 [==============================] - 0s 7ms/step - loss: 0.4923 - accuracy: 0.8150 - lr: 0.1000\n",
            "Epoch 62/100\n",
            "25/25 [==============================] - 0s 5ms/step - loss: 0.5700 - accuracy: 0.7025 - lr: 0.1122\n",
            "Epoch 63/100\n",
            "25/25 [==============================] - 0s 5ms/step - loss: 0.4625 - accuracy: 0.7975 - lr: 0.1259\n",
            "Epoch 64/100\n",
            "25/25 [==============================] - 0s 5ms/step - loss: 0.3964 - accuracy: 0.8263 - lr: 0.1413\n",
            "Epoch 65/100\n",
            "25/25 [==============================] - 0s 6ms/step - loss: 0.2870 - accuracy: 0.8863 - lr: 0.1585\n",
            "Epoch 66/100\n",
            "25/25 [==============================] - 0s 4ms/step - loss: 0.6466 - accuracy: 0.6825 - lr: 0.1778\n",
            "Epoch 67/100\n",
            "25/25 [==============================] - 0s 5ms/step - loss: 0.6511 - accuracy: 0.5562 - lr: 0.1995\n",
            "Epoch 68/100\n",
            "25/25 [==============================] - 0s 3ms/step - loss: 0.6778 - accuracy: 0.5325 - lr: 0.2239\n",
            "Epoch 69/100\n",
            "25/25 [==============================] - 0s 4ms/step - loss: 0.6981 - accuracy: 0.4913 - lr: 0.2512\n",
            "Epoch 70/100\n",
            "25/25 [==============================] - 0s 5ms/step - loss: 0.6968 - accuracy: 0.5138 - lr: 0.2818\n",
            "Epoch 71/100\n",
            "25/25 [==============================] - 0s 6ms/step - loss: 0.7049 - accuracy: 0.4963 - lr: 0.3162\n",
            "Epoch 72/100\n",
            "25/25 [==============================] - 0s 3ms/step - loss: 0.7018 - accuracy: 0.5038 - lr: 0.3548\n",
            "Epoch 73/100\n",
            "25/25 [==============================] - 0s 3ms/step - loss: 0.6974 - accuracy: 0.4938 - lr: 0.3981\n",
            "Epoch 74/100\n",
            "25/25 [==============================] - 0s 3ms/step - loss: 0.7079 - accuracy: 0.4762 - lr: 0.4467\n",
            "Epoch 75/100\n",
            "25/25 [==============================] - 0s 3ms/step - loss: 0.7005 - accuracy: 0.5063 - lr: 0.5012\n",
            "Epoch 76/100\n",
            "25/25 [==============================] - 0s 4ms/step - loss: 0.7026 - accuracy: 0.5013 - lr: 0.5623\n",
            "Epoch 77/100\n",
            "25/25 [==============================] - 0s 6ms/step - loss: 0.7065 - accuracy: 0.5088 - lr: 0.6310\n",
            "Epoch 78/100\n",
            "25/25 [==============================] - 0s 9ms/step - loss: 0.7151 - accuracy: 0.5138 - lr: 0.7079\n",
            "Epoch 79/100\n",
            "25/25 [==============================] - 0s 4ms/step - loss: 0.7117 - accuracy: 0.5213 - lr: 0.7943\n",
            "Epoch 80/100\n",
            "25/25 [==============================] - 0s 3ms/step - loss: 0.7038 - accuracy: 0.4963 - lr: 0.8913\n",
            "Epoch 81/100\n",
            "25/25 [==============================] - 0s 3ms/step - loss: 0.7117 - accuracy: 0.5088 - lr: 1.0000\n",
            "Epoch 82/100\n",
            "25/25 [==============================] - 0s 4ms/step - loss: 0.7132 - accuracy: 0.5412 - lr: 1.1220\n",
            "Epoch 83/100\n",
            "25/25 [==============================] - 0s 5ms/step - loss: 0.7259 - accuracy: 0.4837 - lr: 1.2589\n",
            "Epoch 84/100\n",
            "25/25 [==============================] - 0s 9ms/step - loss: 0.7051 - accuracy: 0.5038 - lr: 1.4125\n",
            "Epoch 85/100\n",
            "25/25 [==============================] - 0s 6ms/step - loss: 0.7299 - accuracy: 0.4963 - lr: 1.5849\n",
            "Epoch 86/100\n",
            "25/25 [==============================] - 0s 9ms/step - loss: 0.7627 - accuracy: 0.5038 - lr: 1.7783\n",
            "Epoch 87/100\n",
            "25/25 [==============================] - 0s 4ms/step - loss: 0.7671 - accuracy: 0.5013 - lr: 1.9953\n",
            "Epoch 88/100\n",
            "25/25 [==============================] - 0s 5ms/step - loss: 0.7592 - accuracy: 0.5088 - lr: 2.2387\n",
            "Epoch 89/100\n",
            "25/25 [==============================] - 0s 6ms/step - loss: 0.7675 - accuracy: 0.5312 - lr: 2.5119\n",
            "Epoch 90/100\n",
            "25/25 [==============================] - 0s 5ms/step - loss: 0.7852 - accuracy: 0.4913 - lr: 2.8184\n",
            "Epoch 91/100\n",
            "25/25 [==============================] - 0s 7ms/step - loss: 0.7983 - accuracy: 0.5163 - lr: 3.1623\n",
            "Epoch 92/100\n",
            "25/25 [==============================] - 0s 8ms/step - loss: 0.7401 - accuracy: 0.4963 - lr: 3.5481\n",
            "Epoch 93/100\n",
            "25/25 [==============================] - 0s 4ms/step - loss: 0.7388 - accuracy: 0.5088 - lr: 3.9811\n",
            "Epoch 94/100\n",
            "25/25 [==============================] - 0s 5ms/step - loss: 0.7572 - accuracy: 0.4938 - lr: 4.4668\n",
            "Epoch 95/100\n",
            "25/25 [==============================] - 0s 8ms/step - loss: 0.8163 - accuracy: 0.4863 - lr: 5.0119\n",
            "Epoch 96/100\n",
            "25/25 [==============================] - 0s 5ms/step - loss: 0.7787 - accuracy: 0.4638 - lr: 5.6234\n",
            "Epoch 97/100\n",
            "25/25 [==============================] - 0s 4ms/step - loss: 0.8044 - accuracy: 0.5013 - lr: 6.3096\n",
            "Epoch 98/100\n",
            "25/25 [==============================] - 0s 5ms/step - loss: 0.9612 - accuracy: 0.4963 - lr: 7.0795\n",
            "Epoch 99/100\n",
            "25/25 [==============================] - 0s 3ms/step - loss: 0.9495 - accuracy: 0.4913 - lr: 7.9433\n",
            "Epoch 100/100\n",
            "25/25 [==============================] - 0s 6ms/step - loss: 0.8580 - accuracy: 0.4663 - lr: 8.9125\n"
          ]
        }
      ]
    },
    {
      "cell_type": "code",
      "source": [
        "pd.DataFrame(history.history).plot()\n",
        "plt.legend()"
      ],
      "metadata": {
        "colab": {
          "base_uri": "https://localhost:8080/",
          "height": 282
        },
        "id": "ks6LfNllUmlI",
        "outputId": "698fd643-2e16-4e63-8d03-cdc24bf6c91b"
      },
      "execution_count": 44,
      "outputs": [
        {
          "output_type": "execute_result",
          "data": {
            "text/plain": [
              "<matplotlib.legend.Legend at 0x7f450964a220>"
            ]
          },
          "metadata": {},
          "execution_count": 44
        },
        {
          "output_type": "display_data",
          "data": {
            "text/plain": [
              "<Figure size 432x288 with 1 Axes>"
            ],
            "image/png": "[encoded data removed]"
          },
          "metadata": {
            "needs_background": "light"
          }
        }
      ]
    },
    {
      "cell_type": "code",
      "source": [
        "# Plot the learning rate versus the loss\n",
        "lrs = 1e-4 * (10 ** (tf.range(100)/ 20))\n",
        "plt.figure(figsize=(10, 7))\n",
        "plt.semilogx(lrs, history.history[\"loss\"])\n",
        "plt.xlabel(\"Learning Rate\")\n",
        "plt.ylabel(\"Loss\")\n",
        "plt.title(\"Learning rate vs loss\")\n",
        "plt.legend();"
      ],
      "metadata": {
        "colab": {
          "base_uri": "https://localhost:8080/",
          "height": 499
        },
        "id": "f1RkYXIoVEPh",
        "outputId": "0a1d3494-6f28-480f-aed9-b7eacbd30ecc"
      },
      "execution_count": 45,
      "outputs": [
        {
          "output_type": "stream",
          "name": "stderr",
          "text": [
            "WARNING:matplotlib.legend:No artists with labels found to put in legend.  Note that artists whose label start with an underscore are ignored when legend() is called with no argument.\n"
          ]
        },
        {
          "output_type": "display_data",
          "data": {
            "text/plain": [
              "<Figure size 720x504 with 1 Axes>"
            ],
            "image/png": "[encoded data removed]"
          },
          "metadata": {
            "needs_background": "light"
          }
        }
      ]
    },
    {
      "cell_type": "code",
      "source": [
        "# Let's try using a higher *ideal* learning rate with the same model\n",
        "\n",
        "# Set random seed\n",
        "tf.random.set_seed(42)\n",
        "\n",
        "# Create the model\n",
        "model_10 = tf.keras.Sequential([\n",
        "    tf.keras.layers.Dense(5, activation=\"relu\"),\n",
        "    tf.keras.layers.Dense(9, activation=\"relu\"),\n",
        "    tf.keras.layers.Dense(7, activation=\"relu\"),\n",
        "    tf.keras.layers.Dense(5, activation=\"relu\"),\n",
        "    tf.keras.layers.Dense(1, activation=\"sigmoid\")\n",
        "])\n",
        "\n",
        "# Compile the model\n",
        "model_10.compile(loss=\"binary_crossentropy\",\n",
        "                 optimizer=tf.keras.optimizers.Adam(lr=0.02),\n",
        "                 metrics=[\"accuracy\"])\n",
        "\n",
        "# Fit the model\n",
        "history_10 = model_10.fit(X_train, y_train, epochs=100)"
      ],
      "metadata": {
        "id": "LD6pr5ieVQ3y",
        "colab": {
          "base_uri": "https://localhost:8080/"
        },
        "outputId": "2afa9939-4a5b-4210-f474-8816c0e2f5e6"
      },
      "execution_count": 47,
      "outputs": [
        {
          "output_type": "stream",
          "name": "stderr",
          "text": [
            "WARNING:absl:`lr` is deprecated, please use `learning_rate` instead, or use the legacy optimizer, e.g.,tf.keras.optimizers.legacy.Adam.\n"
          ]
        },
        {
          "output_type": "stream",
          "name": "stdout",
          "text": [
            "Epoch 1/100\n",
            "25/25 [==============================] - 2s 2ms/step - loss: 0.6949 - accuracy: 0.4888\n",
            "Epoch 2/100\n",
            "25/25 [==============================] - 0s 3ms/step - loss: 0.6944 - accuracy: 0.4938\n",
            "Epoch 3/100\n",
            "25/25 [==============================] - 0s 3ms/step - loss: 0.6939 - accuracy: 0.4925\n",
            "Epoch 4/100\n",
            "25/25 [==============================] - 0s 3ms/step - loss: 0.6935 - accuracy: 0.4963\n",
            "Epoch 5/100\n",
            "25/25 [==============================] - 0s 3ms/step - loss: 0.6932 - accuracy: 0.5013\n",
            "Epoch 6/100\n",
            "25/25 [==============================] - 0s 3ms/step - loss: 0.6928 - accuracy: 0.4725\n",
            "Epoch 7/100\n",
            "25/25 [==============================] - 0s 2ms/step - loss: 0.6918 - accuracy: 0.5575\n",
            "Epoch 8/100\n",
            "25/25 [==============================] - 0s 2ms/step - loss: 0.6906 - accuracy: 0.6000\n",
            "Epoch 9/100\n",
            "25/25 [==============================] - 0s 2ms/step - loss: 0.6893 - accuracy: 0.5950\n",
            "Epoch 10/100\n",
            "25/25 [==============================] - 0s 2ms/step - loss: 0.6877 - accuracy: 0.6112\n",
            "Epoch 11/100\n",
            "25/25 [==============================] - 0s 2ms/step - loss: 0.6859 - accuracy: 0.6388\n",
            "Epoch 12/100\n",
            "25/25 [==============================] - 0s 3ms/step - loss: 0.6825 - accuracy: 0.6975\n",
            "Epoch 13/100\n",
            "25/25 [==============================] - 0s 2ms/step - loss: 0.6767 - accuracy: 0.7287\n",
            "Epoch 14/100\n",
            "25/25 [==============================] - 0s 2ms/step - loss: 0.6708 - accuracy: 0.7738\n",
            "Epoch 15/100\n",
            "25/25 [==============================] - 0s 2ms/step - loss: 0.6633 - accuracy: 0.7575\n",
            "Epoch 16/100\n",
            "25/25 [==============================] - 0s 2ms/step - loss: 0.6538 - accuracy: 0.7650\n",
            "Epoch 17/100\n",
            "25/25 [==============================] - 0s 2ms/step - loss: 0.6420 - accuracy: 0.7987\n",
            "Epoch 18/100\n",
            "25/25 [==============================] - 0s 2ms/step - loss: 0.6210 - accuracy: 0.7875\n",
            "Epoch 19/100\n",
            "25/25 [==============================] - 0s 2ms/step - loss: 0.5957 - accuracy: 0.7850\n",
            "Epoch 20/100\n",
            "25/25 [==============================] - 0s 2ms/step - loss: 0.5552 - accuracy: 0.8150\n",
            "Epoch 21/100\n",
            "25/25 [==============================] - 0s 3ms/step - loss: 0.5037 - accuracy: 0.8788\n",
            "Epoch 22/100\n",
            "25/25 [==============================] - 0s 2ms/step - loss: 0.4529 - accuracy: 0.9150\n",
            "Epoch 23/100\n",
            "25/25 [==============================] - 0s 2ms/step - loss: 0.4056 - accuracy: 0.9362\n",
            "Epoch 24/100\n",
            "25/25 [==============================] - 0s 2ms/step - loss: 0.3512 - accuracy: 0.9700\n",
            "Epoch 25/100\n",
            "25/25 [==============================] - 0s 2ms/step - loss: 0.3035 - accuracy: 0.9712\n",
            "Epoch 26/100\n",
            "25/25 [==============================] - 0s 2ms/step - loss: 0.2640 - accuracy: 0.9787\n",
            "Epoch 27/100\n",
            "25/25 [==============================] - 0s 2ms/step - loss: 0.2288 - accuracy: 0.9837\n",
            "Epoch 28/100\n",
            "25/25 [==============================] - 0s 3ms/step - loss: 0.1987 - accuracy: 0.9875\n",
            "Epoch 29/100\n",
            "25/25 [==============================] - 0s 2ms/step - loss: 0.1743 - accuracy: 0.9912\n",
            "Epoch 30/100\n",
            "25/25 [==============================] - 0s 2ms/step - loss: 0.1531 - accuracy: 0.9912\n",
            "Epoch 31/100\n",
            "25/25 [==============================] - 0s 3ms/step - loss: 0.1375 - accuracy: 0.9875\n",
            "Epoch 32/100\n",
            "25/25 [==============================] - 0s 3ms/step - loss: 0.1242 - accuracy: 0.9925\n",
            "Epoch 33/100\n",
            "25/25 [==============================] - 0s 3ms/step - loss: 0.1115 - accuracy: 0.9912\n",
            "Epoch 34/100\n",
            "25/25 [==============================] - 0s 2ms/step - loss: 0.0983 - accuracy: 0.9962\n",
            "Epoch 35/100\n",
            "25/25 [==============================] - 0s 3ms/step - loss: 0.0880 - accuracy: 0.9950\n",
            "Epoch 36/100\n",
            "25/25 [==============================] - 0s 2ms/step - loss: 0.0852 - accuracy: 0.9925\n",
            "Epoch 37/100\n",
            "25/25 [==============================] - 0s 3ms/step - loss: 0.0761 - accuracy: 0.9950\n",
            "Epoch 38/100\n",
            "25/25 [==============================] - 0s 2ms/step - loss: 0.0692 - accuracy: 0.9975\n",
            "Epoch 39/100\n",
            "25/25 [==============================] - 0s 2ms/step - loss: 0.0664 - accuracy: 0.9925\n",
            "Epoch 40/100\n",
            "25/25 [==============================] - 0s 2ms/step - loss: 0.0594 - accuracy: 0.9962\n",
            "Epoch 41/100\n",
            "25/25 [==============================] - 0s 2ms/step - loss: 0.0558 - accuracy: 0.9962\n",
            "Epoch 42/100\n",
            "25/25 [==============================] - 0s 3ms/step - loss: 0.0522 - accuracy: 0.9975\n",
            "Epoch 43/100\n",
            "25/25 [==============================] - 0s 2ms/step - loss: 0.0489 - accuracy: 0.9975\n",
            "Epoch 44/100\n",
            "25/25 [==============================] - 0s 2ms/step - loss: 0.0464 - accuracy: 0.9987\n",
            "Epoch 45/100\n",
            "25/25 [==============================] - 0s 2ms/step - loss: 0.0424 - accuracy: 0.9987\n",
            "Epoch 46/100\n",
            "25/25 [==============================] - 0s 2ms/step - loss: 0.0404 - accuracy: 0.9962\n",
            "Epoch 47/100\n",
            "25/25 [==============================] - 0s 2ms/step - loss: 0.0370 - accuracy: 1.0000\n",
            "Epoch 48/100\n",
            "25/25 [==============================] - 0s 2ms/step - loss: 0.0367 - accuracy: 0.9962\n",
            "Epoch 49/100\n",
            "25/25 [==============================] - 0s 2ms/step - loss: 0.0327 - accuracy: 1.0000\n",
            "Epoch 50/100\n",
            "25/25 [==============================] - 0s 2ms/step - loss: 0.0315 - accuracy: 0.9987\n",
            "Epoch 51/100\n",
            "25/25 [==============================] - 0s 2ms/step - loss: 0.0303 - accuracy: 1.0000\n",
            "Epoch 52/100\n",
            "25/25 [==============================] - 0s 2ms/step - loss: 0.0285 - accuracy: 1.0000\n",
            "Epoch 53/100\n",
            "25/25 [==============================] - 0s 2ms/step - loss: 0.0259 - accuracy: 1.0000\n",
            "Epoch 54/100\n",
            "25/25 [==============================] - 0s 2ms/step - loss: 0.0249 - accuracy: 0.9987\n",
            "Epoch 55/100\n",
            "25/25 [==============================] - 0s 2ms/step - loss: 0.0246 - accuracy: 1.0000\n",
            "Epoch 56/100\n",
            "25/25 [==============================] - 0s 2ms/step - loss: 0.0223 - accuracy: 1.0000\n",
            "Epoch 57/100\n",
            "25/25 [==============================] - 0s 3ms/step - loss: 0.0223 - accuracy: 1.0000\n",
            "Epoch 58/100\n",
            "25/25 [==============================] - 0s 2ms/step - loss: 0.0200 - accuracy: 1.0000\n",
            "Epoch 59/100\n",
            "25/25 [==============================] - 0s 2ms/step - loss: 0.0198 - accuracy: 0.9987\n",
            "Epoch 60/100\n",
            "25/25 [==============================] - 0s 2ms/step - loss: 0.0183 - accuracy: 1.0000\n",
            "Epoch 61/100\n",
            "25/25 [==============================] - 0s 2ms/step - loss: 0.0173 - accuracy: 1.0000\n",
            "Epoch 62/100\n",
            "25/25 [==============================] - 0s 2ms/step - loss: 0.0171 - accuracy: 0.9987\n",
            "Epoch 63/100\n",
            "25/25 [==============================] - 0s 2ms/step - loss: 0.0166 - accuracy: 0.9987\n",
            "Epoch 64/100\n",
            "25/25 [==============================] - 0s 3ms/step - loss: 0.0158 - accuracy: 1.0000\n",
            "Epoch 65/100\n",
            "25/25 [==============================] - 0s 2ms/step - loss: 0.0153 - accuracy: 1.0000\n",
            "Epoch 66/100\n",
            "25/25 [==============================] - 0s 2ms/step - loss: 0.0151 - accuracy: 1.0000\n",
            "Epoch 67/100\n",
            "25/25 [==============================] - 0s 2ms/step - loss: 0.0136 - accuracy: 1.0000\n",
            "Epoch 68/100\n",
            "25/25 [==============================] - 0s 3ms/step - loss: 0.0135 - accuracy: 1.0000\n",
            "Epoch 69/100\n",
            "25/25 [==============================] - 0s 2ms/step - loss: 0.0127 - accuracy: 1.0000\n",
            "Epoch 70/100\n",
            "25/25 [==============================] - 0s 2ms/step - loss: 0.0138 - accuracy: 0.9987\n",
            "Epoch 71/100\n",
            "25/25 [==============================] - 0s 2ms/step - loss: 0.0130 - accuracy: 1.0000\n",
            "Epoch 72/100\n",
            "25/25 [==============================] - 0s 3ms/step - loss: 0.0116 - accuracy: 0.9987\n",
            "Epoch 73/100\n",
            "25/25 [==============================] - 0s 2ms/step - loss: 0.0109 - accuracy: 1.0000\n",
            "Epoch 74/100\n",
            "25/25 [==============================] - 0s 2ms/step - loss: 0.0107 - accuracy: 1.0000\n",
            "Epoch 75/100\n",
            "25/25 [==============================] - 0s 2ms/step - loss: 0.0106 - accuracy: 1.0000\n",
            "Epoch 76/100\n",
            "25/25 [==============================] - 0s 2ms/step - loss: 0.0103 - accuracy: 1.0000\n",
            "Epoch 77/100\n",
            "25/25 [==============================] - 0s 2ms/step - loss: 0.0100 - accuracy: 1.0000\n",
            "Epoch 78/100\n",
            "25/25 [==============================] - 0s 3ms/step - loss: 0.0094 - accuracy: 1.0000\n",
            "Epoch 79/100\n",
            "25/25 [==============================] - 0s 2ms/step - loss: 0.0102 - accuracy: 0.9987\n",
            "Epoch 80/100\n",
            "25/25 [==============================] - 0s 2ms/step - loss: 0.0102 - accuracy: 1.0000\n",
            "Epoch 81/100\n",
            "25/25 [==============================] - 0s 2ms/step - loss: 0.0092 - accuracy: 1.0000\n",
            "Epoch 82/100\n",
            "25/25 [==============================] - 0s 2ms/step - loss: 0.0086 - accuracy: 1.0000\n",
            "Epoch 83/100\n",
            "25/25 [==============================] - 0s 3ms/step - loss: 0.0088 - accuracy: 1.0000\n",
            "Epoch 84/100\n",
            "25/25 [==============================] - 0s 2ms/step - loss: 0.0084 - accuracy: 1.0000\n",
            "Epoch 85/100\n",
            "25/25 [==============================] - 0s 2ms/step - loss: 0.0087 - accuracy: 1.0000\n",
            "Epoch 86/100\n",
            "25/25 [==============================] - 0s 3ms/step - loss: 0.0070 - accuracy: 1.0000\n",
            "Epoch 87/100\n",
            "25/25 [==============================] - 0s 2ms/step - loss: 0.0080 - accuracy: 1.0000\n",
            "Epoch 88/100\n",
            "25/25 [==============================] - 0s 2ms/step - loss: 0.0072 - accuracy: 1.0000\n",
            "Epoch 89/100\n",
            "25/25 [==============================] - 0s 2ms/step - loss: 0.0077 - accuracy: 0.9987\n",
            "Epoch 90/100\n",
            "25/25 [==============================] - 0s 2ms/step - loss: 0.0068 - accuracy: 1.0000\n",
            "Epoch 91/100\n",
            "25/25 [==============================] - 0s 2ms/step - loss: 0.0067 - accuracy: 1.0000\n",
            "Epoch 92/100\n",
            "25/25 [==============================] - 0s 2ms/step - loss: 0.0067 - accuracy: 1.0000\n",
            "Epoch 93/100\n",
            "25/25 [==============================] - 0s 2ms/step - loss: 0.0066 - accuracy: 1.0000\n",
            "Epoch 94/100\n",
            "25/25 [==============================] - 0s 2ms/step - loss: 0.0064 - accuracy: 1.0000\n",
            "Epoch 95/100\n",
            "25/25 [==============================] - 0s 2ms/step - loss: 0.0061 - accuracy: 1.0000\n",
            "Epoch 96/100\n",
            "25/25 [==============================] - 0s 2ms/step - loss: 0.0064 - accuracy: 1.0000\n",
            "Epoch 97/100\n",
            "25/25 [==============================] - 0s 2ms/step - loss: 0.0059 - accuracy: 1.0000\n",
            "Epoch 98/100\n",
            "25/25 [==============================] - 0s 2ms/step - loss: 0.0061 - accuracy: 1.0000\n",
            "Epoch 99/100\n",
            "25/25 [==============================] - 0s 3ms/step - loss: 0.0062 - accuracy: 1.0000\n",
            "Epoch 100/100\n",
            "25/25 [==============================] - 0s 2ms/step - loss: 0.0071 - accuracy: 1.0000\n"
          ]
        }
      ]
    },
    {
      "cell_type": "code",
      "source": [
        "plot_decision_boundary(model_10, X_train, y_train)"
      ],
      "metadata": {
        "colab": {
          "base_uri": "https://localhost:8080/",
          "height": 300
        },
        "id": "vpxYRDUDLFjT",
        "outputId": "f512b93a-1464-4741-8d3c-aaabaa44c641"
      },
      "execution_count": 48,
      "outputs": [
        {
          "output_type": "stream",
          "name": "stdout",
          "text": [
            "313/313 [==============================] - 2s 4ms/step\n",
            "doing binary classification\n"
          ]
        },
        {
          "output_type": "display_data",
          "data": {
            "text/plain": [
              "<Figure size 432x288 with 1 Axes>"
            ],
            "image/png": "[encoded data removed]"
          },
          "metadata": {
            "needs_background": "light"
          }
        }
      ]
    },
    {
      "cell_type": "code",
      "source": [
        "plot_decision_boundary(model_10, X_test, y_test)"
      ],
      "metadata": {
        "colab": {
          "base_uri": "https://localhost:8080/",
          "height": 300
        },
        "id": "RYBaT3zBLO3e",
        "outputId": "116ccea1-c1e3-4527-c648-f662ab2174eb"
      },
      "execution_count": 51,
      "outputs": [
        {
          "output_type": "stream",
          "name": "stdout",
          "text": [
            "313/313 [==============================] - 0s 1ms/step\n",
            "doing binary classification\n"
          ]
        },
        {
          "output_type": "display_data",
          "data": {
            "text/plain": [
              "<Figure size 432x288 with 1 Axes>"
            ],
            "image/png": "[encoded data removed]"
          },
          "metadata": {
            "needs_background": "light"
          }
        }
      ]
    },
    {
      "cell_type": "code",
      "source": [
        "model_10.evaluate(X_test, y_test)"
      ],
      "metadata": {
        "colab": {
          "base_uri": "https://localhost:8080/"
        },
        "id": "-U-MeGzULRxH",
        "outputId": "413416b6-be9e-4705-f6d2-a2d1cce082ee"
      },
      "execution_count": 50,
      "outputs": [
        {
          "output_type": "stream",
          "name": "stdout",
          "text": [
            "7/7 [==============================] - 0s 3ms/step - loss: 0.0109 - accuracy: 0.9950\n"
          ]
        },
        {
          "output_type": "execute_result",
          "data": {
            "text/plain": [
              "[0.010945365764200687, 0.9950000047683716]"
            ]
          },
          "metadata": {},
          "execution_count": 50
        }
      ]
    },
    {
      "cell_type": "markdown",
      "source": [
        "## More classification evaluation methods\n",
        "\n",
        "Alongside visualizing our models results there are a handful of other classification evaluation methods and metrics you should be familiar with:\n",
        "* Accuracy\n",
        "* Precision\n",
        "* Recall\n",
        "* F1-score\n",
        "* Confusion-matrix\n",
        "* Classification report (from scikit-learn)"
      ],
      "metadata": {
        "id": "C3e-GvBJLVKF"
      }
    },
    {
      "cell_type": "code",
      "source": [
        "# Check the accuracy of our model\n",
        "loss, accuracy = model_10.evaluate(X_test, y_test)\n",
        "print(f\"Model loss on the test set: {loss}\")\n",
        "print(f\"Model accuracy on the test set: {(accuracy * 100):.2f}\")"
      ],
      "metadata": {
        "colab": {
          "base_uri": "https://localhost:8080/"
        },
        "id": "nL4FuBZNSGRN",
        "outputId": "221b2a05-4064-43ca-a169-dd7700f06f01"
      },
      "execution_count": 52,
      "outputs": [
        {
          "output_type": "stream",
          "name": "stdout",
          "text": [
            "7/7 [==============================] - 0s 3ms/step - loss: 0.0109 - accuracy: 0.9950\n",
            "Model loss on the test set: 0.010945365764200687\n",
            "Model accuracy on the test set: 99.50\n"
          ]
        }
      ]
    },
    {
      "cell_type": "markdown",
      "source": [
        "Confusion matrix"
      ],
      "metadata": {
        "id": "tfOZfeurSaFF"
      }
    },
    {
      "cell_type": "code",
      "source": [
        "# Create a confusion matrix\n",
        "from sklearn.metrics import confusion_matrix\n",
        "\n",
        "# Make predictions\n",
        "y_preds = model_10.predict(X_test) # in prediction probability form\n",
        "\n",
        "# Create confusion matrix\n",
        "# confusion_matrix(y_test, y_preds)"
      ],
      "metadata": {
        "colab": {
          "base_uri": "https://localhost:8080/"
        },
        "id": "5R4rdvf8Sc1b",
        "outputId": "544e77d0-be25-4e47-c4ad-c0fee56f1fa9"
      },
      "execution_count": 56,
      "outputs": [
        {
          "output_type": "stream",
          "name": "stdout",
          "text": [
            "7/7 [==============================] - 0s 2ms/step\n"
          ]
        }
      ]
    },
    {
      "cell_type": "markdown",
      "source": [
        "Prediction array has come out in **prediction probability** form.. the standard ouput from the sigmoid (or softmax) activation functions"
      ],
      "metadata": {
        "id": "tqrRSYWxTC7p"
      }
    },
    {
      "cell_type": "code",
      "source": [
        "# Convert our prediction probabilities to binary format and view first 10\n",
        "tf.round(y_preds)[:10]"
      ],
      "metadata": {
        "colab": {
          "base_uri": "https://localhost:8080/"
        },
        "id": "3aUpehN4THRo",
        "outputId": "d250c35e-0654-42c1-8d37-cc23597f7283"
      },
      "execution_count": 57,
      "outputs": [
        {
          "output_type": "execute_result",
          "data": {
            "text/plain": [
              "<tf.Tensor: shape=(10, 1), dtype=float32, numpy=\n",
              "array([[1.],\n",
              "       [1.],\n",
              "       [1.],\n",
              "       [1.],\n",
              "       [0.],\n",
              "       [0.],\n",
              "       [1.],\n",
              "       [0.],\n",
              "       [1.],\n",
              "       [0.]], dtype=float32)>"
            ]
          },
          "metadata": {},
          "execution_count": 57
        }
      ]
    },
    {
      "cell_type": "code",
      "source": [
        "confusion_matrix(y_test, tf.round(y_preds))"
      ],
      "metadata": {
        "colab": {
          "base_uri": "https://localhost:8080/"
        },
        "id": "kkqW1iudUp0X",
        "outputId": "39aa605f-2aee-4f2d-dfa5-d613b9d131df"
      },
      "execution_count": 58,
      "outputs": [
        {
          "output_type": "execute_result",
          "data": {
            "text/plain": [
              "array([[100,   1],\n",
              "       [  0,  99]])"
            ]
          },
          "metadata": {},
          "execution_count": 58
        }
      ]
    },
    {
      "cell_type": "markdown",
      "source": [
        "Prettifying our confusion matrix"
      ],
      "metadata": {
        "id": "jtlunl_5UtNs"
      }
    },
    {
      "cell_type": "code",
      "source": [
        "# Note: the confusion matrix code we're about to write a remix of scikit-learn function and our code\n",
        "\n",
        "import itertools\n",
        "\n",
        "figsize = (10, 10)\n",
        "\n",
        "# Create the consufion matrix\n",
        "cm = confusion_matrix(y_test, tf.round(y_preds))\n",
        "cm_norm = cm.astype(\"float\") / cm.sum(axis=1)[:, np.newaxis] # normalize our confusion matrix\n",
        "n_classes = cm.shape[0]\n",
        "\n",
        "# Let's prettify it \n",
        "fig, ax = plt.subplotys(figsize=figsize)\n",
        "# Create a matrix plot\n",
        "cax = ax.matshow(cm, cmap=plt.cm.Blues)\n",
        "fig.colorbar(cax)\n",
        "\n",
        "# Create classes\n",
        "classes = False"
      ],
      "metadata": {
        "colab": {
          "base_uri": "https://localhost:8080/",
          "height": 339
        },
        "id": "bg2bUigUVPdn",
        "outputId": "cc3e103a-15b8-491f-e32a-3b31ecabd97e"
      },
      "execution_count": 60,
      "outputs": [
        {
          "output_type": "error",
          "ename": "AttributeError",
          "evalue": "ignored",
          "traceback": [
            "\u001b[0;31m---------------------------------------------------------------------------\u001b[0m",
            "\u001b[0;31mAttributeError\u001b[0m                            Traceback (most recent call last)",
            "\u001b[0;32m<ipython-input-60-98768efb9040>\u001b[0m in \u001b[0;36m<module>\u001b[0;34m\u001b[0m\n\u001b[1;32m      7\u001b[0m \u001b[0;31m# Create the consufion matrix\u001b[0m\u001b[0;34m\u001b[0m\u001b[0;34m\u001b[0m\u001b[0m\n\u001b[1;32m      8\u001b[0m \u001b[0mcm\u001b[0m \u001b[0;34m=\u001b[0m \u001b[0mconfusion_matrix\u001b[0m\u001b[0;34m(\u001b[0m\u001b[0my_test\u001b[0m\u001b[0;34m,\u001b[0m \u001b[0mtf\u001b[0m\u001b[0;34m.\u001b[0m\u001b[0mround\u001b[0m\u001b[0;34m(\u001b[0m\u001b[0my_preds\u001b[0m\u001b[0;34m)\u001b[0m\u001b[0;34m)\u001b[0m\u001b[0;34m\u001b[0m\u001b[0;34m\u001b[0m\u001b[0m\n\u001b[0;32m----> 9\u001b[0;31m \u001b[0mcm_norm\u001b[0m \u001b[0;34m=\u001b[0m \u001b[0mcm\u001b[0m\u001b[0;34m.\u001b[0m\u001b[0mastype\u001b[0m\u001b[0;34m(\u001b[0m\u001b[0;34m\"float\"\u001b[0m\u001b[0;34m)\u001b[0m \u001b[0;34m/\u001b[0m \u001b[0mcm\u001b[0m\u001b[0;34m.\u001b[0m\u001b[0msum\u001b[0m\u001b[0;34m(\u001b[0m\u001b[0maxis\u001b[0m\u001b[0;34m=\u001b[0m\u001b[0;36m1\u001b[0m\u001b[0;34m)\u001b[0m\u001b[0;34m[\u001b[0m\u001b[0;34m:\u001b[0m\u001b[0;34m,\u001b[0m \u001b[0mnp\u001b[0m\u001b[0;34m.\u001b[0m\u001b[0mnewasix\u001b[0m\u001b[0;34m]\u001b[0m \u001b[0;31m# normalize our confusion matrix\u001b[0m\u001b[0;34m\u001b[0m\u001b[0;34m\u001b[0m\u001b[0m\n\u001b[0m\u001b[1;32m     10\u001b[0m \u001b[0mn_classes\u001b[0m \u001b[0;34m=\u001b[0m \u001b[0mcm\u001b[0m\u001b[0;34m.\u001b[0m\u001b[0mshape\u001b[0m\u001b[0;34m[\u001b[0m\u001b[0;36m0\u001b[0m\u001b[0;34m]\u001b[0m\u001b[0;34m\u001b[0m\u001b[0;34m\u001b[0m\u001b[0m\n",
            "\u001b[0;32m/usr/local/lib/python3.9/dist-packages/numpy/__init__.py\u001b[0m in \u001b[0;36m__getattr__\u001b[0;34m(attr)\u001b[0m\n\u001b[1;32m    313\u001b[0m             \u001b[0;32mreturn\u001b[0m \u001b[0mTester\u001b[0m\u001b[0;34m\u001b[0m\u001b[0;34m\u001b[0m\u001b[0m\n\u001b[1;32m    314\u001b[0m \u001b[0;34m\u001b[0m\u001b[0m\n\u001b[0;32m--> 315\u001b[0;31m         raise AttributeError(\"module {!r} has no attribute \"\n\u001b[0m\u001b[1;32m    316\u001b[0m                              \"{!r}\".format(__name__, attr))\n\u001b[1;32m    317\u001b[0m \u001b[0;34m\u001b[0m\u001b[0m\n",
            "\u001b[0;31mAttributeError\u001b[0m: module 'numpy' has no attribute 'newasix'"
          ]
        }
      ]
    },
    {
      "cell_type": "code",
      "source": [],
      "metadata": {
        "id": "vn9RBRGEV90Z"
      },
      "execution_count": null,
      "outputs": []
    }
  ]
}