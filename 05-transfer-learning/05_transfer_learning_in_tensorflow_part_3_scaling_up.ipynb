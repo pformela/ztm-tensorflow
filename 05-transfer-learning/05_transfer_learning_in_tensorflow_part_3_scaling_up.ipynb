{
  "nbformat": 4,
  "nbformat_minor": 0,
  "metadata": {
    "colab": {
      "provenance": []
    },
    "kernelspec": {
      "name": "python3",
      "display_name": "Python 3"
    },
    "language_info": {
      "name": "python"
    },
    "accelerator": "GPU",
    "gpuClass": "standard"
  },
  "cells": [
    {
      "cell_type": "markdown",
      "source": [
        "# Transfer Learning with TensorFlow Part 3: Scaling up (Food Vision mini)\n",
        "\n",
        "We've seen the power of transfer learning feature extraction and fine-tuning, now it's time to scale up all of the classes in Food101 (101 total classes of food).\n",
        "\n",
        "Our goal is to beat the original Food101 paper with 10% of the training (leveraging the power of deep learning)"
      ],
      "metadata": {
        "id": "zFKZcfGLVTwa"
      }
    },
    {
      "cell_type": "code",
      "source": [
        "# Check to see if we're using a GPU\n",
        "!nvidia-smi"
      ],
      "metadata": {
        "colab": {
          "base_uri": "https://localhost:8080/"
        },
        "id": "4_gJQlgPW2YP",
        "outputId": "64e7e253-354b-4df5-f2c3-cb9b6c0c286b"
      },
      "execution_count": null,
      "outputs": [
        {
          "output_type": "stream",
          "name": "stdout",
          "text": [
            "Mon Apr  3 18:43:15 2023       \n",
            "+-----------------------------------------------------------------------------+\n",
            "| NVIDIA-SMI 525.85.12    Driver Version: 525.85.12    CUDA Version: 12.0     |\n",
            "|-------------------------------+----------------------+----------------------+\n",
            "| GPU  Name        Persistence-M| Bus-Id        Disp.A | Volatile Uncorr. ECC |\n",
            "| Fan  Temp  Perf  Pwr:Usage/Cap|         Memory-Usage | GPU-Util  Compute M. |\n",
            "|                               |                      |               MIG M. |\n",
            "|===============================+======================+======================|\n",
            "|   0  Tesla T4            Off  | 00000000:00:04.0 Off |                    0 |\n",
            "| N/A   68C    P8    12W /  70W |      0MiB / 15360MiB |      0%      Default |\n",
            "|                               |                      |                  N/A |\n",
            "+-------------------------------+----------------------+----------------------+\n",
            "                                                                               \n",
            "+-----------------------------------------------------------------------------+\n",
            "| Processes:                                                                  |\n",
            "|  GPU   GI   CI        PID   Type   Process name                  GPU Memory |\n",
            "|        ID   ID                                                   Usage      |\n",
            "|=============================================================================|\n",
            "|  No running processes found                                                 |\n",
            "+-----------------------------------------------------------------------------+\n"
          ]
        }
      ]
    },
    {
      "cell_type": "markdown",
      "source": [
        "## Creating helper functions\n"
      ],
      "metadata": {
        "id": "jJgVFht7XU5W"
      }
    },
    {
      "cell_type": "code",
      "source": [
        "!wget https://raw.githubusercontent.com/mrdbourke/tensorflow-deep-learning/main/extras/helper_functions.py"
      ],
      "metadata": {
        "colab": {
          "base_uri": "https://localhost:8080/"
        },
        "id": "fJVlxY47XwaM",
        "outputId": "a3cae04e-aacd-4fed-b601-e823ba9bc1f6"
      },
      "execution_count": null,
      "outputs": [
        {
          "output_type": "stream",
          "name": "stdout",
          "text": [
            "--2023-04-03 18:43:17--  https://raw.githubusercontent.com/mrdbourke/tensorflow-deep-learning/main/extras/helper_functions.py\n",
            "Resolving raw.githubusercontent.com (raw.githubusercontent.com)... 185.199.108.133, 185.199.109.133, 185.199.110.133, ...\n",
            "Connecting to raw.githubusercontent.com (raw.githubusercontent.com)|185.199.108.133|:443... connected.\n",
            "HTTP request sent, awaiting response... 200 OK\n",
            "Length: 10246 (10K) [text/plain]\n",
            "Saving to: ‘helper_functions.py’\n",
            "\n",
            "\rhelper_functions.py   0%[                    ]       0  --.-KB/s               \rhelper_functions.py 100%[===================>]  10.01K  --.-KB/s    in 0s      \n",
            "\n",
            "2023-04-03 18:43:17 (88.5 MB/s) - ‘helper_functions.py’ saved [10246/10246]\n",
            "\n"
          ]
        }
      ]
    },
    {
      "cell_type": "code",
      "source": [
        "# Import series of helper functions for our notebook\n",
        "from helper_functions import create_tensorboard_callback, plot_loss_curves, unzip_data, compare_historys, walk_through_dir"
      ],
      "metadata": {
        "id": "gcL0ETpmXxKH"
      },
      "execution_count": null,
      "outputs": []
    },
    {
      "cell_type": "markdown",
      "source": [
        "## 101 Food Classes: working with less data\n",
        "\n",
        "Our goal is to beat the original Food101 paper with 10% of the training data, so let's download it.\n",
        "\n",
        "The data we're downloading comes from the original Food101 dataset."
      ],
      "metadata": {
        "id": "R8wA83rHYNcB"
      }
    },
    {
      "cell_type": "code",
      "source": [
        "!wget https://storage.googleapis.com/ztm_tf_course/food_vision/101_food_classes_10_percent.zip"
      ],
      "metadata": {
        "colab": {
          "base_uri": "https://localhost:8080/"
        },
        "id": "dWvSfPVpYZkb",
        "outputId": "a4d6a64c-9aac-48db-c964-455a36e207e1"
      },
      "execution_count": null,
      "outputs": [
        {
          "output_type": "stream",
          "name": "stdout",
          "text": [
            "--2023-04-03 18:43:22--  https://storage.googleapis.com/ztm_tf_course/food_vision/101_food_classes_10_percent.zip\n",
            "Resolving storage.googleapis.com (storage.googleapis.com)... 142.250.153.128, 142.250.145.128, 173.194.69.128, ...\n",
            "Connecting to storage.googleapis.com (storage.googleapis.com)|142.250.153.128|:443... connected.\n",
            "HTTP request sent, awaiting response... 200 OK\n",
            "Length: 1625420029 (1.5G) [application/zip]\n",
            "Saving to: ‘101_food_classes_10_percent.zip’\n",
            "\n",
            "101_food_classes_10 100%[===================>]   1.51G  41.3MB/s    in 38s     \n",
            "\n",
            "2023-04-03 18:44:00 (40.5 MB/s) - ‘101_food_classes_10_percent.zip’ saved [1625420029/1625420029]\n",
            "\n"
          ]
        }
      ]
    },
    {
      "cell_type": "code",
      "source": [
        "unzip_data(\"101_food_classes_10_percent.zip\")\n",
        "\n",
        "train_dir = \"/content/101_food_classes_10_percent/train/\"\n",
        "test_dir = \"/content/101_food_classes_10_percent/test/\""
      ],
      "metadata": {
        "id": "4lWS80Q_YhEn"
      },
      "execution_count": null,
      "outputs": []
    },
    {
      "cell_type": "code",
      "source": [
        "# How many images/classes are there\n",
        "walk_through_dir(\"101_food_classes_10_percent\")"
      ],
      "metadata": {
        "colab": {
          "base_uri": "https://localhost:8080/"
        },
        "id": "Yz-_I_xGY9zS",
        "outputId": "e28be3c9-a324-4399-a5ca-96b0b6066bfa"
      },
      "execution_count": null,
      "outputs": [
        {
          "output_type": "stream",
          "name": "stdout",
          "text": [
            "There are 2 directories and 0 images in '101_food_classes_10_percent'.\n",
            "There are 101 directories and 0 images in '101_food_classes_10_percent/test'.\n",
            "There are 0 directories and 250 images in '101_food_classes_10_percent/test/fried_calamari'.\n",
            "There are 0 directories and 250 images in '101_food_classes_10_percent/test/baby_back_ribs'.\n",
            "There are 0 directories and 250 images in '101_food_classes_10_percent/test/fish_and_chips'.\n",
            "There are 0 directories and 250 images in '101_food_classes_10_percent/test/pad_thai'.\n",
            "There are 0 directories and 250 images in '101_food_classes_10_percent/test/baklava'.\n",
            "There are 0 directories and 250 images in '101_food_classes_10_percent/test/panna_cotta'.\n",
            "There are 0 directories and 250 images in '101_food_classes_10_percent/test/seaweed_salad'.\n",
            "There are 0 directories and 250 images in '101_food_classes_10_percent/test/shrimp_and_grits'.\n",
            "There are 0 directories and 250 images in '101_food_classes_10_percent/test/foie_gras'.\n",
            "There are 0 directories and 250 images in '101_food_classes_10_percent/test/french_toast'.\n",
            "There are 0 directories and 250 images in '101_food_classes_10_percent/test/omelette'.\n",
            "There are 0 directories and 250 images in '101_food_classes_10_percent/test/caprese_salad'.\n",
            "There are 0 directories and 250 images in '101_food_classes_10_percent/test/french_onion_soup'.\n",
            "There are 0 directories and 250 images in '101_food_classes_10_percent/test/chocolate_cake'.\n",
            "There are 0 directories and 250 images in '101_food_classes_10_percent/test/mussels'.\n",
            "There are 0 directories and 250 images in '101_food_classes_10_percent/test/ravioli'.\n",
            "There are 0 directories and 250 images in '101_food_classes_10_percent/test/hamburger'.\n",
            "There are 0 directories and 250 images in '101_food_classes_10_percent/test/lobster_roll_sandwich'.\n",
            "There are 0 directories and 250 images in '101_food_classes_10_percent/test/creme_brulee'.\n",
            "There are 0 directories and 250 images in '101_food_classes_10_percent/test/tacos'.\n",
            "There are 0 directories and 250 images in '101_food_classes_10_percent/test/churros'.\n",
            "There are 0 directories and 250 images in '101_food_classes_10_percent/test/risotto'.\n",
            "There are 0 directories and 250 images in '101_food_classes_10_percent/test/sashimi'.\n",
            "There are 0 directories and 250 images in '101_food_classes_10_percent/test/samosa'.\n",
            "There are 0 directories and 250 images in '101_food_classes_10_percent/test/sushi'.\n",
            "There are 0 directories and 250 images in '101_food_classes_10_percent/test/hummus'.\n",
            "There are 0 directories and 250 images in '101_food_classes_10_percent/test/gyoza'.\n",
            "There are 0 directories and 250 images in '101_food_classes_10_percent/test/spaghetti_carbonara'.\n",
            "There are 0 directories and 250 images in '101_food_classes_10_percent/test/dumplings'.\n",
            "There are 0 directories and 250 images in '101_food_classes_10_percent/test/greek_salad'.\n",
            "There are 0 directories and 250 images in '101_food_classes_10_percent/test/fried_rice'.\n",
            "There are 0 directories and 250 images in '101_food_classes_10_percent/test/huevos_rancheros'.\n",
            "There are 0 directories and 250 images in '101_food_classes_10_percent/test/onion_rings'.\n",
            "There are 0 directories and 250 images in '101_food_classes_10_percent/test/steak'.\n",
            "There are 0 directories and 250 images in '101_food_classes_10_percent/test/deviled_eggs'.\n",
            "There are 0 directories and 250 images in '101_food_classes_10_percent/test/prime_rib'.\n",
            "There are 0 directories and 250 images in '101_food_classes_10_percent/test/ceviche'.\n",
            "There are 0 directories and 250 images in '101_food_classes_10_percent/test/nachos'.\n",
            "There are 0 directories and 250 images in '101_food_classes_10_percent/test/scallops'.\n",
            "There are 0 directories and 250 images in '101_food_classes_10_percent/test/pancakes'.\n",
            "There are 0 directories and 250 images in '101_food_classes_10_percent/test/croque_madame'.\n",
            "There are 0 directories and 250 images in '101_food_classes_10_percent/test/pizza'.\n",
            "There are 0 directories and 250 images in '101_food_classes_10_percent/test/beef_tartare'.\n",
            "There are 0 directories and 250 images in '101_food_classes_10_percent/test/waffles'.\n",
            "There are 0 directories and 250 images in '101_food_classes_10_percent/test/breakfast_burrito'.\n",
            "There are 0 directories and 250 images in '101_food_classes_10_percent/test/miso_soup'.\n",
            "There are 0 directories and 250 images in '101_food_classes_10_percent/test/caesar_salad'.\n",
            "There are 0 directories and 250 images in '101_food_classes_10_percent/test/filet_mignon'.\n",
            "There are 0 directories and 250 images in '101_food_classes_10_percent/test/ramen'.\n",
            "There are 0 directories and 250 images in '101_food_classes_10_percent/test/red_velvet_cake'.\n",
            "There are 0 directories and 250 images in '101_food_classes_10_percent/test/cheese_plate'.\n",
            "There are 0 directories and 250 images in '101_food_classes_10_percent/test/macaroni_and_cheese'.\n",
            "There are 0 directories and 250 images in '101_food_classes_10_percent/test/edamame'.\n",
            "There are 0 directories and 250 images in '101_food_classes_10_percent/test/cannoli'.\n",
            "There are 0 directories and 250 images in '101_food_classes_10_percent/test/eggs_benedict'.\n",
            "There are 0 directories and 250 images in '101_food_classes_10_percent/test/bruschetta'.\n",
            "There are 0 directories and 250 images in '101_food_classes_10_percent/test/oysters'.\n",
            "There are 0 directories and 250 images in '101_food_classes_10_percent/test/paella'.\n",
            "There are 0 directories and 250 images in '101_food_classes_10_percent/test/tiramisu'.\n",
            "There are 0 directories and 250 images in '101_food_classes_10_percent/test/pulled_pork_sandwich'.\n",
            "There are 0 directories and 250 images in '101_food_classes_10_percent/test/macarons'.\n",
            "There are 0 directories and 250 images in '101_food_classes_10_percent/test/chicken_wings'.\n",
            "There are 0 directories and 250 images in '101_food_classes_10_percent/test/apple_pie'.\n",
            "There are 0 directories and 250 images in '101_food_classes_10_percent/test/clam_chowder'.\n",
            "There are 0 directories and 250 images in '101_food_classes_10_percent/test/bread_pudding'.\n",
            "There are 0 directories and 250 images in '101_food_classes_10_percent/test/chicken_curry'.\n",
            "There are 0 directories and 250 images in '101_food_classes_10_percent/test/club_sandwich'.\n",
            "There are 0 directories and 250 images in '101_food_classes_10_percent/test/carrot_cake'.\n",
            "There are 0 directories and 250 images in '101_food_classes_10_percent/test/lasagna'.\n",
            "There are 0 directories and 250 images in '101_food_classes_10_percent/test/beet_salad'.\n",
            "There are 0 directories and 250 images in '101_food_classes_10_percent/test/strawberry_shortcake'.\n",
            "There are 0 directories and 250 images in '101_food_classes_10_percent/test/takoyaki'.\n",
            "There are 0 directories and 250 images in '101_food_classes_10_percent/test/donuts'.\n",
            "There are 0 directories and 250 images in '101_food_classes_10_percent/test/crab_cakes'.\n",
            "There are 0 directories and 250 images in '101_food_classes_10_percent/test/escargots'.\n",
            "There are 0 directories and 250 images in '101_food_classes_10_percent/test/ice_cream'.\n",
            "There are 0 directories and 250 images in '101_food_classes_10_percent/test/cup_cakes'.\n",
            "There are 0 directories and 250 images in '101_food_classes_10_percent/test/chicken_quesadilla'.\n",
            "There are 0 directories and 250 images in '101_food_classes_10_percent/test/pork_chop'.\n",
            "There are 0 directories and 250 images in '101_food_classes_10_percent/test/bibimbap'.\n",
            "There are 0 directories and 250 images in '101_food_classes_10_percent/test/chocolate_mousse'.\n",
            "There are 0 directories and 250 images in '101_food_classes_10_percent/test/grilled_cheese_sandwich'.\n",
            "There are 0 directories and 250 images in '101_food_classes_10_percent/test/lobster_bisque'.\n",
            "There are 0 directories and 250 images in '101_food_classes_10_percent/test/gnocchi'.\n",
            "There are 0 directories and 250 images in '101_food_classes_10_percent/test/tuna_tartare'.\n",
            "There are 0 directories and 250 images in '101_food_classes_10_percent/test/beignets'.\n",
            "There are 0 directories and 250 images in '101_food_classes_10_percent/test/peking_duck'.\n",
            "There are 0 directories and 250 images in '101_food_classes_10_percent/test/cheesecake'.\n",
            "There are 0 directories and 250 images in '101_food_classes_10_percent/test/falafel'.\n",
            "There are 0 directories and 250 images in '101_food_classes_10_percent/test/garlic_bread'.\n",
            "There are 0 directories and 250 images in '101_food_classes_10_percent/test/grilled_salmon'.\n",
            "There are 0 directories and 250 images in '101_food_classes_10_percent/test/spaghetti_bolognese'.\n",
            "There are 0 directories and 250 images in '101_food_classes_10_percent/test/poutine'.\n",
            "There are 0 directories and 250 images in '101_food_classes_10_percent/test/beef_carpaccio'.\n",
            "There are 0 directories and 250 images in '101_food_classes_10_percent/test/guacamole'.\n",
            "There are 0 directories and 250 images in '101_food_classes_10_percent/test/spring_rolls'.\n",
            "There are 0 directories and 250 images in '101_food_classes_10_percent/test/french_fries'.\n",
            "There are 0 directories and 250 images in '101_food_classes_10_percent/test/hot_and_sour_soup'.\n",
            "There are 0 directories and 250 images in '101_food_classes_10_percent/test/pho'.\n",
            "There are 0 directories and 250 images in '101_food_classes_10_percent/test/hot_dog'.\n",
            "There are 0 directories and 250 images in '101_food_classes_10_percent/test/frozen_yogurt'.\n",
            "There are 101 directories and 0 images in '101_food_classes_10_percent/train'.\n",
            "There are 0 directories and 75 images in '101_food_classes_10_percent/train/fried_calamari'.\n",
            "There are 0 directories and 75 images in '101_food_classes_10_percent/train/baby_back_ribs'.\n",
            "There are 0 directories and 75 images in '101_food_classes_10_percent/train/fish_and_chips'.\n",
            "There are 0 directories and 75 images in '101_food_classes_10_percent/train/pad_thai'.\n",
            "There are 0 directories and 75 images in '101_food_classes_10_percent/train/baklava'.\n",
            "There are 0 directories and 75 images in '101_food_classes_10_percent/train/panna_cotta'.\n",
            "There are 0 directories and 75 images in '101_food_classes_10_percent/train/seaweed_salad'.\n",
            "There are 0 directories and 75 images in '101_food_classes_10_percent/train/shrimp_and_grits'.\n",
            "There are 0 directories and 75 images in '101_food_classes_10_percent/train/foie_gras'.\n",
            "There are 0 directories and 75 images in '101_food_classes_10_percent/train/french_toast'.\n",
            "There are 0 directories and 75 images in '101_food_classes_10_percent/train/omelette'.\n",
            "There are 0 directories and 75 images in '101_food_classes_10_percent/train/caprese_salad'.\n",
            "There are 0 directories and 75 images in '101_food_classes_10_percent/train/french_onion_soup'.\n",
            "There are 0 directories and 75 images in '101_food_classes_10_percent/train/chocolate_cake'.\n",
            "There are 0 directories and 75 images in '101_food_classes_10_percent/train/mussels'.\n",
            "There are 0 directories and 75 images in '101_food_classes_10_percent/train/ravioli'.\n",
            "There are 0 directories and 75 images in '101_food_classes_10_percent/train/hamburger'.\n",
            "There are 0 directories and 75 images in '101_food_classes_10_percent/train/lobster_roll_sandwich'.\n",
            "There are 0 directories and 75 images in '101_food_classes_10_percent/train/creme_brulee'.\n",
            "There are 0 directories and 75 images in '101_food_classes_10_percent/train/tacos'.\n",
            "There are 0 directories and 75 images in '101_food_classes_10_percent/train/churros'.\n",
            "There are 0 directories and 75 images in '101_food_classes_10_percent/train/risotto'.\n",
            "There are 0 directories and 75 images in '101_food_classes_10_percent/train/sashimi'.\n",
            "There are 0 directories and 75 images in '101_food_classes_10_percent/train/samosa'.\n",
            "There are 0 directories and 75 images in '101_food_classes_10_percent/train/sushi'.\n",
            "There are 0 directories and 75 images in '101_food_classes_10_percent/train/hummus'.\n",
            "There are 0 directories and 75 images in '101_food_classes_10_percent/train/gyoza'.\n",
            "There are 0 directories and 75 images in '101_food_classes_10_percent/train/spaghetti_carbonara'.\n",
            "There are 0 directories and 75 images in '101_food_classes_10_percent/train/dumplings'.\n",
            "There are 0 directories and 75 images in '101_food_classes_10_percent/train/greek_salad'.\n",
            "There are 0 directories and 75 images in '101_food_classes_10_percent/train/fried_rice'.\n",
            "There are 0 directories and 75 images in '101_food_classes_10_percent/train/huevos_rancheros'.\n",
            "There are 0 directories and 75 images in '101_food_classes_10_percent/train/onion_rings'.\n",
            "There are 0 directories and 75 images in '101_food_classes_10_percent/train/steak'.\n",
            "There are 0 directories and 75 images in '101_food_classes_10_percent/train/deviled_eggs'.\n",
            "There are 0 directories and 75 images in '101_food_classes_10_percent/train/prime_rib'.\n",
            "There are 0 directories and 75 images in '101_food_classes_10_percent/train/ceviche'.\n",
            "There are 0 directories and 75 images in '101_food_classes_10_percent/train/nachos'.\n",
            "There are 0 directories and 75 images in '101_food_classes_10_percent/train/scallops'.\n",
            "There are 0 directories and 75 images in '101_food_classes_10_percent/train/pancakes'.\n",
            "There are 0 directories and 75 images in '101_food_classes_10_percent/train/croque_madame'.\n",
            "There are 0 directories and 75 images in '101_food_classes_10_percent/train/pizza'.\n",
            "There are 0 directories and 75 images in '101_food_classes_10_percent/train/beef_tartare'.\n",
            "There are 0 directories and 75 images in '101_food_classes_10_percent/train/waffles'.\n",
            "There are 0 directories and 75 images in '101_food_classes_10_percent/train/breakfast_burrito'.\n",
            "There are 0 directories and 75 images in '101_food_classes_10_percent/train/miso_soup'.\n",
            "There are 0 directories and 75 images in '101_food_classes_10_percent/train/caesar_salad'.\n",
            "There are 0 directories and 75 images in '101_food_classes_10_percent/train/filet_mignon'.\n",
            "There are 0 directories and 75 images in '101_food_classes_10_percent/train/ramen'.\n",
            "There are 0 directories and 75 images in '101_food_classes_10_percent/train/red_velvet_cake'.\n",
            "There are 0 directories and 75 images in '101_food_classes_10_percent/train/cheese_plate'.\n",
            "There are 0 directories and 75 images in '101_food_classes_10_percent/train/macaroni_and_cheese'.\n",
            "There are 0 directories and 75 images in '101_food_classes_10_percent/train/edamame'.\n",
            "There are 0 directories and 75 images in '101_food_classes_10_percent/train/cannoli'.\n",
            "There are 0 directories and 75 images in '101_food_classes_10_percent/train/eggs_benedict'.\n",
            "There are 0 directories and 75 images in '101_food_classes_10_percent/train/bruschetta'.\n",
            "There are 0 directories and 75 images in '101_food_classes_10_percent/train/oysters'.\n",
            "There are 0 directories and 75 images in '101_food_classes_10_percent/train/paella'.\n",
            "There are 0 directories and 75 images in '101_food_classes_10_percent/train/tiramisu'.\n",
            "There are 0 directories and 75 images in '101_food_classes_10_percent/train/pulled_pork_sandwich'.\n",
            "There are 0 directories and 75 images in '101_food_classes_10_percent/train/macarons'.\n",
            "There are 0 directories and 75 images in '101_food_classes_10_percent/train/chicken_wings'.\n",
            "There are 0 directories and 75 images in '101_food_classes_10_percent/train/apple_pie'.\n",
            "There are 0 directories and 75 images in '101_food_classes_10_percent/train/clam_chowder'.\n",
            "There are 0 directories and 75 images in '101_food_classes_10_percent/train/bread_pudding'.\n",
            "There are 0 directories and 75 images in '101_food_classes_10_percent/train/chicken_curry'.\n",
            "There are 0 directories and 75 images in '101_food_classes_10_percent/train/club_sandwich'.\n",
            "There are 0 directories and 75 images in '101_food_classes_10_percent/train/carrot_cake'.\n",
            "There are 0 directories and 75 images in '101_food_classes_10_percent/train/lasagna'.\n",
            "There are 0 directories and 75 images in '101_food_classes_10_percent/train/beet_salad'.\n",
            "There are 0 directories and 75 images in '101_food_classes_10_percent/train/strawberry_shortcake'.\n",
            "There are 0 directories and 75 images in '101_food_classes_10_percent/train/takoyaki'.\n",
            "There are 0 directories and 75 images in '101_food_classes_10_percent/train/donuts'.\n",
            "There are 0 directories and 75 images in '101_food_classes_10_percent/train/crab_cakes'.\n",
            "There are 0 directories and 75 images in '101_food_classes_10_percent/train/escargots'.\n",
            "There are 0 directories and 75 images in '101_food_classes_10_percent/train/ice_cream'.\n",
            "There are 0 directories and 75 images in '101_food_classes_10_percent/train/cup_cakes'.\n",
            "There are 0 directories and 75 images in '101_food_classes_10_percent/train/chicken_quesadilla'.\n",
            "There are 0 directories and 75 images in '101_food_classes_10_percent/train/pork_chop'.\n",
            "There are 0 directories and 75 images in '101_food_classes_10_percent/train/bibimbap'.\n",
            "There are 0 directories and 75 images in '101_food_classes_10_percent/train/chocolate_mousse'.\n",
            "There are 0 directories and 75 images in '101_food_classes_10_percent/train/grilled_cheese_sandwich'.\n",
            "There are 0 directories and 75 images in '101_food_classes_10_percent/train/lobster_bisque'.\n",
            "There are 0 directories and 75 images in '101_food_classes_10_percent/train/gnocchi'.\n",
            "There are 0 directories and 75 images in '101_food_classes_10_percent/train/tuna_tartare'.\n",
            "There are 0 directories and 75 images in '101_food_classes_10_percent/train/beignets'.\n",
            "There are 0 directories and 75 images in '101_food_classes_10_percent/train/peking_duck'.\n",
            "There are 0 directories and 75 images in '101_food_classes_10_percent/train/cheesecake'.\n",
            "There are 0 directories and 75 images in '101_food_classes_10_percent/train/falafel'.\n",
            "There are 0 directories and 75 images in '101_food_classes_10_percent/train/garlic_bread'.\n",
            "There are 0 directories and 75 images in '101_food_classes_10_percent/train/grilled_salmon'.\n",
            "There are 0 directories and 75 images in '101_food_classes_10_percent/train/spaghetti_bolognese'.\n",
            "There are 0 directories and 75 images in '101_food_classes_10_percent/train/poutine'.\n",
            "There are 0 directories and 75 images in '101_food_classes_10_percent/train/beef_carpaccio'.\n",
            "There are 0 directories and 75 images in '101_food_classes_10_percent/train/guacamole'.\n",
            "There are 0 directories and 75 images in '101_food_classes_10_percent/train/spring_rolls'.\n",
            "There are 0 directories and 75 images in '101_food_classes_10_percent/train/french_fries'.\n",
            "There are 0 directories and 75 images in '101_food_classes_10_percent/train/hot_and_sour_soup'.\n",
            "There are 0 directories and 75 images in '101_food_classes_10_percent/train/pho'.\n",
            "There are 0 directories and 75 images in '101_food_classes_10_percent/train/hot_dog'.\n",
            "There are 0 directories and 75 images in '101_food_classes_10_percent/train/frozen_yogurt'.\n"
          ]
        }
      ]
    },
    {
      "cell_type": "code",
      "source": [
        "# Setup data inputs\n",
        "import tensorflow as tf\n",
        "IMG_SIZE = (224, 224)\n",
        "\n",
        "train_data_all_10_percent = tf.keras.preprocessing.image_dataset_from_directory(directory=train_dir,\n",
        "                                                                                label_mode='categorical',\n",
        "                                                                                image_size=IMG_SIZE,\n",
        "                                                                                batch_size=32)\n",
        "\n",
        "\n",
        "test_data = tf.keras.preprocessing.image_dataset_from_directory(directory=test_dir,\n",
        "                                                                label_mode='categorical',\n",
        "                                                                image_size=IMG_SIZE,\n",
        "                                                                batch_size=32,\n",
        "                                                                shuffle=False) # don't shuffle for prediction analysis"
      ],
      "metadata": {
        "colab": {
          "base_uri": "https://localhost:8080/"
        },
        "id": "GvFC_pDqZDO2",
        "outputId": "297690ad-a09c-4dce-b271-c6192917b3bd"
      },
      "execution_count": null,
      "outputs": [
        {
          "output_type": "stream",
          "name": "stdout",
          "text": [
            "Found 7575 files belonging to 101 classes.\n",
            "Found 25250 files belonging to 101 classes.\n"
          ]
        }
      ]
    },
    {
      "cell_type": "code",
      "source": [
        "tf.__version__"
      ],
      "metadata": {
        "colab": {
          "base_uri": "https://localhost:8080/",
          "height": 35
        },
        "id": "NbvJYalgoaKr",
        "outputId": "5ba6b2bd-3ffe-4bcd-c24e-e481c4b194d9"
      },
      "execution_count": null,
      "outputs": [
        {
          "output_type": "execute_result",
          "data": {
            "text/plain": [
              "'2.12.0'"
            ],
            "application/vnd.google.colaboratory.intrinsic+json": {
              "type": "string"
            }
          },
          "metadata": {},
          "execution_count": 8
        }
      ]
    },
    {
      "cell_type": "markdown",
      "source": [
        "## Train a big dog model with transfer learning on 10% of 101 food classes\n",
        "\n",
        "Here are the steps we're going to take:\n",
        "* Create a ModelCheckpoint callback\n",
        "* Create a data augumentation layer to build data augumentation right into the model\n",
        "* Build a headless (no top layers) Functional EfficientNetB0 backboned-model (we'll create our own output layer)\n",
        "* Compile our model\n",
        "* Fature extract for 5 full passes (5 epochs on the train dataset and valiadion on 15% of the test data, to save epoch time)\n"
      ],
      "metadata": {
        "id": "SahAKMRUZpJU"
      }
    },
    {
      "cell_type": "code",
      "source": [
        "# Create checkpoint callback\n",
        "checkpoint_path = \"101_classes_10_percent_data_model_checkpoint\"\n",
        "checkpoint_callback = tf.keras.callbacks.ModelCheckpoint(filepath=checkpoint_path,\n",
        "                                                         save_weights_only=True,\n",
        "                                                         monitor=\"val_accuracy\",\n",
        "                                                         save_best_only=True)"
      ],
      "metadata": {
        "id": "-a9ewWayab6A"
      },
      "execution_count": null,
      "outputs": []
    },
    {
      "cell_type": "code",
      "source": [
        "# Create data augumentation layer to incorporate it right into the model\n",
        "from tensorflow.keras import layers\n",
        "from tensorflow.keras.layers.experimental import preprocessing\n",
        "from tensorflow.keras import Sequential\n",
        "\n",
        "# Setup data augumentation\n",
        "data_augumentation = Sequential([\n",
        "    layers.RandomFlip(\"horizontal\"),\n",
        "    layers.RandomRotation(0.2),\n",
        "    layers.RandomHeight(0.2),\n",
        "    layers.RandomWidth(0.2),\n",
        "    layers.RandomZoom(0.2),\n",
        "    # we can skip Rescaling layer because efficientnet has it built in\n",
        "])"
      ],
      "metadata": {
        "id": "sP40M2VGa1Fx"
      },
      "execution_count": null,
      "outputs": []
    },
    {
      "cell_type": "code",
      "source": [
        "# Setup the input shape and base model and freeze its layers\n",
        "input_shape = (224, 224, 3)\n",
        "base_model = tf.keras.applications.EfficientNetB0(include_top=False)\n",
        "base_model.trainable = False\n",
        "\n",
        "# Input layer\n",
        "inputs = layers.Input(shape=input_shape, name=\"input_layer\")\n",
        "\n",
        "# Add data augumentation\n",
        "x = data_augumentation(inputs)\n",
        "\n",
        "# Give base model the inputs after augumentation and don't train it\n",
        "x = base_model(x, training=False)\n",
        "\n",
        "# Pool output layer\n",
        "x = layers.GlobalAveragePooling2D(name=\"global_average_pooling_layer\")(x)\n",
        "\n",
        "# Set up a dense layer as an output\n",
        "outputs = layers.Dense(101, activation=\"softmax\", name=\"output_layer\")(x)\n",
        "\n",
        "# Make a model using the inputs and outputs\n",
        "model_1 = tf.keras.Model(inputs, outputs)\n",
        "\n",
        "# Compile the model\n",
        "model_1.compile(loss=tf.keras.losses.CategoricalCrossentropy(),\n",
        "                optimizer=tf.keras.optimizers.Adam(),\n",
        "                metrics=[\"accuracy\"])"
      ],
      "metadata": {
        "colab": {
          "base_uri": "https://localhost:8080/"
        },
        "id": "QxRdL4OAbvyN",
        "outputId": "735dc0b1-a4e9-49e5-aa0c-8dcdb0e356f2"
      },
      "execution_count": null,
      "outputs": [
        {
          "output_type": "stream",
          "name": "stdout",
          "text": [
            "Downloading data from https://storage.googleapis.com/keras-applications/efficientnetb0_notop.h5\n",
            "16705208/16705208 [==============================] - 1s 0us/step\n"
          ]
        }
      ]
    },
    {
      "cell_type": "code",
      "source": [
        "model_1.summary()"
      ],
      "metadata": {
        "colab": {
          "base_uri": "https://localhost:8080/"
        },
        "id": "yx5aObyqdX1y",
        "outputId": "10e97314-dd0b-4cb9-b12c-db94438965d6"
      },
      "execution_count": null,
      "outputs": [
        {
          "output_type": "stream",
          "name": "stdout",
          "text": [
            "Model: \"model\"\n",
            "_________________________________________________________________\n",
            " Layer (type)                Output Shape              Param #   \n",
            "=================================================================\n",
            " input_layer (InputLayer)    [(None, 224, 224, 3)]     0         \n",
            "                                                                 \n",
            " sequential (Sequential)     (None, None, None, 3)     0         \n",
            "                                                                 \n",
            " efficientnetb0 (Functional)  (None, None, None, 1280)  4049571  \n",
            "                                                                 \n",
            " global_average_pooling_laye  (None, 1280)             0         \n",
            " r (GlobalAveragePooling2D)                                      \n",
            "                                                                 \n",
            " output_layer (Dense)        (None, 101)               129381    \n",
            "                                                                 \n",
            "=================================================================\n",
            "Total params: 4,178,952\n",
            "Trainable params: 129,381\n",
            "Non-trainable params: 4,049,571\n",
            "_________________________________________________________________\n"
          ]
        }
      ]
    },
    {
      "cell_type": "code",
      "source": [
        "# Fit the model\n",
        "history_1_101_classes_10_percent = model_1.fit(train_data_all_10_percent,\n",
        "                                               steps_per_epoch=len(train_data_all_10_percent),\n",
        "                                               epochs=5,\n",
        "                                               validation_data=test_data,\n",
        "                                               validation_steps=int(0.15 * len(test_data)),\n",
        "                                               callbacks=[checkpoint_callback])"
      ],
      "metadata": {
        "colab": {
          "base_uri": "https://localhost:8080/"
        },
        "id": "kmqovD8hfUFQ",
        "outputId": "6e1c38be-0627-4840-b07a-52226a569f5d"
      },
      "execution_count": null,
      "outputs": [
        {
          "output_type": "stream",
          "name": "stdout",
          "text": [
            "Epoch 1/5\n",
            "237/237 [==============================] - 101s 366ms/step - loss: 3.3945 - accuracy: 0.2684 - val_loss: 2.5518 - val_accuracy: 0.4383\n",
            "Epoch 2/5\n",
            "237/237 [==============================] - 69s 291ms/step - loss: 2.2110 - accuracy: 0.4965 - val_loss: 2.0999 - val_accuracy: 0.5003\n",
            "Epoch 3/5\n",
            "237/237 [==============================] - 64s 268ms/step - loss: 1.8321 - accuracy: 0.5650 - val_loss: 1.9222 - val_accuracy: 0.5207\n",
            "Epoch 4/5\n",
            "237/237 [==============================] - 60s 251ms/step - loss: 1.6113 - accuracy: 0.6111 - val_loss: 1.8233 - val_accuracy: 0.5336\n",
            "Epoch 5/5\n",
            "237/237 [==============================] - 56s 233ms/step - loss: 1.4548 - accuracy: 0.6445 - val_loss: 1.8236 - val_accuracy: 0.5252\n"
          ]
        }
      ]
    },
    {
      "cell_type": "code",
      "source": [
        "# Evaluate the model on all of the data\n",
        "model_1.evaluate(test_data)"
      ],
      "metadata": {
        "colab": {
          "base_uri": "https://localhost:8080/"
        },
        "id": "40IaM_d5hnhW",
        "outputId": "0a971305-05f9-4464-85d7-cc7b225b2691"
      },
      "execution_count": null,
      "outputs": [
        {
          "output_type": "stream",
          "name": "stdout",
          "text": [
            "790/790 [==============================] - 66s 84ms/step - loss: 1.5856 - accuracy: 0.5826\n"
          ]
        },
        {
          "output_type": "execute_result",
          "data": {
            "text/plain": [
              "[1.5855580568313599, 0.5826138854026794]"
            ]
          },
          "metadata": {},
          "execution_count": 15
        }
      ]
    },
    {
      "cell_type": "code",
      "source": [
        "# Plot loss curves\n",
        "plot_loss_curves(history_1_101_classes_10_percent)"
      ],
      "metadata": {
        "colab": {
          "base_uri": "https://localhost:8080/",
          "height": 927
        },
        "id": "9ymJ1XaTiuv5",
        "outputId": "f016623b-39be-479e-b58e-81cab86e38e4"
      },
      "execution_count": null,
      "outputs": [
        {
          "output_type": "display_data",
          "data": {
            "text/plain": [
              "<Figure size 640x480 with 1 Axes>"
            ],
            "image/png": "[encoded data removed]"
          },
          "metadata": {}
        },
        {
          "output_type": "display_data",
          "data": {
            "text/plain": [
              "<Figure size 640x480 with 1 Axes>"
            ],
            "image/png": "[encoded data removed]"
          },
          "metadata": {}
        }
      ]
    },
    {
      "cell_type": "markdown",
      "source": [
        "## Fine-tuning"
      ],
      "metadata": {
        "id": "Fhn1knFcgN_b"
      }
    },
    {
      "cell_type": "code",
      "source": [
        "# Unfreeze all of the layers in the base model\n",
        "base_model.trainable = True\n",
        "\n",
        "# Refreeze every layer except the last 5\n",
        "for layer in base_model.layers[:-5]:\n",
        "  layer.trainable = False"
      ],
      "metadata": {
        "id": "7Vf9pL2ahlxN"
      },
      "execution_count": null,
      "outputs": []
    },
    {
      "cell_type": "code",
      "source": [
        "# Recompile model with lower learning rate (it's typically best practice to lower learning rate when fine-tuning)\n",
        "model_1.compile(loss=tf.keras.losses.CategoricalCrossentropy(),\n",
        "                optimizer=tf.keras.optimizers.Adam(learning_rate=0.0001),\n",
        "                metrics=[\"accuracy\"])"
      ],
      "metadata": {
        "id": "kguOvw0Li0Ec"
      },
      "execution_count": null,
      "outputs": []
    },
    {
      "cell_type": "code",
      "source": [
        "# What layers in the model are trainable\n",
        "for layer in model_1.layers:\n",
        "  print(layer.name, layer.trainable)"
      ],
      "metadata": {
        "colab": {
          "base_uri": "https://localhost:8080/"
        },
        "id": "Azf-zw6vjEt8",
        "outputId": "ff5c4f53-b92c-421a-a13a-22da70213df8"
      },
      "execution_count": null,
      "outputs": [
        {
          "output_type": "stream",
          "name": "stdout",
          "text": [
            "input_layer True\n",
            "sequential True\n",
            "efficientnetb0 True\n",
            "global_average_pooling_layer True\n",
            "output_layer True\n"
          ]
        }
      ]
    },
    {
      "cell_type": "code",
      "source": [
        "# Check chich layer are trainable in our base model\n",
        "for layer_number, layer in enumerate(base_model.layers):\n",
        "  print(layer_number, layer.name, layer.trainable)"
      ],
      "metadata": {
        "colab": {
          "base_uri": "https://localhost:8080/"
        },
        "id": "Ax1jhc0OjJli",
        "outputId": "48aaef23-26a4-403d-9a50-9b865364be7e"
      },
      "execution_count": null,
      "outputs": [
        {
          "output_type": "stream",
          "name": "stdout",
          "text": [
            "0 input_1 False\n",
            "1 rescaling False\n",
            "2 normalization False\n",
            "3 rescaling_1 False\n",
            "4 stem_conv_pad False\n",
            "5 stem_conv False\n",
            "6 stem_bn False\n",
            "7 stem_activation False\n",
            "8 block1a_dwconv False\n",
            "9 block1a_bn False\n",
            "10 block1a_activation False\n",
            "11 block1a_se_squeeze False\n",
            "12 block1a_se_reshape False\n",
            "13 block1a_se_reduce False\n",
            "14 block1a_se_expand False\n",
            "15 block1a_se_excite False\n",
            "16 block1a_project_conv False\n",
            "17 block1a_project_bn False\n",
            "18 block2a_expand_conv False\n",
            "19 block2a_expand_bn False\n",
            "20 block2a_expand_activation False\n",
            "21 block2a_dwconv_pad False\n",
            "22 block2a_dwconv False\n",
            "23 block2a_bn False\n",
            "24 block2a_activation False\n",
            "25 block2a_se_squeeze False\n",
            "26 block2a_se_reshape False\n",
            "27 block2a_se_reduce False\n",
            "28 block2a_se_expand False\n",
            "29 block2a_se_excite False\n",
            "30 block2a_project_conv False\n",
            "31 block2a_project_bn False\n",
            "32 block2b_expand_conv False\n",
            "33 block2b_expand_bn False\n",
            "34 block2b_expand_activation False\n",
            "35 block2b_dwconv False\n",
            "36 block2b_bn False\n",
            "37 block2b_activation False\n",
            "38 block2b_se_squeeze False\n",
            "39 block2b_se_reshape False\n",
            "40 block2b_se_reduce False\n",
            "41 block2b_se_expand False\n",
            "42 block2b_se_excite False\n",
            "43 block2b_project_conv False\n",
            "44 block2b_project_bn False\n",
            "45 block2b_drop False\n",
            "46 block2b_add False\n",
            "47 block3a_expand_conv False\n",
            "48 block3a_expand_bn False\n",
            "49 block3a_expand_activation False\n",
            "50 block3a_dwconv_pad False\n",
            "51 block3a_dwconv False\n",
            "52 block3a_bn False\n",
            "53 block3a_activation False\n",
            "54 block3a_se_squeeze False\n",
            "55 block3a_se_reshape False\n",
            "56 block3a_se_reduce False\n",
            "57 block3a_se_expand False\n",
            "58 block3a_se_excite False\n",
            "59 block3a_project_conv False\n",
            "60 block3a_project_bn False\n",
            "61 block3b_expand_conv False\n",
            "62 block3b_expand_bn False\n",
            "63 block3b_expand_activation False\n",
            "64 block3b_dwconv False\n",
            "65 block3b_bn False\n",
            "66 block3b_activation False\n",
            "67 block3b_se_squeeze False\n",
            "68 block3b_se_reshape False\n",
            "69 block3b_se_reduce False\n",
            "70 block3b_se_expand False\n",
            "71 block3b_se_excite False\n",
            "72 block3b_project_conv False\n",
            "73 block3b_project_bn False\n",
            "74 block3b_drop False\n",
            "75 block3b_add False\n",
            "76 block4a_expand_conv False\n",
            "77 block4a_expand_bn False\n",
            "78 block4a_expand_activation False\n",
            "79 block4a_dwconv_pad False\n",
            "80 block4a_dwconv False\n",
            "81 block4a_bn False\n",
            "82 block4a_activation False\n",
            "83 block4a_se_squeeze False\n",
            "84 block4a_se_reshape False\n",
            "85 block4a_se_reduce False\n",
            "86 block4a_se_expand False\n",
            "87 block4a_se_excite False\n",
            "88 block4a_project_conv False\n",
            "89 block4a_project_bn False\n",
            "90 block4b_expand_conv False\n",
            "91 block4b_expand_bn False\n",
            "92 block4b_expand_activation False\n",
            "93 block4b_dwconv False\n",
            "94 block4b_bn False\n",
            "95 block4b_activation False\n",
            "96 block4b_se_squeeze False\n",
            "97 block4b_se_reshape False\n",
            "98 block4b_se_reduce False\n",
            "99 block4b_se_expand False\n",
            "100 block4b_se_excite False\n",
            "101 block4b_project_conv False\n",
            "102 block4b_project_bn False\n",
            "103 block4b_drop False\n",
            "104 block4b_add False\n",
            "105 block4c_expand_conv False\n",
            "106 block4c_expand_bn False\n",
            "107 block4c_expand_activation False\n",
            "108 block4c_dwconv False\n",
            "109 block4c_bn False\n",
            "110 block4c_activation False\n",
            "111 block4c_se_squeeze False\n",
            "112 block4c_se_reshape False\n",
            "113 block4c_se_reduce False\n",
            "114 block4c_se_expand False\n",
            "115 block4c_se_excite False\n",
            "116 block4c_project_conv False\n",
            "117 block4c_project_bn False\n",
            "118 block4c_drop False\n",
            "119 block4c_add False\n",
            "120 block5a_expand_conv False\n",
            "121 block5a_expand_bn False\n",
            "122 block5a_expand_activation False\n",
            "123 block5a_dwconv False\n",
            "124 block5a_bn False\n",
            "125 block5a_activation False\n",
            "126 block5a_se_squeeze False\n",
            "127 block5a_se_reshape False\n",
            "128 block5a_se_reduce False\n",
            "129 block5a_se_expand False\n",
            "130 block5a_se_excite False\n",
            "131 block5a_project_conv False\n",
            "132 block5a_project_bn False\n",
            "133 block5b_expand_conv False\n",
            "134 block5b_expand_bn False\n",
            "135 block5b_expand_activation False\n",
            "136 block5b_dwconv False\n",
            "137 block5b_bn False\n",
            "138 block5b_activation False\n",
            "139 block5b_se_squeeze False\n",
            "140 block5b_se_reshape False\n",
            "141 block5b_se_reduce False\n",
            "142 block5b_se_expand False\n",
            "143 block5b_se_excite False\n",
            "144 block5b_project_conv False\n",
            "145 block5b_project_bn False\n",
            "146 block5b_drop False\n",
            "147 block5b_add False\n",
            "148 block5c_expand_conv False\n",
            "149 block5c_expand_bn False\n",
            "150 block5c_expand_activation False\n",
            "151 block5c_dwconv False\n",
            "152 block5c_bn False\n",
            "153 block5c_activation False\n",
            "154 block5c_se_squeeze False\n",
            "155 block5c_se_reshape False\n",
            "156 block5c_se_reduce False\n",
            "157 block5c_se_expand False\n",
            "158 block5c_se_excite False\n",
            "159 block5c_project_conv False\n",
            "160 block5c_project_bn False\n",
            "161 block5c_drop False\n",
            "162 block5c_add False\n",
            "163 block6a_expand_conv False\n",
            "164 block6a_expand_bn False\n",
            "165 block6a_expand_activation False\n",
            "166 block6a_dwconv_pad False\n",
            "167 block6a_dwconv False\n",
            "168 block6a_bn False\n",
            "169 block6a_activation False\n",
            "170 block6a_se_squeeze False\n",
            "171 block6a_se_reshape False\n",
            "172 block6a_se_reduce False\n",
            "173 block6a_se_expand False\n",
            "174 block6a_se_excite False\n",
            "175 block6a_project_conv False\n",
            "176 block6a_project_bn False\n",
            "177 block6b_expand_conv False\n",
            "178 block6b_expand_bn False\n",
            "179 block6b_expand_activation False\n",
            "180 block6b_dwconv False\n",
            "181 block6b_bn False\n",
            "182 block6b_activation False\n",
            "183 block6b_se_squeeze False\n",
            "184 block6b_se_reshape False\n",
            "185 block6b_se_reduce False\n",
            "186 block6b_se_expand False\n",
            "187 block6b_se_excite False\n",
            "188 block6b_project_conv False\n",
            "189 block6b_project_bn False\n",
            "190 block6b_drop False\n",
            "191 block6b_add False\n",
            "192 block6c_expand_conv False\n",
            "193 block6c_expand_bn False\n",
            "194 block6c_expand_activation False\n",
            "195 block6c_dwconv False\n",
            "196 block6c_bn False\n",
            "197 block6c_activation False\n",
            "198 block6c_se_squeeze False\n",
            "199 block6c_se_reshape False\n",
            "200 block6c_se_reduce False\n",
            "201 block6c_se_expand False\n",
            "202 block6c_se_excite False\n",
            "203 block6c_project_conv False\n",
            "204 block6c_project_bn False\n",
            "205 block6c_drop False\n",
            "206 block6c_add False\n",
            "207 block6d_expand_conv False\n",
            "208 block6d_expand_bn False\n",
            "209 block6d_expand_activation False\n",
            "210 block6d_dwconv False\n",
            "211 block6d_bn False\n",
            "212 block6d_activation False\n",
            "213 block6d_se_squeeze False\n",
            "214 block6d_se_reshape False\n",
            "215 block6d_se_reduce False\n",
            "216 block6d_se_expand False\n",
            "217 block6d_se_excite False\n",
            "218 block6d_project_conv False\n",
            "219 block6d_project_bn False\n",
            "220 block6d_drop False\n",
            "221 block6d_add False\n",
            "222 block7a_expand_conv False\n",
            "223 block7a_expand_bn False\n",
            "224 block7a_expand_activation False\n",
            "225 block7a_dwconv False\n",
            "226 block7a_bn False\n",
            "227 block7a_activation False\n",
            "228 block7a_se_squeeze False\n",
            "229 block7a_se_reshape False\n",
            "230 block7a_se_reduce False\n",
            "231 block7a_se_expand False\n",
            "232 block7a_se_excite False\n",
            "233 block7a_project_conv True\n",
            "234 block7a_project_bn True\n",
            "235 top_conv True\n",
            "236 top_bn True\n",
            "237 top_activation True\n"
          ]
        }
      ]
    },
    {
      "cell_type": "code",
      "source": [
        "initial_epochs = 5\n",
        "fine_tune_epochs = initial_epochs + 5\n",
        "\n",
        "# Fit the model continuing on last epoch from previous fit\n",
        "history_2_101_classes_fine_tuning = model_1.fit(train_data_all_10_percent,\n",
        "                                                steps_per_epoch=len(train_data_all_10_percent),\n",
        "                                                epochs=fine_tune_epochs,\n",
        "                                                initial_epoch=history_1_101_classes_10_percent.epoch[-1],\n",
        "                                                validation_data=test_data,\n",
        "                                                validation_steps=int(0.15 * len(test_data)),\n",
        "                                                callbacks=[checkpoint_callback])"
      ],
      "metadata": {
        "colab": {
          "base_uri": "https://localhost:8080/"
        },
        "id": "uedqYBapjWhq",
        "outputId": "eefbd739-8f6e-449b-83f7-e2e050535b0c"
      },
      "execution_count": null,
      "outputs": [
        {
          "output_type": "stream",
          "name": "stdout",
          "text": [
            "Epoch 5/10\n",
            "237/237 [==============================] - 67s 246ms/step - loss: 1.2022 - accuracy: 0.6888 - val_loss: 1.7597 - val_accuracy: 0.5389\n",
            "Epoch 6/10\n",
            "237/237 [==============================] - 55s 230ms/step - loss: 1.0965 - accuracy: 0.7094 - val_loss: 1.7400 - val_accuracy: 0.5463\n",
            "Epoch 7/10\n",
            "237/237 [==============================] - 49s 204ms/step - loss: 1.0058 - accuracy: 0.7308 - val_loss: 1.7287 - val_accuracy: 0.5485\n",
            "Epoch 8/10\n",
            "237/237 [==============================] - 48s 203ms/step - loss: 0.9435 - accuracy: 0.7493 - val_loss: 1.7638 - val_accuracy: 0.5421\n",
            "Epoch 9/10\n",
            "237/237 [==============================] - 50s 206ms/step - loss: 0.8897 - accuracy: 0.7571 - val_loss: 1.7710 - val_accuracy: 0.5381\n",
            "Epoch 10/10\n",
            "237/237 [==============================] - 45s 189ms/step - loss: 0.8439 - accuracy: 0.7757 - val_loss: 1.7484 - val_accuracy: 0.5440\n"
          ]
        }
      ]
    },
    {
      "cell_type": "code",
      "source": [
        "model_1.evaluate(test_data)"
      ],
      "metadata": {
        "colab": {
          "base_uri": "https://localhost:8080/"
        },
        "id": "OVt42xe7kiBp",
        "outputId": "879856bf-010e-42e0-bd1e-0d486d27ed7c"
      },
      "execution_count": null,
      "outputs": [
        {
          "output_type": "stream",
          "name": "stdout",
          "text": [
            "790/790 [==============================] - 64s 81ms/step - loss: 1.5064 - accuracy: 0.6003\n"
          ]
        },
        {
          "output_type": "execute_result",
          "data": {
            "text/plain": [
              "[1.506392002105713, 0.6002772450447083]"
            ]
          },
          "metadata": {},
          "execution_count": 22
        }
      ]
    },
    {
      "cell_type": "code",
      "source": [
        "# !pip install tensorflow==2.9.1"
      ],
      "metadata": {
        "id": "_5K6wulHnyvs"
      },
      "execution_count": null,
      "outputs": []
    },
    {
      "cell_type": "code",
      "source": [
        "model_1.save(\"/content/drive/MyDrive/saved_models/transfer-learning/101_classes_fine_tuning_efficient_net\")"
      ],
      "metadata": {
        "colab": {
          "base_uri": "https://localhost:8080/"
        },
        "id": "haUxfiWZmvXb",
        "outputId": "9767aa81-d1a1-44bc-af2d-d55500291106"
      },
      "execution_count": null,
      "outputs": [
        {
          "output_type": "stream",
          "name": "stderr",
          "text": [
            "WARNING:absl:Found untraced functions such as _jit_compiled_convolution_op, _jit_compiled_convolution_op, _jit_compiled_convolution_op, _jit_compiled_convolution_op, _jit_compiled_convolution_op while saving (showing 5 of 81). These functions will not be directly callable after loading.\n"
          ]
        }
      ]
    },
    {
      "cell_type": "code",
      "source": [
        "# Load and evaluate saved model\n",
        "loaded_model = tf.keras.models.load_model(\"/content/drive/MyDrive/saved_models/transfer-learning/101_classes_fine_tuning_efficient_net\")"
      ],
      "metadata": {
        "id": "QLW8hySMnDb8"
      },
      "execution_count": null,
      "outputs": []
    },
    {
      "cell_type": "code",
      "source": [
        "loaded_model.evaluate(test_data)"
      ],
      "metadata": {
        "colab": {
          "base_uri": "https://localhost:8080/"
        },
        "id": "2ptRr-Hwtsum",
        "outputId": "40588d5a-f140-4fc2-f7ca-7b0abf88244d"
      },
      "execution_count": null,
      "outputs": [
        {
          "output_type": "stream",
          "name": "stdout",
          "text": [
            "790/790 [==============================] - 71s 78ms/step - loss: 1.5064 - accuracy: 0.6003\n"
          ]
        },
        {
          "output_type": "execute_result",
          "data": {
            "text/plain": [
              "[1.5063921213150024, 0.6002772450447083]"
            ]
          },
          "metadata": {},
          "execution_count": 18
        }
      ]
    },
    {
      "cell_type": "markdown",
      "source": [
        "## Evaluating the performance of the big dog model across all different classes\n",
        "\n",
        "Let's make some predictions, visualize them and find out which predictions were the \"most\" wrong"
      ],
      "metadata": {
        "id": "efUdv-3mtzFv"
      }
    },
    {
      "cell_type": "code",
      "source": [
        "import tensorflow as tf\n",
        "\n",
        "# Download pretrained model, that was prepared earlier, so all predictions are similar\n",
        "!wget https://storage.googleapis.com/ztm_tf_course/food_vision/06_101_food_class_10_percent_saved_big_dog_model.zip"
      ],
      "metadata": {
        "colab": {
          "base_uri": "https://localhost:8080/"
        },
        "id": "JkJWXKyJ7ok6",
        "outputId": "32169652-043e-494d-9835-32256ffc6d5f"
      },
      "execution_count": null,
      "outputs": [
        {
          "output_type": "stream",
          "name": "stdout",
          "text": [
            "--2023-04-03 18:45:53--  https://storage.googleapis.com/ztm_tf_course/food_vision/06_101_food_class_10_percent_saved_big_dog_model.zip\n",
            "Resolving storage.googleapis.com (storage.googleapis.com)... 108.177.119.128, 142.251.18.128, 142.250.153.128, ...\n",
            "Connecting to storage.googleapis.com (storage.googleapis.com)|108.177.119.128|:443... connected.\n",
            "HTTP request sent, awaiting response... 200 OK\n",
            "Length: 46760742 (45M) [application/zip]\n",
            "Saving to: ‘06_101_food_class_10_percent_saved_big_dog_model.zip’\n",
            "\n",
            "06_101_food_class_1 100%[===================>]  44.59M  22.9MB/s    in 1.9s    \n",
            "\n",
            "2023-04-03 18:45:56 (22.9 MB/s) - ‘06_101_food_class_10_percent_saved_big_dog_model.zip’ saved [46760742/46760742]\n",
            "\n"
          ]
        }
      ]
    },
    {
      "cell_type": "code",
      "source": [
        "# Unzip the data\n",
        "unzip_data(\"06_101_food_class_10_percent_saved_big_dog_model.zip\")"
      ],
      "metadata": {
        "id": "ml0obyf0739m"
      },
      "execution_count": null,
      "outputs": []
    },
    {
      "cell_type": "code",
      "source": [
        "# Load in saved model\n",
        "model = tf.keras.models.load_model(\"/content/06_101_food_class_10_percent_saved_big_dog_model\")"
      ],
      "metadata": {
        "colab": {
          "base_uri": "https://localhost:8080/"
        },
        "id": "33N8-ldp79Tf",
        "outputId": "005d7534-951d-4b5e-e187-904804bb6624"
      },
      "execution_count": null,
      "outputs": [
        {
          "output_type": "stream",
          "name": "stderr",
          "text": [
            "WARNING:tensorflow:SavedModel saved prior to TF 2.5 detected when loading Keras model. Please ensure that you are saving the model with model.save() or tf.keras.models.save_model(), *NOT* tf.saved_model.save(). To confirm, there should be a file named \"keras_metadata.pb\" in the SavedModel directory.\n",
            "WARNING:absl:Importing a function (__inference_block6c_expand_activation_layer_call_and_return_conditional_losses_419470) with ops with unsaved custom gradients. Will likely fail if a gradient is requested.\n",
            "WARNING:absl:Importing a function (__inference_efficientnetb0_layer_call_and_return_conditional_losses_446460) with ops with unsaved custom gradients. Will likely fail if a gradient is requested.\n",
            "WARNING:absl:Importing a function (__inference_block2a_activation_layer_call_and_return_conditional_losses_450449) with ops with unsaved custom gradients. Will likely fail if a gradient is requested.\n",
            "WARNING:absl:Importing a function (__inference_block2a_expand_activation_layer_call_and_return_conditional_losses_415747) with ops with unsaved custom gradients. Will likely fail if a gradient is requested.\n",
            "WARNING:absl:Importing a function (__inference_block2b_activation_layer_call_and_return_conditional_losses_416083) with ops with unsaved custom gradients. Will likely fail if a gradient is requested.\n",
            "WARNING:absl:Importing a function (__inference_block2b_activation_layer_call_and_return_conditional_losses_450775) with ops with unsaved custom gradients. Will likely fail if a gradient is requested.\n",
            "WARNING:absl:Importing a function (__inference_block4a_activation_layer_call_and_return_conditional_losses_451847) with ops with unsaved custom gradients. Will likely fail if a gradient is requested.\n",
            "WARNING:absl:Importing a function (__inference_block5a_expand_activation_layer_call_and_return_conditional_losses_417915) with ops with unsaved custom gradients. Will likely fail if a gradient is requested.\n",
            "WARNING:absl:Importing a function (__inference_block4a_se_reduce_layer_call_and_return_conditional_losses_451887) with ops with unsaved custom gradients. Will likely fail if a gradient is requested.\n",
            "WARNING:absl:Importing a function (__inference_block4c_expand_activation_layer_call_and_return_conditional_losses_452467) with ops with unsaved custom gradients. Will likely fail if a gradient is requested.\n",
            "WARNING:absl:Importing a function (__inference_functional_17_layer_call_and_return_conditional_losses_438312) with ops with unsaved custom gradients. Will likely fail if a gradient is requested.\n",
            "WARNING:absl:Importing a function (__inference_block4c_expand_activation_layer_call_and_return_conditional_losses_417583) with ops with unsaved custom gradients. Will likely fail if a gradient is requested.\n",
            "WARNING:absl:Importing a function (__inference_block5c_activation_layer_call_and_return_conditional_losses_418582) with ops with unsaved custom gradients. Will likely fail if a gradient is requested.\n",
            "WARNING:absl:Importing a function (__inference_block6a_se_reduce_layer_call_and_return_conditional_losses_454031) with ops with unsaved custom gradients. Will likely fail if a gradient is requested.\n",
            "WARNING:absl:Importing a function (__inference_block7a_activation_layer_call_and_return_conditional_losses_455436) with ops with unsaved custom gradients. Will likely fail if a gradient is requested.\n",
            "WARNING:absl:Importing a function (__inference_block1a_activation_layer_call_and_return_conditional_losses_415524) with ops with unsaved custom gradients. Will likely fail if a gradient is requested.\n",
            "WARNING:absl:Importing a function (__inference_block3b_activation_layer_call_and_return_conditional_losses_451474) with ops with unsaved custom gradients. Will likely fail if a gradient is requested.\n",
            "WARNING:absl:Importing a function (__inference_block4a_expand_activation_layer_call_and_return_conditional_losses_451768) with ops with unsaved custom gradients. Will likely fail if a gradient is requested.\n",
            "WARNING:absl:Importing a function (__inference_efficientnetb0_layer_call_and_return_conditional_losses_441729) with ops with unsaved custom gradients. Will likely fail if a gradient is requested.\n",
            "WARNING:absl:Importing a function (__inference_block6b_se_reduce_layer_call_and_return_conditional_losses_454357) with ops with unsaved custom gradients. Will likely fail if a gradient is requested.\n",
            "WARNING:absl:Importing a function (__inference_block3b_activation_layer_call_and_return_conditional_losses_416695) with ops with unsaved custom gradients. Will likely fail if a gradient is requested.\n",
            "WARNING:absl:Importing a function (__inference_block6b_expand_activation_layer_call_and_return_conditional_losses_454238) with ops with unsaved custom gradients. Will likely fail if a gradient is requested.\n",
            "WARNING:absl:Importing a function (__inference_functional_17_layer_call_and_return_conditional_losses_436681) with ops with unsaved custom gradients. Will likely fail if a gradient is requested.\n",
            "WARNING:absl:Importing a function (__inference_block2a_activation_layer_call_and_return_conditional_losses_415804) with ops with unsaved custom gradients. Will likely fail if a gradient is requested.\n",
            "WARNING:absl:Importing a function (__inference_block5a_activation_layer_call_and_return_conditional_losses_452919) with ops with unsaved custom gradients. Will likely fail if a gradient is requested.\n",
            "WARNING:absl:Importing a function (__inference_block5c_se_reduce_layer_call_and_return_conditional_losses_453658) with ops with unsaved custom gradients. Will likely fail if a gradient is requested.\n",
            "WARNING:absl:Importing a function (__inference_efficientnetb0_layer_call_and_return_conditional_losses_448082) with ops with unsaved custom gradients. Will likely fail if a gradient is requested.\n",
            "WARNING:absl:Importing a function (__inference_block6a_activation_layer_call_and_return_conditional_losses_418915) with ops with unsaved custom gradients. Will likely fail if a gradient is requested.\n",
            "WARNING:absl:Importing a function (__inference_block5c_expand_activation_layer_call_and_return_conditional_losses_453539) with ops with unsaved custom gradients. Will likely fail if a gradient is requested.\n",
            "WARNING:absl:Importing a function (__inference_block4c_se_reduce_layer_call_and_return_conditional_losses_452586) with ops with unsaved custom gradients. Will likely fail if a gradient is requested.\n",
            "WARNING:absl:Importing a function (__inference_block1a_se_reduce_layer_call_and_return_conditional_losses_450163) with ops with unsaved custom gradients. Will likely fail if a gradient is requested.\n",
            "WARNING:absl:Importing a function (__inference_block5a_se_reduce_layer_call_and_return_conditional_losses_418018) with ops with unsaved custom gradients. Will likely fail if a gradient is requested.\n",
            "WARNING:absl:Importing a function (__inference_block7a_expand_activation_layer_call_and_return_conditional_losses_455357) with ops with unsaved custom gradients. Will likely fail if a gradient is requested.\n",
            "WARNING:absl:Importing a function (__inference_block4c_activation_layer_call_and_return_conditional_losses_417639) with ops with unsaved custom gradients. Will likely fail if a gradient is requested.\n",
            "WARNING:absl:Importing a function (__inference_block3a_se_reduce_layer_call_and_return_conditional_losses_451188) with ops with unsaved custom gradients. Will likely fail if a gradient is requested.\n",
            "WARNING:absl:Importing a function (__inference_block7a_activation_layer_call_and_return_conditional_losses_420190) with ops with unsaved custom gradients. Will likely fail if a gradient is requested.\n",
            "WARNING:absl:Importing a function (__inference_stem_activation_layer_call_and_return_conditional_losses_415468) with ops with unsaved custom gradients. Will likely fail if a gradient is requested.\n",
            "WARNING:absl:Importing a function (__inference_block7a_se_reduce_layer_call_and_return_conditional_losses_455476) with ops with unsaved custom gradients. Will likely fail if a gradient is requested.\n",
            "WARNING:absl:Importing a function (__inference_block4b_se_reduce_layer_call_and_return_conditional_losses_417354) with ops with unsaved custom gradients. Will likely fail if a gradient is requested.\n",
            "WARNING:absl:Importing a function (__inference_block4b_se_reduce_layer_call_and_return_conditional_losses_452213) with ops with unsaved custom gradients. Will likely fail if a gradient is requested.\n",
            "WARNING:absl:Importing a function (__inference_block4b_activation_layer_call_and_return_conditional_losses_452173) with ops with unsaved custom gradients. Will likely fail if a gradient is requested.\n",
            "WARNING:absl:Importing a function (__inference_block1a_se_reduce_layer_call_and_return_conditional_losses_415571) with ops with unsaved custom gradients. Will likely fail if a gradient is requested.\n",
            "WARNING:absl:Importing a function (__inference_block3b_se_reduce_layer_call_and_return_conditional_losses_451514) with ops with unsaved custom gradients. Will likely fail if a gradient is requested.\n",
            "WARNING:absl:Importing a function (__inference_block5a_activation_layer_call_and_return_conditional_losses_417971) with ops with unsaved custom gradients. Will likely fail if a gradient is requested.\n",
            "WARNING:absl:Importing a function (__inference_block6c_se_reduce_layer_call_and_return_conditional_losses_454730) with ops with unsaved custom gradients. Will likely fail if a gradient is requested.\n",
            "WARNING:absl:Importing a function (__inference_block3b_se_reduce_layer_call_and_return_conditional_losses_416742) with ops with unsaved custom gradients. Will likely fail if a gradient is requested.\n",
            "WARNING:absl:Importing a function (__inference_block2a_se_reduce_layer_call_and_return_conditional_losses_450489) with ops with unsaved custom gradients. Will likely fail if a gradient is requested.\n",
            "WARNING:absl:Importing a function (__inference_block3a_activation_layer_call_and_return_conditional_losses_451148) with ops with unsaved custom gradients. Will likely fail if a gradient is requested.\n",
            "WARNING:absl:Importing a function (__inference_block5b_expand_activation_layer_call_and_return_conditional_losses_418194) with ops with unsaved custom gradients. Will likely fail if a gradient is requested.\n",
            "WARNING:absl:Importing a function (__inference_block3a_se_reduce_layer_call_and_return_conditional_losses_416463) with ops with unsaved custom gradients. Will likely fail if a gradient is requested.\n",
            "WARNING:absl:Importing a function (__inference_efficientnetb0_layer_call_and_return_conditional_losses_429711) with ops with unsaved custom gradients. Will likely fail if a gradient is requested.\n",
            "WARNING:absl:Importing a function (__inference_efficientnetb0_layer_call_and_return_conditional_losses_443351) with ops with unsaved custom gradients. Will likely fail if a gradient is requested.\n",
            "WARNING:absl:Importing a function (__inference_block5c_expand_activation_layer_call_and_return_conditional_losses_418526) with ops with unsaved custom gradients. Will likely fail if a gradient is requested.\n",
            "WARNING:absl:Importing a function (__inference_block5b_activation_layer_call_and_return_conditional_losses_453245) with ops with unsaved custom gradients. Will likely fail if a gradient is requested.\n",
            "WARNING:absl:Importing a function (__inference_block3a_activation_layer_call_and_return_conditional_losses_416416) with ops with unsaved custom gradients. Will likely fail if a gradient is requested.\n",
            "WARNING:absl:Importing a function (__inference_efficientnetb0_layer_call_and_return_conditional_losses_428089) with ops with unsaved custom gradients. Will likely fail if a gradient is requested.\n",
            "WARNING:absl:Importing a function (__inference_block2b_expand_activation_layer_call_and_return_conditional_losses_416027) with ops with unsaved custom gradients. Will likely fail if a gradient is requested.\n",
            "WARNING:absl:Importing a function (__inference_block6a_expand_activation_layer_call_and_return_conditional_losses_453912) with ops with unsaved custom gradients. Will likely fail if a gradient is requested.\n",
            "WARNING:absl:Importing a function (__inference_block4c_activation_layer_call_and_return_conditional_losses_452546) with ops with unsaved custom gradients. Will likely fail if a gradient is requested.\n",
            "WARNING:absl:Importing a function (__inference_block7a_se_reduce_layer_call_and_return_conditional_losses_420237) with ops with unsaved custom gradients. Will likely fail if a gradient is requested.\n",
            "WARNING:absl:Importing a function (__inference_block5c_se_reduce_layer_call_and_return_conditional_losses_418629) with ops with unsaved custom gradients. Will likely fail if a gradient is requested.\n",
            "WARNING:absl:Importing a function (__inference_block3a_expand_activation_layer_call_and_return_conditional_losses_416359) with ops with unsaved custom gradients. Will likely fail if a gradient is requested.\n",
            "WARNING:absl:Importing a function (__inference_block3b_expand_activation_layer_call_and_return_conditional_losses_451395) with ops with unsaved custom gradients. Will likely fail if a gradient is requested.\n",
            "WARNING:absl:Importing a function (__inference_block6c_activation_layer_call_and_return_conditional_losses_454690) with ops with unsaved custom gradients. Will likely fail if a gradient is requested.\n",
            "WARNING:absl:Importing a function (__inference_block6d_se_reduce_layer_call_and_return_conditional_losses_419905) with ops with unsaved custom gradients. Will likely fail if a gradient is requested.\n",
            "WARNING:absl:Importing a function (__inference_block6c_activation_layer_call_and_return_conditional_losses_419526) with ops with unsaved custom gradients. Will likely fail if a gradient is requested.\n",
            "WARNING:absl:Importing a function (__inference_block5b_se_reduce_layer_call_and_return_conditional_losses_418297) with ops with unsaved custom gradients. Will likely fail if a gradient is requested.\n",
            "WARNING:absl:Importing a function (__inference_block4b_expand_activation_layer_call_and_return_conditional_losses_452094) with ops with unsaved custom gradients. Will likely fail if a gradient is requested.\n",
            "WARNING:absl:Importing a function (__inference__wrapped_model_408990) with ops with unsaved custom gradients. Will likely fail if a gradient is requested.\n",
            "WARNING:absl:Importing a function (__inference_block5c_activation_layer_call_and_return_conditional_losses_453618) with ops with unsaved custom gradients. Will likely fail if a gradient is requested.\n",
            "WARNING:absl:Importing a function (__inference_block6d_expand_activation_layer_call_and_return_conditional_losses_454984) with ops with unsaved custom gradients. Will likely fail if a gradient is requested.\n",
            "WARNING:absl:Importing a function (__inference_block2b_expand_activation_layer_call_and_return_conditional_losses_450696) with ops with unsaved custom gradients. Will likely fail if a gradient is requested.\n",
            "WARNING:absl:Importing a function (__inference_block6a_expand_activation_layer_call_and_return_conditional_losses_418858) with ops with unsaved custom gradients. Will likely fail if a gradient is requested.\n",
            "WARNING:absl:Importing a function (__inference_stem_activation_layer_call_and_return_conditional_losses_450044) with ops with unsaved custom gradients. Will likely fail if a gradient is requested.\n",
            "WARNING:absl:Importing a function (__inference_block5b_activation_layer_call_and_return_conditional_losses_418250) with ops with unsaved custom gradients. Will likely fail if a gradient is requested.\n",
            "WARNING:absl:Importing a function (__inference_block6a_activation_layer_call_and_return_conditional_losses_453991) with ops with unsaved custom gradients. Will likely fail if a gradient is requested.\n",
            "WARNING:absl:Importing a function (__inference_block5b_se_reduce_layer_call_and_return_conditional_losses_453285) with ops with unsaved custom gradients. Will likely fail if a gradient is requested.\n",
            "WARNING:absl:Importing a function (__inference_block4a_expand_activation_layer_call_and_return_conditional_losses_416971) with ops with unsaved custom gradients. Will likely fail if a gradient is requested.\n",
            "WARNING:absl:Importing a function (__inference_top_activation_layer_call_and_return_conditional_losses_455683) with ops with unsaved custom gradients. Will likely fail if a gradient is requested.\n",
            "WARNING:absl:Importing a function (__inference_block2a_se_reduce_layer_call_and_return_conditional_losses_415851) with ops with unsaved custom gradients. Will likely fail if a gradient is requested.\n",
            "WARNING:absl:Importing a function (__inference_block5b_expand_activation_layer_call_and_return_conditional_losses_453166) with ops with unsaved custom gradients. Will likely fail if a gradient is requested.\n",
            "WARNING:absl:Importing a function (__inference_top_activation_layer_call_and_return_conditional_losses_420413) with ops with unsaved custom gradients. Will likely fail if a gradient is requested.\n",
            "WARNING:absl:Importing a function (__inference_block1a_activation_layer_call_and_return_conditional_losses_450123) with ops with unsaved custom gradients. Will likely fail if a gradient is requested.\n",
            "WARNING:absl:Importing a function (__inference_block4a_se_reduce_layer_call_and_return_conditional_losses_417075) with ops with unsaved custom gradients. Will likely fail if a gradient is requested.\n",
            "WARNING:absl:Importing a function (__inference_block5a_expand_activation_layer_call_and_return_conditional_losses_452840) with ops with unsaved custom gradients. Will likely fail if a gradient is requested.\n",
            "WARNING:absl:Importing a function (__inference_block4b_activation_layer_call_and_return_conditional_losses_417307) with ops with unsaved custom gradients. Will likely fail if a gradient is requested.\n",
            "WARNING:absl:Importing a function (__inference_block6d_activation_layer_call_and_return_conditional_losses_455063) with ops with unsaved custom gradients. Will likely fail if a gradient is requested.\n",
            "WARNING:absl:Importing a function (__inference_block6d_expand_activation_layer_call_and_return_conditional_losses_419802) with ops with unsaved custom gradients. Will likely fail if a gradient is requested.\n",
            "WARNING:absl:Importing a function (__inference_block6d_activation_layer_call_and_return_conditional_losses_419858) with ops with unsaved custom gradients. Will likely fail if a gradient is requested.\n",
            "WARNING:absl:Importing a function (__inference_block5a_se_reduce_layer_call_and_return_conditional_losses_452959) with ops with unsaved custom gradients. Will likely fail if a gradient is requested.\n",
            "WARNING:absl:Importing a function (__inference_block3a_expand_activation_layer_call_and_return_conditional_losses_451069) with ops with unsaved custom gradients. Will likely fail if a gradient is requested.\n",
            "WARNING:absl:Importing a function (__inference_block2a_expand_activation_layer_call_and_return_conditional_losses_450370) with ops with unsaved custom gradients. Will likely fail if a gradient is requested.\n",
            "WARNING:absl:Importing a function (__inference_block6b_expand_activation_layer_call_and_return_conditional_losses_419138) with ops with unsaved custom gradients. Will likely fail if a gradient is requested.\n",
            "WARNING:absl:Importing a function (__inference_block6b_activation_layer_call_and_return_conditional_losses_419194) with ops with unsaved custom gradients. Will likely fail if a gradient is requested.\n",
            "WARNING:absl:Importing a function (__inference_block6c_se_reduce_layer_call_and_return_conditional_losses_419573) with ops with unsaved custom gradients. Will likely fail if a gradient is requested.\n",
            "WARNING:absl:Importing a function (__inference_block7a_expand_activation_layer_call_and_return_conditional_losses_420134) with ops with unsaved custom gradients. Will likely fail if a gradient is requested.\n",
            "WARNING:absl:Importing a function (__inference_block4a_activation_layer_call_and_return_conditional_losses_417028) with ops with unsaved custom gradients. Will likely fail if a gradient is requested.\n",
            "WARNING:absl:Importing a function (__inference_block6c_expand_activation_layer_call_and_return_conditional_losses_454611) with ops with unsaved custom gradients. Will likely fail if a gradient is requested.\n",
            "WARNING:absl:Importing a function (__inference_block3b_expand_activation_layer_call_and_return_conditional_losses_416639) with ops with unsaved custom gradients. Will likely fail if a gradient is requested.\n",
            "WARNING:absl:Importing a function (__inference_block4c_se_reduce_layer_call_and_return_conditional_losses_417686) with ops with unsaved custom gradients. Will likely fail if a gradient is requested.\n",
            "WARNING:absl:Importing a function (__inference_block4b_expand_activation_layer_call_and_return_conditional_losses_417251) with ops with unsaved custom gradients. Will likely fail if a gradient is requested.\n",
            "WARNING:absl:Importing a function (__inference_block6d_se_reduce_layer_call_and_return_conditional_losses_455103) with ops with unsaved custom gradients. Will likely fail if a gradient is requested.\n",
            "WARNING:absl:Importing a function (__inference_block2b_se_reduce_layer_call_and_return_conditional_losses_450815) with ops with unsaved custom gradients. Will likely fail if a gradient is requested.\n",
            "WARNING:absl:Importing a function (__inference_block2b_se_reduce_layer_call_and_return_conditional_losses_416130) with ops with unsaved custom gradients. Will likely fail if a gradient is requested.\n",
            "WARNING:absl:Importing a function (__inference_block6b_activation_layer_call_and_return_conditional_losses_454317) with ops with unsaved custom gradients. Will likely fail if a gradient is requested.\n",
            "WARNING:absl:Importing a function (__inference_block6a_se_reduce_layer_call_and_return_conditional_losses_418962) with ops with unsaved custom gradients. Will likely fail if a gradient is requested.\n",
            "WARNING:absl:Importing a function (__inference_block6b_se_reduce_layer_call_and_return_conditional_losses_419241) with ops with unsaved custom gradients. Will likely fail if a gradient is requested.\n"
          ]
        }
      ]
    },
    {
      "cell_type": "code",
      "source": [
        "# Evaluate loaded model (the one we just downloaded on test data)\n",
        "results_downloaded_model = model.evaluate(test_data)\n",
        "results_downloaded_model"
      ],
      "metadata": {
        "colab": {
          "base_uri": "https://localhost:8080/"
        },
        "id": "OE0Tetr08R97",
        "outputId": "12f4872f-dfb7-4b34-a3a7-e816f7e09d52"
      },
      "execution_count": null,
      "outputs": [
        {
          "output_type": "stream",
          "name": "stdout",
          "text": [
            "790/790 [==============================] - 61s 74ms/step - loss: 1.8027 - accuracy: 0.6078\n"
          ]
        },
        {
          "output_type": "execute_result",
          "data": {
            "text/plain": [
              "[1.8027206659317017, 0.6077623963356018]"
            ]
          },
          "metadata": {},
          "execution_count": 22
        }
      ]
    },
    {
      "cell_type": "markdown",
      "source": [
        "## Making predictions with our trained model"
      ],
      "metadata": {
        "id": "cazM_6tg8hfG"
      }
    },
    {
      "cell_type": "code",
      "source": [
        "# Make predictions with model\n",
        "preds_probs = model.predict(test_data, verbose=1)"
      ],
      "metadata": {
        "colab": {
          "base_uri": "https://localhost:8080/"
        },
        "id": "XdpUnixS86Z1",
        "outputId": "a8585217-f21e-4e27-f6b4-c693dfe22199"
      },
      "execution_count": null,
      "outputs": [
        {
          "output_type": "stream",
          "name": "stdout",
          "text": [
            "790/790 [==============================] - 63s 78ms/step\n"
          ]
        }
      ]
    },
    {
      "cell_type": "code",
      "source": [
        "# How many predicions are there\n",
        "len(preds_probs)"
      ],
      "metadata": {
        "colab": {
          "base_uri": "https://localhost:8080/"
        },
        "id": "NL_pWQk79PjD",
        "outputId": "c6563c0e-0671-4f4f-bfff-bbf6d4490c30"
      },
      "execution_count": null,
      "outputs": [
        {
          "output_type": "execute_result",
          "data": {
            "text/plain": [
              "25250"
            ]
          },
          "metadata": {},
          "execution_count": 24
        }
      ]
    },
    {
      "cell_type": "code",
      "source": [
        "# What's the shape of our predictions\n",
        "preds_probs.shape"
      ],
      "metadata": {
        "colab": {
          "base_uri": "https://localhost:8080/"
        },
        "id": "ZAjixE3x9nd6",
        "outputId": "91a0855f-6198-4857-f027-f64c55a8add8"
      },
      "execution_count": null,
      "outputs": [
        {
          "output_type": "execute_result",
          "data": {
            "text/plain": [
              "(25250, 101)"
            ]
          },
          "metadata": {},
          "execution_count": 25
        }
      ]
    },
    {
      "cell_type": "code",
      "source": [
        "# Let's see what the first 10 predictions look like\n",
        "preds_probs[:10]"
      ],
      "metadata": {
        "colab": {
          "base_uri": "https://localhost:8080/"
        },
        "id": "lzwALtx39yVh",
        "outputId": "8b4e87c7-2fd6-4d40-fac1-43f077f0cac5"
      },
      "execution_count": null,
      "outputs": [
        {
          "output_type": "execute_result",
          "data": {
            "text/plain": [
              "array([[5.9542079e-02, 3.5742114e-06, 4.1377071e-02, ..., 1.4138705e-09,\n",
              "        8.3530424e-05, 3.0897493e-03],\n",
              "       [9.6401680e-01, 1.3753272e-09, 8.4780494e-04, ..., 5.4286946e-05,\n",
              "        7.8362065e-12, 9.8466024e-10],\n",
              "       [9.5925868e-01, 3.2533771e-05, 1.4867012e-03, ..., 7.1891407e-07,\n",
              "        5.4397475e-07, 4.0276118e-05],\n",
              "       ...,\n",
              "       [4.7313249e-01, 1.2931206e-07, 1.4805582e-03, ..., 5.9750117e-04,\n",
              "        6.6969209e-05, 2.3469403e-05],\n",
              "       [4.4571843e-02, 4.7265397e-07, 1.2258503e-01, ..., 6.3498451e-06,\n",
              "        7.5318876e-06, 3.6778769e-03],\n",
              "       [7.2438902e-01, 1.9249717e-09, 5.2310897e-05, ..., 1.2291410e-03,\n",
              "        1.5792732e-09, 9.6395481e-05]], dtype=float32)"
            ]
          },
          "metadata": {},
          "execution_count": 26
        }
      ]
    },
    {
      "cell_type": "code",
      "source": [
        "# First prediction\n",
        "preds_probs[0]"
      ],
      "metadata": {
        "colab": {
          "base_uri": "https://localhost:8080/"
        },
        "id": "57DumeT197sF",
        "outputId": "da5595ca-3f30-4f7c-9084-f90b20ebfcee"
      },
      "execution_count": null,
      "outputs": [
        {
          "output_type": "execute_result",
          "data": {
            "text/plain": [
              "array([5.9542079e-02, 3.5742114e-06, 4.1377071e-02, 1.0660534e-09,\n",
              "       8.1614422e-09, 8.6639478e-09, 8.0927344e-07, 8.5652732e-07,\n",
              "       1.9859108e-05, 8.0977674e-07, 3.1727800e-09, 9.8673911e-07,\n",
              "       2.8532281e-04, 7.8048890e-10, 7.4230117e-04, 3.8916227e-05,\n",
              "       6.4740480e-06, 2.4977348e-06, 3.7891161e-05, 2.0678284e-07,\n",
              "       1.5538406e-05, 8.1507324e-07, 2.6230616e-06, 2.0010684e-07,\n",
              "       8.3827518e-07, 5.4215925e-06, 3.7390960e-06, 1.3150530e-08,\n",
              "       2.7761441e-03, 2.8051916e-05, 6.8562017e-10, 2.5574853e-05,\n",
              "       1.6688927e-04, 7.6406986e-10, 4.0452811e-04, 1.3150683e-08,\n",
              "       1.7957391e-06, 1.4448174e-06, 2.3062844e-02, 8.2466693e-07,\n",
              "       8.5365679e-07, 1.7138593e-06, 7.0525425e-06, 1.8402130e-08,\n",
              "       2.8553373e-07, 7.9483443e-06, 2.0681530e-06, 1.8525149e-07,\n",
              "       3.3619703e-08, 3.1522504e-04, 1.0410941e-05, 8.5448431e-07,\n",
              "       8.4741855e-01, 1.0555424e-05, 4.4094787e-07, 3.7404032e-05,\n",
              "       3.5306188e-05, 3.2488941e-05, 6.7314730e-05, 1.2852589e-08,\n",
              "       2.6219654e-10, 1.0318089e-05, 8.5743537e-05, 1.0569885e-06,\n",
              "       2.1293431e-06, 3.7637546e-05, 7.5972999e-08, 2.5340484e-04,\n",
              "       9.2905839e-07, 1.2598184e-04, 6.2621652e-06, 1.2458726e-08,\n",
              "       4.0519761e-05, 6.8728362e-08, 1.2546279e-06, 5.2887579e-08,\n",
              "       7.5424772e-08, 7.5398566e-05, 7.7540280e-05, 6.4026000e-07,\n",
              "       9.9033286e-07, 2.2225964e-05, 1.5013904e-05, 1.4038487e-07,\n",
              "       1.2232555e-05, 1.9044720e-02, 4.9999551e-05, 4.6226301e-06,\n",
              "       1.5388237e-07, 3.3824190e-07, 3.9228327e-09, 1.6563671e-07,\n",
              "       8.1320599e-05, 4.8965248e-06, 2.4068254e-07, 2.3124088e-05,\n",
              "       3.1040542e-04, 3.1379997e-05, 1.4138705e-09, 8.3530424e-05,\n",
              "       3.0897493e-03], dtype=float32)"
            ]
          },
          "metadata": {},
          "execution_count": 27
        }
      ]
    },
    {
      "cell_type": "markdown",
      "source": [
        "Our model outputs a prediction probability array (with N number of variables, where N is the number of classes) for each sample passed in to the predict method."
      ],
      "metadata": {
        "id": "pWWxGzdH-B-V"
      }
    },
    {
      "cell_type": "code",
      "source": [
        "# We get one prediction probability per class (in our case there's 101 prediction probabilities)\n",
        "print(f\"Number of prediction probabilities for sample 0: {len(preds_probs[0])}\")\n",
        "print(f\"What prediction probabilitt sample 0 looks like:\\n{preds_probs[0]}\\n\")\n",
        "print(f\"Class with the highest predicted probability by the model for sample 0: {tf.argmax(preds_probs[0])}\")"
      ],
      "metadata": {
        "colab": {
          "base_uri": "https://localhost:8080/"
        },
        "id": "n88-F0ZI-avG",
        "outputId": "26fc9511-2742-4882-f987-b324b2edba19"
      },
      "execution_count": null,
      "outputs": [
        {
          "output_type": "stream",
          "name": "stdout",
          "text": [
            "Number of prediction probabilities for sample 0: 101\n",
            "What prediction probabilitt sample 0 looks like:\n",
            "[5.9542079e-02 3.5742114e-06 4.1377071e-02 1.0660534e-09 8.1614422e-09\n",
            " 8.6639478e-09 8.0927344e-07 8.5652732e-07 1.9859108e-05 8.0977674e-07\n",
            " 3.1727800e-09 9.8673911e-07 2.8532281e-04 7.8048890e-10 7.4230117e-04\n",
            " 3.8916227e-05 6.4740480e-06 2.4977348e-06 3.7891161e-05 2.0678284e-07\n",
            " 1.5538406e-05 8.1507324e-07 2.6230616e-06 2.0010684e-07 8.3827518e-07\n",
            " 5.4215925e-06 3.7390960e-06 1.3150530e-08 2.7761441e-03 2.8051916e-05\n",
            " 6.8562017e-10 2.5574853e-05 1.6688927e-04 7.6406986e-10 4.0452811e-04\n",
            " 1.3150683e-08 1.7957391e-06 1.4448174e-06 2.3062844e-02 8.2466693e-07\n",
            " 8.5365679e-07 1.7138593e-06 7.0525425e-06 1.8402130e-08 2.8553373e-07\n",
            " 7.9483443e-06 2.0681530e-06 1.8525149e-07 3.3619703e-08 3.1522504e-04\n",
            " 1.0410941e-05 8.5448431e-07 8.4741855e-01 1.0555424e-05 4.4094787e-07\n",
            " 3.7404032e-05 3.5306188e-05 3.2488941e-05 6.7314730e-05 1.2852589e-08\n",
            " 2.6219654e-10 1.0318089e-05 8.5743537e-05 1.0569885e-06 2.1293431e-06\n",
            " 3.7637546e-05 7.5972999e-08 2.5340484e-04 9.2905839e-07 1.2598184e-04\n",
            " 6.2621652e-06 1.2458726e-08 4.0519761e-05 6.8728362e-08 1.2546279e-06\n",
            " 5.2887579e-08 7.5424772e-08 7.5398566e-05 7.7540280e-05 6.4026000e-07\n",
            " 9.9033286e-07 2.2225964e-05 1.5013904e-05 1.4038487e-07 1.2232555e-05\n",
            " 1.9044720e-02 4.9999551e-05 4.6226301e-06 1.5388237e-07 3.3824190e-07\n",
            " 3.9228327e-09 1.6563671e-07 8.1320599e-05 4.8965248e-06 2.4068254e-07\n",
            " 2.3124088e-05 3.1040542e-04 3.1379997e-05 1.4138705e-09 8.3530424e-05\n",
            " 3.0897493e-03]\n",
            "\n",
            "Class with the highest predicted probability by the model for sample 0: 52\n"
          ]
        }
      ]
    },
    {
      "cell_type": "code",
      "source": [
        "test_data.class_names[52]"
      ],
      "metadata": {
        "colab": {
          "base_uri": "https://localhost:8080/",
          "height": 35
        },
        "id": "ceGEsHEM-0-N",
        "outputId": "5e930022-35b5-4e21-f505-63b8ae65348d"
      },
      "execution_count": null,
      "outputs": [
        {
          "output_type": "execute_result",
          "data": {
            "text/plain": [
              "'gyoza'"
            ],
            "application/vnd.google.colaboratory.intrinsic+json": {
              "type": "string"
            }
          },
          "metadata": {},
          "execution_count": 29
        }
      ]
    },
    {
      "cell_type": "code",
      "source": [
        "# Get the pred classes of each label\n",
        "pred_classes = preds_probs.argmax(axis=1)\n",
        "pred_classes[:10]"
      ],
      "metadata": {
        "colab": {
          "base_uri": "https://localhost:8080/"
        },
        "id": "Fv8nFing-6gn",
        "outputId": "e0edd942-d033-4b74-8b04-d4af45f1a161"
      },
      "execution_count": null,
      "outputs": [
        {
          "output_type": "execute_result",
          "data": {
            "text/plain": [
              "array([52,  0,  0, 80, 79, 61, 29,  0, 85,  0])"
            ]
          },
          "metadata": {},
          "execution_count": 30
        }
      ]
    },
    {
      "cell_type": "markdown",
      "source": [
        "Now we've got a predictions array of all of our model's predictions. In order to evaluate them, we need to compare them to the original test dataset labels."
      ],
      "metadata": {
        "id": "Ea2_i3V__Gtb"
      }
    },
    {
      "cell_type": "code",
      "source": [
        "# To get our test labels we need to unravel our test_data BatchDataset\n",
        "y_labels = []\n",
        "for images, labels in test_data.unbatch():\n",
        "  y_labels.append(labels.numpy().argmax())\n",
        "\n",
        "y_labels[:10]"
      ],
      "metadata": {
        "colab": {
          "base_uri": "https://localhost:8080/"
        },
        "id": "8XjYN2Zb_uma",
        "outputId": "3e0921cd-7388-450d-a45a-5f2c30f70edd"
      },
      "execution_count": null,
      "outputs": [
        {
          "output_type": "execute_result",
          "data": {
            "text/plain": [
              "[0, 0, 0, 0, 0, 0, 0, 0, 0, 0]"
            ]
          },
          "metadata": {},
          "execution_count": 31
        }
      ]
    },
    {
      "cell_type": "markdown",
      "source": [
        "## Evaluating our model's predictions\n",
        "\n",
        "One way to check that our model's predictions array is in the same order as our test labels array is to find the accuracy score"
      ],
      "metadata": {
        "id": "m4EwX6vOAHa3"
      }
    },
    {
      "cell_type": "code",
      "source": [
        "results_downloaded_model"
      ],
      "metadata": {
        "colab": {
          "base_uri": "https://localhost:8080/"
        },
        "id": "ySBWVVCKA2q2",
        "outputId": "c4f2464b-6cd3-4833-e0e3-45f4cec9becd"
      },
      "execution_count": null,
      "outputs": [
        {
          "output_type": "execute_result",
          "data": {
            "text/plain": [
              "[1.8027206659317017, 0.6077623963356018]"
            ]
          },
          "metadata": {},
          "execution_count": 32
        }
      ]
    },
    {
      "cell_type": "code",
      "source": [
        "# Let's try scikit-learn's accuracy score function and see what it comes up with\n",
        "from sklearn.metrics import accuracy_score\n",
        "sklearn_accuracy = accuracy_score(y_true=y_labels,\n",
        "                                  y_pred=pred_classes)"
      ],
      "metadata": {
        "id": "FPZLonvtA4wS"
      },
      "execution_count": null,
      "outputs": []
    },
    {
      "cell_type": "code",
      "source": [
        "sklearn_accuracy"
      ],
      "metadata": {
        "colab": {
          "base_uri": "https://localhost:8080/"
        },
        "id": "yn1rTThkBWpy",
        "outputId": "2a8a7e4b-8697-4cf2-f134-ed87946290c5"
      },
      "execution_count": null,
      "outputs": [
        {
          "output_type": "execute_result",
          "data": {
            "text/plain": [
              "0.6077623762376237"
            ]
          },
          "metadata": {},
          "execution_count": 34
        }
      ]
    },
    {
      "cell_type": "code",
      "source": [
        "# Does this metric come close to our model's evaluate results\n",
        "import numpy as np\n",
        "np.isclose(results_downloaded_model[1], sklearn_accuracy)"
      ],
      "metadata": {
        "colab": {
          "base_uri": "https://localhost:8080/"
        },
        "id": "1emwRe7-BYlY",
        "outputId": "12793d3e-83eb-4154-b371-431ec24488d0"
      },
      "execution_count": null,
      "outputs": [
        {
          "output_type": "execute_result",
          "data": {
            "text/plain": [
              "True"
            ]
          },
          "metadata": {},
          "execution_count": 35
        }
      ]
    },
    {
      "cell_type": "markdown",
      "source": [
        "## Let's get visual: making a confusion matrix"
      ],
      "metadata": {
        "id": "ruVAzNdIBkDr"
      }
    },
    {
      "cell_type": "code",
      "source": [
        "from helper_functions import make_confusion_matrix"
      ],
      "metadata": {
        "id": "vTgZPWhPBzlr"
      },
      "execution_count": null,
      "outputs": []
    },
    {
      "cell_type": "code",
      "source": [
        "make_confusion_matrix(y_true=y_labels,\n",
        "                      y_pred=pred_classes,\n",
        "                      classes=test_data.class_names,\n",
        "                      figsize=(100, 100),\n",
        "                      text_size=16)"
      ],
      "metadata": {
        "id": "_IkhNGzhBwK3"
      },
      "execution_count": null,
      "outputs": []
    },
    {
      "cell_type": "markdown",
      "source": [
        "## Let's keep the evaluation train going, time for a classification report\n",
        "\n",
        "Scikit-learn has a helpful function for acquiring many different classification metrics per class (e.g. precision, recall and F1) called classification_report, let's try it out. "
      ],
      "metadata": {
        "id": "QlxH76B6CBxf"
      }
    },
    {
      "cell_type": "code",
      "source": [
        "from sklearn.metrics import classification_report\n",
        "print(classification_report(y_true=y_labels,\n",
        "                            y_pred=pred_classes))"
      ],
      "metadata": {
        "colab": {
          "base_uri": "https://localhost:8080/"
        },
        "id": "QrsssAfMEq5P",
        "outputId": "6a77fa9e-d41b-44b9-b71b-659da8226ee3"
      },
      "execution_count": null,
      "outputs": [
        {
          "output_type": "stream",
          "name": "stdout",
          "text": [
            "              precision    recall  f1-score   support\n",
            "\n",
            "           0       0.29      0.20      0.24       250\n",
            "           1       0.51      0.69      0.59       250\n",
            "           2       0.56      0.65      0.60       250\n",
            "           3       0.74      0.53      0.62       250\n",
            "           4       0.73      0.43      0.54       250\n",
            "           5       0.34      0.54      0.42       250\n",
            "           6       0.67      0.79      0.72       250\n",
            "           7       0.82      0.76      0.79       250\n",
            "           8       0.40      0.37      0.39       250\n",
            "           9       0.62      0.44      0.51       250\n",
            "          10       0.62      0.42      0.50       250\n",
            "          11       0.84      0.49      0.62       250\n",
            "          12       0.52      0.74      0.61       250\n",
            "          13       0.56      0.60      0.58       250\n",
            "          14       0.56      0.59      0.57       250\n",
            "          15       0.44      0.32      0.37       250\n",
            "          16       0.45      0.75      0.57       250\n",
            "          17       0.37      0.51      0.43       250\n",
            "          18       0.43      0.60      0.50       250\n",
            "          19       0.68      0.60      0.64       250\n",
            "          20       0.68      0.75      0.71       250\n",
            "          21       0.35      0.64      0.45       250\n",
            "          22       0.30      0.37      0.33       250\n",
            "          23       0.66      0.77      0.71       250\n",
            "          24       0.83      0.72      0.77       250\n",
            "          25       0.76      0.71      0.73       250\n",
            "          26       0.51      0.42      0.46       250\n",
            "          27       0.78      0.72      0.75       250\n",
            "          28       0.70      0.69      0.69       250\n",
            "          29       0.70      0.68      0.69       250\n",
            "          30       0.92      0.63      0.75       250\n",
            "          31       0.78      0.70      0.74       250\n",
            "          32       0.75      0.83      0.79       250\n",
            "          33       0.89      0.98      0.94       250\n",
            "          34       0.68      0.78      0.72       250\n",
            "          35       0.78      0.66      0.72       250\n",
            "          36       0.53      0.56      0.55       250\n",
            "          37       0.30      0.55      0.39       250\n",
            "          38       0.78      0.63      0.69       250\n",
            "          39       0.27      0.33      0.30       250\n",
            "          40       0.72      0.81      0.76       250\n",
            "          41       0.81      0.62      0.70       250\n",
            "          42       0.50      0.58      0.54       250\n",
            "          43       0.75      0.60      0.67       250\n",
            "          44       0.74      0.45      0.56       250\n",
            "          45       0.77      0.85      0.81       250\n",
            "          46       0.81      0.46      0.58       250\n",
            "          47       0.44      0.49      0.46       250\n",
            "          48       0.45      0.81      0.58       250\n",
            "          49       0.50      0.44      0.47       250\n",
            "          50       0.54      0.39      0.46       250\n",
            "          51       0.71      0.86      0.78       250\n",
            "          52       0.51      0.77      0.61       250\n",
            "          53       0.67      0.68      0.68       250\n",
            "          54       0.88      0.75      0.81       250\n",
            "          55       0.86      0.69      0.76       250\n",
            "          56       0.56      0.24      0.34       250\n",
            "          57       0.62      0.45      0.52       250\n",
            "          58       0.68      0.58      0.62       250\n",
            "          59       0.70      0.37      0.49       250\n",
            "          60       0.83      0.59      0.69       250\n",
            "          61       0.54      0.81      0.65       250\n",
            "          62       0.72      0.49      0.58       250\n",
            "          63       0.94      0.86      0.90       250\n",
            "          64       0.78      0.85      0.81       250\n",
            "          65       0.82      0.82      0.82       250\n",
            "          66       0.69      0.32      0.44       250\n",
            "          67       0.41      0.58      0.48       250\n",
            "          68       0.90      0.78      0.83       250\n",
            "          69       0.84      0.82      0.83       250\n",
            "          70       0.62      0.83      0.71       250\n",
            "          71       0.81      0.46      0.59       250\n",
            "          72       0.64      0.65      0.65       250\n",
            "          73       0.51      0.44      0.47       250\n",
            "          74       0.72      0.61      0.66       250\n",
            "          75       0.84      0.90      0.87       250\n",
            "          76       0.78      0.78      0.78       250\n",
            "          77       0.36      0.27      0.31       250\n",
            "          78       0.79      0.74      0.76       250\n",
            "          79       0.44      0.81      0.57       250\n",
            "          80       0.57      0.60      0.59       250\n",
            "          81       0.65      0.70      0.68       250\n",
            "          82       0.38      0.31      0.34       250\n",
            "          83       0.58      0.80      0.67       250\n",
            "          84       0.61      0.38      0.47       250\n",
            "          85       0.44      0.74      0.55       250\n",
            "          86       0.71      0.86      0.78       250\n",
            "          87       0.41      0.39      0.40       250\n",
            "          88       0.83      0.80      0.81       250\n",
            "          89       0.71      0.31      0.43       250\n",
            "          90       0.92      0.69      0.79       250\n",
            "          91       0.83      0.87      0.85       250\n",
            "          92       0.68      0.65      0.67       250\n",
            "          93       0.31      0.38      0.34       250\n",
            "          94       0.61      0.54      0.57       250\n",
            "          95       0.74      0.61      0.67       250\n",
            "          96       0.56      0.29      0.38       250\n",
            "          97       0.45      0.74      0.56       250\n",
            "          98       0.47      0.33      0.39       250\n",
            "          99       0.52      0.27      0.35       250\n",
            "         100       0.59      0.70      0.64       250\n",
            "\n",
            "    accuracy                           0.61     25250\n",
            "   macro avg       0.63      0.61      0.61     25250\n",
            "weighted avg       0.63      0.61      0.61     25250\n",
            "\n"
          ]
        }
      ]
    },
    {
      "cell_type": "markdown",
      "source": [
        "The numbers above give a great class-by-class evaluation of our model's predictions but with so many classes, they're quite hard to understand"
      ],
      "metadata": {
        "id": "e4op1SvxFaLO"
      }
    },
    {
      "cell_type": "code",
      "source": [
        "# Get a dictionary of the classification report\n",
        "classification_report_dict = classification_report(y_labels, pred_classes, output_dict=True)\n",
        "classification_report_dict"
      ],
      "metadata": {
        "colab": {
          "base_uri": "https://localhost:8080/"
        },
        "id": "SWdlJDDpE6uQ",
        "outputId": "73c01292-1186-4699-e2a1-ca8bcaa54a02"
      },
      "execution_count": null,
      "outputs": [
        {
          "output_type": "execute_result",
          "data": {
            "text/plain": [
              "{'0': {'precision': 0.29310344827586204,\n",
              "  'recall': 0.204,\n",
              "  'f1-score': 0.24056603773584903,\n",
              "  'support': 250},\n",
              " '1': {'precision': 0.5088235294117647,\n",
              "  'recall': 0.692,\n",
              "  'f1-score': 0.5864406779661017,\n",
              "  'support': 250},\n",
              " '2': {'precision': 0.5625,\n",
              "  'recall': 0.648,\n",
              "  'f1-score': 0.6022304832713754,\n",
              "  'support': 250},\n",
              " '3': {'precision': 0.7415730337078652,\n",
              "  'recall': 0.528,\n",
              "  'f1-score': 0.616822429906542,\n",
              "  'support': 250},\n",
              " '4': {'precision': 0.7346938775510204,\n",
              "  'recall': 0.432,\n",
              "  'f1-score': 0.544080604534005,\n",
              "  'support': 250},\n",
              " '5': {'precision': 0.34177215189873417,\n",
              "  'recall': 0.54,\n",
              "  'f1-score': 0.41860465116279066,\n",
              "  'support': 250},\n",
              " '6': {'precision': 0.6677966101694915,\n",
              "  'recall': 0.788,\n",
              "  'f1-score': 0.7229357798165138,\n",
              "  'support': 250},\n",
              " '7': {'precision': 0.8197424892703863,\n",
              "  'recall': 0.764,\n",
              "  'f1-score': 0.7908902691511386,\n",
              "  'support': 250},\n",
              " '8': {'precision': 0.4025974025974026,\n",
              "  'recall': 0.372,\n",
              "  'f1-score': 0.3866943866943867,\n",
              "  'support': 250},\n",
              " '9': {'precision': 0.6193181818181818,\n",
              "  'recall': 0.436,\n",
              "  'f1-score': 0.5117370892018779,\n",
              "  'support': 250},\n",
              " '10': {'precision': 0.6235294117647059,\n",
              "  'recall': 0.424,\n",
              "  'f1-score': 0.5047619047619047,\n",
              "  'support': 250},\n",
              " '11': {'precision': 0.8356164383561644,\n",
              "  'recall': 0.488,\n",
              "  'f1-score': 0.6161616161616161,\n",
              "  'support': 250},\n",
              " '12': {'precision': 0.5196629213483146,\n",
              "  'recall': 0.74,\n",
              "  'f1-score': 0.6105610561056106,\n",
              "  'support': 250},\n",
              " '13': {'precision': 0.5601503759398496,\n",
              "  'recall': 0.596,\n",
              "  'f1-score': 0.5775193798449612,\n",
              "  'support': 250},\n",
              " '14': {'precision': 0.5584905660377358,\n",
              "  'recall': 0.592,\n",
              "  'f1-score': 0.574757281553398,\n",
              "  'support': 250},\n",
              " '15': {'precision': 0.4388888888888889,\n",
              "  'recall': 0.316,\n",
              "  'f1-score': 0.36744186046511623,\n",
              "  'support': 250},\n",
              " '16': {'precision': 0.4530120481927711,\n",
              "  'recall': 0.752,\n",
              "  'f1-score': 0.5654135338345864,\n",
              "  'support': 250},\n",
              " '17': {'precision': 0.3659942363112392,\n",
              "  'recall': 0.508,\n",
              "  'f1-score': 0.42546063651591287,\n",
              "  'support': 250},\n",
              " '18': {'precision': 0.4318840579710145,\n",
              "  'recall': 0.596,\n",
              "  'f1-score': 0.5008403361344538,\n",
              "  'support': 250},\n",
              " '19': {'precision': 0.6832579185520362,\n",
              "  'recall': 0.604,\n",
              "  'f1-score': 0.6411889596602972,\n",
              "  'support': 250},\n",
              " '20': {'precision': 0.68,\n",
              "  'recall': 0.748,\n",
              "  'f1-score': 0.7123809523809523,\n",
              "  'support': 250},\n",
              " '21': {'precision': 0.350109409190372,\n",
              "  'recall': 0.64,\n",
              "  'f1-score': 0.45261669024045265,\n",
              "  'support': 250},\n",
              " '22': {'precision': 0.2977346278317152,\n",
              "  'recall': 0.368,\n",
              "  'f1-score': 0.3291592128801431,\n",
              "  'support': 250},\n",
              " '23': {'precision': 0.6632302405498282,\n",
              "  'recall': 0.772,\n",
              "  'f1-score': 0.7134935304990757,\n",
              "  'support': 250},\n",
              " '24': {'precision': 0.8294930875576036,\n",
              "  'recall': 0.72,\n",
              "  'f1-score': 0.7708779443254817,\n",
              "  'support': 250},\n",
              " '25': {'precision': 0.7574468085106383,\n",
              "  'recall': 0.712,\n",
              "  'f1-score': 0.734020618556701,\n",
              "  'support': 250},\n",
              " '26': {'precision': 0.5147058823529411,\n",
              "  'recall': 0.42,\n",
              "  'f1-score': 0.4625550660792952,\n",
              "  'support': 250},\n",
              " '27': {'precision': 0.776824034334764,\n",
              "  'recall': 0.724,\n",
              "  'f1-score': 0.7494824016563146,\n",
              "  'support': 250},\n",
              " '28': {'precision': 0.6991869918699187,\n",
              "  'recall': 0.688,\n",
              "  'f1-score': 0.6935483870967742,\n",
              "  'support': 250},\n",
              " '29': {'precision': 0.7024793388429752,\n",
              "  'recall': 0.68,\n",
              "  'f1-score': 0.6910569105691057,\n",
              "  'support': 250},\n",
              " '30': {'precision': 0.9235294117647059,\n",
              "  'recall': 0.628,\n",
              "  'f1-score': 0.7476190476190476,\n",
              "  'support': 250},\n",
              " '31': {'precision': 0.7802690582959642,\n",
              "  'recall': 0.696,\n",
              "  'f1-score': 0.7357293868921776,\n",
              "  'support': 250},\n",
              " '32': {'precision': 0.7472924187725631,\n",
              "  'recall': 0.828,\n",
              "  'f1-score': 0.7855787476280836,\n",
              "  'support': 250},\n",
              " '33': {'precision': 0.8945454545454545,\n",
              "  'recall': 0.984,\n",
              "  'f1-score': 0.9371428571428572,\n",
              "  'support': 250},\n",
              " '34': {'precision': 0.6783216783216783,\n",
              "  'recall': 0.776,\n",
              "  'f1-score': 0.7238805970149255,\n",
              "  'support': 250},\n",
              " '35': {'precision': 0.7819905213270142,\n",
              "  'recall': 0.66,\n",
              "  'f1-score': 0.715835140997831,\n",
              "  'support': 250},\n",
              " '36': {'precision': 0.5320754716981132,\n",
              "  'recall': 0.564,\n",
              "  'f1-score': 0.5475728155339805,\n",
              "  'support': 250},\n",
              " '37': {'precision': 0.29912663755458513,\n",
              "  'recall': 0.548,\n",
              "  'f1-score': 0.3870056497175141,\n",
              "  'support': 250},\n",
              " '38': {'precision': 0.7772277227722773,\n",
              "  'recall': 0.628,\n",
              "  'f1-score': 0.6946902654867257,\n",
              "  'support': 250},\n",
              " '39': {'precision': 0.2694805194805195,\n",
              "  'recall': 0.332,\n",
              "  'f1-score': 0.29749103942652333,\n",
              "  'support': 250},\n",
              " '40': {'precision': 0.7214285714285714,\n",
              "  'recall': 0.808,\n",
              "  'f1-score': 0.7622641509433963,\n",
              "  'support': 250},\n",
              " '41': {'precision': 0.8115183246073299,\n",
              "  'recall': 0.62,\n",
              "  'f1-score': 0.7029478458049886,\n",
              "  'support': 250},\n",
              " '42': {'precision': 0.5,\n",
              "  'recall': 0.58,\n",
              "  'f1-score': 0.537037037037037,\n",
              "  'support': 250},\n",
              " '43': {'precision': 0.746268656716418,\n",
              "  'recall': 0.6,\n",
              "  'f1-score': 0.6651884700665188,\n",
              "  'support': 250},\n",
              " '44': {'precision': 0.7417218543046358,\n",
              "  'recall': 0.448,\n",
              "  'f1-score': 0.5586034912718205,\n",
              "  'support': 250},\n",
              " '45': {'precision': 0.7745454545454545,\n",
              "  'recall': 0.852,\n",
              "  'f1-score': 0.8114285714285714,\n",
              "  'support': 250},\n",
              " '46': {'precision': 0.8085106382978723,\n",
              "  'recall': 0.456,\n",
              "  'f1-score': 0.5831202046035805,\n",
              "  'support': 250},\n",
              " '47': {'precision': 0.4392857142857143,\n",
              "  'recall': 0.492,\n",
              "  'f1-score': 0.4641509433962264,\n",
              "  'support': 250},\n",
              " '48': {'precision': 0.4481236203090508,\n",
              "  'recall': 0.812,\n",
              "  'f1-score': 0.577524893314367,\n",
              "  'support': 250},\n",
              " '49': {'precision': 0.5045454545454545,\n",
              "  'recall': 0.444,\n",
              "  'f1-score': 0.47234042553191485,\n",
              "  'support': 250},\n",
              " '50': {'precision': 0.5444444444444444,\n",
              "  'recall': 0.392,\n",
              "  'f1-score': 0.45581395348837206,\n",
              "  'support': 250},\n",
              " '51': {'precision': 0.7081967213114754,\n",
              "  'recall': 0.864,\n",
              "  'f1-score': 0.7783783783783783,\n",
              "  'support': 250},\n",
              " '52': {'precision': 0.5092838196286472,\n",
              "  'recall': 0.768,\n",
              "  'f1-score': 0.6124401913875598,\n",
              "  'support': 250},\n",
              " '53': {'precision': 0.6719367588932806,\n",
              "  'recall': 0.68,\n",
              "  'f1-score': 0.6759443339960238,\n",
              "  'support': 250},\n",
              " '54': {'precision': 0.8785046728971962,\n",
              "  'recall': 0.752,\n",
              "  'f1-score': 0.8103448275862069,\n",
              "  'support': 250},\n",
              " '55': {'precision': 0.86,\n",
              "  'recall': 0.688,\n",
              "  'f1-score': 0.7644444444444444,\n",
              "  'support': 250},\n",
              " '56': {'precision': 0.5596330275229358,\n",
              "  'recall': 0.244,\n",
              "  'f1-score': 0.3398328690807799,\n",
              "  'support': 250},\n",
              " '57': {'precision': 0.6222222222222222,\n",
              "  'recall': 0.448,\n",
              "  'f1-score': 0.5209302325581396,\n",
              "  'support': 250},\n",
              " '58': {'precision': 0.6792452830188679,\n",
              "  'recall': 0.576,\n",
              "  'f1-score': 0.6233766233766233,\n",
              "  'support': 250},\n",
              " '59': {'precision': 0.7045454545454546,\n",
              "  'recall': 0.372,\n",
              "  'f1-score': 0.486910994764398,\n",
              "  'support': 250},\n",
              " '60': {'precision': 0.8305084745762712,\n",
              "  'recall': 0.588,\n",
              "  'f1-score': 0.6885245901639344,\n",
              "  'support': 250},\n",
              " '61': {'precision': 0.543010752688172,\n",
              "  'recall': 0.808,\n",
              "  'f1-score': 0.6495176848874598,\n",
              "  'support': 250},\n",
              " '62': {'precision': 0.7218934911242604,\n",
              "  'recall': 0.488,\n",
              "  'f1-score': 0.5823389021479712,\n",
              "  'support': 250},\n",
              " '63': {'precision': 0.9385964912280702,\n",
              "  'recall': 0.856,\n",
              "  'f1-score': 0.895397489539749,\n",
              "  'support': 250},\n",
              " '64': {'precision': 0.7773722627737226,\n",
              "  'recall': 0.852,\n",
              "  'f1-score': 0.8129770992366412,\n",
              "  'support': 250},\n",
              " '65': {'precision': 0.82, 'recall': 0.82, 'f1-score': 0.82, 'support': 250},\n",
              " '66': {'precision': 0.6923076923076923,\n",
              "  'recall': 0.324,\n",
              "  'f1-score': 0.44141689373297005,\n",
              "  'support': 250},\n",
              " '67': {'precision': 0.4090909090909091,\n",
              "  'recall': 0.576,\n",
              "  'f1-score': 0.47840531561461797,\n",
              "  'support': 250},\n",
              " '68': {'precision': 0.8981481481481481,\n",
              "  'recall': 0.776,\n",
              "  'f1-score': 0.832618025751073,\n",
              "  'support': 250},\n",
              " '69': {'precision': 0.8442622950819673,\n",
              "  'recall': 0.824,\n",
              "  'f1-score': 0.8340080971659919,\n",
              "  'support': 250},\n",
              " '70': {'precision': 0.6216216216216216,\n",
              "  'recall': 0.828,\n",
              "  'f1-score': 0.7101200686106347,\n",
              "  'support': 250},\n",
              " '71': {'precision': 0.8111888111888111,\n",
              "  'recall': 0.464,\n",
              "  'f1-score': 0.5903307888040712,\n",
              "  'support': 250},\n",
              " '72': {'precision': 0.6417322834645669,\n",
              "  'recall': 0.652,\n",
              "  'f1-score': 0.6468253968253969,\n",
              "  'support': 250},\n",
              " '73': {'precision': 0.5091743119266054,\n",
              "  'recall': 0.444,\n",
              "  'f1-score': 0.4743589743589744,\n",
              "  'support': 250},\n",
              " '74': {'precision': 0.7169811320754716,\n",
              "  'recall': 0.608,\n",
              "  'f1-score': 0.658008658008658,\n",
              "  'support': 250},\n",
              " '75': {'precision': 0.8389513108614233,\n",
              "  'recall': 0.896,\n",
              "  'f1-score': 0.8665377176015473,\n",
              "  'support': 250},\n",
              " '76': {'precision': 0.7777777777777778,\n",
              "  'recall': 0.784,\n",
              "  'f1-score': 0.7808764940239045,\n",
              "  'support': 250},\n",
              " '77': {'precision': 0.3641304347826087,\n",
              "  'recall': 0.268,\n",
              "  'f1-score': 0.30875576036866365,\n",
              "  'support': 250},\n",
              " '78': {'precision': 0.7863247863247863,\n",
              "  'recall': 0.736,\n",
              "  'f1-score': 0.7603305785123966,\n",
              "  'support': 250},\n",
              " '79': {'precision': 0.44130434782608696,\n",
              "  'recall': 0.812,\n",
              "  'f1-score': 0.571830985915493,\n",
              "  'support': 250},\n",
              " '80': {'precision': 0.5747126436781609,\n",
              "  'recall': 0.6,\n",
              "  'f1-score': 0.5870841487279843,\n",
              "  'support': 250},\n",
              " '81': {'precision': 0.6529850746268657,\n",
              "  'recall': 0.7,\n",
              "  'f1-score': 0.6756756756756757,\n",
              "  'support': 250},\n",
              " '82': {'precision': 0.3804878048780488,\n",
              "  'recall': 0.312,\n",
              "  'f1-score': 0.34285714285714286,\n",
              "  'support': 250},\n",
              " '83': {'precision': 0.5780346820809249,\n",
              "  'recall': 0.8,\n",
              "  'f1-score': 0.6711409395973154,\n",
              "  'support': 250},\n",
              " '84': {'precision': 0.6103896103896104,\n",
              "  'recall': 0.376,\n",
              "  'f1-score': 0.4653465346534653,\n",
              "  'support': 250},\n",
              " '85': {'precision': 0.4423076923076923,\n",
              "  'recall': 0.736,\n",
              "  'f1-score': 0.5525525525525525,\n",
              "  'support': 250},\n",
              " '86': {'precision': 0.7081967213114754,\n",
              "  'recall': 0.864,\n",
              "  'f1-score': 0.7783783783783783,\n",
              "  'support': 250},\n",
              " '87': {'precision': 0.40756302521008403,\n",
              "  'recall': 0.388,\n",
              "  'f1-score': 0.3975409836065574,\n",
              "  'support': 250},\n",
              " '88': {'precision': 0.8264462809917356,\n",
              "  'recall': 0.8,\n",
              "  'f1-score': 0.8130081300813008,\n",
              "  'support': 250},\n",
              " '89': {'precision': 0.7129629629629629,\n",
              "  'recall': 0.308,\n",
              "  'f1-score': 0.4301675977653631,\n",
              "  'support': 250},\n",
              " '90': {'precision': 0.9153439153439153,\n",
              "  'recall': 0.692,\n",
              "  'f1-score': 0.7881548974943051,\n",
              "  'support': 250},\n",
              " '91': {'precision': 0.8282442748091603,\n",
              "  'recall': 0.868,\n",
              "  'f1-score': 0.84765625,\n",
              "  'support': 250},\n",
              " '92': {'precision': 0.6835443037974683,\n",
              "  'recall': 0.648,\n",
              "  'f1-score': 0.6652977412731006,\n",
              "  'support': 250},\n",
              " '93': {'precision': 0.3114754098360656,\n",
              "  'recall': 0.38,\n",
              "  'f1-score': 0.34234234234234234,\n",
              "  'support': 250},\n",
              " '94': {'precision': 0.6118721461187214,\n",
              "  'recall': 0.536,\n",
              "  'f1-score': 0.5714285714285714,\n",
              "  'support': 250},\n",
              " '95': {'precision': 0.7427184466019418,\n",
              "  'recall': 0.612,\n",
              "  'f1-score': 0.6710526315789473,\n",
              "  'support': 250},\n",
              " '96': {'precision': 0.5625,\n",
              "  'recall': 0.288,\n",
              "  'f1-score': 0.3809523809523809,\n",
              "  'support': 250},\n",
              " '97': {'precision': 0.4547677261613692,\n",
              "  'recall': 0.744,\n",
              "  'f1-score': 0.5644916540212443,\n",
              "  'support': 250},\n",
              " '98': {'precision': 0.4685714285714286,\n",
              "  'recall': 0.328,\n",
              "  'f1-score': 0.3858823529411765,\n",
              "  'support': 250},\n",
              " '99': {'precision': 0.5193798449612403,\n",
              "  'recall': 0.268,\n",
              "  'f1-score': 0.35356200527704484,\n",
              "  'support': 250},\n",
              " '100': {'precision': 0.5912162162162162,\n",
              "  'recall': 0.7,\n",
              "  'f1-score': 0.641025641025641,\n",
              "  'support': 250},\n",
              " 'accuracy': 0.6077623762376237,\n",
              " 'macro avg': {'precision': 0.6328666845830312,\n",
              "  'recall': 0.6077623762376237,\n",
              "  'f1-score': 0.6061252197245781,\n",
              "  'support': 25250},\n",
              " 'weighted avg': {'precision': 0.6328666845830311,\n",
              "  'recall': 0.6077623762376237,\n",
              "  'f1-score': 0.606125219724578,\n",
              "  'support': 25250}}"
            ]
          },
          "metadata": {},
          "execution_count": 39
        }
      ]
    },
    {
      "cell_type": "markdown",
      "source": [
        "Let's plot all of our classes F1-scores..."
      ],
      "metadata": {
        "id": "DArObK1cFuX0"
      }
    },
    {
      "cell_type": "code",
      "source": [
        "class_names = test_data.class_names"
      ],
      "metadata": {
        "id": "5q9kA5jpGW9l"
      },
      "execution_count": null,
      "outputs": []
    },
    {
      "cell_type": "code",
      "source": [
        "# Create empty dictionary\n",
        "class_f1_scores = {}\n",
        "\n",
        "# Loop through classification report dictionary items\n",
        "for k, v in classification_report_dict.items():\n",
        "  if k == \"accuracy\":\n",
        "    break\n",
        "  else:\n",
        "    # Add class names and f1-scores to new dictionary\n",
        "    class_f1_scores[class_names[int(k)]] = v[\"f1-score\"]"
      ],
      "metadata": {
        "id": "c18P1fQrF7Ug"
      },
      "execution_count": null,
      "outputs": []
    },
    {
      "cell_type": "code",
      "source": [
        "class_f1_scores"
      ],
      "metadata": {
        "colab": {
          "base_uri": "https://localhost:8080/"
        },
        "id": "7fcwjxFCGfjA",
        "outputId": "0d087d47-2285-4dbf-a999-fedc407d6a20"
      },
      "execution_count": null,
      "outputs": [
        {
          "output_type": "execute_result",
          "data": {
            "text/plain": [
              "{'apple_pie': 0.24056603773584903,\n",
              " 'baby_back_ribs': 0.5864406779661017,\n",
              " 'baklava': 0.6022304832713754,\n",
              " 'beef_carpaccio': 0.616822429906542,\n",
              " 'beef_tartare': 0.544080604534005,\n",
              " 'beet_salad': 0.41860465116279066,\n",
              " 'beignets': 0.7229357798165138,\n",
              " 'bibimbap': 0.7908902691511386,\n",
              " 'bread_pudding': 0.3866943866943867,\n",
              " 'breakfast_burrito': 0.5117370892018779,\n",
              " 'bruschetta': 0.5047619047619047,\n",
              " 'caesar_salad': 0.6161616161616161,\n",
              " 'cannoli': 0.6105610561056106,\n",
              " 'caprese_salad': 0.5775193798449612,\n",
              " 'carrot_cake': 0.574757281553398,\n",
              " 'ceviche': 0.36744186046511623,\n",
              " 'cheese_plate': 0.5654135338345864,\n",
              " 'cheesecake': 0.42546063651591287,\n",
              " 'chicken_curry': 0.5008403361344538,\n",
              " 'chicken_quesadilla': 0.6411889596602972,\n",
              " 'chicken_wings': 0.7123809523809523,\n",
              " 'chocolate_cake': 0.45261669024045265,\n",
              " 'chocolate_mousse': 0.3291592128801431,\n",
              " 'churros': 0.7134935304990757,\n",
              " 'clam_chowder': 0.7708779443254817,\n",
              " 'club_sandwich': 0.734020618556701,\n",
              " 'crab_cakes': 0.4625550660792952,\n",
              " 'creme_brulee': 0.7494824016563146,\n",
              " 'croque_madame': 0.6935483870967742,\n",
              " 'cup_cakes': 0.6910569105691057,\n",
              " 'deviled_eggs': 0.7476190476190476,\n",
              " 'donuts': 0.7357293868921776,\n",
              " 'dumplings': 0.7855787476280836,\n",
              " 'edamame': 0.9371428571428572,\n",
              " 'eggs_benedict': 0.7238805970149255,\n",
              " 'escargots': 0.715835140997831,\n",
              " 'falafel': 0.5475728155339805,\n",
              " 'filet_mignon': 0.3870056497175141,\n",
              " 'fish_and_chips': 0.6946902654867257,\n",
              " 'foie_gras': 0.29749103942652333,\n",
              " 'french_fries': 0.7622641509433963,\n",
              " 'french_onion_soup': 0.7029478458049886,\n",
              " 'french_toast': 0.537037037037037,\n",
              " 'fried_calamari': 0.6651884700665188,\n",
              " 'fried_rice': 0.5586034912718205,\n",
              " 'frozen_yogurt': 0.8114285714285714,\n",
              " 'garlic_bread': 0.5831202046035805,\n",
              " 'gnocchi': 0.4641509433962264,\n",
              " 'greek_salad': 0.577524893314367,\n",
              " 'grilled_cheese_sandwich': 0.47234042553191485,\n",
              " 'grilled_salmon': 0.45581395348837206,\n",
              " 'guacamole': 0.7783783783783783,\n",
              " 'gyoza': 0.6124401913875598,\n",
              " 'hamburger': 0.6759443339960238,\n",
              " 'hot_and_sour_soup': 0.8103448275862069,\n",
              " 'hot_dog': 0.7644444444444444,\n",
              " 'huevos_rancheros': 0.3398328690807799,\n",
              " 'hummus': 0.5209302325581396,\n",
              " 'ice_cream': 0.6233766233766233,\n",
              " 'lasagna': 0.486910994764398,\n",
              " 'lobster_bisque': 0.6885245901639344,\n",
              " 'lobster_roll_sandwich': 0.6495176848874598,\n",
              " 'macaroni_and_cheese': 0.5823389021479712,\n",
              " 'macarons': 0.895397489539749,\n",
              " 'miso_soup': 0.8129770992366412,\n",
              " 'mussels': 0.82,\n",
              " 'nachos': 0.44141689373297005,\n",
              " 'omelette': 0.47840531561461797,\n",
              " 'onion_rings': 0.832618025751073,\n",
              " 'oysters': 0.8340080971659919,\n",
              " 'pad_thai': 0.7101200686106347,\n",
              " 'paella': 0.5903307888040712,\n",
              " 'pancakes': 0.6468253968253969,\n",
              " 'panna_cotta': 0.4743589743589744,\n",
              " 'peking_duck': 0.658008658008658,\n",
              " 'pho': 0.8665377176015473,\n",
              " 'pizza': 0.7808764940239045,\n",
              " 'pork_chop': 0.30875576036866365,\n",
              " 'poutine': 0.7603305785123966,\n",
              " 'prime_rib': 0.571830985915493,\n",
              " 'pulled_pork_sandwich': 0.5870841487279843,\n",
              " 'ramen': 0.6756756756756757,\n",
              " 'ravioli': 0.34285714285714286,\n",
              " 'red_velvet_cake': 0.6711409395973154,\n",
              " 'risotto': 0.4653465346534653,\n",
              " 'samosa': 0.5525525525525525,\n",
              " 'sashimi': 0.7783783783783783,\n",
              " 'scallops': 0.3975409836065574,\n",
              " 'seaweed_salad': 0.8130081300813008,\n",
              " 'shrimp_and_grits': 0.4301675977653631,\n",
              " 'spaghetti_bolognese': 0.7881548974943051,\n",
              " 'spaghetti_carbonara': 0.84765625,\n",
              " 'spring_rolls': 0.6652977412731006,\n",
              " 'steak': 0.34234234234234234,\n",
              " 'strawberry_shortcake': 0.5714285714285714,\n",
              " 'sushi': 0.6710526315789473,\n",
              " 'tacos': 0.3809523809523809,\n",
              " 'takoyaki': 0.5644916540212443,\n",
              " 'tiramisu': 0.3858823529411765,\n",
              " 'tuna_tartare': 0.35356200527704484,\n",
              " 'waffles': 0.641025641025641}"
            ]
          },
          "metadata": {},
          "execution_count": 42
        }
      ]
    },
    {
      "cell_type": "code",
      "source": [
        "# Turn f1-scores into dataframe for visualization\n",
        "import pandas as pd\n",
        "f1_scores = pd.DataFrame({\"class_names\": list(class_f1_scores.keys()),\n",
        "                          \"f1_score\": list(class_f1_scores.values())}).sort_values(\"f1_score\", ascending=False)\n",
        "\n",
        "f1_scores[:10]"
      ],
      "metadata": {
        "colab": {
          "base_uri": "https://localhost:8080/",
          "height": 363
        },
        "id": "0ynHtOmqGgl9",
        "outputId": "393c1992-1169-4613-af48-6b3289490c33"
      },
      "execution_count": null,
      "outputs": [
        {
          "output_type": "execute_result",
          "data": {
            "text/plain": [
              "            class_names  f1_score\n",
              "33              edamame  0.937143\n",
              "63             macarons  0.895397\n",
              "75                  pho  0.866538\n",
              "91  spaghetti_carbonara  0.847656\n",
              "69              oysters  0.834008\n",
              "68          onion_rings  0.832618\n",
              "65              mussels  0.820000\n",
              "88        seaweed_salad  0.813008\n",
              "64            miso_soup  0.812977\n",
              "45        frozen_yogurt  0.811429"
            ],
            "text/html": [
              "\n",
              "  <div id=\"df-1e4fb396-627d-454b-b2db-c13a8c2fc167\">\n",
              "    <div class=\"colab-df-container\">\n",
              "      <div>\n",
              "<style scoped>\n",
              "    .dataframe tbody tr th:only-of-type {\n",
              "        vertical-align: middle;\n",
              "    }\n",
              "\n",
              "    .dataframe tbody tr th {\n",
              "        vertical-align: top;\n",
              "    }\n",
              "\n",
              "    .dataframe thead th {\n",
              "        text-align: right;\n",
              "    }\n",
              "</style>\n",
              "<table border=\"1\" class=\"dataframe\">\n",
              "  <thead>\n",
              "    <tr style=\"text-align: right;\">\n",
              "      <th></th>\n",
              "      <th>class_names</th>\n",
              "      <th>f1_score</th>\n",
              "    </tr>\n",
              "  </thead>\n",
              "  <tbody>\n",
              "    <tr>\n",
              "      <th>33</th>\n",
              "      <td>edamame</td>\n",
              "      <td>0.937143</td>\n",
              "    </tr>\n",
              "    <tr>\n",
              "      <th>63</th>\n",
              "      <td>macarons</td>\n",
              "      <td>0.895397</td>\n",
              "    </tr>\n",
              "    <tr>\n",
              "      <th>75</th>\n",
              "      <td>pho</td>\n",
              "      <td>0.866538</td>\n",
              "    </tr>\n",
              "    <tr>\n",
              "      <th>91</th>\n",
              "      <td>spaghetti_carbonara</td>\n",
              "      <td>0.847656</td>\n",
              "    </tr>\n",
              "    <tr>\n",
              "      <th>69</th>\n",
              "      <td>oysters</td>\n",
              "      <td>0.834008</td>\n",
              "    </tr>\n",
              "    <tr>\n",
              "      <th>68</th>\n",
              "      <td>onion_rings</td>\n",
              "      <td>0.832618</td>\n",
              "    </tr>\n",
              "    <tr>\n",
              "      <th>65</th>\n",
              "      <td>mussels</td>\n",
              "      <td>0.820000</td>\n",
              "    </tr>\n",
              "    <tr>\n",
              "      <th>88</th>\n",
              "      <td>seaweed_salad</td>\n",
              "      <td>0.813008</td>\n",
              "    </tr>\n",
              "    <tr>\n",
              "      <th>64</th>\n",
              "      <td>miso_soup</td>\n",
              "      <td>0.812977</td>\n",
              "    </tr>\n",
              "    <tr>\n",
              "      <th>45</th>\n",
              "      <td>frozen_yogurt</td>\n",
              "      <td>0.811429</td>\n",
              "    </tr>\n",
              "  </tbody>\n",
              "</table>\n",
              "</div>\n",
              "      <button class=\"colab-df-convert\" onclick=\"convertToInteractive('df-1e4fb396-627d-454b-b2db-c13a8c2fc167')\"\n",
              "              title=\"Convert this dataframe to an interactive table.\"\n",
              "              style=\"display:none;\">\n",
              "        \n",
              "  <svg xmlns=\"http://www.w3.org/2000/svg\" height=\"24px\"viewBox=\"0 0 24 24\"\n",
              "       width=\"24px\">\n",
              "    <path d=\"M0 0h24v24H0V0z\" fill=\"none\"/>\n",
              "    <path d=\"M18.56 5.44l.94 2.06.94-2.06 2.06-.94-2.06-.94-.94-2.06-.94 2.06-2.06.94zm-11 1L8.5 8.5l.94-2.06 2.06-.94-2.06-.94L8.5 2.5l-.94 2.06-2.06.94zm10 10l.94 2.06.94-2.06 2.06-.94-2.06-.94-.94-2.06-.94 2.06-2.06.94z\"/><path d=\"M17.41 7.96l-1.37-1.37c-.4-.4-.92-.59-1.43-.59-.52 0-1.04.2-1.43.59L10.3 9.45l-7.72 7.72c-.78.78-.78 2.05 0 2.83L4 21.41c.39.39.9.59 1.41.59.51 0 1.02-.2 1.41-.59l7.78-7.78 2.81-2.81c.8-.78.8-2.07 0-2.86zM5.41 20L4 18.59l7.72-7.72 1.47 1.35L5.41 20z\"/>\n",
              "  </svg>\n",
              "      </button>\n",
              "      \n",
              "  <style>\n",
              "    .colab-df-container {\n",
              "      display:flex;\n",
              "      flex-wrap:wrap;\n",
              "      gap: 12px;\n",
              "    }\n",
              "\n",
              "    .colab-df-convert {\n",
              "      background-color: #E8F0FE;\n",
              "      border: none;\n",
              "      border-radius: 50%;\n",
              "      cursor: pointer;\n",
              "      display: none;\n",
              "      fill: #1967D2;\n",
              "      height: 32px;\n",
              "      padding: 0 0 0 0;\n",
              "      width: 32px;\n",
              "    }\n",
              "\n",
              "    .colab-df-convert:hover {\n",
              "      background-color: #E2EBFA;\n",
              "      box-shadow: 0px 1px 2px rgba(60, 64, 67, 0.3), 0px 1px 3px 1px rgba(60, 64, 67, 0.15);\n",
              "      fill: #174EA6;\n",
              "    }\n",
              "\n",
              "    [theme=dark] .colab-df-convert {\n",
              "      background-color: #3B4455;\n",
              "      fill: #D2E3FC;\n",
              "    }\n",
              "\n",
              "    [theme=dark] .colab-df-convert:hover {\n",
              "      background-color: #434B5C;\n",
              "      box-shadow: 0px 1px 3px 1px rgba(0, 0, 0, 0.15);\n",
              "      filter: drop-shadow(0px 1px 2px rgba(0, 0, 0, 0.3));\n",
              "      fill: #FFFFFF;\n",
              "    }\n",
              "  </style>\n",
              "\n",
              "      <script>\n",
              "        const buttonEl =\n",
              "          document.querySelector('#df-1e4fb396-627d-454b-b2db-c13a8c2fc167 button.colab-df-convert');\n",
              "        buttonEl.style.display =\n",
              "          google.colab.kernel.accessAllowed ? 'block' : 'none';\n",
              "\n",
              "        async function convertToInteractive(key) {\n",
              "          const element = document.querySelector('#df-1e4fb396-627d-454b-b2db-c13a8c2fc167');\n",
              "          const dataTable =\n",
              "            await google.colab.kernel.invokeFunction('convertToInteractive',\n",
              "                                                     [key], {});\n",
              "          if (!dataTable) return;\n",
              "\n",
              "          const docLinkHtml = 'Like what you see? Visit the ' +\n",
              "            '<a target=\"_blank\" href=https://colab.research.google.com/notebooks/data_table.ipynb>data table notebook</a>'\n",
              "            + ' to learn more about interactive tables.';\n",
              "          element.innerHTML = '';\n",
              "          dataTable['output_type'] = 'display_data';\n",
              "          await google.colab.output.renderOutput(dataTable, element);\n",
              "          const docLink = document.createElement('div');\n",
              "          docLink.innerHTML = docLinkHtml;\n",
              "          element.appendChild(docLink);\n",
              "        }\n",
              "      </script>\n",
              "    </div>\n",
              "  </div>\n",
              "  "
            ]
          },
          "metadata": {},
          "execution_count": 43
        }
      ]
    },
    {
      "cell_type": "code",
      "source": [
        "import matplotlib.pyplot as plt"
      ],
      "metadata": {
        "id": "0f9WCG7VHkES"
      },
      "execution_count": null,
      "outputs": []
    },
    {
      "cell_type": "code",
      "source": [
        "# Plot f1_scores\n",
        "def plot_f1_scores(f1_scores, figsize=(12, 6)):\n",
        "  fig, ax = plt.subplots(figsize=figsize)\n",
        "\n",
        "  ax.bar(f1_scores[\"class_names\"], f1_scores[\"f1_score\"])\n",
        "  ax.set_ylabel(\"F1-score\")\n",
        "  ax.set_title(\"F1-scores for 101 Different Food Classes (predicted by Food Vision mini)\")\n",
        "  plt.xticks(rotation=30, ha='right')"
      ],
      "metadata": {
        "id": "BOgCzUy-HEXQ"
      },
      "execution_count": null,
      "outputs": []
    },
    {
      "cell_type": "code",
      "source": [
        "plot_f1_scores(f1_scores, figsize=(42, 10))"
      ],
      "metadata": {
        "id": "HzNr6gEzHtAE"
      },
      "execution_count": null,
      "outputs": []
    },
    {
      "cell_type": "markdown",
      "source": [
        "## Visualizing predictions on custom images\n",
        "\n",
        "Now, this is the real test, how does our model go on food images not even in our dataset.\n",
        "\n",
        "To visualize our model's predictions on our own images, we'll need a function to load and preprocess images, specifically it will need to:\n",
        "* Read in a target image filepath using tf.io.read_file()\n",
        "* Turn the image into a Tensor using tf.io.decode_image()\n",
        "* Resize the image tensor to be the same size as the images our model has trained on using tf.image_resize()\n",
        "* Scale the image to get all of the pixel values between 0 & 1"
      ],
      "metadata": {
        "id": "6d1d83jNHvSB"
      }
    },
    {
      "cell_type": "code",
      "source": [
        "# Create a function to load and prepare images\n",
        "def load_and_prep_image(filename, img_shape=224, scale=True):\n",
        "  \"\"\"\n",
        "  Reads in an image form filename, turns it into a tensor and reshapes into \n",
        "  specified shape (img_shape, img_shape, colour_channels=3)\n",
        "  \n",
        "  Args:\n",
        "    filename (str): path to target image\n",
        "    image_shape (int): height/width dimension of target image size\n",
        "    scale (bool): scale pixel values from 0-255 to 0-1 or not\n",
        "\n",
        "  Returns:\n",
        "    Image tensor of shape (img_shape, img_shape, 3)\n",
        "  \"\"\"\n",
        "\n",
        "  # Read in the image\n",
        "  img = tf.io.read_file(filename)\n",
        "\n",
        "  # Decode image into tensor\n",
        "  img = tf.io.decode_image(img, channels=3)\n",
        "\n",
        "  # Resize the image\n",
        "  img = tf.image.resize(img, [img_shape, img_shape])\n",
        "\n",
        "  # Scale? yes/no\n",
        "  if scale:\n",
        "    # rescale the image (get all values between 0 and 1)\n",
        "    return img / 255.\n",
        "  \n",
        "  return img"
      ],
      "metadata": {
        "id": "80o8sFMjd2fs"
      },
      "execution_count": null,
      "outputs": []
    },
    {
      "cell_type": "markdown",
      "source": [
        "Now we've got a function to load and prepare target images, let's write some code to visualize images, their target label and our model's predictions\n",
        "\n",
        "Specifically, we'll write some code to:\n",
        "1. Load a few random images from the test dataset\n",
        "2. Make predictions on the loaded images\n",
        "3. Plot the original image(s along with the model's predictions, prediction probability and truth label."
      ],
      "metadata": {
        "id": "52znJClEfiL1"
      }
    },
    {
      "cell_type": "code",
      "source": [
        "# Make preds on a series of random images\n",
        "import os\n",
        "import random\n",
        "\n",
        "plt.figure(figsize=(17, 10))\n",
        "\n",
        "for i in range(3):\n",
        "  # Choose a random image from a random class\n",
        "  class_name = random.choice(class_names)\n",
        "  filename = random.choice(os.listdir(test_dir + class_name))\n",
        "  filepath = test_dir + class_name + \"/\" + filename\n",
        "  \n",
        "  # Load the image and make predictions\n",
        "  img = load_and_prep_image(filepath, scale=False)\n",
        "  img_expanded = tf.expand_dims(img, axis=0)\n",
        "  pred_prob = model.predict(img_expanded)\n",
        "  pred_class = class_names[pred_prob.argmax()] # get highest prediction probability index\n",
        "  \n",
        "  # Plot the image(s)\n",
        "  plt.subplot(3, 1, i + 1)\n",
        "  plt.imshow(img / 255.)\n",
        "  \n",
        "  if class_name == pred_class:\n",
        "    title_color = \"g\"\n",
        "  else:\n",
        "    title_color = \"r\"\n",
        "\n",
        "  plt.title(f\"actual: {class_name}, pred: {pred_class}, prob: {(pred_prob.max() * 100):.2f}%\",\n",
        "            c=title_color)"
      ],
      "metadata": {
        "id": "QOgjGJfSfozC"
      },
      "execution_count": null,
      "outputs": []
    },
    {
      "cell_type": "markdown",
      "source": [
        "## Finding the most wrong predictions\n",
        "\n",
        "To find out where our model is most wrong, let's write some code to find out the following:\n",
        "1. Get all of the image file paths in the test dataset using `list_files()` method\n",
        "2. Create a pandas DataFrame of the image filepaths, ground truth labels, predicted classes (from our model), max prediction probabilities.\n",
        "3. Use our DataFrame to find all the wrong predictions (where the ground truth label doesn't match the prediction).\n",
        "4. Sort the DataFrame based on wrong predictions (have the highest prediction probability predictions at the top)\n",
        "5. Visualize the image with the highest prediction probabilities but have the wrong prediction."
      ],
      "metadata": {
        "id": "rh2j_KelgVKp"
      }
    },
    {
      "cell_type": "code",
      "source": [
        "# 1. Get all image paths\n",
        "filepaths = np.array([])\n",
        "\n",
        "for filepath in tf.data.Dataset.list_files(\"/content/101_food_classes_10_percent/test/*/*.jpg\",\n",
        "                                           shuffle=False):\n",
        "  filepaths = np.append(filepaths, filepath)\n",
        "\n",
        "filepaths[:5]"
      ],
      "metadata": {
        "colab": {
          "base_uri": "https://localhost:8080/"
        },
        "id": "wMOrp6_gjosW",
        "outputId": "7131eec2-4233-4bac-a07e-d8b0fcd4a862"
      },
      "execution_count": null,
      "outputs": [
        {
          "output_type": "execute_result",
          "data": {
            "text/plain": [
              "array([b'/content/101_food_classes_10_percent/test/apple_pie/1011328.jpg',\n",
              "       b'/content/101_food_classes_10_percent/test/apple_pie/101251.jpg',\n",
              "       b'/content/101_food_classes_10_percent/test/apple_pie/1034399.jpg',\n",
              "       b'/content/101_food_classes_10_percent/test/apple_pie/103801.jpg',\n",
              "       b'/content/101_food_classes_10_percent/test/apple_pie/1038694.jpg'],\n",
              "      dtype=object)"
            ]
          },
          "metadata": {},
          "execution_count": 70
        }
      ]
    },
    {
      "cell_type": "code",
      "source": [
        "# 2. Create a DataFrame of different parameters for each of our test images\n",
        "import pandas as pd\n",
        "pred_df = pd.DataFrame({\"img_path\": filepaths,\n",
        "                        \"y_true\": y_labels,\n",
        "                        \"y_pred\": pred_classes,\n",
        "                        \"pred_conf\": preds_probs.max(axis=1),\n",
        "                        \"y_true_classname\": np.array([class_names[i] for i in y_labels]),\n",
        "                        \"y_pred_classname\": np.array([class_names[i] for i in pred_classes])})\n",
        "\n",
        "pred_df[735:755]"
      ],
      "metadata": {
        "colab": {
          "base_uri": "https://localhost:8080/",
          "height": 720
        },
        "id": "XTKdUctjkaag",
        "outputId": "c88ccc58-1b06-4bae-ed4a-fe7592e0f7a6"
      },
      "execution_count": null,
      "outputs": [
        {
          "output_type": "execute_result",
          "data": {
            "text/plain": [
              "                                              img_path  y_true  y_pred  \\\n",
              "735  b'/content/101_food_classes_10_percent/test/ba...       2       2   \n",
              "736  b'/content/101_food_classes_10_percent/test/ba...       2       2   \n",
              "737  b'/content/101_food_classes_10_percent/test/ba...       2       2   \n",
              "738  b'/content/101_food_classes_10_percent/test/ba...       2       2   \n",
              "739  b'/content/101_food_classes_10_percent/test/ba...       2       2   \n",
              "740  b'/content/101_food_classes_10_percent/test/ba...       2      85   \n",
              "741  b'/content/101_food_classes_10_percent/test/ba...       2       2   \n",
              "742  b'/content/101_food_classes_10_percent/test/ba...       2      97   \n",
              "743  b'/content/101_food_classes_10_percent/test/ba...       2      12   \n",
              "744  b'/content/101_food_classes_10_percent/test/ba...       2       2   \n",
              "745  b'/content/101_food_classes_10_percent/test/ba...       2      12   \n",
              "746  b'/content/101_food_classes_10_percent/test/ba...       2       2   \n",
              "747  b'/content/101_food_classes_10_percent/test/ba...       2      80   \n",
              "748  b'/content/101_food_classes_10_percent/test/ba...       2       2   \n",
              "749  b'/content/101_food_classes_10_percent/test/ba...       2       2   \n",
              "750  b'/content/101_food_classes_10_percent/test/be...       3      85   \n",
              "751  b'/content/101_food_classes_10_percent/test/be...       3     100   \n",
              "752  b'/content/101_food_classes_10_percent/test/be...       3       3   \n",
              "753  b'/content/101_food_classes_10_percent/test/be...       3       3   \n",
              "754  b'/content/101_food_classes_10_percent/test/be...       3       5   \n",
              "\n",
              "     pred_conf y_true_classname      y_pred_classname  \n",
              "735   0.991258          baklava               baklava  \n",
              "736   0.998864          baklava               baklava  \n",
              "737   0.974502          baklava               baklava  \n",
              "738   0.995526          baklava               baklava  \n",
              "739   0.946621          baklava               baklava  \n",
              "740   0.713646          baklava                samosa  \n",
              "741   0.500134          baklava               baklava  \n",
              "742   0.362869          baklava              takoyaki  \n",
              "743   0.442229          baklava               cannoli  \n",
              "744   0.999984          baklava               baklava  \n",
              "745   0.742891          baklava               cannoli  \n",
              "746   0.998461          baklava               baklava  \n",
              "747   0.562918          baklava  pulled_pork_sandwich  \n",
              "748   0.881744          baklava               baklava  \n",
              "749   0.921687          baklava               baklava  \n",
              "750   0.520616   beef_carpaccio                samosa  \n",
              "751   0.480291   beef_carpaccio               waffles  \n",
              "752   0.981799   beef_carpaccio        beef_carpaccio  \n",
              "753   0.762273   beef_carpaccio        beef_carpaccio  \n",
              "754   0.446759   beef_carpaccio            beet_salad  "
            ],
            "text/html": [
              "\n",
              "  <div id=\"df-d1c606a4-ecb4-4540-b8a4-705c6919575f\">\n",
              "    <div class=\"colab-df-container\">\n",
              "      <div>\n",
              "<style scoped>\n",
              "    .dataframe tbody tr th:only-of-type {\n",
              "        vertical-align: middle;\n",
              "    }\n",
              "\n",
              "    .dataframe tbody tr th {\n",
              "        vertical-align: top;\n",
              "    }\n",
              "\n",
              "    .dataframe thead th {\n",
              "        text-align: right;\n",
              "    }\n",
              "</style>\n",
              "<table border=\"1\" class=\"dataframe\">\n",
              "  <thead>\n",
              "    <tr style=\"text-align: right;\">\n",
              "      <th></th>\n",
              "      <th>img_path</th>\n",
              "      <th>y_true</th>\n",
              "      <th>y_pred</th>\n",
              "      <th>pred_conf</th>\n",
              "      <th>y_true_classname</th>\n",
              "      <th>y_pred_classname</th>\n",
              "    </tr>\n",
              "  </thead>\n",
              "  <tbody>\n",
              "    <tr>\n",
              "      <th>735</th>\n",
              "      <td>b'/content/101_food_classes_10_percent/test/ba...</td>\n",
              "      <td>2</td>\n",
              "      <td>2</td>\n",
              "      <td>0.991258</td>\n",
              "      <td>baklava</td>\n",
              "      <td>baklava</td>\n",
              "    </tr>\n",
              "    <tr>\n",
              "      <th>736</th>\n",
              "      <td>b'/content/101_food_classes_10_percent/test/ba...</td>\n",
              "      <td>2</td>\n",
              "      <td>2</td>\n",
              "      <td>0.998864</td>\n",
              "      <td>baklava</td>\n",
              "      <td>baklava</td>\n",
              "    </tr>\n",
              "    <tr>\n",
              "      <th>737</th>\n",
              "      <td>b'/content/101_food_classes_10_percent/test/ba...</td>\n",
              "      <td>2</td>\n",
              "      <td>2</td>\n",
              "      <td>0.974502</td>\n",
              "      <td>baklava</td>\n",
              "      <td>baklava</td>\n",
              "    </tr>\n",
              "    <tr>\n",
              "      <th>738</th>\n",
              "      <td>b'/content/101_food_classes_10_percent/test/ba...</td>\n",
              "      <td>2</td>\n",
              "      <td>2</td>\n",
              "      <td>0.995526</td>\n",
              "      <td>baklava</td>\n",
              "      <td>baklava</td>\n",
              "    </tr>\n",
              "    <tr>\n",
              "      <th>739</th>\n",
              "      <td>b'/content/101_food_classes_10_percent/test/ba...</td>\n",
              "      <td>2</td>\n",
              "      <td>2</td>\n",
              "      <td>0.946621</td>\n",
              "      <td>baklava</td>\n",
              "      <td>baklava</td>\n",
              "    </tr>\n",
              "    <tr>\n",
              "      <th>740</th>\n",
              "      <td>b'/content/101_food_classes_10_percent/test/ba...</td>\n",
              "      <td>2</td>\n",
              "      <td>85</td>\n",
              "      <td>0.713646</td>\n",
              "      <td>baklava</td>\n",
              "      <td>samosa</td>\n",
              "    </tr>\n",
              "    <tr>\n",
              "      <th>741</th>\n",
              "      <td>b'/content/101_food_classes_10_percent/test/ba...</td>\n",
              "      <td>2</td>\n",
              "      <td>2</td>\n",
              "      <td>0.500134</td>\n",
              "      <td>baklava</td>\n",
              "      <td>baklava</td>\n",
              "    </tr>\n",
              "    <tr>\n",
              "      <th>742</th>\n",
              "      <td>b'/content/101_food_classes_10_percent/test/ba...</td>\n",
              "      <td>2</td>\n",
              "      <td>97</td>\n",
              "      <td>0.362869</td>\n",
              "      <td>baklava</td>\n",
              "      <td>takoyaki</td>\n",
              "    </tr>\n",
              "    <tr>\n",
              "      <th>743</th>\n",
              "      <td>b'/content/101_food_classes_10_percent/test/ba...</td>\n",
              "      <td>2</td>\n",
              "      <td>12</td>\n",
              "      <td>0.442229</td>\n",
              "      <td>baklava</td>\n",
              "      <td>cannoli</td>\n",
              "    </tr>\n",
              "    <tr>\n",
              "      <th>744</th>\n",
              "      <td>b'/content/101_food_classes_10_percent/test/ba...</td>\n",
              "      <td>2</td>\n",
              "      <td>2</td>\n",
              "      <td>0.999984</td>\n",
              "      <td>baklava</td>\n",
              "      <td>baklava</td>\n",
              "    </tr>\n",
              "    <tr>\n",
              "      <th>745</th>\n",
              "      <td>b'/content/101_food_classes_10_percent/test/ba...</td>\n",
              "      <td>2</td>\n",
              "      <td>12</td>\n",
              "      <td>0.742891</td>\n",
              "      <td>baklava</td>\n",
              "      <td>cannoli</td>\n",
              "    </tr>\n",
              "    <tr>\n",
              "      <th>746</th>\n",
              "      <td>b'/content/101_food_classes_10_percent/test/ba...</td>\n",
              "      <td>2</td>\n",
              "      <td>2</td>\n",
              "      <td>0.998461</td>\n",
              "      <td>baklava</td>\n",
              "      <td>baklava</td>\n",
              "    </tr>\n",
              "    <tr>\n",
              "      <th>747</th>\n",
              "      <td>b'/content/101_food_classes_10_percent/test/ba...</td>\n",
              "      <td>2</td>\n",
              "      <td>80</td>\n",
              "      <td>0.562918</td>\n",
              "      <td>baklava</td>\n",
              "      <td>pulled_pork_sandwich</td>\n",
              "    </tr>\n",
              "    <tr>\n",
              "      <th>748</th>\n",
              "      <td>b'/content/101_food_classes_10_percent/test/ba...</td>\n",
              "      <td>2</td>\n",
              "      <td>2</td>\n",
              "      <td>0.881744</td>\n",
              "      <td>baklava</td>\n",
              "      <td>baklava</td>\n",
              "    </tr>\n",
              "    <tr>\n",
              "      <th>749</th>\n",
              "      <td>b'/content/101_food_classes_10_percent/test/ba...</td>\n",
              "      <td>2</td>\n",
              "      <td>2</td>\n",
              "      <td>0.921687</td>\n",
              "      <td>baklava</td>\n",
              "      <td>baklava</td>\n",
              "    </tr>\n",
              "    <tr>\n",
              "      <th>750</th>\n",
              "      <td>b'/content/101_food_classes_10_percent/test/be...</td>\n",
              "      <td>3</td>\n",
              "      <td>85</td>\n",
              "      <td>0.520616</td>\n",
              "      <td>beef_carpaccio</td>\n",
              "      <td>samosa</td>\n",
              "    </tr>\n",
              "    <tr>\n",
              "      <th>751</th>\n",
              "      <td>b'/content/101_food_classes_10_percent/test/be...</td>\n",
              "      <td>3</td>\n",
              "      <td>100</td>\n",
              "      <td>0.480291</td>\n",
              "      <td>beef_carpaccio</td>\n",
              "      <td>waffles</td>\n",
              "    </tr>\n",
              "    <tr>\n",
              "      <th>752</th>\n",
              "      <td>b'/content/101_food_classes_10_percent/test/be...</td>\n",
              "      <td>3</td>\n",
              "      <td>3</td>\n",
              "      <td>0.981799</td>\n",
              "      <td>beef_carpaccio</td>\n",
              "      <td>beef_carpaccio</td>\n",
              "    </tr>\n",
              "    <tr>\n",
              "      <th>753</th>\n",
              "      <td>b'/content/101_food_classes_10_percent/test/be...</td>\n",
              "      <td>3</td>\n",
              "      <td>3</td>\n",
              "      <td>0.762273</td>\n",
              "      <td>beef_carpaccio</td>\n",
              "      <td>beef_carpaccio</td>\n",
              "    </tr>\n",
              "    <tr>\n",
              "      <th>754</th>\n",
              "      <td>b'/content/101_food_classes_10_percent/test/be...</td>\n",
              "      <td>3</td>\n",
              "      <td>5</td>\n",
              "      <td>0.446759</td>\n",
              "      <td>beef_carpaccio</td>\n",
              "      <td>beet_salad</td>\n",
              "    </tr>\n",
              "  </tbody>\n",
              "</table>\n",
              "</div>\n",
              "      <button class=\"colab-df-convert\" onclick=\"convertToInteractive('df-d1c606a4-ecb4-4540-b8a4-705c6919575f')\"\n",
              "              title=\"Convert this dataframe to an interactive table.\"\n",
              "              style=\"display:none;\">\n",
              "        \n",
              "  <svg xmlns=\"http://www.w3.org/2000/svg\" height=\"24px\"viewBox=\"0 0 24 24\"\n",
              "       width=\"24px\">\n",
              "    <path d=\"M0 0h24v24H0V0z\" fill=\"none\"/>\n",
              "    <path d=\"M18.56 5.44l.94 2.06.94-2.06 2.06-.94-2.06-.94-.94-2.06-.94 2.06-2.06.94zm-11 1L8.5 8.5l.94-2.06 2.06-.94-2.06-.94L8.5 2.5l-.94 2.06-2.06.94zm10 10l.94 2.06.94-2.06 2.06-.94-2.06-.94-.94-2.06-.94 2.06-2.06.94z\"/><path d=\"M17.41 7.96l-1.37-1.37c-.4-.4-.92-.59-1.43-.59-.52 0-1.04.2-1.43.59L10.3 9.45l-7.72 7.72c-.78.78-.78 2.05 0 2.83L4 21.41c.39.39.9.59 1.41.59.51 0 1.02-.2 1.41-.59l7.78-7.78 2.81-2.81c.8-.78.8-2.07 0-2.86zM5.41 20L4 18.59l7.72-7.72 1.47 1.35L5.41 20z\"/>\n",
              "  </svg>\n",
              "      </button>\n",
              "      \n",
              "  <style>\n",
              "    .colab-df-container {\n",
              "      display:flex;\n",
              "      flex-wrap:wrap;\n",
              "      gap: 12px;\n",
              "    }\n",
              "\n",
              "    .colab-df-convert {\n",
              "      background-color: #E8F0FE;\n",
              "      border: none;\n",
              "      border-radius: 50%;\n",
              "      cursor: pointer;\n",
              "      display: none;\n",
              "      fill: #1967D2;\n",
              "      height: 32px;\n",
              "      padding: 0 0 0 0;\n",
              "      width: 32px;\n",
              "    }\n",
              "\n",
              "    .colab-df-convert:hover {\n",
              "      background-color: #E2EBFA;\n",
              "      box-shadow: 0px 1px 2px rgba(60, 64, 67, 0.3), 0px 1px 3px 1px rgba(60, 64, 67, 0.15);\n",
              "      fill: #174EA6;\n",
              "    }\n",
              "\n",
              "    [theme=dark] .colab-df-convert {\n",
              "      background-color: #3B4455;\n",
              "      fill: #D2E3FC;\n",
              "    }\n",
              "\n",
              "    [theme=dark] .colab-df-convert:hover {\n",
              "      background-color: #434B5C;\n",
              "      box-shadow: 0px 1px 3px 1px rgba(0, 0, 0, 0.15);\n",
              "      filter: drop-shadow(0px 1px 2px rgba(0, 0, 0, 0.3));\n",
              "      fill: #FFFFFF;\n",
              "    }\n",
              "  </style>\n",
              "\n",
              "      <script>\n",
              "        const buttonEl =\n",
              "          document.querySelector('#df-d1c606a4-ecb4-4540-b8a4-705c6919575f button.colab-df-convert');\n",
              "        buttonEl.style.display =\n",
              "          google.colab.kernel.accessAllowed ? 'block' : 'none';\n",
              "\n",
              "        async function convertToInteractive(key) {\n",
              "          const element = document.querySelector('#df-d1c606a4-ecb4-4540-b8a4-705c6919575f');\n",
              "          const dataTable =\n",
              "            await google.colab.kernel.invokeFunction('convertToInteractive',\n",
              "                                                     [key], {});\n",
              "          if (!dataTable) return;\n",
              "\n",
              "          const docLinkHtml = 'Like what you see? Visit the ' +\n",
              "            '<a target=\"_blank\" href=https://colab.research.google.com/notebooks/data_table.ipynb>data table notebook</a>'\n",
              "            + ' to learn more about interactive tables.';\n",
              "          element.innerHTML = '';\n",
              "          dataTable['output_type'] = 'display_data';\n",
              "          await google.colab.output.renderOutput(dataTable, element);\n",
              "          const docLink = document.createElement('div');\n",
              "          docLink.innerHTML = docLinkHtml;\n",
              "          element.appendChild(docLink);\n",
              "        }\n",
              "      </script>\n",
              "    </div>\n",
              "  </div>\n",
              "  "
            ]
          },
          "metadata": {},
          "execution_count": 79
        }
      ]
    },
    {
      "cell_type": "code",
      "source": [
        "# 3. Find out in our DataFrame which predictions are wrong\n",
        "pred_df[\"pred_correct\"] = pred_df[\"y_true\"] == pred_df[\"y_pred\"]\n",
        "pred_df.head()"
      ],
      "metadata": {
        "colab": {
          "base_uri": "https://localhost:8080/",
          "height": 270
        },
        "id": "Gii16vf2mfat",
        "outputId": "1fa211d5-5441-4d17-96d7-e7c1a2b298f0"
      },
      "execution_count": null,
      "outputs": [
        {
          "output_type": "execute_result",
          "data": {
            "text/plain": [
              "                                            img_path  y_true  y_pred  \\\n",
              "0  b'/content/101_food_classes_10_percent/test/ap...       0      52   \n",
              "1  b'/content/101_food_classes_10_percent/test/ap...       0       0   \n",
              "2  b'/content/101_food_classes_10_percent/test/ap...       0       0   \n",
              "3  b'/content/101_food_classes_10_percent/test/ap...       0      80   \n",
              "4  b'/content/101_food_classes_10_percent/test/ap...       0      79   \n",
              "\n",
              "   pred_conf y_true_classname      y_pred_classname  pred_correct  \n",
              "0   0.847419        apple_pie                 gyoza         False  \n",
              "1   0.964017        apple_pie             apple_pie          True  \n",
              "2   0.959259        apple_pie             apple_pie          True  \n",
              "3   0.658606        apple_pie  pulled_pork_sandwich         False  \n",
              "4   0.367900        apple_pie             prime_rib         False  "
            ],
            "text/html": [
              "\n",
              "  <div id=\"df-474043ab-b9e3-418d-8daf-e5b0e4059976\">\n",
              "    <div class=\"colab-df-container\">\n",
              "      <div>\n",
              "<style scoped>\n",
              "    .dataframe tbody tr th:only-of-type {\n",
              "        vertical-align: middle;\n",
              "    }\n",
              "\n",
              "    .dataframe tbody tr th {\n",
              "        vertical-align: top;\n",
              "    }\n",
              "\n",
              "    .dataframe thead th {\n",
              "        text-align: right;\n",
              "    }\n",
              "</style>\n",
              "<table border=\"1\" class=\"dataframe\">\n",
              "  <thead>\n",
              "    <tr style=\"text-align: right;\">\n",
              "      <th></th>\n",
              "      <th>img_path</th>\n",
              "      <th>y_true</th>\n",
              "      <th>y_pred</th>\n",
              "      <th>pred_conf</th>\n",
              "      <th>y_true_classname</th>\n",
              "      <th>y_pred_classname</th>\n",
              "      <th>pred_correct</th>\n",
              "    </tr>\n",
              "  </thead>\n",
              "  <tbody>\n",
              "    <tr>\n",
              "      <th>0</th>\n",
              "      <td>b'/content/101_food_classes_10_percent/test/ap...</td>\n",
              "      <td>0</td>\n",
              "      <td>52</td>\n",
              "      <td>0.847419</td>\n",
              "      <td>apple_pie</td>\n",
              "      <td>gyoza</td>\n",
              "      <td>False</td>\n",
              "    </tr>\n",
              "    <tr>\n",
              "      <th>1</th>\n",
              "      <td>b'/content/101_food_classes_10_percent/test/ap...</td>\n",
              "      <td>0</td>\n",
              "      <td>0</td>\n",
              "      <td>0.964017</td>\n",
              "      <td>apple_pie</td>\n",
              "      <td>apple_pie</td>\n",
              "      <td>True</td>\n",
              "    </tr>\n",
              "    <tr>\n",
              "      <th>2</th>\n",
              "      <td>b'/content/101_food_classes_10_percent/test/ap...</td>\n",
              "      <td>0</td>\n",
              "      <td>0</td>\n",
              "      <td>0.959259</td>\n",
              "      <td>apple_pie</td>\n",
              "      <td>apple_pie</td>\n",
              "      <td>True</td>\n",
              "    </tr>\n",
              "    <tr>\n",
              "      <th>3</th>\n",
              "      <td>b'/content/101_food_classes_10_percent/test/ap...</td>\n",
              "      <td>0</td>\n",
              "      <td>80</td>\n",
              "      <td>0.658606</td>\n",
              "      <td>apple_pie</td>\n",
              "      <td>pulled_pork_sandwich</td>\n",
              "      <td>False</td>\n",
              "    </tr>\n",
              "    <tr>\n",
              "      <th>4</th>\n",
              "      <td>b'/content/101_food_classes_10_percent/test/ap...</td>\n",
              "      <td>0</td>\n",
              "      <td>79</td>\n",
              "      <td>0.367900</td>\n",
              "      <td>apple_pie</td>\n",
              "      <td>prime_rib</td>\n",
              "      <td>False</td>\n",
              "    </tr>\n",
              "  </tbody>\n",
              "</table>\n",
              "</div>\n",
              "      <button class=\"colab-df-convert\" onclick=\"convertToInteractive('df-474043ab-b9e3-418d-8daf-e5b0e4059976')\"\n",
              "              title=\"Convert this dataframe to an interactive table.\"\n",
              "              style=\"display:none;\">\n",
              "        \n",
              "  <svg xmlns=\"http://www.w3.org/2000/svg\" height=\"24px\"viewBox=\"0 0 24 24\"\n",
              "       width=\"24px\">\n",
              "    <path d=\"M0 0h24v24H0V0z\" fill=\"none\"/>\n",
              "    <path d=\"M18.56 5.44l.94 2.06.94-2.06 2.06-.94-2.06-.94-.94-2.06-.94 2.06-2.06.94zm-11 1L8.5 8.5l.94-2.06 2.06-.94-2.06-.94L8.5 2.5l-.94 2.06-2.06.94zm10 10l.94 2.06.94-2.06 2.06-.94-2.06-.94-.94-2.06-.94 2.06-2.06.94z\"/><path d=\"M17.41 7.96l-1.37-1.37c-.4-.4-.92-.59-1.43-.59-.52 0-1.04.2-1.43.59L10.3 9.45l-7.72 7.72c-.78.78-.78 2.05 0 2.83L4 21.41c.39.39.9.59 1.41.59.51 0 1.02-.2 1.41-.59l7.78-7.78 2.81-2.81c.8-.78.8-2.07 0-2.86zM5.41 20L4 18.59l7.72-7.72 1.47 1.35L5.41 20z\"/>\n",
              "  </svg>\n",
              "      </button>\n",
              "      \n",
              "  <style>\n",
              "    .colab-df-container {\n",
              "      display:flex;\n",
              "      flex-wrap:wrap;\n",
              "      gap: 12px;\n",
              "    }\n",
              "\n",
              "    .colab-df-convert {\n",
              "      background-color: #E8F0FE;\n",
              "      border: none;\n",
              "      border-radius: 50%;\n",
              "      cursor: pointer;\n",
              "      display: none;\n",
              "      fill: #1967D2;\n",
              "      height: 32px;\n",
              "      padding: 0 0 0 0;\n",
              "      width: 32px;\n",
              "    }\n",
              "\n",
              "    .colab-df-convert:hover {\n",
              "      background-color: #E2EBFA;\n",
              "      box-shadow: 0px 1px 2px rgba(60, 64, 67, 0.3), 0px 1px 3px 1px rgba(60, 64, 67, 0.15);\n",
              "      fill: #174EA6;\n",
              "    }\n",
              "\n",
              "    [theme=dark] .colab-df-convert {\n",
              "      background-color: #3B4455;\n",
              "      fill: #D2E3FC;\n",
              "    }\n",
              "\n",
              "    [theme=dark] .colab-df-convert:hover {\n",
              "      background-color: #434B5C;\n",
              "      box-shadow: 0px 1px 3px 1px rgba(0, 0, 0, 0.15);\n",
              "      filter: drop-shadow(0px 1px 2px rgba(0, 0, 0, 0.3));\n",
              "      fill: #FFFFFF;\n",
              "    }\n",
              "  </style>\n",
              "\n",
              "      <script>\n",
              "        const buttonEl =\n",
              "          document.querySelector('#df-474043ab-b9e3-418d-8daf-e5b0e4059976 button.colab-df-convert');\n",
              "        buttonEl.style.display =\n",
              "          google.colab.kernel.accessAllowed ? 'block' : 'none';\n",
              "\n",
              "        async function convertToInteractive(key) {\n",
              "          const element = document.querySelector('#df-474043ab-b9e3-418d-8daf-e5b0e4059976');\n",
              "          const dataTable =\n",
              "            await google.colab.kernel.invokeFunction('convertToInteractive',\n",
              "                                                     [key], {});\n",
              "          if (!dataTable) return;\n",
              "\n",
              "          const docLinkHtml = 'Like what you see? Visit the ' +\n",
              "            '<a target=\"_blank\" href=https://colab.research.google.com/notebooks/data_table.ipynb>data table notebook</a>'\n",
              "            + ' to learn more about interactive tables.';\n",
              "          element.innerHTML = '';\n",
              "          dataTable['output_type'] = 'display_data';\n",
              "          await google.colab.output.renderOutput(dataTable, element);\n",
              "          const docLink = document.createElement('div');\n",
              "          docLink.innerHTML = docLinkHtml;\n",
              "          element.appendChild(docLink);\n",
              "        }\n",
              "      </script>\n",
              "    </div>\n",
              "  </div>\n",
              "  "
            ]
          },
          "metadata": {},
          "execution_count": 80
        }
      ]
    },
    {
      "cell_type": "code",
      "source": [
        "# 4. Sort our DataFrame to have the most wrong predictions at the top\n",
        "top_100_wrong = pred_df[pred_df[\"pred_correct\"] == False].sort_values(\"pred_conf\", ascending=False)\n",
        "top_100_wrong.head(20)"
      ],
      "metadata": {
        "colab": {
          "base_uri": "https://localhost:8080/",
          "height": 740
        },
        "id": "EsZoHdylm3FI",
        "outputId": "492d38e2-9cc8-42c7-d5e7-66f1ec626059"
      },
      "execution_count": null,
      "outputs": [
        {
          "output_type": "execute_result",
          "data": {
            "text/plain": [
              "                                                img_path  y_true  y_pred  \\\n",
              "21810  b'/content/101_food_classes_10_percent/test/sc...      87      29   \n",
              "231    b'/content/101_food_classes_10_percent/test/ap...       0     100   \n",
              "15359  b'/content/101_food_classes_10_percent/test/lo...      61      53   \n",
              "23539  b'/content/101_food_classes_10_percent/test/st...      94      83   \n",
              "21400  b'/content/101_food_classes_10_percent/test/sa...      85      92   \n",
              "24540  b'/content/101_food_classes_10_percent/test/ti...      98      83   \n",
              "2511   b'/content/101_food_classes_10_percent/test/br...      10      61   \n",
              "5574   b'/content/101_food_classes_10_percent/test/ch...      22      21   \n",
              "17855  b'/content/101_food_classes_10_percent/test/pa...      71      65   \n",
              "23797  b'/content/101_food_classes_10_percent/test/su...      95      86   \n",
              "18001  b'/content/101_food_classes_10_percent/test/pa...      72      67   \n",
              "11642  b'/content/101_food_classes_10_percent/test/ga...      46      10   \n",
              "10847  b'/content/101_food_classes_10_percent/test/fr...      43      68   \n",
              "23631  b'/content/101_food_classes_10_percent/test/st...      94      83   \n",
              "1155   b'/content/101_food_classes_10_percent/test/be...       4       5   \n",
              "10854  b'/content/101_food_classes_10_percent/test/fr...      43      68   \n",
              "23904  b'/content/101_food_classes_10_percent/test/su...      95      86   \n",
              "7316   b'/content/101_food_classes_10_percent/test/cu...      29      83   \n",
              "13144  b'/content/101_food_classes_10_percent/test/gy...      52      92   \n",
              "10880  b'/content/101_food_classes_10_percent/test/fr...      43      68   \n",
              "\n",
              "       pred_conf       y_true_classname       y_pred_classname  pred_correct  \n",
              "21810   0.999997               scallops              cup_cakes         False  \n",
              "231     0.999995              apple_pie                waffles         False  \n",
              "15359   0.999988  lobster_roll_sandwich              hamburger         False  \n",
              "23539   0.999987   strawberry_shortcake        red_velvet_cake         False  \n",
              "21400   0.999981                 samosa           spring_rolls         False  \n",
              "24540   0.999947               tiramisu        red_velvet_cake         False  \n",
              "2511    0.999945             bruschetta  lobster_roll_sandwich         False  \n",
              "5574    0.999939       chocolate_mousse         chocolate_cake         False  \n",
              "17855   0.999931                 paella                mussels         False  \n",
              "23797   0.999904                  sushi                sashimi         False  \n",
              "18001   0.999904               pancakes               omelette         False  \n",
              "11642   0.999877           garlic_bread             bruschetta         False  \n",
              "10847   0.999872         fried_calamari            onion_rings         False  \n",
              "23631   0.999858   strawberry_shortcake        red_velvet_cake         False  \n",
              "1155    0.999858           beef_tartare             beet_salad         False  \n",
              "10854   0.999854         fried_calamari            onion_rings         False  \n",
              "23904   0.999823                  sushi                sashimi         False  \n",
              "7316    0.999816              cup_cakes        red_velvet_cake         False  \n",
              "13144   0.999799                  gyoza           spring_rolls         False  \n",
              "10880   0.999778         fried_calamari            onion_rings         False  "
            ],
            "text/html": [
              "\n",
              "  <div id=\"df-b75362cb-e97a-46b8-a008-f54d8640b5cf\">\n",
              "    <div class=\"colab-df-container\">\n",
              "      <div>\n",
              "<style scoped>\n",
              "    .dataframe tbody tr th:only-of-type {\n",
              "        vertical-align: middle;\n",
              "    }\n",
              "\n",
              "    .dataframe tbody tr th {\n",
              "        vertical-align: top;\n",
              "    }\n",
              "\n",
              "    .dataframe thead th {\n",
              "        text-align: right;\n",
              "    }\n",
              "</style>\n",
              "<table border=\"1\" class=\"dataframe\">\n",
              "  <thead>\n",
              "    <tr style=\"text-align: right;\">\n",
              "      <th></th>\n",
              "      <th>img_path</th>\n",
              "      <th>y_true</th>\n",
              "      <th>y_pred</th>\n",
              "      <th>pred_conf</th>\n",
              "      <th>y_true_classname</th>\n",
              "      <th>y_pred_classname</th>\n",
              "      <th>pred_correct</th>\n",
              "    </tr>\n",
              "  </thead>\n",
              "  <tbody>\n",
              "    <tr>\n",
              "      <th>21810</th>\n",
              "      <td>b'/content/101_food_classes_10_percent/test/sc...</td>\n",
              "      <td>87</td>\n",
              "      <td>29</td>\n",
              "      <td>0.999997</td>\n",
              "      <td>scallops</td>\n",
              "      <td>cup_cakes</td>\n",
              "      <td>False</td>\n",
              "    </tr>\n",
              "    <tr>\n",
              "      <th>231</th>\n",
              "      <td>b'/content/101_food_classes_10_percent/test/ap...</td>\n",
              "      <td>0</td>\n",
              "      <td>100</td>\n",
              "      <td>0.999995</td>\n",
              "      <td>apple_pie</td>\n",
              "      <td>waffles</td>\n",
              "      <td>False</td>\n",
              "    </tr>\n",
              "    <tr>\n",
              "      <th>15359</th>\n",
              "      <td>b'/content/101_food_classes_10_percent/test/lo...</td>\n",
              "      <td>61</td>\n",
              "      <td>53</td>\n",
              "      <td>0.999988</td>\n",
              "      <td>lobster_roll_sandwich</td>\n",
              "      <td>hamburger</td>\n",
              "      <td>False</td>\n",
              "    </tr>\n",
              "    <tr>\n",
              "      <th>23539</th>\n",
              "      <td>b'/content/101_food_classes_10_percent/test/st...</td>\n",
              "      <td>94</td>\n",
              "      <td>83</td>\n",
              "      <td>0.999987</td>\n",
              "      <td>strawberry_shortcake</td>\n",
              "      <td>red_velvet_cake</td>\n",
              "      <td>False</td>\n",
              "    </tr>\n",
              "    <tr>\n",
              "      <th>21400</th>\n",
              "      <td>b'/content/101_food_classes_10_percent/test/sa...</td>\n",
              "      <td>85</td>\n",
              "      <td>92</td>\n",
              "      <td>0.999981</td>\n",
              "      <td>samosa</td>\n",
              "      <td>spring_rolls</td>\n",
              "      <td>False</td>\n",
              "    </tr>\n",
              "    <tr>\n",
              "      <th>24540</th>\n",
              "      <td>b'/content/101_food_classes_10_percent/test/ti...</td>\n",
              "      <td>98</td>\n",
              "      <td>83</td>\n",
              "      <td>0.999947</td>\n",
              "      <td>tiramisu</td>\n",
              "      <td>red_velvet_cake</td>\n",
              "      <td>False</td>\n",
              "    </tr>\n",
              "    <tr>\n",
              "      <th>2511</th>\n",
              "      <td>b'/content/101_food_classes_10_percent/test/br...</td>\n",
              "      <td>10</td>\n",
              "      <td>61</td>\n",
              "      <td>0.999945</td>\n",
              "      <td>bruschetta</td>\n",
              "      <td>lobster_roll_sandwich</td>\n",
              "      <td>False</td>\n",
              "    </tr>\n",
              "    <tr>\n",
              "      <th>5574</th>\n",
              "      <td>b'/content/101_food_classes_10_percent/test/ch...</td>\n",
              "      <td>22</td>\n",
              "      <td>21</td>\n",
              "      <td>0.999939</td>\n",
              "      <td>chocolate_mousse</td>\n",
              "      <td>chocolate_cake</td>\n",
              "      <td>False</td>\n",
              "    </tr>\n",
              "    <tr>\n",
              "      <th>17855</th>\n",
              "      <td>b'/content/101_food_classes_10_percent/test/pa...</td>\n",
              "      <td>71</td>\n",
              "      <td>65</td>\n",
              "      <td>0.999931</td>\n",
              "      <td>paella</td>\n",
              "      <td>mussels</td>\n",
              "      <td>False</td>\n",
              "    </tr>\n",
              "    <tr>\n",
              "      <th>23797</th>\n",
              "      <td>b'/content/101_food_classes_10_percent/test/su...</td>\n",
              "      <td>95</td>\n",
              "      <td>86</td>\n",
              "      <td>0.999904</td>\n",
              "      <td>sushi</td>\n",
              "      <td>sashimi</td>\n",
              "      <td>False</td>\n",
              "    </tr>\n",
              "    <tr>\n",
              "      <th>18001</th>\n",
              "      <td>b'/content/101_food_classes_10_percent/test/pa...</td>\n",
              "      <td>72</td>\n",
              "      <td>67</td>\n",
              "      <td>0.999904</td>\n",
              "      <td>pancakes</td>\n",
              "      <td>omelette</td>\n",
              "      <td>False</td>\n",
              "    </tr>\n",
              "    <tr>\n",
              "      <th>11642</th>\n",
              "      <td>b'/content/101_food_classes_10_percent/test/ga...</td>\n",
              "      <td>46</td>\n",
              "      <td>10</td>\n",
              "      <td>0.999877</td>\n",
              "      <td>garlic_bread</td>\n",
              "      <td>bruschetta</td>\n",
              "      <td>False</td>\n",
              "    </tr>\n",
              "    <tr>\n",
              "      <th>10847</th>\n",
              "      <td>b'/content/101_food_classes_10_percent/test/fr...</td>\n",
              "      <td>43</td>\n",
              "      <td>68</td>\n",
              "      <td>0.999872</td>\n",
              "      <td>fried_calamari</td>\n",
              "      <td>onion_rings</td>\n",
              "      <td>False</td>\n",
              "    </tr>\n",
              "    <tr>\n",
              "      <th>23631</th>\n",
              "      <td>b'/content/101_food_classes_10_percent/test/st...</td>\n",
              "      <td>94</td>\n",
              "      <td>83</td>\n",
              "      <td>0.999858</td>\n",
              "      <td>strawberry_shortcake</td>\n",
              "      <td>red_velvet_cake</td>\n",
              "      <td>False</td>\n",
              "    </tr>\n",
              "    <tr>\n",
              "      <th>1155</th>\n",
              "      <td>b'/content/101_food_classes_10_percent/test/be...</td>\n",
              "      <td>4</td>\n",
              "      <td>5</td>\n",
              "      <td>0.999858</td>\n",
              "      <td>beef_tartare</td>\n",
              "      <td>beet_salad</td>\n",
              "      <td>False</td>\n",
              "    </tr>\n",
              "    <tr>\n",
              "      <th>10854</th>\n",
              "      <td>b'/content/101_food_classes_10_percent/test/fr...</td>\n",
              "      <td>43</td>\n",
              "      <td>68</td>\n",
              "      <td>0.999854</td>\n",
              "      <td>fried_calamari</td>\n",
              "      <td>onion_rings</td>\n",
              "      <td>False</td>\n",
              "    </tr>\n",
              "    <tr>\n",
              "      <th>23904</th>\n",
              "      <td>b'/content/101_food_classes_10_percent/test/su...</td>\n",
              "      <td>95</td>\n",
              "      <td>86</td>\n",
              "      <td>0.999823</td>\n",
              "      <td>sushi</td>\n",
              "      <td>sashimi</td>\n",
              "      <td>False</td>\n",
              "    </tr>\n",
              "    <tr>\n",
              "      <th>7316</th>\n",
              "      <td>b'/content/101_food_classes_10_percent/test/cu...</td>\n",
              "      <td>29</td>\n",
              "      <td>83</td>\n",
              "      <td>0.999816</td>\n",
              "      <td>cup_cakes</td>\n",
              "      <td>red_velvet_cake</td>\n",
              "      <td>False</td>\n",
              "    </tr>\n",
              "    <tr>\n",
              "      <th>13144</th>\n",
              "      <td>b'/content/101_food_classes_10_percent/test/gy...</td>\n",
              "      <td>52</td>\n",
              "      <td>92</td>\n",
              "      <td>0.999799</td>\n",
              "      <td>gyoza</td>\n",
              "      <td>spring_rolls</td>\n",
              "      <td>False</td>\n",
              "    </tr>\n",
              "    <tr>\n",
              "      <th>10880</th>\n",
              "      <td>b'/content/101_food_classes_10_percent/test/fr...</td>\n",
              "      <td>43</td>\n",
              "      <td>68</td>\n",
              "      <td>0.999778</td>\n",
              "      <td>fried_calamari</td>\n",
              "      <td>onion_rings</td>\n",
              "      <td>False</td>\n",
              "    </tr>\n",
              "  </tbody>\n",
              "</table>\n",
              "</div>\n",
              "      <button class=\"colab-df-convert\" onclick=\"convertToInteractive('df-b75362cb-e97a-46b8-a008-f54d8640b5cf')\"\n",
              "              title=\"Convert this dataframe to an interactive table.\"\n",
              "              style=\"display:none;\">\n",
              "        \n",
              "  <svg xmlns=\"http://www.w3.org/2000/svg\" height=\"24px\"viewBox=\"0 0 24 24\"\n",
              "       width=\"24px\">\n",
              "    <path d=\"M0 0h24v24H0V0z\" fill=\"none\"/>\n",
              "    <path d=\"M18.56 5.44l.94 2.06.94-2.06 2.06-.94-2.06-.94-.94-2.06-.94 2.06-2.06.94zm-11 1L8.5 8.5l.94-2.06 2.06-.94-2.06-.94L8.5 2.5l-.94 2.06-2.06.94zm10 10l.94 2.06.94-2.06 2.06-.94-2.06-.94-.94-2.06-.94 2.06-2.06.94z\"/><path d=\"M17.41 7.96l-1.37-1.37c-.4-.4-.92-.59-1.43-.59-.52 0-1.04.2-1.43.59L10.3 9.45l-7.72 7.72c-.78.78-.78 2.05 0 2.83L4 21.41c.39.39.9.59 1.41.59.51 0 1.02-.2 1.41-.59l7.78-7.78 2.81-2.81c.8-.78.8-2.07 0-2.86zM5.41 20L4 18.59l7.72-7.72 1.47 1.35L5.41 20z\"/>\n",
              "  </svg>\n",
              "      </button>\n",
              "      \n",
              "  <style>\n",
              "    .colab-df-container {\n",
              "      display:flex;\n",
              "      flex-wrap:wrap;\n",
              "      gap: 12px;\n",
              "    }\n",
              "\n",
              "    .colab-df-convert {\n",
              "      background-color: #E8F0FE;\n",
              "      border: none;\n",
              "      border-radius: 50%;\n",
              "      cursor: pointer;\n",
              "      display: none;\n",
              "      fill: #1967D2;\n",
              "      height: 32px;\n",
              "      padding: 0 0 0 0;\n",
              "      width: 32px;\n",
              "    }\n",
              "\n",
              "    .colab-df-convert:hover {\n",
              "      background-color: #E2EBFA;\n",
              "      box-shadow: 0px 1px 2px rgba(60, 64, 67, 0.3), 0px 1px 3px 1px rgba(60, 64, 67, 0.15);\n",
              "      fill: #174EA6;\n",
              "    }\n",
              "\n",
              "    [theme=dark] .colab-df-convert {\n",
              "      background-color: #3B4455;\n",
              "      fill: #D2E3FC;\n",
              "    }\n",
              "\n",
              "    [theme=dark] .colab-df-convert:hover {\n",
              "      background-color: #434B5C;\n",
              "      box-shadow: 0px 1px 3px 1px rgba(0, 0, 0, 0.15);\n",
              "      filter: drop-shadow(0px 1px 2px rgba(0, 0, 0, 0.3));\n",
              "      fill: #FFFFFF;\n",
              "    }\n",
              "  </style>\n",
              "\n",
              "      <script>\n",
              "        const buttonEl =\n",
              "          document.querySelector('#df-b75362cb-e97a-46b8-a008-f54d8640b5cf button.colab-df-convert');\n",
              "        buttonEl.style.display =\n",
              "          google.colab.kernel.accessAllowed ? 'block' : 'none';\n",
              "\n",
              "        async function convertToInteractive(key) {\n",
              "          const element = document.querySelector('#df-b75362cb-e97a-46b8-a008-f54d8640b5cf');\n",
              "          const dataTable =\n",
              "            await google.colab.kernel.invokeFunction('convertToInteractive',\n",
              "                                                     [key], {});\n",
              "          if (!dataTable) return;\n",
              "\n",
              "          const docLinkHtml = 'Like what you see? Visit the ' +\n",
              "            '<a target=\"_blank\" href=https://colab.research.google.com/notebooks/data_table.ipynb>data table notebook</a>'\n",
              "            + ' to learn more about interactive tables.';\n",
              "          element.innerHTML = '';\n",
              "          dataTable['output_type'] = 'display_data';\n",
              "          await google.colab.output.renderOutput(dataTable, element);\n",
              "          const docLink = document.createElement('div');\n",
              "          docLink.innerHTML = docLinkHtml;\n",
              "          element.appendChild(docLink);\n",
              "        }\n",
              "      </script>\n",
              "    </div>\n",
              "  </div>\n",
              "  "
            ]
          },
          "metadata": {},
          "execution_count": 81
        }
      ]
    },
    {
      "cell_type": "code",
      "source": [
        "# 5. Visualize the test data samples which have the wrong prediction but highest pred probability\n",
        "\n",
        "def plot_top_wrong_preds(pred_df, n_images):\n",
        "\n",
        "  plt.figure(figsize=(12, 60))\n",
        "  \n",
        "  for i in range(n_images):\n",
        "    plt.subplot(n_images, 1, i + 1)\n",
        "    \n",
        "    img = load_and_prep_image(pred_df.iloc[i][\"img_path\"])\n",
        "    true_class = pred_df.iloc[i][\"y_true_classname\"]\n",
        "    pred_class = pred_df.iloc[i][\"y_pred_classname\"]\n",
        "    pred_prob = pred_df.iloc[i][\"pred_conf\"]\n",
        "\n",
        "    if true_class == pred_class:\n",
        "      title_color = \"g\"\n",
        "    else:\n",
        "      title_color = \"r\"\n",
        "\n",
        "    plt.imshow(img)\n",
        "    plt.title(f\"true: {true_class}, pred: {pred_class} ({(pred_prob * 100):.2f})\", \n",
        "              fontsize=10,\n",
        "              c=title_color)\n"
      ],
      "metadata": {
        "id": "JrPRUjJanOl0"
      },
      "execution_count": null,
      "outputs": []
    },
    {
      "cell_type": "code",
      "source": [
        "plot_top_wrong_preds(top_100_wrong, 10)"
      ],
      "metadata": {
        "id": "k03vG40JojnP"
      },
      "execution_count": null,
      "outputs": []
    },
    {
      "cell_type": "markdown",
      "source": [
        "## Test out the big dog model on our own custom images"
      ],
      "metadata": {
        "id": "uEIDeKUkonEo"
      }
    },
    {
      "cell_type": "code",
      "source": [
        "# Get custom images\n",
        "!wget https://storage.googleapis.com/ztm_tf_course/food_vision/custom_food_images.zip\n",
        "\n",
        "unzip_data(\"custom_food_images.zip\")"
      ],
      "metadata": {
        "colab": {
          "base_uri": "https://localhost:8080/"
        },
        "id": "-rA9xJHCsd_0",
        "outputId": "04196b74-bddc-401b-866a-94769a410f6a"
      },
      "execution_count": null,
      "outputs": [
        {
          "output_type": "stream",
          "name": "stdout",
          "text": [
            "--2023-04-03 19:58:19--  https://storage.googleapis.com/ztm_tf_course/food_vision/custom_food_images.zip\n",
            "Resolving storage.googleapis.com (storage.googleapis.com)... 74.125.143.128, 173.194.69.128, 173.194.79.128, ...\n",
            "Connecting to storage.googleapis.com (storage.googleapis.com)|74.125.143.128|:443... connected.\n",
            "HTTP request sent, awaiting response... 200 OK\n",
            "Length: 13192985 (13M) [application/zip]\n",
            "Saving to: ‘custom_food_images.zip’\n",
            "\n",
            "custom_food_images. 100%[===================>]  12.58M  13.6MB/s    in 0.9s    \n",
            "\n",
            "2023-04-03 19:58:20 (13.6 MB/s) - ‘custom_food_images.zip’ saved [13192985/13192985]\n",
            "\n"
          ]
        }
      ]
    },
    {
      "cell_type": "code",
      "source": [
        "# Get the custom food images filepaths\n",
        "custom_food_images = [\"custom_food_images/\" + img_path for img_path in os.listdir(\"custom_food_images\")]\n",
        "custom_food_images"
      ],
      "metadata": {
        "colab": {
          "base_uri": "https://localhost:8080/"
        },
        "id": "8nnjffaksu3i",
        "outputId": "83104fad-c17f-4e41-9a35-165bf7fb5c52"
      },
      "execution_count": null,
      "outputs": [
        {
          "output_type": "execute_result",
          "data": {
            "text/plain": [
              "['custom_food_images/steak.jpeg',\n",
              " 'custom_food_images/chicken_wings.jpeg',\n",
              " 'custom_food_images/ramen.jpeg',\n",
              " 'custom_food_images/pizza-dad.jpeg',\n",
              " 'custom_food_images/sushi.jpeg',\n",
              " 'custom_food_images/hamburger.jpeg']"
            ]
          },
          "metadata": {},
          "execution_count": 107
        }
      ]
    },
    {
      "cell_type": "code",
      "source": [
        "# Make and plot custom food images\n",
        "for img in custom_food_images:\n",
        "  img = load_and_prep_image(img, scale=False)\n",
        "  pred_prob = model.predict(tf.expand_dims(img, axis=0))\n",
        "  pred_class = class_names[pred_prob.argmax()]\n",
        "\n",
        "  # Plot the appropriate information\n",
        "  plt.figure()\n",
        "  plt.imshow(img/255.)\n",
        "  plt.title(f\"pred: {pred_class}, prob: {(pred_prob.max() * 100):.2f}%\")\n",
        "  plt.axis(False);"
      ],
      "metadata": {
        "id": "VStPHDB5s7RL"
      },
      "execution_count": null,
      "outputs": []
    },
    {
      "cell_type": "markdown",
      "source": [
        "# Exercises"
      ],
      "metadata": {
        "id": "HqvaWoWWtw5R"
      }
    },
    {
      "cell_type": "markdown",
      "source": [
        "1. Use feature-extraction to train a transfer learning model on 10% of the Food Vision data for 10 epochs using tf.keras.applications.EfficientNetB0 as the base model. Use the ModelCheckpoint callback to save the weights to file."
      ],
      "metadata": {
        "id": "1AzLlDXGMARK"
      }
    },
    {
      "cell_type": "code",
      "source": [
        "!wget https://raw.githubusercontent.com/mrdbourke/tensorflow-deep-learning/main/extras/helper_functions.py"
      ],
      "metadata": {
        "colab": {
          "base_uri": "https://localhost:8080/"
        },
        "id": "o5WmC5nrKU4l",
        "outputId": "1bc3272c-16c4-4d52-9fd5-4595ce7dc0e7"
      },
      "execution_count": 1,
      "outputs": [
        {
          "output_type": "stream",
          "name": "stdout",
          "text": [
            "--2023-04-04 07:27:24--  https://raw.githubusercontent.com/mrdbourke/tensorflow-deep-learning/main/extras/helper_functions.py\n",
            "Resolving raw.githubusercontent.com (raw.githubusercontent.com)... 185.199.108.133, 185.199.109.133, 185.199.110.133, ...\n",
            "Connecting to raw.githubusercontent.com (raw.githubusercontent.com)|185.199.108.133|:443... connected.\n",
            "HTTP request sent, awaiting response... 200 OK\n",
            "Length: 10246 (10K) [text/plain]\n",
            "Saving to: ‘helper_functions.py’\n",
            "\n",
            "helper_functions.py 100%[===================>]  10.01K  --.-KB/s    in 0s      \n",
            "\n",
            "2023-04-04 07:27:24 (77.3 MB/s) - ‘helper_functions.py’ saved [10246/10246]\n",
            "\n"
          ]
        }
      ]
    },
    {
      "cell_type": "code",
      "source": [
        "# Import series of helper functions for our notebook\n",
        "from helper_functions import create_tensorboard_callback, plot_loss_curves, unzip_data, compare_historys, walk_through_dir"
      ],
      "metadata": {
        "id": "wyeuHtZFKcmU"
      },
      "execution_count": 2,
      "outputs": []
    },
    {
      "cell_type": "code",
      "source": [
        "!wget https://storage.googleapis.com/ztm_tf_course/food_vision/101_food_classes_10_percent.zip"
      ],
      "metadata": {
        "colab": {
          "base_uri": "https://localhost:8080/"
        },
        "id": "NFITsEMhKeS0",
        "outputId": "186bed37-ab57-4982-a03d-3ea0628e93ba"
      },
      "execution_count": 3,
      "outputs": [
        {
          "output_type": "stream",
          "name": "stdout",
          "text": [
            "--2023-04-04 07:27:41--  https://storage.googleapis.com/ztm_tf_course/food_vision/101_food_classes_10_percent.zip\n",
            "Resolving storage.googleapis.com (storage.googleapis.com)... 74.125.200.128, 74.125.68.128, 74.125.24.128, ...\n",
            "Connecting to storage.googleapis.com (storage.googleapis.com)|74.125.200.128|:443... connected.\n",
            "HTTP request sent, awaiting response... 200 OK\n",
            "Length: 1625420029 (1.5G) [application/zip]\n",
            "Saving to: ‘101_food_classes_10_percent.zip’\n",
            "\n",
            "101_food_classes_10 100%[===================>]   1.51G  23.6MB/s    in 79s     \n",
            "\n",
            "2023-04-04 07:29:01 (19.7 MB/s) - ‘101_food_classes_10_percent.zip’ saved [1625420029/1625420029]\n",
            "\n"
          ]
        }
      ]
    },
    {
      "cell_type": "code",
      "source": [
        "unzip_data(\"101_food_classes_10_percent.zip\")\n",
        "\n",
        "train_dir = \"/content/101_food_classes_10_percent/train/\"\n",
        "test_dir = \"/content/101_food_classes_10_percent/test/\""
      ],
      "metadata": {
        "id": "pjOasZ6BKhFx"
      },
      "execution_count": 4,
      "outputs": []
    },
    {
      "cell_type": "code",
      "source": [
        "walk_through_dir(\"101_food_classes_10_percent\")"
      ],
      "metadata": {
        "id": "P9b8CcloKjWg"
      },
      "execution_count": null,
      "outputs": []
    },
    {
      "cell_type": "code",
      "source": [
        "# Setup data inputs\n",
        "import tensorflow as tf\n",
        "IMG_SIZE = (224, 224)\n",
        "\n",
        "train_data = tf.keras.preprocessing.image_dataset_from_directory(directory=train_dir,\n",
        "                                                                 image_size=IMG_SIZE,\n",
        "                                                                 batch_size=32,\n",
        "                                                                 label_mode=\"categorical\")\n",
        "\n",
        "test_data = tf.keras.preprocessing.image_dataset_from_directory(directory=test_dir,\n",
        "                                                                image_size=IMG_SIZE,\n",
        "                                                                batch_size=32,\n",
        "                                                                label_mode=\"categorical\")"
      ],
      "metadata": {
        "colab": {
          "base_uri": "https://localhost:8080/"
        },
        "id": "t59dxLodKm4T",
        "outputId": "d6c9a617-1c96-4b10-a526-1ff26a640f92"
      },
      "execution_count": 6,
      "outputs": [
        {
          "output_type": "stream",
          "name": "stdout",
          "text": [
            "Found 7575 files belonging to 101 classes.\n",
            "Found 25250 files belonging to 101 classes.\n"
          ]
        }
      ]
    },
    {
      "cell_type": "code",
      "source": [
        "tf.__version__"
      ],
      "metadata": {
        "colab": {
          "base_uri": "https://localhost:8080/",
          "height": 35
        },
        "id": "ITg59zYVLIKG",
        "outputId": "7e54c99b-4784-4353-8c1d-00ea8f9080fa"
      },
      "execution_count": 7,
      "outputs": [
        {
          "output_type": "execute_result",
          "data": {
            "text/plain": [
              "'2.12.0'"
            ],
            "application/vnd.google.colaboratory.intrinsic+json": {
              "type": "string"
            }
          },
          "metadata": {},
          "execution_count": 7
        }
      ]
    },
    {
      "cell_type": "code",
      "source": [
        "# Create checkpoint callback\n",
        "checkpoint_path = \"/content/101_classes_10_percent_data_model_checkpoint\"\n",
        "checkpoint_callback = tf.keras.callbacks.ModelCheckpoint(filepath=checkpoint_path,\n",
        "                                                         save_weights_only=True,\n",
        "                                                         monitor=\"val_accuracy\",\n",
        "                                                         save_best_only=True)"
      ],
      "metadata": {
        "id": "9EiV-4yELJn-"
      },
      "execution_count": 8,
      "outputs": []
    },
    {
      "cell_type": "code",
      "source": [
        "# Create data augumentation layer\n",
        "from tensorflow.keras import Sequential\n",
        "from tensorflow.keras.layers import RandomZoom, RandomWidth, RandomHeight, RandomRotation, RandomFlip\n",
        "\n",
        "data_augumentation = Sequential([\n",
        "    RandomZoom(0.2),\n",
        "    RandomWidth(0.2),\n",
        "    RandomHeight(0.2),\n",
        "    RandomRotation(0.2),\n",
        "    RandomFlip(\"horizontal\")\n",
        "])"
      ],
      "metadata": {
        "id": "iDuWQu6ELcgY"
      },
      "execution_count": 9,
      "outputs": []
    },
    {
      "cell_type": "code",
      "source": [
        "# Setup input shape and base model\n",
        "input_shape = (224, 224, 3)\n",
        "base_model = tf.keras.applications.EfficientNetB0(include_top=False)\n",
        "base_model.trainable = False\n",
        "\n",
        "inputs = tf.keras.layers.Input(shape=input_shape, name=\"input_layer\")\n",
        "x = data_augumentation(inputs)\n",
        "x = base_model(x, training=False)\n",
        "x = tf.keras.layers.GlobalAveragePooling2D(name=\"global_average_pooling_layer\")(x)\n",
        "outputs = tf.keras.layers.Dense(101, activation=\"softmax\", name=\"output_layer\")(x)\n",
        "\n",
        "model = tf.keras.Model(inputs, outputs)\n",
        "\n",
        "# Compile the model\n",
        "model.compile(loss=tf.keras.losses.CategoricalCrossentropy(),\n",
        "              optimizer=tf.keras.optimizers.Adam(),\n",
        "              metrics=[\"accuracy\"])\n",
        "\n",
        "# Fit the model\n",
        "history = model.fit(train_data,\n",
        "                    steps_per_epoch=len(train_data),\n",
        "                    epochs=10,\n",
        "                    validation_data=test_data,\n",
        "                    validation_steps=int(0.15 * len(test_data)),\n",
        "                    callbacks=[checkpoint_callback])"
      ],
      "metadata": {
        "colab": {
          "base_uri": "https://localhost:8080/"
        },
        "id": "iz1RrJiFLz_d",
        "outputId": "f4aa6d3f-0d7e-4993-bf8a-3128d8455d29"
      },
      "execution_count": 11,
      "outputs": [
        {
          "output_type": "stream",
          "name": "stdout",
          "text": [
            "Epoch 1/10\n",
            "237/237 [==============================] - 121s 434ms/step - loss: 3.3716 - accuracy: 0.2766 - val_loss: 2.3042 - val_accuracy: 0.4801\n",
            "Epoch 2/10\n",
            "237/237 [==============================] - 103s 435ms/step - loss: 2.2028 - accuracy: 0.4976 - val_loss: 1.8666 - val_accuracy: 0.5424\n",
            "Epoch 3/10\n",
            "237/237 [==============================] - 92s 382ms/step - loss: 1.8438 - accuracy: 0.5615 - val_loss: 1.7035 - val_accuracy: 0.5614\n",
            "Epoch 4/10\n",
            "237/237 [==============================] - 84s 349ms/step - loss: 1.6353 - accuracy: 0.6004 - val_loss: 1.6184 - val_accuracy: 0.5794\n",
            "Epoch 5/10\n",
            "237/237 [==============================] - 76s 316ms/step - loss: 1.4775 - accuracy: 0.6367 - val_loss: 1.5798 - val_accuracy: 0.5794\n",
            "Epoch 6/10\n",
            "237/237 [==============================] - 74s 311ms/step - loss: 1.3573 - accuracy: 0.6636 - val_loss: 1.5519 - val_accuracy: 0.5879\n",
            "Epoch 7/10\n",
            "237/237 [==============================] - 72s 299ms/step - loss: 1.2557 - accuracy: 0.6899 - val_loss: 1.5355 - val_accuracy: 0.5890\n",
            "Epoch 8/10\n",
            "237/237 [==============================] - 73s 305ms/step - loss: 1.1810 - accuracy: 0.7079 - val_loss: 1.5244 - val_accuracy: 0.5877\n",
            "Epoch 9/10\n",
            "237/237 [==============================] - 57s 237ms/step - loss: 1.1042 - accuracy: 0.7197 - val_loss: 1.5147 - val_accuracy: 0.5922\n",
            "Epoch 10/10\n",
            "237/237 [==============================] - 50s 208ms/step - loss: 1.0564 - accuracy: 0.7350 - val_loss: 1.5102 - val_accuracy: 0.5927\n"
          ]
        }
      ]
    },
    {
      "cell_type": "code",
      "source": [
        "# Evaluate model on full test dataset\n",
        "result_1 = model.evaluate(test_data)"
      ],
      "metadata": {
        "colab": {
          "base_uri": "https://localhost:8080/"
        },
        "id": "jOddyBapOhr6",
        "outputId": "644abc99-17ec-4966-f62e-773dd9f19644"
      },
      "execution_count": 13,
      "outputs": [
        {
          "output_type": "stream",
          "name": "stdout",
          "text": [
            "790/790 [==============================] - 75s 95ms/step - loss: 1.5142 - accuracy: 0.5931\n"
          ]
        }
      ]
    },
    {
      "cell_type": "code",
      "source": [
        "# Plot loss curves\n",
        "plot_loss_curves(history)"
      ],
      "metadata": {
        "colab": {
          "base_uri": "https://localhost:8080/",
          "height": 927
        },
        "id": "2nRWbC9XOjp2",
        "outputId": "082c89e6-9e25-4fb7-b426-89eb6d953c7a"
      },
      "execution_count": 14,
      "outputs": [
        {
          "output_type": "display_data",
          "data": {
            "text/plain": [
              "<Figure size 640x480 with 1 Axes>"
            ],
            "image/png": "[encoded data removed]"
          },
          "metadata": {}
        },
        {
          "output_type": "display_data",
          "data": {
            "text/plain": [
              "<Figure size 640x480 with 1 Axes>"
            ],
            "image/png": "[encoded data removed]"
          },
          "metadata": {}
        }
      ]
    },
    {
      "cell_type": "markdown",
      "source": [
        "## Fine tuning"
      ],
      "metadata": {
        "id": "ruRDZz3TNWuk"
      }
    },
    {
      "cell_type": "markdown",
      "source": [
        "Let's unfreeze top 20 layers and lower the learning rate"
      ],
      "metadata": {
        "id": "-TogAW9gOv7l"
      }
    },
    {
      "cell_type": "markdown",
      "source": [
        "2. Fine-tune the last 20 layers of the base model you trained in 2 for another 10 epochs. How did it go?"
      ],
      "metadata": {
        "id": "96exhPcrPvu1"
      }
    },
    {
      "cell_type": "code",
      "source": [
        "# Unfreeze all the layrs in the base model\n",
        "base_model.trainable = True\n",
        "\n",
        "# Refreeze every layer except the last 20\n",
        "for layer in base_model.layers[:-20]:\n",
        "  layer.trainable = False"
      ],
      "metadata": {
        "id": "nBrhsjHCMwnH"
      },
      "execution_count": 15,
      "outputs": []
    },
    {
      "cell_type": "code",
      "source": [
        "# Recompile model and lower learning rate\n",
        "model.compile(loss=tf.keras.losses.CategoricalCrossentropy(),\n",
        "              optimizer=tf.keras.optimizers.Adam(learning_rate=0.0001),\n",
        "              metrics=[\"accuracy\"])"
      ],
      "metadata": {
        "id": "0QfNrZloNqI-"
      },
      "execution_count": 19,
      "outputs": []
    },
    {
      "cell_type": "code",
      "source": [
        "# Fit the model from last epoch of previous fit\n",
        "initial_epochs = 10\n",
        "epochs = initial_epochs + 10\n",
        "\n",
        "history_2 = model.fit(train_data,\n",
        "                      steps_per_epoch=len(train_data),\n",
        "                      epochs=epochs,\n",
        "                      initial_epoch=history.epoch[-1],\n",
        "                      validation_data=test_data,\n",
        "                      validation_steps=int(0.15 * len(test_data)),\n",
        "                      callbacks=[checkpoint_callback])"
      ],
      "metadata": {
        "colab": {
          "base_uri": "https://localhost:8080/"
        },
        "id": "AJKOwlO-Ny1S",
        "outputId": "62262e3e-0dbc-41d2-a0f6-86ca5ba1eeac"
      },
      "execution_count": 20,
      "outputs": [
        {
          "output_type": "stream",
          "name": "stdout",
          "text": [
            "Epoch 10/20\n",
            "237/237 [==============================] - 64s 212ms/step - loss: 0.8670 - accuracy: 0.7630 - val_loss: 1.5374 - val_accuracy: 0.5959\n",
            "Epoch 11/20\n",
            "237/237 [==============================] - 48s 200ms/step - loss: 0.7207 - accuracy: 0.8000 - val_loss: 1.5614 - val_accuracy: 0.5998\n",
            "Epoch 12/20\n",
            "237/237 [==============================] - 43s 176ms/step - loss: 0.6187 - accuracy: 0.8276 - val_loss: 1.5910 - val_accuracy: 0.5990\n",
            "Epoch 13/20\n",
            "237/237 [==============================] - 43s 178ms/step - loss: 0.5453 - accuracy: 0.8422 - val_loss: 1.6211 - val_accuracy: 0.6030\n",
            "Epoch 14/20\n",
            "237/237 [==============================] - 42s 175ms/step - loss: 0.4792 - accuracy: 0.8663 - val_loss: 1.6632 - val_accuracy: 0.6012\n",
            "Epoch 15/20\n",
            "237/237 [==============================] - 42s 176ms/step - loss: 0.4299 - accuracy: 0.8759 - val_loss: 1.6954 - val_accuracy: 0.5988\n",
            "Epoch 16/20\n",
            "237/237 [==============================] - 43s 179ms/step - loss: 0.3744 - accuracy: 0.8943 - val_loss: 1.7239 - val_accuracy: 0.6020\n",
            "Epoch 17/20\n",
            "237/237 [==============================] - 40s 165ms/step - loss: 0.3199 - accuracy: 0.9073 - val_loss: 1.7773 - val_accuracy: 0.5956\n",
            "Epoch 18/20\n",
            "237/237 [==============================] - 42s 175ms/step - loss: 0.2826 - accuracy: 0.9185 - val_loss: 1.7720 - val_accuracy: 0.6075\n",
            "Epoch 19/20\n",
            "237/237 [==============================] - 40s 170ms/step - loss: 0.2565 - accuracy: 0.9283 - val_loss: 1.8855 - val_accuracy: 0.5906\n",
            "Epoch 20/20\n",
            "237/237 [==============================] - 38s 160ms/step - loss: 0.2193 - accuracy: 0.9380 - val_loss: 1.9214 - val_accuracy: 0.5953\n"
          ]
        }
      ]
    },
    {
      "cell_type": "code",
      "source": [
        "# Evaluate model on full test dataset\n",
        "result_2 = model.evaluate(test_data)"
      ],
      "metadata": {
        "colab": {
          "base_uri": "https://localhost:8080/"
        },
        "id": "I-PWkc-AOOjB",
        "outputId": "7882e56a-9697-4156-f18a-56fd9856d495"
      },
      "execution_count": 17,
      "outputs": [
        {
          "output_type": "stream",
          "name": "stdout",
          "text": [
            "790/790 [==============================] - 66s 82ms/step - loss: 1.5142 - accuracy: 0.5931\n"
          ]
        }
      ]
    },
    {
      "cell_type": "code",
      "source": [
        "# Compare historys\n",
        "compare_historys(history, history_2)"
      ],
      "metadata": {
        "colab": {
          "base_uri": "https://localhost:8080/",
          "height": 718
        },
        "id": "dtxWmfXlOUlz",
        "outputId": "616232e6-73d2-47bd-b88b-943bce4086a0"
      },
      "execution_count": 21,
      "outputs": [
        {
          "output_type": "display_data",
          "data": {
            "text/plain": [
              "<Figure size 800x800 with 2 Axes>"
            ],
            "image/png": "[encoded data removed]"
          },
          "metadata": {}
        }
      ]
    },
    {
      "cell_type": "markdown",
      "source": [
        "Let's now unfreeze top 30 layers and again lower the learning rate"
      ],
      "metadata": {
        "id": "30OgUq4cOslY"
      }
    },
    {
      "cell_type": "markdown",
      "source": [
        "3. Fine-tune the last 30 layers of the base model you trained in 2 for another 10 epochs. How did it go?"
      ],
      "metadata": {
        "id": "l08XnwYwPy_Q"
      }
    },
    {
      "cell_type": "code",
      "source": [
        "# Unfreeze all layers\n",
        "base_model.trainable = True\n",
        "\n",
        "# Freeze all the layers except top 30\n",
        "for layer in base_model.layers[:-30]:\n",
        "  layer.trainable = True"
      ],
      "metadata": {
        "id": "xQBQhIV1O3SE"
      },
      "execution_count": 22,
      "outputs": []
    },
    {
      "cell_type": "code",
      "source": [
        "# Recompile the model\n",
        "model.compile(loss=tf.keras.losses.CategoricalCrossentropy(),\n",
        "              optimizer=tf.keras.optimizers.Adam(learning_rate=0.000025),\n",
        "              metrics=[\"accuracy\"])"
      ],
      "metadata": {
        "id": "bYj096pmPAhK"
      },
      "execution_count": 23,
      "outputs": []
    },
    {
      "cell_type": "code",
      "source": [
        "initial_epochs = 20\n",
        "epochs = initial_epochs + 10\n",
        "\n",
        "# Fit the model\n",
        "history_3 = model.fit(train_data,\n",
        "                      steps_per_epoch=len(train_data),\n",
        "                      epochs=epochs,\n",
        "                      initial_epoch=history_2.epoch[-1],\n",
        "                      validation_data=test_data,\n",
        "                      validation_steps=int(0.15 * len(test_data)),\n",
        "                      callbacks=[checkpoint_callback])"
      ],
      "metadata": {
        "colab": {
          "base_uri": "https://localhost:8080/"
        },
        "id": "0V2MsY_APLbu",
        "outputId": "c04033e4-efff-4390-e23e-767e53d59e92"
      },
      "execution_count": 26,
      "outputs": [
        {
          "output_type": "stream",
          "name": "stdout",
          "text": [
            "Epoch 20/30\n",
            "237/237 [==============================] - 297s 1s/step - loss: 0.1850 - accuracy: 0.9469 - val_loss: 1.9647 - val_accuracy: 0.6020\n",
            "Epoch 21/30\n",
            "237/237 [==============================] - 204s 857ms/step - loss: 0.1574 - accuracy: 0.9554 - val_loss: 1.9667 - val_accuracy: 0.6038\n",
            "Epoch 22/30\n",
            "237/237 [==============================] - 173s 729ms/step - loss: 0.1312 - accuracy: 0.9622 - val_loss: 1.9905 - val_accuracy: 0.6046\n",
            "Epoch 23/30\n",
            "237/237 [==============================] - 170s 714ms/step - loss: 0.1227 - accuracy: 0.9671 - val_loss: 2.0690 - val_accuracy: 0.6110\n",
            "Epoch 24/30\n",
            "237/237 [==============================] - 144s 605ms/step - loss: 0.1283 - accuracy: 0.9633 - val_loss: 2.0051 - val_accuracy: 0.6133\n",
            "Epoch 25/30\n",
            "237/237 [==============================] - 141s 593ms/step - loss: 0.0934 - accuracy: 0.9757 - val_loss: 2.0382 - val_accuracy: 0.6160\n",
            "Epoch 26/30\n",
            "237/237 [==============================] - 137s 576ms/step - loss: 0.0892 - accuracy: 0.9760 - val_loss: 2.1908 - val_accuracy: 0.6046\n",
            "Epoch 27/30\n",
            "237/237 [==============================] - 130s 544ms/step - loss: 0.0862 - accuracy: 0.9753 - val_loss: 2.1534 - val_accuracy: 0.6083\n",
            "Epoch 28/30\n",
            "237/237 [==============================] - 125s 525ms/step - loss: 0.0727 - accuracy: 0.9810 - val_loss: 2.1779 - val_accuracy: 0.6123\n",
            "Epoch 29/30\n",
            "237/237 [==============================] - 121s 510ms/step - loss: 0.0724 - accuracy: 0.9807 - val_loss: 2.2528 - val_accuracy: 0.6083\n",
            "Epoch 30/30\n",
            "237/237 [==============================] - 121s 511ms/step - loss: 0.0688 - accuracy: 0.9805 - val_loss: 2.2724 - val_accuracy: 0.6009\n"
          ]
        }
      ]
    },
    {
      "cell_type": "code",
      "source": [
        "# Evaluate on full test data\n",
        "result_3 = model.evaluate(test_data)"
      ],
      "metadata": {
        "colab": {
          "base_uri": "https://localhost:8080/"
        },
        "id": "xLVb518lPfWn",
        "outputId": "458cf9a5-12ce-4937-f01e-f3401b3702ec"
      },
      "execution_count": 27,
      "outputs": [
        {
          "output_type": "stream",
          "name": "stdout",
          "text": [
            "790/790 [==============================] - 73s 92ms/step - loss: 2.2342 - accuracy: 0.6022\n"
          ]
        }
      ]
    },
    {
      "cell_type": "code",
      "source": [
        "# Compare historys\n",
        "compare_historys(history_2, history_3)"
      ],
      "metadata": {
        "colab": {
          "base_uri": "https://localhost:8080/",
          "height": 718
        },
        "id": "P-xyXJCRPjHF",
        "outputId": "5be7a9e5-cfe7-4084-8b90-771a6ea55aa1"
      },
      "execution_count": 28,
      "outputs": [
        {
          "output_type": "display_data",
          "data": {
            "text/plain": [
              "<Figure size 800x800 with 2 Axes>"
            ],
            "image/png": "[encoded data removed]"
          },
          "metadata": {}
        }
      ]
    },
    {
      "cell_type": "code",
      "source": [],
      "metadata": {
        "id": "ageauqTVbt-X"
      },
      "execution_count": null,
      "outputs": []
    }
  ]
}