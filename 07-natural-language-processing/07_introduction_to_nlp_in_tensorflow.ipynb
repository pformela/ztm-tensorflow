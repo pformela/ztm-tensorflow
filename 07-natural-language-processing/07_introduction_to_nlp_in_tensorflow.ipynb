{
  "nbformat": 4,
  "nbformat_minor": 0,
  "metadata": {
    "colab": {
      "provenance": []
    },
    "kernelspec": {
      "name": "python3",
      "display_name": "Python 3"
    },
    "language_info": {
      "name": "python"
    },
    "accelerator": "GPU",
    "gpuClass": "standard"
  },
  "cells": [
    {
      "cell_type": "markdown",
      "source": [
        "# Introduction to NLP fundamentals in TensorFlow\n",
        "\n",
        "NLP has the goal of deriving information our of natural language (could be text or speech).\n",
        "\n",
        "Another common term for NLP problems is sequence to sequence problems (seq2seq)."
      ],
      "metadata": {
        "id": "W0BNcHmOYJyg"
      }
    },
    {
      "cell_type": "markdown",
      "source": [
        "## Check for GPU"
      ],
      "metadata": {
        "id": "t6OGuu1keZjd"
      }
    },
    {
      "cell_type": "code",
      "source": [
        "!nvidia-smi -L"
      ],
      "metadata": {
        "colab": {
          "base_uri": "https://localhost:8080/"
        },
        "id": "-Ik1Mk63egOX",
        "outputId": "49455abc-d73d-4c39-8718-1e76dd225a35"
      },
      "execution_count": 1,
      "outputs": [
        {
          "output_type": "stream",
          "name": "stdout",
          "text": [
            "GPU 0: Tesla T4 (UUID: GPU-e14c7b80-c091-4014-ffa1-d9dd9d82ac17)\n"
          ]
        }
      ]
    },
    {
      "cell_type": "code",
      "source": [
        "!wget https://raw.githubusercontent.com/mrdbourke/tensorflow-deep-learning/main/extras/helper_functions.py\n",
        "\n",
        "# Import series of helper functions for the notebook\n",
        "from helper_functions import unzip_data, create_tensorboard_callback, plot_loss_curves, compare_historys"
      ],
      "metadata": {
        "colab": {
          "base_uri": "https://localhost:8080/"
        },
        "id": "uiGpz0yFehcl",
        "outputId": "c403408d-b5fe-4a31-a0a6-0b904af329a3"
      },
      "execution_count": 2,
      "outputs": [
        {
          "output_type": "stream",
          "name": "stdout",
          "text": [
            "--2023-04-16 08:44:56--  https://raw.githubusercontent.com/mrdbourke/tensorflow-deep-learning/main/extras/helper_functions.py\n",
            "Resolving raw.githubusercontent.com (raw.githubusercontent.com)... 185.199.108.133, 185.199.109.133, 185.199.110.133, ...\n",
            "Connecting to raw.githubusercontent.com (raw.githubusercontent.com)|185.199.108.133|:443... connected.\n",
            "HTTP request sent, awaiting response... 200 OK\n",
            "Length: 10246 (10K) [text/plain]\n",
            "Saving to: ‘helper_functions.py’\n",
            "\n",
            "helper_functions.py 100%[===================>]  10.01K  --.-KB/s    in 0s      \n",
            "\n",
            "2023-04-16 08:44:56 (90.2 MB/s) - ‘helper_functions.py’ saved [10246/10246]\n",
            "\n"
          ]
        }
      ]
    },
    {
      "cell_type": "markdown",
      "source": [
        "## Get a text dataset\n",
        "\n",
        "The dataset we're going to be using is Kaggle's introduction to NLP dataset (text samples of Tweets labelled as disaster or not disaster)."
      ],
      "metadata": {
        "id": "KGD2InMve-Vy"
      }
    },
    {
      "cell_type": "code",
      "source": [
        "!wget https://storage.googleapis.com/ztm_tf_course/nlp_getting_started.zip\n",
        "\n",
        "# Unzip data\n",
        "unzip_data(\"nlp_getting_started.zip\")"
      ],
      "metadata": {
        "colab": {
          "base_uri": "https://localhost:8080/"
        },
        "id": "V_G7umLgfCkq",
        "outputId": "43cdc253-9cf5-4ca2-ac30-c03f67320e47"
      },
      "execution_count": 3,
      "outputs": [
        {
          "output_type": "stream",
          "name": "stdout",
          "text": [
            "--2023-04-16 08:45:02--  https://storage.googleapis.com/ztm_tf_course/nlp_getting_started.zip\n",
            "Resolving storage.googleapis.com (storage.googleapis.com)... 173.194.196.128, 173.194.197.128, 64.233.191.128, ...\n",
            "Connecting to storage.googleapis.com (storage.googleapis.com)|173.194.196.128|:443... connected.\n",
            "HTTP request sent, awaiting response... 200 OK\n",
            "Length: 607343 (593K) [application/zip]\n",
            "Saving to: ‘nlp_getting_started.zip’\n",
            "\n",
            "\rnlp_getting_started   0%[                    ]       0  --.-KB/s               \rnlp_getting_started 100%[===================>] 593.11K  --.-KB/s    in 0.006s  \n",
            "\n",
            "2023-04-16 08:45:02 (91.3 MB/s) - ‘nlp_getting_started.zip’ saved [607343/607343]\n",
            "\n"
          ]
        }
      ]
    },
    {
      "cell_type": "markdown",
      "source": [
        "## Visualizing a text dataset"
      ],
      "metadata": {
        "id": "DP4eueCofhLG"
      }
    },
    {
      "cell_type": "code",
      "source": [
        "import pandas as pd\n",
        "\n",
        "train_df = pd.read_csv(\"train.csv\")\n",
        "test_df = pd.read_csv(\"test.csv\")\n",
        "\n",
        "train_df.head(5)"
      ],
      "metadata": {
        "colab": {
          "base_uri": "https://localhost:8080/",
          "height": 206
        },
        "id": "ydRHl-6jfyoP",
        "outputId": "b96cb837-1ba2-407f-e88a-b298f5b22945"
      },
      "execution_count": 4,
      "outputs": [
        {
          "output_type": "execute_result",
          "data": {
            "text/plain": [
              "   id keyword location                                               text  \\\n",
              "0   1     NaN      NaN  Our Deeds are the Reason of this #earthquake M...   \n",
              "1   4     NaN      NaN             Forest fire near La Ronge Sask. Canada   \n",
              "2   5     NaN      NaN  All residents asked to 'shelter in place' are ...   \n",
              "3   6     NaN      NaN  13,000 people receive #wildfires evacuation or...   \n",
              "4   7     NaN      NaN  Just got sent this photo from Ruby #Alaska as ...   \n",
              "\n",
              "   target  \n",
              "0       1  \n",
              "1       1  \n",
              "2       1  \n",
              "3       1  \n",
              "4       1  "
            ],
            "text/html": [
              "\n",
              "  <div id=\"df-c19059f0-6b7a-4a82-9ec1-b495dfa24499\">\n",
              "    <div class=\"colab-df-container\">\n",
              "      <div>\n",
              "<style scoped>\n",
              "    .dataframe tbody tr th:only-of-type {\n",
              "        vertical-align: middle;\n",
              "    }\n",
              "\n",
              "    .dataframe tbody tr th {\n",
              "        vertical-align: top;\n",
              "    }\n",
              "\n",
              "    .dataframe thead th {\n",
              "        text-align: right;\n",
              "    }\n",
              "</style>\n",
              "<table border=\"1\" class=\"dataframe\">\n",
              "  <thead>\n",
              "    <tr style=\"text-align: right;\">\n",
              "      <th></th>\n",
              "      <th>id</th>\n",
              "      <th>keyword</th>\n",
              "      <th>location</th>\n",
              "      <th>text</th>\n",
              "      <th>target</th>\n",
              "    </tr>\n",
              "  </thead>\n",
              "  <tbody>\n",
              "    <tr>\n",
              "      <th>0</th>\n",
              "      <td>1</td>\n",
              "      <td>NaN</td>\n",
              "      <td>NaN</td>\n",
              "      <td>Our Deeds are the Reason of this #earthquake M...</td>\n",
              "      <td>1</td>\n",
              "    </tr>\n",
              "    <tr>\n",
              "      <th>1</th>\n",
              "      <td>4</td>\n",
              "      <td>NaN</td>\n",
              "      <td>NaN</td>\n",
              "      <td>Forest fire near La Ronge Sask. Canada</td>\n",
              "      <td>1</td>\n",
              "    </tr>\n",
              "    <tr>\n",
              "      <th>2</th>\n",
              "      <td>5</td>\n",
              "      <td>NaN</td>\n",
              "      <td>NaN</td>\n",
              "      <td>All residents asked to 'shelter in place' are ...</td>\n",
              "      <td>1</td>\n",
              "    </tr>\n",
              "    <tr>\n",
              "      <th>3</th>\n",
              "      <td>6</td>\n",
              "      <td>NaN</td>\n",
              "      <td>NaN</td>\n",
              "      <td>13,000 people receive #wildfires evacuation or...</td>\n",
              "      <td>1</td>\n",
              "    </tr>\n",
              "    <tr>\n",
              "      <th>4</th>\n",
              "      <td>7</td>\n",
              "      <td>NaN</td>\n",
              "      <td>NaN</td>\n",
              "      <td>Just got sent this photo from Ruby #Alaska as ...</td>\n",
              "      <td>1</td>\n",
              "    </tr>\n",
              "  </tbody>\n",
              "</table>\n",
              "</div>\n",
              "      <button class=\"colab-df-convert\" onclick=\"convertToInteractive('df-c19059f0-6b7a-4a82-9ec1-b495dfa24499')\"\n",
              "              title=\"Convert this dataframe to an interactive table.\"\n",
              "              style=\"display:none;\">\n",
              "        \n",
              "  <svg xmlns=\"http://www.w3.org/2000/svg\" height=\"24px\"viewBox=\"0 0 24 24\"\n",
              "       width=\"24px\">\n",
              "    <path d=\"M0 0h24v24H0V0z\" fill=\"none\"/>\n",
              "    <path d=\"M18.56 5.44l.94 2.06.94-2.06 2.06-.94-2.06-.94-.94-2.06-.94 2.06-2.06.94zm-11 1L8.5 8.5l.94-2.06 2.06-.94-2.06-.94L8.5 2.5l-.94 2.06-2.06.94zm10 10l.94 2.06.94-2.06 2.06-.94-2.06-.94-.94-2.06-.94 2.06-2.06.94z\"/><path d=\"M17.41 7.96l-1.37-1.37c-.4-.4-.92-.59-1.43-.59-.52 0-1.04.2-1.43.59L10.3 9.45l-7.72 7.72c-.78.78-.78 2.05 0 2.83L4 21.41c.39.39.9.59 1.41.59.51 0 1.02-.2 1.41-.59l7.78-7.78 2.81-2.81c.8-.78.8-2.07 0-2.86zM5.41 20L4 18.59l7.72-7.72 1.47 1.35L5.41 20z\"/>\n",
              "  </svg>\n",
              "      </button>\n",
              "      \n",
              "  <style>\n",
              "    .colab-df-container {\n",
              "      display:flex;\n",
              "      flex-wrap:wrap;\n",
              "      gap: 12px;\n",
              "    }\n",
              "\n",
              "    .colab-df-convert {\n",
              "      background-color: #E8F0FE;\n",
              "      border: none;\n",
              "      border-radius: 50%;\n",
              "      cursor: pointer;\n",
              "      display: none;\n",
              "      fill: #1967D2;\n",
              "      height: 32px;\n",
              "      padding: 0 0 0 0;\n",
              "      width: 32px;\n",
              "    }\n",
              "\n",
              "    .colab-df-convert:hover {\n",
              "      background-color: #E2EBFA;\n",
              "      box-shadow: 0px 1px 2px rgba(60, 64, 67, 0.3), 0px 1px 3px 1px rgba(60, 64, 67, 0.15);\n",
              "      fill: #174EA6;\n",
              "    }\n",
              "\n",
              "    [theme=dark] .colab-df-convert {\n",
              "      background-color: #3B4455;\n",
              "      fill: #D2E3FC;\n",
              "    }\n",
              "\n",
              "    [theme=dark] .colab-df-convert:hover {\n",
              "      background-color: #434B5C;\n",
              "      box-shadow: 0px 1px 3px 1px rgba(0, 0, 0, 0.15);\n",
              "      filter: drop-shadow(0px 1px 2px rgba(0, 0, 0, 0.3));\n",
              "      fill: #FFFFFF;\n",
              "    }\n",
              "  </style>\n",
              "\n",
              "      <script>\n",
              "        const buttonEl =\n",
              "          document.querySelector('#df-c19059f0-6b7a-4a82-9ec1-b495dfa24499 button.colab-df-convert');\n",
              "        buttonEl.style.display =\n",
              "          google.colab.kernel.accessAllowed ? 'block' : 'none';\n",
              "\n",
              "        async function convertToInteractive(key) {\n",
              "          const element = document.querySelector('#df-c19059f0-6b7a-4a82-9ec1-b495dfa24499');\n",
              "          const dataTable =\n",
              "            await google.colab.kernel.invokeFunction('convertToInteractive',\n",
              "                                                     [key], {});\n",
              "          if (!dataTable) return;\n",
              "\n",
              "          const docLinkHtml = 'Like what you see? Visit the ' +\n",
              "            '<a target=\"_blank\" href=https://colab.research.google.com/notebooks/data_table.ipynb>data table notebook</a>'\n",
              "            + ' to learn more about interactive tables.';\n",
              "          element.innerHTML = '';\n",
              "          dataTable['output_type'] = 'display_data';\n",
              "          await google.colab.output.renderOutput(dataTable, element);\n",
              "          const docLink = document.createElement('div');\n",
              "          docLink.innerHTML = docLinkHtml;\n",
              "          element.appendChild(docLink);\n",
              "        }\n",
              "      </script>\n",
              "    </div>\n",
              "  </div>\n",
              "  "
            ]
          },
          "metadata": {},
          "execution_count": 4
        }
      ]
    },
    {
      "cell_type": "code",
      "source": [
        "# Shuffle training dataframe\n",
        "train_df_shuffled = train_df.sample(frac=1, random_state=42)\n",
        "train_df_shuffled.head()"
      ],
      "metadata": {
        "colab": {
          "base_uri": "https://localhost:8080/",
          "height": 206
        },
        "id": "N2tRz841ga3f",
        "outputId": "87711cec-762f-4dfc-c593-b68490eb1283"
      },
      "execution_count": 5,
      "outputs": [
        {
          "output_type": "execute_result",
          "data": {
            "text/plain": [
              "        id      keyword               location  \\\n",
              "2644  3796  destruction                    NaN   \n",
              "2227  3185       deluge                    NaN   \n",
              "5448  7769       police                     UK   \n",
              "132    191   aftershock                    NaN   \n",
              "6845  9810       trauma  Montgomery County, MD   \n",
              "\n",
              "                                                   text  target  \n",
              "2644  So you have a new weapon that can cause un-ima...       1  \n",
              "2227  The f$&amp;@ing things I do for #GISHWHES Just...       0  \n",
              "5448  DT @georgegalloway: RT @Galloway4Mayor: ÛÏThe...       1  \n",
              "132   Aftershock back to school kick off was great. ...       0  \n",
              "6845  in response to trauma Children of Addicts deve...       0  "
            ],
            "text/html": [
              "\n",
              "  <div id=\"df-c3f1e81a-05cd-42f2-9138-703b7442b060\">\n",
              "    <div class=\"colab-df-container\">\n",
              "      <div>\n",
              "<style scoped>\n",
              "    .dataframe tbody tr th:only-of-type {\n",
              "        vertical-align: middle;\n",
              "    }\n",
              "\n",
              "    .dataframe tbody tr th {\n",
              "        vertical-align: top;\n",
              "    }\n",
              "\n",
              "    .dataframe thead th {\n",
              "        text-align: right;\n",
              "    }\n",
              "</style>\n",
              "<table border=\"1\" class=\"dataframe\">\n",
              "  <thead>\n",
              "    <tr style=\"text-align: right;\">\n",
              "      <th></th>\n",
              "      <th>id</th>\n",
              "      <th>keyword</th>\n",
              "      <th>location</th>\n",
              "      <th>text</th>\n",
              "      <th>target</th>\n",
              "    </tr>\n",
              "  </thead>\n",
              "  <tbody>\n",
              "    <tr>\n",
              "      <th>2644</th>\n",
              "      <td>3796</td>\n",
              "      <td>destruction</td>\n",
              "      <td>NaN</td>\n",
              "      <td>So you have a new weapon that can cause un-ima...</td>\n",
              "      <td>1</td>\n",
              "    </tr>\n",
              "    <tr>\n",
              "      <th>2227</th>\n",
              "      <td>3185</td>\n",
              "      <td>deluge</td>\n",
              "      <td>NaN</td>\n",
              "      <td>The f$&amp;amp;@ing things I do for #GISHWHES Just...</td>\n",
              "      <td>0</td>\n",
              "    </tr>\n",
              "    <tr>\n",
              "      <th>5448</th>\n",
              "      <td>7769</td>\n",
              "      <td>police</td>\n",
              "      <td>UK</td>\n",
              "      <td>DT @georgegalloway: RT @Galloway4Mayor: ÛÏThe...</td>\n",
              "      <td>1</td>\n",
              "    </tr>\n",
              "    <tr>\n",
              "      <th>132</th>\n",
              "      <td>191</td>\n",
              "      <td>aftershock</td>\n",
              "      <td>NaN</td>\n",
              "      <td>Aftershock back to school kick off was great. ...</td>\n",
              "      <td>0</td>\n",
              "    </tr>\n",
              "    <tr>\n",
              "      <th>6845</th>\n",
              "      <td>9810</td>\n",
              "      <td>trauma</td>\n",
              "      <td>Montgomery County, MD</td>\n",
              "      <td>in response to trauma Children of Addicts deve...</td>\n",
              "      <td>0</td>\n",
              "    </tr>\n",
              "  </tbody>\n",
              "</table>\n",
              "</div>\n",
              "      <button class=\"colab-df-convert\" onclick=\"convertToInteractive('df-c3f1e81a-05cd-42f2-9138-703b7442b060')\"\n",
              "              title=\"Convert this dataframe to an interactive table.\"\n",
              "              style=\"display:none;\">\n",
              "        \n",
              "  <svg xmlns=\"http://www.w3.org/2000/svg\" height=\"24px\"viewBox=\"0 0 24 24\"\n",
              "       width=\"24px\">\n",
              "    <path d=\"M0 0h24v24H0V0z\" fill=\"none\"/>\n",
              "    <path d=\"M18.56 5.44l.94 2.06.94-2.06 2.06-.94-2.06-.94-.94-2.06-.94 2.06-2.06.94zm-11 1L8.5 8.5l.94-2.06 2.06-.94-2.06-.94L8.5 2.5l-.94 2.06-2.06.94zm10 10l.94 2.06.94-2.06 2.06-.94-2.06-.94-.94-2.06-.94 2.06-2.06.94z\"/><path d=\"M17.41 7.96l-1.37-1.37c-.4-.4-.92-.59-1.43-.59-.52 0-1.04.2-1.43.59L10.3 9.45l-7.72 7.72c-.78.78-.78 2.05 0 2.83L4 21.41c.39.39.9.59 1.41.59.51 0 1.02-.2 1.41-.59l7.78-7.78 2.81-2.81c.8-.78.8-2.07 0-2.86zM5.41 20L4 18.59l7.72-7.72 1.47 1.35L5.41 20z\"/>\n",
              "  </svg>\n",
              "      </button>\n",
              "      \n",
              "  <style>\n",
              "    .colab-df-container {\n",
              "      display:flex;\n",
              "      flex-wrap:wrap;\n",
              "      gap: 12px;\n",
              "    }\n",
              "\n",
              "    .colab-df-convert {\n",
              "      background-color: #E8F0FE;\n",
              "      border: none;\n",
              "      border-radius: 50%;\n",
              "      cursor: pointer;\n",
              "      display: none;\n",
              "      fill: #1967D2;\n",
              "      height: 32px;\n",
              "      padding: 0 0 0 0;\n",
              "      width: 32px;\n",
              "    }\n",
              "\n",
              "    .colab-df-convert:hover {\n",
              "      background-color: #E2EBFA;\n",
              "      box-shadow: 0px 1px 2px rgba(60, 64, 67, 0.3), 0px 1px 3px 1px rgba(60, 64, 67, 0.15);\n",
              "      fill: #174EA6;\n",
              "    }\n",
              "\n",
              "    [theme=dark] .colab-df-convert {\n",
              "      background-color: #3B4455;\n",
              "      fill: #D2E3FC;\n",
              "    }\n",
              "\n",
              "    [theme=dark] .colab-df-convert:hover {\n",
              "      background-color: #434B5C;\n",
              "      box-shadow: 0px 1px 3px 1px rgba(0, 0, 0, 0.15);\n",
              "      filter: drop-shadow(0px 1px 2px rgba(0, 0, 0, 0.3));\n",
              "      fill: #FFFFFF;\n",
              "    }\n",
              "  </style>\n",
              "\n",
              "      <script>\n",
              "        const buttonEl =\n",
              "          document.querySelector('#df-c3f1e81a-05cd-42f2-9138-703b7442b060 button.colab-df-convert');\n",
              "        buttonEl.style.display =\n",
              "          google.colab.kernel.accessAllowed ? 'block' : 'none';\n",
              "\n",
              "        async function convertToInteractive(key) {\n",
              "          const element = document.querySelector('#df-c3f1e81a-05cd-42f2-9138-703b7442b060');\n",
              "          const dataTable =\n",
              "            await google.colab.kernel.invokeFunction('convertToInteractive',\n",
              "                                                     [key], {});\n",
              "          if (!dataTable) return;\n",
              "\n",
              "          const docLinkHtml = 'Like what you see? Visit the ' +\n",
              "            '<a target=\"_blank\" href=https://colab.research.google.com/notebooks/data_table.ipynb>data table notebook</a>'\n",
              "            + ' to learn more about interactive tables.';\n",
              "          element.innerHTML = '';\n",
              "          dataTable['output_type'] = 'display_data';\n",
              "          await google.colab.output.renderOutput(dataTable, element);\n",
              "          const docLink = document.createElement('div');\n",
              "          docLink.innerHTML = docLinkHtml;\n",
              "          element.appendChild(docLink);\n",
              "        }\n",
              "      </script>\n",
              "    </div>\n",
              "  </div>\n",
              "  "
            ]
          },
          "metadata": {},
          "execution_count": 5
        }
      ]
    },
    {
      "cell_type": "code",
      "source": [
        "test_df.head()"
      ],
      "metadata": {
        "colab": {
          "base_uri": "https://localhost:8080/",
          "height": 206
        },
        "id": "KRPxgMVQgzhf",
        "outputId": "717fb215-8682-4b0b-b154-ea67ba09692d"
      },
      "execution_count": 6,
      "outputs": [
        {
          "output_type": "execute_result",
          "data": {
            "text/plain": [
              "   id keyword location                                               text\n",
              "0   0     NaN      NaN                 Just happened a terrible car crash\n",
              "1   2     NaN      NaN  Heard about #earthquake is different cities, s...\n",
              "2   3     NaN      NaN  there is a forest fire at spot pond, geese are...\n",
              "3   9     NaN      NaN           Apocalypse lighting. #Spokane #wildfires\n",
              "4  11     NaN      NaN      Typhoon Soudelor kills 28 in China and Taiwan"
            ],
            "text/html": [
              "\n",
              "  <div id=\"df-ff600e80-356d-44de-8d89-50000c385d1e\">\n",
              "    <div class=\"colab-df-container\">\n",
              "      <div>\n",
              "<style scoped>\n",
              "    .dataframe tbody tr th:only-of-type {\n",
              "        vertical-align: middle;\n",
              "    }\n",
              "\n",
              "    .dataframe tbody tr th {\n",
              "        vertical-align: top;\n",
              "    }\n",
              "\n",
              "    .dataframe thead th {\n",
              "        text-align: right;\n",
              "    }\n",
              "</style>\n",
              "<table border=\"1\" class=\"dataframe\">\n",
              "  <thead>\n",
              "    <tr style=\"text-align: right;\">\n",
              "      <th></th>\n",
              "      <th>id</th>\n",
              "      <th>keyword</th>\n",
              "      <th>location</th>\n",
              "      <th>text</th>\n",
              "    </tr>\n",
              "  </thead>\n",
              "  <tbody>\n",
              "    <tr>\n",
              "      <th>0</th>\n",
              "      <td>0</td>\n",
              "      <td>NaN</td>\n",
              "      <td>NaN</td>\n",
              "      <td>Just happened a terrible car crash</td>\n",
              "    </tr>\n",
              "    <tr>\n",
              "      <th>1</th>\n",
              "      <td>2</td>\n",
              "      <td>NaN</td>\n",
              "      <td>NaN</td>\n",
              "      <td>Heard about #earthquake is different cities, s...</td>\n",
              "    </tr>\n",
              "    <tr>\n",
              "      <th>2</th>\n",
              "      <td>3</td>\n",
              "      <td>NaN</td>\n",
              "      <td>NaN</td>\n",
              "      <td>there is a forest fire at spot pond, geese are...</td>\n",
              "    </tr>\n",
              "    <tr>\n",
              "      <th>3</th>\n",
              "      <td>9</td>\n",
              "      <td>NaN</td>\n",
              "      <td>NaN</td>\n",
              "      <td>Apocalypse lighting. #Spokane #wildfires</td>\n",
              "    </tr>\n",
              "    <tr>\n",
              "      <th>4</th>\n",
              "      <td>11</td>\n",
              "      <td>NaN</td>\n",
              "      <td>NaN</td>\n",
              "      <td>Typhoon Soudelor kills 28 in China and Taiwan</td>\n",
              "    </tr>\n",
              "  </tbody>\n",
              "</table>\n",
              "</div>\n",
              "      <button class=\"colab-df-convert\" onclick=\"convertToInteractive('df-ff600e80-356d-44de-8d89-50000c385d1e')\"\n",
              "              title=\"Convert this dataframe to an interactive table.\"\n",
              "              style=\"display:none;\">\n",
              "        \n",
              "  <svg xmlns=\"http://www.w3.org/2000/svg\" height=\"24px\"viewBox=\"0 0 24 24\"\n",
              "       width=\"24px\">\n",
              "    <path d=\"M0 0h24v24H0V0z\" fill=\"none\"/>\n",
              "    <path d=\"M18.56 5.44l.94 2.06.94-2.06 2.06-.94-2.06-.94-.94-2.06-.94 2.06-2.06.94zm-11 1L8.5 8.5l.94-2.06 2.06-.94-2.06-.94L8.5 2.5l-.94 2.06-2.06.94zm10 10l.94 2.06.94-2.06 2.06-.94-2.06-.94-.94-2.06-.94 2.06-2.06.94z\"/><path d=\"M17.41 7.96l-1.37-1.37c-.4-.4-.92-.59-1.43-.59-.52 0-1.04.2-1.43.59L10.3 9.45l-7.72 7.72c-.78.78-.78 2.05 0 2.83L4 21.41c.39.39.9.59 1.41.59.51 0 1.02-.2 1.41-.59l7.78-7.78 2.81-2.81c.8-.78.8-2.07 0-2.86zM5.41 20L4 18.59l7.72-7.72 1.47 1.35L5.41 20z\"/>\n",
              "  </svg>\n",
              "      </button>\n",
              "      \n",
              "  <style>\n",
              "    .colab-df-container {\n",
              "      display:flex;\n",
              "      flex-wrap:wrap;\n",
              "      gap: 12px;\n",
              "    }\n",
              "\n",
              "    .colab-df-convert {\n",
              "      background-color: #E8F0FE;\n",
              "      border: none;\n",
              "      border-radius: 50%;\n",
              "      cursor: pointer;\n",
              "      display: none;\n",
              "      fill: #1967D2;\n",
              "      height: 32px;\n",
              "      padding: 0 0 0 0;\n",
              "      width: 32px;\n",
              "    }\n",
              "\n",
              "    .colab-df-convert:hover {\n",
              "      background-color: #E2EBFA;\n",
              "      box-shadow: 0px 1px 2px rgba(60, 64, 67, 0.3), 0px 1px 3px 1px rgba(60, 64, 67, 0.15);\n",
              "      fill: #174EA6;\n",
              "    }\n",
              "\n",
              "    [theme=dark] .colab-df-convert {\n",
              "      background-color: #3B4455;\n",
              "      fill: #D2E3FC;\n",
              "    }\n",
              "\n",
              "    [theme=dark] .colab-df-convert:hover {\n",
              "      background-color: #434B5C;\n",
              "      box-shadow: 0px 1px 3px 1px rgba(0, 0, 0, 0.15);\n",
              "      filter: drop-shadow(0px 1px 2px rgba(0, 0, 0, 0.3));\n",
              "      fill: #FFFFFF;\n",
              "    }\n",
              "  </style>\n",
              "\n",
              "      <script>\n",
              "        const buttonEl =\n",
              "          document.querySelector('#df-ff600e80-356d-44de-8d89-50000c385d1e button.colab-df-convert');\n",
              "        buttonEl.style.display =\n",
              "          google.colab.kernel.accessAllowed ? 'block' : 'none';\n",
              "\n",
              "        async function convertToInteractive(key) {\n",
              "          const element = document.querySelector('#df-ff600e80-356d-44de-8d89-50000c385d1e');\n",
              "          const dataTable =\n",
              "            await google.colab.kernel.invokeFunction('convertToInteractive',\n",
              "                                                     [key], {});\n",
              "          if (!dataTable) return;\n",
              "\n",
              "          const docLinkHtml = 'Like what you see? Visit the ' +\n",
              "            '<a target=\"_blank\" href=https://colab.research.google.com/notebooks/data_table.ipynb>data table notebook</a>'\n",
              "            + ' to learn more about interactive tables.';\n",
              "          element.innerHTML = '';\n",
              "          dataTable['output_type'] = 'display_data';\n",
              "          await google.colab.output.renderOutput(dataTable, element);\n",
              "          const docLink = document.createElement('div');\n",
              "          docLink.innerHTML = docLinkHtml;\n",
              "          element.appendChild(docLink);\n",
              "        }\n",
              "      </script>\n",
              "    </div>\n",
              "  </div>\n",
              "  "
            ]
          },
          "metadata": {},
          "execution_count": 6
        }
      ]
    },
    {
      "cell_type": "code",
      "source": [
        "# How many examples of each class?\n",
        "train_df.target.value_counts()"
      ],
      "metadata": {
        "colab": {
          "base_uri": "https://localhost:8080/"
        },
        "id": "riMExSUGg_6Q",
        "outputId": "23520956-8b8e-4876-9710-46f91f61e8e2"
      },
      "execution_count": 7,
      "outputs": [
        {
          "output_type": "execute_result",
          "data": {
            "text/plain": [
              "0    4342\n",
              "1    3271\n",
              "Name: target, dtype: int64"
            ]
          },
          "metadata": {},
          "execution_count": 7
        }
      ]
    },
    {
      "cell_type": "code",
      "source": [
        "# How many total samples?\n",
        "len(train_df), len(test_df)"
      ],
      "metadata": {
        "id": "JGnc9kOMhHU9",
        "colab": {
          "base_uri": "https://localhost:8080/"
        },
        "outputId": "ec888e67-9ca6-44c7-d8e7-3c0ac66d4e87"
      },
      "execution_count": 8,
      "outputs": [
        {
          "output_type": "execute_result",
          "data": {
            "text/plain": [
              "(7613, 3263)"
            ]
          },
          "metadata": {},
          "execution_count": 8
        }
      ]
    },
    {
      "cell_type": "code",
      "source": [
        "# Let's visualize some random training samples\n",
        "import random\n",
        "random_index = random.randint(0, len(train_df) - 5) # create random indexes\n",
        "\n",
        "for row in train_df_shuffled[[\"text\", \"target\"]][random_index:random_index + 5].itertuples():\n",
        "  _, text, target = row\n",
        "  print(f\"Target: {target}\", \"(real disaster)\" if target > 0 else \"not real disaster\")\n",
        "  print(f\"Text:\\n{text}\\n\")\n",
        "  print()"
      ],
      "metadata": {
        "colab": {
          "base_uri": "https://localhost:8080/"
        },
        "id": "oErUc8GE0-N7",
        "outputId": "3087e5f1-3c34-4f6d-b54c-a45424397201"
      },
      "execution_count": 9,
      "outputs": [
        {
          "output_type": "stream",
          "name": "stdout",
          "text": [
            "Target: 1 (real disaster)\n",
            "Text:\n",
            "US wont upgrade its infrastructure? http://t.co/NGEHhG9YGa' it a bad situation and its going to get ugly very quickly #USA #sustainability\n",
            "\n",
            "\n",
            "Target: 0 not real disaster\n",
            "Text:\n",
            "#TBT to that time my best friend and I panicked at the disco. https://t.co/htpqvoHtUd\n",
            "\n",
            "\n",
            "Target: 0 not real disaster\n",
            "Text:\n",
            "SCREAMING IN 22 DIFFERENT LANGUAGES http://t.co/rDfaAKKbNJ\n",
            "\n",
            "\n",
            "Target: 0 not real disaster\n",
            "Text:\n",
            "*to Luka* They should all die! All of them! Everything annihilated! - Alois Trancy\n",
            "\n",
            "\n",
            "Target: 1 (real disaster)\n",
            "Text:\n",
            "Medieval airplane hijacker testa: earnings the distinction divers: HtaRvrGLY\n",
            "\n",
            "\n"
          ]
        }
      ]
    },
    {
      "cell_type": "markdown",
      "source": [
        "### Split data into training and validation sets"
      ],
      "metadata": {
        "id": "bPDLwm831yyW"
      }
    },
    {
      "cell_type": "code",
      "source": [
        "from sklearn.model_selection import train_test_split\n",
        "\n",
        "X_train, X_val, y_train, y_val = train_test_split(train_df_shuffled[\"text\"].to_numpy(),\n",
        "                                                  train_df_shuffled[\"target\"].to_numpy(), \n",
        "                                                  test_size=0.1,\n",
        "                                                  random_state=42)"
      ],
      "metadata": {
        "id": "7kkfizAwuj4T"
      },
      "execution_count": 10,
      "outputs": []
    },
    {
      "cell_type": "code",
      "source": [
        "# Check the lenghts\n",
        "len(X_train), len(X_val), len(y_train), len(y_val)"
      ],
      "metadata": {
        "colab": {
          "base_uri": "https://localhost:8080/"
        },
        "id": "yGTIeMStvOrM",
        "outputId": "139aef36-2a7f-406c-eb55-b9c0e778641f"
      },
      "execution_count": 11,
      "outputs": [
        {
          "output_type": "execute_result",
          "data": {
            "text/plain": [
              "(6851, 762, 6851, 762)"
            ]
          },
          "metadata": {},
          "execution_count": 11
        }
      ]
    },
    {
      "cell_type": "code",
      "source": [
        "# Check the first 10 samples\n",
        "X_train[:10], y_train[:10]"
      ],
      "metadata": {
        "colab": {
          "base_uri": "https://localhost:8080/"
        },
        "id": "zD8RkkEvvT0u",
        "outputId": "0365c4d2-5de7-4993-ac46-ea75dbcefb60"
      },
      "execution_count": 12,
      "outputs": [
        {
          "output_type": "execute_result",
          "data": {
            "text/plain": [
              "(array(['@mogacola @zamtriossu i screamed after hitting tweet',\n",
              "        'Imagine getting flattened by Kurt Zouma',\n",
              "        '@Gurmeetramrahim #MSGDoing111WelfareWorks Green S welfare force ke appx 65000 members har time disaster victim ki help ke liye tyar hai....',\n",
              "        \"@shakjn @C7 @Magnums im shaking in fear he's gonna hack the planet\",\n",
              "        'Somehow find you and I collide http://t.co/Ee8RpOahPk',\n",
              "        '@EvaHanderek @MarleyKnysh great times until the bus driver held us hostage in the mall parking lot lmfao',\n",
              "        'destroy the free fandom honestly',\n",
              "        'Weapons stolen from National Guard Armory in New Albany still missing #Gunsense http://t.co/lKNU8902JE',\n",
              "        '@wfaaweather Pete when will the heat wave pass? Is it really going to be mid month? Frisco Boy Scouts have a canoe trip in Okla.',\n",
              "        'Patient-reported outcomes in long-term survivors of metastatic colorectal cancer - British Journal of Surgery http://t.co/5Yl4DC1Tqt'],\n",
              "       dtype=object),\n",
              " array([0, 0, 1, 0, 0, 1, 1, 0, 1, 1]))"
            ]
          },
          "metadata": {},
          "execution_count": 12
        }
      ]
    },
    {
      "cell_type": "markdown",
      "source": [
        "## Converting text into numbers\n",
        "\n",
        "When dealing with a text problem, one of the first things you'll have to do before you can build a model is to convert your text to numbers.\n",
        "\n",
        "There are a few ways to do this, namely:\n",
        "* Tokenization - direct mapping of token (a token could be a word or a character)\n",
        "* Embedding - create a matrix of feature vector for each token (the size of the feature vector can be defined and this embedding can be learned)"
      ],
      "metadata": {
        "id": "-KPb8942ve-I"
      }
    },
    {
      "cell_type": "markdown",
      "source": [
        "### Text vectorization (tokenization)"
      ],
      "metadata": {
        "id": "7DoSAzF-Jo-P"
      }
    },
    {
      "cell_type": "code",
      "source": [
        "X_train"
      ],
      "metadata": {
        "colab": {
          "base_uri": "https://localhost:8080/"
        },
        "id": "k5JaPwiNKG5L",
        "outputId": "d0054a91-f16e-4bc2-851c-7b139e8162ab"
      },
      "execution_count": 13,
      "outputs": [
        {
          "output_type": "execute_result",
          "data": {
            "text/plain": [
              "array(['@mogacola @zamtriossu i screamed after hitting tweet',\n",
              "       'Imagine getting flattened by Kurt Zouma',\n",
              "       '@Gurmeetramrahim #MSGDoing111WelfareWorks Green S welfare force ke appx 65000 members har time disaster victim ki help ke liye tyar hai....',\n",
              "       ...,\n",
              "       'Near them on the sand half sunk a shattered visage lies... http://t.co/0kCCG1BT06',\n",
              "       \"kesabaran membuahkan hasil indah pada saat tepat! life isn't about waiting for the storm to pass it's about learning to dance in the rain.\",\n",
              "       \"@ScottDPierce @billharris_tv @HarrisGle @Beezersun I'm forfeiting this years fantasy football pool out of fear I may win n get my ass kicked\"],\n",
              "      dtype=object)"
            ]
          },
          "metadata": {},
          "execution_count": 13
        }
      ]
    },
    {
      "cell_type": "code",
      "source": [
        "import tensorflow as tf\n",
        "from tensorflow.keras.layers import TextVectorization\n",
        "\n",
        "# Use the default TextVectorization parameters\n",
        "text_vectorizer = TextVectorization(max_tokens=None, # defines how many words are in our vocabulary (automatucally adds <OOV>)\n",
        "                                    standardize=\"lower_and_strip_punctuation\",\n",
        "                                    split=\"whitespace\",\n",
        "                                    ngrams=None, # create groups of n-words\n",
        "                                    output_mode=\"int\", # how to map tokens to numbers\n",
        "                                    output_sequence_length=None, # how long do you want your sequences to be\n",
        "                                    pad_to_max_tokens=False # pad shorter sequences with zeros\n",
        "                                    )"
      ],
      "metadata": {
        "id": "ea6OQf3hKIRU"
      },
      "execution_count": 14,
      "outputs": []
    },
    {
      "cell_type": "code",
      "source": [
        "# Find the average number of tokens (words) in the training tweets\n",
        "import numpy as np\n",
        "\n",
        "np.round(np.sum([len(i.split()) for i in X_train]) / len(X_train))"
      ],
      "metadata": {
        "colab": {
          "base_uri": "https://localhost:8080/"
        },
        "id": "km3eQAQUMMxa",
        "outputId": "244042f4-b5fa-4ba4-f0d0-153555be47b6"
      },
      "execution_count": 15,
      "outputs": [
        {
          "output_type": "execute_result",
          "data": {
            "text/plain": [
              "15.0"
            ]
          },
          "metadata": {},
          "execution_count": 15
        }
      ]
    },
    {
      "cell_type": "code",
      "source": [
        "# Setup text vectorization variables\n",
        "max_vocab_length = 10000 #max number of words to have in our vocabulary\n",
        "max_length = 15 # max length our sequences will be (e.g. how many words from a Tweet can our model see)\n",
        "\n",
        "text_vectorizer = TextVectorization(max_tokens=max_vocab_length,\n",
        "                                    output_mode=\"int\",\n",
        "                                    output_sequence_length=max_length)"
      ],
      "metadata": {
        "id": "WH2P5jxwMyqg"
      },
      "execution_count": 16,
      "outputs": []
    },
    {
      "cell_type": "code",
      "source": [
        "# Fit the text vectorizer to the train data\n",
        "text_vectorizer.adapt(X_train)"
      ],
      "metadata": {
        "id": "2NDJEk_pNZkP"
      },
      "execution_count": 17,
      "outputs": []
    },
    {
      "cell_type": "code",
      "source": [
        "# Create a sample sentence and tokenize it\n",
        "sample_sentence = \"There's a flood in my street!\"\n",
        "text_vectorizer([sample_sentence])"
      ],
      "metadata": {
        "colab": {
          "base_uri": "https://localhost:8080/"
        },
        "id": "l2N8OQ7jN0oD",
        "outputId": "522e1287-451d-464d-d5c4-ce0f522341b1"
      },
      "execution_count": 18,
      "outputs": [
        {
          "output_type": "execute_result",
          "data": {
            "text/plain": [
              "<tf.Tensor: shape=(1, 15), dtype=int64, numpy=\n",
              "array([[264,   3, 232,   4,  13, 698,   0,   0,   0,   0,   0,   0,   0,\n",
              "          0,   0]])>"
            ]
          },
          "metadata": {},
          "execution_count": 18
        }
      ]
    },
    {
      "cell_type": "code",
      "source": [
        "# Choose a random sentence from the training dataset and tokenize it\n",
        "random_sentence = random.choice(X_train)\n",
        "print(f\"Original text:\\n{random_sentence}\\\n",
        "       \\n\\nVectorized version:\")\n",
        "text_vectorizer([random_sentence])"
      ],
      "metadata": {
        "colab": {
          "base_uri": "https://localhost:8080/"
        },
        "id": "ndMq1wUROBd0",
        "outputId": "59e60ac7-ecfb-410d-d5b4-956c902ed5e4"
      },
      "execution_count": 19,
      "outputs": [
        {
          "output_type": "stream",
          "name": "stdout",
          "text": [
            "Original text:\n",
            "#TweetLikeItsSeptember11th2001 Those two buildings are on fire       \n",
            "\n",
            "Vectorized version:\n"
          ]
        },
        {
          "output_type": "execute_result",
          "data": {
            "text/plain": [
              "<tf.Tensor: shape=(1, 15), dtype=int64, numpy=\n",
              "array([[4359,  161,  116,   95,   22,   11,   42,    0,    0,    0,    0,\n",
              "           0,    0,    0,    0]])>"
            ]
          },
          "metadata": {},
          "execution_count": 19
        }
      ]
    },
    {
      "cell_type": "code",
      "source": [
        "# Get the unique words in the vocabulary\n",
        "words_in_vocab = text_vectorizer.get_vocabulary() # get all of the unique words in our training data\n",
        "top_5_words = words_in_vocab[:5] # get the most common words\n",
        "bottom_5_words = words_in_vocab[-5:] # get the least common words\n",
        "print(f\"Num of words in vocab: {len(words_in_vocab)}\")\n",
        "print(f\"5 most common words: {top_5_words}\")\n",
        "print(f\"5 least common words: {bottom_5_words}\")\n"
      ],
      "metadata": {
        "colab": {
          "base_uri": "https://localhost:8080/"
        },
        "id": "1da_JkaFObyx",
        "outputId": "c4acbbad-bcc5-44b9-c333-bac59cfe1a51"
      },
      "execution_count": 20,
      "outputs": [
        {
          "output_type": "stream",
          "name": "stdout",
          "text": [
            "Num of words in vocab: 10000\n",
            "5 most common words: ['', '[UNK]', 'the', 'a', 'in']\n",
            "5 least common words: ['pages', 'paeds', 'pads', 'padres', 'paddytomlinson1']\n"
          ]
        }
      ]
    },
    {
      "cell_type": "markdown",
      "source": [
        "### Creating an Embedding using an Embedding Layer\n",
        "\n",
        "To make our embedding we' re going to use a TensorFlow Embedding layer.\n",
        "\n",
        "The parameters we care most about for our embedding layer:\n",
        "* `input_dim` = the size of our vocabulary\n",
        "* `output_dim` = the size of the output embedding vector, for example a value of 100 would mean token gets represented by a vector 100 long\n",
        "* `input_length` = length of the sequences being passed to the embedding layer"
      ],
      "metadata": {
        "id": "sF9C11glPcBF"
      }
    },
    {
      "cell_type": "code",
      "source": [
        "from tensorflow.keras import layers\n",
        "\n",
        "embedding = layers.Embedding(input_dim=max_vocab_length,\n",
        "                             output_dim=128,\n",
        "                             input_length=max_length)\n",
        "\n",
        "embedding"
      ],
      "metadata": {
        "colab": {
          "base_uri": "https://localhost:8080/"
        },
        "id": "01SFestMS97C",
        "outputId": "da8f3cc3-10c2-4f15-c125-854d15bfbaa6"
      },
      "execution_count": 21,
      "outputs": [
        {
          "output_type": "execute_result",
          "data": {
            "text/plain": [
              "<keras.layers.core.embedding.Embedding at 0x7f76be2ad2e0>"
            ]
          },
          "metadata": {},
          "execution_count": 21
        }
      ]
    },
    {
      "cell_type": "code",
      "source": [
        "# Get a random sentence from the training set\n",
        "random_sentence = random.choice(X_train)\n",
        "print(f\"Original text:\\n {random_sentence}\\\n",
        "      \\n\\nEmbedded version:\")\n",
        "\n",
        "# Embed the random sentence (turn it into dense vectors of fixed size)\n",
        "sample_embed = embedding(text_vectorizer([random_sentence]))\n",
        "sample_embed"
      ],
      "metadata": {
        "colab": {
          "base_uri": "https://localhost:8080/"
        },
        "id": "xB5joW4vUS4N",
        "outputId": "3711e11f-97a3-4539-a7a0-3cf66c0c8b50"
      },
      "execution_count": 22,
      "outputs": [
        {
          "output_type": "stream",
          "name": "stdout",
          "text": [
            "Original text:\n",
            " Tips so that finding the customers ego drought: dqSVYusY      \n",
            "\n",
            "Embedded version:\n"
          ]
        },
        {
          "output_type": "execute_result",
          "data": {
            "text/plain": [
              "<tf.Tensor: shape=(1, 15, 128), dtype=float32, numpy=\n",
              "array([[[-0.04367752,  0.00290947, -0.04566578, ..., -0.01385818,\n",
              "          0.02374978, -0.00087406],\n",
              "        [ 0.01470424,  0.04381484,  0.01295278, ...,  0.00053619,\n",
              "          0.02796629, -0.01012247],\n",
              "        [-0.00123105, -0.03251629, -0.02204552, ..., -0.01042131,\n",
              "         -0.0136073 , -0.01887633],\n",
              "        ...,\n",
              "        [ 0.04189341, -0.03478963,  0.02570425, ...,  0.03345319,\n",
              "          0.02820221,  0.02013233],\n",
              "        [ 0.04189341, -0.03478963,  0.02570425, ...,  0.03345319,\n",
              "          0.02820221,  0.02013233],\n",
              "        [ 0.04189341, -0.03478963,  0.02570425, ...,  0.03345319,\n",
              "          0.02820221,  0.02013233]]], dtype=float32)>"
            ]
          },
          "metadata": {},
          "execution_count": 22
        }
      ]
    },
    {
      "cell_type": "code",
      "source": [
        "# Check out a single token's embedding\n",
        "sample_embed[0][0], sample_embed[0][0].shape, random_sentence"
      ],
      "metadata": {
        "colab": {
          "base_uri": "https://localhost:8080/"
        },
        "id": "6C93g3kgUwDx",
        "outputId": "53fa095f-acbb-4521-fcb2-52dc94f8b532"
      },
      "execution_count": 23,
      "outputs": [
        {
          "output_type": "execute_result",
          "data": {
            "text/plain": [
              "(<tf.Tensor: shape=(128,), dtype=float32, numpy=\n",
              " array([-0.04367752,  0.00290947, -0.04566578,  0.02256176,  0.02636662,\n",
              "        -0.01124039, -0.00065786,  0.04391403, -0.03129928, -0.04646579,\n",
              "         0.01445813,  0.01151874, -0.00321422,  0.01691499, -0.02786224,\n",
              "         0.0263876 , -0.00828861, -0.04336177, -0.01807914,  0.01141213,\n",
              "         0.00658559,  0.03543338, -0.00240667, -0.01356167,  0.01956755,\n",
              "         0.04827313,  0.03202974, -0.02978279, -0.0016476 ,  0.01365821,\n",
              "        -0.0189845 , -0.04622942, -0.01249854,  0.03538349,  0.0326301 ,\n",
              "         0.03160837,  0.01026088, -0.00070485,  0.04656999, -0.0031522 ,\n",
              "         0.02373618, -0.01998464, -0.03556406, -0.04960089, -0.04098762,\n",
              "        -0.01810107,  0.03881692,  0.01312071, -0.00256671, -0.01616474,\n",
              "        -0.04399438, -0.02573199,  0.02223729, -0.04798779, -0.02257878,\n",
              "        -0.03089967,  0.04231388, -0.04520656,  0.00809436, -0.01664648,\n",
              "        -0.01380607, -0.04885979,  0.01863593, -0.01677047,  0.02291923,\n",
              "         0.03625171, -0.00634722,  0.02933631,  0.00489027,  0.0235414 ,\n",
              "         0.02841393, -0.02382594, -0.0332598 , -0.02106588,  0.00056428,\n",
              "        -0.01190349, -0.04309889, -0.00041822,  0.03945433,  0.01589758,\n",
              "        -0.04303726,  0.0127678 ,  0.01202112, -0.03682512,  0.03385147,\n",
              "         0.01757092, -0.03473758,  0.02377579, -0.02039337, -0.03577511,\n",
              "        -0.0235674 ,  0.01921851, -0.02157539,  0.03645784,  0.01745475,\n",
              "         0.03025596, -0.00682009,  0.03603334,  0.00325004, -0.02954724,\n",
              "        -0.00243352,  0.02887161, -0.03639644,  0.00622102,  0.02958469,\n",
              "         0.01273772,  0.04518709,  0.03343066, -0.02837458,  0.04006505,\n",
              "        -0.0143116 ,  0.00975705,  0.04828325,  0.03228321,  0.01130804,\n",
              "        -0.02420474,  0.00984801,  0.00873981, -0.03372125, -0.01937631,\n",
              "        -0.03179862, -0.02743956,  0.02221114, -0.00641521,  0.01230949,\n",
              "        -0.01385818,  0.02374978, -0.00087406], dtype=float32)>,\n",
              " TensorShape([128]),\n",
              " 'Tips so that finding the customers ego drought: dqSVYusY')"
            ]
          },
          "metadata": {},
          "execution_count": 23
        }
      ]
    },
    {
      "cell_type": "markdown",
      "source": [
        "## Modelling a text dataset (running a series of experiments)\n",
        "\n",
        "Now we've got a way to turn text sequences into numbers, it's time to start building a series of modelling experiments.\n",
        "\n",
        "We'll start with a baseline and move on from there.\n",
        "* Model 0: Naive Bayes (baseline)\n",
        "* Model 1: Feed-forward neural network (dense model)\n",
        "* Model 2: LSTM model (RNN)\n",
        "* Model 3: GRU model (RNN)\n",
        "* Model 4: Bidirectional-LSTM model (RNN)\n",
        "* Model 5: 1D Convolutional Neural Network (CNN)\n",
        "* Model 6: TensorFlow Hub Pretrained Feature Extractor (using transfer learning for NLP)\n",
        "* Model 7: Same as model 6 with 10% of training data\n",
        "\n",
        "How are we going to approach all of these?\n",
        "\n",
        "Use the standard steps in modelling with tensorflow:\n",
        "* Create a model\n",
        "* Build a model\n",
        "* Fit a model\n",
        "* Evaluate our model"
      ],
      "metadata": {
        "id": "r0cuO6R6XIEC"
      }
    },
    {
      "cell_type": "markdown",
      "source": [
        "### Model 0: Getting a baseline\n",
        "\n",
        "We'll use Sklearn's Multinomial Naive Bayes using the TF-IDF formula to convert our words to numbers.\n",
        "\n",
        "IT's common practice to use non-DL algorithms as a baseline because of their speed and then using DL to see if you can improve upon them."
      ],
      "metadata": {
        "id": "42JxAHWgc4dH"
      }
    },
    {
      "cell_type": "code",
      "source": [
        "# Create Naive Bayes model\n",
        "from sklearn.feature_extraction.text import TfidfVectorizer\n",
        "from sklearn.naive_bayes import MultinomialNB\n",
        "from sklearn.pipeline import Pipeline\n",
        "\n",
        "model_0 = Pipeline([\n",
        "    (\"tfidf\", TfidfVectorizer()), # convert words to numbers\n",
        "    (\"clf\", MultinomialNB()) # model the text\n",
        "])\n",
        "\n",
        "# Fit the pipeline to the training data\n",
        "model_0.fit(X_train, y_train)"
      ],
      "metadata": {
        "colab": {
          "base_uri": "https://localhost:8080/",
          "height": 126
        },
        "id": "5WmoZRNFZ3xo",
        "outputId": "5c64d9e9-53e8-4134-ab8f-630e578b480a"
      },
      "execution_count": 24,
      "outputs": [
        {
          "output_type": "execute_result",
          "data": {
            "text/plain": [
              "Pipeline(steps=[('tfidf', TfidfVectorizer()), ('clf', MultinomialNB())])"
            ],
            "text/html": [
              "<style>#sk-container-id-1 {color: black;background-color: white;}#sk-container-id-1 pre{padding: 0;}#sk-container-id-1 div.sk-toggleable {background-color: white;}#sk-container-id-1 label.sk-toggleable__label {cursor: pointer;display: block;width: 100%;margin-bottom: 0;padding: 0.3em;box-sizing: border-box;text-align: center;}#sk-container-id-1 label.sk-toggleable__label-arrow:before {content: \"▸\";float: left;margin-right: 0.25em;color: #696969;}#sk-container-id-1 label.sk-toggleable__label-arrow:hover:before {color: black;}#sk-container-id-1 div.sk-estimator:hover label.sk-toggleable__label-arrow:before {color: black;}#sk-container-id-1 div.sk-toggleable__content {max-height: 0;max-width: 0;overflow: hidden;text-align: left;background-color: #f0f8ff;}#sk-container-id-1 div.sk-toggleable__content pre {margin: 0.2em;color: black;border-radius: 0.25em;background-color: #f0f8ff;}#sk-container-id-1 input.sk-toggleable__control:checked~div.sk-toggleable__content {max-height: 200px;max-width: 100%;overflow: auto;}#sk-container-id-1 input.sk-toggleable__control:checked~label.sk-toggleable__label-arrow:before {content: \"▾\";}#sk-container-id-1 div.sk-estimator input.sk-toggleable__control:checked~label.sk-toggleable__label {background-color: #d4ebff;}#sk-container-id-1 div.sk-label input.sk-toggleable__control:checked~label.sk-toggleable__label {background-color: #d4ebff;}#sk-container-id-1 input.sk-hidden--visually {border: 0;clip: rect(1px 1px 1px 1px);clip: rect(1px, 1px, 1px, 1px);height: 1px;margin: -1px;overflow: hidden;padding: 0;position: absolute;width: 1px;}#sk-container-id-1 div.sk-estimator {font-family: monospace;background-color: #f0f8ff;border: 1px dotted black;border-radius: 0.25em;box-sizing: border-box;margin-bottom: 0.5em;}#sk-container-id-1 div.sk-estimator:hover {background-color: #d4ebff;}#sk-container-id-1 div.sk-parallel-item::after {content: \"\";width: 100%;border-bottom: 1px solid gray;flex-grow: 1;}#sk-container-id-1 div.sk-label:hover label.sk-toggleable__label {background-color: #d4ebff;}#sk-container-id-1 div.sk-serial::before {content: \"\";position: absolute;border-left: 1px solid gray;box-sizing: border-box;top: 0;bottom: 0;left: 50%;z-index: 0;}#sk-container-id-1 div.sk-serial {display: flex;flex-direction: column;align-items: center;background-color: white;padding-right: 0.2em;padding-left: 0.2em;position: relative;}#sk-container-id-1 div.sk-item {position: relative;z-index: 1;}#sk-container-id-1 div.sk-parallel {display: flex;align-items: stretch;justify-content: center;background-color: white;position: relative;}#sk-container-id-1 div.sk-item::before, #sk-container-id-1 div.sk-parallel-item::before {content: \"\";position: absolute;border-left: 1px solid gray;box-sizing: border-box;top: 0;bottom: 0;left: 50%;z-index: -1;}#sk-container-id-1 div.sk-parallel-item {display: flex;flex-direction: column;z-index: 1;position: relative;background-color: white;}#sk-container-id-1 div.sk-parallel-item:first-child::after {align-self: flex-end;width: 50%;}#sk-container-id-1 div.sk-parallel-item:last-child::after {align-self: flex-start;width: 50%;}#sk-container-id-1 div.sk-parallel-item:only-child::after {width: 0;}#sk-container-id-1 div.sk-dashed-wrapped {border: 1px dashed gray;margin: 0 0.4em 0.5em 0.4em;box-sizing: border-box;padding-bottom: 0.4em;background-color: white;}#sk-container-id-1 div.sk-label label {font-family: monospace;font-weight: bold;display: inline-block;line-height: 1.2em;}#sk-container-id-1 div.sk-label-container {text-align: center;}#sk-container-id-1 div.sk-container {/* jupyter's `normalize.less` sets `[hidden] { display: none; }` but bootstrap.min.css set `[hidden] { display: none !important; }` so we also need the `!important` here to be able to override the default hidden behavior on the sphinx rendered scikit-learn.org. See: https://github.com/scikit-learn/scikit-learn/issues/21755 */display: inline-block !important;position: relative;}#sk-container-id-1 div.sk-text-repr-fallback {display: none;}</style><div id=\"sk-container-id-1\" class=\"sk-top-container\"><div class=\"sk-text-repr-fallback\"><pre>Pipeline(steps=[(&#x27;tfidf&#x27;, TfidfVectorizer()), (&#x27;clf&#x27;, MultinomialNB())])</pre><b>In a Jupyter environment, please rerun this cell to show the HTML representation or trust the notebook. <br />On GitHub, the HTML representation is unable to render, please try loading this page with nbviewer.org.</b></div><div class=\"sk-container\" hidden><div class=\"sk-item sk-dashed-wrapped\"><div class=\"sk-label-container\"><div class=\"sk-label sk-toggleable\"><input class=\"sk-toggleable__control sk-hidden--visually\" id=\"sk-estimator-id-1\" type=\"checkbox\" ><label for=\"sk-estimator-id-1\" class=\"sk-toggleable__label sk-toggleable__label-arrow\">Pipeline</label><div class=\"sk-toggleable__content\"><pre>Pipeline(steps=[(&#x27;tfidf&#x27;, TfidfVectorizer()), (&#x27;clf&#x27;, MultinomialNB())])</pre></div></div></div><div class=\"sk-serial\"><div class=\"sk-item\"><div class=\"sk-estimator sk-toggleable\"><input class=\"sk-toggleable__control sk-hidden--visually\" id=\"sk-estimator-id-2\" type=\"checkbox\" ><label for=\"sk-estimator-id-2\" class=\"sk-toggleable__label sk-toggleable__label-arrow\">TfidfVectorizer</label><div class=\"sk-toggleable__content\"><pre>TfidfVectorizer()</pre></div></div></div><div class=\"sk-item\"><div class=\"sk-estimator sk-toggleable\"><input class=\"sk-toggleable__control sk-hidden--visually\" id=\"sk-estimator-id-3\" type=\"checkbox\" ><label for=\"sk-estimator-id-3\" class=\"sk-toggleable__label sk-toggleable__label-arrow\">MultinomialNB</label><div class=\"sk-toggleable__content\"><pre>MultinomialNB()</pre></div></div></div></div></div></div></div>"
            ]
          },
          "metadata": {},
          "execution_count": 24
        }
      ]
    },
    {
      "cell_type": "code",
      "source": [
        "# Evaluate our baseline model\n",
        "baseline_score = model_0.score(X_val, y_val)"
      ],
      "metadata": {
        "id": "IbM9386Ud34H"
      },
      "execution_count": 25,
      "outputs": []
    },
    {
      "cell_type": "code",
      "source": [
        "baseline_score"
      ],
      "metadata": {
        "colab": {
          "base_uri": "https://localhost:8080/"
        },
        "id": "nWz3-Hs8eE1J",
        "outputId": "4f789c9d-2c36-4f1d-a99a-16eb2bfad8be"
      },
      "execution_count": 26,
      "outputs": [
        {
          "output_type": "execute_result",
          "data": {
            "text/plain": [
              "0.7926509186351706"
            ]
          },
          "metadata": {},
          "execution_count": 26
        }
      ]
    },
    {
      "cell_type": "code",
      "source": [
        "# Make predictions\n",
        "baseline_preds = model_0.predict(X_val)\n",
        "baseline_preds[:20]"
      ],
      "metadata": {
        "colab": {
          "base_uri": "https://localhost:8080/"
        },
        "id": "UV0WHiUMeGAL",
        "outputId": "645a22e7-5691-40bc-caf1-32ca99288d0e"
      },
      "execution_count": 27,
      "outputs": [
        {
          "output_type": "execute_result",
          "data": {
            "text/plain": [
              "array([1, 1, 1, 0, 0, 1, 1, 1, 1, 0, 0, 1, 0, 0, 0, 0, 0, 0, 0, 1])"
            ]
          },
          "metadata": {},
          "execution_count": 27
        }
      ]
    },
    {
      "cell_type": "code",
      "source": [
        "from sklearn.metrics import accuracy_score, precision_recall_fscore_support\n",
        "\n",
        "# Create a function to output some classification evaluation metrics\n",
        "def eval_metrics(y_true, y_pred):\n",
        "  \"\"\"\n",
        "  Calculates accuracy, precision, recall and f1-score.\n",
        "\n",
        "  Args:\n",
        "    model: a ML model to make predictions on\n",
        "    X_test: a tensor of test features\n",
        "    y_test: a tensor of test labels\n",
        "  \n",
        "  Returns:\n",
        "    a dict with all keys of all mentioned above metrics\n",
        "    with values of those metrics\n",
        "  \"\"\"\n",
        "  results = {}\n",
        "\n",
        "\n",
        "  accuracy = accuracy_score(y_true=y_true,  \n",
        "                            y_pred=y_pred)\n",
        "  precision, recall, f1, _ = precision_recall_fscore_support(y_true=y_true,\n",
        "                                                             y_pred = y_pred,\n",
        "                                                             average=\"weighted\")\n",
        "  \n",
        "  results[\"accuracy\"] = accuracy\n",
        "  results[\"precision\"] = precision\n",
        "  results[\"recall\"] = recall\n",
        "  results[\"f1\"] = f1\n",
        "\n",
        "  return results"
      ],
      "metadata": {
        "id": "RP4CDsYqeZKh"
      },
      "execution_count": 66,
      "outputs": []
    },
    {
      "cell_type": "code",
      "source": [
        "# Check the evaluation metrics\n",
        "baseline_results = eval_metrics(y_true=y_val,\n",
        "                                y_pred=baseline_preds)\n",
        "\n",
        "baseline_results"
      ],
      "metadata": {
        "colab": {
          "base_uri": "https://localhost:8080/"
        },
        "id": "ORUKRsDggLRC",
        "outputId": "788d8f9e-8b43-4cdb-b8bf-ff85a161c674"
      },
      "execution_count": 67,
      "outputs": [
        {
          "output_type": "execute_result",
          "data": {
            "text/plain": [
              "{'accuracy': 0.7926509186351706,\n",
              " 'precision': 0.8111390004213173,\n",
              " 'recall': 0.7926509186351706,\n",
              " 'f1': 0.7862189758049549}"
            ]
          },
          "metadata": {},
          "execution_count": 67
        }
      ]
    },
    {
      "cell_type": "markdown",
      "source": [
        "### Model 1: A simple dense model"
      ],
      "metadata": {
        "id": "RkmOxrYzggOW"
      }
    },
    {
      "cell_type": "code",
      "source": [
        "# Create a tensorboard callback\n",
        "from helper_functions import create_tensorboard_callback\n",
        "\n",
        "# Create a directory to save tensorboard logs\n",
        "SAVE_DIR = \"model_logs\""
      ],
      "metadata": {
        "id": "DoG8EU6NkkCK"
      },
      "execution_count": 30,
      "outputs": []
    },
    {
      "cell_type": "code",
      "source": [
        "# Build model with the Functional API\n",
        "from tensorflow.keras import layers\n",
        "\n",
        "inputs = layers.Input(shape=(1,), dtype=tf.string) # inputs are 1-dimensional strings\n",
        "x = text_vectorizer(inputs) # turn the input text into numbers\n",
        "x = embedding(x) # create an embedding of the numberized inputs\n",
        "x = layers.GlobalAveragePooling1D()(x) # condense the feature vector for each token to one vector\n",
        "outputs = layers.Dense(1, activation=\"sigmoid\")(x) # create the output layer\n",
        "\n",
        "model_1 = tf.keras.Model(inputs, outputs, name=\"model_1_dense\")"
      ],
      "metadata": {
        "id": "NynsC8RolDZg"
      },
      "execution_count": 55,
      "outputs": []
    },
    {
      "cell_type": "code",
      "source": [
        "model_1.summary()"
      ],
      "metadata": {
        "colab": {
          "base_uri": "https://localhost:8080/"
        },
        "id": "lm72vcGblt-q",
        "outputId": "f75a7323-dc7a-4f9c-b6d5-da98cffb6226"
      },
      "execution_count": 56,
      "outputs": [
        {
          "output_type": "stream",
          "name": "stdout",
          "text": [
            "Model: \"model_1_dense\"\n",
            "_________________________________________________________________\n",
            " Layer (type)                Output Shape              Param #   \n",
            "=================================================================\n",
            " input_6 (InputLayer)        [(None, 1)]               0         \n",
            "                                                                 \n",
            " text_vectorization_1 (TextV  (None, 15)               0         \n",
            " ectorization)                                                   \n",
            "                                                                 \n",
            " embedding (Embedding)       (None, 15, 128)           1280000   \n",
            "                                                                 \n",
            " global_average_pooling1d (G  (None, 128)              0         \n",
            " lobalAveragePooling1D)                                          \n",
            "                                                                 \n",
            " dense_4 (Dense)             (None, 1)                 129       \n",
            "                                                                 \n",
            "=================================================================\n",
            "Total params: 1,280,129\n",
            "Trainable params: 1,280,129\n",
            "Non-trainable params: 0\n",
            "_________________________________________________________________\n"
          ]
        }
      ]
    },
    {
      "cell_type": "code",
      "source": [
        "# Compile the model\n",
        "model_1.compile(loss=tf.keras.losses.BinaryCrossentropy(),\n",
        "                optimizer=tf.keras.optimizers.Adam(),\n",
        "                metrics=[\"accuracy\"])"
      ],
      "metadata": {
        "id": "KeJ_uHHhlwrZ"
      },
      "execution_count": 57,
      "outputs": []
    },
    {
      "cell_type": "code",
      "source": [
        "# Fit the model\n",
        "model_1_history = model_1.fit(x=X_train,\n",
        "                              y=y_train,\n",
        "                              epochs=5,\n",
        "                              validation_data=(X_val, y_val),\n",
        "                              callbacks=[create_tensorboard_callback(dir_name=SAVE_DIR,\n",
        "                                                                     experiment_name=\"model_1_dense\")])"
      ],
      "metadata": {
        "colab": {
          "base_uri": "https://localhost:8080/"
        },
        "id": "yFeNin2QQnOD",
        "outputId": "6f36e300-70c1-46b2-e817-3b8c3197f50b"
      },
      "execution_count": 58,
      "outputs": [
        {
          "output_type": "stream",
          "name": "stdout",
          "text": [
            "Saving TensorBoard log files to: model_logs/model_1_dense/20230416-090333\n",
            "Epoch 1/5\n",
            "215/215 [==============================] - 13s 54ms/step - loss: 0.5859 - accuracy: 0.7430 - val_loss: 0.5336 - val_accuracy: 0.7756\n",
            "Epoch 2/5\n",
            "215/215 [==============================] - 3s 12ms/step - loss: 0.4181 - accuracy: 0.8441 - val_loss: 0.4688 - val_accuracy: 0.7874\n",
            "Epoch 3/5\n",
            "215/215 [==============================] - 2s 8ms/step - loss: 0.3293 - accuracy: 0.8716 - val_loss: 0.4563 - val_accuracy: 0.7887\n",
            "Epoch 4/5\n",
            "215/215 [==============================] - 2s 10ms/step - loss: 0.2734 - accuracy: 0.8991 - val_loss: 0.4627 - val_accuracy: 0.7848\n",
            "Epoch 5/5\n",
            "215/215 [==============================] - 2s 9ms/step - loss: 0.2305 - accuracy: 0.9172 - val_loss: 0.4812 - val_accuracy: 0.7835\n"
          ]
        }
      ]
    },
    {
      "cell_type": "code",
      "source": [
        "# Check the results\n",
        "model_1.evaluate(X_val, y_val)"
      ],
      "metadata": {
        "colab": {
          "base_uri": "https://localhost:8080/"
        },
        "id": "A_8Ql_UzQz_-",
        "outputId": "c32b62bd-74e2-4aaf-ac51-ec321eab7d2b"
      },
      "execution_count": 59,
      "outputs": [
        {
          "output_type": "stream",
          "name": "stdout",
          "text": [
            "24/24 [==============================] - 0s 3ms/step - loss: 0.4812 - accuracy: 0.7835\n"
          ]
        },
        {
          "output_type": "execute_result",
          "data": {
            "text/plain": [
              "[0.48116108775138855, 0.7834645509719849]"
            ]
          },
          "metadata": {},
          "execution_count": 59
        }
      ]
    },
    {
      "cell_type": "code",
      "source": [
        "# Make some predictions and evaluate those\n",
        "model_1_pred_probs = model_1.predict(X_val)\n",
        "model_1_pred_probs"
      ],
      "metadata": {
        "colab": {
          "base_uri": "https://localhost:8080/"
        },
        "id": "on15anmkSukg",
        "outputId": "bd81099d-3d30-4cd0-a9d3-13292de83d13"
      },
      "execution_count": 60,
      "outputs": [
        {
          "output_type": "stream",
          "name": "stdout",
          "text": [
            "24/24 [==============================] - 0s 4ms/step\n"
          ]
        },
        {
          "output_type": "execute_result",
          "data": {
            "text/plain": [
              "array([[3.26517463e-01],\n",
              "       [7.00781584e-01],\n",
              "       [9.96478379e-01],\n",
              "       [1.36815339e-01],\n",
              "       [7.97762647e-02],\n",
              "       [9.32446659e-01],\n",
              "       [9.00663257e-01],\n",
              "       [9.92139041e-01],\n",
              "       [9.64510918e-01],\n",
              "       [2.75467604e-01],\n",
              "       [1.03167854e-01],\n",
              "       [7.01371729e-01],\n",
              "       [4.82834056e-02],\n",
              "       [1.71713069e-01],\n",
              "       [6.43744739e-03],\n",
              "       [1.25400230e-01],\n",
              "       [2.80832592e-02],\n",
              "       [9.15437117e-02],\n",
              "       [2.38600463e-01],\n",
              "       [5.28415918e-01],\n",
              "       [9.06372607e-01],\n",
              "       [4.17299531e-02],\n",
              "       [4.32931095e-01],\n",
              "       [9.53286290e-02],\n",
              "       [9.58945632e-01],\n",
              "       [9.98447001e-01],\n",
              "       [4.33216467e-02],\n",
              "       [7.16198087e-02],\n",
              "       [2.43141316e-02],\n",
              "       [2.15944827e-01],\n",
              "       [5.80829978e-01],\n",
              "       [3.23988229e-01],\n",
              "       [4.56927806e-01],\n",
              "       [1.87828690e-01],\n",
              "       [5.17964900e-01],\n",
              "       [6.49735779e-02],\n",
              "       [9.92742896e-01],\n",
              "       [1.86357930e-01],\n",
              "       [3.51321623e-02],\n",
              "       [9.97872829e-01],\n",
              "       [2.16651559e-01],\n",
              "       [1.51008414e-02],\n",
              "       [2.72141427e-01],\n",
              "       [5.87801822e-02],\n",
              "       [6.42136931e-01],\n",
              "       [9.82670367e-01],\n",
              "       [3.01293910e-01],\n",
              "       [9.28844869e-01],\n",
              "       [2.04477414e-01],\n",
              "       [6.11592054e-01],\n",
              "       [6.53644428e-02],\n",
              "       [5.54607928e-01],\n",
              "       [4.59067285e-01],\n",
              "       [4.10369933e-02],\n",
              "       [1.22408278e-01],\n",
              "       [3.51394862e-02],\n",
              "       [2.15733051e-01],\n",
              "       [9.53227282e-01],\n",
              "       [1.02167830e-01],\n",
              "       [3.30503960e-03],\n",
              "       [1.72328398e-01],\n",
              "       [9.59773242e-01],\n",
              "       [9.04921532e-01],\n",
              "       [1.65024683e-01],\n",
              "       [9.24910307e-01],\n",
              "       [9.75271642e-01],\n",
              "       [7.44651735e-01],\n",
              "       [3.51044774e-01],\n",
              "       [1.27928779e-01],\n",
              "       [1.73214614e-01],\n",
              "       [7.45341405e-02],\n",
              "       [3.94715071e-02],\n",
              "       [9.27289844e-01],\n",
              "       [1.68812931e-01],\n",
              "       [1.32843241e-01],\n",
              "       [3.70569229e-01],\n",
              "       [4.10097480e-01],\n",
              "       [8.21177065e-01],\n",
              "       [2.90779680e-01],\n",
              "       [5.34304976e-01],\n",
              "       [4.70908523e-01],\n",
              "       [2.53609389e-01],\n",
              "       [9.95310009e-01],\n",
              "       [1.08955808e-01],\n",
              "       [1.69339806e-01],\n",
              "       [9.05969441e-02],\n",
              "       [2.49115825e-02],\n",
              "       [1.08721606e-01],\n",
              "       [6.10608995e-01],\n",
              "       [8.81928146e-01],\n",
              "       [9.91102219e-01],\n",
              "       [1.05253849e-02],\n",
              "       [6.00958586e-01],\n",
              "       [2.93847341e-02],\n",
              "       [9.78709459e-01],\n",
              "       [7.07595706e-01],\n",
              "       [8.63469481e-01],\n",
              "       [9.71341133e-01],\n",
              "       [8.64455879e-01],\n",
              "       [9.48292017e-01],\n",
              "       [9.99094725e-01],\n",
              "       [2.08591521e-01],\n",
              "       [1.42268119e-02],\n",
              "       [9.09139097e-01],\n",
              "       [8.84476721e-01],\n",
              "       [9.53743756e-02],\n",
              "       [8.54924858e-01],\n",
              "       [9.72901165e-01],\n",
              "       [5.95156215e-02],\n",
              "       [4.08122480e-01],\n",
              "       [7.12794840e-01],\n",
              "       [4.10110168e-02],\n",
              "       [2.95694441e-01],\n",
              "       [1.61137834e-01],\n",
              "       [2.12102398e-01],\n",
              "       [4.06366676e-01],\n",
              "       [4.45495456e-01],\n",
              "       [6.92844868e-01],\n",
              "       [6.95981979e-01],\n",
              "       [8.26119781e-02],\n",
              "       [9.99595344e-01],\n",
              "       [7.22863153e-02],\n",
              "       [1.14402801e-01],\n",
              "       [7.71130323e-01],\n",
              "       [3.76710564e-01],\n",
              "       [3.11317563e-01],\n",
              "       [8.08262169e-01],\n",
              "       [1.27042383e-02],\n",
              "       [6.91663846e-02],\n",
              "       [8.13225031e-01],\n",
              "       [1.04138941e-01],\n",
              "       [9.99595344e-01],\n",
              "       [9.99713480e-01],\n",
              "       [9.98447001e-01],\n",
              "       [9.82104599e-01],\n",
              "       [7.27774501e-02],\n",
              "       [9.74078119e-01],\n",
              "       [2.12139547e-01],\n",
              "       [2.87894756e-01],\n",
              "       [1.02253683e-01],\n",
              "       [9.94905472e-01],\n",
              "       [3.43438745e-01],\n",
              "       [1.71713069e-01],\n",
              "       [9.53695893e-01],\n",
              "       [2.82164782e-01],\n",
              "       [5.86878777e-01],\n",
              "       [3.43803242e-02],\n",
              "       [9.82761011e-03],\n",
              "       [2.31472328e-01],\n",
              "       [9.77017879e-01],\n",
              "       [2.61550188e-01],\n",
              "       [8.19800273e-02],\n",
              "       [4.21298176e-01],\n",
              "       [1.80103704e-01],\n",
              "       [2.70475924e-01],\n",
              "       [9.89041030e-01],\n",
              "       [7.36021698e-01],\n",
              "       [4.76637214e-01],\n",
              "       [9.85230386e-01],\n",
              "       [2.15500686e-02],\n",
              "       [9.64641809e-01],\n",
              "       [5.53839244e-02],\n",
              "       [2.93288291e-01],\n",
              "       [9.90326941e-01],\n",
              "       [2.41560146e-01],\n",
              "       [6.96479380e-02],\n",
              "       [9.98176217e-01],\n",
              "       [3.51188093e-01],\n",
              "       [9.79783773e-01],\n",
              "       [2.31297880e-01],\n",
              "       [9.92301226e-01],\n",
              "       [8.39401484e-01],\n",
              "       [7.85599828e-01],\n",
              "       [3.02336346e-02],\n",
              "       [9.97414351e-01],\n",
              "       [7.42188990e-02],\n",
              "       [4.08607215e-01],\n",
              "       [4.09143865e-01],\n",
              "       [7.15370774e-01],\n",
              "       [9.93413270e-01],\n",
              "       [2.05934439e-02],\n",
              "       [8.60231340e-01],\n",
              "       [7.63865292e-01],\n",
              "       [9.68234539e-01],\n",
              "       [9.68680561e-01],\n",
              "       [3.76533717e-01],\n",
              "       [1.10815741e-01],\n",
              "       [9.99434888e-01],\n",
              "       [1.26113435e-02],\n",
              "       [2.84411795e-02],\n",
              "       [1.07116245e-01],\n",
              "       [9.14672732e-01],\n",
              "       [9.27565545e-02],\n",
              "       [2.37618774e-01],\n",
              "       [1.58981532e-02],\n",
              "       [8.26294720e-02],\n",
              "       [4.38673012e-02],\n",
              "       [2.75896430e-01],\n",
              "       [7.56116450e-01],\n",
              "       [6.85306564e-02],\n",
              "       [3.11377078e-01],\n",
              "       [8.79032016e-01],\n",
              "       [9.61327493e-01],\n",
              "       [3.51266831e-01],\n",
              "       [1.17506705e-01],\n",
              "       [9.99751389e-01],\n",
              "       [6.12574518e-01],\n",
              "       [9.16385651e-01],\n",
              "       [6.57109320e-01],\n",
              "       [8.37195933e-01],\n",
              "       [3.14667761e-01],\n",
              "       [9.84665632e-01],\n",
              "       [1.77602228e-02],\n",
              "       [1.98545203e-01],\n",
              "       [7.23512331e-03],\n",
              "       [5.07154316e-03],\n",
              "       [9.45067286e-01],\n",
              "       [8.01036060e-01],\n",
              "       [8.66525590e-01],\n",
              "       [2.27828771e-01],\n",
              "       [7.09311783e-01],\n",
              "       [6.88453466e-02],\n",
              "       [2.90169269e-02],\n",
              "       [1.61866367e-01],\n",
              "       [9.82184827e-01],\n",
              "       [1.89025804e-01],\n",
              "       [4.83057529e-01],\n",
              "       [9.93228793e-01],\n",
              "       [6.08083963e-01],\n",
              "       [6.22182608e-01],\n",
              "       [1.04495347e-01],\n",
              "       [2.01310724e-01],\n",
              "       [8.13991666e-01],\n",
              "       [2.41546288e-01],\n",
              "       [5.76340377e-01],\n",
              "       [1.70315504e-01],\n",
              "       [5.70569158e-01],\n",
              "       [3.44516844e-01],\n",
              "       [1.32681817e-01],\n",
              "       [7.91681111e-02],\n",
              "       [3.69736344e-01],\n",
              "       [2.21733987e-01],\n",
              "       [9.99824584e-01],\n",
              "       [9.85204577e-01],\n",
              "       [7.50691742e-02],\n",
              "       [1.94094125e-02],\n",
              "       [9.02754486e-01],\n",
              "       [9.39533785e-02],\n",
              "       [9.81472060e-02],\n",
              "       [4.19218957e-01],\n",
              "       [5.12591638e-02],\n",
              "       [6.12270832e-01],\n",
              "       [8.36676860e-04],\n",
              "       [4.36422408e-01],\n",
              "       [9.25012410e-01],\n",
              "       [2.77028710e-01],\n",
              "       [9.72393692e-01],\n",
              "       [9.98682439e-01],\n",
              "       [3.18795264e-01],\n",
              "       [1.45662367e-01],\n",
              "       [3.20488721e-01],\n",
              "       [3.65598910e-02],\n",
              "       [4.87358309e-03],\n",
              "       [9.79875326e-01],\n",
              "       [9.69454348e-01],\n",
              "       [6.45631552e-01],\n",
              "       [9.61050034e-01],\n",
              "       [6.44931570e-02],\n",
              "       [1.37478158e-01],\n",
              "       [1.18387192e-02],\n",
              "       [1.69642046e-01],\n",
              "       [4.01614904e-02],\n",
              "       [9.68107820e-01],\n",
              "       [1.05143882e-01],\n",
              "       [7.62794586e-03],\n",
              "       [9.69571650e-01],\n",
              "       [1.48440218e-02],\n",
              "       [8.85970443e-02],\n",
              "       [9.83895659e-01],\n",
              "       [4.69360203e-02],\n",
              "       [8.62182528e-02],\n",
              "       [9.02013481e-03],\n",
              "       [9.68709648e-01],\n",
              "       [6.17532015e-01],\n",
              "       [7.35709488e-01],\n",
              "       [6.59773469e-01],\n",
              "       [5.78878582e-01],\n",
              "       [6.32712618e-02],\n",
              "       [9.49937046e-01],\n",
              "       [3.75931822e-02],\n",
              "       [7.74892926e-01],\n",
              "       [3.77207726e-01],\n",
              "       [3.80904853e-01],\n",
              "       [3.48037362e-01],\n",
              "       [1.73869058e-01],\n",
              "       [7.24451363e-01],\n",
              "       [2.22612351e-01],\n",
              "       [6.48161650e-01],\n",
              "       [1.75739542e-01],\n",
              "       [7.56948769e-01],\n",
              "       [3.93681116e-02],\n",
              "       [8.69534314e-02],\n",
              "       [2.55630940e-01],\n",
              "       [9.80127335e-01],\n",
              "       [1.71754807e-01],\n",
              "       [1.11860111e-01],\n",
              "       [3.31105649e-01],\n",
              "       [2.70947754e-01],\n",
              "       [1.27286226e-01],\n",
              "       [2.88886074e-02],\n",
              "       [3.15929689e-02],\n",
              "       [9.81141984e-01],\n",
              "       [3.86260390e-01],\n",
              "       [2.14180514e-01],\n",
              "       [9.99761045e-01],\n",
              "       [4.20382246e-02],\n",
              "       [6.34546638e-01],\n",
              "       [2.55962044e-01],\n",
              "       [5.45907021e-02],\n",
              "       [2.02071443e-01],\n",
              "       [1.97461084e-01],\n",
              "       [1.18532829e-01],\n",
              "       [9.18153346e-01],\n",
              "       [2.60249734e-01],\n",
              "       [9.87691700e-01],\n",
              "       [9.10436586e-02],\n",
              "       [2.50431299e-02],\n",
              "       [9.93947148e-01],\n",
              "       [2.11789589e-02],\n",
              "       [9.95919287e-01],\n",
              "       [1.47187889e-01],\n",
              "       [3.94078121e-02],\n",
              "       [9.44233179e-01],\n",
              "       [4.81273234e-02],\n",
              "       [4.08543199e-02],\n",
              "       [9.74990785e-01],\n",
              "       [7.06579536e-03],\n",
              "       [2.04118788e-01],\n",
              "       [7.32319832e-01],\n",
              "       [9.04054999e-01],\n",
              "       [4.94062854e-03],\n",
              "       [1.75444931e-01],\n",
              "       [9.81174707e-01],\n",
              "       [9.68248963e-01],\n",
              "       [7.62137234e-01],\n",
              "       [4.48308349e-01],\n",
              "       [5.06751955e-01],\n",
              "       [4.45432425e-01],\n",
              "       [7.01723546e-02],\n",
              "       [1.07854232e-01],\n",
              "       [1.18628249e-01],\n",
              "       [7.24570394e-01],\n",
              "       [3.76635715e-02],\n",
              "       [4.28116381e-01],\n",
              "       [3.59577119e-01],\n",
              "       [1.29641062e-02],\n",
              "       [9.70757842e-01],\n",
              "       [9.98447001e-01],\n",
              "       [9.93377030e-01],\n",
              "       [4.25186418e-02],\n",
              "       [3.71760577e-01],\n",
              "       [1.34409010e-01],\n",
              "       [3.61915350e-01],\n",
              "       [8.00050974e-01],\n",
              "       [1.57295018e-01],\n",
              "       [1.97940934e-02],\n",
              "       [8.11484978e-02],\n",
              "       [4.32882980e-02],\n",
              "       [5.57754755e-01],\n",
              "       [1.12917088e-02],\n",
              "       [2.07160994e-01],\n",
              "       [5.16685545e-02],\n",
              "       [3.37749243e-01],\n",
              "       [4.15032059e-01],\n",
              "       [3.73019397e-01],\n",
              "       [2.30326369e-01],\n",
              "       [4.77690361e-02],\n",
              "       [3.58045608e-01],\n",
              "       [8.73542801e-02],\n",
              "       [9.96752679e-01],\n",
              "       [9.26195562e-01],\n",
              "       [4.77089256e-01],\n",
              "       [6.71233714e-01],\n",
              "       [2.14905720e-02],\n",
              "       [5.46965659e-01],\n",
              "       [9.89833832e-01],\n",
              "       [6.38525844e-01],\n",
              "       [2.13468134e-01],\n",
              "       [9.74627733e-01],\n",
              "       [2.04149216e-01],\n",
              "       [9.16311383e-01],\n",
              "       [3.06069851e-01],\n",
              "       [3.08447313e-02],\n",
              "       [5.77013731e-01],\n",
              "       [5.11904180e-01],\n",
              "       [9.94911015e-01],\n",
              "       [1.36562824e-01],\n",
              "       [5.38965762e-02],\n",
              "       [7.77242854e-02],\n",
              "       [1.57295018e-01],\n",
              "       [9.98645246e-01],\n",
              "       [2.67376732e-02],\n",
              "       [6.91462219e-01],\n",
              "       [9.67936814e-01],\n",
              "       [7.88541362e-02],\n",
              "       [9.99595344e-01],\n",
              "       [2.97896434e-02],\n",
              "       [3.40027899e-01],\n",
              "       [4.90091555e-02],\n",
              "       [7.58360386e-01],\n",
              "       [8.66742849e-01],\n",
              "       [6.61253110e-02],\n",
              "       [1.48344832e-03],\n",
              "       [2.22866774e-01],\n",
              "       [9.89204109e-01],\n",
              "       [8.50746512e-01],\n",
              "       [1.47102013e-01],\n",
              "       [4.36712980e-01],\n",
              "       [6.89033806e-01],\n",
              "       [3.23288627e-02],\n",
              "       [9.89835441e-01],\n",
              "       [4.58524168e-01],\n",
              "       [9.98489261e-01],\n",
              "       [9.23755527e-01],\n",
              "       [1.09756708e-01],\n",
              "       [3.16502601e-01],\n",
              "       [1.07238561e-01],\n",
              "       [9.14474666e-01],\n",
              "       [6.91770673e-01],\n",
              "       [3.83574814e-01],\n",
              "       [5.10518812e-02],\n",
              "       [3.03842396e-01],\n",
              "       [4.11283225e-02],\n",
              "       [8.94902721e-02],\n",
              "       [1.10490061e-01],\n",
              "       [4.00040656e-01],\n",
              "       [5.36560893e-01],\n",
              "       [1.35443985e-01],\n",
              "       [9.99013305e-01],\n",
              "       [9.80632961e-01],\n",
              "       [2.45889276e-01],\n",
              "       [7.00781584e-01],\n",
              "       [2.20241398e-01],\n",
              "       [3.76505442e-02],\n",
              "       [3.51788133e-01],\n",
              "       [6.46410048e-01],\n",
              "       [1.17112614e-01],\n",
              "       [2.26636589e-01],\n",
              "       [1.89166553e-02],\n",
              "       [5.00754952e-01],\n",
              "       [3.08600464e-03],\n",
              "       [9.38351929e-01],\n",
              "       [9.74562943e-01],\n",
              "       [9.92212176e-01],\n",
              "       [9.70212102e-01],\n",
              "       [8.08027208e-01],\n",
              "       [1.40707567e-01],\n",
              "       [4.77285460e-02],\n",
              "       [6.58679664e-01],\n",
              "       [9.05437052e-01],\n",
              "       [9.97968137e-01],\n",
              "       [3.68064316e-03],\n",
              "       [1.27750143e-01],\n",
              "       [1.54276863e-01],\n",
              "       [9.98564184e-01],\n",
              "       [9.99143124e-01],\n",
              "       [2.66609102e-01],\n",
              "       [1.10736243e-01],\n",
              "       [9.96089101e-01],\n",
              "       [6.51266649e-02],\n",
              "       [3.82639170e-01],\n",
              "       [9.79270697e-01],\n",
              "       [1.12409376e-01],\n",
              "       [4.48881015e-02],\n",
              "       [9.35932875e-01],\n",
              "       [3.14008266e-01],\n",
              "       [4.19615746e-01],\n",
              "       [9.59775746e-01],\n",
              "       [1.98121257e-02],\n",
              "       [5.10047264e-02],\n",
              "       [1.22444183e-02],\n",
              "       [2.09558904e-02],\n",
              "       [1.02299169e-01],\n",
              "       [9.68176126e-01],\n",
              "       [2.39398237e-02],\n",
              "       [4.34285045e-01],\n",
              "       [4.60935920e-01],\n",
              "       [7.96084180e-02],\n",
              "       [2.62574643e-01],\n",
              "       [7.54601434e-02],\n",
              "       [3.02726120e-01],\n",
              "       [9.97230589e-01],\n",
              "       [6.12423658e-01],\n",
              "       [1.35295093e-01],\n",
              "       [1.32724509e-01],\n",
              "       [1.47443682e-01],\n",
              "       [7.92786926e-02],\n",
              "       [7.11278975e-01],\n",
              "       [2.20980030e-02],\n",
              "       [8.71971190e-01],\n",
              "       [7.68621564e-01],\n",
              "       [5.94302118e-01],\n",
              "       [6.48605525e-01],\n",
              "       [7.97437966e-01],\n",
              "       [1.09977968e-01],\n",
              "       [3.28775257e-01],\n",
              "       [3.76990706e-01],\n",
              "       [9.15754914e-01],\n",
              "       [2.50478297e-01],\n",
              "       [2.68102199e-01],\n",
              "       [3.51340890e-01],\n",
              "       [1.21240132e-02],\n",
              "       [1.13829330e-01],\n",
              "       [3.49334240e-01],\n",
              "       [7.92783558e-01],\n",
              "       [1.50793537e-01],\n",
              "       [9.90358531e-01],\n",
              "       [9.05843496e-01],\n",
              "       [7.07595706e-01],\n",
              "       [9.79048967e-01],\n",
              "       [1.55548781e-01],\n",
              "       [8.49582925e-02],\n",
              "       [8.97894859e-01],\n",
              "       [1.71925187e-01],\n",
              "       [2.20860522e-02],\n",
              "       [9.09175798e-02],\n",
              "       [1.40252069e-01],\n",
              "       [1.86714483e-03],\n",
              "       [7.91679561e-01],\n",
              "       [7.97165811e-01],\n",
              "       [8.19607079e-01],\n",
              "       [9.32401896e-01],\n",
              "       [9.02192369e-02],\n",
              "       [1.60570458e-01],\n",
              "       [7.09617436e-01],\n",
              "       [1.65422652e-02],\n",
              "       [2.77241170e-01],\n",
              "       [1.52802140e-01],\n",
              "       [6.73975706e-01],\n",
              "       [5.78966200e-01],\n",
              "       [4.30492945e-02],\n",
              "       [6.50673881e-02],\n",
              "       [5.46324432e-01],\n",
              "       [1.17563419e-01],\n",
              "       [1.38310149e-01],\n",
              "       [1.24586493e-01],\n",
              "       [2.10702658e-01],\n",
              "       [9.98040974e-01],\n",
              "       [9.76195633e-01],\n",
              "       [3.47617775e-01],\n",
              "       [8.59477341e-01],\n",
              "       [9.88440514e-01],\n",
              "       [1.55521766e-03],\n",
              "       [9.60159898e-01],\n",
              "       [2.53112942e-01],\n",
              "       [4.28499848e-01],\n",
              "       [2.83266187e-01],\n",
              "       [1.00148752e-01],\n",
              "       [1.24896109e-01],\n",
              "       [2.99652666e-02],\n",
              "       [7.78548717e-02],\n",
              "       [7.55848065e-02],\n",
              "       [7.53853679e-01],\n",
              "       [2.78793007e-01],\n",
              "       [9.92006361e-01],\n",
              "       [5.21143153e-02],\n",
              "       [6.41370296e-01],\n",
              "       [5.15542030e-01],\n",
              "       [1.60790253e-02],\n",
              "       [6.44968003e-02],\n",
              "       [9.70251381e-01],\n",
              "       [6.83240592e-01],\n",
              "       [9.61821735e-01],\n",
              "       [1.88314587e-01],\n",
              "       [8.33200887e-02],\n",
              "       [4.22552556e-01],\n",
              "       [3.11406940e-01],\n",
              "       [3.28279197e-01],\n",
              "       [9.88440514e-01],\n",
              "       [1.37543976e-02],\n",
              "       [4.89147492e-02],\n",
              "       [1.51091948e-01],\n",
              "       [9.96615231e-01],\n",
              "       [1.87407851e-01],\n",
              "       [5.32403030e-02],\n",
              "       [7.65708745e-01],\n",
              "       [5.34899943e-02],\n",
              "       [3.49398218e-02],\n",
              "       [1.85849547e-01],\n",
              "       [2.46949211e-01],\n",
              "       [1.33227542e-01],\n",
              "       [3.48222256e-01],\n",
              "       [3.31614465e-01],\n",
              "       [2.01693609e-01],\n",
              "       [9.37766060e-02],\n",
              "       [3.85251939e-01],\n",
              "       [1.76398121e-02],\n",
              "       [9.18730021e-01],\n",
              "       [8.29199374e-01],\n",
              "       [5.20080984e-01],\n",
              "       [2.68461239e-02],\n",
              "       [2.39168145e-02],\n",
              "       [9.81336415e-01],\n",
              "       [6.67943835e-01],\n",
              "       [9.99230623e-01],\n",
              "       [2.67803073e-01],\n",
              "       [8.55900764e-01],\n",
              "       [1.31504923e-01],\n",
              "       [5.31357944e-01],\n",
              "       [7.13853121e-01],\n",
              "       [2.37011183e-02],\n",
              "       [9.78849828e-01],\n",
              "       [1.13875911e-01],\n",
              "       [5.18938243e-01],\n",
              "       [9.97782052e-01],\n",
              "       [1.32297516e-01],\n",
              "       [2.95883343e-02],\n",
              "       [3.06369364e-01],\n",
              "       [1.22971889e-02],\n",
              "       [4.44379091e-01],\n",
              "       [9.99751389e-01],\n",
              "       [2.26219401e-01],\n",
              "       [9.44624662e-01],\n",
              "       [2.43675023e-01],\n",
              "       [8.13417137e-01],\n",
              "       [2.79195040e-01],\n",
              "       [2.55295187e-01],\n",
              "       [1.58739183e-02],\n",
              "       [6.08670473e-01],\n",
              "       [1.58667099e-02],\n",
              "       [1.88278452e-01],\n",
              "       [9.55291212e-01],\n",
              "       [9.47217584e-01],\n",
              "       [9.94849503e-01],\n",
              "       [7.45977581e-01],\n",
              "       [4.95024808e-02],\n",
              "       [3.20711404e-01],\n",
              "       [1.58158839e-02],\n",
              "       [5.05022347e-01],\n",
              "       [3.65095884e-01],\n",
              "       [8.93951714e-01],\n",
              "       [4.18582894e-02],\n",
              "       [7.54061162e-01],\n",
              "       [8.22090507e-01],\n",
              "       [2.51415551e-01],\n",
              "       [2.12485507e-01],\n",
              "       [2.68102199e-01],\n",
              "       [1.67644054e-01],\n",
              "       [4.53592479e-01],\n",
              "       [6.74790621e-01],\n",
              "       [9.98352647e-01],\n",
              "       [8.27927068e-02],\n",
              "       [7.76807126e-03],\n",
              "       [2.23243851e-02],\n",
              "       [2.74104029e-01],\n",
              "       [1.93286613e-01],\n",
              "       [2.92980354e-02],\n",
              "       [8.16740215e-01],\n",
              "       [9.14384574e-02],\n",
              "       [1.84002519e-01],\n",
              "       [1.95645034e-01],\n",
              "       [2.55884111e-01],\n",
              "       [9.33816910e-01],\n",
              "       [1.51754215e-01],\n",
              "       [4.88253772e-01],\n",
              "       [3.22452664e-01],\n",
              "       [1.27314925e-02],\n",
              "       [1.02158055e-01],\n",
              "       [9.99500632e-01],\n",
              "       [8.05651546e-01],\n",
              "       [4.17608814e-03],\n",
              "       [3.63851011e-01],\n",
              "       [1.89762399e-01],\n",
              "       [6.62813112e-02],\n",
              "       [8.75201464e-01],\n",
              "       [4.91872311e-01],\n",
              "       [6.15506887e-01],\n",
              "       [3.61882031e-01],\n",
              "       [2.24640489e-01],\n",
              "       [6.05879188e-01],\n",
              "       [1.78883404e-01],\n",
              "       [5.67772500e-02],\n",
              "       [8.90862942e-01],\n",
              "       [1.85845599e-01],\n",
              "       [3.69558752e-01],\n",
              "       [9.74226117e-01],\n",
              "       [1.92579791e-01],\n",
              "       [4.09186691e-01],\n",
              "       [1.86714483e-03],\n",
              "       [3.12584311e-01],\n",
              "       [8.15527737e-01],\n",
              "       [9.99595344e-01],\n",
              "       [6.59792125e-01],\n",
              "       [4.98409830e-02],\n",
              "       [9.88633871e-01],\n",
              "       [3.80018592e-01],\n",
              "       [8.72284651e-01],\n",
              "       [3.80018592e-01],\n",
              "       [9.90416884e-01],\n",
              "       [9.31089185e-03],\n",
              "       [3.79686624e-01],\n",
              "       [7.04803541e-02],\n",
              "       [9.72633958e-01],\n",
              "       [2.02482805e-01],\n",
              "       [4.12503570e-01],\n",
              "       [6.34426847e-02],\n",
              "       [3.17728728e-01],\n",
              "       [1.05949633e-01],\n",
              "       [1.99736953e-02],\n",
              "       [2.48234317e-01],\n",
              "       [7.30331391e-02],\n",
              "       [9.55784023e-02],\n",
              "       [7.78963208e-01],\n",
              "       [2.40873992e-02],\n",
              "       [1.27807528e-01],\n",
              "       [3.92095521e-02],\n",
              "       [1.31704938e-02],\n",
              "       [1.41260952e-01],\n",
              "       [6.21181190e-01],\n",
              "       [6.56292662e-02],\n",
              "       [5.53403735e-01],\n",
              "       [1.14460565e-01],\n",
              "       [2.62015522e-01],\n",
              "       [8.95862937e-01],\n",
              "       [1.53166056e-01],\n",
              "       [3.81158367e-02],\n",
              "       [6.22757711e-02],\n",
              "       [5.53117413e-03],\n",
              "       [9.85229909e-01],\n",
              "       [1.31704938e-02],\n",
              "       [3.82751137e-01],\n",
              "       [9.90072846e-01],\n",
              "       [9.93412197e-01],\n",
              "       [9.97125804e-01],\n",
              "       [9.99874353e-01],\n",
              "       [9.99549925e-01],\n",
              "       [1.95158243e-01],\n",
              "       [7.46080726e-02],\n",
              "       [2.61112452e-01],\n",
              "       [5.39331794e-01],\n",
              "       [9.95755851e-01],\n",
              "       [5.01969576e-01],\n",
              "       [2.03759983e-01],\n",
              "       [5.39000511e-01],\n",
              "       [6.77065909e-01],\n",
              "       [2.86829900e-02],\n",
              "       [5.89838065e-03],\n",
              "       [9.28891376e-02],\n",
              "       [3.46980870e-01],\n",
              "       [6.44024415e-03],\n",
              "       [8.10936019e-02],\n",
              "       [4.44721013e-01],\n",
              "       [9.83701050e-01],\n",
              "       [2.99610291e-02],\n",
              "       [9.17359412e-01],\n",
              "       [7.45560288e-01],\n",
              "       [7.39446655e-02],\n",
              "       [3.37556869e-01],\n",
              "       [1.23058438e-01],\n",
              "       [7.17870593e-01],\n",
              "       [4.41328883e-01],\n",
              "       [1.25615466e-02]], dtype=float32)"
            ]
          },
          "metadata": {},
          "execution_count": 60
        }
      ]
    },
    {
      "cell_type": "code",
      "source": [
        "# Convert model prediction probabiliites to label format\n",
        "model_1_pred_probs.shape"
      ],
      "metadata": {
        "colab": {
          "base_uri": "https://localhost:8080/"
        },
        "id": "xvqJaUwUS1dV",
        "outputId": "66f6d11e-069f-4e10-93d2-5a444b88bb3c"
      },
      "execution_count": 61,
      "outputs": [
        {
          "output_type": "execute_result",
          "data": {
            "text/plain": [
              "(762, 1)"
            ]
          },
          "metadata": {},
          "execution_count": 61
        }
      ]
    },
    {
      "cell_type": "code",
      "source": [
        "model_1_preds = tf.squeeze(tf.round(model_1_pred_probs))\n",
        "model_1_preds.shape"
      ],
      "metadata": {
        "colab": {
          "base_uri": "https://localhost:8080/"
        },
        "id": "Kb3Du-BMUWIu",
        "outputId": "4b314367-2f10-419a-8b47-039478bc12af"
      },
      "execution_count": 62,
      "outputs": [
        {
          "output_type": "execute_result",
          "data": {
            "text/plain": [
              "TensorShape([762])"
            ]
          },
          "metadata": {},
          "execution_count": 62
        }
      ]
    },
    {
      "cell_type": "code",
      "source": [
        "model_1_preds[:20]"
      ],
      "metadata": {
        "colab": {
          "base_uri": "https://localhost:8080/"
        },
        "id": "WqU7_0clUbSt",
        "outputId": "aa653495-26a1-4138-9fbf-52201e0da764"
      },
      "execution_count": 64,
      "outputs": [
        {
          "output_type": "execute_result",
          "data": {
            "text/plain": [
              "<tf.Tensor: shape=(20,), dtype=float32, numpy=\n",
              "array([0., 1., 1., 0., 0., 1., 1., 1., 1., 0., 0., 1., 0., 0., 0., 0., 0.,\n",
              "       0., 0., 1.], dtype=float32)>"
            ]
          },
          "metadata": {},
          "execution_count": 64
        }
      ]
    },
    {
      "cell_type": "code",
      "source": [
        "# Calculate our model_1 results\n",
        "model_1_results = eval_metrics(y_true=y_val,\n",
        "                               y_pred=model_1_preds)\n",
        "\n",
        "model_1_results"
      ],
      "metadata": {
        "colab": {
          "base_uri": "https://localhost:8080/"
        },
        "id": "-7v2rTU0Ucx8",
        "outputId": "43e10bc9-b1fa-4bdb-be76-4fe126e8b18c"
      },
      "execution_count": 70,
      "outputs": [
        {
          "output_type": "execute_result",
          "data": {
            "text/plain": [
              "{'accuracy': 0.7834645669291339,\n",
              " 'precision': 0.7872123378365872,\n",
              " 'recall': 0.7834645669291339,\n",
              " 'f1': 0.7807800582578167}"
            ]
          },
          "metadata": {},
          "execution_count": 70
        }
      ]
    },
    {
      "cell_type": "markdown",
      "source": [
        "## Visualizing learned embeddings"
      ],
      "metadata": {
        "id": "PLeVtxfcVCKV"
      }
    },
    {
      "cell_type": "code",
      "source": [
        "# Get the vocabulary from the text vectorization layer\n",
        "words_in_vocab = text_vectorizer.get_vocabulary()\n",
        "len(words_in_vocab), words_in_vocab[:10]"
      ],
      "metadata": {
        "colab": {
          "base_uri": "https://localhost:8080/"
        },
        "id": "cy0jhQVVV14p",
        "outputId": "dd4cfe40-06a6-4d18-c8c5-5b4b30b60267"
      },
      "execution_count": 71,
      "outputs": [
        {
          "output_type": "execute_result",
          "data": {
            "text/plain": [
              "(10000, ['', '[UNK]', 'the', 'a', 'in', 'to', 'of', 'and', 'i', 'is'])"
            ]
          },
          "metadata": {},
          "execution_count": 71
        }
      ]
    },
    {
      "cell_type": "code",
      "source": [
        "model_1.summary()"
      ],
      "metadata": {
        "colab": {
          "base_uri": "https://localhost:8080/"
        },
        "id": "LSF-K9VQV_RA",
        "outputId": "b244c1e4-405b-40e1-8572-6c9fcdaa675c"
      },
      "execution_count": 72,
      "outputs": [
        {
          "output_type": "stream",
          "name": "stdout",
          "text": [
            "Model: \"model_1_dense\"\n",
            "_________________________________________________________________\n",
            " Layer (type)                Output Shape              Param #   \n",
            "=================================================================\n",
            " input_6 (InputLayer)        [(None, 1)]               0         \n",
            "                                                                 \n",
            " text_vectorization_1 (TextV  (None, 15)               0         \n",
            " ectorization)                                                   \n",
            "                                                                 \n",
            " embedding (Embedding)       (None, 15, 128)           1280000   \n",
            "                                                                 \n",
            " global_average_pooling1d (G  (None, 128)              0         \n",
            " lobalAveragePooling1D)                                          \n",
            "                                                                 \n",
            " dense_4 (Dense)             (None, 1)                 129       \n",
            "                                                                 \n",
            "=================================================================\n",
            "Total params: 1,280,129\n",
            "Trainable params: 1,280,129\n",
            "Non-trainable params: 0\n",
            "_________________________________________________________________\n"
          ]
        }
      ]
    },
    {
      "cell_type": "code",
      "source": [
        "# Get the weight matrix of embedding layer\n",
        "# (these are the numerical representations of each token in out training data which have been learned for 5 epochs)\n",
        "embed_weights = model_1.get_layer(\"embedding\").get_weights()\n",
        "embed_weights[0].shape"
      ],
      "metadata": {
        "colab": {
          "base_uri": "https://localhost:8080/"
        },
        "id": "APxq8SkAWMbF",
        "outputId": "e3229bf3-96eb-4563-ee80-7a3ebec6ee7c"
      },
      "execution_count": 74,
      "outputs": [
        {
          "output_type": "execute_result",
          "data": {
            "text/plain": [
              "(10000, 128)"
            ]
          },
          "metadata": {},
          "execution_count": 74
        }
      ]
    },
    {
      "cell_type": "markdown",
      "source": [
        "Now we've got the embedding matrix our model has learned to represent our tokens, let's see how we can visualize iter\n",
        "To do so, TensorFlow has a handy tool called projector."
      ],
      "metadata": {
        "id": "qJNvq1iFWcL4"
      }
    },
    {
      "cell_type": "code",
      "source": [
        "# Create embedding files (from tf's word embedding documentation)\n",
        "import io\n",
        "out_v = io.open('vectors.tsv', 'w', encoding='utf-8')\n",
        "out_m = io.open('metadata.tsv', 'w', encoding='utf-8')\n",
        "\n",
        "for index, word in enumerate(words_in_vocab):\n",
        "  if index == 0:\n",
        "    continue # skip, 0 it's padding\n",
        "  \n",
        "  vec = embed_weights[0][index]\n",
        "  out_v.write('\\t'.join([str(x) for x in vec]) + \"\\n\")\n",
        "  out_m.write(word + \"\\n\")\n",
        "\n",
        "out_v.close()\n",
        "out_m.close()"
      ],
      "metadata": {
        "id": "tZgmfQNAXGFp"
      },
      "execution_count": 81,
      "outputs": []
    },
    {
      "cell_type": "code",
      "source": [
        "# Download files from Colab to upload to projector\n",
        "try:\n",
        "  from google.colab import files\n",
        "  files.download('vectors.tsv')\n",
        "  files.download('metadata.tsv')\n",
        "except Exception:\n",
        "  pass"
      ],
      "metadata": {
        "colab": {
          "base_uri": "https://localhost:8080/",
          "height": 17
        },
        "id": "Jnz-S51OarI8",
        "outputId": "3bde721b-eb1b-4eef-df71-9da18e494aa9"
      },
      "execution_count": 82,
      "outputs": [
        {
          "output_type": "display_data",
          "data": {
            "text/plain": [
              "<IPython.core.display.Javascript object>"
            ],
            "application/javascript": [
              "\n",
              "    async function download(id, filename, size) {\n",
              "      if (!google.colab.kernel.accessAllowed) {\n",
              "        return;\n",
              "      }\n",
              "      const div = document.createElement('div');\n",
              "      const label = document.createElement('label');\n",
              "      label.textContent = `Downloading \"${filename}\": `;\n",
              "      div.appendChild(label);\n",
              "      const progress = document.createElement('progress');\n",
              "      progress.max = size;\n",
              "      div.appendChild(progress);\n",
              "      document.body.appendChild(div);\n",
              "\n",
              "      const buffers = [];\n",
              "      let downloaded = 0;\n",
              "\n",
              "      const channel = await google.colab.kernel.comms.open(id);\n",
              "      // Send a message to notify the kernel that we're ready.\n",
              "      channel.send({})\n",
              "\n",
              "      for await (const message of channel.messages) {\n",
              "        // Send a message to notify the kernel that we're ready.\n",
              "        channel.send({})\n",
              "        if (message.buffers) {\n",
              "          for (const buffer of message.buffers) {\n",
              "            buffers.push(buffer);\n",
              "            downloaded += buffer.byteLength;\n",
              "            progress.value = downloaded;\n",
              "          }\n",
              "        }\n",
              "      }\n",
              "      const blob = new Blob(buffers, {type: 'application/binary'});\n",
              "      const a = document.createElement('a');\n",
              "      a.href = window.URL.createObjectURL(blob);\n",
              "      a.download = filename;\n",
              "      div.appendChild(a);\n",
              "      a.click();\n",
              "      div.remove();\n",
              "    }\n",
              "  "
            ]
          },
          "metadata": {}
        },
        {
          "output_type": "display_data",
          "data": {
            "text/plain": [
              "<IPython.core.display.Javascript object>"
            ],
            "application/javascript": [
              "download(\"download_5b4a7427-f12a-4d2d-9476-b92188b0a702\", \"vectors.tsv\", 15257447)"
            ]
          },
          "metadata": {}
        },
        {
          "output_type": "display_data",
          "data": {
            "text/plain": [
              "<IPython.core.display.Javascript object>"
            ],
            "application/javascript": [
              "\n",
              "    async function download(id, filename, size) {\n",
              "      if (!google.colab.kernel.accessAllowed) {\n",
              "        return;\n",
              "      }\n",
              "      const div = document.createElement('div');\n",
              "      const label = document.createElement('label');\n",
              "      label.textContent = `Downloading \"${filename}\": `;\n",
              "      div.appendChild(label);\n",
              "      const progress = document.createElement('progress');\n",
              "      progress.max = size;\n",
              "      div.appendChild(progress);\n",
              "      document.body.appendChild(div);\n",
              "\n",
              "      const buffers = [];\n",
              "      let downloaded = 0;\n",
              "\n",
              "      const channel = await google.colab.kernel.comms.open(id);\n",
              "      // Send a message to notify the kernel that we're ready.\n",
              "      channel.send({})\n",
              "\n",
              "      for await (const message of channel.messages) {\n",
              "        // Send a message to notify the kernel that we're ready.\n",
              "        channel.send({})\n",
              "        if (message.buffers) {\n",
              "          for (const buffer of message.buffers) {\n",
              "            buffers.push(buffer);\n",
              "            downloaded += buffer.byteLength;\n",
              "            progress.value = downloaded;\n",
              "          }\n",
              "        }\n",
              "      }\n",
              "      const blob = new Blob(buffers, {type: 'application/binary'});\n",
              "      const a = document.createElement('a');\n",
              "      a.href = window.URL.createObjectURL(blob);\n",
              "      a.download = filename;\n",
              "      div.appendChild(a);\n",
              "      a.click();\n",
              "      div.remove();\n",
              "    }\n",
              "  "
            ]
          },
          "metadata": {}
        },
        {
          "output_type": "display_data",
          "data": {
            "text/plain": [
              "<IPython.core.display.Javascript object>"
            ],
            "application/javascript": [
              "download(\"download_c5feaad7-c1d2-4e9e-bcb4-fa0644263ea7\", \"metadata.tsv\", 80388)"
            ]
          },
          "metadata": {}
        }
      ]
    },
    {
      "cell_type": "markdown",
      "source": [
        "## Recurrent neural networks (RNN's)\n",
        "\n",
        "RNN's are useful for sequence data.\n",
        "\n",
        "The premise of a recurrent neural network is to use the representation of a previous input to aid the representation of a later input.\n",
        "\n"
      ],
      "metadata": {
        "id": "7eB4V06sdVOx"
      }
    },
    {
      "cell_type": "markdown",
      "source": [
        "### Model 2: LSTM\n",
        "\n",
        "LSTM = long short term memory (one of the most popular LSTM cells)\n",
        "\n",
        "Our structure of an RNN typically looks like this:\n",
        "\n",
        "```\n",
        "Input (text) -> Tokenize -> Embedding -> Layers (RNNs/dense) -> Output (label probability)\n",
        "```"
      ],
      "metadata": {
        "id": "cbPNEULUe7k3"
      }
    },
    {
      "cell_type": "code",
      "source": [
        "# Create an LSTM model\n",
        "from tensorflow.keras import layers\n",
        "\n",
        "inputs = layers.Input(shape=(1,), dtype=tf.string)\n",
        "x = text_vectorizer(inputs)\n",
        "x = embedding(x)\n",
        "# x = layers.LSTM(64, return_sequences=True)(x) # when you are stacking RNN cells together, you need to set return_sequences=True\n",
        "# x = layers.Dropout(0.5)(x)\n",
        "x = layers.LSTM(64)(x)\n",
        "# x = layers.Dropout(0.5)(x)\n",
        "# x = layers.Dense(64, activation=\"relu\", kernel_regularizer=\"l2\")(x)\n",
        "# x = layers.Dropout(0.5)(x)\n",
        "outputs = layers.Dense(1, activation=\"sigmoid\")(x)\n",
        "\n",
        "model_2 = tf.keras.Model(inputs, outputs, name=\"model_2_LSTM\")"
      ],
      "metadata": {
        "id": "AXq170INgvQ8"
      },
      "execution_count": 108,
      "outputs": []
    },
    {
      "cell_type": "code",
      "source": [
        "model_2.summary()"
      ],
      "metadata": {
        "colab": {
          "base_uri": "https://localhost:8080/"
        },
        "id": "BoHUTiKchu8-",
        "outputId": "dd9110ee-2f2b-49f8-d610-e03b7d048def"
      },
      "execution_count": 109,
      "outputs": [
        {
          "output_type": "stream",
          "name": "stdout",
          "text": [
            "Model: \"model_2_LSTM\"\n",
            "_________________________________________________________________\n",
            " Layer (type)                Output Shape              Param #   \n",
            "=================================================================\n",
            " input_13 (InputLayer)       [(None, 1)]               0         \n",
            "                                                                 \n",
            " text_vectorization_1 (TextV  (None, 15)               0         \n",
            " ectorization)                                                   \n",
            "                                                                 \n",
            " embedding (Embedding)       (None, 15, 128)           1280000   \n",
            "                                                                 \n",
            " lstm_12 (LSTM)              (None, 64)                49408     \n",
            "                                                                 \n",
            " dense_17 (Dense)            (None, 1)                 65        \n",
            "                                                                 \n",
            "=================================================================\n",
            "Total params: 1,329,473\n",
            "Trainable params: 1,329,473\n",
            "Non-trainable params: 0\n",
            "_________________________________________________________________\n"
          ]
        }
      ]
    },
    {
      "cell_type": "code",
      "source": [
        "# Compile the model\n",
        "model_2.compile(loss=tf.keras.losses.BinaryCrossentropy(),\n",
        "                optimizer=tf.keras.optimizers.Adam(),\n",
        "                metrics=[\"accuracy\"])"
      ],
      "metadata": {
        "id": "ZDTXM-pGhvzr"
      },
      "execution_count": 110,
      "outputs": []
    },
    {
      "cell_type": "code",
      "source": [
        "# Fit the model\n",
        "model_2_history = model_2.fit(X_train,\n",
        "                              y_train,\n",
        "                              epochs=5,\n",
        "                              validation_data=(X_val, y_val),\n",
        "                              callbacks=[create_tensorboard_callback(dir_name=SAVE_DIR,\n",
        "                                                                    experiment_name=\"model_2_lstm\")])"
      ],
      "metadata": {
        "colab": {
          "base_uri": "https://localhost:8080/"
        },
        "id": "6h8xof5yi06Q",
        "outputId": "e34defce-eb98-48a1-f074-a3e0aef914f4"
      },
      "execution_count": 111,
      "outputs": [
        {
          "output_type": "stream",
          "name": "stdout",
          "text": [
            "Saving TensorBoard log files to: model_logs/model_2_lstm/20230416-101633\n",
            "Epoch 1/5\n",
            "215/215 [==============================] - 14s 53ms/step - loss: 0.1009 - accuracy: 0.9612 - val_loss: 1.1561 - val_accuracy: 0.7428\n",
            "Epoch 2/5\n",
            "215/215 [==============================] - 2s 11ms/step - loss: 0.0351 - accuracy: 0.9834 - val_loss: 1.2700 - val_accuracy: 0.7520\n",
            "Epoch 3/5\n",
            "215/215 [==============================] - 2s 11ms/step - loss: 0.0354 - accuracy: 0.9837 - val_loss: 1.5052 - val_accuracy: 0.7362\n",
            "Epoch 4/5\n",
            "215/215 [==============================] - 2s 10ms/step - loss: 0.0360 - accuracy: 0.9838 - val_loss: 1.2720 - val_accuracy: 0.7441\n",
            "Epoch 5/5\n",
            "215/215 [==============================] - 2s 8ms/step - loss: 0.0311 - accuracy: 0.9847 - val_loss: 1.5523 - val_accuracy: 0.7585\n"
          ]
        }
      ]
    },
    {
      "cell_type": "code",
      "source": [
        "# Make predictions\n",
        "model_2_pred_probs = model_2.predict(X_val)\n",
        "model_2_pred_probs[:10]"
      ],
      "metadata": {
        "colab": {
          "base_uri": "https://localhost:8080/"
        },
        "id": "ISBRhXI1jC-Q",
        "outputId": "b63f0ffb-e111-445a-cc49-81d170430683"
      },
      "execution_count": 112,
      "outputs": [
        {
          "output_type": "stream",
          "name": "stdout",
          "text": [
            "24/24 [==============================] - 1s 3ms/step\n"
          ]
        },
        {
          "output_type": "execute_result",
          "data": {
            "text/plain": [
              "array([[7.0985977e-04],\n",
              "       [7.2242898e-01],\n",
              "       [9.9990785e-01],\n",
              "       [9.6155358e-03],\n",
              "       [7.9323603e-05],\n",
              "       [9.9985862e-01],\n",
              "       [9.9802279e-01],\n",
              "       [9.9990308e-01],\n",
              "       [9.9988091e-01],\n",
              "       [3.6901779e-02]], dtype=float32)"
            ]
          },
          "metadata": {},
          "execution_count": 112
        }
      ]
    },
    {
      "cell_type": "code",
      "source": [
        "model_2_preds = tf.squeeze(tf.round(model_2_pred_probs))\n",
        "model_2_preds[:10]"
      ],
      "metadata": {
        "colab": {
          "base_uri": "https://localhost:8080/"
        },
        "id": "8YK1OORbkd00",
        "outputId": "d64bffb6-7105-49cf-c5d2-01e4fcb36b7b"
      },
      "execution_count": 113,
      "outputs": [
        {
          "output_type": "execute_result",
          "data": {
            "text/plain": [
              "<tf.Tensor: shape=(10,), dtype=float32, numpy=array([0., 1., 1., 0., 0., 1., 1., 1., 1., 0.], dtype=float32)>"
            ]
          },
          "metadata": {},
          "execution_count": 113
        }
      ]
    },
    {
      "cell_type": "code",
      "source": [
        "# Calculate model 2 results\n",
        "model_2_results = eval_metrics(y_true=y_val,\n",
        "                               y_pred=model_2_preds)\n",
        "\n",
        "model_2_results"
      ],
      "metadata": {
        "colab": {
          "base_uri": "https://localhost:8080/"
        },
        "id": "nt4JhvwCkkO9",
        "outputId": "c5d0bb73-a4ba-446c-8f1b-cc0ca8c40cb4"
      },
      "execution_count": 114,
      "outputs": [
        {
          "output_type": "execute_result",
          "data": {
            "text/plain": [
              "{'accuracy': 0.7585301837270341,\n",
              " 'precision': 0.7611862201281965,\n",
              " 'recall': 0.7585301837270341,\n",
              " 'f1': 0.7556142444864076}"
            ]
          },
          "metadata": {},
          "execution_count": 114
        }
      ]
    },
    {
      "cell_type": "markdown",
      "source": [
        "### Model 3: GRU\n",
        "\n",
        "Another popular and effective RNN component is the GRU or gated recurrent unit.\n",
        "\n",
        "The GRU cell has similar features to an LSTM cell, but has less parameters."
      ],
      "metadata": {
        "id": "n-P_YXk0kuvh"
      }
    },
    {
      "cell_type": "code",
      "source": [
        "# Build an RNN using the GRU cell\n",
        "from tensorflow.keras import layers\n",
        "\n",
        "inputs = layers.Input(shape=(1,), dtype=tf.string, name=\"input_layer\")\n",
        "x = text_vectorizer(inputs)\n",
        "x = embedding(x)\n",
        "x = layers.GRU(64, return_sequences=True)(x) # if you want to stack recurrent layers on top of each other, you need to return_sequences=True\n",
        "x = layers.GRU(64)(x)\n",
        "x = layers.Dense(64, activation=\"relu\")(x)\n",
        "outputs = layers.Dense(1, activation=\"sigmoid\")(x)\n",
        "\n",
        "model_3 = tf.keras.Model(inputs, outputs, name=\"model_3_GRU\")"
      ],
      "metadata": {
        "id": "uGp-K2g0nIGC"
      },
      "execution_count": 115,
      "outputs": []
    },
    {
      "cell_type": "code",
      "source": [
        "model_3.summary()"
      ],
      "metadata": {
        "colab": {
          "base_uri": "https://localhost:8080/"
        },
        "id": "yE9T57pFoopL",
        "outputId": "bf74bca6-0f00-420a-e60a-7e9765f2ca52"
      },
      "execution_count": 118,
      "outputs": [
        {
          "output_type": "stream",
          "name": "stdout",
          "text": [
            "Model: \"model_3_GRU\"\n",
            "_________________________________________________________________\n",
            " Layer (type)                Output Shape              Param #   \n",
            "=================================================================\n",
            " input_layer (InputLayer)    [(None, 1)]               0         \n",
            "                                                                 \n",
            " text_vectorization_1 (TextV  (None, 15)               0         \n",
            " ectorization)                                                   \n",
            "                                                                 \n",
            " embedding (Embedding)       (None, 15, 128)           1280000   \n",
            "                                                                 \n",
            " gru (GRU)                   (None, 15, 64)            37248     \n",
            "                                                                 \n",
            " gru_1 (GRU)                 (None, 64)                24960     \n",
            "                                                                 \n",
            " dense_18 (Dense)            (None, 64)                4160      \n",
            "                                                                 \n",
            " dense_19 (Dense)            (None, 1)                 65        \n",
            "                                                                 \n",
            "=================================================================\n",
            "Total params: 1,346,433\n",
            "Trainable params: 1,346,433\n",
            "Non-trainable params: 0\n",
            "_________________________________________________________________\n"
          ]
        }
      ]
    },
    {
      "cell_type": "code",
      "source": [
        "# Compile the model\n",
        "model_3.compile(loss=tf.keras.losses.BinaryCrossentropy(),\n",
        "                optimizer=tf.keras.optimizers.Adam(),\n",
        "                metrics=[\"accuracy\"])"
      ],
      "metadata": {
        "id": "fRJD-UQQn-_y"
      },
      "execution_count": 116,
      "outputs": []
    },
    {
      "cell_type": "code",
      "source": [
        "# Fit the model\n",
        "model_3_history = model_3.fit(X_train,\n",
        "                              y_train,\n",
        "                              epochs=5,\n",
        "                              validation_data=(X_val, y_val),\n",
        "                              callbacks=[create_tensorboard_callback(dir_name=SAVE_DIR,\n",
        "                                                                     experiment_name=\"model_3_GRU\")])"
      ],
      "metadata": {
        "colab": {
          "base_uri": "https://localhost:8080/"
        },
        "id": "ZnmVxvm9oI82",
        "outputId": "8d3ff006-c769-4f43-ad34-05dde72f31cf"
      },
      "execution_count": 117,
      "outputs": [
        {
          "output_type": "stream",
          "name": "stdout",
          "text": [
            "Saving TensorBoard log files to: model_logs/model_3_GRU/20230416-103431\n",
            "Epoch 1/5\n",
            "215/215 [==============================] - 19s 63ms/step - loss: 0.1107 - accuracy: 0.9629 - val_loss: 0.9828 - val_accuracy: 0.7546\n",
            "Epoch 2/5\n",
            "215/215 [==============================] - 3s 15ms/step - loss: 0.0417 - accuracy: 0.9806 - val_loss: 1.7895 - val_accuracy: 0.7467\n",
            "Epoch 3/5\n",
            "215/215 [==============================] - 4s 18ms/step - loss: 0.0365 - accuracy: 0.9832 - val_loss: 1.5450 - val_accuracy: 0.7441\n",
            "Epoch 4/5\n",
            "215/215 [==============================] - 2s 7ms/step - loss: 0.0331 - accuracy: 0.9839 - val_loss: 1.9318 - val_accuracy: 0.7415\n",
            "Epoch 5/5\n",
            "215/215 [==============================] - 2s 10ms/step - loss: 0.0327 - accuracy: 0.9845 - val_loss: 1.6704 - val_accuracy: 0.7598\n"
          ]
        }
      ]
    },
    {
      "cell_type": "code",
      "source": [
        "# Make predictions\n",
        "model_3_pred_probs = model_3.predict(X_val)\n",
        "model_3_pred_probs[:10]"
      ],
      "metadata": {
        "colab": {
          "base_uri": "https://localhost:8080/"
        },
        "id": "bJU6pk7ZoW_p",
        "outputId": "1d1f0862-9a27-4591-d6e8-2438bec2e556"
      },
      "execution_count": 119,
      "outputs": [
        {
          "output_type": "stream",
          "name": "stdout",
          "text": [
            "24/24 [==============================] - 1s 4ms/step\n"
          ]
        },
        {
          "output_type": "execute_result",
          "data": {
            "text/plain": [
              "array([[1.7650903e-04],\n",
              "       [6.6469324e-01],\n",
              "       [9.9997377e-01],\n",
              "       [3.4497436e-02],\n",
              "       [2.1452250e-05],\n",
              "       [9.9994028e-01],\n",
              "       [9.8031884e-01],\n",
              "       [9.9997962e-01],\n",
              "       [9.9997950e-01],\n",
              "       [1.0233199e-02]], dtype=float32)"
            ]
          },
          "metadata": {},
          "execution_count": 119
        }
      ]
    },
    {
      "cell_type": "code",
      "source": [
        "model_3_preds = tf.squeeze(tf.round(model_3_pred_probs))\n",
        "model_3_preds[:10]"
      ],
      "metadata": {
        "colab": {
          "base_uri": "https://localhost:8080/"
        },
        "id": "jmi2S_HfphHj",
        "outputId": "e8b31209-9475-4c9a-aaf0-ed6d9cea2e1e"
      },
      "execution_count": 120,
      "outputs": [
        {
          "output_type": "execute_result",
          "data": {
            "text/plain": [
              "<tf.Tensor: shape=(10,), dtype=float32, numpy=array([0., 1., 1., 0., 0., 1., 1., 1., 1., 0.], dtype=float32)>"
            ]
          },
          "metadata": {},
          "execution_count": 120
        }
      ]
    },
    {
      "cell_type": "code",
      "source": [
        "# Calcualte model 3 results\n",
        "model_3_results = eval_metrics(y_true=y_val,\n",
        "                               y_pred=model_3_preds)"
      ],
      "metadata": {
        "id": "I0SHaOYxpmOf"
      },
      "execution_count": 121,
      "outputs": []
    },
    {
      "cell_type": "code",
      "source": [
        "model_3_results\n"
      ],
      "metadata": {
        "colab": {
          "base_uri": "https://localhost:8080/"
        },
        "id": "cKB1KlnfptA0",
        "outputId": "e012a9fd-5c23-4915-945e-b0c1145c2317"
      },
      "execution_count": 122,
      "outputs": [
        {
          "output_type": "execute_result",
          "data": {
            "text/plain": [
              "{'accuracy': 0.7598425196850394,\n",
              " 'precision': 0.7641410572035275,\n",
              " 'recall': 0.7598425196850394,\n",
              " 'f1': 0.7562134111850812}"
            ]
          },
          "metadata": {},
          "execution_count": 122
        }
      ]
    },
    {
      "cell_type": "markdown",
      "source": [
        "### Model 4: Bidirectional RNN\n",
        "\n",
        "Normal RNN's go from left to right (just like you'd read an English sentence) however, a bidirectional RNN goes from left to right as well as from right to left."
      ],
      "metadata": {
        "id": "_LctlomSpuJ0"
      }
    },
    {
      "cell_type": "code",
      "source": [
        "# Build a bidirectional RNN in tensorflow\n",
        "from tensorflow.keras import layers\n",
        "\n",
        "inputs = layers.Input(shape=(1,), dtype=tf.string)\n",
        "x = text_vectorizer(inputs)\n",
        "x = embedding(x)\n",
        "x = layers.Bidirectional(layers.LSTM(64, return_sequences=True))(x)\n",
        "x = layers.Bidirectional(layers.GRU(64))(x)\n",
        "outputs = layers.Dense(1, activation=\"sigmoid\")(x)\n",
        "\n",
        "model_4 = tf.keras.Model(inputs, outputs, name=\"model_4_bidirectional\")"
      ],
      "metadata": {
        "id": "X3_ityRfwloB"
      },
      "execution_count": 123,
      "outputs": []
    },
    {
      "cell_type": "code",
      "source": [
        "model_4.summary()"
      ],
      "metadata": {
        "colab": {
          "base_uri": "https://localhost:8080/"
        },
        "id": "XaVas_gkxJrJ",
        "outputId": "d039bd43-8908-4b72-bd38-045197da36f2"
      },
      "execution_count": 124,
      "outputs": [
        {
          "output_type": "stream",
          "name": "stdout",
          "text": [
            "Model: \"model_4_bidirectional\"\n",
            "_________________________________________________________________\n",
            " Layer (type)                Output Shape              Param #   \n",
            "=================================================================\n",
            " input_14 (InputLayer)       [(None, 1)]               0         \n",
            "                                                                 \n",
            " text_vectorization_1 (TextV  (None, 15)               0         \n",
            " ectorization)                                                   \n",
            "                                                                 \n",
            " embedding (Embedding)       (None, 15, 128)           1280000   \n",
            "                                                                 \n",
            " bidirectional (Bidirectiona  (None, 15, 128)          98816     \n",
            " l)                                                              \n",
            "                                                                 \n",
            " bidirectional_1 (Bidirectio  (None, 128)              74496     \n",
            " nal)                                                            \n",
            "                                                                 \n",
            " dense_20 (Dense)            (None, 1)                 129       \n",
            "                                                                 \n",
            "=================================================================\n",
            "Total params: 1,453,441\n",
            "Trainable params: 1,453,441\n",
            "Non-trainable params: 0\n",
            "_________________________________________________________________\n"
          ]
        }
      ]
    },
    {
      "cell_type": "code",
      "source": [
        "# Compile model\n",
        "model_4.compile(loss=tf.keras.losses.BinaryCrossentropy(),\n",
        "                optimizer=tf.keras.optimizers.Adam(),\n",
        "                metrics=[\"accuracy\"])"
      ],
      "metadata": {
        "id": "KwfhodaxxK1T"
      },
      "execution_count": 125,
      "outputs": []
    },
    {
      "cell_type": "code",
      "source": [
        "# Fit the model\n",
        "model_4_history = model_4.fit(X_train,\n",
        "                              y_train,\n",
        "                              epochs=5,\n",
        "                              validation_data=(X_val, y_val),\n",
        "                              callbacks=[create_tensorboard_callback(dir_name=SAVE_DIR,\n",
        "                                                                     experiment_name=\"model_4_bidirectional\")])"
      ],
      "metadata": {
        "colab": {
          "base_uri": "https://localhost:8080/"
        },
        "id": "mxnCfJQ4xy4o",
        "outputId": "db54e1da-e104-4cbb-fd6b-14d03bd7bee4"
      },
      "execution_count": 126,
      "outputs": [
        {
          "output_type": "stream",
          "name": "stdout",
          "text": [
            "Saving TensorBoard log files to: model_logs/model_4_bidirectional/20230416-111636\n",
            "Epoch 1/5\n",
            "215/215 [==============================] - 30s 92ms/step - loss: 0.0748 - accuracy: 0.9755 - val_loss: 1.2311 - val_accuracy: 0.7441\n",
            "Epoch 2/5\n",
            "215/215 [==============================] - 3s 16ms/step - loss: 0.0344 - accuracy: 0.9823 - val_loss: 1.5575 - val_accuracy: 0.7480\n",
            "Epoch 3/5\n",
            "215/215 [==============================] - 3s 12ms/step - loss: 0.0337 - accuracy: 0.9826 - val_loss: 1.4549 - val_accuracy: 0.7375\n",
            "Epoch 4/5\n",
            "215/215 [==============================] - 3s 14ms/step - loss: 0.0288 - accuracy: 0.9851 - val_loss: 1.5858 - val_accuracy: 0.7546\n",
            "Epoch 5/5\n",
            "215/215 [==============================] - 3s 15ms/step - loss: 0.0281 - accuracy: 0.9848 - val_loss: 1.8128 - val_accuracy: 0.7638\n"
          ]
        }
      ]
    },
    {
      "cell_type": "code",
      "source": [
        "# Make predictions\n",
        "model_4_pred_probs = model_4.predict(X_val)\n",
        "model_4_pred_probs[:10]"
      ],
      "metadata": {
        "colab": {
          "base_uri": "https://localhost:8080/"
        },
        "id": "0glXZ8aVx_Rl",
        "outputId": "c970f315-5fa7-4670-e6f3-0995b0ef067d"
      },
      "execution_count": 127,
      "outputs": [
        {
          "output_type": "stream",
          "name": "stdout",
          "text": [
            "24/24 [==============================] - 4s 4ms/step\n"
          ]
        },
        {
          "output_type": "execute_result",
          "data": {
            "text/plain": [
              "array([[1.7651978e-04],\n",
              "       [9.5589209e-01],\n",
              "       [9.9998486e-01],\n",
              "       [2.3381744e-02],\n",
              "       [1.0128436e-05],\n",
              "       [9.9983668e-01],\n",
              "       [9.9931884e-01],\n",
              "       [9.9998796e-01],\n",
              "       [9.9998415e-01],\n",
              "       [5.5850949e-04]], dtype=float32)"
            ]
          },
          "metadata": {},
          "execution_count": 127
        }
      ]
    },
    {
      "cell_type": "code",
      "source": [
        "model_4_preds = tf.squeeze(tf.round(model_4_pred_probs))\n",
        "model_4_preds[:10]"
      ],
      "metadata": {
        "colab": {
          "base_uri": "https://localhost:8080/"
        },
        "id": "aORDRFM7yOLL",
        "outputId": "e2bbb691-0f0e-4269-9e02-9ee1ea105f23"
      },
      "execution_count": 128,
      "outputs": [
        {
          "output_type": "execute_result",
          "data": {
            "text/plain": [
              "<tf.Tensor: shape=(10,), dtype=float32, numpy=array([0., 1., 1., 0., 0., 1., 1., 1., 1., 0.], dtype=float32)>"
            ]
          },
          "metadata": {},
          "execution_count": 128
        }
      ]
    },
    {
      "cell_type": "code",
      "source": [
        "# Calculate results\n",
        "model_4_results = eval_metrics(y_true=y_val,\n",
        "                               y_pred=model_4_preds)\n",
        "\n",
        "model_4_results"
      ],
      "metadata": {
        "colab": {
          "base_uri": "https://localhost:8080/"
        },
        "id": "BPkEvgSmyVDi",
        "outputId": "d98a3121-e0ee-4f7b-b453-79793ca7042c"
      },
      "execution_count": 129,
      "outputs": [
        {
          "output_type": "execute_result",
          "data": {
            "text/plain": [
              "{'accuracy': 0.7637795275590551,\n",
              " 'precision': 0.7642156268927923,\n",
              " 'recall': 0.7637795275590551,\n",
              " 'f1': 0.7622584108804583}"
            ]
          },
          "metadata": {},
          "execution_count": 129
        }
      ]
    },
    {
      "cell_type": "markdown",
      "source": [
        "## Convolutional Neural Networks for Text (and other types of sequences)\n",
        "\n",
        "We've used CNN's for images but images are typically 2D (height x width). However, our text data is 1D.\n",
        "\n",
        "Previously we've used Conv2D for our image data, but now we're going to use Conv1D.\n",
        "\n",
        "The typical structure of a Conv1D model for sequences (in our case, text):\n",
        "\n",
        "```\n",
        "Inputs (text) -> Tokenization -> Embedding -> Layer(s) (typically Conv1D + pooling) -> Outputs (class probabilities)\n",
        "```\n"
      ],
      "metadata": {
        "id": "k9yJsF4JzWwY"
      }
    },
    {
      "cell_type": "markdown",
      "source": [
        "### Model 5: 1D Convolutional neural network"
      ],
      "metadata": {
        "id": "ubc0gXbTydgz"
      }
    },
    {
      "cell_type": "code",
      "source": [
        "# Test out our embedding layer, Conv1D layer and max pooling\n",
        "from tensorflow.keras import layers\n",
        "\n",
        "embedding_test = embedding(text_vectorizer([\"this is a test sentence\"]))\n",
        "conv_1d = layers.Conv1D(filters=32,\n",
        "                        kernel_size=5,\n",
        "                        activation=\"relu\",\n",
        "                        padding=\"valid\")\n",
        "\n",
        "conv_1d_output = conv_1d(embedding_test) # pass test embedding through conv1d layer\n",
        "max_pool = layers.GlobalMaxPool1D()\n",
        "max_pool_output = max_pool(conv_1d_output) # equivalent to get the most important features\n",
        "\n",
        "embedding_test.shape, conv_1d_output.shape, max_pool_output.shape\n"
      ],
      "metadata": {
        "colab": {
          "base_uri": "https://localhost:8080/"
        },
        "id": "Q1NBFhOe0eQ7",
        "outputId": "146eaca4-d45f-4b08-d5c6-751b48636821"
      },
      "execution_count": 134,
      "outputs": [
        {
          "output_type": "execute_result",
          "data": {
            "text/plain": [
              "(TensorShape([1, 15, 128]), TensorShape([1, 11, 32]), TensorShape([1, 32]))"
            ]
          },
          "metadata": {},
          "execution_count": 134
        }
      ]
    },
    {
      "cell_type": "code",
      "source": [
        "# Create a 1D Conv NN\n",
        "from tensorflow.keras import layers\n",
        "\n",
        "inputs = layers.Input(shape=(1,), dtype=tf.string)\n",
        "x = text_vectorizer(inputs)\n",
        "x = embedding(x)\n",
        "x = layers.Conv1D(32, 3, activation=\"relu\")(x)\n",
        "x = layers.Flatten()(x)\n",
        "outputs = layers.Dense(1, activation=\"sigmoid\")(x)\n",
        "\n",
        "# Create the model\n",
        "model_5 = tf.keras.Model(inputs, outputs, name=\"model_5_Conv1D\")"
      ],
      "metadata": {
        "id": "HaFejCdty2Fl"
      },
      "execution_count": 138,
      "outputs": []
    },
    {
      "cell_type": "code",
      "source": [
        "model_5.summary()"
      ],
      "metadata": {
        "colab": {
          "base_uri": "https://localhost:8080/"
        },
        "id": "2fHP-z7d2luG",
        "outputId": "934c5926-f9dd-4b7f-d074-15e2a80f3df8"
      },
      "execution_count": 139,
      "outputs": [
        {
          "output_type": "stream",
          "name": "stdout",
          "text": [
            "Model: \"model_5_Conv1D\"\n",
            "_________________________________________________________________\n",
            " Layer (type)                Output Shape              Param #   \n",
            "=================================================================\n",
            " input_19 (InputLayer)       [(None, 1)]               0         \n",
            "                                                                 \n",
            " text_vectorization_1 (TextV  (None, 15)               0         \n",
            " ectorization)                                                   \n",
            "                                                                 \n",
            " embedding (Embedding)       (None, 15, 128)           1280000   \n",
            "                                                                 \n",
            " conv1d_4 (Conv1D)           (None, 13, 32)            12320     \n",
            "                                                                 \n",
            " flatten_4 (Flatten)         (None, 416)               0         \n",
            "                                                                 \n",
            " dense_23 (Dense)            (None, 1)                 417       \n",
            "                                                                 \n",
            "=================================================================\n",
            "Total params: 1,292,737\n",
            "Trainable params: 1,292,737\n",
            "Non-trainable params: 0\n",
            "_________________________________________________________________\n"
          ]
        }
      ]
    },
    {
      "cell_type": "code",
      "source": [
        "# Compile the model\n",
        "model_5.compile(loss=tf.keras.losses.BinaryCrossentropy(),\n",
        "                optimizer=tf.keras.optimizers.Adam(),\n",
        "                metrics=[\"accuracy\"])"
      ],
      "metadata": {
        "id": "r35bxnt5zOMK"
      },
      "execution_count": 140,
      "outputs": []
    },
    {
      "cell_type": "code",
      "source": [
        "# Fit the model\n",
        "model_5.fit(X_train,\n",
        "            y_train,\n",
        "            epochs=5,\n",
        "            validation_data=(X_val, y_val),\n",
        "            callbacks=[create_tensorboard_callback(dir_name=SAVE_DIR,\n",
        "                                                   experiment_name=\"model_5_Conv1D\")])"
      ],
      "metadata": {
        "colab": {
          "base_uri": "https://localhost:8080/"
        },
        "id": "uRUNz98V0bUw",
        "outputId": "7ab169b7-69a9-49ee-8dda-1953a6e63f6a"
      },
      "execution_count": 141,
      "outputs": [
        {
          "output_type": "stream",
          "name": "stdout",
          "text": [
            "Saving TensorBoard log files to: model_logs/model_5_Conv1D/20230416-113701\n",
            "Epoch 1/5\n",
            "215/215 [==============================] - 13s 48ms/step - loss: 0.1306 - accuracy: 0.9590 - val_loss: 0.8836 - val_accuracy: 0.7625\n",
            "Epoch 2/5\n",
            "215/215 [==============================] - 3s 13ms/step - loss: 0.0474 - accuracy: 0.9812 - val_loss: 1.0376 - val_accuracy: 0.7480\n",
            "Epoch 3/5\n",
            "215/215 [==============================] - 2s 9ms/step - loss: 0.0405 - accuracy: 0.9831 - val_loss: 1.1411 - val_accuracy: 0.7546\n",
            "Epoch 4/5\n",
            "215/215 [==============================] - 2s 8ms/step - loss: 0.0373 - accuracy: 0.9823 - val_loss: 1.1944 - val_accuracy: 0.7467\n",
            "Epoch 5/5\n",
            "215/215 [==============================] - 2s 8ms/step - loss: 0.0353 - accuracy: 0.9828 - val_loss: 1.2252 - val_accuracy: 0.7559\n"
          ]
        },
        {
          "output_type": "execute_result",
          "data": {
            "text/plain": [
              "<keras.callbacks.History at 0x7f76412938b0>"
            ]
          },
          "metadata": {},
          "execution_count": 141
        }
      ]
    },
    {
      "cell_type": "code",
      "source": [],
      "metadata": {
        "id": "2GHAY-p72jiP"
      },
      "execution_count": null,
      "outputs": []
    }
  ]
}