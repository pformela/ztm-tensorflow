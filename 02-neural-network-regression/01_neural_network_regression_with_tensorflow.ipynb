{
  "nbformat": 4,
  "nbformat_minor": 0,
  "metadata": {
    "colab": {
      "provenance": []
    },
    "kernelspec": {
      "name": "python3",
      "display_name": "Python 3"
    },
    "language_info": {
      "name": "python"
    }
  },
  "cells": [
    {
      "cell_type": "markdown",
      "source": [
        "# Introduction to Regression with Neural Networks in TensorFlow\n",
        "\n",
        "There are many definitions for a regression problem but in our case, we're going to simplify it: predicting a numerical variable based on some other combination of variables, even shorter... predicting a number."
      ],
      "metadata": {
        "id": "HuDIfTGhwlim"
      }
    },
    {
      "cell_type": "code",
      "source": [
        "# Import tensorflow\n",
        "import tensorflow as tf\n",
        "print(tf.__version__)"
      ],
      "metadata": {
        "colab": {
          "base_uri": "https://localhost:8080/"
        },
        "id": "gKrNPRyfw9o_",
        "outputId": "d8742034-3875-4e5d-9cc3-0a2ae77a7b09"
      },
      "execution_count": 1,
      "outputs": [
        {
          "output_type": "stream",
          "name": "stdout",
          "text": [
            "2.11.0\n"
          ]
        }
      ]
    },
    {
      "cell_type": "markdown",
      "source": [
        "# Creating data to view and fit"
      ],
      "metadata": {
        "id": "sDbOY4xoxDgB"
      }
    },
    {
      "cell_type": "code",
      "source": [
        "import numpy as np\n",
        "import matplotlib.pyplot as plt\n",
        "\n",
        "# Create features\n",
        "X = np.array([-7.0, -4.0, -1.0, 2.0, 5.0, 8.0, 11.0, 14.0])\n",
        "\n",
        "# Create labels\n",
        "y = np.array([3.0, 6.0, 9.0, 12.0, 15.0, 18.0, 21.0, 24.0])\n",
        "\n",
        "# Visualize it\n",
        "plt.scatter(X, y);"
      ],
      "metadata": {
        "colab": {
          "base_uri": "https://localhost:8080/",
          "height": 269
        },
        "id": "BrzPUpxuxX8J",
        "outputId": "a33d8ad1-9a4e-4a74-e951-97102f1756fb"
      },
      "execution_count": 2,
      "outputs": [
        {
          "output_type": "display_data",
          "data": {
            "text/plain": [
              "<Figure size 432x288 with 1 Axes>"
            ],
            "image/png": "[encoded data removed]"
          },
          "metadata": {
            "needs_background": "light"
          }
        }
      ]
    },
    {
      "cell_type": "markdown",
      "source": [
        "## Input and output shapes"
      ],
      "metadata": {
        "id": "M9gS9ZGD02rM"
      }
    },
    {
      "cell_type": "code",
      "source": [
        "# Create a demo tensor for our housing price prediction problem\n",
        "house_info = tf.constant([\"bedroom\", \"bathroom\", \"garage\"])\n",
        "house_price = tf.constant([939700])\n",
        "house_info, house_price"
      ],
      "metadata": {
        "colab": {
          "base_uri": "https://localhost:8080/"
        },
        "id": "Mtv8AaJQxm4w",
        "outputId": "a9817762-4ae2-4a0d-edf9-4aff7b6f70f6"
      },
      "execution_count": 3,
      "outputs": [
        {
          "output_type": "execute_result",
          "data": {
            "text/plain": [
              "(<tf.Tensor: shape=(3,), dtype=string, numpy=array([b'bedroom', b'bathroom', b'garage'], dtype=object)>,\n",
              " <tf.Tensor: shape=(1,), dtype=int32, numpy=array([939700], dtype=int32)>)"
            ]
          },
          "metadata": {},
          "execution_count": 3
        }
      ]
    },
    {
      "cell_type": "code",
      "source": [
        "input_shape = X.shape\n",
        "output_shape = y.shape\n",
        "\n",
        "input_shape, output_shape"
      ],
      "metadata": {
        "colab": {
          "base_uri": "https://localhost:8080/"
        },
        "id": "Sv8I0TuJ0xFP",
        "outputId": "6d29330f-6aca-483f-9d11-144abbf4f70a"
      },
      "execution_count": 4,
      "outputs": [
        {
          "output_type": "execute_result",
          "data": {
            "text/plain": [
              "((8,), (8,))"
            ]
          },
          "metadata": {},
          "execution_count": 4
        }
      ]
    },
    {
      "cell_type": "code",
      "source": [
        "# Turn our numpyt arrays into tensors\n",
        "X = tf.cast(tf.constant(X), dtype=tf.float32)\n",
        "y = tf.cast(tf.constant(y), dtype=tf.float32)\n",
        "\n",
        "X, y"
      ],
      "metadata": {
        "colab": {
          "base_uri": "https://localhost:8080/"
        },
        "id": "wGMuH7-U1s2h",
        "outputId": "788b0b49-f8ba-41a9-d390-379f916ff24f"
      },
      "execution_count": 5,
      "outputs": [
        {
          "output_type": "execute_result",
          "data": {
            "text/plain": [
              "(<tf.Tensor: shape=(8,), dtype=float32, numpy=array([-7., -4., -1.,  2.,  5.,  8., 11., 14.], dtype=float32)>,\n",
              " <tf.Tensor: shape=(8,), dtype=float32, numpy=array([ 3.,  6.,  9., 12., 15., 18., 21., 24.], dtype=float32)>)"
            ]
          },
          "metadata": {},
          "execution_count": 5
        }
      ]
    },
    {
      "cell_type": "markdown",
      "source": [
        "## Steps in modelling with TensorFlow\n",
        "\n",
        "1. **Creating a model** - define the input and output layers, as well as the hidden layers of a deep learning model.\n",
        "2. **Compiling a model** - define the loss function (in other words, the function which tells our model how wrong it is) and the optimizer (tells our model how to improve the patterns its learning) and evaluation metrics (what we can use to interpret the performance of our model)\n",
        "3. **Fitting a model** - letting the model try to find patterns between X & y (features and labels)."
      ],
      "metadata": {
        "id": "g1QSjt8V2E2s"
      }
    },
    {
      "cell_type": "code",
      "source": [
        "# Set random seed\n",
        "tf.random.set_seed(42)\n",
        "\n",
        "# 1. Create a model usiong the Sequential API\n",
        "model = tf.keras.Sequential([\n",
        "    tf.keras.layers.Dense(1)\n",
        "])\n",
        "\n",
        "# 2. Compile the model\n",
        "model.compile(loss=tf.keras.losses.mae,\n",
        "              optimizer=tf.keras.optimizers.SGD(), # sgd is short for stochastic gradient descent\n",
        "              metrics=[\"mae\"])\n",
        "\n",
        "# 3. Fit the model\n",
        "model.fit(tf.expand_dims(X, axis=-1), y, epochs=50)"
      ],
      "metadata": {
        "colab": {
          "base_uri": "https://localhost:8080/"
        },
        "id": "W2HTZ-5L26gp",
        "outputId": "8896b48f-7765-444d-d037-f37c1b51d042"
      },
      "execution_count": 6,
      "outputs": [
        {
          "output_type": "stream",
          "name": "stdout",
          "text": [
            "Epoch 1/50\n",
            "1/1 [==============================] - 1s 907ms/step - loss: 19.4154 - mae: 19.4154\n",
            "Epoch 2/50\n",
            "1/1 [==============================] - 0s 18ms/step - loss: 19.1342 - mae: 19.1342\n",
            "Epoch 3/50\n",
            "1/1 [==============================] - 0s 18ms/step - loss: 18.8529 - mae: 18.8529\n",
            "Epoch 4/50\n",
            "1/1 [==============================] - 0s 14ms/step - loss: 18.5717 - mae: 18.5717\n",
            "Epoch 5/50\n",
            "1/1 [==============================] - 0s 14ms/step - loss: 18.2904 - mae: 18.2904\n",
            "Epoch 6/50\n",
            "1/1 [==============================] - 0s 17ms/step - loss: 18.0092 - mae: 18.0092\n",
            "Epoch 7/50\n",
            "1/1 [==============================] - 0s 15ms/step - loss: 17.7279 - mae: 17.7279\n",
            "Epoch 8/50\n",
            "1/1 [==============================] - 0s 18ms/step - loss: 17.4467 - mae: 17.4467\n",
            "Epoch 9/50\n",
            "1/1 [==============================] - 0s 15ms/step - loss: 17.1654 - mae: 17.1654\n",
            "Epoch 10/50\n",
            "1/1 [==============================] - 0s 20ms/step - loss: 16.8842 - mae: 16.8842\n",
            "Epoch 11/50\n",
            "1/1 [==============================] - 0s 14ms/step - loss: 16.6029 - mae: 16.6029\n",
            "Epoch 12/50\n",
            "1/1 [==============================] - 0s 13ms/step - loss: 16.3217 - mae: 16.3217\n",
            "Epoch 13/50\n",
            "1/1 [==============================] - 0s 15ms/step - loss: 16.0404 - mae: 16.0404\n",
            "Epoch 14/50\n",
            "1/1 [==============================] - 0s 14ms/step - loss: 15.7592 - mae: 15.7592\n",
            "Epoch 15/50\n",
            "1/1 [==============================] - 0s 30ms/step - loss: 15.4779 - mae: 15.4779\n",
            "Epoch 16/50\n",
            "1/1 [==============================] - 0s 19ms/step - loss: 15.1967 - mae: 15.1967\n",
            "Epoch 17/50\n",
            "1/1 [==============================] - 0s 34ms/step - loss: 14.9154 - mae: 14.9154\n",
            "Epoch 18/50\n",
            "1/1 [==============================] - 0s 24ms/step - loss: 14.6924 - mae: 14.6924\n",
            "Epoch 19/50\n",
            "1/1 [==============================] - 0s 22ms/step - loss: 14.5599 - mae: 14.5599\n",
            "Epoch 20/50\n",
            "1/1 [==============================] - 0s 20ms/step - loss: 14.4274 - mae: 14.4274\n",
            "Epoch 21/50\n",
            "1/1 [==============================] - 0s 21ms/step - loss: 14.2949 - mae: 14.2949\n",
            "Epoch 22/50\n",
            "1/1 [==============================] - 0s 12ms/step - loss: 14.1624 - mae: 14.1624\n",
            "Epoch 23/50\n",
            "1/1 [==============================] - 0s 11ms/step - loss: 14.0299 - mae: 14.0299\n",
            "Epoch 24/50\n",
            "1/1 [==============================] - 0s 13ms/step - loss: 13.8974 - mae: 13.8974\n",
            "Epoch 25/50\n",
            "1/1 [==============================] - 0s 56ms/step - loss: 13.7649 - mae: 13.7649\n",
            "Epoch 26/50\n",
            "1/1 [==============================] - 0s 14ms/step - loss: 13.6324 - mae: 13.6324\n",
            "Epoch 27/50\n",
            "1/1 [==============================] - 0s 33ms/step - loss: 13.4999 - mae: 13.4999\n",
            "Epoch 28/50\n",
            "1/1 [==============================] - 0s 29ms/step - loss: 13.3674 - mae: 13.3674\n",
            "Epoch 29/50\n",
            "1/1 [==============================] - 0s 22ms/step - loss: 13.2349 - mae: 13.2349\n",
            "Epoch 30/50\n",
            "1/1 [==============================] - 0s 16ms/step - loss: 13.1024 - mae: 13.1024\n",
            "Epoch 31/50\n",
            "1/1 [==============================] - 0s 13ms/step - loss: 12.9699 - mae: 12.9699\n",
            "Epoch 32/50\n",
            "1/1 [==============================] - 0s 14ms/step - loss: 12.8374 - mae: 12.8374\n",
            "Epoch 33/50\n",
            "1/1 [==============================] - 0s 11ms/step - loss: 12.7049 - mae: 12.7049\n",
            "Epoch 34/50\n",
            "1/1 [==============================] - 0s 12ms/step - loss: 12.5724 - mae: 12.5724\n",
            "Epoch 35/50\n",
            "1/1 [==============================] - 0s 13ms/step - loss: 12.4399 - mae: 12.4399\n",
            "Epoch 36/50\n",
            "1/1 [==============================] - 0s 12ms/step - loss: 12.3074 - mae: 12.3074\n",
            "Epoch 37/50\n",
            "1/1 [==============================] - 0s 11ms/step - loss: 12.1749 - mae: 12.1749\n",
            "Epoch 38/50\n",
            "1/1 [==============================] - 0s 15ms/step - loss: 12.0424 - mae: 12.0424\n",
            "Epoch 39/50\n",
            "1/1 [==============================] - 0s 13ms/step - loss: 11.9099 - mae: 11.9099\n",
            "Epoch 40/50\n",
            "1/1 [==============================] - 0s 12ms/step - loss: 11.7774 - mae: 11.7774\n",
            "Epoch 41/50\n",
            "1/1 [==============================] - 0s 11ms/step - loss: 11.6449 - mae: 11.6449\n",
            "Epoch 42/50\n",
            "1/1 [==============================] - 0s 15ms/step - loss: 11.5124 - mae: 11.5124\n",
            "Epoch 43/50\n",
            "1/1 [==============================] - 0s 15ms/step - loss: 11.3799 - mae: 11.3799\n",
            "Epoch 44/50\n",
            "1/1 [==============================] - 0s 16ms/step - loss: 11.2474 - mae: 11.2474\n",
            "Epoch 45/50\n",
            "1/1 [==============================] - 0s 20ms/step - loss: 11.1149 - mae: 11.1149\n",
            "Epoch 46/50\n",
            "1/1 [==============================] - 0s 21ms/step - loss: 10.9824 - mae: 10.9824\n",
            "Epoch 47/50\n",
            "1/1 [==============================] - 0s 21ms/step - loss: 10.8499 - mae: 10.8499\n",
            "Epoch 48/50\n",
            "1/1 [==============================] - 0s 17ms/step - loss: 10.7174 - mae: 10.7174\n",
            "Epoch 49/50\n",
            "1/1 [==============================] - 0s 14ms/step - loss: 10.5849 - mae: 10.5849\n",
            "Epoch 50/50\n",
            "1/1 [==============================] - 0s 22ms/step - loss: 10.4524 - mae: 10.4524\n"
          ]
        },
        {
          "output_type": "execute_result",
          "data": {
            "text/plain": [
              "<keras.callbacks.History at 0x7f531c782730>"
            ]
          },
          "metadata": {},
          "execution_count": 6
        }
      ]
    },
    {
      "cell_type": "code",
      "source": [
        "# Check out X and y\n",
        "X, y"
      ],
      "metadata": {
        "colab": {
          "base_uri": "https://localhost:8080/"
        },
        "id": "y58VJBIf09t-",
        "outputId": "32f7bdcb-f2db-4182-811d-4a57a7d4b4cd"
      },
      "execution_count": 7,
      "outputs": [
        {
          "output_type": "execute_result",
          "data": {
            "text/plain": [
              "(<tf.Tensor: shape=(8,), dtype=float32, numpy=array([-7., -4., -1.,  2.,  5.,  8., 11., 14.], dtype=float32)>,\n",
              " <tf.Tensor: shape=(8,), dtype=float32, numpy=array([ 3.,  6.,  9., 12., 15., 18., 21., 24.], dtype=float32)>)"
            ]
          },
          "metadata": {},
          "execution_count": 7
        }
      ]
    },
    {
      "cell_type": "code",
      "source": [
        "# Try and make a prediction using our model\n",
        "model.predict([37.0])"
      ],
      "metadata": {
        "colab": {
          "base_uri": "https://localhost:8080/"
        },
        "id": "1k3s2yxj6GXy",
        "outputId": "b5ad54b3-f03c-4d95-a54f-972bc42406e6"
      },
      "execution_count": 8,
      "outputs": [
        {
          "output_type": "stream",
          "name": "stdout",
          "text": [
            "1/1 [==============================] - 0s 260ms/step\n"
          ]
        },
        {
          "output_type": "execute_result",
          "data": {
            "text/plain": [
              "array([[29.239511]], dtype=float32)"
            ]
          },
          "metadata": {},
          "execution_count": 8
        }
      ]
    },
    {
      "cell_type": "markdown",
      "source": [
        "## Improving our model\n",
        "\n",
        "We can improve our model, by altering the steps we took to create a model.\n",
        "\n",
        "1. **Creating a model** - here we might add more layers, increase the number of hidden units (all caled neurons), within each of the hidden layers, change the activation function of each layers.\n",
        "2. **Compiling a model** - here we might change the optimization function or perhaps the **learning rate** of the optimization function.\n",
        "3. **Fitting a model** - here we might fit a model for more **epochs** (leave it training for longer) or on more data (give the model more examples to learn from)."
      ],
      "metadata": {
        "id": "XVNS3sDa6KsR"
      }
    },
    {
      "cell_type": "code",
      "source": [
        "# Let's rebuild our model\n",
        "\n",
        "# 1. Create the model\n",
        "model = tf.keras.Sequential([\n",
        "    tf.keras.layers.Dense(50, activation=None),\n",
        "    tf.keras.layers.Dense(1)\n",
        "])\n",
        "\n",
        "# 2. Compile the model\n",
        "model.compile(loss=tf.keras.losses.mae,\n",
        "              optimizer=tf.keras.optimizers.Adam(learning_rate=0.01),\n",
        "              metrics=[\"mae\"])\n",
        "\n",
        "# 3. Fit the model (this time we'll train for longer)\n",
        "model.fit(tf.expand_dims(X, axis=-1), y, epochs=100)"
      ],
      "metadata": {
        "colab": {
          "base_uri": "https://localhost:8080/"
        },
        "id": "d81cwv9I7yrb",
        "outputId": "32ec76ae-3ff4-42bb-e041-4c08db902747"
      },
      "execution_count": 9,
      "outputs": [
        {
          "output_type": "stream",
          "name": "stdout",
          "text": [
            "Epoch 1/100\n",
            "1/1 [==============================] - 2s 2s/step - loss: 13.4964 - mae: 13.4964\n",
            "Epoch 2/100\n",
            "1/1 [==============================] - 0s 32ms/step - loss: 12.8379 - mae: 12.8379\n",
            "Epoch 3/100\n",
            "1/1 [==============================] - 0s 38ms/step - loss: 12.1768 - mae: 12.1768\n",
            "Epoch 4/100\n",
            "1/1 [==============================] - 0s 21ms/step - loss: 11.5124 - mae: 11.5124\n",
            "Epoch 5/100\n",
            "1/1 [==============================] - 0s 30ms/step - loss: 10.8429 - mae: 10.8429\n",
            "Epoch 6/100\n",
            "1/1 [==============================] - 0s 30ms/step - loss: 10.1657 - mae: 10.1657\n",
            "Epoch 7/100\n",
            "1/1 [==============================] - 0s 17ms/step - loss: 9.4771 - mae: 9.4771\n",
            "Epoch 8/100\n",
            "1/1 [==============================] - 0s 16ms/step - loss: 8.7737 - mae: 8.7737\n",
            "Epoch 9/100\n",
            "1/1 [==============================] - 0s 15ms/step - loss: 8.0515 - mae: 8.0515\n",
            "Epoch 10/100\n",
            "1/1 [==============================] - 0s 15ms/step - loss: 7.3070 - mae: 7.3070\n",
            "Epoch 11/100\n",
            "1/1 [==============================] - 0s 24ms/step - loss: 6.7367 - mae: 6.7367\n",
            "Epoch 12/100\n",
            "1/1 [==============================] - 0s 25ms/step - loss: 6.8209 - mae: 6.8209\n",
            "Epoch 13/100\n",
            "1/1 [==============================] - 0s 17ms/step - loss: 7.1036 - mae: 7.1036\n",
            "Epoch 14/100\n",
            "1/1 [==============================] - 0s 24ms/step - loss: 7.2755 - mae: 7.2755\n",
            "Epoch 15/100\n",
            "1/1 [==============================] - 0s 86ms/step - loss: 7.4716 - mae: 7.4716\n",
            "Epoch 16/100\n",
            "1/1 [==============================] - 0s 22ms/step - loss: 7.4387 - mae: 7.4387\n",
            "Epoch 17/100\n",
            "1/1 [==============================] - 0s 24ms/step - loss: 7.2348 - mae: 7.2348\n",
            "Epoch 18/100\n",
            "1/1 [==============================] - 0s 20ms/step - loss: 6.9372 - mae: 6.9372\n",
            "Epoch 19/100\n",
            "1/1 [==============================] - 0s 14ms/step - loss: 6.6950 - mae: 6.6950\n",
            "Epoch 20/100\n",
            "1/1 [==============================] - 0s 14ms/step - loss: 6.4324 - mae: 6.4324\n",
            "Epoch 21/100\n",
            "1/1 [==============================] - 0s 26ms/step - loss: 6.1540 - mae: 6.1540\n",
            "Epoch 22/100\n",
            "1/1 [==============================] - 0s 30ms/step - loss: 6.0318 - mae: 6.0318\n",
            "Epoch 23/100\n",
            "1/1 [==============================] - 0s 39ms/step - loss: 5.9869 - mae: 5.9869\n",
            "Epoch 24/100\n",
            "1/1 [==============================] - 0s 37ms/step - loss: 6.1226 - mae: 6.1226\n",
            "Epoch 25/100\n",
            "1/1 [==============================] - 0s 29ms/step - loss: 6.1869 - mae: 6.1869\n",
            "Epoch 26/100\n",
            "1/1 [==============================] - 0s 33ms/step - loss: 6.1437 - mae: 6.1437\n",
            "Epoch 27/100\n",
            "1/1 [==============================] - 0s 25ms/step - loss: 6.0071 - mae: 6.0071\n",
            "Epoch 28/100\n",
            "1/1 [==============================] - 0s 32ms/step - loss: 5.7875 - mae: 5.7875\n",
            "Epoch 29/100\n",
            "1/1 [==============================] - 0s 11ms/step - loss: 5.5152 - mae: 5.5152\n",
            "Epoch 30/100\n",
            "1/1 [==============================] - 0s 44ms/step - loss: 5.4075 - mae: 5.4075\n",
            "Epoch 31/100\n",
            "1/1 [==============================] - 0s 23ms/step - loss: 5.2970 - mae: 5.2970\n",
            "Epoch 32/100\n",
            "1/1 [==============================] - 0s 24ms/step - loss: 5.2524 - mae: 5.2524\n",
            "Epoch 33/100\n",
            "1/1 [==============================] - 0s 44ms/step - loss: 5.2355 - mae: 5.2355\n",
            "Epoch 34/100\n",
            "1/1 [==============================] - 0s 39ms/step - loss: 5.1743 - mae: 5.1743\n",
            "Epoch 35/100\n",
            "1/1 [==============================] - 0s 95ms/step - loss: 5.0723 - mae: 5.0723\n",
            "Epoch 36/100\n",
            "1/1 [==============================] - 0s 51ms/step - loss: 4.9331 - mae: 4.9331\n",
            "Epoch 37/100\n",
            "1/1 [==============================] - 0s 34ms/step - loss: 4.7601 - mae: 4.7601\n",
            "Epoch 38/100\n",
            "1/1 [==============================] - 0s 22ms/step - loss: 4.6031 - mae: 4.6031\n",
            "Epoch 39/100\n",
            "1/1 [==============================] - 0s 28ms/step - loss: 4.5085 - mae: 4.5085\n",
            "Epoch 40/100\n",
            "1/1 [==============================] - 0s 24ms/step - loss: 4.4063 - mae: 4.4063\n",
            "Epoch 41/100\n",
            "1/1 [==============================] - 0s 57ms/step - loss: 4.2964 - mae: 4.2964\n",
            "Epoch 42/100\n",
            "1/1 [==============================] - 0s 42ms/step - loss: 4.2214 - mae: 4.2214\n",
            "Epoch 43/100\n",
            "1/1 [==============================] - 0s 44ms/step - loss: 4.0508 - mae: 4.0508\n",
            "Epoch 44/100\n",
            "1/1 [==============================] - 0s 57ms/step - loss: 3.8877 - mae: 3.8877\n",
            "Epoch 45/100\n",
            "1/1 [==============================] - 0s 24ms/step - loss: 3.7264 - mae: 3.7264\n",
            "Epoch 46/100\n",
            "1/1 [==============================] - 0s 16ms/step - loss: 3.6101 - mae: 3.6101\n",
            "Epoch 47/100\n",
            "1/1 [==============================] - 0s 20ms/step - loss: 3.5053 - mae: 3.5053\n",
            "Epoch 48/100\n",
            "1/1 [==============================] - 0s 20ms/step - loss: 3.3482 - mae: 3.3482\n",
            "Epoch 49/100\n",
            "1/1 [==============================] - 0s 24ms/step - loss: 3.1416 - mae: 3.1416\n",
            "Epoch 50/100\n",
            "1/1 [==============================] - 0s 22ms/step - loss: 2.9201 - mae: 2.9201\n",
            "Epoch 51/100\n",
            "1/1 [==============================] - 0s 20ms/step - loss: 2.7529 - mae: 2.7529\n",
            "Epoch 52/100\n",
            "1/1 [==============================] - 0s 21ms/step - loss: 2.5739 - mae: 2.5739\n",
            "Epoch 53/100\n",
            "1/1 [==============================] - 0s 24ms/step - loss: 2.4465 - mae: 2.4465\n",
            "Epoch 54/100\n",
            "1/1 [==============================] - 0s 57ms/step - loss: 2.1721 - mae: 2.1721\n",
            "Epoch 55/100\n",
            "1/1 [==============================] - 0s 36ms/step - loss: 1.9343 - mae: 1.9343\n",
            "Epoch 56/100\n",
            "1/1 [==============================] - 0s 37ms/step - loss: 1.7867 - mae: 1.7867\n",
            "Epoch 57/100\n",
            "1/1 [==============================] - 0s 34ms/step - loss: 1.5708 - mae: 1.5708\n",
            "Epoch 58/100\n",
            "1/1 [==============================] - 0s 31ms/step - loss: 1.2897 - mae: 1.2897\n",
            "Epoch 59/100\n",
            "1/1 [==============================] - 0s 36ms/step - loss: 0.9992 - mae: 0.9992\n",
            "Epoch 60/100\n",
            "1/1 [==============================] - 0s 38ms/step - loss: 0.8692 - mae: 0.8692\n",
            "Epoch 61/100\n",
            "1/1 [==============================] - 0s 45ms/step - loss: 0.5717 - mae: 0.5717\n",
            "Epoch 62/100\n",
            "1/1 [==============================] - 0s 37ms/step - loss: 0.2449 - mae: 0.2449\n",
            "Epoch 63/100\n",
            "1/1 [==============================] - 0s 23ms/step - loss: 0.1723 - mae: 0.1723\n",
            "Epoch 64/100\n",
            "1/1 [==============================] - 0s 15ms/step - loss: 0.3838 - mae: 0.3838\n",
            "Epoch 65/100\n",
            "1/1 [==============================] - 0s 66ms/step - loss: 0.5082 - mae: 0.5082\n",
            "Epoch 66/100\n",
            "1/1 [==============================] - 0s 32ms/step - loss: 0.6357 - mae: 0.6357\n",
            "Epoch 67/100\n",
            "1/1 [==============================] - 0s 36ms/step - loss: 0.6622 - mae: 0.6622\n",
            "Epoch 68/100\n",
            "1/1 [==============================] - 0s 42ms/step - loss: 0.6914 - mae: 0.6914\n",
            "Epoch 69/100\n",
            "1/1 [==============================] - 0s 22ms/step - loss: 0.6522 - mae: 0.6522\n",
            "Epoch 70/100\n",
            "1/1 [==============================] - 0s 35ms/step - loss: 0.5953 - mae: 0.5953\n",
            "Epoch 71/100\n",
            "1/1 [==============================] - 0s 14ms/step - loss: 0.5078 - mae: 0.5078\n",
            "Epoch 72/100\n",
            "1/1 [==============================] - 0s 12ms/step - loss: 0.4319 - mae: 0.4319\n",
            "Epoch 73/100\n",
            "1/1 [==============================] - 0s 26ms/step - loss: 0.2688 - mae: 0.2688\n",
            "Epoch 74/100\n",
            "1/1 [==============================] - 0s 26ms/step - loss: 0.1147 - mae: 0.1147\n",
            "Epoch 75/100\n",
            "1/1 [==============================] - 0s 32ms/step - loss: 0.1473 - mae: 0.1473\n",
            "Epoch 76/100\n",
            "1/1 [==============================] - 0s 40ms/step - loss: 0.2440 - mae: 0.2440\n",
            "Epoch 77/100\n",
            "1/1 [==============================] - 0s 52ms/step - loss: 0.2931 - mae: 0.2931\n",
            "Epoch 78/100\n",
            "1/1 [==============================] - 0s 19ms/step - loss: 0.4216 - mae: 0.4216\n",
            "Epoch 79/100\n",
            "1/1 [==============================] - 0s 38ms/step - loss: 0.4313 - mae: 0.4313\n",
            "Epoch 80/100\n",
            "1/1 [==============================] - 0s 31ms/step - loss: 0.3196 - mae: 0.3196\n",
            "Epoch 81/100\n",
            "1/1 [==============================] - 0s 24ms/step - loss: 0.3923 - mae: 0.3923\n",
            "Epoch 82/100\n",
            "1/1 [==============================] - 0s 23ms/step - loss: 0.2908 - mae: 0.2908\n",
            "Epoch 83/100\n",
            "1/1 [==============================] - 0s 26ms/step - loss: 0.1917 - mae: 0.1917\n",
            "Epoch 84/100\n",
            "1/1 [==============================] - 0s 23ms/step - loss: 0.0704 - mae: 0.0704\n",
            "Epoch 85/100\n",
            "1/1 [==============================] - 0s 26ms/step - loss: 0.3623 - mae: 0.3623\n",
            "Epoch 86/100\n",
            "1/1 [==============================] - 0s 26ms/step - loss: 0.4186 - mae: 0.4186\n",
            "Epoch 87/100\n",
            "1/1 [==============================] - 0s 16ms/step - loss: 0.2373 - mae: 0.2373\n",
            "Epoch 88/100\n",
            "1/1 [==============================] - 0s 18ms/step - loss: 0.4253 - mae: 0.4253\n",
            "Epoch 89/100\n",
            "1/1 [==============================] - 0s 13ms/step - loss: 0.4835 - mae: 0.4835\n",
            "Epoch 90/100\n",
            "1/1 [==============================] - 0s 12ms/step - loss: 0.3680 - mae: 0.3680\n",
            "Epoch 91/100\n",
            "1/1 [==============================] - 0s 20ms/step - loss: 0.1034 - mae: 0.1034\n",
            "Epoch 92/100\n",
            "1/1 [==============================] - 0s 21ms/step - loss: 0.3021 - mae: 0.3021\n",
            "Epoch 93/100\n",
            "1/1 [==============================] - 0s 22ms/step - loss: 0.2639 - mae: 0.2639\n",
            "Epoch 94/100\n",
            "1/1 [==============================] - 0s 27ms/step - loss: 0.1696 - mae: 0.1696\n",
            "Epoch 95/100\n",
            "1/1 [==============================] - 0s 19ms/step - loss: 0.3143 - mae: 0.3143\n",
            "Epoch 96/100\n",
            "1/1 [==============================] - 0s 13ms/step - loss: 0.2406 - mae: 0.2406\n",
            "Epoch 97/100\n",
            "1/1 [==============================] - 0s 20ms/step - loss: 0.3318 - mae: 0.3318\n",
            "Epoch 98/100\n",
            "1/1 [==============================] - 0s 60ms/step - loss: 0.3487 - mae: 0.3487\n",
            "Epoch 99/100\n",
            "1/1 [==============================] - 0s 41ms/step - loss: 0.2137 - mae: 0.2137\n",
            "Epoch 100/100\n",
            "1/1 [==============================] - 0s 32ms/step - loss: 0.1241 - mae: 0.1241\n"
          ]
        },
        {
          "output_type": "execute_result",
          "data": {
            "text/plain": [
              "<keras.callbacks.History at 0x7f531c575ca0>"
            ]
          },
          "metadata": {},
          "execution_count": 9
        }
      ]
    },
    {
      "cell_type": "code",
      "source": [
        "# Remind ourselves of the data\n",
        "X, y"
      ],
      "metadata": {
        "colab": {
          "base_uri": "https://localhost:8080/"
        },
        "id": "nK4bHYM59Ed7",
        "outputId": "cdd5adc7-e42a-4c9c-89b7-dcfa6d8e914c"
      },
      "execution_count": 10,
      "outputs": [
        {
          "output_type": "execute_result",
          "data": {
            "text/plain": [
              "(<tf.Tensor: shape=(8,), dtype=float32, numpy=array([-7., -4., -1.,  2.,  5.,  8., 11., 14.], dtype=float32)>,\n",
              " <tf.Tensor: shape=(8,), dtype=float32, numpy=array([ 3.,  6.,  9., 12., 15., 18., 21., 24.], dtype=float32)>)"
            ]
          },
          "metadata": {},
          "execution_count": 10
        }
      ]
    },
    {
      "cell_type": "code",
      "source": [
        "# Let's see if our model's prediction has improved\n",
        "model.predict([17.0])"
      ],
      "metadata": {
        "colab": {
          "base_uri": "https://localhost:8080/"
        },
        "id": "rNm1_p_O9afF",
        "outputId": "39eabbc1-7ab3-4da0-f08c-7faa6c70bc6c"
      },
      "execution_count": 11,
      "outputs": [
        {
          "output_type": "stream",
          "name": "stdout",
          "text": [
            "1/1 [==============================] - 0s 321ms/step\n"
          ]
        },
        {
          "output_type": "execute_result",
          "data": {
            "text/plain": [
              "array([[27.204128]], dtype=float32)"
            ]
          },
          "metadata": {},
          "execution_count": 11
        }
      ]
    },
    {
      "cell_type": "code",
      "source": [
        "fig, ax = plt.subplots(figsize=(10, 6))\n",
        "\n",
        "x = np.arange(0, 50, 1)\n",
        "ax.plot(x, x + 10, c=\"r\")\n",
        "ax.plot(x, model.predict(x), c=\"b\");"
      ],
      "metadata": {
        "colab": {
          "base_uri": "https://localhost:8080/",
          "height": 391
        },
        "id": "np9wh0v29c9K",
        "outputId": "e5146697-01a0-45ad-d70e-9b62702d2a16"
      },
      "execution_count": 12,
      "outputs": [
        {
          "output_type": "stream",
          "name": "stdout",
          "text": [
            "2/2 [==============================] - 0s 5ms/step\n"
          ]
        },
        {
          "output_type": "display_data",
          "data": {
            "text/plain": [
              "<Figure size 720x432 with 1 Axes>"
            ],
            "image/png": "[encoded data removed]"
          },
          "metadata": {
            "needs_background": "light"
          }
        }
      ]
    },
    {
      "cell_type": "markdown",
      "source": [
        "# Evaluating a model\n",
        "\n",
        "In practice, a typical workflow you'll go through when building neural networks is:\n",
        "\n",
        "```\n",
        "Build a model -> fit it -> evaluate it -> tweak a model -> fit it -> evaluate it -> tweak a model -> fit it -> evaluate it...\n",
        "```"
      ],
      "metadata": {
        "id": "GvR_UoiW_Dc-"
      }
    },
    {
      "cell_type": "markdown",
      "source": [
        "When it comes to evaluation... There are 3 words you should memorize:\n",
        "\n",
        "> \"Visualize, visualize, visualize\"\n",
        "\n",
        "It's a good idea to visualize::\n",
        "* the data = what data are we working with? What does it look like?\n",
        "* The model itself - what does our model look like?\n",
        "* The training of a model - how does a model perform while it learns?\n",
        "* The predictions of the model - how do the predictions of a model line up against the ground truth (the original labels)?"
      ],
      "metadata": {
        "id": "MEEY3uCMAmV5"
      }
    },
    {
      "cell_type": "code",
      "source": [
        "# Make a bigger dataset\n",
        "X = tf.range(-100, 100, 4)\n",
        "X\n"
      ],
      "metadata": {
        "id": "giwIh5g2A_N1",
        "colab": {
          "base_uri": "https://localhost:8080/"
        },
        "outputId": "b81d9475-ff95-4102-84e6-f663cec19f21"
      },
      "execution_count": 13,
      "outputs": [
        {
          "output_type": "execute_result",
          "data": {
            "text/plain": [
              "<tf.Tensor: shape=(50,), dtype=int32, numpy=\n",
              "array([-100,  -96,  -92,  -88,  -84,  -80,  -76,  -72,  -68,  -64,  -60,\n",
              "        -56,  -52,  -48,  -44,  -40,  -36,  -32,  -28,  -24,  -20,  -16,\n",
              "        -12,   -8,   -4,    0,    4,    8,   12,   16,   20,   24,   28,\n",
              "         32,   36,   40,   44,   48,   52,   56,   60,   64,   68,   72,\n",
              "         76,   80,   84,   88,   92,   96], dtype=int32)>"
            ]
          },
          "metadata": {},
          "execution_count": 13
        }
      ]
    },
    {
      "cell_type": "code",
      "source": [
        "# Make labels for the dataset\n",
        "y = X + 10\n",
        "y"
      ],
      "metadata": {
        "colab": {
          "base_uri": "https://localhost:8080/"
        },
        "id": "r68zcSQsBagK",
        "outputId": "a489bc6a-d411-4bda-c715-53e47993ea1e"
      },
      "execution_count": 14,
      "outputs": [
        {
          "output_type": "execute_result",
          "data": {
            "text/plain": [
              "<tf.Tensor: shape=(50,), dtype=int32, numpy=\n",
              "array([-90, -86, -82, -78, -74, -70, -66, -62, -58, -54, -50, -46, -42,\n",
              "       -38, -34, -30, -26, -22, -18, -14, -10,  -6,  -2,   2,   6,  10,\n",
              "        14,  18,  22,  26,  30,  34,  38,  42,  46,  50,  54,  58,  62,\n",
              "        66,  70,  74,  78,  82,  86,  90,  94,  98, 102, 106], dtype=int32)>"
            ]
          },
          "metadata": {},
          "execution_count": 14
        }
      ]
    },
    {
      "cell_type": "code",
      "source": [
        "# Visualize the data\n",
        "plt.scatter(X, y)"
      ],
      "metadata": {
        "colab": {
          "base_uri": "https://localhost:8080/",
          "height": 282
        },
        "id": "BMgQdWCQBhGq",
        "outputId": "13c7a80e-2156-420a-e3e9-87fb964868ad"
      },
      "execution_count": 15,
      "outputs": [
        {
          "output_type": "execute_result",
          "data": {
            "text/plain": [
              "<matplotlib.collections.PathCollection at 0x7f530ffad040>"
            ]
          },
          "metadata": {},
          "execution_count": 15
        },
        {
          "output_type": "display_data",
          "data": {
            "text/plain": [
              "<Figure size 432x288 with 1 Axes>"
            ],
            "image/png": "[encoded data removed]"
          },
          "metadata": {
            "needs_background": "light"
          }
        }
      ]
    },
    {
      "cell_type": "markdown",
      "source": [
        "### The 3 sets...\n",
        "\n",
        "* **Training set** - the model learns from this data, which is typically 70-80% of the total data you have available.\n",
        "* **Validation set** - the model gets tuned on this set of data, which is typically 10-15% of the data available\n",
        "* **Test set** - the model gets evaluated on this data to test what it has elarned, this set is typically 10-15% of the total data available."
      ],
      "metadata": {
        "id": "cRggunV_Bo0u"
      }
    },
    {
      "cell_type": "code",
      "source": [
        "# Check the length of how many samples we have\n",
        "len(X)"
      ],
      "metadata": {
        "id": "RTTTPyBgCCHX",
        "colab": {
          "base_uri": "https://localhost:8080/"
        },
        "outputId": "dbdbb5f1-e5f4-4e23-dbb0-a3c5b05781f7"
      },
      "execution_count": 16,
      "outputs": [
        {
          "output_type": "execute_result",
          "data": {
            "text/plain": [
              "50"
            ]
          },
          "metadata": {},
          "execution_count": 16
        }
      ]
    },
    {
      "cell_type": "code",
      "source": [
        "# Split the data into train and test sets\n",
        "X_train = X[:40] # 80% of the data\n",
        "y_train = y[:40]\n",
        "X_test = X[40:] # last 20% of data\n",
        "y_test = y[40:]\n",
        "\n",
        "len(X_train), len(X_test)"
      ],
      "metadata": {
        "colab": {
          "base_uri": "https://localhost:8080/"
        },
        "id": "vjwb6YkZMkOl",
        "outputId": "99e2ea60-d189-41cd-971b-f99476b8e0af"
      },
      "execution_count": 49,
      "outputs": [
        {
          "output_type": "execute_result",
          "data": {
            "text/plain": [
              "(40, 10)"
            ]
          },
          "metadata": {},
          "execution_count": 49
        }
      ]
    },
    {
      "cell_type": "markdown",
      "source": [
        "### Visualizing the data\n",
        "Now we've got our data split intro training and test sets... let's visualize it again."
      ],
      "metadata": {
        "id": "FVq3dHZYNA8s"
      }
    },
    {
      "cell_type": "code",
      "source": [
        "plt.figure(figsize=(10, 6))\n",
        "# Plot training data in blue\n",
        "plt.scatter(X_train, y_train, c=\"b\", label=\"Training data\")\n",
        "plt.scatter(X_test, y_test, c=\"g\", label=\"Test data\")\n",
        "plt.legend();"
      ],
      "metadata": {
        "colab": {
          "base_uri": "https://localhost:8080/",
          "height": 374
        },
        "id": "jHILCIhCNR8g",
        "outputId": "1a36656c-6e4f-4906-ba9d-15ee0dedd1bf"
      },
      "execution_count": 39,
      "outputs": [
        {
          "output_type": "display_data",
          "data": {
            "text/plain": [
              "<Figure size 720x432 with 1 Axes>"
            ],
            "image/png": "[encoded data removed]"
          },
          "metadata": {
            "needs_background": "light"
          }
        }
      ]
    },
    {
      "cell_type": "code",
      "source": [
        "# Let's have a look at how to build a neural network for our data\n",
        "\n",
        "tf.random.set_seed(42)\n",
        "\n",
        "# 1. Create a model\n",
        "model = tf.keras.Sequential([\n",
        "    tf.keras.layers.Dense(1)\n",
        "])\n",
        "\n",
        "# 2. Compile the model\n",
        "model.compile(loss=tf.keras.losses.mae,\n",
        "              optimizer=tf.keras.optimizers.SGD(),\n",
        "              metrics=[\"mae\"])\n",
        "\n",
        "# 3. Fit the model\n",
        "# model.fit(tf.expand_dims(X_train, axis=-1), y_train, epochs=100) "
      ],
      "metadata": {
        "id": "FJLUDY05NeFG"
      },
      "execution_count": 40,
      "outputs": []
    },
    {
      "cell_type": "markdown",
      "source": [
        "### Visualizing the model"
      ],
      "metadata": {
        "id": "QVb6pf8QOY4Y"
      }
    },
    {
      "cell_type": "code",
      "source": [
        "# Let's create a model which builds automatically the input_shape argument in the first layer\n",
        "tf.random.set_seed(42)\n",
        "\n",
        "# Creaet a model \n",
        "model = tf.keras.Sequential([\n",
        "    tf.keras.layers.Dense(10, input_shape=[1]),\n",
        "    tf.keras.layers.Dense(1)\n",
        "])\n",
        "\n",
        "# Compile the model\n",
        "model.compile(loss=tf.keras.losses.mae,\n",
        "              optimizer=tf.keras.optimizers.SGD(),\n",
        "              metrics=[\"mae\"])\n",
        "\n",
        "# Fit the model\n",
        "# model.fit(tf.expand_dims(X_train, axis=-1), y_train, epochs=100)"
      ],
      "metadata": {
        "id": "9FfBUvncOaXM"
      },
      "execution_count": 82,
      "outputs": []
    },
    {
      "cell_type": "code",
      "source": [
        "model.summary()"
      ],
      "metadata": {
        "colab": {
          "base_uri": "https://localhost:8080/"
        },
        "id": "yXVvLsfMPMrS",
        "outputId": "f4842724-1d7c-4dac-c976-14c4a0722366"
      },
      "execution_count": 83,
      "outputs": [
        {
          "output_type": "stream",
          "name": "stdout",
          "text": [
            "Model: \"sequential_12\"\n",
            "_________________________________________________________________\n",
            " Layer (type)                Output Shape              Param #   \n",
            "=================================================================\n",
            " dense_22 (Dense)            (None, 10)                20        \n",
            "                                                                 \n",
            " dense_23 (Dense)            (None, 1)                 11        \n",
            "                                                                 \n",
            "=================================================================\n",
            "Total params: 31\n",
            "Trainable params: 31\n",
            "Non-trainable params: 0\n",
            "_________________________________________________________________\n"
          ]
        }
      ]
    },
    {
      "cell_type": "markdown",
      "source": [
        "* Total params - total number of parameters in the model.\n",
        "* Trainable parameters - these are the parameters (patterns) the model can update as it trains.\n",
        "* Non-trainable params - these parameters aren't updated during training (this is typical when you bring in already learn patterns or parameters from other models during **transfer learning**)"
      ],
      "metadata": {
        "id": "HdaC_bFOPNk3"
      }
    },
    {
      "cell_type": "code",
      "source": [
        "# Lets fit our model to training data\n",
        "model.fit(tf.expand_dims(X_train, axis=-1), y_train, epochs=100, verbose=0)"
      ],
      "metadata": {
        "colab": {
          "base_uri": "https://localhost:8080/"
        },
        "id": "muCMqKi-RKJo",
        "outputId": "326461f9-5147-4f29-879d-b0c25c791389"
      },
      "execution_count": 84,
      "outputs": [
        {
          "output_type": "execute_result",
          "data": {
            "text/plain": [
              "<keras.callbacks.History at 0x7f53bc7adaf0>"
            ]
          },
          "metadata": {},
          "execution_count": 84
        }
      ]
    },
    {
      "cell_type": "code",
      "source": [
        "# Get a summary of our model\n",
        "model.summary()"
      ],
      "metadata": {
        "colab": {
          "base_uri": "https://localhost:8080/"
        },
        "id": "cZCCFesDRN2Q",
        "outputId": "8e2229c2-cb70-4e2c-aaa7-f8e0942776b2"
      },
      "execution_count": 85,
      "outputs": [
        {
          "output_type": "stream",
          "name": "stdout",
          "text": [
            "Model: \"sequential_12\"\n",
            "_________________________________________________________________\n",
            " Layer (type)                Output Shape              Param #   \n",
            "=================================================================\n",
            " dense_22 (Dense)            (None, 10)                20        \n",
            "                                                                 \n",
            " dense_23 (Dense)            (None, 1)                 11        \n",
            "                                                                 \n",
            "=================================================================\n",
            "Total params: 31\n",
            "Trainable params: 31\n",
            "Non-trainable params: 0\n",
            "_________________________________________________________________\n"
          ]
        }
      ]
    },
    {
      "cell_type": "code",
      "source": [
        "from tensorflow.keras.utils import plot_model\n",
        "\n",
        "plot_model(model, show_shapes=True)"
      ],
      "metadata": {
        "colab": {
          "base_uri": "https://localhost:8080/",
          "height": 312
        },
        "id": "zakdCOcHRk8S",
        "outputId": "63b55c37-a440-42f0-e3f6-efd3db9a861f"
      },
      "execution_count": 86,
      "outputs": [
        {
          "output_type": "execute_result",
          "data": {
            "image/png": "[encoded data removed]",
            "text/plain": [
              "<IPython.core.display.Image object>"
            ]
          },
          "metadata": {},
          "execution_count": 86
        }
      ]
    },
    {
      "cell_type": "markdown",
      "source": [
        "### Visualizing our model's predictions\n",
        "\n",
        "To visualize predictions, it's a good idea to plot them against the ground truth labels.\n",
        "\n",
        "Often you'll see this in the form of `y_test` or `y_true` versus `y_pred` (ground truth vesrus your model predictions)"
      ],
      "metadata": {
        "id": "C_T4OGi_R8_m"
      }
    },
    {
      "cell_type": "code",
      "source": [
        "X_test"
      ],
      "metadata": {
        "colab": {
          "base_uri": "https://localhost:8080/"
        },
        "id": "ntuEXCTpoqL7",
        "outputId": "2b6079cd-65c0-4519-ae87-c8472760bdcc"
      },
      "execution_count": 87,
      "outputs": [
        {
          "output_type": "execute_result",
          "data": {
            "text/plain": [
              "<tf.Tensor: shape=(10,), dtype=int32, numpy=array([60, 64, 68, 72, 76, 80, 84, 88, 92, 96], dtype=int32)>"
            ]
          },
          "metadata": {},
          "execution_count": 87
        }
      ]
    },
    {
      "cell_type": "code",
      "source": [
        "# Make some predictions\n",
        "y_preds = model.predict(X_test)\n",
        "y_preds"
      ],
      "metadata": {
        "id": "5-5SwlyrSuEK",
        "colab": {
          "base_uri": "https://localhost:8080/"
        },
        "outputId": "9b39ecd4-fc5d-48a8-e868-9e02f1f6c1d7"
      },
      "execution_count": 88,
      "outputs": [
        {
          "output_type": "stream",
          "name": "stdout",
          "text": [
            "1/1 [==============================] - 0s 73ms/step\n"
          ]
        },
        {
          "output_type": "execute_result",
          "data": {
            "text/plain": [
              "array([[ 70.46091 ],\n",
              "       [ 75.042336],\n",
              "       [ 79.62378 ],\n",
              "       [ 84.205215],\n",
              "       [ 88.78665 ],\n",
              "       [ 93.36809 ],\n",
              "       [ 97.949524],\n",
              "       [102.53095 ],\n",
              "       [107.11239 ],\n",
              "       [111.693825]], dtype=float32)"
            ]
          },
          "metadata": {},
          "execution_count": 88
        }
      ]
    },
    {
      "cell_type": "code",
      "source": [
        "# Let's create a plotting function\n",
        "def plot_predictions(train_data=X_train,\n",
        "                     train_labels=y_train,\n",
        "                     test_data=X_test,\n",
        "                     test_labels=y_test,\n",
        "                     predictions=y_preds):\n",
        "  \"\"\"\n",
        "  Plots training data, test data and compares predictions to ground truth labels\n",
        "  \"\"\"\n",
        "\n",
        "  plt.figure(figsize=(10, 7))\n",
        "  # Plot training data in blue\n",
        "  plt.scatter(train_data, train_labels, c=\"b\", label=\"Training data\")\n",
        "  plt.scatter(test_data, test_labels, c=\"g\", label=\"Testing data\")\n",
        "  plt.scatter(test_data, predictions, c=\"r\", label=\"Predicted data\")\n",
        "  plt.legend();"
      ],
      "metadata": {
        "id": "t_ykrXynnMKY"
      },
      "execution_count": 122,
      "outputs": []
    },
    {
      "cell_type": "code",
      "source": [
        "plot_predictions()"
      ],
      "metadata": {
        "colab": {
          "base_uri": "https://localhost:8080/",
          "height": 428
        },
        "id": "4GC0ny2qn9A3",
        "outputId": "7714f7a5-1332-4905-e1e9-4c93781e61a9"
      },
      "execution_count": 95,
      "outputs": [
        {
          "output_type": "display_data",
          "data": {
            "text/plain": [
              "<Figure size 720x504 with 1 Axes>"
            ],
            "image/png": "[encoded data removed]"
          },
          "metadata": {
            "needs_background": "light"
          }
        }
      ]
    },
    {
      "cell_type": "markdown",
      "source": [
        "# Evaluating our model's predictions with regression evaluation metrics\n",
        "\n",
        "Depending on the problem you're working on, there will be different evaluation metrics to evaluate your model's performance.\n",
        "\n",
        "Since we're working on a regression, two of the main metrics:\n",
        "* MAE - mean absolute error, \"on average, how wrong is each of me model's predictions\"\n",
        "* MSE - mean square error, \"square the average errors\""
      ],
      "metadata": {
        "id": "b2rm3gbtn-ZC"
      }
    },
    {
      "cell_type": "code",
      "source": [
        "# Evaluate the model on the test set\n",
        "model.evaluate(X_test, y_test)"
      ],
      "metadata": {
        "colab": {
          "base_uri": "https://localhost:8080/"
        },
        "id": "QDIf-GFQpVcX",
        "outputId": "900e19ce-0846-47b8-81f2-c347dc06e7e4"
      },
      "execution_count": 91,
      "outputs": [
        {
          "output_type": "stream",
          "name": "stdout",
          "text": [
            "1/1 [==============================] - 0s 221ms/step - loss: 3.0774 - mae: 3.0774\n"
          ]
        },
        {
          "output_type": "execute_result",
          "data": {
            "text/plain": [
              "[3.077366590499878, 3.077366590499878]"
            ]
          },
          "metadata": {},
          "execution_count": 91
        }
      ]
    },
    {
      "cell_type": "code",
      "source": [
        "y_preds = tf.squeeze(y_preds)"
      ],
      "metadata": {
        "id": "G4DxByE7sind"
      },
      "execution_count": 113,
      "outputs": []
    },
    {
      "cell_type": "code",
      "source": [
        "# Calculate the mean absolute error\n",
        "mae = tf.metrics.mean_absolute_error(y_true=y_test,\n",
        "                                     y_pred=y_preds)\n",
        "mae"
      ],
      "metadata": {
        "colab": {
          "base_uri": "https://localhost:8080/"
        },
        "id": "keROE4s6qsOG",
        "outputId": "04920ded-89e8-4a3d-a676-3704c0506b56"
      },
      "execution_count": 114,
      "outputs": [
        {
          "output_type": "execute_result",
          "data": {
            "text/plain": [
              "<tf.Tensor: shape=(), dtype=float32, numpy=3.0773666>"
            ]
          },
          "metadata": {},
          "execution_count": 114
        }
      ]
    },
    {
      "cell_type": "code",
      "source": [
        "# Calculate the mean squared error\n",
        "mse = tf.metrics.mean_squared_error(y_true=y_test,\n",
        "                                    y_pred=y_preds)\n",
        "mse"
      ],
      "metadata": {
        "colab": {
          "base_uri": "https://localhost:8080/"
        },
        "id": "43-d_PEirBbP",
        "outputId": "6b5efaa7-a5b2-43c2-9ac4-d39d8383c37d"
      },
      "execution_count": 116,
      "outputs": [
        {
          "output_type": "execute_result",
          "data": {
            "text/plain": [
              "<tf.Tensor: shape=(), dtype=float32, numpy=12.259239>"
            ]
          },
          "metadata": {},
          "execution_count": 116
        }
      ]
    },
    {
      "cell_type": "code",
      "source": [
        "# Make some functions to reuse MAE and MSE\n",
        "def mae(y_true, y_preds):\n",
        "  return tf.metrics.mean_absolute_error(y_true=y_true,\n",
        "                                        y_pred=tf.squeeze(y_preds))\n",
        "  \n",
        "def mse(y_true, y_preds):\n",
        "  return tf.metrics.mean_squared_error(y_true=y_true,\n",
        "                                        y_pred=tf.squeeze(y_preds))"
      ],
      "metadata": {
        "id": "6HXTdizJsnhT"
      },
      "execution_count": 152,
      "outputs": []
    },
    {
      "cell_type": "code",
      "source": [
        "mse(y_test, y_preds)"
      ],
      "metadata": {
        "colab": {
          "base_uri": "https://localhost:8080/"
        },
        "id": "ItqDQqFBtDVZ",
        "outputId": "dc439b7a-62a3-48eb-edc4-f2e596ed5fde"
      },
      "execution_count": 118,
      "outputs": [
        {
          "output_type": "execute_result",
          "data": {
            "text/plain": [
              "<tf.Tensor: shape=(), dtype=float32, numpy=12.259239>"
            ]
          },
          "metadata": {},
          "execution_count": 118
        }
      ]
    },
    {
      "cell_type": "code",
      "source": [
        "mae(y_test, y_preds)"
      ],
      "metadata": {
        "colab": {
          "base_uri": "https://localhost:8080/"
        },
        "id": "lm8O3RvXtFaS",
        "outputId": "2ed1ec0f-6607-472d-b313-b83c8f29fa2f"
      },
      "execution_count": 119,
      "outputs": [
        {
          "output_type": "execute_result",
          "data": {
            "text/plain": [
              "<tf.Tensor: shape=(), dtype=float32, numpy=3.0773666>"
            ]
          },
          "metadata": {},
          "execution_count": 119
        }
      ]
    },
    {
      "cell_type": "markdown",
      "source": [
        "### Running experiments to improve our model\n",
        "\n",
        "1. Get more data - get more examples for the model to train on\n",
        "2. Make your model larger (using a more complex model) - might come in a form of more layers or more hidden units in each layer.\n",
        "3. Train for longer - give your model more of a chance to find patterns in data.\n",
        "\n",
        "Let's do 3 modelling experiments:\n",
        "1. `model_1` - same as the original model, 1 layer, trained for 100 epochs\n",
        "2. `model_2` - two layers trained for 100 epochs\n",
        "3. `model_3` - 2 layers, trained for 500 epochs\n",
        "\n",
        "** Build `model_1`**"
      ],
      "metadata": {
        "id": "5x3aDtaetG9f"
      }
    },
    {
      "cell_type": "code",
      "source": [
        "# Set random seed\n",
        "tf.random.set_seed(42)\n",
        "\n",
        "# 1. Create a model\n",
        "model_1 = tf.keras.Sequential([\n",
        "    tf.keras.layers.Dense(1)\n",
        "])\n",
        "\n",
        "# 2. Compile the model\n",
        "model_1.compile(loss=tf.keras.losses.mae,\n",
        "                optimizer=tf.keras.optimizers.SGD(),\n",
        "                metrics=[\"mae\"])\n",
        "\n",
        "# 3. Fit the model\n",
        "model_1.fit(tf.expand_dims(X_train, axis=-1), y_train, epochs=100)"
      ],
      "metadata": {
        "colab": {
          "base_uri": "https://localhost:8080/"
        },
        "id": "q1ENqZ-zta0N",
        "outputId": "c9af3cfc-3db7-457a-88e7-ee60c5d10dea"
      },
      "execution_count": 120,
      "outputs": [
        {
          "output_type": "stream",
          "name": "stdout",
          "text": [
            "Epoch 1/100\n",
            "2/2 [==============================] - 1s 20ms/step - loss: 47.0604 - mae: 47.0604\n",
            "Epoch 2/100\n",
            "2/2 [==============================] - 0s 15ms/step - loss: 15.6819 - mae: 15.6819\n",
            "Epoch 3/100\n",
            "2/2 [==============================] - 0s 13ms/step - loss: 15.0353 - mae: 15.0353\n",
            "Epoch 4/100\n",
            "2/2 [==============================] - 0s 12ms/step - loss: 8.1562 - mae: 8.1562\n",
            "Epoch 5/100\n",
            "2/2 [==============================] - 0s 14ms/step - loss: 10.6929 - mae: 10.6929\n",
            "Epoch 6/100\n",
            "2/2 [==============================] - 0s 11ms/step - loss: 9.8939 - mae: 9.8939\n",
            "Epoch 7/100\n",
            "2/2 [==============================] - 0s 12ms/step - loss: 8.9593 - mae: 8.9593\n",
            "Epoch 8/100\n",
            "2/2 [==============================] - 0s 15ms/step - loss: 9.0867 - mae: 9.0867\n",
            "Epoch 9/100\n",
            "2/2 [==============================] - 0s 21ms/step - loss: 19.7064 - mae: 19.7064\n",
            "Epoch 10/100\n",
            "2/2 [==============================] - 0s 13ms/step - loss: 10.6525 - mae: 10.6525\n",
            "Epoch 11/100\n",
            "2/2 [==============================] - 0s 14ms/step - loss: 8.6137 - mae: 8.6137\n",
            "Epoch 12/100\n",
            "2/2 [==============================] - 0s 16ms/step - loss: 11.1660 - mae: 11.1660\n",
            "Epoch 13/100\n",
            "2/2 [==============================] - 0s 12ms/step - loss: 12.1289 - mae: 12.1289\n",
            "Epoch 14/100\n",
            "2/2 [==============================] - 0s 11ms/step - loss: 14.1190 - mae: 14.1190\n",
            "Epoch 15/100\n",
            "2/2 [==============================] - 0s 12ms/step - loss: 11.5191 - mae: 11.5191\n",
            "Epoch 16/100\n",
            "2/2 [==============================] - 0s 20ms/step - loss: 8.5186 - mae: 8.5186\n",
            "Epoch 17/100\n",
            "2/2 [==============================] - 0s 17ms/step - loss: 13.5750 - mae: 13.5750\n",
            "Epoch 18/100\n",
            "2/2 [==============================] - 0s 10ms/step - loss: 11.3854 - mae: 11.3854\n",
            "Epoch 19/100\n",
            "2/2 [==============================] - 0s 11ms/step - loss: 18.0297 - mae: 18.0297\n",
            "Epoch 20/100\n",
            "2/2 [==============================] - 0s 9ms/step - loss: 15.1635 - mae: 15.1635\n",
            "Epoch 21/100\n",
            "2/2 [==============================] - 0s 9ms/step - loss: 11.1194 - mae: 11.1194\n",
            "Epoch 22/100\n",
            "2/2 [==============================] - 0s 18ms/step - loss: 8.2468 - mae: 8.2468\n",
            "Epoch 23/100\n",
            "2/2 [==============================] - 0s 8ms/step - loss: 9.4658 - mae: 9.4658\n",
            "Epoch 24/100\n",
            "2/2 [==============================] - 0s 8ms/step - loss: 7.6924 - mae: 7.6924\n",
            "Epoch 25/100\n",
            "2/2 [==============================] - 0s 9ms/step - loss: 13.0541 - mae: 13.0541\n",
            "Epoch 26/100\n",
            "2/2 [==============================] - 0s 9ms/step - loss: 16.5335 - mae: 16.5335\n",
            "Epoch 27/100\n",
            "2/2 [==============================] - 0s 15ms/step - loss: 13.2614 - mae: 13.2614\n",
            "Epoch 28/100\n",
            "2/2 [==============================] - 0s 14ms/step - loss: 14.3758 - mae: 14.3758\n",
            "Epoch 29/100\n",
            "2/2 [==============================] - 0s 16ms/step - loss: 10.1089 - mae: 10.1089\n",
            "Epoch 30/100\n",
            "2/2 [==============================] - 0s 10ms/step - loss: 16.5128 - mae: 16.5128\n",
            "Epoch 31/100\n",
            "2/2 [==============================] - 0s 12ms/step - loss: 23.4968 - mae: 23.4968\n",
            "Epoch 32/100\n",
            "2/2 [==============================] - 0s 13ms/step - loss: 7.3776 - mae: 7.3776\n",
            "Epoch 33/100\n",
            "2/2 [==============================] - 0s 14ms/step - loss: 9.8170 - mae: 9.8170\n",
            "Epoch 34/100\n",
            "2/2 [==============================] - 0s 14ms/step - loss: 12.2735 - mae: 12.2735\n",
            "Epoch 35/100\n",
            "2/2 [==============================] - 0s 25ms/step - loss: 11.1616 - mae: 11.1616\n",
            "Epoch 36/100\n",
            "2/2 [==============================] - 0s 13ms/step - loss: 13.3787 - mae: 13.3787\n",
            "Epoch 37/100\n",
            "2/2 [==============================] - 0s 14ms/step - loss: 9.4658 - mae: 9.4658\n",
            "Epoch 38/100\n",
            "2/2 [==============================] - 0s 16ms/step - loss: 10.1197 - mae: 10.1197\n",
            "Epoch 39/100\n",
            "2/2 [==============================] - 0s 16ms/step - loss: 10.2136 - mae: 10.2136\n",
            "Epoch 40/100\n",
            "2/2 [==============================] - 0s 14ms/step - loss: 10.9561 - mae: 10.9561\n",
            "Epoch 41/100\n",
            "2/2 [==============================] - 0s 15ms/step - loss: 7.9332 - mae: 7.9332\n",
            "Epoch 42/100\n",
            "2/2 [==============================] - 0s 17ms/step - loss: 10.5977 - mae: 10.5977\n",
            "Epoch 43/100\n",
            "2/2 [==============================] - 0s 14ms/step - loss: 7.2213 - mae: 7.2213\n",
            "Epoch 44/100\n",
            "2/2 [==============================] - 0s 20ms/step - loss: 8.0090 - mae: 8.0090\n",
            "Epoch 45/100\n",
            "2/2 [==============================] - 0s 16ms/step - loss: 9.8036 - mae: 9.8036\n",
            "Epoch 46/100\n",
            "2/2 [==============================] - 0s 14ms/step - loss: 8.8797 - mae: 8.8797\n",
            "Epoch 47/100\n",
            "2/2 [==============================] - 0s 22ms/step - loss: 7.5831 - mae: 7.5831\n",
            "Epoch 48/100\n",
            "2/2 [==============================] - 0s 12ms/step - loss: 8.5798 - mae: 8.5798\n",
            "Epoch 49/100\n",
            "2/2 [==============================] - 0s 13ms/step - loss: 10.0096 - mae: 10.0096\n",
            "Epoch 50/100\n",
            "2/2 [==============================] - 0s 11ms/step - loss: 9.0309 - mae: 9.0309\n",
            "Epoch 51/100\n",
            "2/2 [==============================] - 0s 9ms/step - loss: 10.6799 - mae: 10.6799\n",
            "Epoch 52/100\n",
            "2/2 [==============================] - 0s 11ms/step - loss: 15.3030 - mae: 15.3030\n",
            "Epoch 53/100\n",
            "2/2 [==============================] - 0s 7ms/step - loss: 14.3236 - mae: 14.3236\n",
            "Epoch 54/100\n",
            "2/2 [==============================] - 0s 10ms/step - loss: 21.6143 - mae: 21.6143\n",
            "Epoch 55/100\n",
            "2/2 [==============================] - 0s 8ms/step - loss: 15.9990 - mae: 15.9990\n",
            "Epoch 56/100\n",
            "2/2 [==============================] - 0s 8ms/step - loss: 10.2939 - mae: 10.2939\n",
            "Epoch 57/100\n",
            "2/2 [==============================] - 0s 8ms/step - loss: 9.7786 - mae: 9.7786\n",
            "Epoch 58/100\n",
            "2/2 [==============================] - 0s 8ms/step - loss: 9.0646 - mae: 9.0646\n",
            "Epoch 59/100\n",
            "2/2 [==============================] - 0s 10ms/step - loss: 8.2679 - mae: 8.2679\n",
            "Epoch 60/100\n",
            "2/2 [==============================] - 0s 9ms/step - loss: 9.3659 - mae: 9.3659\n",
            "Epoch 61/100\n",
            "2/2 [==============================] - 0s 8ms/step - loss: 11.1760 - mae: 11.1760\n",
            "Epoch 62/100\n",
            "2/2 [==============================] - 0s 7ms/step - loss: 12.0827 - mae: 12.0827\n",
            "Epoch 63/100\n",
            "2/2 [==============================] - 0s 6ms/step - loss: 7.2786 - mae: 7.2786\n",
            "Epoch 64/100\n",
            "2/2 [==============================] - 0s 7ms/step - loss: 12.4386 - mae: 12.4386\n",
            "Epoch 65/100\n",
            "2/2 [==============================] - 0s 8ms/step - loss: 10.5119 - mae: 10.5119\n",
            "Epoch 66/100\n",
            "2/2 [==============================] - 0s 9ms/step - loss: 15.6149 - mae: 15.6149\n",
            "Epoch 67/100\n",
            "2/2 [==============================] - 0s 8ms/step - loss: 10.0185 - mae: 10.0185\n",
            "Epoch 68/100\n",
            "2/2 [==============================] - 0s 7ms/step - loss: 8.7305 - mae: 8.7305\n",
            "Epoch 69/100\n",
            "2/2 [==============================] - 0s 8ms/step - loss: 13.4924 - mae: 13.4924\n",
            "Epoch 70/100\n",
            "2/2 [==============================] - 0s 10ms/step - loss: 7.4790 - mae: 7.4790\n",
            "Epoch 71/100\n",
            "2/2 [==============================] - 0s 9ms/step - loss: 12.2387 - mae: 12.2387\n",
            "Epoch 72/100\n",
            "2/2 [==============================] - 0s 8ms/step - loss: 8.5404 - mae: 8.5404\n",
            "Epoch 73/100\n",
            "2/2 [==============================] - 0s 8ms/step - loss: 7.0488 - mae: 7.0488\n",
            "Epoch 74/100\n",
            "2/2 [==============================] - 0s 9ms/step - loss: 9.9361 - mae: 9.9361\n",
            "Epoch 75/100\n",
            "2/2 [==============================] - 0s 8ms/step - loss: 9.9480 - mae: 9.9480\n",
            "Epoch 76/100\n",
            "2/2 [==============================] - 0s 9ms/step - loss: 10.1141 - mae: 10.1141\n",
            "Epoch 77/100\n",
            "2/2 [==============================] - 0s 9ms/step - loss: 12.9626 - mae: 12.9626\n",
            "Epoch 78/100\n",
            "2/2 [==============================] - 0s 9ms/step - loss: 11.1553 - mae: 11.1553\n",
            "Epoch 79/100\n",
            "2/2 [==============================] - 0s 7ms/step - loss: 14.7048 - mae: 14.7048\n",
            "Epoch 80/100\n",
            "2/2 [==============================] - 0s 9ms/step - loss: 8.9357 - mae: 8.9357\n",
            "Epoch 81/100\n",
            "2/2 [==============================] - 0s 11ms/step - loss: 10.7804 - mae: 10.7804\n",
            "Epoch 82/100\n",
            "2/2 [==============================] - 0s 8ms/step - loss: 8.3954 - mae: 8.3954\n",
            "Epoch 83/100\n",
            "2/2 [==============================] - 0s 8ms/step - loss: 9.2356 - mae: 9.2356\n",
            "Epoch 84/100\n",
            "2/2 [==============================] - 0s 9ms/step - loss: 8.9526 - mae: 8.9526\n",
            "Epoch 85/100\n",
            "2/2 [==============================] - 0s 9ms/step - loss: 13.2067 - mae: 13.2067\n",
            "Epoch 86/100\n",
            "2/2 [==============================] - 0s 9ms/step - loss: 13.7080 - mae: 13.7080\n",
            "Epoch 87/100\n",
            "2/2 [==============================] - 0s 8ms/step - loss: 13.1923 - mae: 13.1923\n",
            "Epoch 88/100\n",
            "2/2 [==============================] - 0s 13ms/step - loss: 11.5189 - mae: 11.5189\n",
            "Epoch 89/100\n",
            "2/2 [==============================] - 0s 8ms/step - loss: 7.8120 - mae: 7.8120\n",
            "Epoch 90/100\n",
            "2/2 [==============================] - 0s 9ms/step - loss: 10.9348 - mae: 10.9348\n",
            "Epoch 91/100\n",
            "2/2 [==============================] - 0s 13ms/step - loss: 6.7594 - mae: 6.7594\n",
            "Epoch 92/100\n",
            "2/2 [==============================] - 0s 10ms/step - loss: 10.1274 - mae: 10.1274\n",
            "Epoch 93/100\n",
            "2/2 [==============================] - 0s 11ms/step - loss: 7.6177 - mae: 7.6177\n",
            "Epoch 94/100\n",
            "2/2 [==============================] - 0s 13ms/step - loss: 9.2507 - mae: 9.2507\n",
            "Epoch 95/100\n",
            "2/2 [==============================] - 0s 10ms/step - loss: 10.8418 - mae: 10.8418\n",
            "Epoch 96/100\n",
            "2/2 [==============================] - 0s 12ms/step - loss: 10.2989 - mae: 10.2989\n",
            "Epoch 97/100\n",
            "2/2 [==============================] - 0s 8ms/step - loss: 7.6901 - mae: 7.6901\n",
            "Epoch 98/100\n",
            "2/2 [==============================] - 0s 8ms/step - loss: 8.6255 - mae: 8.6255\n",
            "Epoch 99/100\n",
            "2/2 [==============================] - 0s 9ms/step - loss: 9.4046 - mae: 9.4046\n",
            "Epoch 100/100\n",
            "2/2 [==============================] - 0s 12ms/step - loss: 8.8493 - mae: 8.8493\n"
          ]
        },
        {
          "output_type": "execute_result",
          "data": {
            "text/plain": [
              "<keras.callbacks.History at 0x7f530f5e9550>"
            ]
          },
          "metadata": {},
          "execution_count": 120
        }
      ]
    },
    {
      "cell_type": "code",
      "source": [
        "# Make and plot predictions for model_1\n",
        "y_preds_1 = model_1.predict(X_test)\n",
        "plot_predictions(predictions=y_preds_1)"
      ],
      "metadata": {
        "colab": {
          "base_uri": "https://localhost:8080/",
          "height": 445
        },
        "id": "07eQNMY0ucy9",
        "outputId": "14ab05e0-f58c-4f5e-be73-d6d451e6aa6c"
      },
      "execution_count": 123,
      "outputs": [
        {
          "output_type": "stream",
          "name": "stdout",
          "text": [
            "1/1 [==============================] - 0s 26ms/step\n"
          ]
        },
        {
          "output_type": "display_data",
          "data": {
            "text/plain": [
              "<Figure size 720x504 with 1 Axes>"
            ],
            "image/png": "[encoded data removed]"
          },
          "metadata": {
            "needs_background": "light"
          }
        }
      ]
    },
    {
      "cell_type": "code",
      "source": [
        "# Calculate model_1 evaluation metrics\n",
        "mae_1 = mae(y_test, y_preds_1)\n",
        "mse_1 = mse(y_test, y_preds_1)\n",
        "mae_1, mse_1"
      ],
      "metadata": {
        "colab": {
          "base_uri": "https://localhost:8080/"
        },
        "id": "aP5kihtwus3x",
        "outputId": "248aad99-9706-4f0c-8035-725b0764f478"
      },
      "execution_count": 127,
      "outputs": [
        {
          "output_type": "execute_result",
          "data": {
            "text/plain": [
              "(<tf.Tensor: shape=(), dtype=float32, numpy=8.612019>,\n",
              " <tf.Tensor: shape=(), dtype=float32, numpy=80.67828>)"
            ]
          },
          "metadata": {},
          "execution_count": 127
        }
      ]
    },
    {
      "cell_type": "markdown",
      "source": [
        "**Build `model_2`**\n",
        "* 2 dense layers trained for 100 epochs"
      ],
      "metadata": {
        "id": "JWk9-m6su-2o"
      }
    },
    {
      "cell_type": "code",
      "source": [
        "# Set the random seed\n",
        "tf.random.set_seed(42)\n",
        "\n",
        "# Create the model\n",
        "model_2 = tf.keras.Sequential([\n",
        "    tf.keras.layers.Dense(10, input_shape=[1]),\n",
        "    tf.keras.layers.Dense(1)\n",
        "])\n",
        "\n",
        "# Compile the model\n",
        "model_2.compile(loss=tf.keras.losses.mae,\n",
        "                optimizer=tf.keras.optimizers.SGD(),\n",
        "                metrics=[\"mse\"])\n",
        "\n",
        "# Fit the model\n",
        "model_2.fit(tf.expand_dims(X_train, axis=-1), y_train, epochs=100, verbose=0)"
      ],
      "metadata": {
        "colab": {
          "base_uri": "https://localhost:8080/"
        },
        "id": "dciq-Ga8vjbI",
        "outputId": "bb6a0812-3397-49ed-d03f-74567f52992c"
      },
      "execution_count": 146,
      "outputs": [
        {
          "output_type": "execute_result",
          "data": {
            "text/plain": [
              "<keras.callbacks.History at 0x7f530cca3970>"
            ]
          },
          "metadata": {},
          "execution_count": 146
        }
      ]
    },
    {
      "cell_type": "code",
      "source": [
        "# Evaluate the model\n",
        "model_2.evaluate(X_test, y_test)"
      ],
      "metadata": {
        "colab": {
          "base_uri": "https://localhost:8080/"
        },
        "id": "7Q6oBZdzv40i",
        "outputId": "49302f46-1412-4d51-9a5c-dbd4737ec937"
      },
      "execution_count": 147,
      "outputs": [
        {
          "output_type": "stream",
          "name": "stderr",
          "text": [
            "WARNING:tensorflow:5 out of the last 5 calls to <function Model.make_test_function.<locals>.test_function at 0x7f530e855e50> triggered tf.function retracing. Tracing is expensive and the excessive number of tracings could be due to (1) creating @tf.function repeatedly in a loop, (2) passing tensors with different shapes, (3) passing Python objects instead of tensors. For (1), please define your @tf.function outside of the loop. For (2), @tf.function has reduce_retracing=True option that can avoid unnecessary retracing. For (3), please refer to https://www.tensorflow.org/guide/function#controlling_retracing and https://www.tensorflow.org/api_docs/python/tf/function for  more details.\n"
          ]
        },
        {
          "output_type": "stream",
          "name": "stdout",
          "text": [
            "1/1 [==============================] - 0s 137ms/step - loss: 13.3452 - mse: 188.1946\n"
          ]
        },
        {
          "output_type": "execute_result",
          "data": {
            "text/plain": [
              "[13.345245361328125, 188.19461059570312]"
            ]
          },
          "metadata": {},
          "execution_count": 147
        }
      ]
    },
    {
      "cell_type": "code",
      "source": [
        "# Plot predictions\n",
        "y_preds_2 = model_2.predict(X_test) \n",
        "y_preds_2"
      ],
      "metadata": {
        "colab": {
          "base_uri": "https://localhost:8080/"
        },
        "id": "48ZoGSFgv8OL",
        "outputId": "58c0e9f6-804c-4780-d5f3-f901595a3818"
      },
      "execution_count": 148,
      "outputs": [
        {
          "output_type": "stream",
          "name": "stdout",
          "text": [
            "1/1 [==============================] - 0s 62ms/step\n"
          ]
        },
        {
          "output_type": "execute_result",
          "data": {
            "text/plain": [
              "array([[ 78.36644 ],\n",
              "       [ 83.47284 ],\n",
              "       [ 88.57924 ],\n",
              "       [ 93.685646],\n",
              "       [ 98.79203 ],\n",
              "       [103.898445],\n",
              "       [109.004845],\n",
              "       [114.111244],\n",
              "       [119.21766 ],\n",
              "       [124.32404 ]], dtype=float32)"
            ]
          },
          "metadata": {},
          "execution_count": 148
        }
      ]
    },
    {
      "cell_type": "code",
      "source": [
        "plot_predictions(predictions=y_preds_2)"
      ],
      "metadata": {
        "colab": {
          "base_uri": "https://localhost:8080/",
          "height": 428
        },
        "id": "guGyWO80wDH1",
        "outputId": "05e35c60-ebad-46ec-e19a-6b01fc5cb938"
      },
      "execution_count": 149,
      "outputs": [
        {
          "output_type": "display_data",
          "data": {
            "text/plain": [
              "<Figure size 720x504 with 1 Axes>"
            ],
            "image/png": "[encoded data removed]"
          },
          "metadata": {
            "needs_background": "light"
          }
        }
      ]
    },
    {
      "cell_type": "code",
      "source": [
        "# MAE and MSE\n",
        "mae_2 = mae(y_test, y_preds_2)\n",
        "mse_2 = mse(y_test, y_preds_2)\n",
        "mae_2, mse_2"
      ],
      "metadata": {
        "colab": {
          "base_uri": "https://localhost:8080/"
        },
        "id": "0z61Ay4XwGRK",
        "outputId": "c72ad70a-a23f-465f-dbca-11653759bbb0"
      },
      "execution_count": 154,
      "outputs": [
        {
          "output_type": "execute_result",
          "data": {
            "text/plain": [
              "(<tf.Tensor: shape=(), dtype=float32, numpy=13.3452425>,\n",
              " <tf.Tensor: shape=(), dtype=float32, numpy=188.19455>)"
            ]
          },
          "metadata": {},
          "execution_count": 154
        }
      ]
    },
    {
      "cell_type": "markdown",
      "source": [
        "**Build `model_3`**\n",
        "* 2 layers, trained for 500 epochs"
      ],
      "metadata": {
        "id": "ffg0l_-0wNap"
      }
    },
    {
      "cell_type": "code",
      "source": [
        "# set random seed\n",
        "tf.random.set_seed(42)\n",
        "\n",
        "# Create the model\n",
        "model_3 = tf.keras.Sequential([\n",
        "    tf.keras.layers.Dense(10),\n",
        "    tf.keras.layers.Dense(1)\n",
        "])\n",
        "\n",
        "# Compile the model\n",
        "model_3.compile(loss=tf.keras.losses.mae,\n",
        "                optimizer=tf.keras.optimizers.Adam(learning_rate=0.001),\n",
        "                metrics=[\"mse\"])\n",
        "\n",
        "# Fit the model\n",
        "model_3.fit(tf.expand_dims(X_train, axis=-1), y_train, epochs=500, verbose=1)"
      ],
      "metadata": {
        "colab": {
          "base_uri": "https://localhost:8080/"
        },
        "id": "uFlfFfY5y7Tn",
        "outputId": "26a6d198-eac9-42d1-e2fc-1dcd9134fae6"
      },
      "execution_count": 159,
      "outputs": [
        {
          "output_type": "stream",
          "name": "stdout",
          "text": [
            "Epoch 1/500\n",
            "2/2 [==============================] - 2s 13ms/step - loss: 71.4580 - mse: 7050.1768\n",
            "Epoch 2/500\n",
            "2/2 [==============================] - 0s 8ms/step - loss: 70.7519 - mse: 6911.2993\n",
            "Epoch 3/500\n",
            "2/2 [==============================] - 0s 9ms/step - loss: 70.0704 - mse: 6776.8687\n",
            "Epoch 4/500\n",
            "2/2 [==============================] - 0s 8ms/step - loss: 69.3785 - mse: 6642.0298\n",
            "Epoch 5/500\n",
            "2/2 [==============================] - 0s 11ms/step - loss: 68.7000 - mse: 6513.3892\n",
            "Epoch 6/500\n",
            "2/2 [==============================] - 0s 9ms/step - loss: 68.0162 - mse: 6382.1338\n",
            "Epoch 7/500\n",
            "2/2 [==============================] - 0s 10ms/step - loss: 67.3271 - mse: 6250.4971\n",
            "Epoch 8/500\n",
            "2/2 [==============================] - 0s 9ms/step - loss: 66.6130 - mse: 6112.1709\n",
            "Epoch 9/500\n",
            "2/2 [==============================] - 0s 10ms/step - loss: 65.9507 - mse: 5994.1045\n",
            "Epoch 10/500\n",
            "2/2 [==============================] - 0s 9ms/step - loss: 65.2818 - mse: 5871.9268\n",
            "Epoch 11/500\n",
            "2/2 [==============================] - 0s 17ms/step - loss: 64.5678 - mse: 5742.1123\n",
            "Epoch 12/500\n",
            "2/2 [==============================] - 0s 20ms/step - loss: 63.8913 - mse: 5621.5381\n",
            "Epoch 13/500\n",
            "2/2 [==============================] - 0s 30ms/step - loss: 63.1862 - mse: 5494.1270\n",
            "Epoch 14/500\n",
            "2/2 [==============================] - 0s 23ms/step - loss: 62.5086 - mse: 5377.1611\n",
            "Epoch 15/500\n",
            "2/2 [==============================] - 0s 16ms/step - loss: 61.8351 - mse: 5261.8774\n",
            "Epoch 16/500\n",
            "2/2 [==============================] - 0s 24ms/step - loss: 61.1325 - mse: 5142.7114\n",
            "Epoch 17/500\n",
            "2/2 [==============================] - 0s 20ms/step - loss: 60.4466 - mse: 5026.1211\n",
            "Epoch 18/500\n",
            "2/2 [==============================] - 0s 17ms/step - loss: 59.7659 - mse: 4911.1333\n",
            "Epoch 19/500\n",
            "2/2 [==============================] - 0s 16ms/step - loss: 59.0998 - mse: 4800.4800\n",
            "Epoch 20/500\n",
            "2/2 [==============================] - 0s 17ms/step - loss: 58.4103 - mse: 4688.5171\n",
            "Epoch 21/500\n",
            "2/2 [==============================] - 0s 27ms/step - loss: 57.7348 - mse: 4580.2300\n",
            "Epoch 22/500\n",
            "2/2 [==============================] - 0s 18ms/step - loss: 57.0862 - mse: 4477.3540\n",
            "Epoch 23/500\n",
            "2/2 [==============================] - 0s 18ms/step - loss: 56.4167 - mse: 4372.2959\n",
            "Epoch 24/500\n",
            "2/2 [==============================] - 0s 15ms/step - loss: 55.7403 - mse: 4264.3779\n",
            "Epoch 25/500\n",
            "2/2 [==============================] - 0s 24ms/step - loss: 55.0777 - mse: 4163.8174\n",
            "Epoch 26/500\n",
            "2/2 [==============================] - 0s 18ms/step - loss: 54.4286 - mse: 4064.9121\n",
            "Epoch 27/500\n",
            "2/2 [==============================] - 0s 13ms/step - loss: 53.7470 - mse: 3962.7117\n",
            "Epoch 28/500\n",
            "2/2 [==============================] - 0s 15ms/step - loss: 53.0978 - mse: 3868.7488\n",
            "Epoch 29/500\n",
            "2/2 [==============================] - 0s 14ms/step - loss: 52.3928 - mse: 3762.3223\n",
            "Epoch 30/500\n",
            "2/2 [==============================] - 0s 16ms/step - loss: 51.7102 - mse: 3661.7866\n",
            "Epoch 31/500\n",
            "2/2 [==============================] - 0s 13ms/step - loss: 51.0752 - mse: 3575.9556\n",
            "Epoch 32/500\n",
            "2/2 [==============================] - 0s 10ms/step - loss: 50.3852 - mse: 3476.6274\n",
            "Epoch 33/500\n",
            "2/2 [==============================] - 0s 11ms/step - loss: 49.7072 - mse: 3380.6375\n",
            "Epoch 34/500\n",
            "2/2 [==============================] - 0s 14ms/step - loss: 49.0512 - mse: 3293.1985\n",
            "Epoch 35/500\n",
            "2/2 [==============================] - 0s 14ms/step - loss: 48.3714 - mse: 3200.0964\n",
            "Epoch 36/500\n",
            "2/2 [==============================] - 0s 11ms/step - loss: 47.7422 - mse: 3115.4673\n",
            "Epoch 37/500\n",
            "2/2 [==============================] - 0s 16ms/step - loss: 47.0790 - mse: 3027.7224\n",
            "Epoch 38/500\n",
            "2/2 [==============================] - 0s 14ms/step - loss: 46.4368 - mse: 2943.5278\n",
            "Epoch 39/500\n",
            "2/2 [==============================] - 0s 18ms/step - loss: 45.8016 - mse: 2862.0430\n",
            "Epoch 40/500\n",
            "2/2 [==============================] - 0s 14ms/step - loss: 45.1652 - mse: 2780.9583\n",
            "Epoch 41/500\n",
            "2/2 [==============================] - 0s 14ms/step - loss: 44.5273 - mse: 2703.1838\n",
            "Epoch 42/500\n",
            "2/2 [==============================] - 0s 16ms/step - loss: 43.9079 - mse: 2626.7002\n",
            "Epoch 43/500\n",
            "2/2 [==============================] - 0s 31ms/step - loss: 43.2404 - mse: 2544.6606\n",
            "Epoch 44/500\n",
            "2/2 [==============================] - 0s 22ms/step - loss: 42.6294 - mse: 2474.7412\n",
            "Epoch 45/500\n",
            "2/2 [==============================] - 0s 19ms/step - loss: 41.9886 - mse: 2399.5728\n",
            "Epoch 46/500\n",
            "2/2 [==============================] - 0s 17ms/step - loss: 41.3773 - mse: 2329.6509\n",
            "Epoch 47/500\n",
            "2/2 [==============================] - 0s 13ms/step - loss: 40.7254 - mse: 2254.5852\n",
            "Epoch 48/500\n",
            "2/2 [==============================] - 0s 14ms/step - loss: 40.1069 - mse: 2186.6064\n",
            "Epoch 49/500\n",
            "2/2 [==============================] - 0s 12ms/step - loss: 39.4838 - mse: 2118.3379\n",
            "Epoch 50/500\n",
            "2/2 [==============================] - 0s 15ms/step - loss: 38.8718 - mse: 2051.8359\n",
            "Epoch 51/500\n",
            "2/2 [==============================] - 0s 10ms/step - loss: 38.2202 - mse: 1980.5553\n",
            "Epoch 52/500\n",
            "2/2 [==============================] - 0s 9ms/step - loss: 37.6101 - mse: 1919.5496\n",
            "Epoch 53/500\n",
            "2/2 [==============================] - 0s 10ms/step - loss: 36.9497 - mse: 1850.3158\n",
            "Epoch 54/500\n",
            "2/2 [==============================] - 0s 9ms/step - loss: 36.3002 - mse: 1784.6902\n",
            "Epoch 55/500\n",
            "2/2 [==============================] - 0s 18ms/step - loss: 35.6635 - mse: 1722.7054\n",
            "Epoch 56/500\n",
            "2/2 [==============================] - 0s 15ms/step - loss: 34.9885 - mse: 1656.5729\n",
            "Epoch 57/500\n",
            "2/2 [==============================] - 0s 19ms/step - loss: 34.3566 - mse: 1596.4291\n",
            "Epoch 58/500\n",
            "2/2 [==============================] - 0s 17ms/step - loss: 33.7097 - mse: 1535.1488\n",
            "Epoch 59/500\n",
            "2/2 [==============================] - 0s 10ms/step - loss: 33.0748 - mse: 1478.8962\n",
            "Epoch 60/500\n",
            "2/2 [==============================] - 0s 9ms/step - loss: 32.4521 - mse: 1420.2415\n",
            "Epoch 61/500\n",
            "2/2 [==============================] - 0s 10ms/step - loss: 31.8250 - mse: 1365.8779\n",
            "Epoch 62/500\n",
            "2/2 [==============================] - 0s 53ms/step - loss: 31.2091 - mse: 1312.7659\n",
            "Epoch 63/500\n",
            "2/2 [==============================] - 0s 26ms/step - loss: 30.5847 - mse: 1259.6184\n",
            "Epoch 64/500\n",
            "2/2 [==============================] - 0s 37ms/step - loss: 29.9578 - mse: 1206.7268\n",
            "Epoch 65/500\n",
            "2/2 [==============================] - 0s 22ms/step - loss: 29.3277 - mse: 1155.8879\n",
            "Epoch 66/500\n",
            "2/2 [==============================] - 0s 21ms/step - loss: 28.6988 - mse: 1107.2238\n",
            "Epoch 67/500\n",
            "2/2 [==============================] - 0s 9ms/step - loss: 28.0709 - mse: 1058.3719\n",
            "Epoch 68/500\n",
            "2/2 [==============================] - 0s 21ms/step - loss: 27.4320 - mse: 1009.7308\n",
            "Epoch 69/500\n",
            "2/2 [==============================] - 0s 29ms/step - loss: 26.8088 - mse: 965.2100\n",
            "Epoch 70/500\n",
            "2/2 [==============================] - 0s 18ms/step - loss: 26.1650 - mse: 917.4276\n",
            "Epoch 71/500\n",
            "2/2 [==============================] - 0s 16ms/step - loss: 25.5461 - mse: 874.3765\n",
            "Epoch 72/500\n",
            "2/2 [==============================] - 0s 9ms/step - loss: 24.9387 - mse: 832.1374\n",
            "Epoch 73/500\n",
            "2/2 [==============================] - 0s 23ms/step - loss: 24.2891 - mse: 788.0236\n",
            "Epoch 74/500\n",
            "2/2 [==============================] - 0s 12ms/step - loss: 23.7012 - mse: 751.1411\n",
            "Epoch 75/500\n",
            "2/2 [==============================] - 0s 9ms/step - loss: 23.0600 - mse: 710.2233\n",
            "Epoch 76/500\n",
            "2/2 [==============================] - 0s 13ms/step - loss: 22.4334 - mse: 671.3260\n",
            "Epoch 77/500\n",
            "2/2 [==============================] - 0s 15ms/step - loss: 21.8094 - mse: 635.4911\n",
            "Epoch 78/500\n",
            "2/2 [==============================] - 0s 18ms/step - loss: 21.1663 - mse: 597.7491\n",
            "Epoch 79/500\n",
            "2/2 [==============================] - 0s 21ms/step - loss: 20.5294 - mse: 561.9083\n",
            "Epoch 80/500\n",
            "2/2 [==============================] - 0s 29ms/step - loss: 19.9300 - mse: 529.6644\n",
            "Epoch 81/500\n",
            "2/2 [==============================] - 0s 22ms/step - loss: 19.3457 - mse: 498.8002\n",
            "Epoch 82/500\n",
            "2/2 [==============================] - 0s 18ms/step - loss: 18.7085 - mse: 466.0883\n",
            "Epoch 83/500\n",
            "2/2 [==============================] - 0s 17ms/step - loss: 18.1308 - mse: 438.6886\n",
            "Epoch 84/500\n",
            "2/2 [==============================] - 0s 12ms/step - loss: 17.5081 - mse: 408.4446\n",
            "Epoch 85/500\n",
            "2/2 [==============================] - 0s 15ms/step - loss: 16.9611 - mse: 384.1336\n",
            "Epoch 86/500\n",
            "2/2 [==============================] - 0s 16ms/step - loss: 16.3942 - mse: 358.5805\n",
            "Epoch 87/500\n",
            "2/2 [==============================] - 0s 9ms/step - loss: 15.8049 - mse: 333.3979\n",
            "Epoch 88/500\n",
            "2/2 [==============================] - 0s 15ms/step - loss: 15.2468 - mse: 311.3174\n",
            "Epoch 89/500\n",
            "2/2 [==============================] - 0s 21ms/step - loss: 14.6561 - mse: 288.0830\n",
            "Epoch 90/500\n",
            "2/2 [==============================] - 0s 27ms/step - loss: 14.1013 - mse: 267.8971\n",
            "Epoch 91/500\n",
            "2/2 [==============================] - 0s 12ms/step - loss: 13.5215 - mse: 246.8941\n",
            "Epoch 92/500\n",
            "2/2 [==============================] - 0s 19ms/step - loss: 12.9957 - mse: 229.2588\n",
            "Epoch 93/500\n",
            "2/2 [==============================] - 0s 23ms/step - loss: 12.4557 - mse: 211.5547\n",
            "Epoch 94/500\n",
            "2/2 [==============================] - 0s 16ms/step - loss: 11.9159 - mse: 195.0150\n",
            "Epoch 95/500\n",
            "2/2 [==============================] - 0s 15ms/step - loss: 11.4444 - mse: 180.7734\n",
            "Epoch 96/500\n",
            "2/2 [==============================] - 0s 15ms/step - loss: 10.9235 - mse: 166.0765\n",
            "Epoch 97/500\n",
            "2/2 [==============================] - 0s 12ms/step - loss: 10.5070 - mse: 154.7487\n",
            "Epoch 98/500\n",
            "2/2 [==============================] - 0s 11ms/step - loss: 10.0579 - mse: 143.3217\n",
            "Epoch 99/500\n",
            "2/2 [==============================] - 0s 16ms/step - loss: 9.6332 - mse: 133.5575\n",
            "Epoch 100/500\n",
            "2/2 [==============================] - 0s 14ms/step - loss: 9.2942 - mse: 124.7687\n",
            "Epoch 101/500\n",
            "2/2 [==============================] - 0s 10ms/step - loss: 8.9416 - mse: 117.4249\n",
            "Epoch 102/500\n",
            "2/2 [==============================] - 0s 14ms/step - loss: 8.6388 - mse: 110.5575\n",
            "Epoch 103/500\n",
            "2/2 [==============================] - 0s 10ms/step - loss: 8.3931 - mse: 105.2635\n",
            "Epoch 104/500\n",
            "2/2 [==============================] - 0s 9ms/step - loss: 8.1638 - mse: 100.3078\n",
            "Epoch 105/500\n",
            "2/2 [==============================] - 0s 11ms/step - loss: 8.0212 - mse: 96.7068\n",
            "Epoch 106/500\n",
            "2/2 [==============================] - 0s 9ms/step - loss: 7.8998 - mse: 93.4619\n",
            "Epoch 107/500\n",
            "2/2 [==============================] - 0s 15ms/step - loss: 7.8782 - mse: 91.2394\n",
            "Epoch 108/500\n",
            "2/2 [==============================] - 0s 15ms/step - loss: 7.8819 - mse: 89.4227\n",
            "Epoch 109/500\n",
            "2/2 [==============================] - 0s 20ms/step - loss: 7.8931 - mse: 88.0925\n",
            "Epoch 110/500\n",
            "2/2 [==============================] - 0s 14ms/step - loss: 7.9080 - mse: 87.2880\n",
            "Epoch 111/500\n",
            "2/2 [==============================] - 0s 21ms/step - loss: 7.9179 - mse: 86.6605\n",
            "Epoch 112/500\n",
            "2/2 [==============================] - 0s 24ms/step - loss: 7.9191 - mse: 86.2499\n",
            "Epoch 113/500\n",
            "2/2 [==============================] - 0s 22ms/step - loss: 7.8933 - mse: 85.8782\n",
            "Epoch 114/500\n",
            "2/2 [==============================] - 0s 23ms/step - loss: 7.8457 - mse: 85.6993\n",
            "Epoch 115/500\n",
            "2/2 [==============================] - 0s 16ms/step - loss: 7.7932 - mse: 85.7569\n",
            "Epoch 116/500\n",
            "2/2 [==============================] - 0s 16ms/step - loss: 7.7529 - mse: 85.9252\n",
            "Epoch 117/500\n",
            "2/2 [==============================] - 0s 18ms/step - loss: 7.7109 - mse: 86.0047\n",
            "Epoch 118/500\n",
            "2/2 [==============================] - 0s 25ms/step - loss: 7.6914 - mse: 86.1034\n",
            "Epoch 119/500\n",
            "2/2 [==============================] - 0s 9ms/step - loss: 7.6691 - mse: 86.1480\n",
            "Epoch 120/500\n",
            "2/2 [==============================] - 0s 9ms/step - loss: 7.6572 - mse: 86.1895\n",
            "Epoch 121/500\n",
            "2/2 [==============================] - 0s 14ms/step - loss: 7.6419 - mse: 86.1729\n",
            "Epoch 122/500\n",
            "2/2 [==============================] - 0s 16ms/step - loss: 7.6315 - mse: 86.0475\n",
            "Epoch 123/500\n",
            "2/2 [==============================] - 0s 16ms/step - loss: 7.6156 - mse: 85.7195\n",
            "Epoch 124/500\n",
            "2/2 [==============================] - 0s 15ms/step - loss: 7.6010 - mse: 85.2334\n",
            "Epoch 125/500\n",
            "2/2 [==============================] - 0s 9ms/step - loss: 7.5848 - mse: 84.7960\n",
            "Epoch 126/500\n",
            "2/2 [==============================] - 0s 20ms/step - loss: 7.5709 - mse: 84.3926\n",
            "Epoch 127/500\n",
            "2/2 [==============================] - 0s 17ms/step - loss: 7.5594 - mse: 83.9968\n",
            "Epoch 128/500\n",
            "2/2 [==============================] - 0s 8ms/step - loss: 7.5422 - mse: 83.5781\n",
            "Epoch 129/500\n",
            "2/2 [==============================] - 0s 24ms/step - loss: 7.5282 - mse: 83.3709\n",
            "Epoch 130/500\n",
            "2/2 [==============================] - 0s 9ms/step - loss: 7.5183 - mse: 83.2881\n",
            "Epoch 131/500\n",
            "2/2 [==============================] - 0s 16ms/step - loss: 7.5041 - mse: 83.1777\n",
            "Epoch 132/500\n",
            "2/2 [==============================] - 0s 12ms/step - loss: 7.4915 - mse: 82.9200\n",
            "Epoch 133/500\n",
            "2/2 [==============================] - 0s 12ms/step - loss: 7.4789 - mse: 82.6152\n",
            "Epoch 134/500\n",
            "2/2 [==============================] - 0s 14ms/step - loss: 7.4644 - mse: 82.3076\n",
            "Epoch 135/500\n",
            "2/2 [==============================] - 0s 23ms/step - loss: 7.4518 - mse: 82.0323\n",
            "Epoch 136/500\n",
            "2/2 [==============================] - 0s 14ms/step - loss: 7.4361 - mse: 81.5817\n",
            "Epoch 137/500\n",
            "2/2 [==============================] - 0s 20ms/step - loss: 7.4200 - mse: 80.9727\n",
            "Epoch 138/500\n",
            "2/2 [==============================] - 0s 12ms/step - loss: 7.4087 - mse: 80.3382\n",
            "Epoch 139/500\n",
            "2/2 [==============================] - 0s 39ms/step - loss: 7.3941 - mse: 79.7301\n",
            "Epoch 140/500\n",
            "2/2 [==============================] - 0s 21ms/step - loss: 7.3859 - mse: 79.1983\n",
            "Epoch 141/500\n",
            "2/2 [==============================] - 0s 30ms/step - loss: 7.3790 - mse: 78.7856\n",
            "Epoch 142/500\n",
            "2/2 [==============================] - 0s 9ms/step - loss: 7.3703 - mse: 78.3668\n",
            "Epoch 143/500\n",
            "2/2 [==============================] - 0s 7ms/step - loss: 7.3535 - mse: 78.1386\n",
            "Epoch 144/500\n",
            "2/2 [==============================] - 0s 8ms/step - loss: 7.3348 - mse: 78.0111\n",
            "Epoch 145/500\n",
            "2/2 [==============================] - 0s 9ms/step - loss: 7.3212 - mse: 78.0263\n",
            "Epoch 146/500\n",
            "2/2 [==============================] - 0s 12ms/step - loss: 7.3051 - mse: 78.0734\n",
            "Epoch 147/500\n",
            "2/2 [==============================] - 0s 8ms/step - loss: 7.2925 - mse: 77.9620\n",
            "Epoch 148/500\n",
            "2/2 [==============================] - 0s 10ms/step - loss: 7.2832 - mse: 77.8955\n",
            "Epoch 149/500\n",
            "2/2 [==============================] - 0s 8ms/step - loss: 7.2687 - mse: 77.7527\n",
            "Epoch 150/500\n",
            "2/2 [==============================] - 0s 8ms/step - loss: 7.2571 - mse: 77.5749\n",
            "Epoch 151/500\n",
            "2/2 [==============================] - 0s 9ms/step - loss: 7.2449 - mse: 77.4152\n",
            "Epoch 152/500\n",
            "2/2 [==============================] - 0s 9ms/step - loss: 7.2329 - mse: 77.2404\n",
            "Epoch 153/500\n",
            "2/2 [==============================] - 0s 8ms/step - loss: 7.2213 - mse: 77.0398\n",
            "Epoch 154/500\n",
            "2/2 [==============================] - 0s 7ms/step - loss: 7.2102 - mse: 76.8141\n",
            "Epoch 155/500\n",
            "2/2 [==============================] - 0s 8ms/step - loss: 7.1968 - mse: 76.5135\n",
            "Epoch 156/500\n",
            "2/2 [==============================] - 0s 8ms/step - loss: 7.1828 - mse: 76.1369\n",
            "Epoch 157/500\n",
            "2/2 [==============================] - 0s 7ms/step - loss: 7.1742 - mse: 75.6787\n",
            "Epoch 158/500\n",
            "2/2 [==============================] - 0s 8ms/step - loss: 7.1571 - mse: 75.1247\n",
            "Epoch 159/500\n",
            "2/2 [==============================] - 0s 9ms/step - loss: 7.1477 - mse: 74.7051\n",
            "Epoch 160/500\n",
            "2/2 [==============================] - 0s 9ms/step - loss: 7.1339 - mse: 74.2539\n",
            "Epoch 161/500\n",
            "2/2 [==============================] - 0s 9ms/step - loss: 7.1238 - mse: 73.8914\n",
            "Epoch 162/500\n",
            "2/2 [==============================] - 0s 8ms/step - loss: 7.1159 - mse: 73.5517\n",
            "Epoch 163/500\n",
            "2/2 [==============================] - 0s 8ms/step - loss: 7.1047 - mse: 73.2442\n",
            "Epoch 164/500\n",
            "2/2 [==============================] - 0s 9ms/step - loss: 7.0928 - mse: 73.0081\n",
            "Epoch 165/500\n",
            "2/2 [==============================] - 0s 9ms/step - loss: 7.0811 - mse: 72.8288\n",
            "Epoch 166/500\n",
            "2/2 [==============================] - 0s 9ms/step - loss: 7.0673 - mse: 72.6498\n",
            "Epoch 167/500\n",
            "2/2 [==============================] - 0s 8ms/step - loss: 7.0545 - mse: 72.5445\n",
            "Epoch 168/500\n",
            "2/2 [==============================] - 0s 8ms/step - loss: 7.0413 - mse: 72.4736\n",
            "Epoch 169/500\n",
            "2/2 [==============================] - 0s 12ms/step - loss: 7.0297 - mse: 72.3399\n",
            "Epoch 170/500\n",
            "2/2 [==============================] - 0s 8ms/step - loss: 7.0218 - mse: 72.2766\n",
            "Epoch 171/500\n",
            "2/2 [==============================] - 0s 9ms/step - loss: 7.0093 - mse: 72.2166\n",
            "Epoch 172/500\n",
            "2/2 [==============================] - 0s 9ms/step - loss: 6.9984 - mse: 72.0394\n",
            "Epoch 173/500\n",
            "2/2 [==============================] - 0s 9ms/step - loss: 6.9867 - mse: 71.8020\n",
            "Epoch 174/500\n",
            "2/2 [==============================] - 0s 9ms/step - loss: 6.9762 - mse: 71.5356\n",
            "Epoch 175/500\n",
            "2/2 [==============================] - 0s 9ms/step - loss: 6.9650 - mse: 71.3028\n",
            "Epoch 176/500\n",
            "2/2 [==============================] - 0s 9ms/step - loss: 6.9522 - mse: 71.1672\n",
            "Epoch 177/500\n",
            "2/2 [==============================] - 0s 8ms/step - loss: 6.9469 - mse: 71.2187\n",
            "Epoch 178/500\n",
            "2/2 [==============================] - 0s 9ms/step - loss: 6.9374 - mse: 71.1766\n",
            "Epoch 179/500\n",
            "2/2 [==============================] - 0s 9ms/step - loss: 6.9256 - mse: 70.9308\n",
            "Epoch 180/500\n",
            "2/2 [==============================] - 0s 9ms/step - loss: 6.9103 - mse: 70.6054\n",
            "Epoch 181/500\n",
            "2/2 [==============================] - 0s 8ms/step - loss: 6.9003 - mse: 70.0891\n",
            "Epoch 182/500\n",
            "2/2 [==============================] - 0s 10ms/step - loss: 6.8831 - mse: 69.4885\n",
            "Epoch 183/500\n",
            "2/2 [==============================] - 0s 8ms/step - loss: 6.8725 - mse: 69.0646\n",
            "Epoch 184/500\n",
            "2/2 [==============================] - 0s 8ms/step - loss: 6.8635 - mse: 68.5937\n",
            "Epoch 185/500\n",
            "2/2 [==============================] - 0s 12ms/step - loss: 6.8550 - mse: 68.2765\n",
            "Epoch 186/500\n",
            "2/2 [==============================] - 0s 8ms/step - loss: 6.8455 - mse: 67.9427\n",
            "Epoch 187/500\n",
            "2/2 [==============================] - 0s 9ms/step - loss: 6.8382 - mse: 67.6244\n",
            "Epoch 188/500\n",
            "2/2 [==============================] - 0s 11ms/step - loss: 6.8307 - mse: 67.2367\n",
            "Epoch 189/500\n",
            "2/2 [==============================] - 0s 8ms/step - loss: 6.8227 - mse: 66.9372\n",
            "Epoch 190/500\n",
            "2/2 [==============================] - 0s 8ms/step - loss: 6.8136 - mse: 66.6692\n",
            "Epoch 191/500\n",
            "2/2 [==============================] - 0s 8ms/step - loss: 6.7995 - mse: 66.5256\n",
            "Epoch 192/500\n",
            "2/2 [==============================] - 0s 8ms/step - loss: 6.7834 - mse: 66.4611\n",
            "Epoch 193/500\n",
            "2/2 [==============================] - 0s 7ms/step - loss: 6.7713 - mse: 66.5304\n",
            "Epoch 194/500\n",
            "2/2 [==============================] - 0s 7ms/step - loss: 6.7510 - mse: 66.5755\n",
            "Epoch 195/500\n",
            "2/2 [==============================] - 0s 8ms/step - loss: 6.7398 - mse: 66.6066\n",
            "Epoch 196/500\n",
            "2/2 [==============================] - 0s 8ms/step - loss: 6.7362 - mse: 66.8151\n",
            "Epoch 197/500\n",
            "2/2 [==============================] - 0s 8ms/step - loss: 6.7258 - mse: 66.8626\n",
            "Epoch 198/500\n",
            "2/2 [==============================] - 0s 9ms/step - loss: 6.7184 - mse: 66.7765\n",
            "Epoch 199/500\n",
            "2/2 [==============================] - 0s 8ms/step - loss: 6.7080 - mse: 66.5704\n",
            "Epoch 200/500\n",
            "2/2 [==============================] - 0s 8ms/step - loss: 6.6977 - mse: 66.3270\n",
            "Epoch 201/500\n",
            "2/2 [==============================] - 0s 9ms/step - loss: 6.6859 - mse: 66.1042\n",
            "Epoch 202/500\n",
            "2/2 [==============================] - 0s 9ms/step - loss: 6.6722 - mse: 65.8385\n",
            "Epoch 203/500\n",
            "2/2 [==============================] - 0s 8ms/step - loss: 6.6554 - mse: 65.3600\n",
            "Epoch 204/500\n",
            "2/2 [==============================] - 0s 8ms/step - loss: 6.6421 - mse: 64.8163\n",
            "Epoch 205/500\n",
            "2/2 [==============================] - 0s 8ms/step - loss: 6.6365 - mse: 64.1104\n",
            "Epoch 206/500\n",
            "2/2 [==============================] - 0s 9ms/step - loss: 6.6326 - mse: 63.5714\n",
            "Epoch 207/500\n",
            "2/2 [==============================] - 0s 10ms/step - loss: 6.6337 - mse: 63.1835\n",
            "Epoch 208/500\n",
            "2/2 [==============================] - 0s 11ms/step - loss: 6.6233 - mse: 62.9899\n",
            "Epoch 209/500\n",
            "2/2 [==============================] - 0s 10ms/step - loss: 6.6071 - mse: 62.8129\n",
            "Epoch 210/500\n",
            "2/2 [==============================] - 0s 11ms/step - loss: 6.5962 - mse: 62.6027\n",
            "Epoch 211/500\n",
            "2/2 [==============================] - 0s 9ms/step - loss: 6.5877 - mse: 62.4978\n",
            "Epoch 212/500\n",
            "2/2 [==============================] - 0s 10ms/step - loss: 6.5738 - mse: 62.2861\n",
            "Epoch 213/500\n",
            "2/2 [==============================] - 0s 10ms/step - loss: 6.5655 - mse: 62.0327\n",
            "Epoch 214/500\n",
            "2/2 [==============================] - 0s 9ms/step - loss: 6.5547 - mse: 61.8310\n",
            "Epoch 215/500\n",
            "2/2 [==============================] - 0s 9ms/step - loss: 6.5417 - mse: 61.7073\n",
            "Epoch 216/500\n",
            "2/2 [==============================] - 0s 9ms/step - loss: 6.5276 - mse: 61.6653\n",
            "Epoch 217/500\n",
            "2/2 [==============================] - 0s 8ms/step - loss: 6.5140 - mse: 61.7327\n",
            "Epoch 218/500\n",
            "2/2 [==============================] - 0s 8ms/step - loss: 6.4994 - mse: 61.7635\n",
            "Epoch 219/500\n",
            "2/2 [==============================] - 0s 9ms/step - loss: 6.4889 - mse: 61.7499\n",
            "Epoch 220/500\n",
            "2/2 [==============================] - 0s 10ms/step - loss: 6.4828 - mse: 61.8113\n",
            "Epoch 221/500\n",
            "2/2 [==============================] - 0s 8ms/step - loss: 6.4722 - mse: 61.9088\n",
            "Epoch 222/500\n",
            "2/2 [==============================] - 0s 8ms/step - loss: 6.4665 - mse: 61.8661\n",
            "Epoch 223/500\n",
            "2/2 [==============================] - 0s 8ms/step - loss: 6.4602 - mse: 61.8109\n",
            "Epoch 224/500\n",
            "2/2 [==============================] - 0s 9ms/step - loss: 6.4515 - mse: 61.6561\n",
            "Epoch 225/500\n",
            "2/2 [==============================] - 0s 8ms/step - loss: 6.4401 - mse: 61.3736\n",
            "Epoch 226/500\n",
            "2/2 [==============================] - 0s 9ms/step - loss: 6.4218 - mse: 60.9117\n",
            "Epoch 227/500\n",
            "2/2 [==============================] - 0s 9ms/step - loss: 6.4097 - mse: 60.6027\n",
            "Epoch 228/500\n",
            "2/2 [==============================] - 0s 9ms/step - loss: 6.3983 - mse: 60.3029\n",
            "Epoch 229/500\n",
            "2/2 [==============================] - 0s 9ms/step - loss: 6.3859 - mse: 59.9595\n",
            "Epoch 230/500\n",
            "2/2 [==============================] - 0s 10ms/step - loss: 6.3815 - mse: 59.5557\n",
            "Epoch 231/500\n",
            "2/2 [==============================] - 0s 9ms/step - loss: 6.3661 - mse: 59.0475\n",
            "Epoch 232/500\n",
            "2/2 [==============================] - 0s 8ms/step - loss: 6.3580 - mse: 58.7861\n",
            "Epoch 233/500\n",
            "2/2 [==============================] - 0s 8ms/step - loss: 6.3499 - mse: 58.5312\n",
            "Epoch 234/500\n",
            "2/2 [==============================] - 0s 8ms/step - loss: 6.3407 - mse: 58.3086\n",
            "Epoch 235/500\n",
            "2/2 [==============================] - 0s 8ms/step - loss: 6.3282 - mse: 58.1938\n",
            "Epoch 236/500\n",
            "2/2 [==============================] - 0s 10ms/step - loss: 6.3130 - mse: 58.1480\n",
            "Epoch 237/500\n",
            "2/2 [==============================] - 0s 9ms/step - loss: 6.3057 - mse: 58.2899\n",
            "Epoch 238/500\n",
            "2/2 [==============================] - 0s 9ms/step - loss: 6.2963 - mse: 58.3853\n",
            "Epoch 239/500\n",
            "2/2 [==============================] - 0s 9ms/step - loss: 6.2933 - mse: 58.5007\n",
            "Epoch 240/500\n",
            "2/2 [==============================] - 0s 11ms/step - loss: 6.2848 - mse: 58.4452\n",
            "Epoch 241/500\n",
            "2/2 [==============================] - 0s 9ms/step - loss: 6.2761 - mse: 58.2912\n",
            "Epoch 242/500\n",
            "2/2 [==============================] - 0s 10ms/step - loss: 6.2625 - mse: 57.9417\n",
            "Epoch 243/500\n",
            "2/2 [==============================] - 0s 9ms/step - loss: 6.2467 - mse: 57.4596\n",
            "Epoch 244/500\n",
            "2/2 [==============================] - 0s 9ms/step - loss: 6.2394 - mse: 57.0947\n",
            "Epoch 245/500\n",
            "2/2 [==============================] - 0s 8ms/step - loss: 6.2246 - mse: 56.7971\n",
            "Epoch 246/500\n",
            "2/2 [==============================] - 0s 9ms/step - loss: 6.2168 - mse: 56.5732\n",
            "Epoch 247/500\n",
            "2/2 [==============================] - 0s 9ms/step - loss: 6.2028 - mse: 56.3944\n",
            "Epoch 248/500\n",
            "2/2 [==============================] - 0s 9ms/step - loss: 6.1919 - mse: 56.3798\n",
            "Epoch 249/500\n",
            "2/2 [==============================] - 0s 8ms/step - loss: 6.1829 - mse: 56.5016\n",
            "Epoch 250/500\n",
            "2/2 [==============================] - 0s 8ms/step - loss: 6.1832 - mse: 56.6230\n",
            "Epoch 251/500\n",
            "2/2 [==============================] - 0s 9ms/step - loss: 6.1885 - mse: 56.7893\n",
            "Epoch 252/500\n",
            "2/2 [==============================] - 0s 10ms/step - loss: 6.1752 - mse: 56.6524\n",
            "Epoch 253/500\n",
            "2/2 [==============================] - 0s 11ms/step - loss: 6.1592 - mse: 56.3128\n",
            "Epoch 254/500\n",
            "2/2 [==============================] - 0s 9ms/step - loss: 6.1487 - mse: 55.8914\n",
            "Epoch 255/500\n",
            "2/2 [==============================] - 0s 11ms/step - loss: 6.1285 - mse: 55.3290\n",
            "Epoch 256/500\n",
            "2/2 [==============================] - 0s 11ms/step - loss: 6.1160 - mse: 54.9925\n",
            "Epoch 257/500\n",
            "2/2 [==============================] - 0s 10ms/step - loss: 6.1053 - mse: 54.7683\n",
            "Epoch 258/500\n",
            "2/2 [==============================] - 0s 10ms/step - loss: 6.0947 - mse: 54.5155\n",
            "Epoch 259/500\n",
            "2/2 [==============================] - 0s 10ms/step - loss: 6.0841 - mse: 54.1732\n",
            "Epoch 260/500\n",
            "2/2 [==============================] - 0s 9ms/step - loss: 6.0761 - mse: 53.8755\n",
            "Epoch 261/500\n",
            "2/2 [==============================] - 0s 8ms/step - loss: 6.0652 - mse: 53.5486\n",
            "Epoch 262/500\n",
            "2/2 [==============================] - 0s 8ms/step - loss: 6.0558 - mse: 53.3448\n",
            "Epoch 263/500\n",
            "2/2 [==============================] - 0s 9ms/step - loss: 6.0471 - mse: 53.1532\n",
            "Epoch 264/500\n",
            "2/2 [==============================] - 0s 9ms/step - loss: 6.0353 - mse: 53.0921\n",
            "Epoch 265/500\n",
            "2/2 [==============================] - 0s 10ms/step - loss: 6.0231 - mse: 53.0460\n",
            "Epoch 266/500\n",
            "2/2 [==============================] - 0s 10ms/step - loss: 6.0142 - mse: 52.9556\n",
            "Epoch 267/500\n",
            "2/2 [==============================] - 0s 9ms/step - loss: 6.0036 - mse: 52.8201\n",
            "Epoch 268/500\n",
            "2/2 [==============================] - 0s 8ms/step - loss: 5.9934 - mse: 52.6455\n",
            "Epoch 269/500\n",
            "2/2 [==============================] - 0s 9ms/step - loss: 5.9828 - mse: 52.5346\n",
            "Epoch 270/500\n",
            "2/2 [==============================] - 0s 9ms/step - loss: 5.9761 - mse: 52.5149\n",
            "Epoch 271/500\n",
            "2/2 [==============================] - 0s 10ms/step - loss: 5.9645 - mse: 52.3895\n",
            "Epoch 272/500\n",
            "2/2 [==============================] - 0s 9ms/step - loss: 5.9522 - mse: 52.0420\n",
            "Epoch 273/500\n",
            "2/2 [==============================] - 0s 10ms/step - loss: 5.9402 - mse: 51.6403\n",
            "Epoch 274/500\n",
            "2/2 [==============================] - 0s 10ms/step - loss: 5.9401 - mse: 51.2830\n",
            "Epoch 275/500\n",
            "2/2 [==============================] - 0s 9ms/step - loss: 5.9248 - mse: 50.9558\n",
            "Epoch 276/500\n",
            "2/2 [==============================] - 0s 9ms/step - loss: 5.9169 - mse: 50.9669\n",
            "Epoch 277/500\n",
            "2/2 [==============================] - 0s 9ms/step - loss: 5.9011 - mse: 50.8000\n",
            "Epoch 278/500\n",
            "2/2 [==============================] - 0s 8ms/step - loss: 5.8931 - mse: 50.5773\n",
            "Epoch 279/500\n",
            "2/2 [==============================] - 0s 8ms/step - loss: 5.8833 - mse: 50.3988\n",
            "Epoch 280/500\n",
            "2/2 [==============================] - 0s 8ms/step - loss: 5.8719 - mse: 50.3154\n",
            "Epoch 281/500\n",
            "2/2 [==============================] - 0s 9ms/step - loss: 5.8625 - mse: 50.2495\n",
            "Epoch 282/500\n",
            "2/2 [==============================] - 0s 10ms/step - loss: 5.8532 - mse: 50.1451\n",
            "Epoch 283/500\n",
            "2/2 [==============================] - 0s 9ms/step - loss: 5.8438 - mse: 49.9967\n",
            "Epoch 284/500\n",
            "2/2 [==============================] - 0s 9ms/step - loss: 5.8343 - mse: 49.8462\n",
            "Epoch 285/500\n",
            "2/2 [==============================] - 0s 8ms/step - loss: 5.8263 - mse: 49.6873\n",
            "Epoch 286/500\n",
            "2/2 [==============================] - 0s 8ms/step - loss: 5.8134 - mse: 49.5324\n",
            "Epoch 287/500\n",
            "2/2 [==============================] - 0s 9ms/step - loss: 5.8057 - mse: 49.5546\n",
            "Epoch 288/500\n",
            "2/2 [==============================] - 0s 8ms/step - loss: 5.7958 - mse: 49.5497\n",
            "Epoch 289/500\n",
            "2/2 [==============================] - 0s 11ms/step - loss: 5.7918 - mse: 49.6070\n",
            "Epoch 290/500\n",
            "2/2 [==============================] - 0s 9ms/step - loss: 5.7869 - mse: 49.6036\n",
            "Epoch 291/500\n",
            "2/2 [==============================] - 0s 9ms/step - loss: 5.7793 - mse: 49.5718\n",
            "Epoch 292/500\n",
            "2/2 [==============================] - 0s 8ms/step - loss: 5.7768 - mse: 49.5931\n",
            "Epoch 293/500\n",
            "2/2 [==============================] - 0s 9ms/step - loss: 5.7709 - mse: 49.5907\n",
            "Epoch 294/500\n",
            "2/2 [==============================] - 0s 9ms/step - loss: 5.7628 - mse: 49.4441\n",
            "Epoch 295/500\n",
            "2/2 [==============================] - 0s 9ms/step - loss: 5.7527 - mse: 49.2868\n",
            "Epoch 296/500\n",
            "2/2 [==============================] - 0s 9ms/step - loss: 5.7458 - mse: 49.2157\n",
            "Epoch 297/500\n",
            "2/2 [==============================] - 0s 9ms/step - loss: 5.7419 - mse: 49.1471\n",
            "Epoch 298/500\n",
            "2/2 [==============================] - 0s 9ms/step - loss: 5.7277 - mse: 48.8357\n",
            "Epoch 299/500\n",
            "2/2 [==============================] - 0s 9ms/step - loss: 5.7091 - mse: 48.3425\n",
            "Epoch 300/500\n",
            "2/2 [==============================] - 0s 8ms/step - loss: 5.6921 - mse: 47.9563\n",
            "Epoch 301/500\n",
            "2/2 [==============================] - 0s 9ms/step - loss: 5.6762 - mse: 47.6670\n",
            "Epoch 302/500\n",
            "2/2 [==============================] - 0s 9ms/step - loss: 5.6662 - mse: 47.4120\n",
            "Epoch 303/500\n",
            "2/2 [==============================] - 0s 9ms/step - loss: 5.6520 - mse: 47.1603\n",
            "Epoch 304/500\n",
            "2/2 [==============================] - 0s 9ms/step - loss: 5.6428 - mse: 47.0136\n",
            "Epoch 305/500\n",
            "2/2 [==============================] - 0s 8ms/step - loss: 5.6294 - mse: 46.7177\n",
            "Epoch 306/500\n",
            "2/2 [==============================] - 0s 8ms/step - loss: 5.6182 - mse: 46.2617\n",
            "Epoch 307/500\n",
            "2/2 [==============================] - 0s 8ms/step - loss: 5.6078 - mse: 45.7605\n",
            "Epoch 308/500\n",
            "2/2 [==============================] - 0s 9ms/step - loss: 5.6100 - mse: 45.3756\n",
            "Epoch 309/500\n",
            "2/2 [==============================] - 0s 8ms/step - loss: 5.6035 - mse: 45.0541\n",
            "Epoch 310/500\n",
            "2/2 [==============================] - 0s 8ms/step - loss: 5.5915 - mse: 44.9454\n",
            "Epoch 311/500\n",
            "2/2 [==============================] - 0s 9ms/step - loss: 5.5758 - mse: 44.9100\n",
            "Epoch 312/500\n",
            "2/2 [==============================] - 0s 8ms/step - loss: 5.5613 - mse: 44.8895\n",
            "Epoch 313/500\n",
            "2/2 [==============================] - 0s 9ms/step - loss: 5.5491 - mse: 44.9744\n",
            "Epoch 314/500\n",
            "2/2 [==============================] - 0s 8ms/step - loss: 5.5408 - mse: 44.9716\n",
            "Epoch 315/500\n",
            "2/2 [==============================] - 0s 9ms/step - loss: 5.5296 - mse: 44.8589\n",
            "Epoch 316/500\n",
            "2/2 [==============================] - 0s 8ms/step - loss: 5.5202 - mse: 44.6765\n",
            "Epoch 317/500\n",
            "2/2 [==============================] - 0s 12ms/step - loss: 5.5101 - mse: 44.4733\n",
            "Epoch 318/500\n",
            "2/2 [==============================] - 0s 8ms/step - loss: 5.5040 - mse: 44.2101\n",
            "Epoch 319/500\n",
            "2/2 [==============================] - 0s 14ms/step - loss: 5.4896 - mse: 43.9041\n",
            "Epoch 320/500\n",
            "2/2 [==============================] - 0s 9ms/step - loss: 5.4796 - mse: 43.7437\n",
            "Epoch 321/500\n",
            "2/2 [==============================] - 0s 10ms/step - loss: 5.4693 - mse: 43.5862\n",
            "Epoch 322/500\n",
            "2/2 [==============================] - 0s 10ms/step - loss: 5.4592 - mse: 43.4416\n",
            "Epoch 323/500\n",
            "2/2 [==============================] - 0s 10ms/step - loss: 5.4488 - mse: 43.3842\n",
            "Epoch 324/500\n",
            "2/2 [==============================] - 0s 9ms/step - loss: 5.4388 - mse: 43.3626\n",
            "Epoch 325/500\n",
            "2/2 [==============================] - 0s 9ms/step - loss: 5.4329 - mse: 43.4644\n",
            "Epoch 326/500\n",
            "2/2 [==============================] - 0s 11ms/step - loss: 5.4245 - mse: 43.5233\n",
            "Epoch 327/500\n",
            "2/2 [==============================] - 0s 8ms/step - loss: 5.4201 - mse: 43.5003\n",
            "Epoch 328/500\n",
            "2/2 [==============================] - 0s 10ms/step - loss: 5.4088 - mse: 43.3338\n",
            "Epoch 329/500\n",
            "2/2 [==============================] - 0s 12ms/step - loss: 5.3952 - mse: 42.9809\n",
            "Epoch 330/500\n",
            "2/2 [==============================] - 0s 12ms/step - loss: 5.3789 - mse: 42.6105\n",
            "Epoch 331/500\n",
            "2/2 [==============================] - 0s 8ms/step - loss: 5.3717 - mse: 42.2696\n",
            "Epoch 332/500\n",
            "2/2 [==============================] - 0s 8ms/step - loss: 5.3570 - mse: 41.8861\n",
            "Epoch 333/500\n",
            "2/2 [==============================] - 0s 12ms/step - loss: 5.3465 - mse: 41.7526\n",
            "Epoch 334/500\n",
            "2/2 [==============================] - 0s 9ms/step - loss: 5.3397 - mse: 41.7186\n",
            "Epoch 335/500\n",
            "2/2 [==============================] - 0s 8ms/step - loss: 5.3287 - mse: 41.6349\n",
            "Epoch 336/500\n",
            "2/2 [==============================] - 0s 9ms/step - loss: 5.3172 - mse: 41.4199\n",
            "Epoch 337/500\n",
            "2/2 [==============================] - 0s 8ms/step - loss: 5.3044 - mse: 41.1011\n",
            "Epoch 338/500\n",
            "2/2 [==============================] - 0s 9ms/step - loss: 5.2976 - mse: 40.6988\n",
            "Epoch 339/500\n",
            "2/2 [==============================] - 0s 10ms/step - loss: 5.2992 - mse: 40.3064\n",
            "Epoch 340/500\n",
            "2/2 [==============================] - 0s 11ms/step - loss: 5.3012 - mse: 39.9950\n",
            "Epoch 341/500\n",
            "2/2 [==============================] - 0s 8ms/step - loss: 5.2968 - mse: 39.7777\n",
            "Epoch 342/500\n",
            "2/2 [==============================] - 0s 8ms/step - loss: 5.2853 - mse: 39.6720\n",
            "Epoch 343/500\n",
            "2/2 [==============================] - 0s 9ms/step - loss: 5.2660 - mse: 39.6133\n",
            "Epoch 344/500\n",
            "2/2 [==============================] - 0s 9ms/step - loss: 5.2453 - mse: 39.5535\n",
            "Epoch 345/500\n",
            "2/2 [==============================] - 0s 9ms/step - loss: 5.2280 - mse: 39.5733\n",
            "Epoch 346/500\n",
            "2/2 [==============================] - 0s 9ms/step - loss: 5.2180 - mse: 39.7146\n",
            "Epoch 347/500\n",
            "2/2 [==============================] - 0s 9ms/step - loss: 5.2083 - mse: 39.7815\n",
            "Epoch 348/500\n",
            "2/2 [==============================] - 0s 9ms/step - loss: 5.1965 - mse: 39.6697\n",
            "Epoch 349/500\n",
            "2/2 [==============================] - 0s 9ms/step - loss: 5.1852 - mse: 39.5097\n",
            "Epoch 350/500\n",
            "2/2 [==============================] - 0s 9ms/step - loss: 5.1788 - mse: 39.4132\n",
            "Epoch 351/500\n",
            "2/2 [==============================] - 0s 9ms/step - loss: 5.1667 - mse: 39.2329\n",
            "Epoch 352/500\n",
            "2/2 [==============================] - 0s 9ms/step - loss: 5.1533 - mse: 38.8965\n",
            "Epoch 353/500\n",
            "2/2 [==============================] - 0s 9ms/step - loss: 5.1455 - mse: 38.5583\n",
            "Epoch 354/500\n",
            "2/2 [==============================] - 0s 8ms/step - loss: 5.1373 - mse: 38.2894\n",
            "Epoch 355/500\n",
            "2/2 [==============================] - 0s 8ms/step - loss: 5.1294 - mse: 38.0754\n",
            "Epoch 356/500\n",
            "2/2 [==============================] - 0s 9ms/step - loss: 5.1203 - mse: 37.9132\n",
            "Epoch 357/500\n",
            "2/2 [==============================] - 0s 8ms/step - loss: 5.1082 - mse: 37.8304\n",
            "Epoch 358/500\n",
            "2/2 [==============================] - 0s 8ms/step - loss: 5.0941 - mse: 37.8369\n",
            "Epoch 359/500\n",
            "2/2 [==============================] - 0s 8ms/step - loss: 5.0847 - mse: 37.8540\n",
            "Epoch 360/500\n",
            "2/2 [==============================] - 0s 10ms/step - loss: 5.0768 - mse: 37.8488\n",
            "Epoch 361/500\n",
            "2/2 [==============================] - 0s 8ms/step - loss: 5.0670 - mse: 37.7707\n",
            "Epoch 362/500\n",
            "2/2 [==============================] - 0s 8ms/step - loss: 5.0560 - mse: 37.5699\n",
            "Epoch 363/500\n",
            "2/2 [==============================] - 0s 13ms/step - loss: 5.0460 - mse: 37.2904\n",
            "Epoch 364/500\n",
            "2/2 [==============================] - 0s 9ms/step - loss: 5.0333 - mse: 37.0011\n",
            "Epoch 365/500\n",
            "2/2 [==============================] - 0s 8ms/step - loss: 5.0284 - mse: 36.6268\n",
            "Epoch 366/500\n",
            "2/2 [==============================] - 0s 9ms/step - loss: 5.0261 - mse: 36.3401\n",
            "Epoch 367/500\n",
            "2/2 [==============================] - 0s 8ms/step - loss: 5.0222 - mse: 36.1074\n",
            "Epoch 368/500\n",
            "2/2 [==============================] - 0s 8ms/step - loss: 5.0092 - mse: 36.1086\n",
            "Epoch 369/500\n",
            "2/2 [==============================] - 0s 8ms/step - loss: 4.9877 - mse: 36.1205\n",
            "Epoch 370/500\n",
            "2/2 [==============================] - 0s 8ms/step - loss: 4.9764 - mse: 36.2093\n",
            "Epoch 371/500\n",
            "2/2 [==============================] - 0s 9ms/step - loss: 4.9704 - mse: 36.2929\n",
            "Epoch 372/500\n",
            "2/2 [==============================] - 0s 9ms/step - loss: 4.9589 - mse: 36.2599\n",
            "Epoch 373/500\n",
            "2/2 [==============================] - 0s 9ms/step - loss: 4.9500 - mse: 36.1012\n",
            "Epoch 374/500\n",
            "2/2 [==============================] - 0s 9ms/step - loss: 4.9375 - mse: 35.9625\n",
            "Epoch 375/500\n",
            "2/2 [==============================] - 0s 9ms/step - loss: 4.9294 - mse: 35.9160\n",
            "Epoch 376/500\n",
            "2/2 [==============================] - 0s 9ms/step - loss: 4.9221 - mse: 35.8517\n",
            "Epoch 377/500\n",
            "2/2 [==============================] - 0s 8ms/step - loss: 4.9137 - mse: 35.7523\n",
            "Epoch 378/500\n",
            "2/2 [==============================] - 0s 9ms/step - loss: 4.9009 - mse: 35.5369\n",
            "Epoch 379/500\n",
            "2/2 [==============================] - 0s 8ms/step - loss: 4.8844 - mse: 35.2328\n",
            "Epoch 380/500\n",
            "2/2 [==============================] - 0s 9ms/step - loss: 4.8681 - mse: 34.8147\n",
            "Epoch 381/500\n",
            "2/2 [==============================] - 0s 9ms/step - loss: 4.8644 - mse: 34.2646\n",
            "Epoch 382/500\n",
            "2/2 [==============================] - 0s 9ms/step - loss: 4.8861 - mse: 33.8505\n",
            "Epoch 383/500\n",
            "2/2 [==============================] - 0s 10ms/step - loss: 4.8828 - mse: 33.5290\n",
            "Epoch 384/500\n",
            "2/2 [==============================] - 0s 13ms/step - loss: 4.8661 - mse: 33.4599\n",
            "Epoch 385/500\n",
            "2/2 [==============================] - 0s 10ms/step - loss: 4.8432 - mse: 33.4129\n",
            "Epoch 386/500\n",
            "2/2 [==============================] - 0s 10ms/step - loss: 4.8167 - mse: 33.4581\n",
            "Epoch 387/500\n",
            "2/2 [==============================] - 0s 9ms/step - loss: 4.7993 - mse: 33.6411\n",
            "Epoch 388/500\n",
            "2/2 [==============================] - 0s 9ms/step - loss: 4.7947 - mse: 33.9339\n",
            "Epoch 389/500\n",
            "2/2 [==============================] - 0s 8ms/step - loss: 4.7920 - mse: 34.1345\n",
            "Epoch 390/500\n",
            "2/2 [==============================] - 0s 8ms/step - loss: 4.7958 - mse: 34.4021\n",
            "Epoch 391/500\n",
            "2/2 [==============================] - 0s 17ms/step - loss: 4.8230 - mse: 34.8033\n",
            "Epoch 392/500\n",
            "2/2 [==============================] - 0s 9ms/step - loss: 4.8333 - mse: 35.0122\n",
            "Epoch 393/500\n",
            "2/2 [==============================] - 0s 9ms/step - loss: 4.8162 - mse: 34.7796\n",
            "Epoch 394/500\n",
            "2/2 [==============================] - 0s 9ms/step - loss: 4.7882 - mse: 34.1854\n",
            "Epoch 395/500\n",
            "2/2 [==============================] - 0s 9ms/step - loss: 4.7411 - mse: 33.5318\n",
            "Epoch 396/500\n",
            "2/2 [==============================] - 0s 7ms/step - loss: 4.7106 - mse: 32.8492\n",
            "Epoch 397/500\n",
            "2/2 [==============================] - 0s 9ms/step - loss: 4.7034 - mse: 32.2621\n",
            "Epoch 398/500\n",
            "2/2 [==============================] - 0s 8ms/step - loss: 4.6972 - mse: 31.6886\n",
            "Epoch 399/500\n",
            "2/2 [==============================] - 0s 9ms/step - loss: 4.7099 - mse: 31.3557\n",
            "Epoch 400/500\n",
            "2/2 [==============================] - 0s 9ms/step - loss: 4.7108 - mse: 31.1110\n",
            "Epoch 401/500\n",
            "2/2 [==============================] - 0s 9ms/step - loss: 4.6845 - mse: 31.0288\n",
            "Epoch 402/500\n",
            "2/2 [==============================] - 0s 7ms/step - loss: 4.6667 - mse: 31.3257\n",
            "Epoch 403/500\n",
            "2/2 [==============================] - 0s 8ms/step - loss: 4.6320 - mse: 31.4862\n",
            "Epoch 404/500\n",
            "2/2 [==============================] - 0s 8ms/step - loss: 4.6405 - mse: 31.8263\n",
            "Epoch 405/500\n",
            "2/2 [==============================] - 0s 7ms/step - loss: 4.6391 - mse: 32.0367\n",
            "Epoch 406/500\n",
            "2/2 [==============================] - 0s 9ms/step - loss: 4.6347 - mse: 31.9951\n",
            "Epoch 407/500\n",
            "2/2 [==============================] - 0s 9ms/step - loss: 4.6212 - mse: 31.8323\n",
            "Epoch 408/500\n",
            "2/2 [==============================] - 0s 9ms/step - loss: 4.6135 - mse: 31.6120\n",
            "Epoch 409/500\n",
            "2/2 [==============================] - 0s 9ms/step - loss: 4.5940 - mse: 31.3068\n",
            "Epoch 410/500\n",
            "2/2 [==============================] - 0s 9ms/step - loss: 4.5823 - mse: 31.1989\n",
            "Epoch 411/500\n",
            "2/2 [==============================] - 0s 8ms/step - loss: 4.5830 - mse: 31.2896\n",
            "Epoch 412/500\n",
            "2/2 [==============================] - 0s 10ms/step - loss: 4.5821 - mse: 31.3368\n",
            "Epoch 413/500\n",
            "2/2 [==============================] - 0s 10ms/step - loss: 4.5712 - mse: 31.1671\n",
            "Epoch 414/500\n",
            "2/2 [==============================] - 0s 9ms/step - loss: 4.5543 - mse: 30.9270\n",
            "Epoch 415/500\n",
            "2/2 [==============================] - 0s 9ms/step - loss: 4.5323 - mse: 30.5733\n",
            "Epoch 416/500\n",
            "2/2 [==============================] - 0s 10ms/step - loss: 4.5054 - mse: 30.0403\n",
            "Epoch 417/500\n",
            "2/2 [==============================] - 0s 8ms/step - loss: 4.5006 - mse: 29.4617\n",
            "Epoch 418/500\n",
            "2/2 [==============================] - 0s 8ms/step - loss: 4.5130 - mse: 28.9052\n",
            "Epoch 419/500\n",
            "2/2 [==============================] - 0s 8ms/step - loss: 4.5163 - mse: 28.6374\n",
            "Epoch 420/500\n",
            "2/2 [==============================] - 0s 8ms/step - loss: 4.5052 - mse: 28.5302\n",
            "Epoch 421/500\n",
            "2/2 [==============================] - 0s 9ms/step - loss: 4.4869 - mse: 28.4815\n",
            "Epoch 422/500\n",
            "2/2 [==============================] - 0s 10ms/step - loss: 4.4683 - mse: 28.3913\n",
            "Epoch 423/500\n",
            "2/2 [==============================] - 0s 10ms/step - loss: 4.4512 - mse: 28.3155\n",
            "Epoch 424/500\n",
            "2/2 [==============================] - 0s 14ms/step - loss: 4.4351 - mse: 28.2779\n",
            "Epoch 425/500\n",
            "2/2 [==============================] - 0s 9ms/step - loss: 4.4186 - mse: 28.2423\n",
            "Epoch 426/500\n",
            "2/2 [==============================] - 0s 9ms/step - loss: 4.4102 - mse: 28.3220\n",
            "Epoch 427/500\n",
            "2/2 [==============================] - 0s 8ms/step - loss: 4.3936 - mse: 28.3163\n",
            "Epoch 428/500\n",
            "2/2 [==============================] - 0s 9ms/step - loss: 4.3907 - mse: 28.3179\n",
            "Epoch 429/500\n",
            "2/2 [==============================] - 0s 9ms/step - loss: 4.3821 - mse: 28.2541\n",
            "Epoch 430/500\n",
            "2/2 [==============================] - 0s 10ms/step - loss: 4.3701 - mse: 28.1655\n",
            "Epoch 431/500\n",
            "2/2 [==============================] - 0s 9ms/step - loss: 4.3588 - mse: 28.1246\n",
            "Epoch 432/500\n",
            "2/2 [==============================] - 0s 8ms/step - loss: 4.3422 - mse: 27.7920\n",
            "Epoch 433/500\n",
            "2/2 [==============================] - 0s 8ms/step - loss: 4.3324 - mse: 27.4306\n",
            "Epoch 434/500\n",
            "2/2 [==============================] - 0s 11ms/step - loss: 4.3289 - mse: 27.0658\n",
            "Epoch 435/500\n",
            "2/2 [==============================] - 0s 8ms/step - loss: 4.3190 - mse: 26.8750\n",
            "Epoch 436/500\n",
            "2/2 [==============================] - 0s 8ms/step - loss: 4.3056 - mse: 26.7768\n",
            "Epoch 437/500\n",
            "2/2 [==============================] - 0s 11ms/step - loss: 4.2885 - mse: 26.8002\n",
            "Epoch 438/500\n",
            "2/2 [==============================] - 0s 8ms/step - loss: 4.2796 - mse: 26.9624\n",
            "Epoch 439/500\n",
            "2/2 [==============================] - 0s 8ms/step - loss: 4.2822 - mse: 27.1720\n",
            "Epoch 440/500\n",
            "2/2 [==============================] - 0s 8ms/step - loss: 4.2829 - mse: 27.3529\n",
            "Epoch 441/500\n",
            "2/2 [==============================] - 0s 8ms/step - loss: 4.2840 - mse: 27.3948\n",
            "Epoch 442/500\n",
            "2/2 [==============================] - 0s 8ms/step - loss: 4.2776 - mse: 27.3225\n",
            "Epoch 443/500\n",
            "2/2 [==============================] - 0s 8ms/step - loss: 4.2600 - mse: 27.0865\n",
            "Epoch 444/500\n",
            "2/2 [==============================] - 0s 9ms/step - loss: 4.2328 - mse: 26.6598\n",
            "Epoch 445/500\n",
            "2/2 [==============================] - 0s 8ms/step - loss: 4.2232 - mse: 26.1895\n",
            "Epoch 446/500\n",
            "2/2 [==============================] - 0s 11ms/step - loss: 4.1993 - mse: 25.7153\n",
            "Epoch 447/500\n",
            "2/2 [==============================] - 0s 9ms/step - loss: 4.1916 - mse: 25.4911\n",
            "Epoch 448/500\n",
            "2/2 [==============================] - 0s 8ms/step - loss: 4.1830 - mse: 25.3039\n",
            "Epoch 449/500\n",
            "2/2 [==============================] - 0s 9ms/step - loss: 4.1732 - mse: 25.1474\n",
            "Epoch 450/500\n",
            "2/2 [==============================] - 0s 10ms/step - loss: 4.1614 - mse: 25.0221\n",
            "Epoch 451/500\n",
            "2/2 [==============================] - 0s 9ms/step - loss: 4.1411 - mse: 25.0041\n",
            "Epoch 452/500\n",
            "2/2 [==============================] - 0s 8ms/step - loss: 4.1257 - mse: 25.2001\n",
            "Epoch 453/500\n",
            "2/2 [==============================] - 0s 8ms/step - loss: 4.1623 - mse: 25.7469\n",
            "Epoch 454/500\n",
            "2/2 [==============================] - 0s 7ms/step - loss: 4.1650 - mse: 25.9880\n",
            "Epoch 455/500\n",
            "2/2 [==============================] - 0s 9ms/step - loss: 4.1634 - mse: 25.9722\n",
            "Epoch 456/500\n",
            "2/2 [==============================] - 0s 7ms/step - loss: 4.1470 - mse: 25.7096\n",
            "Epoch 457/500\n",
            "2/2 [==============================] - 0s 8ms/step - loss: 4.1091 - mse: 25.2301\n",
            "Epoch 458/500\n",
            "2/2 [==============================] - 0s 9ms/step - loss: 4.0845 - mse: 24.7662\n",
            "Epoch 459/500\n",
            "2/2 [==============================] - 0s 8ms/step - loss: 4.0578 - mse: 24.1027\n",
            "Epoch 460/500\n",
            "2/2 [==============================] - 0s 8ms/step - loss: 4.0576 - mse: 23.6845\n",
            "Epoch 461/500\n",
            "2/2 [==============================] - 0s 8ms/step - loss: 4.0799 - mse: 23.3427\n",
            "Epoch 462/500\n",
            "2/2 [==============================] - 0s 8ms/step - loss: 4.0725 - mse: 23.1759\n",
            "Epoch 463/500\n",
            "2/2 [==============================] - 0s 9ms/step - loss: 4.0455 - mse: 23.1744\n",
            "Epoch 464/500\n",
            "2/2 [==============================] - 0s 8ms/step - loss: 4.0144 - mse: 23.2307\n",
            "Epoch 465/500\n",
            "2/2 [==============================] - 0s 8ms/step - loss: 3.9971 - mse: 23.2820\n",
            "Epoch 466/500\n",
            "2/2 [==============================] - 0s 8ms/step - loss: 3.9901 - mse: 23.3599\n",
            "Epoch 467/500\n",
            "2/2 [==============================] - 0s 8ms/step - loss: 3.9779 - mse: 23.3870\n",
            "Epoch 468/500\n",
            "2/2 [==============================] - 0s 11ms/step - loss: 3.9691 - mse: 23.2905\n",
            "Epoch 469/500\n",
            "2/2 [==============================] - 0s 9ms/step - loss: 3.9545 - mse: 23.0147\n",
            "Epoch 470/500\n",
            "2/2 [==============================] - 0s 7ms/step - loss: 3.9390 - mse: 22.6649\n",
            "Epoch 471/500\n",
            "2/2 [==============================] - 0s 12ms/step - loss: 3.9320 - mse: 22.4529\n",
            "Epoch 472/500\n",
            "2/2 [==============================] - 0s 9ms/step - loss: 3.9235 - mse: 22.2471\n",
            "Epoch 473/500\n",
            "2/2 [==============================] - 0s 8ms/step - loss: 3.9153 - mse: 22.0696\n",
            "Epoch 474/500\n",
            "2/2 [==============================] - 0s 9ms/step - loss: 3.9052 - mse: 21.9346\n",
            "Epoch 475/500\n",
            "2/2 [==============================] - 0s 8ms/step - loss: 3.8918 - mse: 21.8237\n",
            "Epoch 476/500\n",
            "2/2 [==============================] - 0s 8ms/step - loss: 3.8823 - mse: 21.7100\n",
            "Epoch 477/500\n",
            "2/2 [==============================] - 0s 8ms/step - loss: 3.8633 - mse: 21.6923\n",
            "Epoch 478/500\n",
            "2/2 [==============================] - 0s 8ms/step - loss: 3.8551 - mse: 21.8915\n",
            "Epoch 479/500\n",
            "2/2 [==============================] - 0s 8ms/step - loss: 3.8479 - mse: 21.9178\n",
            "Epoch 480/500\n",
            "2/2 [==============================] - 0s 11ms/step - loss: 3.8385 - mse: 21.8347\n",
            "Epoch 481/500\n",
            "2/2 [==============================] - 0s 9ms/step - loss: 3.8289 - mse: 21.7388\n",
            "Epoch 482/500\n",
            "2/2 [==============================] - 0s 8ms/step - loss: 3.8173 - mse: 21.6089\n",
            "Epoch 483/500\n",
            "2/2 [==============================] - 0s 8ms/step - loss: 3.8079 - mse: 21.4126\n",
            "Epoch 484/500\n",
            "2/2 [==============================] - 0s 9ms/step - loss: 3.7867 - mse: 21.1618\n",
            "Epoch 485/500\n",
            "2/2 [==============================] - 0s 8ms/step - loss: 3.7766 - mse: 21.0183\n",
            "Epoch 486/500\n",
            "2/2 [==============================] - 0s 8ms/step - loss: 3.7635 - mse: 20.8483\n",
            "Epoch 487/500\n",
            "2/2 [==============================] - 0s 9ms/step - loss: 3.7535 - mse: 20.7070\n",
            "Epoch 488/500\n",
            "2/2 [==============================] - 0s 8ms/step - loss: 3.7405 - mse: 20.5786\n",
            "Epoch 489/500\n",
            "2/2 [==============================] - 0s 8ms/step - loss: 3.7291 - mse: 20.4668\n",
            "Epoch 490/500\n",
            "2/2 [==============================] - 0s 10ms/step - loss: 3.7150 - mse: 20.2683\n",
            "Epoch 491/500\n",
            "2/2 [==============================] - 0s 11ms/step - loss: 3.7104 - mse: 19.9813\n",
            "Epoch 492/500\n",
            "2/2 [==============================] - 0s 7ms/step - loss: 3.6972 - mse: 19.7379\n",
            "Epoch 493/500\n",
            "2/2 [==============================] - 0s 8ms/step - loss: 3.6857 - mse: 19.6136\n",
            "Epoch 494/500\n",
            "2/2 [==============================] - 0s 7ms/step - loss: 3.6724 - mse: 19.5249\n",
            "Epoch 495/500\n",
            "2/2 [==============================] - 0s 8ms/step - loss: 3.6570 - mse: 19.4704\n",
            "Epoch 496/500\n",
            "2/2 [==============================] - 0s 8ms/step - loss: 3.6463 - mse: 19.4707\n",
            "Epoch 497/500\n",
            "2/2 [==============================] - 0s 8ms/step - loss: 3.6349 - mse: 19.4189\n",
            "Epoch 498/500\n",
            "2/2 [==============================] - 0s 9ms/step - loss: 3.6211 - mse: 19.3797\n",
            "Epoch 499/500\n",
            "2/2 [==============================] - 0s 9ms/step - loss: 3.6169 - mse: 19.4295\n",
            "Epoch 500/500\n",
            "2/2 [==============================] - 0s 13ms/step - loss: 3.6320 - mse: 19.6012\n"
          ]
        },
        {
          "output_type": "execute_result",
          "data": {
            "text/plain": [
              "<keras.callbacks.History at 0x7f530bbfafd0>"
            ]
          },
          "metadata": {},
          "execution_count": 159
        }
      ]
    },
    {
      "cell_type": "code",
      "source": [
        "# Evaluate the model\n",
        "model_3.evaluate(X_test, y_test)"
      ],
      "metadata": {
        "colab": {
          "base_uri": "https://localhost:8080/"
        },
        "id": "78XZk1pczUEs",
        "outputId": "d832cbef-4dae-44ba-a0b3-3f886eee888f"
      },
      "execution_count": 160,
      "outputs": [
        {
          "output_type": "stream",
          "name": "stderr",
          "text": [
            "WARNING:tensorflow:6 out of the last 6 calls to <function Model.make_test_function.<locals>.test_function at 0x7f530c8bc9d0> triggered tf.function retracing. Tracing is expensive and the excessive number of tracings could be due to (1) creating @tf.function repeatedly in a loop, (2) passing tensors with different shapes, (3) passing Python objects instead of tensors. For (1), please define your @tf.function outside of the loop. For (2), @tf.function has reduce_retracing=True option that can avoid unnecessary retracing. For (3), please refer to https://www.tensorflow.org/guide/function#controlling_retracing and https://www.tensorflow.org/api_docs/python/tf/function for  more details.\n"
          ]
        },
        {
          "output_type": "stream",
          "name": "stdout",
          "text": [
            "1/1 [==============================] - 0s 239ms/step - loss: 9.6832 - mse: 94.3017\n"
          ]
        },
        {
          "output_type": "execute_result",
          "data": {
            "text/plain": [
              "[9.683211326599121, 94.30171203613281]"
            ]
          },
          "metadata": {},
          "execution_count": 160
        }
      ]
    },
    {
      "cell_type": "code",
      "source": [
        "# Make preedictions and plot themn\n",
        "y_preds_3 = model_3.predict(X_test)\n",
        "plot_predictions(predictions=y_preds_3)"
      ],
      "metadata": {
        "colab": {
          "base_uri": "https://localhost:8080/",
          "height": 445
        },
        "id": "5dtn6az80IPt",
        "outputId": "4a413c6d-89e7-40f3-dc2e-5a36297d5e17"
      },
      "execution_count": 161,
      "outputs": [
        {
          "output_type": "stream",
          "name": "stdout",
          "text": [
            "1/1 [==============================] - 0s 150ms/step\n"
          ]
        },
        {
          "output_type": "display_data",
          "data": {
            "text/plain": [
              "<Figure size 720x504 with 1 Axes>"
            ],
            "image/png": "[encoded data removed]"
          },
          "metadata": {
            "needs_background": "light"
          }
        }
      ]
    },
    {
      "cell_type": "code",
      "source": [
        "mse_3 = mse(y_test, y_preds_3)\n",
        "mae_3 = mae(y_test, y_preds_3)\n",
        "mae_3, mse_3"
      ],
      "metadata": {
        "colab": {
          "base_uri": "https://localhost:8080/"
        },
        "id": "esJ2jXP70Sra",
        "outputId": "b0104b4a-b275-49a0-9f0a-c544f032766c"
      },
      "execution_count": 162,
      "outputs": [
        {
          "output_type": "execute_result",
          "data": {
            "text/plain": [
              "(<tf.Tensor: shape=(), dtype=float32, numpy=9.683211>,\n",
              " <tf.Tensor: shape=(), dtype=float32, numpy=94.3017>)"
            ]
          },
          "metadata": {},
          "execution_count": 162
        }
      ]
    },
    {
      "cell_type": "markdown",
      "source": [
        "### Comparing our experiments\n",
        "\n",
        "We've run a few experiments, let's compare them."
      ],
      "metadata": {
        "id": "V8AD6Xcg0Zcu"
      }
    },
    {
      "cell_type": "code",
      "source": [
        "# Let's compare our model's results using a pandas DataFrame\n",
        "import pandas as pd\n",
        "\n",
        "model_results = [[\"model_1\", mae_1.numpy(), mse_1.numpy()],\n",
        "                 [\"model_2\", mae_2.numpy(), mse_2.numpy()],\n",
        "                 [\"model_3\", mae_3.numpy(), mse_3.numpy()]]\n",
        "\n",
        "all_results = pd.DataFrame(model_results, columns=[\"model\", \"mae\", \"mse\"])\n",
        "all_results"
      ],
      "metadata": {
        "colab": {
          "base_uri": "https://localhost:8080/",
          "height": 143
        },
        "id": "k1AdlIqM1hXj",
        "outputId": "7228a3fc-e6bc-45f0-8d38-f5d4a3f6fb62"
      },
      "execution_count": 163,
      "outputs": [
        {
          "output_type": "execute_result",
          "data": {
            "text/plain": [
              "     model        mae         mse\n",
              "0  model_1   8.612019   80.678284\n",
              "1  model_2  13.345243  188.194550\n",
              "2  model_3   9.683211   94.301697"
            ],
            "text/html": [
              "\n",
              "  <div id=\"df-3045a956-61db-4ac8-b51a-4ddf1f9b67ec\">\n",
              "    <div class=\"colab-df-container\">\n",
              "      <div>\n",
              "<style scoped>\n",
              "    .dataframe tbody tr th:only-of-type {\n",
              "        vertical-align: middle;\n",
              "    }\n",
              "\n",
              "    .dataframe tbody tr th {\n",
              "        vertical-align: top;\n",
              "    }\n",
              "\n",
              "    .dataframe thead th {\n",
              "        text-align: right;\n",
              "    }\n",
              "</style>\n",
              "<table border=\"1\" class=\"dataframe\">\n",
              "  <thead>\n",
              "    <tr style=\"text-align: right;\">\n",
              "      <th></th>\n",
              "      <th>model</th>\n",
              "      <th>mae</th>\n",
              "      <th>mse</th>\n",
              "    </tr>\n",
              "  </thead>\n",
              "  <tbody>\n",
              "    <tr>\n",
              "      <th>0</th>\n",
              "      <td>model_1</td>\n",
              "      <td>8.612019</td>\n",
              "      <td>80.678284</td>\n",
              "    </tr>\n",
              "    <tr>\n",
              "      <th>1</th>\n",
              "      <td>model_2</td>\n",
              "      <td>13.345243</td>\n",
              "      <td>188.194550</td>\n",
              "    </tr>\n",
              "    <tr>\n",
              "      <th>2</th>\n",
              "      <td>model_3</td>\n",
              "      <td>9.683211</td>\n",
              "      <td>94.301697</td>\n",
              "    </tr>\n",
              "  </tbody>\n",
              "</table>\n",
              "</div>\n",
              "      <button class=\"colab-df-convert\" onclick=\"convertToInteractive('df-3045a956-61db-4ac8-b51a-4ddf1f9b67ec')\"\n",
              "              title=\"Convert this dataframe to an interactive table.\"\n",
              "              style=\"display:none;\">\n",
              "        \n",
              "  <svg xmlns=\"http://www.w3.org/2000/svg\" height=\"24px\"viewBox=\"0 0 24 24\"\n",
              "       width=\"24px\">\n",
              "    <path d=\"M0 0h24v24H0V0z\" fill=\"none\"/>\n",
              "    <path d=\"M18.56 5.44l.94 2.06.94-2.06 2.06-.94-2.06-.94-.94-2.06-.94 2.06-2.06.94zm-11 1L8.5 8.5l.94-2.06 2.06-.94-2.06-.94L8.5 2.5l-.94 2.06-2.06.94zm10 10l.94 2.06.94-2.06 2.06-.94-2.06-.94-.94-2.06-.94 2.06-2.06.94z\"/><path d=\"M17.41 7.96l-1.37-1.37c-.4-.4-.92-.59-1.43-.59-.52 0-1.04.2-1.43.59L10.3 9.45l-7.72 7.72c-.78.78-.78 2.05 0 2.83L4 21.41c.39.39.9.59 1.41.59.51 0 1.02-.2 1.41-.59l7.78-7.78 2.81-2.81c.8-.78.8-2.07 0-2.86zM5.41 20L4 18.59l7.72-7.72 1.47 1.35L5.41 20z\"/>\n",
              "  </svg>\n",
              "      </button>\n",
              "      \n",
              "  <style>\n",
              "    .colab-df-container {\n",
              "      display:flex;\n",
              "      flex-wrap:wrap;\n",
              "      gap: 12px;\n",
              "    }\n",
              "\n",
              "    .colab-df-convert {\n",
              "      background-color: #E8F0FE;\n",
              "      border: none;\n",
              "      border-radius: 50%;\n",
              "      cursor: pointer;\n",
              "      display: none;\n",
              "      fill: #1967D2;\n",
              "      height: 32px;\n",
              "      padding: 0 0 0 0;\n",
              "      width: 32px;\n",
              "    }\n",
              "\n",
              "    .colab-df-convert:hover {\n",
              "      background-color: #E2EBFA;\n",
              "      box-shadow: 0px 1px 2px rgba(60, 64, 67, 0.3), 0px 1px 3px 1px rgba(60, 64, 67, 0.15);\n",
              "      fill: #174EA6;\n",
              "    }\n",
              "\n",
              "    [theme=dark] .colab-df-convert {\n",
              "      background-color: #3B4455;\n",
              "      fill: #D2E3FC;\n",
              "    }\n",
              "\n",
              "    [theme=dark] .colab-df-convert:hover {\n",
              "      background-color: #434B5C;\n",
              "      box-shadow: 0px 1px 3px 1px rgba(0, 0, 0, 0.15);\n",
              "      filter: drop-shadow(0px 1px 2px rgba(0, 0, 0, 0.3));\n",
              "      fill: #FFFFFF;\n",
              "    }\n",
              "  </style>\n",
              "\n",
              "      <script>\n",
              "        const buttonEl =\n",
              "          document.querySelector('#df-3045a956-61db-4ac8-b51a-4ddf1f9b67ec button.colab-df-convert');\n",
              "        buttonEl.style.display =\n",
              "          google.colab.kernel.accessAllowed ? 'block' : 'none';\n",
              "\n",
              "        async function convertToInteractive(key) {\n",
              "          const element = document.querySelector('#df-3045a956-61db-4ac8-b51a-4ddf1f9b67ec');\n",
              "          const dataTable =\n",
              "            await google.colab.kernel.invokeFunction('convertToInteractive',\n",
              "                                                     [key], {});\n",
              "          if (!dataTable) return;\n",
              "\n",
              "          const docLinkHtml = 'Like what you see? Visit the ' +\n",
              "            '<a target=\"_blank\" href=https://colab.research.google.com/notebooks/data_table.ipynb>data table notebook</a>'\n",
              "            + ' to learn more about interactive tables.';\n",
              "          element.innerHTML = '';\n",
              "          dataTable['output_type'] = 'display_data';\n",
              "          await google.colab.output.renderOutput(dataTable, element);\n",
              "          const docLink = document.createElement('div');\n",
              "          docLink.innerHTML = docLinkHtml;\n",
              "          element.appendChild(docLink);\n",
              "        }\n",
              "      </script>\n",
              "    </div>\n",
              "  </div>\n",
              "  "
            ]
          },
          "metadata": {},
          "execution_count": 163
        }
      ]
    },
    {
      "cell_type": "markdown",
      "source": [
        "## Tracking your experiments\n",
        "\n",
        "One really good habit in machine learning modelling is to track the results of your experiments.\n",
        "\n",
        "And when doing so, it can be tedious if you're running lots of experiments.\n",
        "\n",
        "Luckily, there are tools to help us!\n",
        "\n",
        "**Resource** As you build more models, you'll want to look into using:\n",
        "\n",
        "* TensorBoard - a component of the TensorFlow library to help track modelling experiments\n",
        "* Weights & Biases - a tool for tracking all kinds of machine learning experiments (plugs straight into TensorBoard)"
      ],
      "metadata": {
        "id": "3Macxeb82Qix"
      }
    },
    {
      "cell_type": "markdown",
      "source": [
        "## Saving our models\n",
        "\n",
        "Saving our models allows us to use them outside of google colab such as in a web application or a mobile app.\n",
        "\n",
        "There are two main formats we can save out models to:\n",
        "1. The SavedModel format\n",
        "2. The HDF5 format"
      ],
      "metadata": {
        "id": "Fw22tzNI3scp"
      }
    },
    {
      "cell_type": "code",
      "source": [
        "# Save model using the SavedModel format\n",
        "model_1.save(\"best_model_SavedModel_format\")"
      ],
      "metadata": {
        "colab": {
          "base_uri": "https://localhost:8080/"
        },
        "id": "gGvEwhZ44bTS",
        "outputId": "7527906c-5b72-4a1e-c5cd-05c3666da316"
      },
      "execution_count": 165,
      "outputs": [
        {
          "output_type": "stream",
          "name": "stderr",
          "text": [
            "WARNING:absl:Found untraced functions such as _update_step_xla while saving (showing 1 of 1). These functions will not be directly callable after loading.\n"
          ]
        }
      ]
    },
    {
      "cell_type": "code",
      "source": [
        "# Save model using the HDF5 format\n",
        "model_2.save(\"best_model_HDF5_format.h5\")"
      ],
      "metadata": {
        "id": "-4KfXoWL6O0T"
      },
      "execution_count": 166,
      "outputs": []
    },
    {
      "cell_type": "markdown",
      "source": [
        "## Loading in a saved model"
      ],
      "metadata": {
        "id": "mFKBxiAT6v6R"
      }
    },
    {
      "cell_type": "code",
      "source": [
        "# Load in the SavedModel format model\n",
        "loaded_SavedModel_format = tf.keras.models.load_model(\"/content/best_model_SavedModel_format\")\n",
        "loaded_SavedModel_format.summary()"
      ],
      "metadata": {
        "colab": {
          "base_uri": "https://localhost:8080/"
        },
        "id": "jUOvOJLT7JiU",
        "outputId": "d530ec8b-590f-4e1c-c7a7-57eb295d29ef"
      },
      "execution_count": 167,
      "outputs": [
        {
          "output_type": "stream",
          "name": "stdout",
          "text": [
            "Model: \"sequential_13\"\n",
            "_________________________________________________________________\n",
            " Layer (type)                Output Shape              Param #   \n",
            "=================================================================\n",
            " dense_24 (Dense)            (None, 1)                 2         \n",
            "                                                                 \n",
            "=================================================================\n",
            "Total params: 2\n",
            "Trainable params: 2\n",
            "Non-trainable params: 0\n",
            "_________________________________________________________________\n"
          ]
        }
      ]
    },
    {
      "cell_type": "code",
      "source": [
        "model_1.summary()"
      ],
      "metadata": {
        "colab": {
          "base_uri": "https://localhost:8080/"
        },
        "id": "ku2zZxKu7Vgm",
        "outputId": "eafe7fb6-6f9f-49a7-a6f8-725339f0fe71"
      },
      "execution_count": 168,
      "outputs": [
        {
          "output_type": "stream",
          "name": "stdout",
          "text": [
            "Model: \"sequential_13\"\n",
            "_________________________________________________________________\n",
            " Layer (type)                Output Shape              Param #   \n",
            "=================================================================\n",
            " dense_24 (Dense)            (None, 1)                 2         \n",
            "                                                                 \n",
            "=================================================================\n",
            "Total params: 2\n",
            "Trainable params: 2\n",
            "Non-trainable params: 0\n",
            "_________________________________________________________________\n"
          ]
        }
      ]
    },
    {
      "cell_type": "code",
      "source": [
        "# Compare model_2 predictions with SavedModel format model predictions\n",
        "model_1_preds = model_1.predict(X_test)\n",
        "loaded_SavedModel_format_preds = loaded_SavedModel_format.predict(X_test)\n",
        "model_1_preds == loaded_SavedModel_format_preds"
      ],
      "metadata": {
        "colab": {
          "base_uri": "https://localhost:8080/"
        },
        "id": "nGpG1xHO7Z_c",
        "outputId": "bc819848-1fdc-4468-826e-f4ff9846649d"
      },
      "execution_count": 173,
      "outputs": [
        {
          "output_type": "stream",
          "name": "stdout",
          "text": [
            "1/1 [==============================] - 0s 42ms/step\n",
            "1/1 [==============================] - 0s 30ms/step\n"
          ]
        },
        {
          "output_type": "execute_result",
          "data": {
            "text/plain": [
              "array([[ True],\n",
              "       [ True],\n",
              "       [ True],\n",
              "       [ True],\n",
              "       [ True],\n",
              "       [ True],\n",
              "       [ True],\n",
              "       [ True],\n",
              "       [ True],\n",
              "       [ True]])"
            ]
          },
          "metadata": {},
          "execution_count": 173
        }
      ]
    },
    {
      "cell_type": "code",
      "source": [
        "mae(y_true=y_test, y_preds=model_1_preds) == mae(y_true=y_test, y_preds=loaded_SavedModel_format_preds)"
      ],
      "metadata": {
        "colab": {
          "base_uri": "https://localhost:8080/"
        },
        "id": "aYDrILnW7xsA",
        "outputId": "8ce908e0-a8e1-4157-ace9-294091cfcfac"
      },
      "execution_count": 174,
      "outputs": [
        {
          "output_type": "execute_result",
          "data": {
            "text/plain": [
              "<tf.Tensor: shape=(), dtype=bool, numpy=True>"
            ]
          },
          "metadata": {},
          "execution_count": 174
        }
      ]
    },
    {
      "cell_type": "code",
      "source": [
        "# Load in a model using the .h5 format\n",
        "loaded_h5_model = tf.keras.models.load_model(\"/content/best_model_HDF5_format.h5\")\n",
        "loaded_h5_model.summary()"
      ],
      "metadata": {
        "colab": {
          "base_uri": "https://localhost:8080/"
        },
        "id": "ScHwdPSP8FIJ",
        "outputId": "4d66ab55-3443-42b4-8c0e-0692c423af3c"
      },
      "execution_count": 175,
      "outputs": [
        {
          "output_type": "stream",
          "name": "stdout",
          "text": [
            "Model: \"sequential_17\"\n",
            "_________________________________________________________________\n",
            " Layer (type)                Output Shape              Param #   \n",
            "=================================================================\n",
            " dense_31 (Dense)            (None, 10)                20        \n",
            "                                                                 \n",
            " dense_32 (Dense)            (None, 1)                 11        \n",
            "                                                                 \n",
            "=================================================================\n",
            "Total params: 31\n",
            "Trainable params: 31\n",
            "Non-trainable params: 0\n",
            "_________________________________________________________________\n"
          ]
        }
      ]
    },
    {
      "cell_type": "code",
      "source": [
        "# Check to see if loaded .h5 model predictrions match model_2\n",
        "model_2_preds = model_2.predict(X_test)\n",
        "loaded_h5_model_preds = loaded_h5_model.predict(X_test)\n",
        "\n",
        "model_2_preds == loaded_h5_model_preds"
      ],
      "metadata": {
        "colab": {
          "base_uri": "https://localhost:8080/"
        },
        "id": "HmcuFzx28gdu",
        "outputId": "9b4935c4-2239-4bed-fd56-ec763f870b8e"
      },
      "execution_count": 176,
      "outputs": [
        {
          "output_type": "stream",
          "name": "stdout",
          "text": [
            "1/1 [==============================] - 0s 43ms/step\n",
            "1/1 [==============================] - 0s 140ms/step\n"
          ]
        },
        {
          "output_type": "execute_result",
          "data": {
            "text/plain": [
              "array([[ True],\n",
              "       [ True],\n",
              "       [ True],\n",
              "       [ True],\n",
              "       [ True],\n",
              "       [ True],\n",
              "       [ True],\n",
              "       [ True],\n",
              "       [ True],\n",
              "       [ True]])"
            ]
          },
          "metadata": {},
          "execution_count": 176
        }
      ]
    },
    {
      "cell_type": "code",
      "source": [
        "# Download a file from Google Colab\n",
        "from google.colab import files\n",
        "files.download(\"/content/best_model_HDF5_format.h5\")"
      ],
      "metadata": {
        "id": "NZF4dkne8sSg"
      },
      "execution_count": null,
      "outputs": []
    },
    {
      "cell_type": "markdown",
      "source": [
        "# A larger example"
      ],
      "metadata": {
        "id": "kVmdOWCw9ee7"
      }
    },
    {
      "cell_type": "code",
      "source": [
        "# Import required libraries\n",
        "import tensorflow as tf\n",
        "import pandas as pd\n",
        "import matplotlib.pyplot as plt\n",
        "\n",
        "insurance = pd.read_csv(\"https://raw.githubusercontent.com/stedy/Machine-Learning-with-R-datasets/master/insurance.csv\")\n",
        "insurance"
      ],
      "metadata": {
        "colab": {
          "base_uri": "https://localhost:8080/",
          "height": 423
        },
        "id": "RnbXLp3ScIM4",
        "outputId": "11ffdc8b-1dc4-407c-c9a7-c5848f900950"
      },
      "execution_count": 1,
      "outputs": [
        {
          "output_type": "execute_result",
          "data": {
            "text/plain": [
              "      age     sex     bmi  children smoker     region      charges\n",
              "0      19  female  27.900         0    yes  southwest  16884.92400\n",
              "1      18    male  33.770         1     no  southeast   1725.55230\n",
              "2      28    male  33.000         3     no  southeast   4449.46200\n",
              "3      33    male  22.705         0     no  northwest  21984.47061\n",
              "4      32    male  28.880         0     no  northwest   3866.85520\n",
              "...   ...     ...     ...       ...    ...        ...          ...\n",
              "1333   50    male  30.970         3     no  northwest  10600.54830\n",
              "1334   18  female  31.920         0     no  northeast   2205.98080\n",
              "1335   18  female  36.850         0     no  southeast   1629.83350\n",
              "1336   21  female  25.800         0     no  southwest   2007.94500\n",
              "1337   61  female  29.070         0    yes  northwest  29141.36030\n",
              "\n",
              "[1338 rows x 7 columns]"
            ],
            "text/html": [
              "\n",
              "  <div id=\"df-e94027c8-3949-4267-92d6-78fcfd2ba2e5\">\n",
              "    <div class=\"colab-df-container\">\n",
              "      <div>\n",
              "<style scoped>\n",
              "    .dataframe tbody tr th:only-of-type {\n",
              "        vertical-align: middle;\n",
              "    }\n",
              "\n",
              "    .dataframe tbody tr th {\n",
              "        vertical-align: top;\n",
              "    }\n",
              "\n",
              "    .dataframe thead th {\n",
              "        text-align: right;\n",
              "    }\n",
              "</style>\n",
              "<table border=\"1\" class=\"dataframe\">\n",
              "  <thead>\n",
              "    <tr style=\"text-align: right;\">\n",
              "      <th></th>\n",
              "      <th>age</th>\n",
              "      <th>sex</th>\n",
              "      <th>bmi</th>\n",
              "      <th>children</th>\n",
              "      <th>smoker</th>\n",
              "      <th>region</th>\n",
              "      <th>charges</th>\n",
              "    </tr>\n",
              "  </thead>\n",
              "  <tbody>\n",
              "    <tr>\n",
              "      <th>0</th>\n",
              "      <td>19</td>\n",
              "      <td>female</td>\n",
              "      <td>27.900</td>\n",
              "      <td>0</td>\n",
              "      <td>yes</td>\n",
              "      <td>southwest</td>\n",
              "      <td>16884.92400</td>\n",
              "    </tr>\n",
              "    <tr>\n",
              "      <th>1</th>\n",
              "      <td>18</td>\n",
              "      <td>male</td>\n",
              "      <td>33.770</td>\n",
              "      <td>1</td>\n",
              "      <td>no</td>\n",
              "      <td>southeast</td>\n",
              "      <td>1725.55230</td>\n",
              "    </tr>\n",
              "    <tr>\n",
              "      <th>2</th>\n",
              "      <td>28</td>\n",
              "      <td>male</td>\n",
              "      <td>33.000</td>\n",
              "      <td>3</td>\n",
              "      <td>no</td>\n",
              "      <td>southeast</td>\n",
              "      <td>4449.46200</td>\n",
              "    </tr>\n",
              "    <tr>\n",
              "      <th>3</th>\n",
              "      <td>33</td>\n",
              "      <td>male</td>\n",
              "      <td>22.705</td>\n",
              "      <td>0</td>\n",
              "      <td>no</td>\n",
              "      <td>northwest</td>\n",
              "      <td>21984.47061</td>\n",
              "    </tr>\n",
              "    <tr>\n",
              "      <th>4</th>\n",
              "      <td>32</td>\n",
              "      <td>male</td>\n",
              "      <td>28.880</td>\n",
              "      <td>0</td>\n",
              "      <td>no</td>\n",
              "      <td>northwest</td>\n",
              "      <td>3866.85520</td>\n",
              "    </tr>\n",
              "    <tr>\n",
              "      <th>...</th>\n",
              "      <td>...</td>\n",
              "      <td>...</td>\n",
              "      <td>...</td>\n",
              "      <td>...</td>\n",
              "      <td>...</td>\n",
              "      <td>...</td>\n",
              "      <td>...</td>\n",
              "    </tr>\n",
              "    <tr>\n",
              "      <th>1333</th>\n",
              "      <td>50</td>\n",
              "      <td>male</td>\n",
              "      <td>30.970</td>\n",
              "      <td>3</td>\n",
              "      <td>no</td>\n",
              "      <td>northwest</td>\n",
              "      <td>10600.54830</td>\n",
              "    </tr>\n",
              "    <tr>\n",
              "      <th>1334</th>\n",
              "      <td>18</td>\n",
              "      <td>female</td>\n",
              "      <td>31.920</td>\n",
              "      <td>0</td>\n",
              "      <td>no</td>\n",
              "      <td>northeast</td>\n",
              "      <td>2205.98080</td>\n",
              "    </tr>\n",
              "    <tr>\n",
              "      <th>1335</th>\n",
              "      <td>18</td>\n",
              "      <td>female</td>\n",
              "      <td>36.850</td>\n",
              "      <td>0</td>\n",
              "      <td>no</td>\n",
              "      <td>southeast</td>\n",
              "      <td>1629.83350</td>\n",
              "    </tr>\n",
              "    <tr>\n",
              "      <th>1336</th>\n",
              "      <td>21</td>\n",
              "      <td>female</td>\n",
              "      <td>25.800</td>\n",
              "      <td>0</td>\n",
              "      <td>no</td>\n",
              "      <td>southwest</td>\n",
              "      <td>2007.94500</td>\n",
              "    </tr>\n",
              "    <tr>\n",
              "      <th>1337</th>\n",
              "      <td>61</td>\n",
              "      <td>female</td>\n",
              "      <td>29.070</td>\n",
              "      <td>0</td>\n",
              "      <td>yes</td>\n",
              "      <td>northwest</td>\n",
              "      <td>29141.36030</td>\n",
              "    </tr>\n",
              "  </tbody>\n",
              "</table>\n",
              "<p>1338 rows × 7 columns</p>\n",
              "</div>\n",
              "      <button class=\"colab-df-convert\" onclick=\"convertToInteractive('df-e94027c8-3949-4267-92d6-78fcfd2ba2e5')\"\n",
              "              title=\"Convert this dataframe to an interactive table.\"\n",
              "              style=\"display:none;\">\n",
              "        \n",
              "  <svg xmlns=\"http://www.w3.org/2000/svg\" height=\"24px\"viewBox=\"0 0 24 24\"\n",
              "       width=\"24px\">\n",
              "    <path d=\"M0 0h24v24H0V0z\" fill=\"none\"/>\n",
              "    <path d=\"M18.56 5.44l.94 2.06.94-2.06 2.06-.94-2.06-.94-.94-2.06-.94 2.06-2.06.94zm-11 1L8.5 8.5l.94-2.06 2.06-.94-2.06-.94L8.5 2.5l-.94 2.06-2.06.94zm10 10l.94 2.06.94-2.06 2.06-.94-2.06-.94-.94-2.06-.94 2.06-2.06.94z\"/><path d=\"M17.41 7.96l-1.37-1.37c-.4-.4-.92-.59-1.43-.59-.52 0-1.04.2-1.43.59L10.3 9.45l-7.72 7.72c-.78.78-.78 2.05 0 2.83L4 21.41c.39.39.9.59 1.41.59.51 0 1.02-.2 1.41-.59l7.78-7.78 2.81-2.81c.8-.78.8-2.07 0-2.86zM5.41 20L4 18.59l7.72-7.72 1.47 1.35L5.41 20z\"/>\n",
              "  </svg>\n",
              "      </button>\n",
              "      \n",
              "  <style>\n",
              "    .colab-df-container {\n",
              "      display:flex;\n",
              "      flex-wrap:wrap;\n",
              "      gap: 12px;\n",
              "    }\n",
              "\n",
              "    .colab-df-convert {\n",
              "      background-color: #E8F0FE;\n",
              "      border: none;\n",
              "      border-radius: 50%;\n",
              "      cursor: pointer;\n",
              "      display: none;\n",
              "      fill: #1967D2;\n",
              "      height: 32px;\n",
              "      padding: 0 0 0 0;\n",
              "      width: 32px;\n",
              "    }\n",
              "\n",
              "    .colab-df-convert:hover {\n",
              "      background-color: #E2EBFA;\n",
              "      box-shadow: 0px 1px 2px rgba(60, 64, 67, 0.3), 0px 1px 3px 1px rgba(60, 64, 67, 0.15);\n",
              "      fill: #174EA6;\n",
              "    }\n",
              "\n",
              "    [theme=dark] .colab-df-convert {\n",
              "      background-color: #3B4455;\n",
              "      fill: #D2E3FC;\n",
              "    }\n",
              "\n",
              "    [theme=dark] .colab-df-convert:hover {\n",
              "      background-color: #434B5C;\n",
              "      box-shadow: 0px 1px 3px 1px rgba(0, 0, 0, 0.15);\n",
              "      filter: drop-shadow(0px 1px 2px rgba(0, 0, 0, 0.3));\n",
              "      fill: #FFFFFF;\n",
              "    }\n",
              "  </style>\n",
              "\n",
              "      <script>\n",
              "        const buttonEl =\n",
              "          document.querySelector('#df-e94027c8-3949-4267-92d6-78fcfd2ba2e5 button.colab-df-convert');\n",
              "        buttonEl.style.display =\n",
              "          google.colab.kernel.accessAllowed ? 'block' : 'none';\n",
              "\n",
              "        async function convertToInteractive(key) {\n",
              "          const element = document.querySelector('#df-e94027c8-3949-4267-92d6-78fcfd2ba2e5');\n",
              "          const dataTable =\n",
              "            await google.colab.kernel.invokeFunction('convertToInteractive',\n",
              "                                                     [key], {});\n",
              "          if (!dataTable) return;\n",
              "\n",
              "          const docLinkHtml = 'Like what you see? Visit the ' +\n",
              "            '<a target=\"_blank\" href=https://colab.research.google.com/notebooks/data_table.ipynb>data table notebook</a>'\n",
              "            + ' to learn more about interactive tables.';\n",
              "          element.innerHTML = '';\n",
              "          dataTable['output_type'] = 'display_data';\n",
              "          await google.colab.output.renderOutput(dataTable, element);\n",
              "          const docLink = document.createElement('div');\n",
              "          docLink.innerHTML = docLinkHtml;\n",
              "          element.appendChild(docLink);\n",
              "        }\n",
              "      </script>\n",
              "    </div>\n",
              "  </div>\n",
              "  "
            ]
          },
          "metadata": {},
          "execution_count": 1
        }
      ]
    },
    {
      "cell_type": "code",
      "source": [
        "# Let's try to one-hot encode our DataFrame so it's all numbers\n",
        "insurance_one_hot = pd.get_dummies(insurance)\n",
        "insurance_one_hot.head()"
      ],
      "metadata": {
        "colab": {
          "base_uri": "https://localhost:8080/",
          "height": 270
        },
        "id": "W1DVJ39vdEUs",
        "outputId": "26c53dfe-ec0a-48ac-fbc6-f24e81d59a17"
      },
      "execution_count": 2,
      "outputs": [
        {
          "output_type": "execute_result",
          "data": {
            "text/plain": [
              "   age     bmi  children      charges  sex_female  sex_male  smoker_no  \\\n",
              "0   19  27.900         0  16884.92400           1         0          0   \n",
              "1   18  33.770         1   1725.55230           0         1          1   \n",
              "2   28  33.000         3   4449.46200           0         1          1   \n",
              "3   33  22.705         0  21984.47061           0         1          1   \n",
              "4   32  28.880         0   3866.85520           0         1          1   \n",
              "\n",
              "   smoker_yes  region_northeast  region_northwest  region_southeast  \\\n",
              "0           1                 0                 0                 0   \n",
              "1           0                 0                 0                 1   \n",
              "2           0                 0                 0                 1   \n",
              "3           0                 0                 1                 0   \n",
              "4           0                 0                 1                 0   \n",
              "\n",
              "   region_southwest  \n",
              "0                 1  \n",
              "1                 0  \n",
              "2                 0  \n",
              "3                 0  \n",
              "4                 0  "
            ],
            "text/html": [
              "\n",
              "  <div id=\"df-04beaefd-9a00-44a3-9184-ab3a16ffa679\">\n",
              "    <div class=\"colab-df-container\">\n",
              "      <div>\n",
              "<style scoped>\n",
              "    .dataframe tbody tr th:only-of-type {\n",
              "        vertical-align: middle;\n",
              "    }\n",
              "\n",
              "    .dataframe tbody tr th {\n",
              "        vertical-align: top;\n",
              "    }\n",
              "\n",
              "    .dataframe thead th {\n",
              "        text-align: right;\n",
              "    }\n",
              "</style>\n",
              "<table border=\"1\" class=\"dataframe\">\n",
              "  <thead>\n",
              "    <tr style=\"text-align: right;\">\n",
              "      <th></th>\n",
              "      <th>age</th>\n",
              "      <th>bmi</th>\n",
              "      <th>children</th>\n",
              "      <th>charges</th>\n",
              "      <th>sex_female</th>\n",
              "      <th>sex_male</th>\n",
              "      <th>smoker_no</th>\n",
              "      <th>smoker_yes</th>\n",
              "      <th>region_northeast</th>\n",
              "      <th>region_northwest</th>\n",
              "      <th>region_southeast</th>\n",
              "      <th>region_southwest</th>\n",
              "    </tr>\n",
              "  </thead>\n",
              "  <tbody>\n",
              "    <tr>\n",
              "      <th>0</th>\n",
              "      <td>19</td>\n",
              "      <td>27.900</td>\n",
              "      <td>0</td>\n",
              "      <td>16884.92400</td>\n",
              "      <td>1</td>\n",
              "      <td>0</td>\n",
              "      <td>0</td>\n",
              "      <td>1</td>\n",
              "      <td>0</td>\n",
              "      <td>0</td>\n",
              "      <td>0</td>\n",
              "      <td>1</td>\n",
              "    </tr>\n",
              "    <tr>\n",
              "      <th>1</th>\n",
              "      <td>18</td>\n",
              "      <td>33.770</td>\n",
              "      <td>1</td>\n",
              "      <td>1725.55230</td>\n",
              "      <td>0</td>\n",
              "      <td>1</td>\n",
              "      <td>1</td>\n",
              "      <td>0</td>\n",
              "      <td>0</td>\n",
              "      <td>0</td>\n",
              "      <td>1</td>\n",
              "      <td>0</td>\n",
              "    </tr>\n",
              "    <tr>\n",
              "      <th>2</th>\n",
              "      <td>28</td>\n",
              "      <td>33.000</td>\n",
              "      <td>3</td>\n",
              "      <td>4449.46200</td>\n",
              "      <td>0</td>\n",
              "      <td>1</td>\n",
              "      <td>1</td>\n",
              "      <td>0</td>\n",
              "      <td>0</td>\n",
              "      <td>0</td>\n",
              "      <td>1</td>\n",
              "      <td>0</td>\n",
              "    </tr>\n",
              "    <tr>\n",
              "      <th>3</th>\n",
              "      <td>33</td>\n",
              "      <td>22.705</td>\n",
              "      <td>0</td>\n",
              "      <td>21984.47061</td>\n",
              "      <td>0</td>\n",
              "      <td>1</td>\n",
              "      <td>1</td>\n",
              "      <td>0</td>\n",
              "      <td>0</td>\n",
              "      <td>1</td>\n",
              "      <td>0</td>\n",
              "      <td>0</td>\n",
              "    </tr>\n",
              "    <tr>\n",
              "      <th>4</th>\n",
              "      <td>32</td>\n",
              "      <td>28.880</td>\n",
              "      <td>0</td>\n",
              "      <td>3866.85520</td>\n",
              "      <td>0</td>\n",
              "      <td>1</td>\n",
              "      <td>1</td>\n",
              "      <td>0</td>\n",
              "      <td>0</td>\n",
              "      <td>1</td>\n",
              "      <td>0</td>\n",
              "      <td>0</td>\n",
              "    </tr>\n",
              "  </tbody>\n",
              "</table>\n",
              "</div>\n",
              "      <button class=\"colab-df-convert\" onclick=\"convertToInteractive('df-04beaefd-9a00-44a3-9184-ab3a16ffa679')\"\n",
              "              title=\"Convert this dataframe to an interactive table.\"\n",
              "              style=\"display:none;\">\n",
              "        \n",
              "  <svg xmlns=\"http://www.w3.org/2000/svg\" height=\"24px\"viewBox=\"0 0 24 24\"\n",
              "       width=\"24px\">\n",
              "    <path d=\"M0 0h24v24H0V0z\" fill=\"none\"/>\n",
              "    <path d=\"M18.56 5.44l.94 2.06.94-2.06 2.06-.94-2.06-.94-.94-2.06-.94 2.06-2.06.94zm-11 1L8.5 8.5l.94-2.06 2.06-.94-2.06-.94L8.5 2.5l-.94 2.06-2.06.94zm10 10l.94 2.06.94-2.06 2.06-.94-2.06-.94-.94-2.06-.94 2.06-2.06.94z\"/><path d=\"M17.41 7.96l-1.37-1.37c-.4-.4-.92-.59-1.43-.59-.52 0-1.04.2-1.43.59L10.3 9.45l-7.72 7.72c-.78.78-.78 2.05 0 2.83L4 21.41c.39.39.9.59 1.41.59.51 0 1.02-.2 1.41-.59l7.78-7.78 2.81-2.81c.8-.78.8-2.07 0-2.86zM5.41 20L4 18.59l7.72-7.72 1.47 1.35L5.41 20z\"/>\n",
              "  </svg>\n",
              "      </button>\n",
              "      \n",
              "  <style>\n",
              "    .colab-df-container {\n",
              "      display:flex;\n",
              "      flex-wrap:wrap;\n",
              "      gap: 12px;\n",
              "    }\n",
              "\n",
              "    .colab-df-convert {\n",
              "      background-color: #E8F0FE;\n",
              "      border: none;\n",
              "      border-radius: 50%;\n",
              "      cursor: pointer;\n",
              "      display: none;\n",
              "      fill: #1967D2;\n",
              "      height: 32px;\n",
              "      padding: 0 0 0 0;\n",
              "      width: 32px;\n",
              "    }\n",
              "\n",
              "    .colab-df-convert:hover {\n",
              "      background-color: #E2EBFA;\n",
              "      box-shadow: 0px 1px 2px rgba(60, 64, 67, 0.3), 0px 1px 3px 1px rgba(60, 64, 67, 0.15);\n",
              "      fill: #174EA6;\n",
              "    }\n",
              "\n",
              "    [theme=dark] .colab-df-convert {\n",
              "      background-color: #3B4455;\n",
              "      fill: #D2E3FC;\n",
              "    }\n",
              "\n",
              "    [theme=dark] .colab-df-convert:hover {\n",
              "      background-color: #434B5C;\n",
              "      box-shadow: 0px 1px 3px 1px rgba(0, 0, 0, 0.15);\n",
              "      filter: drop-shadow(0px 1px 2px rgba(0, 0, 0, 0.3));\n",
              "      fill: #FFFFFF;\n",
              "    }\n",
              "  </style>\n",
              "\n",
              "      <script>\n",
              "        const buttonEl =\n",
              "          document.querySelector('#df-04beaefd-9a00-44a3-9184-ab3a16ffa679 button.colab-df-convert');\n",
              "        buttonEl.style.display =\n",
              "          google.colab.kernel.accessAllowed ? 'block' : 'none';\n",
              "\n",
              "        async function convertToInteractive(key) {\n",
              "          const element = document.querySelector('#df-04beaefd-9a00-44a3-9184-ab3a16ffa679');\n",
              "          const dataTable =\n",
              "            await google.colab.kernel.invokeFunction('convertToInteractive',\n",
              "                                                     [key], {});\n",
              "          if (!dataTable) return;\n",
              "\n",
              "          const docLinkHtml = 'Like what you see? Visit the ' +\n",
              "            '<a target=\"_blank\" href=https://colab.research.google.com/notebooks/data_table.ipynb>data table notebook</a>'\n",
              "            + ' to learn more about interactive tables.';\n",
              "          element.innerHTML = '';\n",
              "          dataTable['output_type'] = 'display_data';\n",
              "          await google.colab.output.renderOutput(dataTable, element);\n",
              "          const docLink = document.createElement('div');\n",
              "          docLink.innerHTML = docLinkHtml;\n",
              "          element.appendChild(docLink);\n",
              "        }\n",
              "      </script>\n",
              "    </div>\n",
              "  </div>\n",
              "  "
            ]
          },
          "metadata": {},
          "execution_count": 2
        }
      ]
    },
    {
      "cell_type": "code",
      "source": [
        "# Create X & y values (features and labels)\n",
        "X = insurance_one_hot.drop(\"charges\", axis=1)\n",
        "y = insurance_one_hot[\"charges\"]"
      ],
      "metadata": {
        "id": "Ugedk8cHeUJm"
      },
      "execution_count": 3,
      "outputs": []
    },
    {
      "cell_type": "code",
      "source": [
        "# Create training and test sets\n",
        "from sklearn.model_selection import train_test_split\n",
        "\n",
        "X_train, X_test, y_train, y_test = train_test_split(X, y, test_size=0.2)"
      ],
      "metadata": {
        "id": "W6BaMJWn7JhX"
      },
      "execution_count": 4,
      "outputs": []
    },
    {
      "cell_type": "code",
      "source": [
        "X_train.head()"
      ],
      "metadata": {
        "colab": {
          "base_uri": "https://localhost:8080/",
          "height": 270
        },
        "id": "fd2rpKAJ7mQ5",
        "outputId": "0ffdcda2-a726-4070-d4cf-38a331bd0a09"
      },
      "execution_count": 5,
      "outputs": [
        {
          "output_type": "execute_result",
          "data": {
            "text/plain": [
              "      age     bmi  children  sex_female  sex_male  smoker_no  smoker_yes  \\\n",
              "590    58  29.000         0           1         0          1           0   \n",
              "601    51  31.635         0           0         1          1           0   \n",
              "1289   44  34.320         1           0         1          1           0   \n",
              "1135   50  28.120         3           1         0          1           0   \n",
              "679    49  23.180         2           1         0          1           0   \n",
              "\n",
              "      region_northeast  region_northwest  region_southeast  region_southwest  \n",
              "590                  0                 0                 0                 1  \n",
              "601                  0                 1                 0                 0  \n",
              "1289                 0                 0                 1                 0  \n",
              "1135                 0                 1                 0                 0  \n",
              "679                  0                 1                 0                 0  "
            ],
            "text/html": [
              "\n",
              "  <div id=\"df-5f6a4c80-eb78-4cef-8098-cbf69ccd0117\">\n",
              "    <div class=\"colab-df-container\">\n",
              "      <div>\n",
              "<style scoped>\n",
              "    .dataframe tbody tr th:only-of-type {\n",
              "        vertical-align: middle;\n",
              "    }\n",
              "\n",
              "    .dataframe tbody tr th {\n",
              "        vertical-align: top;\n",
              "    }\n",
              "\n",
              "    .dataframe thead th {\n",
              "        text-align: right;\n",
              "    }\n",
              "</style>\n",
              "<table border=\"1\" class=\"dataframe\">\n",
              "  <thead>\n",
              "    <tr style=\"text-align: right;\">\n",
              "      <th></th>\n",
              "      <th>age</th>\n",
              "      <th>bmi</th>\n",
              "      <th>children</th>\n",
              "      <th>sex_female</th>\n",
              "      <th>sex_male</th>\n",
              "      <th>smoker_no</th>\n",
              "      <th>smoker_yes</th>\n",
              "      <th>region_northeast</th>\n",
              "      <th>region_northwest</th>\n",
              "      <th>region_southeast</th>\n",
              "      <th>region_southwest</th>\n",
              "    </tr>\n",
              "  </thead>\n",
              "  <tbody>\n",
              "    <tr>\n",
              "      <th>590</th>\n",
              "      <td>58</td>\n",
              "      <td>29.000</td>\n",
              "      <td>0</td>\n",
              "      <td>1</td>\n",
              "      <td>0</td>\n",
              "      <td>1</td>\n",
              "      <td>0</td>\n",
              "      <td>0</td>\n",
              "      <td>0</td>\n",
              "      <td>0</td>\n",
              "      <td>1</td>\n",
              "    </tr>\n",
              "    <tr>\n",
              "      <th>601</th>\n",
              "      <td>51</td>\n",
              "      <td>31.635</td>\n",
              "      <td>0</td>\n",
              "      <td>0</td>\n",
              "      <td>1</td>\n",
              "      <td>1</td>\n",
              "      <td>0</td>\n",
              "      <td>0</td>\n",
              "      <td>1</td>\n",
              "      <td>0</td>\n",
              "      <td>0</td>\n",
              "    </tr>\n",
              "    <tr>\n",
              "      <th>1289</th>\n",
              "      <td>44</td>\n",
              "      <td>34.320</td>\n",
              "      <td>1</td>\n",
              "      <td>0</td>\n",
              "      <td>1</td>\n",
              "      <td>1</td>\n",
              "      <td>0</td>\n",
              "      <td>0</td>\n",
              "      <td>0</td>\n",
              "      <td>1</td>\n",
              "      <td>0</td>\n",
              "    </tr>\n",
              "    <tr>\n",
              "      <th>1135</th>\n",
              "      <td>50</td>\n",
              "      <td>28.120</td>\n",
              "      <td>3</td>\n",
              "      <td>1</td>\n",
              "      <td>0</td>\n",
              "      <td>1</td>\n",
              "      <td>0</td>\n",
              "      <td>0</td>\n",
              "      <td>1</td>\n",
              "      <td>0</td>\n",
              "      <td>0</td>\n",
              "    </tr>\n",
              "    <tr>\n",
              "      <th>679</th>\n",
              "      <td>49</td>\n",
              "      <td>23.180</td>\n",
              "      <td>2</td>\n",
              "      <td>1</td>\n",
              "      <td>0</td>\n",
              "      <td>1</td>\n",
              "      <td>0</td>\n",
              "      <td>0</td>\n",
              "      <td>1</td>\n",
              "      <td>0</td>\n",
              "      <td>0</td>\n",
              "    </tr>\n",
              "  </tbody>\n",
              "</table>\n",
              "</div>\n",
              "      <button class=\"colab-df-convert\" onclick=\"convertToInteractive('df-5f6a4c80-eb78-4cef-8098-cbf69ccd0117')\"\n",
              "              title=\"Convert this dataframe to an interactive table.\"\n",
              "              style=\"display:none;\">\n",
              "        \n",
              "  <svg xmlns=\"http://www.w3.org/2000/svg\" height=\"24px\"viewBox=\"0 0 24 24\"\n",
              "       width=\"24px\">\n",
              "    <path d=\"M0 0h24v24H0V0z\" fill=\"none\"/>\n",
              "    <path d=\"M18.56 5.44l.94 2.06.94-2.06 2.06-.94-2.06-.94-.94-2.06-.94 2.06-2.06.94zm-11 1L8.5 8.5l.94-2.06 2.06-.94-2.06-.94L8.5 2.5l-.94 2.06-2.06.94zm10 10l.94 2.06.94-2.06 2.06-.94-2.06-.94-.94-2.06-.94 2.06-2.06.94z\"/><path d=\"M17.41 7.96l-1.37-1.37c-.4-.4-.92-.59-1.43-.59-.52 0-1.04.2-1.43.59L10.3 9.45l-7.72 7.72c-.78.78-.78 2.05 0 2.83L4 21.41c.39.39.9.59 1.41.59.51 0 1.02-.2 1.41-.59l7.78-7.78 2.81-2.81c.8-.78.8-2.07 0-2.86zM5.41 20L4 18.59l7.72-7.72 1.47 1.35L5.41 20z\"/>\n",
              "  </svg>\n",
              "      </button>\n",
              "      \n",
              "  <style>\n",
              "    .colab-df-container {\n",
              "      display:flex;\n",
              "      flex-wrap:wrap;\n",
              "      gap: 12px;\n",
              "    }\n",
              "\n",
              "    .colab-df-convert {\n",
              "      background-color: #E8F0FE;\n",
              "      border: none;\n",
              "      border-radius: 50%;\n",
              "      cursor: pointer;\n",
              "      display: none;\n",
              "      fill: #1967D2;\n",
              "      height: 32px;\n",
              "      padding: 0 0 0 0;\n",
              "      width: 32px;\n",
              "    }\n",
              "\n",
              "    .colab-df-convert:hover {\n",
              "      background-color: #E2EBFA;\n",
              "      box-shadow: 0px 1px 2px rgba(60, 64, 67, 0.3), 0px 1px 3px 1px rgba(60, 64, 67, 0.15);\n",
              "      fill: #174EA6;\n",
              "    }\n",
              "\n",
              "    [theme=dark] .colab-df-convert {\n",
              "      background-color: #3B4455;\n",
              "      fill: #D2E3FC;\n",
              "    }\n",
              "\n",
              "    [theme=dark] .colab-df-convert:hover {\n",
              "      background-color: #434B5C;\n",
              "      box-shadow: 0px 1px 3px 1px rgba(0, 0, 0, 0.15);\n",
              "      filter: drop-shadow(0px 1px 2px rgba(0, 0, 0, 0.3));\n",
              "      fill: #FFFFFF;\n",
              "    }\n",
              "  </style>\n",
              "\n",
              "      <script>\n",
              "        const buttonEl =\n",
              "          document.querySelector('#df-5f6a4c80-eb78-4cef-8098-cbf69ccd0117 button.colab-df-convert');\n",
              "        buttonEl.style.display =\n",
              "          google.colab.kernel.accessAllowed ? 'block' : 'none';\n",
              "\n",
              "        async function convertToInteractive(key) {\n",
              "          const element = document.querySelector('#df-5f6a4c80-eb78-4cef-8098-cbf69ccd0117');\n",
              "          const dataTable =\n",
              "            await google.colab.kernel.invokeFunction('convertToInteractive',\n",
              "                                                     [key], {});\n",
              "          if (!dataTable) return;\n",
              "\n",
              "          const docLinkHtml = 'Like what you see? Visit the ' +\n",
              "            '<a target=\"_blank\" href=https://colab.research.google.com/notebooks/data_table.ipynb>data table notebook</a>'\n",
              "            + ' to learn more about interactive tables.';\n",
              "          element.innerHTML = '';\n",
              "          dataTable['output_type'] = 'display_data';\n",
              "          await google.colab.output.renderOutput(dataTable, element);\n",
              "          const docLink = document.createElement('div');\n",
              "          docLink.innerHTML = docLinkHtml;\n",
              "          element.appendChild(docLink);\n",
              "        }\n",
              "      </script>\n",
              "    </div>\n",
              "  </div>\n",
              "  "
            ]
          },
          "metadata": {},
          "execution_count": 5
        }
      ]
    },
    {
      "cell_type": "code",
      "source": [
        "y_train.head()"
      ],
      "metadata": {
        "colab": {
          "base_uri": "https://localhost:8080/"
        },
        "id": "5RV76NJC7n9_",
        "outputId": "21aa0b13-93b4-4d34-9246-3733a5548618"
      },
      "execution_count": 6,
      "outputs": [
        {
          "output_type": "execute_result",
          "data": {
            "text/plain": [
              "590     11842.44200\n",
              "601      9174.13565\n",
              "1289     7147.47280\n",
              "1135    11085.58680\n",
              "679     10156.78320\n",
              "Name: charges, dtype: float64"
            ]
          },
          "metadata": {},
          "execution_count": 6
        }
      ]
    },
    {
      "cell_type": "code",
      "source": [
        "# Set random seed\n",
        "tf.random.set_seed(42)\n",
        "\n",
        "# Create the model\n",
        "insurance_model = tf.keras.Sequential([\n",
        "    tf.keras.layers.Dense(10),\n",
        "    tf.keras.layers.Dense(1)\n",
        "])\n",
        "\n",
        "# Compile the model\n",
        "insurance_model.compile(loss=tf.keras.losses.mae,\n",
        "              optimizer=tf.keras.optimizers.SGD(learning_rate=0.01),\n",
        "              metrics=[\"mae\"])\n",
        "\n",
        "# Fit the model\n",
        "insurance_model.fit(X_train, y_train, epochs=100)"
      ],
      "metadata": {
        "colab": {
          "base_uri": "https://localhost:8080/"
        },
        "id": "_ywU9UU97pZc",
        "outputId": "4ce8607e-5a9c-4388-92f0-e9b1f5c65120"
      },
      "execution_count": 8,
      "outputs": [
        {
          "output_type": "stream",
          "name": "stdout",
          "text": [
            "Epoch 1/100\n",
            "34/34 [==============================] - 1s 4ms/step - loss: 8581.3154 - mae: 8581.3154\n",
            "Epoch 2/100\n",
            "34/34 [==============================] - 0s 4ms/step - loss: 7747.8818 - mae: 7747.8818\n",
            "Epoch 3/100\n",
            "34/34 [==============================] - 0s 5ms/step - loss: 7573.8433 - mae: 7573.8433\n",
            "Epoch 4/100\n",
            "34/34 [==============================] - 0s 4ms/step - loss: 7645.1846 - mae: 7645.1846\n",
            "Epoch 5/100\n",
            "34/34 [==============================] - 0s 3ms/step - loss: 7402.3115 - mae: 7402.3115\n",
            "Epoch 6/100\n",
            "34/34 [==============================] - 0s 3ms/step - loss: 7532.6787 - mae: 7532.6787\n",
            "Epoch 7/100\n",
            "34/34 [==============================] - 0s 3ms/step - loss: 7458.8262 - mae: 7458.8262\n",
            "Epoch 8/100\n",
            "34/34 [==============================] - 0s 3ms/step - loss: 8003.2280 - mae: 8003.2280\n",
            "Epoch 9/100\n",
            "34/34 [==============================] - 0s 3ms/step - loss: 7335.3657 - mae: 7335.3657\n",
            "Epoch 10/100\n",
            "34/34 [==============================] - 0s 4ms/step - loss: 7569.9575 - mae: 7569.9575\n",
            "Epoch 11/100\n",
            "34/34 [==============================] - 0s 3ms/step - loss: 7332.6699 - mae: 7332.6699\n",
            "Epoch 12/100\n",
            "34/34 [==============================] - 0s 4ms/step - loss: 7450.0869 - mae: 7450.0869\n",
            "Epoch 13/100\n",
            "34/34 [==============================] - 0s 3ms/step - loss: 7676.4282 - mae: 7676.4282\n",
            "Epoch 14/100\n",
            "34/34 [==============================] - 0s 2ms/step - loss: 7451.9678 - mae: 7451.9678\n",
            "Epoch 15/100\n",
            "34/34 [==============================] - 0s 2ms/step - loss: 7514.0059 - mae: 7514.0059\n",
            "Epoch 16/100\n",
            "34/34 [==============================] - 0s 1ms/step - loss: 7480.6592 - mae: 7480.6592\n",
            "Epoch 17/100\n",
            "34/34 [==============================] - 0s 1ms/step - loss: 7591.7720 - mae: 7591.7720\n",
            "Epoch 18/100\n",
            "34/34 [==============================] - 0s 3ms/step - loss: 7337.8462 - mae: 7337.8462\n",
            "Epoch 19/100\n",
            "34/34 [==============================] - 0s 3ms/step - loss: 7439.6343 - mae: 7439.6343\n",
            "Epoch 20/100\n",
            "34/34 [==============================] - 0s 3ms/step - loss: 7444.0278 - mae: 7444.0278\n",
            "Epoch 21/100\n",
            "34/34 [==============================] - 0s 4ms/step - loss: 7569.6182 - mae: 7569.6182\n",
            "Epoch 22/100\n",
            "34/34 [==============================] - 0s 3ms/step - loss: 7465.6758 - mae: 7465.6758\n",
            "Epoch 23/100\n",
            "34/34 [==============================] - 0s 2ms/step - loss: 7617.6577 - mae: 7617.6577\n",
            "Epoch 24/100\n",
            "34/34 [==============================] - 0s 3ms/step - loss: 7719.6890 - mae: 7719.6890\n",
            "Epoch 25/100\n",
            "34/34 [==============================] - 0s 2ms/step - loss: 7537.0361 - mae: 7537.0361\n",
            "Epoch 26/100\n",
            "34/34 [==============================] - 0s 3ms/step - loss: 7593.0967 - mae: 7593.0967\n",
            "Epoch 27/100\n",
            "34/34 [==============================] - 0s 3ms/step - loss: 7260.4824 - mae: 7260.4824\n",
            "Epoch 28/100\n",
            "34/34 [==============================] - 0s 3ms/step - loss: 7220.7524 - mae: 7220.7524\n",
            "Epoch 29/100\n",
            "34/34 [==============================] - 0s 2ms/step - loss: 7481.1216 - mae: 7481.1216\n",
            "Epoch 30/100\n",
            "34/34 [==============================] - 0s 2ms/step - loss: 7490.5161 - mae: 7490.5161\n",
            "Epoch 31/100\n",
            "34/34 [==============================] - 0s 3ms/step - loss: 7409.0273 - mae: 7409.0273\n",
            "Epoch 32/100\n",
            "34/34 [==============================] - 0s 3ms/step - loss: 7544.8633 - mae: 7544.8633\n",
            "Epoch 33/100\n",
            "34/34 [==============================] - 0s 3ms/step - loss: 7757.9502 - mae: 7757.9502\n",
            "Epoch 34/100\n",
            "34/34 [==============================] - 0s 2ms/step - loss: 7422.7510 - mae: 7422.7510\n",
            "Epoch 35/100\n",
            "34/34 [==============================] - 0s 2ms/step - loss: 7546.9448 - mae: 7546.9448\n",
            "Epoch 36/100\n",
            "34/34 [==============================] - 0s 2ms/step - loss: 7337.9814 - mae: 7337.9814\n",
            "Epoch 37/100\n",
            "34/34 [==============================] - 0s 2ms/step - loss: 7417.2397 - mae: 7417.2397\n",
            "Epoch 38/100\n",
            "34/34 [==============================] - 0s 2ms/step - loss: 7557.1265 - mae: 7557.1265\n",
            "Epoch 39/100\n",
            "34/34 [==============================] - 0s 2ms/step - loss: 7735.0684 - mae: 7735.0684\n",
            "Epoch 40/100\n",
            "34/34 [==============================] - 0s 3ms/step - loss: 7652.9131 - mae: 7652.9131\n",
            "Epoch 41/100\n",
            "34/34 [==============================] - 0s 7ms/step - loss: 7448.6133 - mae: 7448.6133\n",
            "Epoch 42/100\n",
            "34/34 [==============================] - 0s 6ms/step - loss: 7529.5405 - mae: 7529.5405\n",
            "Epoch 43/100\n",
            "34/34 [==============================] - 0s 5ms/step - loss: 7586.6196 - mae: 7586.6196\n",
            "Epoch 44/100\n",
            "34/34 [==============================] - 0s 6ms/step - loss: 7429.9600 - mae: 7429.9600\n",
            "Epoch 45/100\n",
            "34/34 [==============================] - 0s 4ms/step - loss: 7328.7441 - mae: 7328.7441\n",
            "Epoch 46/100\n",
            "34/34 [==============================] - 0s 1ms/step - loss: 7482.9810 - mae: 7482.9810\n",
            "Epoch 47/100\n",
            "34/34 [==============================] - 0s 1ms/step - loss: 7428.3203 - mae: 7428.3203\n",
            "Epoch 48/100\n",
            "34/34 [==============================] - 0s 2ms/step - loss: 7488.2998 - mae: 7488.2998\n",
            "Epoch 49/100\n",
            "34/34 [==============================] - 0s 1ms/step - loss: 7274.1606 - mae: 7274.1606\n",
            "Epoch 50/100\n",
            "34/34 [==============================] - 0s 2ms/step - loss: 7299.6904 - mae: 7299.6904\n",
            "Epoch 51/100\n",
            "34/34 [==============================] - 0s 1ms/step - loss: 7319.6162 - mae: 7319.6162\n",
            "Epoch 52/100\n",
            "34/34 [==============================] - 0s 1ms/step - loss: 7363.3472 - mae: 7363.3472\n",
            "Epoch 53/100\n",
            "34/34 [==============================] - 0s 1ms/step - loss: 7208.1138 - mae: 7208.1138\n",
            "Epoch 54/100\n",
            "34/34 [==============================] - 0s 1ms/step - loss: 7286.2485 - mae: 7286.2485\n",
            "Epoch 55/100\n",
            "34/34 [==============================] - 0s 2ms/step - loss: 7348.7500 - mae: 7348.7500\n",
            "Epoch 56/100\n",
            "34/34 [==============================] - 0s 1ms/step - loss: 7224.2090 - mae: 7224.2090\n",
            "Epoch 57/100\n",
            "34/34 [==============================] - 0s 1ms/step - loss: 7445.6528 - mae: 7445.6528\n",
            "Epoch 58/100\n",
            "34/34 [==============================] - 0s 2ms/step - loss: 7443.0786 - mae: 7443.0786\n",
            "Epoch 59/100\n",
            "34/34 [==============================] - 0s 1ms/step - loss: 7443.3154 - mae: 7443.3154\n",
            "Epoch 60/100\n",
            "34/34 [==============================] - 0s 1ms/step - loss: 7400.2202 - mae: 7400.2202\n",
            "Epoch 61/100\n",
            "34/34 [==============================] - 0s 2ms/step - loss: 7271.7954 - mae: 7271.7954\n",
            "Epoch 62/100\n",
            "34/34 [==============================] - 0s 1ms/step - loss: 7312.2388 - mae: 7312.2388\n",
            "Epoch 63/100\n",
            "34/34 [==============================] - 0s 1ms/step - loss: 7408.1055 - mae: 7408.1055\n",
            "Epoch 64/100\n",
            "34/34 [==============================] - 0s 1ms/step - loss: 7271.1475 - mae: 7271.1475\n",
            "Epoch 65/100\n",
            "34/34 [==============================] - 0s 1ms/step - loss: 7322.2676 - mae: 7322.2676\n",
            "Epoch 66/100\n",
            "34/34 [==============================] - 0s 1ms/step - loss: 7217.7954 - mae: 7217.7954\n",
            "Epoch 67/100\n",
            "34/34 [==============================] - 0s 2ms/step - loss: 7106.4863 - mae: 7106.4863\n",
            "Epoch 68/100\n",
            "34/34 [==============================] - 0s 1ms/step - loss: 7257.4995 - mae: 7257.4995\n",
            "Epoch 69/100\n",
            "34/34 [==============================] - 0s 1ms/step - loss: 7513.0659 - mae: 7513.0659\n",
            "Epoch 70/100\n",
            "34/34 [==============================] - 0s 1ms/step - loss: 7222.2642 - mae: 7222.2642\n",
            "Epoch 71/100\n",
            "34/34 [==============================] - 0s 1ms/step - loss: 7312.2559 - mae: 7312.2559\n",
            "Epoch 72/100\n",
            "34/34 [==============================] - 0s 2ms/step - loss: 7059.1895 - mae: 7059.1895\n",
            "Epoch 73/100\n",
            "34/34 [==============================] - 0s 1ms/step - loss: 7342.7886 - mae: 7342.7886\n",
            "Epoch 74/100\n",
            "34/34 [==============================] - 0s 1ms/step - loss: 7461.9556 - mae: 7461.9556\n",
            "Epoch 75/100\n",
            "34/34 [==============================] - 0s 2ms/step - loss: 7387.8525 - mae: 7387.8525\n",
            "Epoch 76/100\n",
            "34/34 [==============================] - 0s 2ms/step - loss: 7376.6128 - mae: 7376.6128\n",
            "Epoch 77/100\n",
            "34/34 [==============================] - 0s 2ms/step - loss: 7195.4678 - mae: 7195.4678\n",
            "Epoch 78/100\n",
            "34/34 [==============================] - 0s 2ms/step - loss: 7284.4097 - mae: 7284.4097\n",
            "Epoch 79/100\n",
            "34/34 [==============================] - 0s 2ms/step - loss: 7306.3647 - mae: 7306.3647\n",
            "Epoch 80/100\n",
            "34/34 [==============================] - 0s 1ms/step - loss: 7362.8755 - mae: 7362.8755\n",
            "Epoch 81/100\n",
            "34/34 [==============================] - 0s 2ms/step - loss: 7422.8232 - mae: 7422.8232\n",
            "Epoch 82/100\n",
            "34/34 [==============================] - 0s 2ms/step - loss: 7186.1621 - mae: 7186.1621\n",
            "Epoch 83/100\n",
            "34/34 [==============================] - 0s 2ms/step - loss: 7150.5688 - mae: 7150.5688\n",
            "Epoch 84/100\n",
            "34/34 [==============================] - 0s 2ms/step - loss: 7257.7808 - mae: 7257.7808\n",
            "Epoch 85/100\n",
            "34/34 [==============================] - 0s 2ms/step - loss: 7100.9893 - mae: 7100.9893\n",
            "Epoch 86/100\n",
            "34/34 [==============================] - 0s 2ms/step - loss: 7199.7041 - mae: 7199.7041\n",
            "Epoch 87/100\n",
            "34/34 [==============================] - 0s 2ms/step - loss: 7186.9551 - mae: 7186.9551\n",
            "Epoch 88/100\n",
            "34/34 [==============================] - 0s 2ms/step - loss: 7180.2891 - mae: 7180.2891\n",
            "Epoch 89/100\n",
            "34/34 [==============================] - 0s 2ms/step - loss: 7106.8501 - mae: 7106.8501\n",
            "Epoch 90/100\n",
            "34/34 [==============================] - 0s 2ms/step - loss: 7226.4556 - mae: 7226.4556\n",
            "Epoch 91/100\n",
            "34/34 [==============================] - 0s 2ms/step - loss: 6981.5552 - mae: 6981.5552\n",
            "Epoch 92/100\n",
            "34/34 [==============================] - 0s 2ms/step - loss: 6978.1982 - mae: 6978.1982\n",
            "Epoch 93/100\n",
            "34/34 [==============================] - 0s 2ms/step - loss: 6910.7598 - mae: 6910.7598\n",
            "Epoch 94/100\n",
            "34/34 [==============================] - 0s 2ms/step - loss: 6995.8369 - mae: 6995.8369\n",
            "Epoch 95/100\n",
            "34/34 [==============================] - 0s 2ms/step - loss: 7465.7222 - mae: 7465.7222\n",
            "Epoch 96/100\n",
            "34/34 [==============================] - 0s 2ms/step - loss: 7440.0347 - mae: 7440.0347\n",
            "Epoch 97/100\n",
            "34/34 [==============================] - 0s 2ms/step - loss: 6939.7812 - mae: 6939.7812\n",
            "Epoch 98/100\n",
            "34/34 [==============================] - 0s 2ms/step - loss: 7088.2271 - mae: 7088.2271\n",
            "Epoch 99/100\n",
            "34/34 [==============================] - 0s 1ms/step - loss: 7079.0083 - mae: 7079.0083\n",
            "Epoch 100/100\n",
            "34/34 [==============================] - 0s 2ms/step - loss: 7196.7300 - mae: 7196.7300\n"
          ]
        },
        {
          "output_type": "execute_result",
          "data": {
            "text/plain": [
              "<keras.callbacks.History at 0x7f6b0c330cd0>"
            ]
          },
          "metadata": {},
          "execution_count": 8
        }
      ]
    },
    {
      "cell_type": "code",
      "source": [
        "# Check the results of the insurance model on the test data\n",
        "insurance_model.evaluate(X_test, y_test)"
      ],
      "metadata": {
        "colab": {
          "base_uri": "https://localhost:8080/"
        },
        "id": "gGnfgmiv8gWU",
        "outputId": "28846a99-8b7f-48ff-cf5c-5393c4a2c439"
      },
      "execution_count": 9,
      "outputs": [
        {
          "output_type": "stream",
          "name": "stdout",
          "text": [
            "9/9 [==============================] - 0s 5ms/step - loss: 7214.4902 - mae: 7214.4902\n"
          ]
        },
        {
          "output_type": "execute_result",
          "data": {
            "text/plain": [
              "[7214.490234375, 7214.490234375]"
            ]
          },
          "metadata": {},
          "execution_count": 9
        }
      ]
    },
    {
      "cell_type": "markdown",
      "source": [
        "Right now it looks like our model isn't performing too well... let's try to improve it.\n",
        "\n",
        "To (try) improve our model, we'll run 2 experiments:\n",
        "1. Add an extra layer with more hidden units\n",
        "2. Train for longer\n",
        "3. Other experiments"
      ],
      "metadata": {
        "id": "iJqsAiNS832v"
      }
    },
    {
      "cell_type": "code",
      "source": [
        "# Set random seed\n",
        "tf.random.set_seed(42)\n",
        "\n",
        "# Create the model\n",
        "insurance_model_2 = tf.keras.Sequential([\n",
        "    tf.keras.layers.Dense(10, activation=\"relu\"),\n",
        "    tf.keras.layers.Dense(9, activation=\"relu\"),\n",
        "    tf.keras.layers.Dense(7, activation=\"relu\"),\n",
        "    tf.keras.layers.Dense(5, activation=\"relu\"),\n",
        "    tf.keras.layers.Dense(1)\n",
        "])\n",
        "\n",
        "# Setup EarlyStopping callback\n",
        "callback = tf.keras.callbacks.EarlyStopping(monitor='loss', patience=10)\n",
        "\n",
        "# Compile the model\n",
        "insurance_model_2.compile(loss=tf.keras.losses.mae,\n",
        "                          optimizer=tf.keras.optimizers.Adam(learning_rate=0.01),\n",
        "                          metrics=[\"mae\"])\n",
        "\n",
        "# Fit the model\n",
        "history = insurance_model_2.fit(X_train, y_train, callbacks=[callback], epochs=300, verbose=1)"
      ],
      "metadata": {
        "colab": {
          "base_uri": "https://localhost:8080/"
        },
        "id": "rhJu2TtW9Imw",
        "outputId": "535bf843-0fb6-4cdd-cf79-6ea2de1fa482"
      },
      "execution_count": 54,
      "outputs": [
        {
          "output_type": "stream",
          "name": "stdout",
          "text": [
            "Epoch 1/300\n",
            "34/34 [==============================] - 3s 6ms/step - loss: 13181.7402 - mae: 13181.7402\n",
            "Epoch 2/300\n",
            "34/34 [==============================] - 0s 5ms/step - loss: 9666.5205 - mae: 9666.5205\n",
            "Epoch 3/300\n",
            "34/34 [==============================] - 0s 5ms/step - loss: 7297.7070 - mae: 7297.7070\n",
            "Epoch 4/300\n",
            "34/34 [==============================] - 0s 5ms/step - loss: 7118.1177 - mae: 7118.1177\n",
            "Epoch 5/300\n",
            "34/34 [==============================] - 0s 4ms/step - loss: 6999.0923 - mae: 6999.0923\n",
            "Epoch 6/300\n",
            "34/34 [==============================] - 0s 5ms/step - loss: 6763.1733 - mae: 6763.1733\n",
            "Epoch 7/300\n",
            "34/34 [==============================] - 0s 11ms/step - loss: 6530.5610 - mae: 6530.5610\n",
            "Epoch 8/300\n",
            "34/34 [==============================] - 0s 4ms/step - loss: 6339.1196 - mae: 6339.1196\n",
            "Epoch 9/300\n",
            "34/34 [==============================] - 0s 8ms/step - loss: 6258.1406 - mae: 6258.1406\n",
            "Epoch 10/300\n",
            "34/34 [==============================] - 0s 5ms/step - loss: 6126.3110 - mae: 6126.3110\n",
            "Epoch 11/300\n",
            "34/34 [==============================] - 0s 3ms/step - loss: 6047.2295 - mae: 6047.2295\n",
            "Epoch 12/300\n",
            "34/34 [==============================] - 0s 3ms/step - loss: 5872.5781 - mae: 5872.5781\n",
            "Epoch 13/300\n",
            "34/34 [==============================] - 0s 3ms/step - loss: 5628.7432 - mae: 5628.7432\n",
            "Epoch 14/300\n",
            "34/34 [==============================] - 0s 3ms/step - loss: 5341.4092 - mae: 5341.4092\n",
            "Epoch 15/300\n",
            "34/34 [==============================] - 0s 3ms/step - loss: 4776.3579 - mae: 4776.3579\n",
            "Epoch 16/300\n",
            "34/34 [==============================] - 0s 3ms/step - loss: 4042.3557 - mae: 4042.3557\n",
            "Epoch 17/300\n",
            "34/34 [==============================] - 0s 4ms/step - loss: 3609.7915 - mae: 3609.7915\n",
            "Epoch 18/300\n",
            "34/34 [==============================] - 0s 5ms/step - loss: 3458.7307 - mae: 3458.7307\n",
            "Epoch 19/300\n",
            "34/34 [==============================] - 0s 4ms/step - loss: 3350.6831 - mae: 3350.6831\n",
            "Epoch 20/300\n",
            "34/34 [==============================] - 0s 4ms/step - loss: 3253.8564 - mae: 3253.8564\n",
            "Epoch 21/300\n",
            "34/34 [==============================] - 0s 4ms/step - loss: 3272.6482 - mae: 3272.6482\n",
            "Epoch 22/300\n",
            "34/34 [==============================] - 0s 3ms/step - loss: 3104.3823 - mae: 3104.3823\n",
            "Epoch 23/300\n",
            "34/34 [==============================] - 0s 3ms/step - loss: 3132.0847 - mae: 3132.0847\n",
            "Epoch 24/300\n",
            "34/34 [==============================] - 0s 3ms/step - loss: 2988.8257 - mae: 2988.8257\n",
            "Epoch 25/300\n",
            "34/34 [==============================] - 0s 3ms/step - loss: 2931.7070 - mae: 2931.7070\n",
            "Epoch 26/300\n",
            "34/34 [==============================] - 0s 4ms/step - loss: 2913.3704 - mae: 2913.3704\n",
            "Epoch 27/300\n",
            "34/34 [==============================] - 0s 3ms/step - loss: 2849.7803 - mae: 2849.7803\n",
            "Epoch 28/300\n",
            "34/34 [==============================] - 0s 3ms/step - loss: 2848.9810 - mae: 2848.9810\n",
            "Epoch 29/300\n",
            "34/34 [==============================] - 0s 3ms/step - loss: 2802.2617 - mae: 2802.2617\n",
            "Epoch 30/300\n",
            "34/34 [==============================] - 0s 3ms/step - loss: 2768.1970 - mae: 2768.1970\n",
            "Epoch 31/300\n",
            "34/34 [==============================] - 0s 3ms/step - loss: 2741.8271 - mae: 2741.8271\n",
            "Epoch 32/300\n",
            "34/34 [==============================] - 0s 2ms/step - loss: 2748.0947 - mae: 2748.0947\n",
            "Epoch 33/300\n",
            "34/34 [==============================] - 0s 2ms/step - loss: 2705.2830 - mae: 2705.2830\n",
            "Epoch 34/300\n",
            "34/34 [==============================] - 0s 2ms/step - loss: 2669.9924 - mae: 2669.9924\n",
            "Epoch 35/300\n",
            "34/34 [==============================] - 0s 2ms/step - loss: 2647.6597 - mae: 2647.6597\n",
            "Epoch 36/300\n",
            "34/34 [==============================] - 0s 2ms/step - loss: 2639.7632 - mae: 2639.7632\n",
            "Epoch 37/300\n",
            "34/34 [==============================] - 0s 2ms/step - loss: 2729.7971 - mae: 2729.7971\n",
            "Epoch 38/300\n",
            "34/34 [==============================] - 0s 2ms/step - loss: 2599.1064 - mae: 2599.1064\n",
            "Epoch 39/300\n",
            "34/34 [==============================] - 0s 2ms/step - loss: 2598.1523 - mae: 2598.1523\n",
            "Epoch 40/300\n",
            "34/34 [==============================] - 0s 2ms/step - loss: 2580.4885 - mae: 2580.4885\n",
            "Epoch 41/300\n",
            "34/34 [==============================] - 0s 2ms/step - loss: 2595.3127 - mae: 2595.3127\n",
            "Epoch 42/300\n",
            "34/34 [==============================] - 0s 2ms/step - loss: 2536.0417 - mae: 2536.0417\n",
            "Epoch 43/300\n",
            "34/34 [==============================] - 0s 2ms/step - loss: 2574.5090 - mae: 2574.5090\n",
            "Epoch 44/300\n",
            "34/34 [==============================] - 0s 2ms/step - loss: 2590.0266 - mae: 2590.0266\n",
            "Epoch 45/300\n",
            "34/34 [==============================] - 0s 2ms/step - loss: 2536.9021 - mae: 2536.9021\n",
            "Epoch 46/300\n",
            "34/34 [==============================] - 0s 2ms/step - loss: 2485.8760 - mae: 2485.8760\n",
            "Epoch 47/300\n",
            "34/34 [==============================] - 0s 2ms/step - loss: 2503.1604 - mae: 2503.1604\n",
            "Epoch 48/300\n",
            "34/34 [==============================] - 0s 2ms/step - loss: 2571.0737 - mae: 2571.0737\n",
            "Epoch 49/300\n",
            "34/34 [==============================] - 0s 2ms/step - loss: 2519.0110 - mae: 2519.0110\n",
            "Epoch 50/300\n",
            "34/34 [==============================] - 0s 2ms/step - loss: 2445.6357 - mae: 2445.6357\n",
            "Epoch 51/300\n",
            "34/34 [==============================] - 0s 2ms/step - loss: 2419.5156 - mae: 2419.5156\n",
            "Epoch 52/300\n",
            "34/34 [==============================] - 0s 2ms/step - loss: 2361.2988 - mae: 2361.2988\n",
            "Epoch 53/300\n",
            "34/34 [==============================] - 0s 2ms/step - loss: 2359.5928 - mae: 2359.5928\n",
            "Epoch 54/300\n",
            "34/34 [==============================] - 0s 2ms/step - loss: 2363.8669 - mae: 2363.8669\n",
            "Epoch 55/300\n",
            "34/34 [==============================] - 0s 2ms/step - loss: 2369.3159 - mae: 2369.3159\n",
            "Epoch 56/300\n",
            "34/34 [==============================] - 0s 2ms/step - loss: 2372.9722 - mae: 2372.9722\n",
            "Epoch 57/300\n",
            "34/34 [==============================] - 0s 2ms/step - loss: 2308.9133 - mae: 2308.9133\n",
            "Epoch 58/300\n",
            "34/34 [==============================] - 0s 2ms/step - loss: 2334.1375 - mae: 2334.1375\n",
            "Epoch 59/300\n",
            "34/34 [==============================] - 0s 2ms/step - loss: 2331.3271 - mae: 2331.3271\n",
            "Epoch 60/300\n",
            "34/34 [==============================] - 0s 3ms/step - loss: 2351.2815 - mae: 2351.2815\n",
            "Epoch 61/300\n",
            "34/34 [==============================] - 0s 2ms/step - loss: 2294.5925 - mae: 2294.5925\n",
            "Epoch 62/300\n",
            "34/34 [==============================] - 0s 2ms/step - loss: 2252.3562 - mae: 2252.3562\n",
            "Epoch 63/300\n",
            "34/34 [==============================] - 0s 2ms/step - loss: 2339.9529 - mae: 2339.9529\n",
            "Epoch 64/300\n",
            "34/34 [==============================] - 0s 2ms/step - loss: 2216.1133 - mae: 2216.1133\n",
            "Epoch 65/300\n",
            "34/34 [==============================] - 0s 2ms/step - loss: 2280.7344 - mae: 2280.7344\n",
            "Epoch 66/300\n",
            "34/34 [==============================] - 0s 2ms/step - loss: 2170.8000 - mae: 2170.8000\n",
            "Epoch 67/300\n",
            "34/34 [==============================] - 0s 3ms/step - loss: 2176.4580 - mae: 2176.4580\n",
            "Epoch 68/300\n",
            "34/34 [==============================] - 0s 2ms/step - loss: 2257.5671 - mae: 2257.5671\n",
            "Epoch 69/300\n",
            "34/34 [==============================] - 0s 2ms/step - loss: 2278.8738 - mae: 2278.8738\n",
            "Epoch 70/300\n",
            "34/34 [==============================] - 0s 2ms/step - loss: 2199.7607 - mae: 2199.7607\n",
            "Epoch 71/300\n",
            "34/34 [==============================] - 0s 2ms/step - loss: 2130.5391 - mae: 2130.5391\n",
            "Epoch 72/300\n",
            "34/34 [==============================] - 0s 2ms/step - loss: 2181.6912 - mae: 2181.6912\n",
            "Epoch 73/300\n",
            "34/34 [==============================] - 0s 2ms/step - loss: 2226.1841 - mae: 2226.1841\n",
            "Epoch 74/300\n",
            "34/34 [==============================] - 0s 2ms/step - loss: 2214.2539 - mae: 2214.2539\n",
            "Epoch 75/300\n",
            "34/34 [==============================] - 0s 2ms/step - loss: 2102.2705 - mae: 2102.2705\n",
            "Epoch 76/300\n",
            "34/34 [==============================] - 0s 2ms/step - loss: 2211.8740 - mae: 2211.8740\n",
            "Epoch 77/300\n",
            "34/34 [==============================] - 0s 2ms/step - loss: 2119.4438 - mae: 2119.4438\n",
            "Epoch 78/300\n",
            "34/34 [==============================] - 0s 2ms/step - loss: 2111.3474 - mae: 2111.3474\n",
            "Epoch 79/300\n",
            "34/34 [==============================] - 0s 3ms/step - loss: 2190.8953 - mae: 2190.8953\n",
            "Epoch 80/300\n",
            "34/34 [==============================] - 0s 2ms/step - loss: 2203.3364 - mae: 2203.3364\n",
            "Epoch 81/300\n",
            "34/34 [==============================] - 0s 2ms/step - loss: 2144.4783 - mae: 2144.4783\n",
            "Epoch 82/300\n",
            "34/34 [==============================] - 0s 2ms/step - loss: 2111.1184 - mae: 2111.1184\n",
            "Epoch 83/300\n",
            "34/34 [==============================] - 0s 2ms/step - loss: 2115.5378 - mae: 2115.5378\n",
            "Epoch 84/300\n",
            "34/34 [==============================] - 0s 2ms/step - loss: 2103.7219 - mae: 2103.7219\n",
            "Epoch 85/300\n",
            "34/34 [==============================] - 0s 2ms/step - loss: 2068.9971 - mae: 2068.9971\n",
            "Epoch 86/300\n",
            "34/34 [==============================] - 0s 3ms/step - loss: 2083.7300 - mae: 2083.7300\n",
            "Epoch 87/300\n",
            "34/34 [==============================] - 0s 2ms/step - loss: 2097.1423 - mae: 2097.1423\n",
            "Epoch 88/300\n",
            "34/34 [==============================] - 0s 3ms/step - loss: 2080.4790 - mae: 2080.4790\n",
            "Epoch 89/300\n",
            "34/34 [==============================] - 0s 2ms/step - loss: 2123.4363 - mae: 2123.4363\n",
            "Epoch 90/300\n",
            "34/34 [==============================] - 0s 2ms/step - loss: 2051.4998 - mae: 2051.4998\n",
            "Epoch 91/300\n",
            "34/34 [==============================] - 0s 2ms/step - loss: 2151.5261 - mae: 2151.5261\n",
            "Epoch 92/300\n",
            "34/34 [==============================] - 0s 2ms/step - loss: 2108.3137 - mae: 2108.3137\n",
            "Epoch 93/300\n",
            "34/34 [==============================] - 0s 2ms/step - loss: 2094.9280 - mae: 2094.9280\n",
            "Epoch 94/300\n",
            "34/34 [==============================] - 0s 2ms/step - loss: 2152.3647 - mae: 2152.3647\n",
            "Epoch 95/300\n",
            "34/34 [==============================] - 0s 2ms/step - loss: 2106.4136 - mae: 2106.4136\n",
            "Epoch 96/300\n",
            "34/34 [==============================] - 0s 2ms/step - loss: 2055.0483 - mae: 2055.0483\n",
            "Epoch 97/300\n",
            "34/34 [==============================] - 0s 2ms/step - loss: 2142.4189 - mae: 2142.4189\n",
            "Epoch 98/300\n",
            "34/34 [==============================] - 0s 3ms/step - loss: 2094.8093 - mae: 2094.8093\n",
            "Epoch 99/300\n",
            "34/34 [==============================] - 0s 2ms/step - loss: 2068.1611 - mae: 2068.1611\n",
            "Epoch 100/300\n",
            "34/34 [==============================] - 0s 2ms/step - loss: 2067.9917 - mae: 2067.9917\n"
          ]
        }
      ]
    },
    {
      "cell_type": "code",
      "source": [
        "# Evaluate on train data\n",
        "insurance_model_2.evaluate(X_train, y_train)"
      ],
      "metadata": {
        "colab": {
          "base_uri": "https://localhost:8080/"
        },
        "id": "17T8mWId9mUQ",
        "outputId": "8afedc98-c945-4889-9ce3-80b529c9969a"
      },
      "execution_count": 55,
      "outputs": [
        {
          "output_type": "stream",
          "name": "stdout",
          "text": [
            "34/34 [==============================] - 0s 1ms/step - loss: 2092.1716 - mae: 2092.1716\n"
          ]
        },
        {
          "output_type": "execute_result",
          "data": {
            "text/plain": [
              "[2092.171630859375, 2092.171630859375]"
            ]
          },
          "metadata": {},
          "execution_count": 55
        }
      ]
    },
    {
      "cell_type": "code",
      "source": [
        "# Evaluate on test data\n",
        "insurance_model_2.evaluate(X_test, y_test)"
      ],
      "metadata": {
        "colab": {
          "base_uri": "https://localhost:8080/"
        },
        "id": "4JRl2AYx-Obl",
        "outputId": "ee8b2262-28c5-44c9-adea-57ed30ad1335"
      },
      "execution_count": 56,
      "outputs": [
        {
          "output_type": "stream",
          "name": "stdout",
          "text": [
            "9/9 [==============================] - 0s 4ms/step - loss: 2067.4529 - mae: 2067.4529\n"
          ]
        },
        {
          "output_type": "execute_result",
          "data": {
            "text/plain": [
              "[2067.452880859375, 2067.452880859375]"
            ]
          },
          "metadata": {},
          "execution_count": 56
        }
      ]
    },
    {
      "cell_type": "code",
      "source": [
        "# Plot history (training curve/loss curve)\n",
        "pd.DataFrame(history.history).plot()\n",
        "plt.ylabel(\"loss\")\n",
        "plt.xlabel(\"epochs\")"
      ],
      "metadata": {
        "colab": {
          "base_uri": "https://localhost:8080/",
          "height": 296
        },
        "id": "ZACjs5qN-RLs",
        "outputId": "6ab3f606-6a08-445a-d5d4-480c657d2fb7"
      },
      "execution_count": 57,
      "outputs": [
        {
          "output_type": "execute_result",
          "data": {
            "text/plain": [
              "Text(0.5, 0, 'epochs')"
            ]
          },
          "metadata": {},
          "execution_count": 57
        },
        {
          "output_type": "display_data",
          "data": {
            "text/plain": [
              "<Figure size 432x288 with 1 Axes>"
            ],
            "image/png": "[encoded data removed]"
          },
          "metadata": {
            "needs_background": "light"
          }
        }
      ]
    },
    {
      "cell_type": "markdown",
      "source": [
        "## Preprocessing data (normalization and standarization)\n",
        "\n",
        " In terms of scaling values, neural networks tend to prefer normalization.\n",
        "\n",
        " If you're not sure which one to use, use both to see which works better."
      ],
      "metadata": {
        "id": "FSktjCCNBXmq"
      }
    },
    {
      "cell_type": "code",
      "source": [
        "import pandas as pd\n",
        "import matplotlib.pyplot as plt\n",
        "import tensorflow as tf\n",
        "\n",
        "# Read the insurance dataset\n",
        "insurance = pd.read_csv(\"https://raw.githubusercontent.com/stedy/Machine-Learning-with-R-datasets/master/insurance.csv\")\n",
        "insurance"
      ],
      "metadata": {
        "colab": {
          "base_uri": "https://localhost:8080/",
          "height": 423
        },
        "id": "lCzRHHjWCMv2",
        "outputId": "a96d06d5-306a-47a7-b0f4-b6011a319e03"
      },
      "execution_count": 58,
      "outputs": [
        {
          "output_type": "execute_result",
          "data": {
            "text/plain": [
              "      age     sex     bmi  children smoker     region      charges\n",
              "0      19  female  27.900         0    yes  southwest  16884.92400\n",
              "1      18    male  33.770         1     no  southeast   1725.55230\n",
              "2      28    male  33.000         3     no  southeast   4449.46200\n",
              "3      33    male  22.705         0     no  northwest  21984.47061\n",
              "4      32    male  28.880         0     no  northwest   3866.85520\n",
              "...   ...     ...     ...       ...    ...        ...          ...\n",
              "1333   50    male  30.970         3     no  northwest  10600.54830\n",
              "1334   18  female  31.920         0     no  northeast   2205.98080\n",
              "1335   18  female  36.850         0     no  southeast   1629.83350\n",
              "1336   21  female  25.800         0     no  southwest   2007.94500\n",
              "1337   61  female  29.070         0    yes  northwest  29141.36030\n",
              "\n",
              "[1338 rows x 7 columns]"
            ],
            "text/html": [
              "\n",
              "  <div id=\"df-c20c3fda-1cce-4fb3-84fc-938a1a328202\">\n",
              "    <div class=\"colab-df-container\">\n",
              "      <div>\n",
              "<style scoped>\n",
              "    .dataframe tbody tr th:only-of-type {\n",
              "        vertical-align: middle;\n",
              "    }\n",
              "\n",
              "    .dataframe tbody tr th {\n",
              "        vertical-align: top;\n",
              "    }\n",
              "\n",
              "    .dataframe thead th {\n",
              "        text-align: right;\n",
              "    }\n",
              "</style>\n",
              "<table border=\"1\" class=\"dataframe\">\n",
              "  <thead>\n",
              "    <tr style=\"text-align: right;\">\n",
              "      <th></th>\n",
              "      <th>age</th>\n",
              "      <th>sex</th>\n",
              "      <th>bmi</th>\n",
              "      <th>children</th>\n",
              "      <th>smoker</th>\n",
              "      <th>region</th>\n",
              "      <th>charges</th>\n",
              "    </tr>\n",
              "  </thead>\n",
              "  <tbody>\n",
              "    <tr>\n",
              "      <th>0</th>\n",
              "      <td>19</td>\n",
              "      <td>female</td>\n",
              "      <td>27.900</td>\n",
              "      <td>0</td>\n",
              "      <td>yes</td>\n",
              "      <td>southwest</td>\n",
              "      <td>16884.92400</td>\n",
              "    </tr>\n",
              "    <tr>\n",
              "      <th>1</th>\n",
              "      <td>18</td>\n",
              "      <td>male</td>\n",
              "      <td>33.770</td>\n",
              "      <td>1</td>\n",
              "      <td>no</td>\n",
              "      <td>southeast</td>\n",
              "      <td>1725.55230</td>\n",
              "    </tr>\n",
              "    <tr>\n",
              "      <th>2</th>\n",
              "      <td>28</td>\n",
              "      <td>male</td>\n",
              "      <td>33.000</td>\n",
              "      <td>3</td>\n",
              "      <td>no</td>\n",
              "      <td>southeast</td>\n",
              "      <td>4449.46200</td>\n",
              "    </tr>\n",
              "    <tr>\n",
              "      <th>3</th>\n",
              "      <td>33</td>\n",
              "      <td>male</td>\n",
              "      <td>22.705</td>\n",
              "      <td>0</td>\n",
              "      <td>no</td>\n",
              "      <td>northwest</td>\n",
              "      <td>21984.47061</td>\n",
              "    </tr>\n",
              "    <tr>\n",
              "      <th>4</th>\n",
              "      <td>32</td>\n",
              "      <td>male</td>\n",
              "      <td>28.880</td>\n",
              "      <td>0</td>\n",
              "      <td>no</td>\n",
              "      <td>northwest</td>\n",
              "      <td>3866.85520</td>\n",
              "    </tr>\n",
              "    <tr>\n",
              "      <th>...</th>\n",
              "      <td>...</td>\n",
              "      <td>...</td>\n",
              "      <td>...</td>\n",
              "      <td>...</td>\n",
              "      <td>...</td>\n",
              "      <td>...</td>\n",
              "      <td>...</td>\n",
              "    </tr>\n",
              "    <tr>\n",
              "      <th>1333</th>\n",
              "      <td>50</td>\n",
              "      <td>male</td>\n",
              "      <td>30.970</td>\n",
              "      <td>3</td>\n",
              "      <td>no</td>\n",
              "      <td>northwest</td>\n",
              "      <td>10600.54830</td>\n",
              "    </tr>\n",
              "    <tr>\n",
              "      <th>1334</th>\n",
              "      <td>18</td>\n",
              "      <td>female</td>\n",
              "      <td>31.920</td>\n",
              "      <td>0</td>\n",
              "      <td>no</td>\n",
              "      <td>northeast</td>\n",
              "      <td>2205.98080</td>\n",
              "    </tr>\n",
              "    <tr>\n",
              "      <th>1335</th>\n",
              "      <td>18</td>\n",
              "      <td>female</td>\n",
              "      <td>36.850</td>\n",
              "      <td>0</td>\n",
              "      <td>no</td>\n",
              "      <td>southeast</td>\n",
              "      <td>1629.83350</td>\n",
              "    </tr>\n",
              "    <tr>\n",
              "      <th>1336</th>\n",
              "      <td>21</td>\n",
              "      <td>female</td>\n",
              "      <td>25.800</td>\n",
              "      <td>0</td>\n",
              "      <td>no</td>\n",
              "      <td>southwest</td>\n",
              "      <td>2007.94500</td>\n",
              "    </tr>\n",
              "    <tr>\n",
              "      <th>1337</th>\n",
              "      <td>61</td>\n",
              "      <td>female</td>\n",
              "      <td>29.070</td>\n",
              "      <td>0</td>\n",
              "      <td>yes</td>\n",
              "      <td>northwest</td>\n",
              "      <td>29141.36030</td>\n",
              "    </tr>\n",
              "  </tbody>\n",
              "</table>\n",
              "<p>1338 rows × 7 columns</p>\n",
              "</div>\n",
              "      <button class=\"colab-df-convert\" onclick=\"convertToInteractive('df-c20c3fda-1cce-4fb3-84fc-938a1a328202')\"\n",
              "              title=\"Convert this dataframe to an interactive table.\"\n",
              "              style=\"display:none;\">\n",
              "        \n",
              "  <svg xmlns=\"http://www.w3.org/2000/svg\" height=\"24px\"viewBox=\"0 0 24 24\"\n",
              "       width=\"24px\">\n",
              "    <path d=\"M0 0h24v24H0V0z\" fill=\"none\"/>\n",
              "    <path d=\"M18.56 5.44l.94 2.06.94-2.06 2.06-.94-2.06-.94-.94-2.06-.94 2.06-2.06.94zm-11 1L8.5 8.5l.94-2.06 2.06-.94-2.06-.94L8.5 2.5l-.94 2.06-2.06.94zm10 10l.94 2.06.94-2.06 2.06-.94-2.06-.94-.94-2.06-.94 2.06-2.06.94z\"/><path d=\"M17.41 7.96l-1.37-1.37c-.4-.4-.92-.59-1.43-.59-.52 0-1.04.2-1.43.59L10.3 9.45l-7.72 7.72c-.78.78-.78 2.05 0 2.83L4 21.41c.39.39.9.59 1.41.59.51 0 1.02-.2 1.41-.59l7.78-7.78 2.81-2.81c.8-.78.8-2.07 0-2.86zM5.41 20L4 18.59l7.72-7.72 1.47 1.35L5.41 20z\"/>\n",
              "  </svg>\n",
              "      </button>\n",
              "      \n",
              "  <style>\n",
              "    .colab-df-container {\n",
              "      display:flex;\n",
              "      flex-wrap:wrap;\n",
              "      gap: 12px;\n",
              "    }\n",
              "\n",
              "    .colab-df-convert {\n",
              "      background-color: #E8F0FE;\n",
              "      border: none;\n",
              "      border-radius: 50%;\n",
              "      cursor: pointer;\n",
              "      display: none;\n",
              "      fill: #1967D2;\n",
              "      height: 32px;\n",
              "      padding: 0 0 0 0;\n",
              "      width: 32px;\n",
              "    }\n",
              "\n",
              "    .colab-df-convert:hover {\n",
              "      background-color: #E2EBFA;\n",
              "      box-shadow: 0px 1px 2px rgba(60, 64, 67, 0.3), 0px 1px 3px 1px rgba(60, 64, 67, 0.15);\n",
              "      fill: #174EA6;\n",
              "    }\n",
              "\n",
              "    [theme=dark] .colab-df-convert {\n",
              "      background-color: #3B4455;\n",
              "      fill: #D2E3FC;\n",
              "    }\n",
              "\n",
              "    [theme=dark] .colab-df-convert:hover {\n",
              "      background-color: #434B5C;\n",
              "      box-shadow: 0px 1px 3px 1px rgba(0, 0, 0, 0.15);\n",
              "      filter: drop-shadow(0px 1px 2px rgba(0, 0, 0, 0.3));\n",
              "      fill: #FFFFFF;\n",
              "    }\n",
              "  </style>\n",
              "\n",
              "      <script>\n",
              "        const buttonEl =\n",
              "          document.querySelector('#df-c20c3fda-1cce-4fb3-84fc-938a1a328202 button.colab-df-convert');\n",
              "        buttonEl.style.display =\n",
              "          google.colab.kernel.accessAllowed ? 'block' : 'none';\n",
              "\n",
              "        async function convertToInteractive(key) {\n",
              "          const element = document.querySelector('#df-c20c3fda-1cce-4fb3-84fc-938a1a328202');\n",
              "          const dataTable =\n",
              "            await google.colab.kernel.invokeFunction('convertToInteractive',\n",
              "                                                     [key], {});\n",
              "          if (!dataTable) return;\n",
              "\n",
              "          const docLinkHtml = 'Like what you see? Visit the ' +\n",
              "            '<a target=\"_blank\" href=https://colab.research.google.com/notebooks/data_table.ipynb>data table notebook</a>'\n",
              "            + ' to learn more about interactive tables.';\n",
              "          element.innerHTML = '';\n",
              "          dataTable['output_type'] = 'display_data';\n",
              "          await google.colab.output.renderOutput(dataTable, element);\n",
              "          const docLink = document.createElement('div');\n",
              "          docLink.innerHTML = docLinkHtml;\n",
              "          element.appendChild(docLink);\n",
              "        }\n",
              "      </script>\n",
              "    </div>\n",
              "  </div>\n",
              "  "
            ]
          },
          "metadata": {},
          "execution_count": 58
        }
      ]
    },
    {
      "cell_type": "markdown",
      "source": [
        "To prepare our data, we can borrow some classes from sklearn"
      ],
      "metadata": {
        "id": "Ag2kOftdEhl8"
      }
    },
    {
      "cell_type": "code",
      "source": [
        "from sklearn.compose import make_column_transformer\n",
        "from sklearn.preprocessing import MinMaxScaler, OneHotEncoder\n",
        "from sklearn.model_selection import train_test_split\n",
        "\n",
        "# Create a column transformer\n",
        "ct = make_column_transformer(\n",
        "    (MinMaxScaler(), ['age', 'bmi', 'children']),\n",
        "    (OneHotEncoder(handle_unknown=\"ignore\"), ['sex', 'smoker', 'region'])\n",
        ")\n",
        "\n",
        "# Create X and y\n",
        "X = insurance.drop(\"charges\", axis=1)\n",
        "y = insurance[\"charges\"]\n",
        "\n",
        "# Build opur train and test sets\n",
        "X_train, X_test, y_train, y_test = train_test_split(X, y, test_size=0.2, random_state=42)\n",
        "\n",
        "# Fit the columnt transformer to our training data\n",
        "ct.fit(X_train)\n",
        "\n",
        "# Transform training and test data with normalization\n",
        "X_train_normal = ct.transform(X_train)\n",
        "X_test_normal = ct.transform(X_test)"
      ],
      "metadata": {
        "id": "z95vubLAExu4"
      },
      "execution_count": 60,
      "outputs": []
    },
    {
      "cell_type": "code",
      "source": [
        "# what does our data look like now\n",
        "X_train.loc[0]"
      ],
      "metadata": {
        "colab": {
          "base_uri": "https://localhost:8080/"
        },
        "id": "ah7t6xfxF6b3",
        "outputId": "874b644c-b7ec-4b07-e037-ed7ad6a56da5"
      },
      "execution_count": 61,
      "outputs": [
        {
          "output_type": "execute_result",
          "data": {
            "text/plain": [
              "age                19\n",
              "sex            female\n",
              "bmi              27.9\n",
              "children            0\n",
              "smoker            yes\n",
              "region      southwest\n",
              "Name: 0, dtype: object"
            ]
          },
          "metadata": {},
          "execution_count": 61
        }
      ]
    },
    {
      "cell_type": "code",
      "source": [
        "X_train_normal[0]"
      ],
      "metadata": {
        "colab": {
          "base_uri": "https://localhost:8080/"
        },
        "id": "1PeW8GlCF9ic",
        "outputId": "fae5c5d5-8bc3-438f-cdf1-f570bbb834af"
      },
      "execution_count": 63,
      "outputs": [
        {
          "output_type": "execute_result",
          "data": {
            "text/plain": [
              "array([0.60869565, 0.10734463, 0.4       , 1.        , 0.        ,\n",
              "       1.        , 0.        , 0.        , 1.        , 0.        ,\n",
              "       0.        ])"
            ]
          },
          "metadata": {},
          "execution_count": 63
        }
      ]
    },
    {
      "cell_type": "code",
      "source": [
        "X_train.shape, X_train_normal.shape"
      ],
      "metadata": {
        "colab": {
          "base_uri": "https://localhost:8080/"
        },
        "id": "G572YYWjF_2G",
        "outputId": "b30e81a9-dac3-4b97-9e2b-5f1c23c68b23"
      },
      "execution_count": 64,
      "outputs": [
        {
          "output_type": "execute_result",
          "data": {
            "text/plain": [
              "((1070, 6), (1070, 11))"
            ]
          },
          "metadata": {},
          "execution_count": 64
        }
      ]
    },
    {
      "cell_type": "markdown",
      "source": [
        "Our data has been normalized and one hot encoded.\n",
        "Now let's build a neural network model on our normalized data"
      ],
      "metadata": {
        "id": "xLIbFiYjGN5E"
      }
    },
    {
      "cell_type": "code",
      "source": [
        "# Build a neural network model to fit on our normalized data\n",
        "\n",
        "# Set random seed\n",
        "tf.random.set_seed(42)\n",
        "\n",
        "# Create a model\n",
        "insurance_model_norm = tf.keras.Sequential([\n",
        "    tf.keras.layers.Dense(5, activation=\"relu\"),\n",
        "    tf.keras.layers.Dense(10, activation=\"relu\"),\n",
        "    tf.keras.layers.Dense(9, activation=\"relu\"),\n",
        "    tf.keras.layers.Dense(7, activation=\"relu\"),\n",
        "    tf.keras.layers.Dense(5, activation=\"relu\"),\n",
        "    tf.keras.layers.Dense(1)\n",
        "])\n",
        "\n",
        "# Setup callback\n",
        "callback = tf.keras.callbacks.EarlyStopping(monitor='loss', patience=10)\n",
        "\n",
        "# Compile the model\n",
        "insurance_model_norm.compile(loss=tf.keras.losses.mae,\n",
        "                             optimizer=tf.keras.optimizers.Adam(learning_rate=0.01),\n",
        "                             metrics=[\"mae\"])\n",
        "\n",
        "# Fit the model\n",
        "history = insurance_model_norm.fit(X_train_normal, \n",
        "                                   y_train, \n",
        "                                   epochs=300, \n",
        "                                   verbose=1, \n",
        "                                   callbacks=[callback])"
      ],
      "metadata": {
        "colab": {
          "base_uri": "https://localhost:8080/"
        },
        "id": "MxT-kkLiGWrX",
        "outputId": "74b214cb-f397-4138-933c-b473619a9050"
      },
      "execution_count": 81,
      "outputs": [
        {
          "output_type": "stream",
          "name": "stdout",
          "text": [
            "Epoch 1/300\n",
            "34/34 [==============================] - 3s 2ms/step - loss: 13286.7373 - mae: 13286.7373\n",
            "Epoch 2/300\n",
            "34/34 [==============================] - 0s 2ms/step - loss: 10185.5742 - mae: 10185.5742\n",
            "Epoch 3/300\n",
            "34/34 [==============================] - 0s 3ms/step - loss: 7673.1597 - mae: 7673.1597\n",
            "Epoch 4/300\n",
            "34/34 [==============================] - 0s 2ms/step - loss: 6484.8833 - mae: 6484.8833\n",
            "Epoch 5/300\n",
            "34/34 [==============================] - 0s 2ms/step - loss: 4816.0542 - mae: 4816.0542\n",
            "Epoch 6/300\n",
            "34/34 [==============================] - 0s 2ms/step - loss: 3731.7854 - mae: 3731.7854\n",
            "Epoch 7/300\n",
            "34/34 [==============================] - 0s 2ms/step - loss: 3391.6460 - mae: 3391.6460\n",
            "Epoch 8/300\n",
            "34/34 [==============================] - 0s 3ms/step - loss: 3328.9043 - mae: 3328.9043\n",
            "Epoch 9/300\n",
            "34/34 [==============================] - 0s 2ms/step - loss: 3313.5630 - mae: 3313.5630\n",
            "Epoch 10/300\n",
            "34/34 [==============================] - 0s 2ms/step - loss: 3373.4910 - mae: 3373.4910\n",
            "Epoch 11/300\n",
            "34/34 [==============================] - 0s 2ms/step - loss: 3298.6006 - mae: 3298.6006\n",
            "Epoch 12/300\n",
            "34/34 [==============================] - 0s 2ms/step - loss: 3279.8391 - mae: 3279.8391\n",
            "Epoch 13/300\n",
            "34/34 [==============================] - 0s 2ms/step - loss: 3250.0498 - mae: 3250.0498\n",
            "Epoch 14/300\n",
            "34/34 [==============================] - 0s 2ms/step - loss: 3266.9685 - mae: 3266.9685\n",
            "Epoch 15/300\n",
            "34/34 [==============================] - 0s 2ms/step - loss: 3252.6074 - mae: 3252.6074\n",
            "Epoch 16/300\n",
            "34/34 [==============================] - 0s 2ms/step - loss: 3281.4685 - mae: 3281.4685\n",
            "Epoch 17/300\n",
            "34/34 [==============================] - 0s 2ms/step - loss: 3254.9780 - mae: 3254.9780\n",
            "Epoch 18/300\n",
            "34/34 [==============================] - 0s 2ms/step - loss: 3268.9463 - mae: 3268.9463\n",
            "Epoch 19/300\n",
            "34/34 [==============================] - 0s 2ms/step - loss: 3246.2151 - mae: 3246.2151\n",
            "Epoch 20/300\n",
            "34/34 [==============================] - 0s 2ms/step - loss: 3240.0984 - mae: 3240.0984\n",
            "Epoch 21/300\n",
            "34/34 [==============================] - 0s 2ms/step - loss: 3236.5254 - mae: 3236.5254\n",
            "Epoch 22/300\n",
            "34/34 [==============================] - 0s 2ms/step - loss: 3195.9910 - mae: 3195.9910\n",
            "Epoch 23/300\n",
            "34/34 [==============================] - 0s 2ms/step - loss: 3145.0652 - mae: 3145.0652\n",
            "Epoch 24/300\n",
            "34/34 [==============================] - 0s 2ms/step - loss: 3128.0781 - mae: 3128.0781\n",
            "Epoch 25/300\n",
            "34/34 [==============================] - 0s 2ms/step - loss: 3123.2085 - mae: 3123.2085\n",
            "Epoch 26/300\n",
            "34/34 [==============================] - 0s 2ms/step - loss: 3063.9414 - mae: 3063.9414\n",
            "Epoch 27/300\n",
            "34/34 [==============================] - 0s 2ms/step - loss: 3050.7725 - mae: 3050.7725\n",
            "Epoch 28/300\n",
            "34/34 [==============================] - 0s 2ms/step - loss: 2960.1924 - mae: 2960.1924\n",
            "Epoch 29/300\n",
            "34/34 [==============================] - 0s 2ms/step - loss: 2955.9648 - mae: 2955.9648\n",
            "Epoch 30/300\n",
            "34/34 [==============================] - 0s 2ms/step - loss: 2865.5132 - mae: 2865.5132\n",
            "Epoch 31/300\n",
            "34/34 [==============================] - 0s 2ms/step - loss: 2829.6631 - mae: 2829.6631\n",
            "Epoch 32/300\n",
            "34/34 [==============================] - 0s 2ms/step - loss: 2807.8152 - mae: 2807.8152\n",
            "Epoch 33/300\n",
            "34/34 [==============================] - 0s 2ms/step - loss: 2724.4241 - mae: 2724.4241\n",
            "Epoch 34/300\n",
            "34/34 [==============================] - 0s 2ms/step - loss: 2652.0100 - mae: 2652.0100\n",
            "Epoch 35/300\n",
            "34/34 [==============================] - 0s 3ms/step - loss: 2614.9485 - mae: 2614.9485\n",
            "Epoch 36/300\n",
            "34/34 [==============================] - 0s 3ms/step - loss: 2545.3782 - mae: 2545.3782\n",
            "Epoch 37/300\n",
            "34/34 [==============================] - 0s 2ms/step - loss: 2485.9758 - mae: 2485.9758\n",
            "Epoch 38/300\n",
            "34/34 [==============================] - 0s 2ms/step - loss: 2459.4700 - mae: 2459.4700\n",
            "Epoch 39/300\n",
            "34/34 [==============================] - 0s 3ms/step - loss: 2466.6011 - mae: 2466.6011\n",
            "Epoch 40/300\n",
            "34/34 [==============================] - 0s 2ms/step - loss: 2415.0398 - mae: 2415.0398\n",
            "Epoch 41/300\n",
            "34/34 [==============================] - 0s 2ms/step - loss: 2398.9783 - mae: 2398.9783\n",
            "Epoch 42/300\n",
            "34/34 [==============================] - 0s 2ms/step - loss: 2351.1938 - mae: 2351.1938\n",
            "Epoch 43/300\n",
            "34/34 [==============================] - 0s 3ms/step - loss: 2300.8936 - mae: 2300.8936\n",
            "Epoch 44/300\n",
            "34/34 [==============================] - 0s 2ms/step - loss: 2246.5449 - mae: 2246.5449\n",
            "Epoch 45/300\n",
            "34/34 [==============================] - 0s 2ms/step - loss: 2237.7607 - mae: 2237.7607\n",
            "Epoch 46/300\n",
            "34/34 [==============================] - 0s 2ms/step - loss: 2193.1306 - mae: 2193.1306\n",
            "Epoch 47/300\n",
            "34/34 [==============================] - 0s 2ms/step - loss: 2176.2998 - mae: 2176.2998\n",
            "Epoch 48/300\n",
            "34/34 [==============================] - 0s 2ms/step - loss: 2210.3948 - mae: 2210.3948\n",
            "Epoch 49/300\n",
            "34/34 [==============================] - 0s 2ms/step - loss: 2107.9819 - mae: 2107.9819\n",
            "Epoch 50/300\n",
            "34/34 [==============================] - 0s 2ms/step - loss: 2108.3271 - mae: 2108.3271\n",
            "Epoch 51/300\n",
            "34/34 [==============================] - 0s 2ms/step - loss: 2105.6550 - mae: 2105.6550\n",
            "Epoch 52/300\n",
            "34/34 [==============================] - 0s 2ms/step - loss: 2148.1873 - mae: 2148.1873\n",
            "Epoch 53/300\n",
            "34/34 [==============================] - 0s 2ms/step - loss: 2091.6746 - mae: 2091.6746\n",
            "Epoch 54/300\n",
            "34/34 [==============================] - 0s 2ms/step - loss: 2104.2407 - mae: 2104.2407\n",
            "Epoch 55/300\n",
            "34/34 [==============================] - 0s 2ms/step - loss: 2097.9302 - mae: 2097.9302\n",
            "Epoch 56/300\n",
            "34/34 [==============================] - 0s 2ms/step - loss: 2101.4736 - mae: 2101.4736\n",
            "Epoch 57/300\n",
            "34/34 [==============================] - 0s 2ms/step - loss: 2132.5591 - mae: 2132.5591\n",
            "Epoch 58/300\n",
            "34/34 [==============================] - 0s 4ms/step - loss: 2150.5215 - mae: 2150.5215\n",
            "Epoch 59/300\n",
            "34/34 [==============================] - 0s 3ms/step - loss: 2165.3777 - mae: 2165.3777\n",
            "Epoch 60/300\n",
            "34/34 [==============================] - 0s 3ms/step - loss: 2128.4761 - mae: 2128.4761\n",
            "Epoch 61/300\n",
            "34/34 [==============================] - 0s 3ms/step - loss: 2079.9646 - mae: 2079.9646\n",
            "Epoch 62/300\n",
            "34/34 [==============================] - 0s 3ms/step - loss: 2087.9089 - mae: 2087.9089\n",
            "Epoch 63/300\n",
            "34/34 [==============================] - 0s 2ms/step - loss: 2108.6367 - mae: 2108.6367\n",
            "Epoch 64/300\n",
            "34/34 [==============================] - 0s 2ms/step - loss: 2108.0774 - mae: 2108.0774\n",
            "Epoch 65/300\n",
            "34/34 [==============================] - 0s 2ms/step - loss: 2122.7246 - mae: 2122.7246\n",
            "Epoch 66/300\n",
            "34/34 [==============================] - 0s 2ms/step - loss: 2109.5913 - mae: 2109.5913\n",
            "Epoch 67/300\n",
            "34/34 [==============================] - 0s 2ms/step - loss: 2145.2629 - mae: 2145.2629\n",
            "Epoch 68/300\n",
            "34/34 [==============================] - 0s 2ms/step - loss: 2081.2961 - mae: 2081.2961\n",
            "Epoch 69/300\n",
            "34/34 [==============================] - 0s 3ms/step - loss: 2083.5894 - mae: 2083.5894\n",
            "Epoch 70/300\n",
            "34/34 [==============================] - 0s 2ms/step - loss: 2068.7678 - mae: 2068.7678\n",
            "Epoch 71/300\n",
            "34/34 [==============================] - 0s 2ms/step - loss: 2077.7136 - mae: 2077.7136\n",
            "Epoch 72/300\n",
            "34/34 [==============================] - 0s 2ms/step - loss: 2078.7139 - mae: 2078.7139\n",
            "Epoch 73/300\n",
            "34/34 [==============================] - 0s 2ms/step - loss: 2164.3547 - mae: 2164.3547\n",
            "Epoch 74/300\n",
            "34/34 [==============================] - 0s 2ms/step - loss: 2082.0613 - mae: 2082.0613\n",
            "Epoch 75/300\n",
            "34/34 [==============================] - 0s 2ms/step - loss: 2066.3140 - mae: 2066.3140\n",
            "Epoch 76/300\n",
            "34/34 [==============================] - 0s 2ms/step - loss: 2061.3857 - mae: 2061.3857\n",
            "Epoch 77/300\n",
            "34/34 [==============================] - 0s 2ms/step - loss: 2077.2627 - mae: 2077.2627\n",
            "Epoch 78/300\n",
            "34/34 [==============================] - 0s 2ms/step - loss: 2103.3364 - mae: 2103.3364\n",
            "Epoch 79/300\n",
            "34/34 [==============================] - 0s 2ms/step - loss: 2085.6804 - mae: 2085.6804\n",
            "Epoch 80/300\n",
            "34/34 [==============================] - 0s 4ms/step - loss: 2093.2476 - mae: 2093.2476\n",
            "Epoch 81/300\n",
            "34/34 [==============================] - 0s 4ms/step - loss: 2110.7310 - mae: 2110.7310\n",
            "Epoch 82/300\n",
            "34/34 [==============================] - 0s 4ms/step - loss: 2096.7517 - mae: 2096.7517\n",
            "Epoch 83/300\n",
            "34/34 [==============================] - 0s 4ms/step - loss: 2068.0955 - mae: 2068.0955\n",
            "Epoch 84/300\n",
            "34/34 [==============================] - 0s 4ms/step - loss: 2058.3005 - mae: 2058.3005\n",
            "Epoch 85/300\n",
            "34/34 [==============================] - 0s 5ms/step - loss: 2096.3240 - mae: 2096.3240\n",
            "Epoch 86/300\n",
            "34/34 [==============================] - 0s 5ms/step - loss: 2069.8376 - mae: 2069.8376\n",
            "Epoch 87/300\n",
            "34/34 [==============================] - 0s 4ms/step - loss: 2100.4177 - mae: 2100.4177\n",
            "Epoch 88/300\n",
            "34/34 [==============================] - 0s 5ms/step - loss: 2073.8054 - mae: 2073.8054\n",
            "Epoch 89/300\n",
            "34/34 [==============================] - 0s 3ms/step - loss: 2090.1978 - mae: 2090.1978\n",
            "Epoch 90/300\n",
            "34/34 [==============================] - 0s 4ms/step - loss: 2080.0200 - mae: 2080.0200\n",
            "Epoch 91/300\n",
            "34/34 [==============================] - 0s 4ms/step - loss: 2103.3926 - mae: 2103.3926\n",
            "Epoch 92/300\n",
            "34/34 [==============================] - 0s 3ms/step - loss: 2098.1938 - mae: 2098.1938\n",
            "Epoch 93/300\n",
            "34/34 [==============================] - 0s 4ms/step - loss: 2117.8184 - mae: 2117.8184\n",
            "Epoch 94/300\n",
            "34/34 [==============================] - 0s 4ms/step - loss: 2102.5881 - mae: 2102.5881\n"
          ]
        }
      ]
    },
    {
      "cell_type": "code",
      "source": [
        "# Evaluate model on train data\n",
        "insurance_model_norm.evaluate(X_train_normal, y_train)"
      ],
      "metadata": {
        "colab": {
          "base_uri": "https://localhost:8080/"
        },
        "id": "gAtVnJKZG_vm",
        "outputId": "373e82df-d00c-42f8-e49d-1afdec423442"
      },
      "execution_count": 82,
      "outputs": [
        {
          "output_type": "stream",
          "name": "stdout",
          "text": [
            "34/34 [==============================] - 0s 2ms/step - loss: 2084.5371 - mae: 2084.5371\n"
          ]
        },
        {
          "output_type": "execute_result",
          "data": {
            "text/plain": [
              "[2084.537109375, 2084.537109375]"
            ]
          },
          "metadata": {},
          "execution_count": 82
        }
      ]
    },
    {
      "cell_type": "code",
      "source": [
        "# Evaluate model on test data\n",
        "insurance_model_norm.evaluate(X_test_normal, y_test)"
      ],
      "metadata": {
        "colab": {
          "base_uri": "https://localhost:8080/"
        },
        "id": "jOGjlYmOHfWI",
        "outputId": "ae055080-e696-45cf-9c1c-d11e1b150c48"
      },
      "execution_count": 83,
      "outputs": [
        {
          "output_type": "stream",
          "name": "stdout",
          "text": [
            "9/9 [==============================] - 0s 2ms/step - loss: 1845.6003 - mae: 1845.6003\n"
          ]
        },
        {
          "output_type": "execute_result",
          "data": {
            "text/plain": [
              "[1845.600341796875, 1845.600341796875]"
            ]
          },
          "metadata": {},
          "execution_count": 83
        }
      ]
    },
    {
      "cell_type": "code",
      "source": [
        "# Plot loss curve\n",
        "pd.DataFrame(history.history).plot()\n",
        "plt.ylabel(\"loss\")\n",
        "plt.xlabel(\"epochs\")\n",
        "plt.legend();"
      ],
      "metadata": {
        "colab": {
          "base_uri": "https://localhost:8080/",
          "height": 279
        },
        "id": "pENaoYoCHk_x",
        "outputId": "c96ebf0f-7a9e-4f9a-b575-d8960db0c292"
      },
      "execution_count": 84,
      "outputs": [
        {
          "output_type": "display_data",
          "data": {
            "text/plain": [
              "<Figure size 432x288 with 1 Axes>"
            ],
            "image/png": "[encoded data removed]"
          },
          "metadata": {
            "needs_background": "light"
          }
        }
      ]
    },
    {
      "cell_type": "code",
      "source": [],
      "metadata": {
        "id": "QepQoddpHvdU"
      },
      "execution_count": null,
      "outputs": []
    }
  ]
}