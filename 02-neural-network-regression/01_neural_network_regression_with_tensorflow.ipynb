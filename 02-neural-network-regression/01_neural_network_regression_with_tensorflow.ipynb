{
  "nbformat": 4,
  "nbformat_minor": 0,
  "metadata": {
    "colab": {
      "provenance": []
    },
    "kernelspec": {
      "name": "python3",
      "display_name": "Python 3"
    },
    "language_info": {
      "name": "python"
    }
  },
  "cells": [
    {
      "cell_type": "markdown",
      "source": [
        "# Introduction to Regression with Neural Networks in TensorFlow\n",
        "\n",
        "There are many definitions for a regression problem but in our case, we're going to simplify it: predicting a numerical variable based on some other combination of variables, even shorter... predicting a number."
      ],
      "metadata": {
        "id": "HuDIfTGhwlim"
      }
    },
    {
      "cell_type": "code",
      "source": [
        "# Import tensorflow\n",
        "import tensorflow as tf\n",
        "print(tf.__version__)"
      ],
      "metadata": {
        "colab": {
          "base_uri": "https://localhost:8080/"
        },
        "id": "gKrNPRyfw9o_",
        "outputId": "d41329b6-903e-4c91-b2b6-a925f81e5c13"
      },
      "execution_count": 1,
      "outputs": [
        {
          "output_type": "stream",
          "name": "stdout",
          "text": [
            "2.11.0\n"
          ]
        }
      ]
    },
    {
      "cell_type": "markdown",
      "source": [
        "# Creating data to view and fit"
      ],
      "metadata": {
        "id": "sDbOY4xoxDgB"
      }
    },
    {
      "cell_type": "code",
      "source": [
        "import numpy as np\n",
        "import matplotlib.pyplot as plt\n",
        "\n",
        "# Create features\n",
        "X = np.array([-7.0, -4.0, -1.0, 2.0, 5.0, 8.0, 11.0, 14.0])\n",
        "\n",
        "# Create labels\n",
        "y = np.array([3.0, 6.0, 9.0, 12.0, 15.0, 18.0, 21.0, 24.0])\n",
        "\n",
        "# Visualize it\n",
        "plt.scatter(X, y);"
      ],
      "metadata": {
        "colab": {
          "base_uri": "https://localhost:8080/",
          "height": 269
        },
        "id": "BrzPUpxuxX8J",
        "outputId": "75a89d80-c6b4-4f3f-a970-01450e792bf9"
      },
      "execution_count": 2,
      "outputs": [
        {
          "output_type": "display_data",
          "data": {
            "text/plain": [
              "<Figure size 432x288 with 1 Axes>"
            ],
            "image/png": "[encoded data removed]"
          },
          "metadata": {
            "needs_background": "light"
          }
        }
      ]
    },
    {
      "cell_type": "markdown",
      "source": [
        "## Input and output shapes"
      ],
      "metadata": {
        "id": "M9gS9ZGD02rM"
      }
    },
    {
      "cell_type": "code",
      "source": [
        "# Create a demo tensor for our housing price prediction problem\n",
        "house_info = tf.constant([\"bedroom\", \"bathroom\", \"garage\"])\n",
        "house_price = tf.constant([939700])\n",
        "house_info, house_price"
      ],
      "metadata": {
        "colab": {
          "base_uri": "https://localhost:8080/"
        },
        "id": "Mtv8AaJQxm4w",
        "outputId": "d40d0f65-ee62-436f-9b3c-b1322fb55c5c"
      },
      "execution_count": 3,
      "outputs": [
        {
          "output_type": "execute_result",
          "data": {
            "text/plain": [
              "(<tf.Tensor: shape=(3,), dtype=string, numpy=array([b'bedroom', b'bathroom', b'garage'], dtype=object)>,\n",
              " <tf.Tensor: shape=(1,), dtype=int32, numpy=array([939700], dtype=int32)>)"
            ]
          },
          "metadata": {},
          "execution_count": 3
        }
      ]
    },
    {
      "cell_type": "code",
      "source": [
        "input_shape = X.shape\n",
        "output_shape = y.shape\n",
        "\n",
        "input_shape, output_shape"
      ],
      "metadata": {
        "colab": {
          "base_uri": "https://localhost:8080/"
        },
        "id": "Sv8I0TuJ0xFP",
        "outputId": "f8c2be79-c701-47f3-8bae-5f7a3e6925b5"
      },
      "execution_count": 4,
      "outputs": [
        {
          "output_type": "execute_result",
          "data": {
            "text/plain": [
              "((8,), (8,))"
            ]
          },
          "metadata": {},
          "execution_count": 4
        }
      ]
    },
    {
      "cell_type": "code",
      "source": [
        "# Turn our numpyt arrays into tensors\n",
        "X = tf.cast(tf.constant(X), dtype=tf.float32)\n",
        "y = tf.cast(tf.constant(y), dtype=tf.float32)\n",
        "\n",
        "X, y"
      ],
      "metadata": {
        "colab": {
          "base_uri": "https://localhost:8080/"
        },
        "id": "wGMuH7-U1s2h",
        "outputId": "6e5b6cec-ad8a-43cf-aa4d-bb9ed26d46f7"
      },
      "execution_count": 5,
      "outputs": [
        {
          "output_type": "execute_result",
          "data": {
            "text/plain": [
              "(<tf.Tensor: shape=(8,), dtype=float32, numpy=array([-7., -4., -1.,  2.,  5.,  8., 11., 14.], dtype=float32)>,\n",
              " <tf.Tensor: shape=(8,), dtype=float32, numpy=array([ 3.,  6.,  9., 12., 15., 18., 21., 24.], dtype=float32)>)"
            ]
          },
          "metadata": {},
          "execution_count": 5
        }
      ]
    },
    {
      "cell_type": "markdown",
      "source": [
        "## Steps in modelling with TensorFlow\n",
        "\n",
        "1. **Creating a model** - define the input and output layers, as well as the hidden layers of a deep learning model.\n",
        "2. **Compiling a model** - define the loss function (in other words, the function which tells our model how wrong it is) and the optimizer (tells our model how to improve the patterns its learning) and evaluation metrics (what we can use to interpret the performance of our model)\n",
        "3. **Fitting a model** - letting the model try to find patterns between X & y (features and labels)."
      ],
      "metadata": {
        "id": "g1QSjt8V2E2s"
      }
    },
    {
      "cell_type": "code",
      "source": [
        "# Set random seed\n",
        "tf.random.set_seed(42)\n",
        "\n",
        "# 1. Create a model usiong the Sequential API\n",
        "model = tf.keras.Sequential([\n",
        "    tf.keras.layers.Dense(1)\n",
        "])\n",
        "\n",
        "# 2. Compile the model\n",
        "model.compile(loss=tf.keras.losses.mae,\n",
        "              optimizer=tf.keras.optimizers.SGD(), # sgd is short for stochastic gradient descent\n",
        "              metrics=[\"mae\"])\n",
        "\n",
        "# 3. Fit the model\n",
        "model.fit(tf.expand_dims(X, axis=-1), y, epochs=50)"
      ],
      "metadata": {
        "colab": {
          "base_uri": "https://localhost:8080/"
        },
        "id": "W2HTZ-5L26gp",
        "outputId": "7e170327-6e1d-47d7-b444-cc114d69f535"
      },
      "execution_count": 6,
      "outputs": [
        {
          "output_type": "stream",
          "name": "stdout",
          "text": [
            "Epoch 1/50\n",
            "1/1 [==============================] - 1s 723ms/step - loss: 16.6995 - mae: 16.6995\n",
            "Epoch 2/50\n",
            "1/1 [==============================] - 0s 9ms/step - loss: 16.4183 - mae: 16.4183\n",
            "Epoch 3/50\n",
            "1/1 [==============================] - 0s 9ms/step - loss: 16.1370 - mae: 16.1370\n",
            "Epoch 4/50\n",
            "1/1 [==============================] - 0s 15ms/step - loss: 15.8558 - mae: 15.8558\n",
            "Epoch 5/50\n",
            "1/1 [==============================] - 0s 10ms/step - loss: 15.5745 - mae: 15.5745\n",
            "Epoch 6/50\n",
            "1/1 [==============================] - 0s 10ms/step - loss: 15.2933 - mae: 15.2933\n",
            "Epoch 7/50\n",
            "1/1 [==============================] - 0s 10ms/step - loss: 15.0120 - mae: 15.0120\n",
            "Epoch 8/50\n",
            "1/1 [==============================] - 0s 9ms/step - loss: 14.7943 - mae: 14.7943\n",
            "Epoch 9/50\n",
            "1/1 [==============================] - 0s 10ms/step - loss: 14.6618 - mae: 14.6618\n",
            "Epoch 10/50\n",
            "1/1 [==============================] - 0s 9ms/step - loss: 14.5293 - mae: 14.5293\n",
            "Epoch 11/50\n",
            "1/1 [==============================] - 0s 11ms/step - loss: 14.3968 - mae: 14.3968\n",
            "Epoch 12/50\n",
            "1/1 [==============================] - 0s 12ms/step - loss: 14.2643 - mae: 14.2643\n",
            "Epoch 13/50\n",
            "1/1 [==============================] - 0s 11ms/step - loss: 14.1318 - mae: 14.1318\n",
            "Epoch 14/50\n",
            "1/1 [==============================] - 0s 16ms/step - loss: 13.9993 - mae: 13.9993\n",
            "Epoch 15/50\n",
            "1/1 [==============================] - 0s 16ms/step - loss: 13.8668 - mae: 13.8668\n",
            "Epoch 16/50\n",
            "1/1 [==============================] - 0s 15ms/step - loss: 13.7343 - mae: 13.7343\n",
            "Epoch 17/50\n",
            "1/1 [==============================] - 0s 14ms/step - loss: 13.6018 - mae: 13.6018\n",
            "Epoch 18/50\n",
            "1/1 [==============================] - 0s 10ms/step - loss: 13.4693 - mae: 13.4693\n",
            "Epoch 19/50\n",
            "1/1 [==============================] - 0s 12ms/step - loss: 13.3368 - mae: 13.3368\n",
            "Epoch 20/50\n",
            "1/1 [==============================] - 0s 13ms/step - loss: 13.2043 - mae: 13.2043\n",
            "Epoch 21/50\n",
            "1/1 [==============================] - 0s 15ms/step - loss: 13.0718 - mae: 13.0718\n",
            "Epoch 22/50\n",
            "1/1 [==============================] - 0s 10ms/step - loss: 12.9393 - mae: 12.9393\n",
            "Epoch 23/50\n",
            "1/1 [==============================] - 0s 9ms/step - loss: 12.8068 - mae: 12.8068\n",
            "Epoch 24/50\n",
            "1/1 [==============================] - 0s 13ms/step - loss: 12.6743 - mae: 12.6743\n",
            "Epoch 25/50\n",
            "1/1 [==============================] - 0s 11ms/step - loss: 12.5418 - mae: 12.5418\n",
            "Epoch 26/50\n",
            "1/1 [==============================] - 0s 7ms/step - loss: 12.4093 - mae: 12.4093\n",
            "Epoch 27/50\n",
            "1/1 [==============================] - 0s 7ms/step - loss: 12.2768 - mae: 12.2768\n",
            "Epoch 28/50\n",
            "1/1 [==============================] - 0s 9ms/step - loss: 12.1443 - mae: 12.1443\n",
            "Epoch 29/50\n",
            "1/1 [==============================] - 0s 11ms/step - loss: 12.0118 - mae: 12.0118\n",
            "Epoch 30/50\n",
            "1/1 [==============================] - 0s 11ms/step - loss: 11.8793 - mae: 11.8793\n",
            "Epoch 31/50\n",
            "1/1 [==============================] - 0s 11ms/step - loss: 11.7468 - mae: 11.7468\n",
            "Epoch 32/50\n",
            "1/1 [==============================] - 0s 10ms/step - loss: 11.6143 - mae: 11.6143\n",
            "Epoch 33/50\n",
            "1/1 [==============================] - 0s 9ms/step - loss: 11.4818 - mae: 11.4818\n",
            "Epoch 34/50\n",
            "1/1 [==============================] - 0s 8ms/step - loss: 11.3493 - mae: 11.3493\n",
            "Epoch 35/50\n",
            "1/1 [==============================] - 0s 10ms/step - loss: 11.2168 - mae: 11.2168\n",
            "Epoch 36/50\n",
            "1/1 [==============================] - 0s 10ms/step - loss: 11.0843 - mae: 11.0843\n",
            "Epoch 37/50\n",
            "1/1 [==============================] - 0s 9ms/step - loss: 10.9518 - mae: 10.9518\n",
            "Epoch 38/50\n",
            "1/1 [==============================] - 0s 9ms/step - loss: 10.8193 - mae: 10.8193\n",
            "Epoch 39/50\n",
            "1/1 [==============================] - 0s 10ms/step - loss: 10.6868 - mae: 10.6868\n",
            "Epoch 40/50\n",
            "1/1 [==============================] - 0s 21ms/step - loss: 10.5543 - mae: 10.5543\n",
            "Epoch 41/50\n",
            "1/1 [==============================] - 0s 21ms/step - loss: 10.4218 - mae: 10.4218\n",
            "Epoch 42/50\n",
            "1/1 [==============================] - 0s 11ms/step - loss: 10.2893 - mae: 10.2893\n",
            "Epoch 43/50\n",
            "1/1 [==============================] - 0s 10ms/step - loss: 10.1568 - mae: 10.1568\n",
            "Epoch 44/50\n",
            "1/1 [==============================] - 0s 16ms/step - loss: 10.0243 - mae: 10.0243\n",
            "Epoch 45/50\n",
            "1/1 [==============================] - 0s 10ms/step - loss: 9.8918 - mae: 9.8918\n",
            "Epoch 46/50\n",
            "1/1 [==============================] - 0s 14ms/step - loss: 9.7593 - mae: 9.7593\n",
            "Epoch 47/50\n",
            "1/1 [==============================] - 0s 16ms/step - loss: 9.6268 - mae: 9.6268\n",
            "Epoch 48/50\n",
            "1/1 [==============================] - 0s 21ms/step - loss: 9.4943 - mae: 9.4943\n",
            "Epoch 49/50\n",
            "1/1 [==============================] - 0s 12ms/step - loss: 9.3618 - mae: 9.3618\n",
            "Epoch 50/50\n",
            "1/1 [==============================] - 0s 15ms/step - loss: 9.2293 - mae: 9.2293\n"
          ]
        },
        {
          "output_type": "execute_result",
          "data": {
            "text/plain": [
              "<keras.callbacks.History at 0x7f7a7c11a550>"
            ]
          },
          "metadata": {},
          "execution_count": 6
        }
      ]
    },
    {
      "cell_type": "code",
      "source": [
        "# Check out X and y\n",
        "X, y"
      ],
      "metadata": {
        "colab": {
          "base_uri": "https://localhost:8080/"
        },
        "id": "y58VJBIf09t-",
        "outputId": "c5dfc3e9-0813-4c02-b124-296e3c9f972c"
      },
      "execution_count": 7,
      "outputs": [
        {
          "output_type": "execute_result",
          "data": {
            "text/plain": [
              "(<tf.Tensor: shape=(8,), dtype=float32, numpy=array([-7., -4., -1.,  2.,  5.,  8., 11., 14.], dtype=float32)>,\n",
              " <tf.Tensor: shape=(8,), dtype=float32, numpy=array([ 3.,  6.,  9., 12., 15., 18., 21., 24.], dtype=float32)>)"
            ]
          },
          "metadata": {},
          "execution_count": 7
        }
      ]
    },
    {
      "cell_type": "code",
      "source": [
        "# Try and make a prediction using our model\n",
        "model.predict([37.0])"
      ],
      "metadata": {
        "colab": {
          "base_uri": "https://localhost:8080/"
        },
        "id": "1k3s2yxj6GXy",
        "outputId": "2d9e3cdf-5254-46d6-825e-3a8bce19093f"
      },
      "execution_count": 8,
      "outputs": [
        {
          "output_type": "stream",
          "name": "stdout",
          "text": [
            "1/1 [==============================] - 0s 143ms/step\n"
          ]
        },
        {
          "output_type": "execute_result",
          "data": {
            "text/plain": [
              "array([[41.93036]], dtype=float32)"
            ]
          },
          "metadata": {},
          "execution_count": 8
        }
      ]
    },
    {
      "cell_type": "markdown",
      "source": [
        "## Improving our model\n",
        "\n",
        "We can improve our model, by altering the steps we took to create a model.\n",
        "\n",
        "1. **Creating a model** - here we might add more layers, increase the number of hidden units (all caled neurons), within each of the hidden layers, change the activation function of each layers.\n",
        "2. **Compiling a model** - here we might change the optimization function or perhaps the **learning rate** of the optimization function.\n",
        "3. **Fitting a model** - here we might fit a model for more **epochs** (leave it training for longer) or on more data (give the model more examples to learn from)."
      ],
      "metadata": {
        "id": "XVNS3sDa6KsR"
      }
    },
    {
      "cell_type": "code",
      "source": [
        "# Let's rebuild our model\n",
        "\n",
        "# 1. Create the model\n",
        "model = tf.keras.Sequential([\n",
        "    tf.keras.layers.Dense(50, activation=None),\n",
        "    tf.keras.layers.Dense(1)\n",
        "])\n",
        "\n",
        "# 2. Compile the model\n",
        "model.compile(loss=tf.keras.losses.mae,\n",
        "              optimizer=tf.keras.optimizers.Adam(learning_rate=0.01),\n",
        "              metrics=[\"mae\"])\n",
        "\n",
        "# 3. Fit the model (this time we'll train for longer)\n",
        "model.fit(tf.expand_dims(X, axis=-1), y, epochs=100)"
      ],
      "metadata": {
        "colab": {
          "base_uri": "https://localhost:8080/"
        },
        "id": "d81cwv9I7yrb",
        "outputId": "bc7db9ca-c6c6-4fc2-ed35-ba2868ae1e83"
      },
      "execution_count": 9,
      "outputs": [
        {
          "output_type": "stream",
          "name": "stdout",
          "text": [
            "Epoch 1/100\n",
            "1/1 [==============================] - 1s 1s/step - loss: 14.2326 - mae: 14.2326\n",
            "Epoch 2/100\n",
            "1/1 [==============================] - 0s 17ms/step - loss: 13.4435 - mae: 13.4435\n",
            "Epoch 3/100\n",
            "1/1 [==============================] - 0s 16ms/step - loss: 12.6547 - mae: 12.6547\n",
            "Epoch 4/100\n",
            "1/1 [==============================] - 0s 13ms/step - loss: 11.8662 - mae: 11.8662\n",
            "Epoch 5/100\n",
            "1/1 [==============================] - 0s 14ms/step - loss: 11.0770 - mae: 11.0770\n",
            "Epoch 6/100\n",
            "1/1 [==============================] - 0s 11ms/step - loss: 10.2859 - mae: 10.2859\n",
            "Epoch 7/100\n",
            "1/1 [==============================] - 0s 13ms/step - loss: 9.4915 - mae: 9.4915\n",
            "Epoch 8/100\n",
            "1/1 [==============================] - 0s 13ms/step - loss: 8.6921 - mae: 8.6921\n",
            "Epoch 9/100\n",
            "1/1 [==============================] - 0s 14ms/step - loss: 7.8858 - mae: 7.8858\n",
            "Epoch 10/100\n",
            "1/1 [==============================] - 0s 13ms/step - loss: 7.0708 - mae: 7.0708\n",
            "Epoch 11/100\n",
            "1/1 [==============================] - 0s 10ms/step - loss: 6.6674 - mae: 6.6674\n",
            "Epoch 12/100\n",
            "1/1 [==============================] - 0s 10ms/step - loss: 6.9671 - mae: 6.9671\n",
            "Epoch 13/100\n",
            "1/1 [==============================] - 0s 11ms/step - loss: 7.2784 - mae: 7.2784\n",
            "Epoch 14/100\n",
            "1/1 [==============================] - 0s 13ms/step - loss: 7.6681 - mae: 7.6681\n",
            "Epoch 15/100\n",
            "1/1 [==============================] - 0s 11ms/step - loss: 7.8041 - mae: 7.8041\n",
            "Epoch 16/100\n",
            "1/1 [==============================] - 0s 10ms/step - loss: 7.7365 - mae: 7.7365\n",
            "Epoch 17/100\n",
            "1/1 [==============================] - 0s 14ms/step - loss: 7.5135 - mae: 7.5135\n",
            "Epoch 18/100\n",
            "1/1 [==============================] - 0s 22ms/step - loss: 7.1711 - mae: 7.1711\n",
            "Epoch 19/100\n",
            "1/1 [==============================] - 0s 19ms/step - loss: 6.7952 - mae: 6.7952\n",
            "Epoch 20/100\n",
            "1/1 [==============================] - 0s 38ms/step - loss: 6.5056 - mae: 6.5056\n",
            "Epoch 21/100\n",
            "1/1 [==============================] - 0s 31ms/step - loss: 6.2036 - mae: 6.2036\n",
            "Epoch 22/100\n",
            "1/1 [==============================] - 0s 21ms/step - loss: 5.9753 - mae: 5.9753\n",
            "Epoch 23/100\n",
            "1/1 [==============================] - 0s 25ms/step - loss: 5.9262 - mae: 5.9262\n",
            "Epoch 24/100\n",
            "1/1 [==============================] - 0s 42ms/step - loss: 6.0031 - mae: 6.0031\n",
            "Epoch 25/100\n",
            "1/1 [==============================] - 0s 57ms/step - loss: 6.0976 - mae: 6.0976\n",
            "Epoch 26/100\n",
            "1/1 [==============================] - 0s 36ms/step - loss: 6.0909 - mae: 6.0909\n",
            "Epoch 27/100\n",
            "1/1 [==============================] - 0s 15ms/step - loss: 5.9954 - mae: 5.9954\n",
            "Epoch 28/100\n",
            "1/1 [==============================] - 0s 9ms/step - loss: 5.8202 - mae: 5.8202\n",
            "Epoch 29/100\n",
            "1/1 [==============================] - 0s 27ms/step - loss: 5.5727 - mae: 5.5727\n",
            "Epoch 30/100\n",
            "1/1 [==============================] - 0s 29ms/step - loss: 5.3684 - mae: 5.3684\n",
            "Epoch 31/100\n",
            "1/1 [==============================] - 0s 17ms/step - loss: 5.2617 - mae: 5.2617\n",
            "Epoch 32/100\n",
            "1/1 [==============================] - 0s 14ms/step - loss: 5.1788 - mae: 5.1788\n",
            "Epoch 33/100\n",
            "1/1 [==============================] - 0s 19ms/step - loss: 5.1785 - mae: 5.1785\n",
            "Epoch 34/100\n",
            "1/1 [==============================] - 0s 26ms/step - loss: 5.1326 - mae: 5.1326\n",
            "Epoch 35/100\n",
            "1/1 [==============================] - 0s 57ms/step - loss: 5.0447 - mae: 5.0447\n",
            "Epoch 36/100\n",
            "1/1 [==============================] - 0s 40ms/step - loss: 4.9180 - mae: 4.9180\n",
            "Epoch 37/100\n",
            "1/1 [==============================] - 0s 20ms/step - loss: 4.7555 - mae: 4.7555\n",
            "Epoch 38/100\n",
            "1/1 [==============================] - 0s 14ms/step - loss: 4.5601 - mae: 4.5601\n",
            "Epoch 39/100\n",
            "1/1 [==============================] - 0s 21ms/step - loss: 4.4663 - mae: 4.4663\n",
            "Epoch 40/100\n",
            "1/1 [==============================] - 0s 26ms/step - loss: 4.3679 - mae: 4.3679\n",
            "Epoch 41/100\n",
            "1/1 [==============================] - 0s 15ms/step - loss: 4.3149 - mae: 4.3149\n",
            "Epoch 42/100\n",
            "1/1 [==============================] - 0s 15ms/step - loss: 4.2264 - mae: 4.2264\n",
            "Epoch 43/100\n",
            "1/1 [==============================] - 0s 13ms/step - loss: 4.0304 - mae: 4.0304\n",
            "Epoch 44/100\n",
            "1/1 [==============================] - 0s 17ms/step - loss: 3.8583 - mae: 3.8583\n",
            "Epoch 45/100\n",
            "1/1 [==============================] - 0s 27ms/step - loss: 3.7040 - mae: 3.7040\n",
            "Epoch 46/100\n",
            "1/1 [==============================] - 0s 31ms/step - loss: 3.6159 - mae: 3.6159\n",
            "Epoch 47/100\n",
            "1/1 [==============================] - 0s 21ms/step - loss: 3.5257 - mae: 3.5257\n",
            "Epoch 48/100\n",
            "1/1 [==============================] - 0s 17ms/step - loss: 3.3832 - mae: 3.3832\n",
            "Epoch 49/100\n",
            "1/1 [==============================] - 0s 25ms/step - loss: 3.1912 - mae: 3.1912\n",
            "Epoch 50/100\n",
            "1/1 [==============================] - 0s 18ms/step - loss: 2.9524 - mae: 2.9524\n",
            "Epoch 51/100\n",
            "1/1 [==============================] - 0s 14ms/step - loss: 2.7736 - mae: 2.7736\n",
            "Epoch 52/100\n",
            "1/1 [==============================] - 0s 21ms/step - loss: 2.6507 - mae: 2.6507\n",
            "Epoch 53/100\n",
            "1/1 [==============================] - 0s 21ms/step - loss: 2.4987 - mae: 2.4987\n",
            "Epoch 54/100\n",
            "1/1 [==============================] - 0s 21ms/step - loss: 2.2272 - mae: 2.2272\n",
            "Epoch 55/100\n",
            "1/1 [==============================] - 0s 43ms/step - loss: 2.0165 - mae: 2.0165\n",
            "Epoch 56/100\n",
            "1/1 [==============================] - 0s 31ms/step - loss: 1.8289 - mae: 1.8289\n",
            "Epoch 57/100\n",
            "1/1 [==============================] - 0s 27ms/step - loss: 1.6329 - mae: 1.6329\n",
            "Epoch 58/100\n",
            "1/1 [==============================] - 0s 32ms/step - loss: 1.3728 - mae: 1.3728\n",
            "Epoch 59/100\n",
            "1/1 [==============================] - 0s 25ms/step - loss: 1.1522 - mae: 1.1522\n",
            "Epoch 60/100\n",
            "1/1 [==============================] - 0s 20ms/step - loss: 0.9139 - mae: 0.9139\n",
            "Epoch 61/100\n",
            "1/1 [==============================] - 0s 17ms/step - loss: 0.6846 - mae: 0.6846\n",
            "Epoch 62/100\n",
            "1/1 [==============================] - 0s 13ms/step - loss: 0.5020 - mae: 0.5020\n",
            "Epoch 63/100\n",
            "1/1 [==============================] - 0s 27ms/step - loss: 0.1345 - mae: 0.1345\n",
            "Epoch 64/100\n",
            "1/1 [==============================] - 0s 27ms/step - loss: 0.3879 - mae: 0.3879\n",
            "Epoch 65/100\n",
            "1/1 [==============================] - 0s 23ms/step - loss: 0.4890 - mae: 0.4890\n",
            "Epoch 66/100\n",
            "1/1 [==============================] - 0s 72ms/step - loss: 0.5993 - mae: 0.5993\n",
            "Epoch 67/100\n",
            "1/1 [==============================] - 0s 59ms/step - loss: 0.7540 - mae: 0.7540\n",
            "Epoch 68/100\n",
            "1/1 [==============================] - 0s 37ms/step - loss: 0.7430 - mae: 0.7430\n",
            "Epoch 69/100\n",
            "1/1 [==============================] - 0s 12ms/step - loss: 0.8297 - mae: 0.8297\n",
            "Epoch 70/100\n",
            "1/1 [==============================] - 0s 12ms/step - loss: 0.8313 - mae: 0.8313\n",
            "Epoch 71/100\n",
            "1/1 [==============================] - 0s 11ms/step - loss: 0.7421 - mae: 0.7421\n",
            "Epoch 72/100\n",
            "1/1 [==============================] - 0s 17ms/step - loss: 0.6782 - mae: 0.6782\n",
            "Epoch 73/100\n",
            "1/1 [==============================] - 0s 15ms/step - loss: 0.5683 - mae: 0.5683\n",
            "Epoch 74/100\n",
            "1/1 [==============================] - 0s 19ms/step - loss: 0.4695 - mae: 0.4695\n",
            "Epoch 75/100\n",
            "1/1 [==============================] - 0s 19ms/step - loss: 0.3316 - mae: 0.3316\n",
            "Epoch 76/100\n",
            "1/1 [==============================] - 0s 93ms/step - loss: 0.2085 - mae: 0.2085\n",
            "Epoch 77/100\n",
            "1/1 [==============================] - 0s 44ms/step - loss: 0.1717 - mae: 0.1717\n",
            "Epoch 78/100\n",
            "1/1 [==============================] - 0s 31ms/step - loss: 0.2675 - mae: 0.2675\n",
            "Epoch 79/100\n",
            "1/1 [==============================] - 0s 31ms/step - loss: 0.4028 - mae: 0.4028\n",
            "Epoch 80/100\n",
            "1/1 [==============================] - 0s 13ms/step - loss: 0.3667 - mae: 0.3667\n",
            "Epoch 81/100\n",
            "1/1 [==============================] - 0s 10ms/step - loss: 0.4207 - mae: 0.4207\n",
            "Epoch 82/100\n",
            "1/1 [==============================] - 0s 11ms/step - loss: 0.4597 - mae: 0.4597\n",
            "Epoch 83/100\n",
            "1/1 [==============================] - 0s 27ms/step - loss: 0.3213 - mae: 0.3213\n",
            "Epoch 84/100\n",
            "1/1 [==============================] - 0s 53ms/step - loss: 0.3802 - mae: 0.3802\n",
            "Epoch 85/100\n",
            "1/1 [==============================] - 0s 50ms/step - loss: 0.3960 - mae: 0.3960\n",
            "Epoch 86/100\n",
            "1/1 [==============================] - 0s 22ms/step - loss: 0.2226 - mae: 0.2226\n",
            "Epoch 87/100\n",
            "1/1 [==============================] - 0s 16ms/step - loss: 0.1985 - mae: 0.1985\n",
            "Epoch 88/100\n",
            "1/1 [==============================] - 0s 20ms/step - loss: 0.2630 - mae: 0.2630\n",
            "Epoch 89/100\n",
            "1/1 [==============================] - 0s 19ms/step - loss: 0.1615 - mae: 0.1615\n",
            "Epoch 90/100\n",
            "1/1 [==============================] - 0s 15ms/step - loss: 0.4180 - mae: 0.4180\n",
            "Epoch 91/100\n",
            "1/1 [==============================] - 0s 14ms/step - loss: 0.4803 - mae: 0.4803\n",
            "Epoch 92/100\n",
            "1/1 [==============================] - 0s 13ms/step - loss: 0.2767 - mae: 0.2767\n",
            "Epoch 93/100\n",
            "1/1 [==============================] - 0s 12ms/step - loss: 0.2596 - mae: 0.2596\n",
            "Epoch 94/100\n",
            "1/1 [==============================] - 0s 18ms/step - loss: 0.3929 - mae: 0.3929\n",
            "Epoch 95/100\n",
            "1/1 [==============================] - 0s 11ms/step - loss: 0.2368 - mae: 0.2368\n",
            "Epoch 96/100\n",
            "1/1 [==============================] - 0s 48ms/step - loss: 0.1811 - mae: 0.1811\n",
            "Epoch 97/100\n",
            "1/1 [==============================] - 0s 33ms/step - loss: 0.2766 - mae: 0.2766\n",
            "Epoch 98/100\n",
            "1/1 [==============================] - 0s 45ms/step - loss: 0.1536 - mae: 0.1536\n",
            "Epoch 99/100\n",
            "1/1 [==============================] - 0s 38ms/step - loss: 0.2885 - mae: 0.2885\n",
            "Epoch 100/100\n",
            "1/1 [==============================] - 0s 21ms/step - loss: 0.3402 - mae: 0.3402\n"
          ]
        },
        {
          "output_type": "execute_result",
          "data": {
            "text/plain": [
              "<keras.callbacks.History at 0x7f7a7c0cb460>"
            ]
          },
          "metadata": {},
          "execution_count": 9
        }
      ]
    },
    {
      "cell_type": "code",
      "source": [
        "# Remind ourselves of the data\n",
        "X, y"
      ],
      "metadata": {
        "colab": {
          "base_uri": "https://localhost:8080/"
        },
        "id": "nK4bHYM59Ed7",
        "outputId": "afb5b993-9ac7-4db7-dfa6-7044ecfb96d1"
      },
      "execution_count": 10,
      "outputs": [
        {
          "output_type": "execute_result",
          "data": {
            "text/plain": [
              "(<tf.Tensor: shape=(8,), dtype=float32, numpy=array([-7., -4., -1.,  2.,  5.,  8., 11., 14.], dtype=float32)>,\n",
              " <tf.Tensor: shape=(8,), dtype=float32, numpy=array([ 3.,  6.,  9., 12., 15., 18., 21., 24.], dtype=float32)>)"
            ]
          },
          "metadata": {},
          "execution_count": 10
        }
      ]
    },
    {
      "cell_type": "code",
      "source": [
        "# Let's see if our model's prediction has improved\n",
        "model.predict([17.0])"
      ],
      "metadata": {
        "colab": {
          "base_uri": "https://localhost:8080/"
        },
        "id": "rNm1_p_O9afF",
        "outputId": "5ede9b11-79e0-448b-87dd-6817d7616229"
      },
      "execution_count": 11,
      "outputs": [
        {
          "output_type": "stream",
          "name": "stdout",
          "text": [
            "1/1 [==============================] - 0s 130ms/step\n"
          ]
        },
        {
          "output_type": "execute_result",
          "data": {
            "text/plain": [
              "array([[27.275007]], dtype=float32)"
            ]
          },
          "metadata": {},
          "execution_count": 11
        }
      ]
    },
    {
      "cell_type": "code",
      "source": [
        "fig, ax = plt.subplots(figsize=(10, 6))\n",
        "\n",
        "x = np.arange(0, 50, 1)\n",
        "ax.plot(x, x + 10, c=\"r\")\n",
        "ax.plot(x, model.predict(x), c=\"b\");"
      ],
      "metadata": {
        "colab": {
          "base_uri": "https://localhost:8080/",
          "height": 391
        },
        "id": "np9wh0v29c9K",
        "outputId": "88644303-e1a5-4888-ad7b-389cd260ec57"
      },
      "execution_count": 12,
      "outputs": [
        {
          "output_type": "stream",
          "name": "stdout",
          "text": [
            "2/2 [==============================] - 0s 8ms/step\n"
          ]
        },
        {
          "output_type": "display_data",
          "data": {
            "text/plain": [
              "<Figure size 720x432 with 1 Axes>"
            ],
            "image/png": "[encoded data removed]"
          },
          "metadata": {
            "needs_background": "light"
          }
        }
      ]
    },
    {
      "cell_type": "markdown",
      "source": [
        "# Evaluating a model\n",
        "\n",
        "In practice, a typical workflow you'll go through when building neural networks is:\n",
        "\n",
        "```\n",
        "Build a model -> fit it -> evaluate it -> tweak a model -> fit it -> evaluate it -> tweak a model -> fit it -> evaluate it...\n",
        "```"
      ],
      "metadata": {
        "id": "GvR_UoiW_Dc-"
      }
    },
    {
      "cell_type": "markdown",
      "source": [
        "When it comes to evaluation... There are 3 words you should memorize:\n",
        "\n",
        "> \"Visualize, visualize, visualize\"\n",
        "\n",
        "It's a good idea to visualize::\n",
        "* the data = what data are we working with? What does it look like?\n",
        "* The model itself - what does our model look like?\n",
        "* The training of a model - how does a model perform while it learns?\n",
        "* The predictions of the model - how do the predictions of a model line up against the ground truth (the original labels)?"
      ],
      "metadata": {
        "id": "MEEY3uCMAmV5"
      }
    },
    {
      "cell_type": "code",
      "source": [
        "# Make a bigger dataset\n",
        "X = tf.range(-100, 100, 4)\n",
        "X\n"
      ],
      "metadata": {
        "id": "giwIh5g2A_N1",
        "colab": {
          "base_uri": "https://localhost:8080/"
        },
        "outputId": "52b8152e-4b60-4be6-c6f1-a8bd39fe5b73"
      },
      "execution_count": 13,
      "outputs": [
        {
          "output_type": "execute_result",
          "data": {
            "text/plain": [
              "<tf.Tensor: shape=(50,), dtype=int32, numpy=\n",
              "array([-100,  -96,  -92,  -88,  -84,  -80,  -76,  -72,  -68,  -64,  -60,\n",
              "        -56,  -52,  -48,  -44,  -40,  -36,  -32,  -28,  -24,  -20,  -16,\n",
              "        -12,   -8,   -4,    0,    4,    8,   12,   16,   20,   24,   28,\n",
              "         32,   36,   40,   44,   48,   52,   56,   60,   64,   68,   72,\n",
              "         76,   80,   84,   88,   92,   96], dtype=int32)>"
            ]
          },
          "metadata": {},
          "execution_count": 13
        }
      ]
    },
    {
      "cell_type": "code",
      "source": [
        "# Make labels for the dataset\n",
        "y = X + 10\n",
        "y"
      ],
      "metadata": {
        "colab": {
          "base_uri": "https://localhost:8080/"
        },
        "id": "r68zcSQsBagK",
        "outputId": "916cd746-ec25-4d3e-edee-f7f867777ea5"
      },
      "execution_count": 14,
      "outputs": [
        {
          "output_type": "execute_result",
          "data": {
            "text/plain": [
              "<tf.Tensor: shape=(50,), dtype=int32, numpy=\n",
              "array([-90, -86, -82, -78, -74, -70, -66, -62, -58, -54, -50, -46, -42,\n",
              "       -38, -34, -30, -26, -22, -18, -14, -10,  -6,  -2,   2,   6,  10,\n",
              "        14,  18,  22,  26,  30,  34,  38,  42,  46,  50,  54,  58,  62,\n",
              "        66,  70,  74,  78,  82,  86,  90,  94,  98, 102, 106], dtype=int32)>"
            ]
          },
          "metadata": {},
          "execution_count": 14
        }
      ]
    },
    {
      "cell_type": "code",
      "source": [
        "# Visualize the data\n",
        "plt.scatter(X, y)"
      ],
      "metadata": {
        "colab": {
          "base_uri": "https://localhost:8080/",
          "height": 282
        },
        "id": "BMgQdWCQBhGq",
        "outputId": "8c952861-9368-4118-8d70-f8e42579b9f6"
      },
      "execution_count": 15,
      "outputs": [
        {
          "output_type": "execute_result",
          "data": {
            "text/plain": [
              "<matplotlib.collections.PathCollection at 0x7f7a759934f0>"
            ]
          },
          "metadata": {},
          "execution_count": 15
        },
        {
          "output_type": "display_data",
          "data": {
            "text/plain": [
              "<Figure size 432x288 with 1 Axes>"
            ],
            "image/png": "[encoded data removed]"
          },
          "metadata": {
            "needs_background": "light"
          }
        }
      ]
    },
    {
      "cell_type": "markdown",
      "source": [
        "### The 3 sets...\n",
        "\n",
        "* **Training set** - the model learns from this data, which is typically 70-80% of the total data you have available.\n",
        "* **Validation set** - the model gets tuned on this set of data, which is typically 10-15% of the data available\n",
        "* **Test set** - the model gets evaluated on this data to test what it has elarned, this set is typically 10-15% of the total data available."
      ],
      "metadata": {
        "id": "cRggunV_Bo0u"
      }
    },
    {
      "cell_type": "code",
      "source": [
        "# Check the length of how many samples we have\n",
        "len(X)"
      ],
      "metadata": {
        "id": "RTTTPyBgCCHX",
        "colab": {
          "base_uri": "https://localhost:8080/"
        },
        "outputId": "7591a3fd-dfb3-4510-8344-efc45e2296df"
      },
      "execution_count": 16,
      "outputs": [
        {
          "output_type": "execute_result",
          "data": {
            "text/plain": [
              "50"
            ]
          },
          "metadata": {},
          "execution_count": 16
        }
      ]
    },
    {
      "cell_type": "code",
      "source": [
        "# Split the data into train and test sets\n",
        "X_train = X[:40] # 80% of the data\n",
        "y_train = y[:40]\n",
        "X_test = X[40:] # last 20% of data\n",
        "y_test = y[40:]\n",
        "\n",
        "len(X_train), len(X_test)"
      ],
      "metadata": {
        "colab": {
          "base_uri": "https://localhost:8080/"
        },
        "id": "vjwb6YkZMkOl",
        "outputId": "afc448e8-62f3-43ae-ebc0-7d6fc8a1e5e6"
      },
      "execution_count": 17,
      "outputs": [
        {
          "output_type": "execute_result",
          "data": {
            "text/plain": [
              "(40, 10)"
            ]
          },
          "metadata": {},
          "execution_count": 17
        }
      ]
    },
    {
      "cell_type": "markdown",
      "source": [
        "### Visualizing the data\n",
        "Now we've got our data split intro training and test sets... let's visualize it again."
      ],
      "metadata": {
        "id": "FVq3dHZYNA8s"
      }
    },
    {
      "cell_type": "code",
      "source": [
        "plt.figure(figsize=(10, 6))\n",
        "# Plot training data in blue\n",
        "plt.scatter(X_train, y_train, c=\"b\", label=\"Training data\")\n",
        "plt.scatter(X_test, y_test, c=\"g\", label=\"Test data\")\n",
        "plt.legend();"
      ],
      "metadata": {
        "colab": {
          "base_uri": "https://localhost:8080/",
          "height": 374
        },
        "id": "jHILCIhCNR8g",
        "outputId": "94a12526-3930-4547-f2c0-01d489d95f13"
      },
      "execution_count": 19,
      "outputs": [
        {
          "output_type": "display_data",
          "data": {
            "text/plain": [
              "<Figure size 720x432 with 1 Axes>"
            ],
            "image/png": "[encoded data removed]"
          },
          "metadata": {
            "needs_background": "light"
          }
        }
      ]
    },
    {
      "cell_type": "code",
      "source": [
        "# Let's have a look at how to build a neural network for our data\n",
        "\n",
        "tf.random.set_seed(42)\n",
        "\n",
        "# 1. Create a model\n",
        "model = tf.keras.Sequential([\n",
        "    tf.keras.layers.Dense(1)\n",
        "])\n",
        "\n",
        "# 2. Compile the model\n",
        "model.compile(loss=tf.keras.losses.mae,\n",
        "              optimizer=tf.keras.optimizers.SGD(),\n",
        "              metrics=[\"mae\"])\n",
        "\n",
        "# 3. Fit the model\n",
        "# model.fit(tf.expand_dims(X_train, axis=-1), y_train, epochs=100) "
      ],
      "metadata": {
        "id": "FJLUDY05NeFG"
      },
      "execution_count": 20,
      "outputs": []
    },
    {
      "cell_type": "markdown",
      "source": [
        "### Visualizing the model"
      ],
      "metadata": {
        "id": "QVb6pf8QOY4Y"
      }
    },
    {
      "cell_type": "code",
      "source": [
        "# Let's create a model which builds automatically the input_shape argument in the first layer\n",
        "tf.random.set_seed(42)\n",
        "\n",
        "# Creaet a model \n",
        "model = tf.keras.Sequential([\n",
        "    tf.keras.layers.Dense(1, input_shape=[1])\n",
        "])\n",
        "\n",
        "# Compile the model\n",
        "model.compile(loss=tf.keras.losses.mae,\n",
        "              optimizer=tf.keras.optimizers.SGD(),\n",
        "              metrics=[\"mae\"])\n",
        "\n",
        "# Fit the model\n",
        "# model.fit(tf.expand_dims(X_train, axis=-1), y_train, epochs=100)"
      ],
      "metadata": {
        "id": "9FfBUvncOaXM"
      },
      "execution_count": 32,
      "outputs": []
    },
    {
      "cell_type": "code",
      "source": [
        "model.summary()"
      ],
      "metadata": {
        "colab": {
          "base_uri": "https://localhost:8080/"
        },
        "id": "yXVvLsfMPMrS",
        "outputId": "8b3e9cdf-6465-4b63-c8d0-cce76dc56565"
      },
      "execution_count": 33,
      "outputs": [
        {
          "output_type": "stream",
          "name": "stdout",
          "text": [
            "Model: \"sequential_8\"\n",
            "_________________________________________________________________\n",
            " Layer (type)                Output Shape              Param #   \n",
            "=================================================================\n",
            " dense_15 (Dense)            (None, 1)                 2         \n",
            "                                                                 \n",
            "=================================================================\n",
            "Total params: 2\n",
            "Trainable params: 2\n",
            "Non-trainable params: 0\n",
            "_________________________________________________________________\n"
          ]
        }
      ]
    },
    {
      "cell_type": "markdown",
      "source": [
        "* Total params - total number of parameters in the model.\n",
        "* Trainable parameters - these are the parameters (patterns) the model can update as it trains.\n",
        "* Non-trainable params - these parameters aren't updated during training (this is typical when you bring in already learn patterns or parameters from other models during **transfer learning**)"
      ],
      "metadata": {
        "id": "HdaC_bFOPNk3"
      }
    },
    {
      "cell_type": "code",
      "source": [
        "# Lets fit our model to training data\n",
        "model.fit(tf.expand_dims(X_train, axis=-1), y_train, epochs=100, verbose=0)"
      ],
      "metadata": {
        "colab": {
          "base_uri": "https://localhost:8080/"
        },
        "id": "muCMqKi-RKJo",
        "outputId": "d47bca6f-10ad-44fa-bd0d-a9963b786462"
      },
      "execution_count": 34,
      "outputs": [
        {
          "output_type": "execute_result",
          "data": {
            "text/plain": [
              "<keras.callbacks.History at 0x7f7a75d56400>"
            ]
          },
          "metadata": {},
          "execution_count": 34
        }
      ]
    },
    {
      "cell_type": "code",
      "source": [
        "# Get a summary of our model\n",
        "model.summary()"
      ],
      "metadata": {
        "colab": {
          "base_uri": "https://localhost:8080/"
        },
        "id": "cZCCFesDRN2Q",
        "outputId": "5ff977f6-610c-4a21-b86b-9e2fb301883f"
      },
      "execution_count": 35,
      "outputs": [
        {
          "output_type": "stream",
          "name": "stdout",
          "text": [
            "Model: \"sequential_8\"\n",
            "_________________________________________________________________\n",
            " Layer (type)                Output Shape              Param #   \n",
            "=================================================================\n",
            " dense_15 (Dense)            (None, 1)                 2         \n",
            "                                                                 \n",
            "=================================================================\n",
            "Total params: 2\n",
            "Trainable params: 2\n",
            "Non-trainable params: 0\n",
            "_________________________________________________________________\n"
          ]
        }
      ]
    },
    {
      "cell_type": "code",
      "source": [
        "from tensorflow.keras.utils import plot_model\n",
        "\n",
        "plot_model(model, show_shapes=True)"
      ],
      "metadata": {
        "colab": {
          "base_uri": "https://localhost:8080/",
          "height": 201
        },
        "id": "zakdCOcHRk8S",
        "outputId": "60e3d247-8565-4122-c5e5-2efb2ebcf38a"
      },
      "execution_count": 39,
      "outputs": [
        {
          "output_type": "execute_result",
          "data": {
            "image/png": "[encoded data removed]",
            "text/plain": [
              "<IPython.core.display.Image object>"
            ]
          },
          "metadata": {},
          "execution_count": 39
        }
      ]
    },
    {
      "cell_type": "markdown",
      "source": [
        "### Visualizing our model's predictions"
      ],
      "metadata": {
        "id": "C_T4OGi_R8_m"
      }
    },
    {
      "cell_type": "code",
      "source": [],
      "metadata": {
        "id": "5-5SwlyrSuEK"
      },
      "execution_count": null,
      "outputs": []
    }
  ]
}