{
  "nbformat": 4,
  "nbformat_minor": 0,
  "metadata": {
    "colab": {
      "provenance": []
    },
    "kernelspec": {
      "name": "python3",
      "display_name": "Python 3"
    },
    "language_info": {
      "name": "python"
    }
  },
  "cells": [
    {
      "cell_type": "markdown",
      "source": [
        "# Introduction to Regression with Neural Networks in TensorFlow\n",
        "\n",
        "There are many definitions for a regression problem but in our case, we're going to simplify it: predicting a numerical variable based on some other combination of variables, even shorter... predicting a number."
      ],
      "metadata": {
        "id": "HuDIfTGhwlim"
      }
    },
    {
      "cell_type": "code",
      "source": [
        "# Import tensorflow\n",
        "import tensorflow as tf\n",
        "print(tf.__version__)"
      ],
      "metadata": {
        "colab": {
          "base_uri": "https://localhost:8080/"
        },
        "id": "gKrNPRyfw9o_",
        "outputId": "ad3f9720-cd8f-4b32-aea1-d094911c70e6"
      },
      "execution_count": null,
      "outputs": [
        {
          "output_type": "stream",
          "name": "stdout",
          "text": [
            "2.11.0\n"
          ]
        }
      ]
    },
    {
      "cell_type": "markdown",
      "source": [
        "# Creating data to view and fit"
      ],
      "metadata": {
        "id": "sDbOY4xoxDgB"
      }
    },
    {
      "cell_type": "code",
      "source": [
        "import numpy as np\n",
        "import matplotlib.pyplot as plt\n",
        "\n",
        "# Create features\n",
        "X = np.array([-7.0, -4.0, -1.0, 2.0, 5.0, 8.0, 11.0, 14.0])\n",
        "\n",
        "# Create labels\n",
        "y = np.array([3.0, 6.0, 9.0, 12.0, 15.0, 18.0, 21.0, 24.0])\n",
        "\n",
        "# Visualize it\n",
        "plt.scatter(X, y);"
      ],
      "metadata": {
        "colab": {
          "base_uri": "https://localhost:8080/",
          "height": 269
        },
        "id": "BrzPUpxuxX8J",
        "outputId": "50015c8b-9827-4d05-a61f-2bcabdd801e0"
      },
      "execution_count": null,
      "outputs": [
        {
          "output_type": "display_data",
          "data": {
            "text/plain": [
              "<Figure size 432x288 with 1 Axes>"
            ],
            "image/png": "[encoded data removed]"
          },
          "metadata": {
            "needs_background": "light"
          }
        }
      ]
    },
    {
      "cell_type": "markdown",
      "source": [
        "## Input and output shapes"
      ],
      "metadata": {
        "id": "M9gS9ZGD02rM"
      }
    },
    {
      "cell_type": "code",
      "source": [
        "# Create a demo tensor for our housing price prediction problem\n",
        "house_info = tf.constant([\"bedroom\", \"bathroom\", \"garage\"])\n",
        "house_price = tf.constant([939700])\n",
        "house_info, house_price"
      ],
      "metadata": {
        "colab": {
          "base_uri": "https://localhost:8080/"
        },
        "id": "Mtv8AaJQxm4w",
        "outputId": "8d36c66d-01c1-4a69-bbb6-ca00b647b91c"
      },
      "execution_count": null,
      "outputs": [
        {
          "output_type": "execute_result",
          "data": {
            "text/plain": [
              "(<tf.Tensor: shape=(3,), dtype=string, numpy=array([b'bedroom', b'bathroom', b'garage'], dtype=object)>,\n",
              " <tf.Tensor: shape=(1,), dtype=int32, numpy=array([939700], dtype=int32)>)"
            ]
          },
          "metadata": {},
          "execution_count": 5
        }
      ]
    },
    {
      "cell_type": "code",
      "source": [
        "input_shape = X.shape\n",
        "output_shape = y.shape\n",
        "\n",
        "input_shape, output_shape"
      ],
      "metadata": {
        "colab": {
          "base_uri": "https://localhost:8080/"
        },
        "id": "Sv8I0TuJ0xFP",
        "outputId": "052449f8-893c-4797-8c69-1ad0ab91fc6b"
      },
      "execution_count": null,
      "outputs": [
        {
          "output_type": "execute_result",
          "data": {
            "text/plain": [
              "((8,), (8,))"
            ]
          },
          "metadata": {},
          "execution_count": 6
        }
      ]
    },
    {
      "cell_type": "code",
      "source": [
        "# Turn our numpyt arrays into tensors\n",
        "X = tf.cast(tf.constant(X), dtype=tf.float32)\n",
        "y = tf.cast(tf.constant(y), dtype=tf.float32)\n",
        "\n",
        "X, y"
      ],
      "metadata": {
        "colab": {
          "base_uri": "https://localhost:8080/"
        },
        "id": "wGMuH7-U1s2h",
        "outputId": "f1107ed3-220f-4bd4-b3f5-6a6525336718"
      },
      "execution_count": null,
      "outputs": [
        {
          "output_type": "execute_result",
          "data": {
            "text/plain": [
              "(<tf.Tensor: shape=(8,), dtype=float32, numpy=array([-7., -4., -1.,  2.,  5.,  8., 11., 14.], dtype=float32)>,\n",
              " <tf.Tensor: shape=(8,), dtype=float32, numpy=array([ 3.,  6.,  9., 12., 15., 18., 21., 24.], dtype=float32)>)"
            ]
          },
          "metadata": {},
          "execution_count": 14
        }
      ]
    },
    {
      "cell_type": "markdown",
      "source": [
        "## Steps in modelling with TensorFlow\n",
        "\n",
        "1. **Creating a model** - define the input and output layers, as well as the hidden layers of a deep learning model.\n",
        "2. **Compiling a model** - define the loss function (in other words, the function which tells our model how wrong it is) and the optimizer (tells our model how to improve the patterns its learning) and evaluation metrics (what we can use to interpret the performance of our model)\n",
        "3. **Fitting a model** - letting the model try to find patterns between X & y (features and labels)."
      ],
      "metadata": {
        "id": "g1QSjt8V2E2s"
      }
    },
    {
      "cell_type": "code",
      "source": [
        "# Set random seed\n",
        "tf.random.set_seed(42)\n",
        "\n",
        "# 1. Create a model usiong the Sequential API\n",
        "model = tf.keras.Sequential([\n",
        "    tf.keras.layers.Dense(1)\n",
        "])\n",
        "\n",
        "# 2. Compile the model\n",
        "model.compile(loss=tf.keras.losses.mae,\n",
        "              optimizer=tf.keras.optimizers.SGD(), # sgd is short for stochastic gradient descent\n",
        "              metrics=[\"mae\"])\n",
        "\n",
        "# 3. Fit the model\n",
        "model.fit(tf.expand_dims(X, axis=-1), y, epochs=50)"
      ],
      "metadata": {
        "colab": {
          "base_uri": "https://localhost:8080/"
        },
        "id": "W2HTZ-5L26gp",
        "outputId": "171370df-160e-4b1b-a196-0562280070ed"
      },
      "execution_count": null,
      "outputs": [
        {
          "output_type": "stream",
          "name": "stdout",
          "text": [
            "Epoch 1/50\n",
            "1/1 [==============================] - 1s 1s/step - loss: 11.0296 - mae: 11.0296\n",
            "Epoch 2/50\n",
            "1/1 [==============================] - 0s 15ms/step - loss: 10.8971 - mae: 10.8971\n",
            "Epoch 3/50\n",
            "1/1 [==============================] - 0s 13ms/step - loss: 10.7646 - mae: 10.7646\n",
            "Epoch 4/50\n",
            "1/1 [==============================] - 0s 13ms/step - loss: 10.6321 - mae: 10.6321\n",
            "Epoch 5/50\n",
            "1/1 [==============================] - 0s 17ms/step - loss: 10.4995 - mae: 10.4995\n",
            "Epoch 6/50\n",
            "1/1 [==============================] - 0s 17ms/step - loss: 10.3671 - mae: 10.3671\n",
            "Epoch 7/50\n",
            "1/1 [==============================] - 0s 13ms/step - loss: 10.2346 - mae: 10.2346\n",
            "Epoch 8/50\n",
            "1/1 [==============================] - 0s 13ms/step - loss: 10.1021 - mae: 10.1021\n",
            "Epoch 9/50\n",
            "1/1 [==============================] - 0s 12ms/step - loss: 9.9696 - mae: 9.9696\n",
            "Epoch 10/50\n",
            "1/1 [==============================] - 0s 10ms/step - loss: 9.8370 - mae: 9.8370\n",
            "Epoch 11/50\n",
            "1/1 [==============================] - 0s 11ms/step - loss: 9.7045 - mae: 9.7045\n",
            "Epoch 12/50\n",
            "1/1 [==============================] - 0s 11ms/step - loss: 9.5721 - mae: 9.5721\n",
            "Epoch 13/50\n",
            "1/1 [==============================] - 0s 14ms/step - loss: 9.4396 - mae: 9.4396\n",
            "Epoch 14/50\n",
            "1/1 [==============================] - 0s 15ms/step - loss: 9.3071 - mae: 9.3071\n",
            "Epoch 15/50\n",
            "1/1 [==============================] - 0s 15ms/step - loss: 9.1746 - mae: 9.1746\n",
            "Epoch 16/50\n",
            "1/1 [==============================] - 0s 13ms/step - loss: 9.0421 - mae: 9.0421\n",
            "Epoch 17/50\n",
            "1/1 [==============================] - 0s 15ms/step - loss: 8.9096 - mae: 8.9096\n",
            "Epoch 18/50\n",
            "1/1 [==============================] - 0s 14ms/step - loss: 8.7771 - mae: 8.7771\n",
            "Epoch 19/50\n",
            "1/1 [==============================] - 0s 14ms/step - loss: 8.6446 - mae: 8.6446\n",
            "Epoch 20/50\n",
            "1/1 [==============================] - 0s 14ms/step - loss: 8.5121 - mae: 8.5121\n",
            "Epoch 21/50\n",
            "1/1 [==============================] - 0s 12ms/step - loss: 8.3796 - mae: 8.3796\n",
            "Epoch 22/50\n",
            "1/1 [==============================] - 0s 14ms/step - loss: 8.2471 - mae: 8.2471\n",
            "Epoch 23/50\n",
            "1/1 [==============================] - 0s 19ms/step - loss: 8.1146 - mae: 8.1146\n",
            "Epoch 24/50\n",
            "1/1 [==============================] - 0s 17ms/step - loss: 7.9821 - mae: 7.9821\n",
            "Epoch 25/50\n",
            "1/1 [==============================] - 0s 17ms/step - loss: 7.8496 - mae: 7.8496\n",
            "Epoch 26/50\n",
            "1/1 [==============================] - 0s 12ms/step - loss: 7.7171 - mae: 7.7171\n",
            "Epoch 27/50\n",
            "1/1 [==============================] - 0s 20ms/step - loss: 7.5846 - mae: 7.5846\n",
            "Epoch 28/50\n",
            "1/1 [==============================] - 0s 13ms/step - loss: 7.4521 - mae: 7.4521\n",
            "Epoch 29/50\n",
            "1/1 [==============================] - 0s 13ms/step - loss: 7.3196 - mae: 7.3196\n",
            "Epoch 30/50\n",
            "1/1 [==============================] - 0s 11ms/step - loss: 7.2825 - mae: 7.2825\n",
            "Epoch 31/50\n",
            "1/1 [==============================] - 0s 10ms/step - loss: 7.2769 - mae: 7.2769\n",
            "Epoch 32/50\n",
            "1/1 [==============================] - 0s 14ms/step - loss: 7.2712 - mae: 7.2712\n",
            "Epoch 33/50\n",
            "1/1 [==============================] - 0s 12ms/step - loss: 7.2656 - mae: 7.2656\n",
            "Epoch 34/50\n",
            "1/1 [==============================] - 0s 16ms/step - loss: 7.2600 - mae: 7.2600\n",
            "Epoch 35/50\n",
            "1/1 [==============================] - 0s 12ms/step - loss: 7.2544 - mae: 7.2544\n",
            "Epoch 36/50\n",
            "1/1 [==============================] - 0s 15ms/step - loss: 7.2487 - mae: 7.2487\n",
            "Epoch 37/50\n",
            "1/1 [==============================] - 0s 21ms/step - loss: 7.2431 - mae: 7.2431\n",
            "Epoch 38/50\n",
            "1/1 [==============================] - 0s 22ms/step - loss: 7.2375 - mae: 7.2375\n",
            "Epoch 39/50\n",
            "1/1 [==============================] - 0s 19ms/step - loss: 7.2319 - mae: 7.2319\n",
            "Epoch 40/50\n",
            "1/1 [==============================] - 0s 15ms/step - loss: 7.2263 - mae: 7.2263\n",
            "Epoch 41/50\n",
            "1/1 [==============================] - 0s 18ms/step - loss: 7.2206 - mae: 7.2206\n",
            "Epoch 42/50\n",
            "1/1 [==============================] - 0s 20ms/step - loss: 7.2150 - mae: 7.2150\n",
            "Epoch 43/50\n",
            "1/1 [==============================] - 0s 15ms/step - loss: 7.2094 - mae: 7.2094\n",
            "Epoch 44/50\n",
            "1/1 [==============================] - 0s 13ms/step - loss: 7.2037 - mae: 7.2037\n",
            "Epoch 45/50\n",
            "1/1 [==============================] - 0s 13ms/step - loss: 7.1981 - mae: 7.1981\n",
            "Epoch 46/50\n",
            "1/1 [==============================] - 0s 16ms/step - loss: 7.1925 - mae: 7.1925\n",
            "Epoch 47/50\n",
            "1/1 [==============================] - 0s 15ms/step - loss: 7.1869 - mae: 7.1869\n",
            "Epoch 48/50\n",
            "1/1 [==============================] - 0s 15ms/step - loss: 7.1812 - mae: 7.1812\n",
            "Epoch 49/50\n",
            "1/1 [==============================] - 0s 17ms/step - loss: 7.1756 - mae: 7.1756\n",
            "Epoch 50/50\n",
            "1/1 [==============================] - 0s 15ms/step - loss: 7.1700 - mae: 7.1700\n"
          ]
        },
        {
          "output_type": "execute_result",
          "data": {
            "text/plain": [
              "<keras.callbacks.History at 0x7f82c0735fd0>"
            ]
          },
          "metadata": {},
          "execution_count": 19
        }
      ]
    },
    {
      "cell_type": "code",
      "source": [
        "# Check out X and y\n",
        "X, y"
      ],
      "metadata": {
        "colab": {
          "base_uri": "https://localhost:8080/"
        },
        "id": "y58VJBIf09t-",
        "outputId": "97d52529-e120-4185-9e80-4495be7fd4e9"
      },
      "execution_count": null,
      "outputs": [
        {
          "output_type": "execute_result",
          "data": {
            "text/plain": [
              "(<tf.Tensor: shape=(8,), dtype=float32, numpy=array([-7., -4., -1.,  2.,  5.,  8., 11., 14.], dtype=float32)>,\n",
              " <tf.Tensor: shape=(8,), dtype=float32, numpy=array([ 3.,  6.,  9., 12., 15., 18., 21., 24.], dtype=float32)>)"
            ]
          },
          "metadata": {},
          "execution_count": 20
        }
      ]
    },
    {
      "cell_type": "code",
      "source": [
        "# Try and make a prediction using our model\n",
        "model.predict([37.0])"
      ],
      "metadata": {
        "colab": {
          "base_uri": "https://localhost:8080/"
        },
        "id": "1k3s2yxj6GXy",
        "outputId": "aed95df5-fb77-488f-dbd4-31ac2eae70b2"
      },
      "execution_count": null,
      "outputs": [
        {
          "output_type": "stream",
          "name": "stdout",
          "text": [
            "1/1 [==============================] - 0s 50ms/step\n"
          ]
        },
        {
          "output_type": "execute_result",
          "data": {
            "text/plain": [
              "array([[64.11866]], dtype=float32)"
            ]
          },
          "metadata": {},
          "execution_count": 22
        }
      ]
    },
    {
      "cell_type": "markdown",
      "source": [
        "## Improving our model\n",
        "\n",
        "We can improve our model, by altering the steps we took to create a model.\n",
        "\n",
        "1. **Creating a model** - here we might add more layers, increase the number of hidden units (all caled neurons), within each of the hidden layers, change the activation function of each layers.\n",
        "2. **Compiling a model** - here we might change the optimization function or perhaps the **learning rate** of the optimization function.\n",
        "3. **Fitting a model** - here we might fit a model for more **epochs** (leave it training for longer) or on more data (give the model more examples to learn from)."
      ],
      "metadata": {
        "id": "XVNS3sDa6KsR"
      }
    },
    {
      "cell_type": "code",
      "source": [
        "# Let's rebuild our model\n",
        "\n",
        "# 1. Create the model\n",
        "model = tf.keras.Sequential([\n",
        "    tf.keras.layers.Dense(50, activation=None),\n",
        "    tf.keras.layers.Dense(1)\n",
        "])\n",
        "\n",
        "# 2. Compile the model\n",
        "model.compile(loss=tf.keras.losses.mae,\n",
        "              optimizer=tf.keras.optimizers.Adam(learning_rate=0.01),\n",
        "              metrics=[\"mae\"])\n",
        "\n",
        "# 3. Fit the model (this time we'll train for longer)\n",
        "model.fit(tf.expand_dims(X, axis=-1), y, epochs=100)"
      ],
      "metadata": {
        "colab": {
          "base_uri": "https://localhost:8080/"
        },
        "id": "d81cwv9I7yrb",
        "outputId": "842e1656-31e5-413a-d20e-4e5788d2c8fc"
      },
      "execution_count": null,
      "outputs": [
        {
          "output_type": "stream",
          "name": "stdout",
          "text": [
            "Epoch 1/100\n",
            "1/1 [==============================] - 2s 2s/step - loss: 10.6319 - mae: 10.6319\n",
            "Epoch 2/100\n",
            "1/1 [==============================] - 0s 18ms/step - loss: 9.8870 - mae: 9.8870\n",
            "Epoch 3/100\n",
            "1/1 [==============================] - 0s 12ms/step - loss: 9.1285 - mae: 9.1285\n",
            "Epoch 4/100\n",
            "1/1 [==============================] - 0s 17ms/step - loss: 8.3531 - mae: 8.3531\n",
            "Epoch 5/100\n",
            "1/1 [==============================] - 0s 13ms/step - loss: 7.5590 - mae: 7.5590\n",
            "Epoch 6/100\n",
            "1/1 [==============================] - 0s 13ms/step - loss: 7.0991 - mae: 7.0991\n",
            "Epoch 7/100\n",
            "1/1 [==============================] - 0s 14ms/step - loss: 7.2968 - mae: 7.2968\n",
            "Epoch 8/100\n",
            "1/1 [==============================] - 0s 15ms/step - loss: 7.5372 - mae: 7.5372\n",
            "Epoch 9/100\n",
            "1/1 [==============================] - 0s 12ms/step - loss: 7.6334 - mae: 7.6334\n",
            "Epoch 10/100\n",
            "1/1 [==============================] - 0s 15ms/step - loss: 7.6175 - mae: 7.6175\n",
            "Epoch 11/100\n",
            "1/1 [==============================] - 0s 13ms/step - loss: 7.5146 - mae: 7.5146\n",
            "Epoch 12/100\n",
            "1/1 [==============================] - 0s 12ms/step - loss: 7.3438 - mae: 7.3438\n",
            "Epoch 13/100\n",
            "1/1 [==============================] - 0s 20ms/step - loss: 7.1204 - mae: 7.1204\n",
            "Epoch 14/100\n",
            "1/1 [==============================] - 0s 11ms/step - loss: 6.8563 - mae: 6.8563\n",
            "Epoch 15/100\n",
            "1/1 [==============================] - 0s 11ms/step - loss: 6.5609 - mae: 6.5609\n",
            "Epoch 16/100\n",
            "1/1 [==============================] - 0s 12ms/step - loss: 6.3976 - mae: 6.3976\n",
            "Epoch 17/100\n",
            "1/1 [==============================] - 0s 12ms/step - loss: 6.3408 - mae: 6.3408\n",
            "Epoch 18/100\n",
            "1/1 [==============================] - 0s 15ms/step - loss: 6.4539 - mae: 6.4539\n",
            "Epoch 19/100\n",
            "1/1 [==============================] - 0s 10ms/step - loss: 6.5006 - mae: 6.5006\n",
            "Epoch 20/100\n",
            "1/1 [==============================] - 0s 11ms/step - loss: 6.4222 - mae: 6.4222\n",
            "Epoch 21/100\n",
            "1/1 [==============================] - 0s 11ms/step - loss: 6.2371 - mae: 6.2371\n",
            "Epoch 22/100\n",
            "1/1 [==============================] - 0s 11ms/step - loss: 5.9584 - mae: 5.9584\n",
            "Epoch 23/100\n",
            "1/1 [==============================] - 0s 12ms/step - loss: 5.8380 - mae: 5.8380\n",
            "Epoch 24/100\n",
            "1/1 [==============================] - 0s 12ms/step - loss: 5.7292 - mae: 5.7292\n",
            "Epoch 25/100\n",
            "1/1 [==============================] - 0s 12ms/step - loss: 5.7842 - mae: 5.7842\n",
            "Epoch 26/100\n",
            "1/1 [==============================] - 0s 11ms/step - loss: 5.7994 - mae: 5.7994\n",
            "Epoch 27/100\n",
            "1/1 [==============================] - 0s 11ms/step - loss: 5.7545 - mae: 5.7545\n",
            "Epoch 28/100\n",
            "1/1 [==============================] - 0s 11ms/step - loss: 5.6549 - mae: 5.6549\n",
            "Epoch 29/100\n",
            "1/1 [==============================] - 0s 12ms/step - loss: 5.5058 - mae: 5.5058\n",
            "Epoch 30/100\n",
            "1/1 [==============================] - 0s 12ms/step - loss: 5.3121 - mae: 5.3121\n",
            "Epoch 31/100\n",
            "1/1 [==============================] - 0s 12ms/step - loss: 5.0780 - mae: 5.0780\n",
            "Epoch 32/100\n",
            "1/1 [==============================] - 0s 18ms/step - loss: 4.9389 - mae: 4.9389\n",
            "Epoch 33/100\n",
            "1/1 [==============================] - 0s 20ms/step - loss: 4.8429 - mae: 4.8429\n",
            "Epoch 34/100\n",
            "1/1 [==============================] - 0s 12ms/step - loss: 4.8500 - mae: 4.8500\n",
            "Epoch 35/100\n",
            "1/1 [==============================] - 0s 14ms/step - loss: 4.7822 - mae: 4.7822\n",
            "Epoch 36/100\n",
            "1/1 [==============================] - 0s 11ms/step - loss: 4.5837 - mae: 4.5837\n",
            "Epoch 37/100\n",
            "1/1 [==============================] - 0s 12ms/step - loss: 4.3305 - mae: 4.3305\n",
            "Epoch 38/100\n",
            "1/1 [==============================] - 0s 12ms/step - loss: 4.1726 - mae: 4.1726\n",
            "Epoch 39/100\n",
            "1/1 [==============================] - 0s 13ms/step - loss: 4.0307 - mae: 4.0307\n",
            "Epoch 40/100\n",
            "1/1 [==============================] - 0s 13ms/step - loss: 3.9402 - mae: 3.9402\n",
            "Epoch 41/100\n",
            "1/1 [==============================] - 0s 13ms/step - loss: 3.7871 - mae: 3.7871\n",
            "Epoch 42/100\n",
            "1/1 [==============================] - 0s 13ms/step - loss: 3.5756 - mae: 3.5756\n",
            "Epoch 43/100\n",
            "1/1 [==============================] - 0s 12ms/step - loss: 3.3783 - mae: 3.3783\n",
            "Epoch 44/100\n",
            "1/1 [==============================] - 0s 12ms/step - loss: 3.2136 - mae: 3.2136\n",
            "Epoch 45/100\n",
            "1/1 [==============================] - 0s 12ms/step - loss: 3.0654 - mae: 3.0654\n",
            "Epoch 46/100\n",
            "1/1 [==============================] - 0s 14ms/step - loss: 2.8420 - mae: 2.8420\n",
            "Epoch 47/100\n",
            "1/1 [==============================] - 0s 12ms/step - loss: 2.6359 - mae: 2.6359\n",
            "Epoch 48/100\n",
            "1/1 [==============================] - 0s 13ms/step - loss: 2.4198 - mae: 2.4198\n",
            "Epoch 49/100\n",
            "1/1 [==============================] - 0s 13ms/step - loss: 2.1937 - mae: 2.1937\n",
            "Epoch 50/100\n",
            "1/1 [==============================] - 0s 13ms/step - loss: 2.0034 - mae: 2.0034\n",
            "Epoch 51/100\n",
            "1/1 [==============================] - 0s 12ms/step - loss: 1.7569 - mae: 1.7569\n",
            "Epoch 52/100\n",
            "1/1 [==============================] - 0s 13ms/step - loss: 1.4910 - mae: 1.4910\n",
            "Epoch 53/100\n",
            "1/1 [==============================] - 0s 12ms/step - loss: 1.2982 - mae: 1.2982\n",
            "Epoch 54/100\n",
            "1/1 [==============================] - 0s 12ms/step - loss: 0.9762 - mae: 0.9762\n",
            "Epoch 55/100\n",
            "1/1 [==============================] - 0s 11ms/step - loss: 0.7160 - mae: 0.7160\n",
            "Epoch 56/100\n",
            "1/1 [==============================] - 0s 11ms/step - loss: 0.4222 - mae: 0.4222\n",
            "Epoch 57/100\n",
            "1/1 [==============================] - 0s 13ms/step - loss: 0.2449 - mae: 0.2449\n",
            "Epoch 58/100\n",
            "1/1 [==============================] - 0s 15ms/step - loss: 0.2207 - mae: 0.2207\n",
            "Epoch 59/100\n",
            "1/1 [==============================] - 0s 12ms/step - loss: 0.6204 - mae: 0.6204\n",
            "Epoch 60/100\n",
            "1/1 [==============================] - 0s 12ms/step - loss: 0.8453 - mae: 0.8453\n",
            "Epoch 61/100\n",
            "1/1 [==============================] - 0s 12ms/step - loss: 0.8111 - mae: 0.8111\n",
            "Epoch 62/100\n",
            "1/1 [==============================] - 0s 10ms/step - loss: 0.8702 - mae: 0.8702\n",
            "Epoch 63/100\n",
            "1/1 [==============================] - 0s 10ms/step - loss: 0.9704 - mae: 0.9704\n",
            "Epoch 64/100\n",
            "1/1 [==============================] - 0s 12ms/step - loss: 0.8339 - mae: 0.8339\n",
            "Epoch 65/100\n",
            "1/1 [==============================] - 0s 15ms/step - loss: 0.8403 - mae: 0.8403\n",
            "Epoch 66/100\n",
            "1/1 [==============================] - 0s 12ms/step - loss: 0.7994 - mae: 0.7994\n",
            "Epoch 67/100\n",
            "1/1 [==============================] - 0s 11ms/step - loss: 0.5742 - mae: 0.5742\n",
            "Epoch 68/100\n",
            "1/1 [==============================] - 0s 20ms/step - loss: 0.5357 - mae: 0.5357\n",
            "Epoch 69/100\n",
            "1/1 [==============================] - 0s 13ms/step - loss: 0.3574 - mae: 0.3574\n",
            "Epoch 70/100\n",
            "1/1 [==============================] - 0s 12ms/step - loss: 0.2823 - mae: 0.2823\n",
            "Epoch 71/100\n",
            "1/1 [==============================] - 0s 12ms/step - loss: 0.2815 - mae: 0.2815\n",
            "Epoch 72/100\n",
            "1/1 [==============================] - 0s 14ms/step - loss: 0.1829 - mae: 0.1829\n",
            "Epoch 73/100\n",
            "1/1 [==============================] - 0s 12ms/step - loss: 0.3095 - mae: 0.3095\n",
            "Epoch 74/100\n",
            "1/1 [==============================] - 0s 11ms/step - loss: 0.2995 - mae: 0.2995\n",
            "Epoch 75/100\n",
            "1/1 [==============================] - 0s 12ms/step - loss: 0.3249 - mae: 0.3249\n",
            "Epoch 76/100\n",
            "1/1 [==============================] - 0s 12ms/step - loss: 0.3093 - mae: 0.3093\n",
            "Epoch 77/100\n",
            "1/1 [==============================] - 0s 12ms/step - loss: 0.2801 - mae: 0.2801\n",
            "Epoch 78/100\n",
            "1/1 [==============================] - 0s 11ms/step - loss: 0.2125 - mae: 0.2125\n",
            "Epoch 79/100\n",
            "1/1 [==============================] - 0s 11ms/step - loss: 0.2258 - mae: 0.2258\n",
            "Epoch 80/100\n",
            "1/1 [==============================] - 0s 12ms/step - loss: 0.2031 - mae: 0.2031\n",
            "Epoch 81/100\n",
            "1/1 [==============================] - 0s 12ms/step - loss: 0.1682 - mae: 0.1682\n",
            "Epoch 82/100\n",
            "1/1 [==============================] - 0s 11ms/step - loss: 0.2673 - mae: 0.2673\n",
            "Epoch 83/100\n",
            "1/1 [==============================] - 0s 11ms/step - loss: 0.1849 - mae: 0.1849\n",
            "Epoch 84/100\n",
            "1/1 [==============================] - 0s 11ms/step - loss: 0.3125 - mae: 0.3125\n",
            "Epoch 85/100\n",
            "1/1 [==============================] - 0s 11ms/step - loss: 0.2929 - mae: 0.2929\n",
            "Epoch 86/100\n",
            "1/1 [==============================] - 0s 12ms/step - loss: 0.0794 - mae: 0.0794\n",
            "Epoch 87/100\n",
            "1/1 [==============================] - 0s 11ms/step - loss: 0.0941 - mae: 0.0941\n",
            "Epoch 88/100\n",
            "1/1 [==============================] - 0s 12ms/step - loss: 0.2297 - mae: 0.2297\n",
            "Epoch 89/100\n",
            "1/1 [==============================] - 0s 11ms/step - loss: 0.2136 - mae: 0.2136\n",
            "Epoch 90/100\n",
            "1/1 [==============================] - 0s 11ms/step - loss: 0.1043 - mae: 0.1043\n",
            "Epoch 91/100\n",
            "1/1 [==============================] - 0s 12ms/step - loss: 0.0799 - mae: 0.0799\n",
            "Epoch 92/100\n",
            "1/1 [==============================] - 0s 12ms/step - loss: 0.1941 - mae: 0.1941\n",
            "Epoch 93/100\n",
            "1/1 [==============================] - 0s 12ms/step - loss: 0.0896 - mae: 0.0896\n",
            "Epoch 94/100\n",
            "1/1 [==============================] - 0s 12ms/step - loss: 0.3184 - mae: 0.3184\n",
            "Epoch 95/100\n",
            "1/1 [==============================] - 0s 12ms/step - loss: 0.3770 - mae: 0.3770\n",
            "Epoch 96/100\n",
            "1/1 [==============================] - 0s 17ms/step - loss: 0.1595 - mae: 0.1595\n",
            "Epoch 97/100\n",
            "1/1 [==============================] - 0s 20ms/step - loss: 0.3043 - mae: 0.3043\n",
            "Epoch 98/100\n",
            "1/1 [==============================] - 0s 13ms/step - loss: 0.3681 - mae: 0.3681\n",
            "Epoch 99/100\n",
            "1/1 [==============================] - 0s 12ms/step - loss: 0.1308 - mae: 0.1308\n",
            "Epoch 100/100\n",
            "1/1 [==============================] - 0s 11ms/step - loss: 0.3708 - mae: 0.3708\n"
          ]
        },
        {
          "output_type": "execute_result",
          "data": {
            "text/plain": [
              "<keras.callbacks.History at 0x7f82b9581850>"
            ]
          },
          "metadata": {},
          "execution_count": 56
        }
      ]
    },
    {
      "cell_type": "code",
      "source": [
        "# Remind ourselves of the data\n",
        "X, y"
      ],
      "metadata": {
        "colab": {
          "base_uri": "https://localhost:8080/"
        },
        "id": "nK4bHYM59Ed7",
        "outputId": "6bf8f73e-29ed-4603-9d71-4ede006c0c39"
      },
      "execution_count": null,
      "outputs": [
        {
          "output_type": "execute_result",
          "data": {
            "text/plain": [
              "(<tf.Tensor: shape=(8,), dtype=float32, numpy=array([-7., -4., -1.,  2.,  5.,  8., 11., 14.], dtype=float32)>,\n",
              " <tf.Tensor: shape=(8,), dtype=float32, numpy=array([ 3.,  6.,  9., 12., 15., 18., 21., 24.], dtype=float32)>)"
            ]
          },
          "metadata": {},
          "execution_count": 25
        }
      ]
    },
    {
      "cell_type": "code",
      "source": [
        "# Let's see if our model's prediction has improved\n",
        "model.predict([17.0])"
      ],
      "metadata": {
        "colab": {
          "base_uri": "https://localhost:8080/"
        },
        "id": "rNm1_p_O9afF",
        "outputId": "7b8d1e9a-64c4-4bd6-c371-3b07752a2f91"
      },
      "execution_count": null,
      "outputs": [
        {
          "output_type": "stream",
          "name": "stdout",
          "text": [
            "1/1 [==============================] - 0s 86ms/step\n"
          ]
        },
        {
          "output_type": "execute_result",
          "data": {
            "text/plain": [
              "array([[28.38361]], dtype=float32)"
            ]
          },
          "metadata": {},
          "execution_count": 58
        }
      ]
    },
    {
      "cell_type": "code",
      "source": [
        "fig, ax = plt.subplots(figsize=(10, 6))\n",
        "\n",
        "x = np.arange(0, 50, 1)\n",
        "ax.plot(x, x + 10, c=\"r\")\n",
        "ax.plot(x, model.predict(x), c=\"b\");"
      ],
      "metadata": {
        "colab": {
          "base_uri": "https://localhost:8080/",
          "height": 391
        },
        "id": "np9wh0v29c9K",
        "outputId": "f0e8737a-d574-496f-ce20-9888b5903506"
      },
      "execution_count": null,
      "outputs": [
        {
          "output_type": "stream",
          "name": "stdout",
          "text": [
            "2/2 [==============================] - 0s 5ms/step\n"
          ]
        },
        {
          "output_type": "display_data",
          "data": {
            "text/plain": [
              "<Figure size 720x432 with 1 Axes>"
            ],
            "image/png": "[encoded data removed]"
          },
          "metadata": {
            "needs_background": "light"
          }
        }
      ]
    },
    {
      "cell_type": "markdown",
      "source": [
        "# Evaluating a model\n",
        "\n",
        "In practice, a typical workflow you'll go through when building neural networks is:\n",
        "\n",
        "```\n",
        "Build a model -> fit it -> evaluate it -> tweak a model -> fit it -> evaluate it -> tweak a model -> fit it -> evaluate it...\n",
        "```"
      ],
      "metadata": {
        "id": "GvR_UoiW_Dc-"
      }
    },
    {
      "cell_type": "markdown",
      "source": [
        "When it comes to evaluation... There are 3 words you should memorize:\n",
        "\n",
        "> \"Visualize, visualize, visualize\"\n",
        "\n",
        "It's a good idea to visualize::\n",
        "* the data = what data are we working with? What does it look like?\n",
        "* The model itself - what does our model look like?\n",
        "* The training of a model - how does a model perform while it learns?\n",
        "* The predictions of the model - how do the predictions of a model line up against the ground truth (the original labels)?"
      ],
      "metadata": {
        "id": "MEEY3uCMAmV5"
      }
    },
    {
      "cell_type": "code",
      "source": [
        "# Make a bigger dataset\n",
        "X = tf.range(-100, 100, 4)\n",
        "X\n"
      ],
      "metadata": {
        "id": "giwIh5g2A_N1",
        "colab": {
          "base_uri": "https://localhost:8080/"
        },
        "outputId": "7e6f6038-9d75-43dc-c06f-ca7a77e13d4d"
      },
      "execution_count": 59,
      "outputs": [
        {
          "output_type": "execute_result",
          "data": {
            "text/plain": [
              "<tf.Tensor: shape=(50,), dtype=int32, numpy=\n",
              "array([-100,  -96,  -92,  -88,  -84,  -80,  -76,  -72,  -68,  -64,  -60,\n",
              "        -56,  -52,  -48,  -44,  -40,  -36,  -32,  -28,  -24,  -20,  -16,\n",
              "        -12,   -8,   -4,    0,    4,    8,   12,   16,   20,   24,   28,\n",
              "         32,   36,   40,   44,   48,   52,   56,   60,   64,   68,   72,\n",
              "         76,   80,   84,   88,   92,   96], dtype=int32)>"
            ]
          },
          "metadata": {},
          "execution_count": 59
        }
      ]
    },
    {
      "cell_type": "code",
      "source": [
        "# Make labels for the dataset\n",
        "y = X + 10\n",
        "y"
      ],
      "metadata": {
        "colab": {
          "base_uri": "https://localhost:8080/"
        },
        "id": "r68zcSQsBagK",
        "outputId": "c95a4c4d-52a7-4140-8b25-bce5bb4708b1"
      },
      "execution_count": 60,
      "outputs": [
        {
          "output_type": "execute_result",
          "data": {
            "text/plain": [
              "<tf.Tensor: shape=(50,), dtype=int32, numpy=\n",
              "array([-90, -86, -82, -78, -74, -70, -66, -62, -58, -54, -50, -46, -42,\n",
              "       -38, -34, -30, -26, -22, -18, -14, -10,  -6,  -2,   2,   6,  10,\n",
              "        14,  18,  22,  26,  30,  34,  38,  42,  46,  50,  54,  58,  62,\n",
              "        66,  70,  74,  78,  82,  86,  90,  94,  98, 102, 106], dtype=int32)>"
            ]
          },
          "metadata": {},
          "execution_count": 60
        }
      ]
    },
    {
      "cell_type": "code",
      "source": [
        "# Visualize the data\n",
        "plt.scatter(X, y)"
      ],
      "metadata": {
        "colab": {
          "base_uri": "https://localhost:8080/",
          "height": 282
        },
        "id": "BMgQdWCQBhGq",
        "outputId": "ff6234be-5d06-4888-a92a-3cc7017d5eeb"
      },
      "execution_count": 62,
      "outputs": [
        {
          "output_type": "execute_result",
          "data": {
            "text/plain": [
              "<matplotlib.collections.PathCollection at 0x7f82b959eee0>"
            ]
          },
          "metadata": {},
          "execution_count": 62
        },
        {
          "output_type": "display_data",
          "data": {
            "text/plain": [
              "<Figure size 432x288 with 1 Axes>"
            ],
            "image/png": "[encoded data removed]"
          },
          "metadata": {
            "needs_background": "light"
          }
        }
      ]
    },
    {
      "cell_type": "markdown",
      "source": [
        "### The 3 sets..."
      ],
      "metadata": {
        "id": "cRggunV_Bo0u"
      }
    },
    {
      "cell_type": "code",
      "source": [],
      "metadata": {
        "id": "RTTTPyBgCCHX"
      },
      "execution_count": null,
      "outputs": []
    }
  ]
}